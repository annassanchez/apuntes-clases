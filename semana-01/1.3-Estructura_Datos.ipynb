{
 "cells": [
  {
   "cell_type": "markdown",
   "id": "c4faa7e5",
   "metadata": {
    "toc": true
   },
   "source": [
    "<h1>Table of Contents<span class=\"tocSkip\"></span></h1>\n",
    "<div class=\"toc\"><ul class=\"toc-item\"><li><span><a href=\"#Listas\" data-toc-modified-id=\"Listas-1\"><span class=\"toc-item-num\">1&nbsp;&nbsp;</span>Listas</a></span><ul class=\"toc-item\"><li><span><a href=\"#Creación-de-listas\" data-toc-modified-id=\"Creación-de-listas-1.1\"><span class=\"toc-item-num\">1.1&nbsp;&nbsp;</span>Creación de listas</a></span></li><li><span><a href=\"#Propiedades-de-las-listas\" data-toc-modified-id=\"Propiedades-de-las-listas-1.2\"><span class=\"toc-item-num\">1.2&nbsp;&nbsp;</span>Propiedades de las listas</a></span></li><li><span><a href=\"#Indexación\" data-toc-modified-id=\"Indexación-1.3\"><span class=\"toc-item-num\">1.3&nbsp;&nbsp;</span>Indexación</a></span></li><li><span><a href=\"#Métodos-de-las-listas\" data-toc-modified-id=\"Métodos-de-las-listas-1.4\"><span class=\"toc-item-num\">1.4&nbsp;&nbsp;</span>Métodos de las listas</a></span></li></ul></li><li><span><a href=\"#Tuplas\" data-toc-modified-id=\"Tuplas-2\"><span class=\"toc-item-num\">2&nbsp;&nbsp;</span>Tuplas</a></span><ul class=\"toc-item\"><li><span><a href=\"#Creación-de-tuplas\" data-toc-modified-id=\"Creación-de-tuplas-2.1\"><span class=\"toc-item-num\">2.1&nbsp;&nbsp;</span>Creación de tuplas</a></span></li><li><span><a href=\"#Propiedades-de-las-tuplas\" data-toc-modified-id=\"Propiedades-de-las-tuplas-2.2\"><span class=\"toc-item-num\">2.2&nbsp;&nbsp;</span>Propiedades de las tuplas</a></span></li><li><span><a href=\"#Indexación\" data-toc-modified-id=\"Indexación-2.3\"><span class=\"toc-item-num\">2.3&nbsp;&nbsp;</span>Indexación</a></span></li><li><span><a href=\"#Métodos-de-las-tuplas\" data-toc-modified-id=\"Métodos-de-las-tuplas-2.4\"><span class=\"toc-item-num\">2.4&nbsp;&nbsp;</span>Métodos de las tuplas</a></span></li></ul></li><li><span><a href=\"#Diccionarios\" data-toc-modified-id=\"Diccionarios-3\"><span class=\"toc-item-num\">3&nbsp;&nbsp;</span>Diccionarios</a></span><ul class=\"toc-item\"><li><span><a href=\"#Creación-de-diccionarios\" data-toc-modified-id=\"Creación-de-diccionarios-3.1\"><span class=\"toc-item-num\">3.1&nbsp;&nbsp;</span>Creación de diccionarios</a></span></li><li><span><a href=\"#Propiedades-de-los-diccionarios\" data-toc-modified-id=\"Propiedades-de-los-diccionarios-3.2\"><span class=\"toc-item-num\">3.2&nbsp;&nbsp;</span>Propiedades de los diccionarios</a></span></li><li><span><a href=\"#Indexación-de-los-diccionarios\" data-toc-modified-id=\"Indexación-de-los-diccionarios-3.3\"><span class=\"toc-item-num\">3.3&nbsp;&nbsp;</span>Indexación de los diccionarios</a></span></li><li><span><a href=\"#Métodos-de-los-diccionarios\" data-toc-modified-id=\"Métodos-de-los-diccionarios-3.4\"><span class=\"toc-item-num\">3.4&nbsp;&nbsp;</span>Métodos de los diccionarios</a></span></li></ul></li><li><span><a href=\"#Sets\" data-toc-modified-id=\"Sets-4\"><span class=\"toc-item-num\">4&nbsp;&nbsp;</span>Sets</a></span><ul class=\"toc-item\"><li><span><a href=\"#Creación-de-sets\" data-toc-modified-id=\"Creación-de-sets-4.1\"><span class=\"toc-item-num\">4.1&nbsp;&nbsp;</span>Creación de <em>sets</em></a></span></li><li><span><a href=\"#Indexación-de-sets\" data-toc-modified-id=\"Indexación-de-sets-4.2\"><span class=\"toc-item-num\">4.2&nbsp;&nbsp;</span>Indexación de <em>sets</em></a></span></li><li><span><a href=\"#Métodos-de-los-sets\" data-toc-modified-id=\"Métodos-de-los-sets-4.3\"><span class=\"toc-item-num\">4.3&nbsp;&nbsp;</span>Métodos de los sets</a></span></li></ul></li></ul></div>"
   ]
  },
  {
   "cell_type": "markdown",
   "id": "60d740cc",
   "metadata": {},
   "source": [
    "-----\n",
    "En Python tenemos las siguientes estructuras de datos: \n",
    "    \n",
    "1. Listas\n",
    "\n",
    "\n",
    "2. Tuplas\n",
    "\n",
    "\n",
    "3. Diccionarios\n",
    "\n",
    "\n",
    "4. Sets\n",
    "-----"
   ]
  },
  {
   "cell_type": "markdown",
   "id": "e34fc82c",
   "metadata": {},
   "source": [
    "# Listas"
   ]
  },
  {
   "cell_type": "markdown",
   "id": "089ce273",
   "metadata": {},
   "source": [
    "La listas son variables que almacenan elementos los cuales pueden ser de distintos tipos (*strings*, *integers*, *floats*, listas, etc.). Por lo tanto, una lista es una estructura de datos formada por una secuencia ordenada de objetos.\n",
    "\n",
    "Algunas propiedades de las listas:\n",
    "\n",
    "- Son ordenadas, mantienen el orden en el que han sido definidas.\n",
    "  \n",
    "- Pueden ser formadas por distintos tipos de datos.\n",
    "\n",
    "- Pueden ser indexadas con [i].\n",
    "  \n",
    "- Se pueden anidar, es decir, meter una dentro de la otra.\n",
    "  \n",
    "- Son mutables, ya que sus elementos pueden ser modificados.Se pueden añadir o eliminar elementos. \n",
    "\n",
    "\n",
    "Para poder usar listas tenemos dos opciones: \n",
    "\n",
    "- Usando los `[]`\n",
    "\n",
    "- Usando el méetodo `list()`"
   ]
  },
  {
   "cell_type": "markdown",
   "id": "868ca499",
   "metadata": {},
   "source": [
    "## Creación de listas"
   ]
  },
  {
   "cell_type": "code",
   "execution_count": 1,
   "id": "d376d1dd",
   "metadata": {},
   "outputs": [],
   "source": [
    "# definimos una lista usando los []\n",
    "lst = [1,2,4,6,8]"
   ]
  },
  {
   "cell_type": "code",
   "execution_count": 2,
   "id": "7641d295",
   "metadata": {},
   "outputs": [
    {
     "name": "stdout",
     "output_type": "stream",
     "text": [
      "[1, 2, 4, 6, 8] <class 'list'>\n"
     ]
    }
   ],
   "source": [
    "# veamos de que tipo es el objetito que acabamos de crear\n",
    "\n",
    "print(lst, type(lst))"
   ]
  },
  {
   "cell_type": "code",
   "execution_count": 3,
   "id": "0ef9de33",
   "metadata": {},
   "outputs": [
    {
     "name": "stdout",
     "output_type": "stream",
     "text": [
      "<class 'int'>\n",
      "<class 'int'>\n",
      "<class 'int'>\n",
      "<class 'int'>\n",
      "<class 'int'>\n"
     ]
    }
   ],
   "source": [
    "# si queremos saber cual es el tipo de cada uno de los elementos de nuestra lista podemos usar un for loop\n",
    "\n",
    "for elemento in lst:\n",
    "    print(type(elemento))"
   ]
  },
  {
   "cell_type": "code",
   "execution_count": 4,
   "id": "bd067feb",
   "metadata": {},
   "outputs": [],
   "source": [
    "# como hemos dicho, las listas son contenedores que pueden almacenar cualquier tipo de dato, en este caso crearemos una lista con strings dentro\n",
    "lst2 = [\"hola\", 23456, 19.09, 'Adios'] "
   ]
  },
  {
   "cell_type": "code",
   "execution_count": 5,
   "id": "b92ae8c5",
   "metadata": {},
   "outputs": [
    {
     "name": "stdout",
     "output_type": "stream",
     "text": [
      "['hola', 23456, 19.09, 'Adios'] <class 'list'>\n"
     ]
    }
   ],
   "source": [
    "print(lst2, type(lst2))"
   ]
  },
  {
   "cell_type": "markdown",
   "id": "33d723d8",
   "metadata": {},
   "source": [
    "Hemos dicho que podríamos crear una lista usando también el método `list()`. ¿Cómo lo podríamos hacer? "
   ]
  },
  {
   "cell_type": "code",
   "execution_count": 6,
   "id": "b5eff269",
   "metadata": {},
   "outputs": [],
   "source": [
    "# imaginemos que tenemos una string llamado saludo\n",
    "\n",
    "saludo = \"Hola, que tal\""
   ]
  },
  {
   "cell_type": "code",
   "execution_count": 7,
   "id": "1ce6a073",
   "metadata": {},
   "outputs": [
    {
     "data": {
      "text/plain": [
       "['H', 'o', 'l', 'a', ',', ' ', 'q', 'u', 'e', ' ', 't', 'a', 'l']"
      ]
     },
     "execution_count": 7,
     "metadata": {},
     "output_type": "execute_result"
    }
   ],
   "source": [
    "# lo convertimos en lista\n",
    "\n",
    "list(saludo)"
   ]
  },
  {
   "cell_type": "markdown",
   "id": "518673e8",
   "metadata": {},
   "source": [
    "Lo que ocurre cuando convertimos un *string* a una lista es que cada letra de nuestro *string* se convertirá en un elemento de nuestra lista, por lo que tendremos que tener cuidado cuando apliquemos este método. \n",
    "\n",
    "¿Qué pasaría si lo que quiero es convertir una secuencia de números? 👇🏽"
   ]
  },
  {
   "cell_type": "code",
   "execution_count": 8,
   "id": "d00dab54",
   "metadata": {},
   "outputs": [
    {
     "ename": "TypeError",
     "evalue": "list expected at most 1 argument, got 2",
     "output_type": "error",
     "traceback": [
      "\u001b[0;31m---------------------------------------------------------------------------\u001b[0m",
      "\u001b[0;31mTypeError\u001b[0m                                 Traceback (most recent call last)",
      "\u001b[0;32m<ipython-input-8-9ac79b1bc453>\u001b[0m in \u001b[0;36m<module>\u001b[0;34m\u001b[0m\n\u001b[0;32m----> 1\u001b[0;31m \u001b[0mlist\u001b[0m\u001b[0;34m(\u001b[0m\u001b[0;36m2\u001b[0m\u001b[0;34m,\u001b[0m\u001b[0;36m3\u001b[0m\u001b[0;34m)\u001b[0m\u001b[0;34m\u001b[0m\u001b[0;34m\u001b[0m\u001b[0m\n\u001b[0m",
      "\u001b[0;31mTypeError\u001b[0m: list expected at most 1 argument, got 2"
     ]
    }
   ],
   "source": [
    "list(2,3)"
   ]
  },
  {
   "cell_type": "markdown",
   "id": "42f45bd6",
   "metadata": {},
   "source": [
    "Vaya... nos devolvió un error, y es que este método solo acepta un elemento y nosotros le estamos pasando dos!!! Por lo tanto, deberemos pasarle un único elemento a este método. Podrá ser un *string* (como vimos en el caso anterior) otra lista, u otro elemento de python, como una tupla o un diccionario (que aprenderemos a lo largo de esta lección)"
   ]
  },
  {
   "cell_type": "markdown",
   "id": "ba2476d1",
   "metadata": {},
   "source": [
    "## Propiedades de las listas"
   ]
  },
  {
   "cell_type": "code",
   "execution_count": 9,
   "id": "31d44641",
   "metadata": {},
   "outputs": [
    {
     "name": "stdout",
     "output_type": "stream",
     "text": [
      "lst tiene 5 elementos\n",
      "lst2 tiene 4 elementos\n"
     ]
    }
   ],
   "source": [
    "# si queremos saber la longitud de nuestra lista, o lo que es lo mismo, el número de elementos que tiene usaremos el método len\n",
    "print(\"lst tiene\", len(lst), \"elementos\")\n",
    "print(\"lst2 tiene\", len(lst2), \"elementos\")"
   ]
  },
  {
   "cell_type": "code",
   "execution_count": 10,
   "id": "e949243c",
   "metadata": {},
   "outputs": [
    {
     "name": "stdout",
     "output_type": "stream",
     "text": [
      "el máximo es: 8\n",
      "el mínimo es: 1\n"
     ]
    }
   ],
   "source": [
    "# también podemos sacar los valores máximos y mínimos de nuestra lista\n",
    "# ⚠️ NOTA: esto solo se podrá hacer si todos los elementos de la lista son numéricos\n",
    "\n",
    "print(\"el máximo es:\", max(lst))\n",
    "print(\"el mínimo es:\", min(lst))"
   ]
  },
  {
   "cell_type": "code",
   "execution_count": 11,
   "id": "ea6fdd28",
   "metadata": {},
   "outputs": [],
   "source": [
    "# veamos un ejemplo combinando string con números\n",
    "lst3 = [\"alumnos\", 3, \"chocolate\"]"
   ]
  },
  {
   "cell_type": "code",
   "execution_count": 12,
   "id": "3465a4ca",
   "metadata": {},
   "outputs": [
    {
     "ename": "TypeError",
     "evalue": "'>' not supported between instances of 'int' and 'str'",
     "output_type": "error",
     "traceback": [
      "\u001b[0;31m---------------------------------------------------------------------------\u001b[0m",
      "\u001b[0;31mTypeError\u001b[0m                                 Traceback (most recent call last)",
      "\u001b[0;32m<ipython-input-12-2cad000f5f8b>\u001b[0m in \u001b[0;36m<module>\u001b[0;34m\u001b[0m\n\u001b[0;32m----> 1\u001b[0;31m \u001b[0mprint\u001b[0m\u001b[0;34m(\u001b[0m\u001b[0;34m\"el máximo es:\"\u001b[0m\u001b[0;34m,\u001b[0m \u001b[0mmax\u001b[0m\u001b[0;34m(\u001b[0m\u001b[0mlst3\u001b[0m\u001b[0;34m)\u001b[0m\u001b[0;34m)\u001b[0m\u001b[0;34m\u001b[0m\u001b[0;34m\u001b[0m\u001b[0m\n\u001b[0m",
      "\u001b[0;31mTypeError\u001b[0m: '>' not supported between instances of 'int' and 'str'"
     ]
    }
   ],
   "source": [
    "print(\"el máximo es:\", max(lst3))\n"
   ]
  },
  {
   "cell_type": "code",
   "execution_count": 13,
   "id": "81d61d71",
   "metadata": {},
   "outputs": [
    {
     "name": "stdout",
     "output_type": "stream",
     "text": [
      "False\n",
      "True\n"
     ]
    }
   ],
   "source": [
    "# también podemos chequear si un número dado está incluido en nuestra lista:\n",
    "\n",
    "print(5 in lst)\n",
    "print(1 in lst)"
   ]
  },
  {
   "cell_type": "code",
   "execution_count": 14,
   "id": "0c00d2dc",
   "metadata": {},
   "outputs": [
    {
     "data": {
      "text/plain": [
       "True"
      ]
     },
     "execution_count": 14,
     "metadata": {},
     "output_type": "execute_result"
    }
   ],
   "source": [
    "5 not in lst"
   ]
  },
  {
   "cell_type": "markdown",
   "id": "a2333729",
   "metadata": {},
   "source": [
    "## Indexación\n",
    "\n",
    "\n",
    "Como hemos dicho son objetos que tienen orden, al tener orden podemos acceder a cada uno de sus elementos utilizando los índices"
   ]
  },
  {
   "attachments": {},
   "cell_type": "markdown",
   "id": "8093b3a0",
   "metadata": {},
   "source": [
    "![index_listas.png](https://github.com/Ironhack-Data-Madrid-PartTime-Oct22/imagenes/blob/master/semana-1/listas.png?raw=true)"
   ]
  },
  {
   "cell_type": "code",
   "execution_count": 15,
   "id": "50242a15",
   "metadata": {},
   "outputs": [
    {
     "data": {
      "text/plain": [
       "[81,\n",
       " 57,\n",
       " 70,\n",
       " 45,\n",
       " 94,\n",
       " 86,\n",
       " 91,\n",
       " 20,\n",
       " 73,\n",
       " 37,\n",
       " 60,\n",
       " 78,\n",
       " 65,\n",
       " 26,\n",
       " 58,\n",
       " 42,\n",
       " 88,\n",
       " 98,\n",
       " 17,\n",
       " 15]"
      ]
     },
     "execution_count": 15,
     "metadata": {},
     "output_type": "execute_result"
    }
   ],
   "source": [
    "# vamos a crear una secuencia de números aleatorios usando la librería random. \n",
    "import random\n",
    "\n",
    "randomlist = random.sample(range(0, 100), 20) # generamos 20 números aleatorios entre el 1-100\n",
    "randomlist"
   ]
  },
  {
   "cell_type": "code",
   "execution_count": 16,
   "id": "4449489e",
   "metadata": {
    "scrolled": true
   },
   "outputs": [
    {
     "data": {
      "text/plain": [
       "81"
      ]
     },
     "execution_count": 16,
     "metadata": {},
     "output_type": "execute_result"
    }
   ],
   "source": [
    "# accedemos al primer elemento\n",
    "randomlist[0]"
   ]
  },
  {
   "cell_type": "code",
   "execution_count": 17,
   "id": "2243a4f0",
   "metadata": {},
   "outputs": [
    {
     "data": {
      "text/plain": [
       "15"
      ]
     },
     "execution_count": 17,
     "metadata": {},
     "output_type": "execute_result"
    }
   ],
   "source": [
    "# accedemos al último elemento\n",
    "randomlist[-1]"
   ]
  },
  {
   "cell_type": "code",
   "execution_count": 18,
   "id": "e4ccc2af",
   "metadata": {},
   "outputs": [
    {
     "data": {
      "text/plain": [
       "15"
      ]
     },
     "execution_count": 18,
     "metadata": {},
     "output_type": "execute_result"
    }
   ],
   "source": [
    "# otra forma de acceder al último elemento\n",
    "\n",
    "randomlist[(len(randomlist) - 1)]"
   ]
  },
  {
   "cell_type": "code",
   "execution_count": 19,
   "id": "611569eb",
   "metadata": {},
   "outputs": [
    {
     "data": {
      "text/plain": [
       "[81, 57]"
      ]
     },
     "execution_count": 19,
     "metadata": {},
     "output_type": "execute_result"
    }
   ],
   "source": [
    "# accedemos a los dos primero elementos\n",
    "randomlist[:2]\n",
    "\n",
    "# randomlist[0:2] es lo mismo que lo anterior"
   ]
  },
  {
   "cell_type": "code",
   "execution_count": 20,
   "id": "c9f712da",
   "metadata": {},
   "outputs": [
    {
     "data": {
      "text/plain": [
       "[20, 73, 37, 60, 78, 65, 26, 58, 42, 88, 98, 17, 15]"
      ]
     },
     "execution_count": 20,
     "metadata": {},
     "output_type": "execute_result"
    }
   ],
   "source": [
    "# accedemos a todos los elementos menos los siete primeros\n",
    "randomlist[7:]"
   ]
  },
  {
   "cell_type": "code",
   "execution_count": 21,
   "id": "d589ef08",
   "metadata": {},
   "outputs": [
    {
     "data": {
      "text/plain": [
       "[70, 94, 91, 73]"
      ]
     },
     "execution_count": 21,
     "metadata": {},
     "output_type": "execute_result"
    }
   ],
   "source": [
    "# [start:stop:step]\n",
    "randomlist[2:10:2]"
   ]
  },
  {
   "cell_type": "markdown",
   "id": "565e5ecc",
   "metadata": {},
   "source": [
    "## Métodos de las listas\n",
    "El el objeto de tipo lista tiene una serie de métodos integrados. Veamos algunos de los principales:"
   ]
  },
  {
   "cell_type": "code",
   "execution_count": 22,
   "id": "b026ac08",
   "metadata": {},
   "outputs": [],
   "source": [
    "# crearemos una lista nueva utilizando el método range\n",
    "lst4 = list(range(1,100, 2))"
   ]
  },
  {
   "cell_type": "code",
   "execution_count": 23,
   "id": "46f8358e",
   "metadata": {},
   "outputs": [
    {
     "name": "stdout",
     "output_type": "stream",
     "text": [
      "[1, 3, 5, 7, 9, 11, 13, 15, 17, 19, 21, 23, 25, 27, 29, 31, 33, 35, 37, 39, 41, 43, 45, 47, 49, 51, 53, 55, 57, 59, 61, 63, 65, 67, 69, 71, 73, 75, 77, 79, 81, 83, 85, 87, 89, 91, 93, 95, 97, 99]\n"
     ]
    }
   ],
   "source": [
    "print(lst4)"
   ]
  },
  {
   "cell_type": "markdown",
   "id": "866e9c8d",
   "metadata": {},
   "source": [
    "`index`: devuelve el índice en el que aparece un elemento"
   ]
  },
  {
   "cell_type": "code",
   "execution_count": 24,
   "id": "cdd77b29",
   "metadata": {},
   "outputs": [
    {
     "data": {
      "text/plain": [
       "4"
      ]
     },
     "execution_count": 24,
     "metadata": {},
     "output_type": "execute_result"
    }
   ],
   "source": [
    "# ¿en qué posición aparece el número 9?\n",
    "lst4.index(9)"
   ]
  },
  {
   "cell_type": "code",
   "execution_count": 25,
   "id": "f9368542",
   "metadata": {},
   "outputs": [
    {
     "data": {
      "text/plain": [
       "49"
      ]
     },
     "execution_count": 25,
     "metadata": {},
     "output_type": "execute_result"
    }
   ],
   "source": [
    "# ¿en qué posición aparece el número 99?\n",
    "lst4.index(99)"
   ]
  },
  {
   "cell_type": "markdown",
   "id": "8a33c7ab",
   "metadata": {},
   "source": [
    "`append`: añade un elemento al final de la lista"
   ]
  },
  {
   "cell_type": "code",
   "execution_count": 26,
   "id": "6c170553",
   "metadata": {},
   "outputs": [],
   "source": [
    "# añadimos un elemento nuevo (en este caso el número 10) en lst4\n",
    "lst4.append(10)"
   ]
  },
  {
   "cell_type": "code",
   "execution_count": 27,
   "id": "18b48f81",
   "metadata": {},
   "outputs": [
    {
     "name": "stdout",
     "output_type": "stream",
     "text": [
      "[1, 3, 5, 7, 9, 11, 13, 15, 17, 19, 21, 23, 25, 27, 29, 31, 33, 35, 37, 39, 41, 43, 45, 47, 49, 51, 53, 55, 57, 59, 61, 63, 65, 67, 69, 71, 73, 75, 77, 79, 81, 83, 85, 87, 89, 91, 93, 95, 97, 99, 10]\n"
     ]
    }
   ],
   "source": [
    "# si miramos ahora la lista veremos que lst4 tiene un nuevo elemento al final, el número 10. \n",
    "print(lst4)"
   ]
  },
  {
   "cell_type": "code",
   "execution_count": 28,
   "id": "366d4056",
   "metadata": {},
   "outputs": [],
   "source": [
    "# como las listas aceptan distintos tipos de datos, podríamos añadir un elemento que fuera un string\n",
    "lst4.append(\"chorizo\") # podemos apendear strings"
   ]
  },
  {
   "cell_type": "code",
   "execution_count": 29,
   "id": "cd4ec585",
   "metadata": {},
   "outputs": [
    {
     "name": "stdout",
     "output_type": "stream",
     "text": [
      "[1, 3, 5, 7, 9, 11, 13, 15, 17, 19, 21, 23, 25, 27, 29, 31, 33, 35, 37, 39, 41, 43, 45, 47, 49, 51, 53, 55, 57, 59, 61, 63, 65, 67, 69, 71, 73, 75, 77, 79, 81, 83, 85, 87, 89, 91, 93, 95, 97, 99, 10, 'chorizo']\n"
     ]
    }
   ],
   "source": [
    "print(lst4)"
   ]
  },
  {
   "cell_type": "code",
   "execution_count": 30,
   "id": "40bb1ed1",
   "metadata": {},
   "outputs": [],
   "source": [
    "# también podemos apendear listas. Pero atención ⚠️ toda la lista será un elemento, es decir, tendremos una lista de listas\n",
    "\n",
    "lst4.append([\"pepe\",3,4]) \n"
   ]
  },
  {
   "cell_type": "code",
   "execution_count": 31,
   "id": "ad48705f",
   "metadata": {},
   "outputs": [
    {
     "name": "stdout",
     "output_type": "stream",
     "text": [
      "[1, 3, 5, 7, 9, 11, 13, 15, 17, 19, 21, 23, 25, 27, 29, 31, 33, 35, 37, 39, 41, 43, 45, 47, 49, 51, 53, 55, 57, 59, 61, 63, 65, 67, 69, 71, 73, 75, 77, 79, 81, 83, 85, 87, 89, 91, 93, 95, 97, 99, 10, 'chorizo', ['pepe', 3, 4]]\n"
     ]
    }
   ],
   "source": [
    "print(lst4)"
   ]
  },
  {
   "cell_type": "code",
   "execution_count": 32,
   "id": "0e63c1dd",
   "metadata": {},
   "outputs": [
    {
     "data": {
      "text/plain": [
       "['pepe', 3, 4]"
      ]
     },
     "execution_count": 32,
     "metadata": {},
     "output_type": "execute_result"
    }
   ],
   "source": [
    "# Como vimos antes, si accedemos al último elemento de lst4 veremos que es la lista completa\n",
    "lst4[-1]"
   ]
  },
  {
   "cell_type": "code",
   "execution_count": 33,
   "id": "b3c20a04",
   "metadata": {},
   "outputs": [
    {
     "data": {
      "text/plain": [
       "'pepe'"
      ]
     },
     "execution_count": 33,
     "metadata": {},
     "output_type": "execute_result"
    }
   ],
   "source": [
    "# Si queremos acceder a \"pepe\" tendremos que seleccionar la sublista\n",
    "lst4[-1]\n",
    "\n",
    "# dentro de la sublista seleccionar el elemento que está en la posición 0\n",
    "lst4[-1][0]"
   ]
  },
  {
   "cell_type": "markdown",
   "id": "91d908ad",
   "metadata": {},
   "source": [
    "`extend`: une una lista a otra"
   ]
  },
  {
   "cell_type": "code",
   "execution_count": 34,
   "id": "2694da9c",
   "metadata": {},
   "outputs": [
    {
     "data": {
      "text/plain": [
       "[0, 2, 4, 6, 8]"
      ]
     },
     "execution_count": 34,
     "metadata": {},
     "output_type": "execute_result"
    }
   ],
   "source": [
    "# creemos de nuevo una lista nueva\n",
    "\n",
    "lst5 = list(range(0,10,2))\n",
    "lst5"
   ]
  },
  {
   "cell_type": "code",
   "execution_count": 35,
   "id": "7ea39943",
   "metadata": {},
   "outputs": [
    {
     "data": {
      "text/plain": [
       "['alumnos', 3, 'chocolate']"
      ]
     },
     "execution_count": 35,
     "metadata": {},
     "output_type": "execute_result"
    }
   ],
   "source": [
    "# también trabajaremos con la lst3, recordemos como era\n",
    "lst3"
   ]
  },
  {
   "cell_type": "code",
   "execution_count": 36,
   "id": "25c99590",
   "metadata": {},
   "outputs": [
    {
     "name": "stdout",
     "output_type": "stream",
     "text": [
      "[0, 2, 4, 6, 8, 'alumnos', 3, 'chocolate']\n"
     ]
    }
   ],
   "source": [
    "# juntemos la lst5 con la lst3\n",
    "lst5.extend(lst3)\n",
    "print(lst5)"
   ]
  },
  {
   "cell_type": "markdown",
   "id": "754fc546",
   "metadata": {},
   "source": [
    "¿Qué es lo que ha pasado aquí? ¿Qué diferencia al `append()` del `extend()`? \n",
    "\n",
    "- Si nos fijamos cuando usamos el método `extend()` lo que hacemos es añadir los elementos de una lista a otra de uno en uno. \n",
    "\n",
    "- Por el contrario, con el `append()` lo que hacemos es apendear la lista tal cuál, como un elemento más de la lista de origen. "
   ]
  },
  {
   "cell_type": "markdown",
   "id": "ced73f99",
   "metadata": {},
   "source": [
    "`insert`: agrega un elemento a la lista en un índice específico"
   ]
  },
  {
   "cell_type": "markdown",
   "id": "ac56d324",
   "metadata": {},
   "source": [
    " **¡¡¡ RECORDEMOS !!! para usar este método necesitaremos :** \n",
    "\n",
    "1️⃣ La POSICIÓN donde queremos insertar los datos  \n",
    "\n",
    "\n",
    "2️⃣ El DATO que queremos insertar"
   ]
  },
  {
   "cell_type": "code",
   "execution_count": 37,
   "id": "c0a9232a",
   "metadata": {},
   "outputs": [
    {
     "name": "stdout",
     "output_type": "stream",
     "text": [
      "[90, 0, 2, 4, 6, 8, 'alumnos', 3, 'chocolate']\n"
     ]
    }
   ],
   "source": [
    "# insertamos un 90 en la posición 0\n",
    "lst5.insert(0, 90) \n",
    "print(lst5)"
   ]
  },
  {
   "cell_type": "code",
   "execution_count": 38,
   "id": "8e4bb3c0",
   "metadata": {},
   "outputs": [
    {
     "name": "stdout",
     "output_type": "stream",
     "text": [
      "[90, 0, 2, 'hola mundo', 4, 6, 8, 'alumnos', 3, 'chocolate']\n"
     ]
    }
   ],
   "source": [
    "# insertamos un \"hola mundo\" en tercera posición\n",
    "\n",
    "lst5.insert(3, \"hola mundo\")\n",
    "print(lst5)"
   ]
  },
  {
   "cell_type": "markdown",
   "id": "c8eca285",
   "metadata": {},
   "source": [
    "`count`: cuenta el número de veces que aparece un elemento"
   ]
  },
  {
   "cell_type": "code",
   "execution_count": 39,
   "id": "5acf8075",
   "metadata": {},
   "outputs": [
    {
     "data": {
      "text/plain": [
       "1"
      ]
     },
     "execution_count": 39,
     "metadata": {},
     "output_type": "execute_result"
    }
   ],
   "source": [
    "lst5.count(90)"
   ]
  },
  {
   "cell_type": "code",
   "execution_count": 40,
   "id": "1fefcc96",
   "metadata": {},
   "outputs": [
    {
     "data": {
      "text/plain": [
       "0"
      ]
     },
     "execution_count": 40,
     "metadata": {},
     "output_type": "execute_result"
    }
   ],
   "source": [
    "# para encontrar a pepe tenemos que acceder a la lista primero\n",
    "lst3[-1].count(\"pepe\")"
   ]
  },
  {
   "cell_type": "markdown",
   "id": "146a74a9",
   "metadata": {},
   "source": [
    "`reverse`: le da la vuelta a la lista"
   ]
  },
  {
   "cell_type": "code",
   "execution_count": 41,
   "id": "8020a7ee",
   "metadata": {},
   "outputs": [
    {
     "data": {
      "text/plain": [
       "['alumnos', 3, 'chocolate']"
      ]
     },
     "execution_count": 41,
     "metadata": {},
     "output_type": "execute_result"
    }
   ],
   "source": [
    "# recordemos que es lst3\n",
    "lst3"
   ]
  },
  {
   "cell_type": "code",
   "execution_count": 42,
   "id": "49de8683",
   "metadata": {},
   "outputs": [],
   "source": [
    "lst3.reverse()"
   ]
  },
  {
   "cell_type": "code",
   "execution_count": 43,
   "id": "0c6aa290",
   "metadata": {},
   "outputs": [
    {
     "data": {
      "text/plain": [
       "['chocolate', 3, 'alumnos']"
      ]
     },
     "execution_count": 43,
     "metadata": {},
     "output_type": "execute_result"
    }
   ],
   "source": [
    "lst3"
   ]
  },
  {
   "cell_type": "code",
   "execution_count": 44,
   "id": "7e6a1a4c",
   "metadata": {},
   "outputs": [
    {
     "name": "stdout",
     "output_type": "stream",
     "text": [
      "['alumnos', 3, 'chocolate']\n"
     ]
    }
   ],
   "source": [
    "# vereis en algunas ocasiones esta forma de darle la vuelta a una lista\n",
    "print(lst3[::-1])"
   ]
  },
  {
   "cell_type": "markdown",
   "id": "85d576ca",
   "metadata": {},
   "source": [
    "`sort`: ordena automáticamente los elementos de una lista por su valor de menor a mayor\n",
    "\n",
    "🚨 Este método sobreescribe la lista original!"
   ]
  },
  {
   "cell_type": "code",
   "execution_count": 45,
   "id": "6f7f775b",
   "metadata": {
    "scrolled": true
   },
   "outputs": [
    {
     "ename": "TypeError",
     "evalue": "'<' not supported between instances of 'int' and 'str'",
     "output_type": "error",
     "traceback": [
      "\u001b[0;31m---------------------------------------------------------------------------\u001b[0m",
      "\u001b[0;31mTypeError\u001b[0m                                 Traceback (most recent call last)",
      "\u001b[0;32m<ipython-input-45-89fbcff84ea9>\u001b[0m in \u001b[0;36m<module>\u001b[0;34m\u001b[0m\n\u001b[0;32m----> 1\u001b[0;31m \u001b[0mlst3\u001b[0m\u001b[0;34m.\u001b[0m\u001b[0msort\u001b[0m\u001b[0;34m(\u001b[0m\u001b[0;34m)\u001b[0m\u001b[0;34m\u001b[0m\u001b[0;34m\u001b[0m\u001b[0m\n\u001b[0m",
      "\u001b[0;31mTypeError\u001b[0m: '<' not supported between instances of 'int' and 'str'"
     ]
    }
   ],
   "source": [
    "lst3.sort()"
   ]
  },
  {
   "cell_type": "markdown",
   "id": "80ac1371",
   "metadata": {},
   "source": [
    "⚠️ Ojo!!!! Si tenemos en nuestra lista elementos que no todos del mismo tipo no podremos ordenarla. El error que tenemos arriba 👆🏼"
   ]
  },
  {
   "cell_type": "code",
   "execution_count": 46,
   "id": "656e54fc",
   "metadata": {
    "scrolled": true
   },
   "outputs": [],
   "source": [
    "# para hacer el ejemplo de ordenar vamos a crearnos una lista nueva\n",
    "lst6 = [23, 1, 23, 78, 2, 34, 2]"
   ]
  },
  {
   "cell_type": "code",
   "execution_count": 47,
   "id": "66614f47",
   "metadata": {},
   "outputs": [],
   "source": [
    "lst6.sort()"
   ]
  },
  {
   "cell_type": "code",
   "execution_count": 48,
   "id": "1d62fb9f",
   "metadata": {},
   "outputs": [
    {
     "data": {
      "text/plain": [
       "[1, 2, 2, 23, 23, 34, 78]"
      ]
     },
     "execution_count": 48,
     "metadata": {},
     "output_type": "execute_result"
    }
   ],
   "source": [
    "lst6"
   ]
  },
  {
   "cell_type": "markdown",
   "id": "5c996957",
   "metadata": {},
   "source": [
    "**NOTA**: si nos fijamos por defecto ordena de menor a mayor. En caso de que querramos ordenar de mayor a menor podremos utilizar el argumento `reverse = True` para indicar que la ordene al revés"
   ]
  },
  {
   "cell_type": "code",
   "execution_count": 49,
   "id": "bd4e428d",
   "metadata": {},
   "outputs": [],
   "source": [
    "lst6.sort(reverse = True)"
   ]
  },
  {
   "cell_type": "code",
   "execution_count": 50,
   "id": "9410e3a5",
   "metadata": {},
   "outputs": [
    {
     "data": {
      "text/plain": [
       "[78, 34, 23, 23, 2, 2, 1]"
      ]
     },
     "execution_count": 50,
     "metadata": {},
     "output_type": "execute_result"
    }
   ],
   "source": [
    "lst6"
   ]
  },
  {
   "cell_type": "markdown",
   "id": "96376202",
   "metadata": {},
   "source": [
    "¿Qué pasaría si nuestra lista estuviera compuesta por *strings*? "
   ]
  },
  {
   "cell_type": "code",
   "execution_count": 51,
   "id": "1322a07c",
   "metadata": {},
   "outputs": [],
   "source": [
    "lst7 = [\"chorizo\", \"brocoli\", \"patatas\"]"
   ]
  },
  {
   "cell_type": "code",
   "execution_count": 52,
   "id": "b4b8386d",
   "metadata": {},
   "outputs": [
    {
     "data": {
      "text/plain": [
       "['brocoli', 'chorizo', 'patatas']"
      ]
     },
     "execution_count": 52,
     "metadata": {},
     "output_type": "execute_result"
    }
   ],
   "source": [
    "lst7.sort()\n",
    "lst7"
   ]
  },
  {
   "cell_type": "markdown",
   "id": "7d68c1b1",
   "metadata": {},
   "source": [
    "`sorted`: ordena los elementos de una lista, **pero a diferencia del sort no nos sobreescribe la lista original, tendremos que crearnos una variable nueva**"
   ]
  },
  {
   "cell_type": "code",
   "execution_count": 141,
   "id": "70231449",
   "metadata": {},
   "outputs": [],
   "source": [
    "lst8 = [8, 9, 4,26, 19]"
   ]
  },
  {
   "cell_type": "code",
   "execution_count": 142,
   "id": "4ba4adf7",
   "metadata": {},
   "outputs": [
    {
     "data": {
      "text/plain": [
       "[4, 8, 9, 19, 26]"
      ]
     },
     "execution_count": 142,
     "metadata": {},
     "output_type": "execute_result"
    }
   ],
   "source": [
    "sorted(lst8)"
   ]
  },
  {
   "cell_type": "code",
   "execution_count": 144,
   "id": "6d27f3e7",
   "metadata": {},
   "outputs": [
    {
     "data": {
      "text/plain": [
       "[8, 9, 4, 26, 19]"
      ]
     },
     "execution_count": 144,
     "metadata": {},
     "output_type": "execute_result"
    }
   ],
   "source": [
    "# si ahora vemos el resultado el método anterior, veremos que la lista no ha sido modificada. \n",
    "lst8"
   ]
  },
  {
   "cell_type": "code",
   "execution_count": 145,
   "id": "d6ed110f",
   "metadata": {},
   "outputs": [
    {
     "data": {
      "text/plain": [
       "[4, 8, 9, 19, 26]"
      ]
     },
     "execution_count": 145,
     "metadata": {},
     "output_type": "execute_result"
    }
   ],
   "source": [
    "# para guardar los resultados del sorted tendremos que asignarlo a una nueva variable\n",
    "\n",
    "lst8_ordenado = sorted(lst8)\n",
    "lst8_ordenado"
   ]
  },
  {
   "cell_type": "markdown",
   "id": "a4411b02",
   "metadata": {},
   "source": [
    "`pop`: elimina un elemento de la lista. \n",
    "\n",
    "🚨 Por defecto elimina un elemento al azar de la lista. "
   ]
  },
  {
   "cell_type": "code",
   "execution_count": 53,
   "id": "1254a421",
   "metadata": {},
   "outputs": [
    {
     "data": {
      "text/plain": [
       "['chocolate', 3, 'alumnos']"
      ]
     },
     "execution_count": 53,
     "metadata": {},
     "output_type": "execute_result"
    }
   ],
   "source": [
    "lst3"
   ]
  },
  {
   "cell_type": "code",
   "execution_count": 54,
   "id": "9e99b9f1",
   "metadata": {},
   "outputs": [
    {
     "data": {
      "text/plain": [
       "'alumnos'"
      ]
     },
     "execution_count": 54,
     "metadata": {},
     "output_type": "execute_result"
    }
   ],
   "source": [
    "lst3.pop()"
   ]
  },
  {
   "cell_type": "code",
   "execution_count": 55,
   "id": "feb034c3",
   "metadata": {},
   "outputs": [
    {
     "name": "stdout",
     "output_type": "stream",
     "text": [
      "['chocolate', 3]\n"
     ]
    }
   ],
   "source": [
    "print(lst3)"
   ]
  },
  {
   "cell_type": "code",
   "execution_count": 56,
   "id": "3e266b33",
   "metadata": {},
   "outputs": [
    {
     "data": {
      "text/plain": [
       "'chocolate'"
      ]
     },
     "execution_count": 56,
     "metadata": {},
     "output_type": "execute_result"
    }
   ],
   "source": [
    "# 🚨 también le podemos especificar que elemento queremos eliminar a través de su posición\n",
    "lst3.pop(0) #quitamos el elemento 0 de nuestra lista"
   ]
  },
  {
   "cell_type": "code",
   "execution_count": 57,
   "id": "5348f345",
   "metadata": {},
   "outputs": [
    {
     "name": "stdout",
     "output_type": "stream",
     "text": [
      "[3]\n"
     ]
    }
   ],
   "source": [
    "print(lst3)"
   ]
  },
  {
   "cell_type": "markdown",
   "id": "745ec312",
   "metadata": {},
   "source": [
    "`remove`: borra el primer elemento de la lista cuyo valor concuerde con el que especificamos"
   ]
  },
  {
   "cell_type": "code",
   "execution_count": 58,
   "id": "6e554c42",
   "metadata": {},
   "outputs": [
    {
     "data": {
      "text/plain": [
       "[78, 34, 23, 23, 2, 2, 1]"
      ]
     },
     "execution_count": 58,
     "metadata": {},
     "output_type": "execute_result"
    }
   ],
   "source": [
    "lst6"
   ]
  },
  {
   "cell_type": "code",
   "execution_count": 59,
   "id": "45856329",
   "metadata": {},
   "outputs": [],
   "source": [
    "lst6.remove(2)"
   ]
  },
  {
   "cell_type": "code",
   "execution_count": 60,
   "id": "4c8e4850",
   "metadata": {},
   "outputs": [
    {
     "name": "stdout",
     "output_type": "stream",
     "text": [
      "[78, 34, 23, 23, 2, 1]\n"
     ]
    }
   ],
   "source": [
    "print(lst6)"
   ]
  },
  {
   "cell_type": "code",
   "execution_count": 61,
   "id": "c07907b5",
   "metadata": {
    "scrolled": true
   },
   "outputs": [
    {
     "ename": "ValueError",
     "evalue": "list.remove(x): x not in list",
     "output_type": "error",
     "traceback": [
      "\u001b[0;31m---------------------------------------------------------------------------\u001b[0m",
      "\u001b[0;31mValueError\u001b[0m                                Traceback (most recent call last)",
      "\u001b[0;32m<ipython-input-61-eb2f3c6e6371>\u001b[0m in \u001b[0;36m<module>\u001b[0;34m\u001b[0m\n\u001b[1;32m      1\u001b[0m \u001b[0;31m# si especificamos un valor que no esta en nuestra lista nos dará un value error\u001b[0m\u001b[0;34m\u001b[0m\u001b[0;34m\u001b[0m\u001b[0;34m\u001b[0m\u001b[0m\n\u001b[0;32m----> 2\u001b[0;31m \u001b[0mlst3\u001b[0m\u001b[0;34m.\u001b[0m\u001b[0mremove\u001b[0m\u001b[0;34m(\u001b[0m\u001b[0;36m9\u001b[0m\u001b[0;34m)\u001b[0m\u001b[0;34m\u001b[0m\u001b[0;34m\u001b[0m\u001b[0m\n\u001b[0m",
      "\u001b[0;31mValueError\u001b[0m: list.remove(x): x not in list"
     ]
    }
   ],
   "source": [
    "# si especificamos un valor que no esta en nuestra lista nos dará un value error\n",
    "lst3.remove(9)"
   ]
  },
  {
   "cell_type": "markdown",
   "id": "ea592081",
   "metadata": {},
   "source": [
    "`clear`: vacía todos los ítems de una lista"
   ]
  },
  {
   "cell_type": "code",
   "execution_count": 62,
   "id": "ca9de4be",
   "metadata": {},
   "outputs": [],
   "source": [
    "lst3.clear()"
   ]
  },
  {
   "cell_type": "code",
   "execution_count": 63,
   "id": "247e9cae",
   "metadata": {
    "scrolled": true
   },
   "outputs": [
    {
     "data": {
      "text/plain": [
       "[]"
      ]
     },
     "execution_count": 63,
     "metadata": {},
     "output_type": "execute_result"
    }
   ],
   "source": [
    "lst3"
   ]
  },
  {
   "cell_type": "markdown",
   "id": "5e73166d",
   "metadata": {},
   "source": [
    "# Tuplas "
   ]
  },
  {
   "cell_type": "markdown",
   "id": "303c791e",
   "metadata": {},
   "source": [
    "Las tuplas en Python  son muy similares a las listas, pero con dos diferencias:\n",
    "\n",
    "- Son inmutables, lo que significa que no pueden ser modificadas una vez declaradas. \n",
    "  \n",
    "- En vez de inicializarse con corchetes se hace con (). Dependiendo de lo que queramos hacer, las tuplas pueden ser más rápidas.\n",
    "\n",
    "Al igual que las listas las podemos crear de dos formas diferentes: \n",
    "\n",
    "- Usando los `()` como hemos mencionado\n",
    "\n",
    "- Usando el método `tuple()`\n"
   ]
  },
  {
   "cell_type": "markdown",
   "id": "f67bb970",
   "metadata": {},
   "source": [
    "## Creación de tuplas"
   ]
  },
  {
   "cell_type": "code",
   "execution_count": 64,
   "id": "28460aa4",
   "metadata": {},
   "outputs": [],
   "source": [
    "tupla = (1,2,3,4,5,6,7,8,9)"
   ]
  },
  {
   "cell_type": "code",
   "execution_count": 65,
   "id": "21e58fa6",
   "metadata": {},
   "outputs": [
    {
     "data": {
      "text/plain": [
       "tuple"
      ]
     },
     "execution_count": 65,
     "metadata": {},
     "output_type": "execute_result"
    }
   ],
   "source": [
    "type(tupla)"
   ]
  },
  {
   "cell_type": "code",
   "execution_count": 66,
   "id": "bda7068b",
   "metadata": {},
   "outputs": [
    {
     "data": {
      "text/plain": [
       "tuple"
      ]
     },
     "execution_count": 66,
     "metadata": {},
     "output_type": "execute_result"
    }
   ],
   "source": [
    "# otra forma de crear una tupla\n",
    "tupla2 = tuple()\n",
    "type(tupla2)"
   ]
  },
  {
   "cell_type": "code",
   "execution_count": 67,
   "id": "39b9bbc2",
   "metadata": {},
   "outputs": [
    {
     "data": {
      "text/plain": [
       "tuple"
      ]
     },
     "execution_count": 67,
     "metadata": {},
     "output_type": "execute_result"
    }
   ],
   "source": [
    "# otra forma más, lo podemos hacer con números\n",
    "chorizo = 1, \n",
    "type(chorizo)"
   ]
  },
  {
   "cell_type": "code",
   "execution_count": 68,
   "id": "3b6d7413",
   "metadata": {},
   "outputs": [
    {
     "data": {
      "text/plain": [
       "tuple"
      ]
     },
     "execution_count": 68,
     "metadata": {},
     "output_type": "execute_result"
    }
   ],
   "source": [
    "# o con strings\n",
    "brocoli = \"I\", \n",
    "type(brocoli)"
   ]
  },
  {
   "cell_type": "markdown",
   "id": "b4ffa6f5",
   "metadata": {},
   "source": [
    "## Propiedades de las tuplas"
   ]
  },
  {
   "cell_type": "code",
   "execution_count": 69,
   "id": "fe86625a",
   "metadata": {},
   "outputs": [
    {
     "data": {
      "text/plain": [
       "9"
      ]
     },
     "execution_count": 69,
     "metadata": {},
     "output_type": "execute_result"
    }
   ],
   "source": [
    "# Al igual que en las listas podremo usar len() para conocer el número de elementos de la tupla\n",
    "len(tupla)"
   ]
  },
  {
   "cell_type": "code",
   "execution_count": 70,
   "id": "bb45b24f",
   "metadata": {},
   "outputs": [
    {
     "name": "stdout",
     "output_type": "stream",
     "text": [
      "el valor máximo es:  9\n",
      "el valor mínimo es:  1\n"
     ]
    }
   ],
   "source": [
    "# también podremos sacar sus valores máximos y mínimos\n",
    "print(\"el valor máximo es: \", max(tupla))\n",
    "print(\"el valor mínimo es: \" ,min(tupla))"
   ]
  },
  {
   "cell_type": "markdown",
   "id": "8b21f734",
   "metadata": {},
   "source": [
    "**¿Qué significa que son inmutables?** "
   ]
  },
  {
   "cell_type": "code",
   "execution_count": 78,
   "id": "a4cc4dd2",
   "metadata": {},
   "outputs": [
    {
     "name": "stdout",
     "output_type": "stream",
     "text": [
      "[78, 34, 23, 23, 2, 1]\n"
     ]
    }
   ],
   "source": [
    "print(lst6)"
   ]
  },
  {
   "cell_type": "code",
   "execution_count": 79,
   "id": "c68288a0",
   "metadata": {},
   "outputs": [],
   "source": [
    "# Si queremos cambiar el valor de un elemento de una lista solo tendremos que hacer esto\n",
    "# Si queremos reemplazar el 2 (que esta en la posición 0) por un 100\n",
    "lst6[0] = 100"
   ]
  },
  {
   "cell_type": "code",
   "execution_count": 80,
   "id": "d719fbcd",
   "metadata": {},
   "outputs": [
    {
     "name": "stdout",
     "output_type": "stream",
     "text": [
      "[100, 34, 23, 23, 2, 1]\n"
     ]
    }
   ],
   "source": [
    "print(lst6) # el primer 2 se cambió por un 100"
   ]
  },
  {
   "cell_type": "code",
   "execution_count": 82,
   "id": "62009ef2",
   "metadata": {},
   "outputs": [
    {
     "ename": "TypeError",
     "evalue": "'tuple' object does not support item assignment",
     "output_type": "error",
     "traceback": [
      "\u001b[0;31m---------------------------------------------------------------------------\u001b[0m",
      "\u001b[0;31mTypeError\u001b[0m                                 Traceback (most recent call last)",
      "\u001b[0;32m<ipython-input-82-50dcb743e482>\u001b[0m in \u001b[0;36m<module>\u001b[0;34m\u001b[0m\n\u001b[1;32m      1\u001b[0m \u001b[0;31m# si lo intentamos para una tupla nos dará error 🤓, SON INMUTABLES!\u001b[0m\u001b[0;34m\u001b[0m\u001b[0;34m\u001b[0m\u001b[0;34m\u001b[0m\u001b[0m\n\u001b[0;32m----> 2\u001b[0;31m \u001b[0mtupla1\u001b[0m\u001b[0;34m[\u001b[0m\u001b[0;36m0\u001b[0m\u001b[0;34m]\u001b[0m \u001b[0;34m=\u001b[0m \u001b[0;36m20\u001b[0m\u001b[0;34m\u001b[0m\u001b[0;34m\u001b[0m\u001b[0m\n\u001b[0m",
      "\u001b[0;31mTypeError\u001b[0m: 'tuple' object does not support item assignment"
     ]
    }
   ],
   "source": [
    "# si lo intentamos para una tupla nos dará error 🤓, SON INMUTABLES!\n",
    "tupla1[0] = 20"
   ]
  },
  {
   "cell_type": "markdown",
   "id": "6f2cbeac",
   "metadata": {},
   "source": [
    "Podemos hacerla mutable convirtiendola a lista, cambiando lo queremos y volviendola a hacer tupla"
   ]
  },
  {
   "cell_type": "code",
   "execution_count": 83,
   "id": "dbfca797",
   "metadata": {},
   "outputs": [
    {
     "name": "stdout",
     "output_type": "stream",
     "text": [
      "(100, 'Hola', [1, 2, 3], -50)\n"
     ]
    }
   ],
   "source": [
    "print(tupla1)"
   ]
  },
  {
   "cell_type": "code",
   "execution_count": 84,
   "id": "b5b16b4d",
   "metadata": {},
   "outputs": [
    {
     "data": {
      "text/plain": [
       "[100, 'Hola', [1, 2, 3], -50]"
      ]
     },
     "execution_count": 84,
     "metadata": {},
     "output_type": "execute_result"
    }
   ],
   "source": [
    "# vamos a cambiar el primer elemento por un 100. \n",
    "# Primero convertimos a lista\n",
    "\n",
    "lista_tupla = list(tupla1)\n",
    "lista_tupla"
   ]
  },
  {
   "cell_type": "code",
   "execution_count": 86,
   "id": "030c7911",
   "metadata": {},
   "outputs": [
    {
     "data": {
      "text/plain": [
       "[1000, 'Hola', [1, 2, 3], -50]"
      ]
     },
     "execution_count": 86,
     "metadata": {},
     "output_type": "execute_result"
    }
   ],
   "source": [
    "# cambiamos el valor\n",
    "lista_tupla[0] = 1000\n",
    "lista_tupla"
   ]
  },
  {
   "cell_type": "code",
   "execution_count": 87,
   "id": "a2e1802f",
   "metadata": {},
   "outputs": [
    {
     "data": {
      "text/plain": [
       "(1000, 'Hola', [1, 2, 3], -50)"
      ]
     },
     "execution_count": 87,
     "metadata": {},
     "output_type": "execute_result"
    }
   ],
   "source": [
    "# volvemos a convertir a tupla\n",
    "tupla = tuple(lista_tupla)\n",
    "tupla"
   ]
  },
  {
   "cell_type": "code",
   "execution_count": 93,
   "id": "9db3d94d",
   "metadata": {},
   "outputs": [],
   "source": [
    "# otra posible forma de modificar una tupla\n",
    "tup1 = (1,2,3)\n",
    "tup2 = (4,5,6)\n",
    "tup3 = \"Hola\""
   ]
  },
  {
   "cell_type": "code",
   "execution_count": 94,
   "id": "7d6bf729",
   "metadata": {},
   "outputs": [
    {
     "data": {
      "text/plain": [
       "'Hola'"
      ]
     },
     "execution_count": 94,
     "metadata": {},
     "output_type": "execute_result"
    }
   ],
   "source": [
    "tup1 = tup3 \n",
    "tup1"
   ]
  },
  {
   "cell_type": "markdown",
   "id": "d6f52d70",
   "metadata": {},
   "source": [
    "Pero ojo aquí! 🚨 En realidad no la estamos modificando. Estamos creando una tupla nueva y luego machacando el valor original de nuestra tupla"
   ]
  },
  {
   "cell_type": "markdown",
   "id": "73e7b156",
   "metadata": {},
   "source": [
    " 📌 Como son inmutables, no tienen métodos para añadir elementos ( *append*) o eliminar (*pop* o *remove*)"
   ]
  },
  {
   "cell_type": "markdown",
   "id": "f38d8e81",
   "metadata": {},
   "source": [
    "## Indexación\n",
    "\n",
    "📌 La indexación en las tuplas es igual que en las listas"
   ]
  },
  {
   "cell_type": "code",
   "execution_count": 71,
   "id": "17c9ae38",
   "metadata": {},
   "outputs": [],
   "source": [
    "# imaginemos que tenmos la siguiente tupla\n",
    "\n",
    "tupla1 = (100,\"Hola\",[1,2,3],-50)"
   ]
  },
  {
   "cell_type": "code",
   "execution_count": 72,
   "id": "91bcaa39",
   "metadata": {},
   "outputs": [
    {
     "data": {
      "text/plain": [
       "'Hola'"
      ]
     },
     "execution_count": 72,
     "metadata": {},
     "output_type": "execute_result"
    }
   ],
   "source": [
    "tupla1[1]"
   ]
  },
  {
   "cell_type": "code",
   "execution_count": 73,
   "id": "c4908024",
   "metadata": {},
   "outputs": [
    {
     "data": {
      "text/plain": [
       "-50"
      ]
     },
     "execution_count": 73,
     "metadata": {},
     "output_type": "execute_result"
    }
   ],
   "source": [
    "tupla1[-1]"
   ]
  },
  {
   "cell_type": "code",
   "execution_count": 74,
   "id": "9bb04e55",
   "metadata": {},
   "outputs": [
    {
     "name": "stdout",
     "output_type": "stream",
     "text": [
      "<class 'int'>\n"
     ]
    }
   ],
   "source": [
    "print(type(tupla1[0]))"
   ]
  },
  {
   "cell_type": "code",
   "execution_count": 75,
   "id": "c3805163",
   "metadata": {},
   "outputs": [
    {
     "name": "stdout",
     "output_type": "stream",
     "text": [
      "<class 'list'>\n"
     ]
    }
   ],
   "source": [
    "print(type(tupla1[2]))"
   ]
  },
  {
   "cell_type": "code",
   "execution_count": 111,
   "id": "456c93d2",
   "metadata": {},
   "outputs": [
    {
     "data": {
      "text/plain": [
       "(4, 5, 6, 7, 8, 9)"
      ]
     },
     "execution_count": 111,
     "metadata": {},
     "output_type": "execute_result"
    }
   ],
   "source": [
    "tupla[3:]"
   ]
  },
  {
   "cell_type": "markdown",
   "id": "7d4b071c",
   "metadata": {},
   "source": [
    "## Métodos de las tuplas "
   ]
  },
  {
   "cell_type": "code",
   "execution_count": 88,
   "id": "dc0d8fb7",
   "metadata": {},
   "outputs": [],
   "source": [
    "tup = (1,4, \"pepe\", \"zanahoria\", [\"adios\", \"que tal\"])"
   ]
  },
  {
   "cell_type": "markdown",
   "id": "f0a25f2f",
   "metadata": {},
   "source": [
    "`index`: busca un elemento y nos da su posición en la tupla"
   ]
  },
  {
   "cell_type": "code",
   "execution_count": 89,
   "id": "699a2fb3",
   "metadata": {},
   "outputs": [
    {
     "data": {
      "text/plain": [
       "2"
      ]
     },
     "execution_count": 89,
     "metadata": {},
     "output_type": "execute_result"
    }
   ],
   "source": [
    "tup.index(\"pepe\")"
   ]
  },
  {
   "cell_type": "markdown",
   "id": "141cead6",
   "metadata": {},
   "source": [
    "`count`: cuenta cuántas veces aparece un elemento en la tupla"
   ]
  },
  {
   "cell_type": "code",
   "execution_count": 95,
   "id": "d6bfda8b",
   "metadata": {},
   "outputs": [
    {
     "data": {
      "text/plain": [
       "1"
      ]
     },
     "execution_count": 95,
     "metadata": {},
     "output_type": "execute_result"
    }
   ],
   "source": [
    "tup.count(4)"
   ]
  },
  {
   "cell_type": "markdown",
   "id": "5e5d1881",
   "metadata": {},
   "source": [
    "**Cómo son inmutables, no tendremos los métodos que teníamos en listas para eliminar elementos o vaciar la tupla)**"
   ]
  },
  {
   "cell_type": "markdown",
   "id": "8ed37a39",
   "metadata": {},
   "source": [
    "# Diccionarios "
   ]
  },
  {
   "attachments": {},
   "cell_type": "markdown",
   "id": "9763cb45",
   "metadata": {},
   "source": [
    "![image.png](https://github.com/Ironhack-Data-Madrid-PartTime-Oct22/imagenes/blob/master/semana-1/diccionarios.png?raw=true)"
   ]
  },
  {
   "cell_type": "markdown",
   "id": "05c3362f",
   "metadata": {},
   "source": [
    "Los diccionarios en Python nos permiten almacenar una serie de mapeos entre dos conjuntos de elementos, llamados keys and values (Claves y Valores).\n",
    "\n",
    "- Todos los elementos en el diccionario se encuentran encerrados en un par de llaves `{}`.\n",
    "\n",
    "\n",
    "- Cada elemento en un diccionario contiene una clave (*key*) y un valor (*value*) - es decir un par de clave-valor.\n",
    "\n",
    "\n",
    "\n",
    "- Cada par de clave-valor es denominado como elemento (item).\n",
    "\n",
    "\n",
    "- Puede almancenar cualquier tipo de tipo o estructura de datos (*integers*, *floats*, *booleanos*, listas, etc.). \n",
    "\n",
    "\n",
    "- Son **mutables** y **sin orden**.\n",
    "\n",
    "\n",
    "- Las keys son **únicas**. "
   ]
  },
  {
   "cell_type": "markdown",
   "id": "519e0082",
   "metadata": {},
   "source": [
    "-----\n",
    "**¿Cómo podemos crear diccionarios?**\n",
    "\n",
    "- Usando el método `dict()`\n",
    "\n",
    "\n",
    "- Usando las `{}` y definiendo nosotros mismos las `keys` y los `values`"
   ]
  },
  {
   "cell_type": "markdown",
   "id": "ef2fa215",
   "metadata": {},
   "source": [
    "## Creación de diccionarios"
   ]
  },
  {
   "cell_type": "code",
   "execution_count": 96,
   "id": "4d2cd0f4",
   "metadata": {},
   "outputs": [
    {
     "data": {
      "text/plain": [
       "{}"
      ]
     },
     "execution_count": 96,
     "metadata": {},
     "output_type": "execute_result"
    }
   ],
   "source": [
    "# usando dict(). Creamos un diccionario vacio\n",
    "\n",
    "dict1 = dict()\n",
    "dict1"
   ]
  },
  {
   "cell_type": "code",
   "execution_count": 97,
   "id": "0457389e",
   "metadata": {
    "scrolled": true
   },
   "outputs": [
    {
     "data": {
      "text/plain": [
       "{}"
      ]
     },
     "execution_count": 97,
     "metadata": {},
     "output_type": "execute_result"
    }
   ],
   "source": [
    "# usando las {} creamos un diccionario vacío\n",
    "dict2 = {}\n",
    "dict2"
   ]
  },
  {
   "cell_type": "code",
   "execution_count": 98,
   "id": "cd969624",
   "metadata": {},
   "outputs": [
    {
     "data": {
      "text/plain": [
       "{'python': 27, 'plone': 51}"
      ]
     },
     "execution_count": 98,
     "metadata": {},
     "output_type": "execute_result"
    }
   ],
   "source": [
    "# usando las {}\n",
    "dict2 = {'python': 27, 'plone': 51}\n",
    "dict2"
   ]
  },
  {
   "cell_type": "code",
   "execution_count": 99,
   "id": "ec57119c",
   "metadata": {},
   "outputs": [
    {
     "data": {
      "text/plain": [
       "{27: 'python', 51: 'plone'}"
      ]
     },
     "execution_count": 99,
     "metadata": {},
     "output_type": "execute_result"
    }
   ],
   "source": [
    "dict3 = {27:'python', 51:'plone'}\n",
    "dict3"
   ]
  },
  {
   "cell_type": "markdown",
   "id": "8e5c100b",
   "metadata": {},
   "source": [
    "## Propiedades de los diccionarios"
   ]
  },
  {
   "cell_type": "code",
   "execution_count": 129,
   "id": "7589aa5c",
   "metadata": {},
   "outputs": [
    {
     "data": {
      "text/plain": [
       "2"
      ]
     },
     "execution_count": 129,
     "metadata": {},
     "output_type": "execute_result"
    }
   ],
   "source": [
    "# para saber cuantos pares de key:values tenemos usaremos \"len\" como en las listas\n",
    "len(dict2)"
   ]
  },
  {
   "cell_type": "code",
   "execution_count": 130,
   "id": "061350a8",
   "metadata": {},
   "outputs": [
    {
     "data": {
      "text/plain": [
       "dict_keys(['python', 'plone'])"
      ]
     },
     "execution_count": 130,
     "metadata": {},
     "output_type": "execute_result"
    }
   ],
   "source": [
    "# para conocer las keys que tiene nuestro diccionario\n",
    "dict2.keys()"
   ]
  },
  {
   "cell_type": "code",
   "execution_count": 131,
   "id": "3099738b",
   "metadata": {},
   "outputs": [
    {
     "data": {
      "text/plain": [
       "dict_values([27, 51])"
      ]
     },
     "execution_count": 131,
     "metadata": {},
     "output_type": "execute_result"
    }
   ],
   "source": [
    "# para acceder a los values de nuestro diccionario\n",
    "dict2.values()"
   ]
  },
  {
   "cell_type": "code",
   "execution_count": 100,
   "id": "0299a5de",
   "metadata": {},
   "outputs": [
    {
     "data": {
      "text/plain": [
       "dict_items([('python', 27), ('plone', 51)])"
      ]
     },
     "execution_count": 100,
     "metadata": {},
     "output_type": "execute_result"
    }
   ],
   "source": [
    "dict2.items()"
   ]
  },
  {
   "cell_type": "markdown",
   "id": "32d0c980",
   "metadata": {},
   "source": [
    "## Indexación de los diccionarios\n",
    "\n",
    "Ya sabemos crear diccionarios, pero... ¿Cómo accedemos a sus elementos si no tienen orden? "
   ]
  },
  {
   "cell_type": "code",
   "execution_count": 101,
   "id": "6b415374",
   "metadata": {},
   "outputs": [
    {
     "ename": "KeyError",
     "evalue": "0",
     "output_type": "error",
     "traceback": [
      "\u001b[0;31m---------------------------------------------------------------------------\u001b[0m",
      "\u001b[0;31mKeyError\u001b[0m                                  Traceback (most recent call last)",
      "\u001b[0;32m<ipython-input-101-6ba3e953ab4c>\u001b[0m in \u001b[0;36m<module>\u001b[0;34m\u001b[0m\n\u001b[0;32m----> 1\u001b[0;31m \u001b[0mdict2\u001b[0m\u001b[0;34m[\u001b[0m\u001b[0;36m0\u001b[0m\u001b[0;34m]\u001b[0m\u001b[0;34m\u001b[0m\u001b[0;34m\u001b[0m\u001b[0m\n\u001b[0m",
      "\u001b[0;31mKeyError\u001b[0m: 0"
     ]
    }
   ],
   "source": [
    "dict2[0]"
   ]
  },
  {
   "cell_type": "code",
   "execution_count": 102,
   "id": "dcc9636a",
   "metadata": {},
   "outputs": [
    {
     "data": {
      "text/plain": [
       "27"
      ]
     },
     "execution_count": 102,
     "metadata": {},
     "output_type": "execute_result"
    }
   ],
   "source": [
    "# podemos acceder a los valores de un diccionario a través de sus keys\n",
    "dict2[\"python\"]"
   ]
  },
  {
   "cell_type": "code",
   "execution_count": 103,
   "id": "7f890feb",
   "metadata": {},
   "outputs": [
    {
     "data": {
      "text/plain": [
       "51"
      ]
     },
     "execution_count": 103,
     "metadata": {},
     "output_type": "execute_result"
    }
   ],
   "source": [
    "dict2['plone']"
   ]
  },
  {
   "cell_type": "code",
   "execution_count": 104,
   "id": "bc68b748",
   "metadata": {},
   "outputs": [],
   "source": [
    "# para cambiar el value de una key\n",
    "dict2[\"python\"] = 45"
   ]
  },
  {
   "cell_type": "code",
   "execution_count": 105,
   "id": "ed441f68",
   "metadata": {},
   "outputs": [
    {
     "data": {
      "text/plain": [
       "45"
      ]
     },
     "execution_count": 105,
     "metadata": {},
     "output_type": "execute_result"
    }
   ],
   "source": [
    "dict2['python']"
   ]
  },
  {
   "cell_type": "code",
   "execution_count": 106,
   "id": "2fd801a0",
   "metadata": {},
   "outputs": [
    {
     "data": {
      "text/plain": [
       "{'python': 45, 'plone': 51}"
      ]
     },
     "execution_count": 106,
     "metadata": {},
     "output_type": "execute_result"
    }
   ],
   "source": [
    "dict2"
   ]
  },
  {
   "cell_type": "markdown",
   "id": "ec4900c2",
   "metadata": {},
   "source": [
    "## Métodos de los diccionarios"
   ]
  },
  {
   "cell_type": "code",
   "execution_count": 107,
   "id": "f080f6f3",
   "metadata": {},
   "outputs": [],
   "source": [
    "diccionario = {\"Pepe\": 45, \"Rosa\": 30, \"Rodrigo\": 19, \"Irene\": 98}"
   ]
  },
  {
   "cell_type": "markdown",
   "id": "409e87f3",
   "metadata": {},
   "source": [
    "`items`: devuelve una lista de pares de diccionarios(key:values), como tuplas"
   ]
  },
  {
   "cell_type": "code",
   "execution_count": 108,
   "id": "946ae091",
   "metadata": {},
   "outputs": [
    {
     "data": {
      "text/plain": [
       "dict_items([('Pepe', 45), ('Rosa', 30), ('Rodrigo', 19), ('Irene', 98)])"
      ]
     },
     "execution_count": 108,
     "metadata": {},
     "output_type": "execute_result"
    }
   ],
   "source": [
    "diccionario.items()"
   ]
  },
  {
   "cell_type": "markdown",
   "id": "add57cbe",
   "metadata": {},
   "source": [
    "`get`: busca un elemento a partir de su clave"
   ]
  },
  {
   "cell_type": "code",
   "execution_count": 109,
   "id": "92993a78",
   "metadata": {},
   "outputs": [
    {
     "data": {
      "text/plain": [
       "45"
      ]
     },
     "execution_count": 109,
     "metadata": {},
     "output_type": "execute_result"
    }
   ],
   "source": [
    "diccionario.get(\"Pepe\")"
   ]
  },
  {
   "cell_type": "code",
   "execution_count": 110,
   "id": "4405a47f",
   "metadata": {},
   "outputs": [
    {
     "name": "stdout",
     "output_type": "stream",
     "text": [
      "Pepe ----> 45\n",
      "Rosa ----> 30\n",
      "Rodrigo ----> 19\n",
      "Irene ----> 98\n"
     ]
    }
   ],
   "source": [
    "# si queremos ver los pares de key values usando un for tenemos que usar\n",
    "## el método .items()\n",
    "for chorizo, morcilla in diccionario.items():\n",
    "    print(chorizo, \"---->\", morcilla)"
   ]
  },
  {
   "cell_type": "code",
   "execution_count": 111,
   "id": "be21d47d",
   "metadata": {},
   "outputs": [
    {
     "data": {
      "text/plain": [
       "'no existe'"
      ]
     },
     "execution_count": 111,
     "metadata": {},
     "output_type": "execute_result"
    }
   ],
   "source": [
    "# con este método podemos pasar otro parámetro para que en caso de que no exista la key nos devuelva un valor por defecto\n",
    "diccionario.get(\"PEpe\", \"no existe\")"
   ]
  },
  {
   "cell_type": "markdown",
   "id": "689d4519",
   "metadata": {},
   "source": [
    "`setdefault`: es similar al `get`. En este caso, si la *key* no existe la crea y asigna el value del valor por defecto que indicamos"
   ]
  },
  {
   "cell_type": "code",
   "execution_count": 112,
   "id": "8c50ca7f",
   "metadata": {},
   "outputs": [
    {
     "data": {
      "text/plain": [
       "'no existe'"
      ]
     },
     "execution_count": 112,
     "metadata": {},
     "output_type": "execute_result"
    }
   ],
   "source": [
    "diccionario.setdefault(\"PEpe\", 'no existe')"
   ]
  },
  {
   "cell_type": "code",
   "execution_count": 113,
   "id": "2f83152c",
   "metadata": {},
   "outputs": [
    {
     "data": {
      "text/plain": [
       "{'Pepe': 45, 'Rosa': 30, 'Rodrigo': 19, 'Irene': 98, 'PEpe': 'no existe'}"
      ]
     },
     "execution_count": 113,
     "metadata": {},
     "output_type": "execute_result"
    }
   ],
   "source": [
    "diccionario"
   ]
  },
  {
   "cell_type": "code",
   "execution_count": 114,
   "id": "ab1e7f84",
   "metadata": {},
   "outputs": [
    {
     "data": {
      "text/plain": [
       "str"
      ]
     },
     "execution_count": 114,
     "metadata": {},
     "output_type": "execute_result"
    }
   ],
   "source": [
    "type(diccionario['PEpe'])"
   ]
  },
  {
   "cell_type": "markdown",
   "id": "6c329766",
   "metadata": {},
   "source": [
    "`update`: actualiza el diccionario añadiendo un nuevo par de key:value en formato diccionario"
   ]
  },
  {
   "cell_type": "code",
   "execution_count": 115,
   "id": "120a886e",
   "metadata": {},
   "outputs": [],
   "source": [
    "nuevo_item = {\"Ana\":33}\n",
    "diccionario.update(nuevo_item)"
   ]
  },
  {
   "cell_type": "code",
   "execution_count": 116,
   "id": "4abbf296",
   "metadata": {},
   "outputs": [
    {
     "data": {
      "text/plain": [
       "{'Pepe': 45,\n",
       " 'Rosa': 30,\n",
       " 'Rodrigo': 19,\n",
       " 'Irene': 98,\n",
       " 'PEpe': 'no existe',\n",
       " 'Ana': 33}"
      ]
     },
     "execution_count": 116,
     "metadata": {},
     "output_type": "execute_result"
    }
   ],
   "source": [
    "diccionario"
   ]
  },
  {
   "cell_type": "code",
   "execution_count": 117,
   "id": "42e9533f",
   "metadata": {},
   "outputs": [],
   "source": [
    "# lo podemos hacer pasándole directamente el diccionario\n",
    "# podemos incluir todas los key/values que queremos en el update\n",
    "diccionario.update({\"Rocio\": 23, \"Manuel\": 34 })"
   ]
  },
  {
   "cell_type": "markdown",
   "id": "8c5f500e",
   "metadata": {},
   "source": [
    "¿Qué pasa si sumamos dos diccionarios? NOS DA ERROR!!!!"
   ]
  },
  {
   "cell_type": "code",
   "execution_count": 118,
   "id": "0d1140a7",
   "metadata": {},
   "outputs": [],
   "source": [
    "diccionario2 = {\"Lorena\": 3}"
   ]
  },
  {
   "cell_type": "code",
   "execution_count": 119,
   "id": "561b4870",
   "metadata": {},
   "outputs": [
    {
     "ename": "TypeError",
     "evalue": "unsupported operand type(s) for +: 'dict' and 'dict'",
     "output_type": "error",
     "traceback": [
      "\u001b[0;31m---------------------------------------------------------------------------\u001b[0m",
      "\u001b[0;31mTypeError\u001b[0m                                 Traceback (most recent call last)",
      "\u001b[0;32m<ipython-input-119-48c8b34694c0>\u001b[0m in \u001b[0;36m<module>\u001b[0;34m\u001b[0m\n\u001b[0;32m----> 1\u001b[0;31m \u001b[0mdiccionario\u001b[0m \u001b[0;34m+\u001b[0m \u001b[0mdiccionario2\u001b[0m\u001b[0;34m\u001b[0m\u001b[0;34m\u001b[0m\u001b[0m\n\u001b[0m",
      "\u001b[0;31mTypeError\u001b[0m: unsupported operand type(s) for +: 'dict' and 'dict'"
     ]
    }
   ],
   "source": [
    "diccionario + diccionario2"
   ]
  },
  {
   "cell_type": "code",
   "execution_count": 120,
   "id": "7e7a75b8",
   "metadata": {},
   "outputs": [
    {
     "data": {
      "text/plain": [
       "[{'Pepe': 45,\n",
       "  'Rosa': 30,\n",
       "  'Rodrigo': 19,\n",
       "  'Irene': 98,\n",
       "  'PEpe': 'no existe',\n",
       "  'Ana': 33,\n",
       "  'Rocio': 23,\n",
       "  'Manuel': 34},\n",
       " {'Lorena': 3}]"
      ]
     },
     "execution_count": 120,
     "metadata": {},
     "output_type": "execute_result"
    }
   ],
   "source": [
    "# podriamos hacer algo como esto:\n",
    "diccionario3 = [diccionario , diccionario2]\n",
    "diccionario3"
   ]
  },
  {
   "cell_type": "markdown",
   "id": "b149d622",
   "metadata": {},
   "source": [
    "⚠️ Pero ojo! Esto 👆 es una lista de diccionarios"
   ]
  },
  {
   "cell_type": "code",
   "execution_count": 121,
   "id": "3f1b1ed5",
   "metadata": {},
   "outputs": [
    {
     "data": {
      "text/plain": [
       "list"
      ]
     },
     "execution_count": 121,
     "metadata": {},
     "output_type": "execute_result"
    }
   ],
   "source": [
    "type(diccionario3)"
   ]
  },
  {
   "cell_type": "code",
   "execution_count": 122,
   "id": "93f095fd",
   "metadata": {},
   "outputs": [
    {
     "data": {
      "text/plain": [
       "{'Pepe': 45,\n",
       " 'Rosa': 30,\n",
       " 'Rodrigo': 19,\n",
       " 'Irene': 98,\n",
       " 'PEpe': 'no existe',\n",
       " 'Ana': 33,\n",
       " 'Rocio': 23,\n",
       " 'Manuel': 34}"
      ]
     },
     "execution_count": 122,
     "metadata": {},
     "output_type": "execute_result"
    }
   ],
   "source": [
    "# y cada uno de los elementos de mi lista será un diccionario\n",
    "diccionario3[0]"
   ]
  },
  {
   "cell_type": "code",
   "execution_count": 123,
   "id": "3108a300",
   "metadata": {},
   "outputs": [
    {
     "data": {
      "text/plain": [
       "{'Lorena': 3}"
      ]
     },
     "execution_count": 123,
     "metadata": {},
     "output_type": "execute_result"
    }
   ],
   "source": [
    "diccionario3[1]"
   ]
  },
  {
   "cell_type": "markdown",
   "id": "d95f68c8",
   "metadata": {},
   "source": [
    "`sorted`: nos ordena el diccionario"
   ]
  },
  {
   "cell_type": "code",
   "execution_count": 124,
   "id": "764d761d",
   "metadata": {},
   "outputs": [
    {
     "data": {
      "text/plain": [
       "['Ana', 'Irene', 'Manuel', 'PEpe', 'Pepe', 'Rocio', 'Rodrigo', 'Rosa']"
      ]
     },
     "execution_count": 124,
     "metadata": {},
     "output_type": "execute_result"
    }
   ],
   "source": [
    "sorted(diccionario) # ordenamos las keys"
   ]
  },
  {
   "cell_type": "code",
   "execution_count": 125,
   "id": "a03710fa",
   "metadata": {},
   "outputs": [
    {
     "data": {
      "text/plain": [
       "[('Ana', 33),\n",
       " ('Irene', 98),\n",
       " ('Manuel', 34),\n",
       " ('PEpe', 'no existe'),\n",
       " ('Pepe', 45),\n",
       " ('Rocio', 23),\n",
       " ('Rodrigo', 19),\n",
       " ('Rosa', 30)]"
      ]
     },
     "execution_count": 125,
     "metadata": {},
     "output_type": "execute_result"
    }
   ],
   "source": [
    "sorted(diccionario.items())"
   ]
  },
  {
   "cell_type": "code",
   "execution_count": 126,
   "id": "52cc4b0d",
   "metadata": {},
   "outputs": [
    {
     "data": {
      "text/plain": [
       "[('Rosa', 30),\n",
       " ('Rodrigo', 19),\n",
       " ('Rocio', 23),\n",
       " ('Pepe', 45),\n",
       " ('PEpe', 'no existe'),\n",
       " ('Manuel', 34),\n",
       " ('Irene', 98),\n",
       " ('Ana', 33)]"
      ]
     },
     "execution_count": 126,
     "metadata": {},
     "output_type": "execute_result"
    }
   ],
   "source": [
    "sorted(diccionario.items(), reverse = True)"
   ]
  },
  {
   "cell_type": "markdown",
   "id": "cb0c513d",
   "metadata": {},
   "source": [
    "`copy`: hace una copia exacta de nuestro diccionario"
   ]
  },
  {
   "cell_type": "code",
   "execution_count": 127,
   "id": "2c8eb7b8",
   "metadata": {},
   "outputs": [],
   "source": [
    "diccionario2 = diccionario.copy()"
   ]
  },
  {
   "cell_type": "code",
   "execution_count": 128,
   "id": "7632cea4",
   "metadata": {},
   "outputs": [
    {
     "data": {
      "text/plain": [
       "{'Pepe': 45,\n",
       " 'Rosa': 30,\n",
       " 'Rodrigo': 19,\n",
       " 'Irene': 98,\n",
       " 'PEpe': 'no existe',\n",
       " 'Ana': 33,\n",
       " 'Rocio': 23,\n",
       " 'Manuel': 34}"
      ]
     },
     "execution_count": 128,
     "metadata": {},
     "output_type": "execute_result"
    }
   ],
   "source": [
    "diccionario2"
   ]
  },
  {
   "cell_type": "markdown",
   "id": "3dbafb3c",
   "metadata": {},
   "source": [
    "¿Qué pasa si no uso `copy` y hago la igualdad de diccionarios? "
   ]
  },
  {
   "cell_type": "code",
   "execution_count": 129,
   "id": "e93ef365",
   "metadata": {},
   "outputs": [],
   "source": [
    "diccionario4 = diccionario"
   ]
  },
  {
   "cell_type": "code",
   "execution_count": 130,
   "id": "ecdb2564",
   "metadata": {},
   "outputs": [
    {
     "data": {
      "text/plain": [
       "{'Pepe': 45,\n",
       " 'Rosa': 30,\n",
       " 'Rodrigo': 19,\n",
       " 'Irene': 98,\n",
       " 'PEpe': 'no existe',\n",
       " 'Ana': 33,\n",
       " 'Rocio': 23,\n",
       " 'Manuel': 34}"
      ]
     },
     "execution_count": 130,
     "metadata": {},
     "output_type": "execute_result"
    }
   ],
   "source": [
    "diccionario4"
   ]
  },
  {
   "cell_type": "code",
   "execution_count": 131,
   "id": "37faafe9",
   "metadata": {},
   "outputs": [
    {
     "data": {
      "text/plain": [
       "{'Pepe': 100,\n",
       " 'Rosa': 30,\n",
       " 'Rodrigo': 19,\n",
       " 'Irene': 98,\n",
       " 'PEpe': 'no existe',\n",
       " 'Ana': 33,\n",
       " 'Rocio': 23,\n",
       " 'Manuel': 34}"
      ]
     },
     "execution_count": 131,
     "metadata": {},
     "output_type": "execute_result"
    }
   ],
   "source": [
    "# vamos a hacer una modificacion en diccionario4\n",
    "\n",
    "diccionario4[\"Pepe\"] = 100\n",
    "diccionario4"
   ]
  },
  {
   "cell_type": "code",
   "execution_count": 132,
   "id": "00505cec",
   "metadata": {},
   "outputs": [
    {
     "data": {
      "text/plain": [
       "{'Pepe': 100,\n",
       " 'Rosa': 30,\n",
       " 'Rodrigo': 19,\n",
       " 'Irene': 98,\n",
       " 'PEpe': 'no existe',\n",
       " 'Ana': 33,\n",
       " 'Rocio': 23,\n",
       " 'Manuel': 34}"
      ]
     },
     "execution_count": 132,
     "metadata": {},
     "output_type": "execute_result"
    }
   ],
   "source": [
    "# ¿Qué ha pasado con el diccionario original?\n",
    "diccionario"
   ]
  },
  {
   "cell_type": "markdown",
   "id": "0f76a479",
   "metadata": {},
   "source": [
    "⚠️🚨 SE HA MODIFICADO TAMBIÉN ⚠️🚨. Conclusión, no hacerlo nunca!"
   ]
  },
  {
   "cell_type": "markdown",
   "id": "53cd4081",
   "metadata": {},
   "source": [
    "`pop`: elimina una *key* específica"
   ]
  },
  {
   "cell_type": "code",
   "execution_count": 133,
   "id": "d98a3f33",
   "metadata": {},
   "outputs": [
    {
     "data": {
      "text/plain": [
       "98"
      ]
     },
     "execution_count": 133,
     "metadata": {},
     "output_type": "execute_result"
    }
   ],
   "source": [
    "diccionario.pop(\"Irene\")"
   ]
  },
  {
   "cell_type": "code",
   "execution_count": 134,
   "id": "f9eda635",
   "metadata": {},
   "outputs": [
    {
     "data": {
      "text/plain": [
       "{'Pepe': 100,\n",
       " 'Rosa': 30,\n",
       " 'Rodrigo': 19,\n",
       " 'PEpe': 'no existe',\n",
       " 'Ana': 33,\n",
       " 'Rocio': 23,\n",
       " 'Manuel': 34}"
      ]
     },
     "execution_count": 134,
     "metadata": {},
     "output_type": "execute_result"
    }
   ],
   "source": [
    "diccionario"
   ]
  },
  {
   "cell_type": "code",
   "execution_count": 136,
   "id": "d8ad810f",
   "metadata": {},
   "outputs": [
    {
     "ename": "TypeError",
     "evalue": "pop expected at least 1 argument, got 0",
     "output_type": "error",
     "traceback": [
      "\u001b[0;31m---------------------------------------------------------------------------\u001b[0m",
      "\u001b[0;31mTypeError\u001b[0m                                 Traceback (most recent call last)",
      "\u001b[0;32m<ipython-input-136-4cbb06e34364>\u001b[0m in \u001b[0;36m<module>\u001b[0;34m\u001b[0m\n\u001b[1;32m      1\u001b[0m \u001b[0;31m# si no le pasamos ningún parámetro al pop() nos dará error ya que no sabe que elemento queremos quitar\u001b[0m\u001b[0;34m\u001b[0m\u001b[0;34m\u001b[0m\u001b[0;34m\u001b[0m\u001b[0m\n\u001b[0;32m----> 2\u001b[0;31m \u001b[0mdiccionario\u001b[0m\u001b[0;34m.\u001b[0m\u001b[0mpop\u001b[0m\u001b[0;34m(\u001b[0m\u001b[0;34m)\u001b[0m\u001b[0;34m\u001b[0m\u001b[0;34m\u001b[0m\u001b[0m\n\u001b[0m",
      "\u001b[0;31mTypeError\u001b[0m: pop expected at least 1 argument, got 0"
     ]
    }
   ],
   "source": [
    "# si no le pasamos ningún parámetro al pop() nos dará error ya que no sabe que elemento queremos quitar\n",
    "diccionario.pop()"
   ]
  },
  {
   "cell_type": "markdown",
   "id": "239cfa09",
   "metadata": {},
   "source": [
    "`clear`: elimina todos los elementos del diccionario"
   ]
  },
  {
   "cell_type": "code",
   "execution_count": 137,
   "id": "7173deea",
   "metadata": {},
   "outputs": [],
   "source": [
    "diccionario2.clear()"
   ]
  },
  {
   "cell_type": "code",
   "execution_count": 138,
   "id": "78264700",
   "metadata": {},
   "outputs": [
    {
     "data": {
      "text/plain": [
       "{}"
      ]
     },
     "execution_count": 138,
     "metadata": {},
     "output_type": "execute_result"
    }
   ],
   "source": [
    "diccionario2"
   ]
  },
  {
   "cell_type": "markdown",
   "id": "6a72b878",
   "metadata": {},
   "source": [
    "# Sets "
   ]
  },
  {
   "cell_type": "markdown",
   "id": "1752ce28",
   "metadata": {},
   "source": [
    "Un *set* o conjunto es una colección **no ordenada** de elementos únicos. \n",
    "\n",
    "Los conjuntos son ampliamente utilizados en lógica y matemáticas, y desde Python podemos sacar provecho de sus propiedades para crear código más eficiente y legible en menos tiempo. \n",
    "\n",
    "Los *set* en Python son un tipo que permite almacenar varios elementos y acceder a ellos de una forma muy similar a las listas pero con ciertas diferencias:\n",
    "\n",
    "- Los elementos de un *set* son únicos, lo que significa que no puede haber elementos duplicados.\n",
    "\n",
    "- Los *set* son desordenados, lo que significa que no mantienen el orden de cuando son declarados.\n",
    "\n",
    "- Al igual que las tuplas, sus elementos deben ser inmutables.\n",
    "\n",
    "\n",
    "-----\n",
    "**¿Cómo podemos crear un set?**\n",
    "\n",
    "- Usando el método `set()`\n",
    "\n",
    "- Usando `{}`\n",
    "\n",
    "\n",
    "⚠️ NOTA: lo tenemos que crear vacios y luego vamos añadiendo los elementos. \n"
   ]
  },
  {
   "cell_type": "markdown",
   "id": "5aad8c82",
   "metadata": {},
   "source": [
    "## Creación de *sets*"
   ]
  },
  {
   "cell_type": "code",
   "execution_count": 146,
   "id": "e10c5062",
   "metadata": {
    "scrolled": true
   },
   "outputs": [
    {
     "ename": "TypeError",
     "evalue": "'int' object is not iterable",
     "output_type": "error",
     "traceback": [
      "\u001b[0;31m---------------------------------------------------------------------------\u001b[0m",
      "\u001b[0;31mTypeError\u001b[0m                                 Traceback (most recent call last)",
      "\u001b[0;32m<ipython-input-146-a8619c23ca0f>\u001b[0m in \u001b[0;36m<module>\u001b[0;34m\u001b[0m\n\u001b[0;32m----> 1\u001b[0;31m \u001b[0msets\u001b[0m \u001b[0;34m=\u001b[0m \u001b[0mset\u001b[0m\u001b[0;34m(\u001b[0m\u001b[0;36m2\u001b[0m\u001b[0;34m)\u001b[0m\u001b[0;34m\u001b[0m\u001b[0;34m\u001b[0m\u001b[0m\n\u001b[0m",
      "\u001b[0;31mTypeError\u001b[0m: 'int' object is not iterable"
     ]
    }
   ],
   "source": [
    "sets = set(2)"
   ]
  },
  {
   "cell_type": "code",
   "execution_count": 147,
   "id": "cf3c880e",
   "metadata": {},
   "outputs": [
    {
     "data": {
      "text/plain": [
       "set"
      ]
     },
     "execution_count": 147,
     "metadata": {},
     "output_type": "execute_result"
    }
   ],
   "source": [
    "sets = set()\n",
    "type(sets)"
   ]
  },
  {
   "cell_type": "code",
   "execution_count": 148,
   "id": "77c7a92c",
   "metadata": {},
   "outputs": [
    {
     "data": {
      "text/plain": [
       "dict"
      ]
     },
     "execution_count": 148,
     "metadata": {},
     "output_type": "execute_result"
    }
   ],
   "source": [
    "set2 = {}\n",
    "type(set2)"
   ]
  },
  {
   "cell_type": "code",
   "execution_count": 149,
   "id": "c03c32d8",
   "metadata": {},
   "outputs": [
    {
     "data": {
      "text/plain": [
       "set"
      ]
     },
     "execution_count": 149,
     "metadata": {},
     "output_type": "execute_result"
    }
   ],
   "source": [
    "set3 = {()} \n",
    "type(set3)"
   ]
  },
  {
   "cell_type": "markdown",
   "id": "427474a1",
   "metadata": {},
   "source": [
    "## Indexación de *sets* "
   ]
  },
  {
   "cell_type": "markdown",
   "id": "7258cac9",
   "metadata": {},
   "source": [
    "📌 Como no tienen orden no podemos acceder a sus elementos como en las listas o las tuplas"
   ]
  },
  {
   "cell_type": "code",
   "execution_count": 153,
   "id": "984a5143",
   "metadata": {
    "scrolled": true
   },
   "outputs": [
    {
     "ename": "NameError",
     "evalue": "name 'set4' is not defined",
     "output_type": "error",
     "traceback": [
      "\u001b[0;31m---------------------------------------------------------------------------\u001b[0m",
      "\u001b[0;31mNameError\u001b[0m                                 Traceback (most recent call last)",
      "\u001b[0;32m<ipython-input-153-6b653193afa0>\u001b[0m in \u001b[0;36m<module>\u001b[0;34m\u001b[0m\n\u001b[0;32m----> 1\u001b[0;31m \u001b[0mset4\u001b[0m\u001b[0;34m[\u001b[0m\u001b[0;36m0\u001b[0m\u001b[0;34m]\u001b[0m \u001b[0;31m# no tienen orden por lo tanto no puedo acceder a sus elementos por posición\u001b[0m\u001b[0;34m\u001b[0m\u001b[0;34m\u001b[0m\u001b[0m\n\u001b[0m",
      "\u001b[0;31mNameError\u001b[0m: name 'set4' is not defined"
     ]
    }
   ],
   "source": [
    "set4[0] # no tienen orden por lo tanto no puedo acceder a sus elementos por posición"
   ]
  },
  {
   "cell_type": "markdown",
   "id": "6ad9cad0",
   "metadata": {},
   "source": [
    "## Métodos de los sets "
   ]
  },
  {
   "cell_type": "markdown",
   "id": "23d2219a",
   "metadata": {},
   "source": [
    "`add`: añade un item a un set. Si ya existe no lo añade"
   ]
  },
  {
   "cell_type": "code",
   "execution_count": 150,
   "id": "3783fb63",
   "metadata": {},
   "outputs": [],
   "source": [
    "sets.add(2)\n",
    "sets.add(4)\n",
    "sets.add(9)"
   ]
  },
  {
   "cell_type": "code",
   "execution_count": 151,
   "id": "3be479b5",
   "metadata": {},
   "outputs": [
    {
     "data": {
      "text/plain": [
       "{2, 4, 9}"
      ]
     },
     "execution_count": 151,
     "metadata": {},
     "output_type": "execute_result"
    }
   ],
   "source": [
    "sets"
   ]
  },
  {
   "cell_type": "markdown",
   "id": "401ebbcf",
   "metadata": {},
   "source": [
    "`copy`: hace una copia del set"
   ]
  },
  {
   "cell_type": "code",
   "execution_count": 152,
   "id": "a97340d1",
   "metadata": {},
   "outputs": [
    {
     "data": {
      "text/plain": [
       "{2, 4, 9}"
      ]
     },
     "execution_count": 152,
     "metadata": {},
     "output_type": "execute_result"
    }
   ],
   "source": [
    "sets2 = sets.copy()\n",
    "sets2"
   ]
  },
  {
   "cell_type": "markdown",
   "id": "4a9b5569",
   "metadata": {},
   "source": [
    "`discard`: borra un elemento de un set"
   ]
  },
  {
   "cell_type": "code",
   "execution_count": 176,
   "id": "00dc4331",
   "metadata": {},
   "outputs": [],
   "source": [
    "sets2.discard(4)"
   ]
  },
  {
   "cell_type": "code",
   "execution_count": 177,
   "id": "9702b5d0",
   "metadata": {},
   "outputs": [
    {
     "data": {
      "text/plain": [
       "{2, 9}"
      ]
     },
     "execution_count": 177,
     "metadata": {},
     "output_type": "execute_result"
    }
   ],
   "source": [
    "sets2"
   ]
  },
  {
   "cell_type": "markdown",
   "id": "39896561",
   "metadata": {},
   "source": [
    "`clear`: borra todos los elementos de un set"
   ]
  },
  {
   "cell_type": "code",
   "execution_count": 154,
   "id": "6455af82",
   "metadata": {},
   "outputs": [],
   "source": [
    "sets2.clear()"
   ]
  },
  {
   "cell_type": "code",
   "execution_count": 155,
   "id": "d8054b4d",
   "metadata": {},
   "outputs": [
    {
     "data": {
      "text/plain": [
       "set()"
      ]
     },
     "execution_count": 155,
     "metadata": {},
     "output_type": "execute_result"
    }
   ],
   "source": [
    "sets2"
   ]
  },
  {
   "cell_type": "markdown",
   "id": "6247741e",
   "metadata": {},
   "source": [
    "Los sets tienen una serie de métodos que nos van a permitir realizar comparaciones entre dos sets. Vamos a ver algunos de los más importantes: "
   ]
  },
  {
   "cell_type": "code",
   "execution_count": 156,
   "id": "659b90e4",
   "metadata": {},
   "outputs": [],
   "source": [
    "set3=set([2,2,3,4,4,5,5,5,5,5,5,5,6,7,7,8,98])\n",
    "set4=set([7,8,8,76,6,5,45,54,5,3,56,7,68,8,68,6])"
   ]
  },
  {
   "cell_type": "code",
   "execution_count": 157,
   "id": "9cbea372",
   "metadata": {},
   "outputs": [
    {
     "data": {
      "text/plain": [
       "{2, 3, 4, 5, 6, 7, 8, 98}"
      ]
     },
     "execution_count": 157,
     "metadata": {},
     "output_type": "execute_result"
    }
   ],
   "source": [
    "set3"
   ]
  },
  {
   "cell_type": "code",
   "execution_count": 158,
   "id": "407fba9c",
   "metadata": {},
   "outputs": [
    {
     "data": {
      "text/plain": [
       "{3, 5, 6, 7, 8, 45, 54, 56, 68, 76}"
      ]
     },
     "execution_count": 158,
     "metadata": {},
     "output_type": "execute_result"
    }
   ],
   "source": [
    "set4"
   ]
  },
  {
   "cell_type": "markdown",
   "id": "02799816",
   "metadata": {},
   "source": [
    "`union`: une un set a otro y devuelve el resultado del nuevo conjunto"
   ]
  },
  {
   "cell_type": "code",
   "execution_count": 159,
   "id": "572df028",
   "metadata": {},
   "outputs": [],
   "source": [
    "union_sets = set3.union(set4)"
   ]
  },
  {
   "cell_type": "code",
   "execution_count": 160,
   "id": "320b5647",
   "metadata": {},
   "outputs": [
    {
     "data": {
      "text/plain": [
       "{2, 3, 4, 5, 6, 7, 8, 45, 54, 56, 68, 76, 98}"
      ]
     },
     "execution_count": 160,
     "metadata": {},
     "output_type": "execute_result"
    }
   ],
   "source": [
    "union_sets"
   ]
  },
  {
   "cell_type": "markdown",
   "id": "767e69fe",
   "metadata": {},
   "source": [
    "`intersection`: devuelve un conjunto con los elementos comunes en los dos conjuntos"
   ]
  },
  {
   "cell_type": "code",
   "execution_count": 161,
   "id": "67aec9bc",
   "metadata": {},
   "outputs": [
    {
     "data": {
      "text/plain": [
       "{3, 5, 6, 7, 8}"
      ]
     },
     "execution_count": 161,
     "metadata": {},
     "output_type": "execute_result"
    }
   ],
   "source": [
    "set3.intersection(set4)"
   ]
  },
  {
   "cell_type": "markdown",
   "id": "95f510e8",
   "metadata": {},
   "source": [
    "`issubset`: comprueba si el set es un subconjunto de otro set, es decir, si sus elementos se encuentran **todos** dentro de otro"
   ]
  },
  {
   "cell_type": "code",
   "execution_count": 162,
   "id": "04e91f71",
   "metadata": {},
   "outputs": [
    {
     "data": {
      "text/plain": [
       "False"
      ]
     },
     "execution_count": 162,
     "metadata": {},
     "output_type": "execute_result"
    }
   ],
   "source": [
    "set3.issubset(set4)"
   ]
  },
  {
   "cell_type": "markdown",
   "id": "a143fb01",
   "metadata": {},
   "source": [
    "`difference`: encuentra los elementos no comunes entre los dos sets"
   ]
  },
  {
   "cell_type": "code",
   "execution_count": 163,
   "id": "436ee7bb",
   "metadata": {},
   "outputs": [
    {
     "data": {
      "text/plain": [
       "{2, 4, 98}"
      ]
     },
     "execution_count": 163,
     "metadata": {},
     "output_type": "execute_result"
    }
   ],
   "source": [
    "set3.difference(set4)"
   ]
  },
  {
   "cell_type": "markdown",
   "id": "9808b58f",
   "metadata": {},
   "source": [
    "📝**Diferencias entre las distintas estructuras de datos** 📝"
   ]
  },
  {
   "attachments": {},
   "cell_type": "markdown",
   "id": "bc105665",
   "metadata": {},
   "source": [
    "![alaaaa.png](https://github.com/Ironhack-Data-Madrid-PartTime-Oct22/imagenes/blob/master/semana-1/estructuras_datos.png?raw=true)"
   ]
  },
  {
   "cell_type": "markdown",
   "id": "c2c798c9",
   "metadata": {},
   "source": [
    "**Material adicional**\n",
    "\n",
    "- [Métodos de los diccionarios](https://j2logo.com/python/tutorial/tipo-dict-python/)\n",
    "\n",
    "\n",
    "- [Métodos de los diccionarios II](https://entrenamiento-python-basico.readthedocs.io/es/latest/leccion3/tipo_diccionarios.html)\n",
    "\n",
    "\n",
    "- [Métodos de los sets](https://docs.hektorprofe.net/python/metodos-de-las-colecciones/metodos-de-los-conjuntos/)"
   ]
  }
 ],
 "metadata": {
  "kernelspec": {
   "display_name": "ironhack",
   "language": "python",
   "name": "ironhack"
  },
  "language_info": {
   "codemirror_mode": {
    "name": "ipython",
    "version": 3
   },
   "file_extension": ".py",
   "mimetype": "text/x-python",
   "name": "python",
   "nbconvert_exporter": "python",
   "pygments_lexer": "ipython3",
   "version": "3.8.13"
  },
  "toc": {
   "base_numbering": 1,
   "nav_menu": {},
   "number_sections": true,
   "sideBar": true,
   "skip_h1_title": false,
   "title_cell": "Table of Contents",
   "title_sidebar": "Contents",
   "toc_cell": true,
   "toc_position": {
    "height": "calc(100% - 180px)",
    "left": "10px",
    "top": "150px",
    "width": "384px"
   },
   "toc_section_display": true,
   "toc_window_display": false
  }
 },
 "nbformat": 4,
 "nbformat_minor": 5
}
