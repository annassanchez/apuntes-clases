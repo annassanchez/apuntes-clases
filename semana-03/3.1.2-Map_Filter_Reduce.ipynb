{
 "cells": [
  {
   "cell_type": "markdown",
   "id": "b55e5997",
   "metadata": {
    "toc": true
   },
   "source": [
    "<h1>Table of Contents<span class=\"tocSkip\"></span></h1>\n",
    "<div class=\"toc\"><ul class=\"toc-item\"><li><span><a href=\"#¿Qué-son?\" data-toc-modified-id=\"¿Qué-son?-1\"><span class=\"toc-item-num\">1&nbsp;&nbsp;</span>¿Qué son?</a></span></li><li><span><a href=\"#Map\" data-toc-modified-id=\"Map-2\"><span class=\"toc-item-num\">2&nbsp;&nbsp;</span>Map</a></span></li><li><span><a href=\"#Filter\" data-toc-modified-id=\"Filter-3\"><span class=\"toc-item-num\">3&nbsp;&nbsp;</span>Filter</a></span></li><li><span><a href=\"#Reduce\" data-toc-modified-id=\"Reduce-4\"><span class=\"toc-item-num\">4&nbsp;&nbsp;</span>Reduce</a></span></li></ul></div>"
   ]
  },
  {
   "cell_type": "markdown",
   "id": "a960ac21",
   "metadata": {},
   "source": [
    "# ¿Qué son?"
   ]
  },
  {
   "cell_type": "markdown",
   "id": "ac256c49",
   "metadata": {},
   "source": [
    "- Las tres funciones son funciones incorporadas aplicadas a iterables (listas, tuplas etc.), que realizan operaciones de mapeo, cálculo recursivo y filtrado en los iterables. \n",
    "\n",
    "\n",
    "- Brindan un enfoque más elegante y abreviado para nuestro código.\n",
    "\n",
    "\n",
    "- Estas tres funciones a menudo se usan junto con funciones lambda o *list comprehensions*. \n"
   ]
  },
  {
   "cell_type": "markdown",
   "id": "7d056621",
   "metadata": {},
   "source": [
    "\n",
    "![image.png](https://github.com/Ironhack-Data-Madrid-PartTime-Oct22/imagenes/blob/master/semana-3/MFR.png?raw=true)"
   ]
  },
  {
   "cell_type": "markdown",
   "id": "44a15767",
   "metadata": {},
   "source": [
    "# Map "
   ]
  },
  {
   "cell_type": "markdown",
   "id": "c040a374",
   "metadata": {},
   "source": [
    "Podemos utilizar la función map de Python para generar una nueva lista a partir de un iterable.\n",
    "\n",
    "Map es una función que toma como entrada un iterable y una función. Aplicará a cada elemento de la lista una acción  a través de esta función (o una lambda) y producirá una nueva lista con el mismo número de elementos. "
   ]
  },
  {
   "cell_type": "markdown",
   "id": "2e58fa88",
   "metadata": {},
   "source": [
    "```python\n",
    "# Sintaxis básica de map\n",
    "new_list = list(map(funcion, iterable))\n",
    "```\n",
    "\n",
    "📌 Los iterables pueden ser listas, tuplas o sets"
   ]
  },
  {
   "cell_type": "markdown",
   "id": "b3c2ce86",
   "metadata": {},
   "source": [
    "Podemos usar funciones que vengas predefinidas en Pyhton: "
   ]
  },
  {
   "cell_type": "code",
   "execution_count": 21,
   "id": "243b80f4",
   "metadata": {},
   "outputs": [],
   "source": [
    "lista_palabras = [\"brocoli\", \"jamon\", \"chorizo\", \"huevo\", \"zanahoria\", \"brocoli\"]"
   ]
  },
  {
   "cell_type": "markdown",
   "id": "ee566165",
   "metadata": {},
   "source": [
    "Queremos poner todos los elementos de nuestra lista en mayúscula\n"
   ]
  },
  {
   "cell_type": "code",
   "execution_count": 3,
   "id": "725cf0bd",
   "metadata": {},
   "outputs": [
    {
     "data": {
      "text/plain": [
       "['BROCOLI', 'JAMON', 'CHORIZO', 'HUEVO', 'ZANAHORIA']"
      ]
     },
     "execution_count": 3,
     "metadata": {},
     "output_type": "execute_result"
    }
   ],
   "source": [
    "nueva_lista = []\n",
    "\n",
    "for item in lista_palabras:\n",
    "    nueva_lista.append(item.upper())\n",
    "nueva_lista"
   ]
  },
  {
   "cell_type": "code",
   "execution_count": 13,
   "id": "4b68e54d",
   "metadata": {},
   "outputs": [
    {
     "data": {
      "text/plain": [
       "['BROCOLI', 'JAMON', 'CHORIZO', 'HUEVO', 'ZANAHORIA']"
      ]
     },
     "execution_count": 13,
     "metadata": {},
     "output_type": "execute_result"
    }
   ],
   "source": [
    "\n",
    "nueva_lista2 = [item.upper() for item in lista_palabras]\n",
    "nueva_lista2"
   ]
  },
  {
   "cell_type": "code",
   "execution_count": 22,
   "id": "cfc3e3bf",
   "metadata": {},
   "outputs": [
    {
     "data": {
      "text/plain": [
       "{'BROCOLI', 'CHORIZO', 'HUEVO', 'JAMON', 'ZANAHORIA'}"
      ]
     },
     "execution_count": 22,
     "metadata": {},
     "output_type": "execute_result"
    }
   ],
   "source": [
    "\n",
    "nueva_lista3 = set(map(str.upper, lista_palabras))\n",
    "nueva_lista3"
   ]
  },
  {
   "cell_type": "markdown",
   "id": "e699acd7",
   "metadata": {},
   "source": [
    "También podemos usar funciones que definamos nosotros. En este caso, queremos elevar al cuadrado todos los elementos de una lista de números\n"
   ]
  },
  {
   "cell_type": "code",
   "execution_count": 23,
   "id": "6bc3bf48",
   "metadata": {},
   "outputs": [
    {
     "data": {
      "text/plain": [
       "[24, 5, 6, 22, 11, 17, 25, 39, 27, 3, 35, 41, 9, 15, 47, 28, 4, 34, 30, 19]"
      ]
     },
     "execution_count": 23,
     "metadata": {},
     "output_type": "execute_result"
    }
   ],
   "source": [
    "import random\n",
    "\n",
    "numeros = random.sample(range(1,50), 20)\n",
    "numeros"
   ]
  },
  {
   "cell_type": "code",
   "execution_count": 24,
   "id": "4dfd69f6",
   "metadata": {},
   "outputs": [],
   "source": [
    "def cuadrados(lista_numeros):\n",
    "    numeros_cuadrado = []\n",
    "    \n",
    "    for i in lista_numeros:\n",
    "        numeros_cuadrado.append(i ** 2)\n",
    "    return numeros_cuadrado\n",
    "    "
   ]
  },
  {
   "cell_type": "code",
   "execution_count": 25,
   "id": "fd4cdfd2",
   "metadata": {
    "scrolled": true
   },
   "outputs": [
    {
     "data": {
      "text/plain": [
       "[576,\n",
       " 25,\n",
       " 36,\n",
       " 484,\n",
       " 121,\n",
       " 289,\n",
       " 625,\n",
       " 1521,\n",
       " 729,\n",
       " 9,\n",
       " 1225,\n",
       " 1681,\n",
       " 81,\n",
       " 225,\n",
       " 2209,\n",
       " 784,\n",
       " 16,\n",
       " 1156,\n",
       " 900,\n",
       " 361]"
      ]
     },
     "execution_count": 25,
     "metadata": {},
     "output_type": "execute_result"
    }
   ],
   "source": [
    "cuadrados(numeros)"
   ]
  },
  {
   "cell_type": "code",
   "execution_count": 26,
   "id": "c54894ae",
   "metadata": {},
   "outputs": [
    {
     "ename": "TypeError",
     "evalue": "'int' object is not iterable",
     "output_type": "error",
     "traceback": [
      "\u001b[0;31m---------------------------------------------------------------------------\u001b[0m",
      "\u001b[0;31mTypeError\u001b[0m                                 Traceback (most recent call last)",
      "\u001b[0;32m<ipython-input-26-a660a81a23ec>\u001b[0m in \u001b[0;36m<module>\u001b[0;34m\u001b[0m\n\u001b[0;32m----> 1\u001b[0;31m \u001b[0mlist\u001b[0m\u001b[0;34m(\u001b[0m\u001b[0mmap\u001b[0m\u001b[0;34m(\u001b[0m\u001b[0mcuadrados\u001b[0m\u001b[0;34m,\u001b[0m \u001b[0mnumeros\u001b[0m\u001b[0;34m)\u001b[0m\u001b[0;34m)\u001b[0m\u001b[0;34m\u001b[0m\u001b[0;34m\u001b[0m\u001b[0m\n\u001b[0m",
      "\u001b[0;32m<ipython-input-24-921c690d0214>\u001b[0m in \u001b[0;36mcuadrados\u001b[0;34m(lista_numeros)\u001b[0m\n\u001b[1;32m      2\u001b[0m     \u001b[0mnumeros_cuadrado\u001b[0m \u001b[0;34m=\u001b[0m \u001b[0;34m[\u001b[0m\u001b[0;34m]\u001b[0m\u001b[0;34m\u001b[0m\u001b[0;34m\u001b[0m\u001b[0m\n\u001b[1;32m      3\u001b[0m \u001b[0;34m\u001b[0m\u001b[0m\n\u001b[0;32m----> 4\u001b[0;31m     \u001b[0;32mfor\u001b[0m \u001b[0mi\u001b[0m \u001b[0;32min\u001b[0m \u001b[0mlista_numeros\u001b[0m\u001b[0;34m:\u001b[0m\u001b[0;34m\u001b[0m\u001b[0;34m\u001b[0m\u001b[0m\n\u001b[0m\u001b[1;32m      5\u001b[0m         \u001b[0mnumeros_cuadrado\u001b[0m\u001b[0;34m.\u001b[0m\u001b[0mappend\u001b[0m\u001b[0;34m(\u001b[0m\u001b[0mi\u001b[0m \u001b[0;34m**\u001b[0m \u001b[0;36m2\u001b[0m\u001b[0;34m)\u001b[0m\u001b[0;34m\u001b[0m\u001b[0;34m\u001b[0m\u001b[0m\n\u001b[1;32m      6\u001b[0m     \u001b[0;32mreturn\u001b[0m \u001b[0mnumeros_cuadrado\u001b[0m\u001b[0;34m\u001b[0m\u001b[0;34m\u001b[0m\u001b[0m\n",
      "\u001b[0;31mTypeError\u001b[0m: 'int' object is not iterable"
     ]
    }
   ],
   "source": [
    "list(map(cuadrados, numeros))"
   ]
  },
  {
   "cell_type": "code",
   "execution_count": 27,
   "id": "c46f769d",
   "metadata": {},
   "outputs": [],
   "source": [
    "def cuadrados2(numero):\n",
    "    \n",
    "    return numero ** 2\n",
    "    "
   ]
  },
  {
   "cell_type": "code",
   "execution_count": 28,
   "id": "86a2648f",
   "metadata": {},
   "outputs": [
    {
     "data": {
      "text/plain": [
       "[576,\n",
       " 25,\n",
       " 36,\n",
       " 484,\n",
       " 121,\n",
       " 289,\n",
       " 625,\n",
       " 1521,\n",
       " 729,\n",
       " 9,\n",
       " 1225,\n",
       " 1681,\n",
       " 81,\n",
       " 225,\n",
       " 2209,\n",
       " 784,\n",
       " 16,\n",
       " 1156,\n",
       " 900,\n",
       " 361]"
      ]
     },
     "execution_count": 28,
     "metadata": {},
     "output_type": "execute_result"
    }
   ],
   "source": [
    "list(map(cuadrados2, numeros))"
   ]
  },
  {
   "cell_type": "code",
   "execution_count": 29,
   "id": "507479ed",
   "metadata": {},
   "outputs": [],
   "source": [
    "mi_lambda = lambda x : x**2"
   ]
  },
  {
   "cell_type": "code",
   "execution_count": 30,
   "id": "ab5fa550",
   "metadata": {},
   "outputs": [
    {
     "data": {
      "text/plain": [
       "[576,\n",
       " 25,\n",
       " 36,\n",
       " 484,\n",
       " 121,\n",
       " 289,\n",
       " 625,\n",
       " 1521,\n",
       " 729,\n",
       " 9,\n",
       " 1225,\n",
       " 1681,\n",
       " 81,\n",
       " 225,\n",
       " 2209,\n",
       " 784,\n",
       " 16,\n",
       " 1156,\n",
       " 900,\n",
       " 361]"
      ]
     },
     "execution_count": 30,
     "metadata": {},
     "output_type": "execute_result"
    }
   ],
   "source": [
    "list(map(mi_lambda, numeros))"
   ]
  },
  {
   "cell_type": "code",
   "execution_count": 31,
   "id": "4c5e1c93",
   "metadata": {},
   "outputs": [
    {
     "data": {
      "text/plain": [
       "[576,\n",
       " 25,\n",
       " 36,\n",
       " 484,\n",
       " 121,\n",
       " 289,\n",
       " 625,\n",
       " 1521,\n",
       " 729,\n",
       " 9,\n",
       " 1225,\n",
       " 1681,\n",
       " 81,\n",
       " 225,\n",
       " 2209,\n",
       " 784,\n",
       " 16,\n",
       " 1156,\n",
       " 900,\n",
       " 361]"
      ]
     },
     "execution_count": 31,
     "metadata": {},
     "output_type": "execute_result"
    }
   ],
   "source": [
    "list(map(lambda x : x**2, numeros))"
   ]
  },
  {
   "cell_type": "markdown",
   "id": "85f66b31",
   "metadata": {},
   "source": [
    "🤔🤯 **Retito**, como lo haríamos con una lambda? 🤔🤯"
   ]
  },
  {
   "cell_type": "markdown",
   "id": "ec1c6d68",
   "metadata": {},
   "source": [
    "En el `map` podemos incluir varios iterables. Por ejemplo, tenemos dos listas y queremos elevar el primer número de una lista con el primer elemento de la segunda lista"
   ]
  },
  {
   "cell_type": "code",
   "execution_count": 32,
   "id": "50efc074",
   "metadata": {},
   "outputs": [],
   "source": [
    "lista1 = [1,2,3]\n",
    "lista2 = [4,5,6]"
   ]
  },
  {
   "cell_type": "code",
   "execution_count": 33,
   "id": "16167c3a",
   "metadata": {},
   "outputs": [],
   "source": [
    "elevado = []\n",
    "for num1, num2 in zip(lista1, lista2):\n",
    "    elevado.append(num1 ** num2)\n",
    "    "
   ]
  },
  {
   "cell_type": "code",
   "execution_count": 34,
   "id": "f812ee5c",
   "metadata": {},
   "outputs": [
    {
     "data": {
      "text/plain": [
       "[1, 32, 729]"
      ]
     },
     "execution_count": 34,
     "metadata": {},
     "output_type": "execute_result"
    }
   ],
   "source": [
    "elevado"
   ]
  },
  {
   "cell_type": "code",
   "execution_count": 36,
   "id": "a00be13e",
   "metadata": {},
   "outputs": [
    {
     "name": "stdout",
     "output_type": "stream",
     "text": [
      "0 ---> 1\n",
      "1 ---> 2\n",
      "2 ---> 3\n"
     ]
    }
   ],
   "source": [
    "elevado2 = []\n",
    "for indice, valor in enumerate(lista1):\n",
    "    print(indice, \"--->\", valor)\n",
    "    \n",
    "    elevado2.append(valor ** lista2[indice])\n",
    "    \n",
    "    "
   ]
  },
  {
   "cell_type": "code",
   "execution_count": 37,
   "id": "176d0740",
   "metadata": {},
   "outputs": [
    {
     "data": {
      "text/plain": [
       "[1, 32, 729]"
      ]
     },
     "execution_count": 37,
     "metadata": {},
     "output_type": "execute_result"
    }
   ],
   "source": [
    "elevado2"
   ]
  },
  {
   "cell_type": "code",
   "execution_count": 42,
   "id": "f11815b5",
   "metadata": {},
   "outputs": [],
   "source": [
    "def elevar2 (num1, num2):\n",
    "    elevado = []\n",
    "    for num1, num2 in zip(lista1, lista2):\n",
    "        elevado.append(num1 ** num2)\n",
    "    return elevado"
   ]
  },
  {
   "cell_type": "code",
   "execution_count": 39,
   "id": "849b3528",
   "metadata": {},
   "outputs": [
    {
     "data": {
      "text/plain": [
       "[1, 32, 729]"
      ]
     },
     "execution_count": 39,
     "metadata": {},
     "output_type": "execute_result"
    }
   ],
   "source": [
    "elevar(lista1, lista2)"
   ]
  },
  {
   "cell_type": "code",
   "execution_count": 40,
   "id": "56d82a23",
   "metadata": {},
   "outputs": [],
   "source": [
    "def elevar (num1, num2):\n",
    "    return num1 ** num2"
   ]
  },
  {
   "cell_type": "code",
   "execution_count": 41,
   "id": "2375b403",
   "metadata": {},
   "outputs": [
    {
     "data": {
      "text/plain": [
       "[1, 32, 729]"
      ]
     },
     "execution_count": 41,
     "metadata": {},
     "output_type": "execute_result"
    }
   ],
   "source": [
    "list(map(elevar, lista1, lista2))"
   ]
  },
  {
   "cell_type": "code",
   "execution_count": 43,
   "id": "fe1d4b97",
   "metadata": {},
   "outputs": [
    {
     "data": {
      "text/plain": [
       "[[1, 32, 729], [1, 32, 729], [1, 32, 729]]"
      ]
     },
     "execution_count": 43,
     "metadata": {},
     "output_type": "execute_result"
    }
   ],
   "source": [
    "list(map(elevar2, lista1, lista2))"
   ]
  },
  {
   "cell_type": "markdown",
   "id": "867e1d70",
   "metadata": {},
   "source": [
    "O incluso usando lambdas. Imaginas que queremos sumar los elementos de tres listas diferentes: \n"
   ]
  },
  {
   "cell_type": "code",
   "execution_count": null,
   "id": "4e329d6e",
   "metadata": {},
   "outputs": [],
   "source": []
  },
  {
   "cell_type": "code",
   "execution_count": null,
   "id": "3c8d77ac",
   "metadata": {},
   "outputs": [],
   "source": []
  },
  {
   "cell_type": "code",
   "execution_count": null,
   "id": "7b5b65ad",
   "metadata": {},
   "outputs": [],
   "source": []
  },
  {
   "cell_type": "code",
   "execution_count": null,
   "id": "956b24d4",
   "metadata": {},
   "outputs": [],
   "source": []
  },
  {
   "cell_type": "code",
   "execution_count": null,
   "id": "d1bb5841",
   "metadata": {},
   "outputs": [],
   "source": []
  },
  {
   "cell_type": "code",
   "execution_count": null,
   "id": "dbd09b70",
   "metadata": {},
   "outputs": [],
   "source": []
  },
  {
   "cell_type": "markdown",
   "id": "d7726bdc",
   "metadata": {},
   "source": [
    "# Filter "
   ]
  },
  {
   "cell_type": "markdown",
   "id": "898325c5",
   "metadata": {},
   "source": [
    "Literalmente filtra los elementos según una condición dada. \n",
    "\n",
    "La función comprueba una determinada condición y decide si cada uno de los elementos del iterable cumple la condición dada o no. Después de comprobar la condición, la función verifica verdadero o falso en consecuencia.\n",
    "\n",
    "\n",
    "```python\n",
    "# Sintaxis básica de filter. Es la misma que el map!!\n",
    "new_list = list(filter(funcion, iterable))\n",
    "```\n",
    "\n",
    "\n",
    "\n",
    "📌 El iterable puede ser listas, tuplas, sets"
   ]
  },
  {
   "cell_type": "markdown",
   "id": "0e9abfb4",
   "metadata": {},
   "source": [
    "Supongamos que tenemos una lista de números y queremos filtrar los números \"pequeños\". En este caso, pequeños significa números que son menores de 5. \n",
    "\n",
    "¿Cómo se aplica `filter` para obtener el resultado?"
   ]
  },
  {
   "cell_type": "code",
   "execution_count": 44,
   "id": "4159c197",
   "metadata": {},
   "outputs": [
    {
     "data": {
      "text/plain": [
       "[24, 5, 6, 22, 11, 17, 25, 39, 27, 3, 35, 41, 9, 15, 47, 28, 4, 34, 30, 19]"
      ]
     },
     "execution_count": 44,
     "metadata": {},
     "output_type": "execute_result"
    }
   ],
   "source": [
    "numeros"
   ]
  },
  {
   "cell_type": "code",
   "execution_count": 45,
   "id": "3f678bd6",
   "metadata": {},
   "outputs": [],
   "source": [
    "def filtrar(numero):\n",
    "    if numero % 2 == 0: \n",
    "        return numero"
   ]
  },
  {
   "cell_type": "code",
   "execution_count": 46,
   "id": "9208ca09",
   "metadata": {},
   "outputs": [
    {
     "data": {
      "text/plain": [
       "[24, 6, 22, 28, 4, 34, 30]"
      ]
     },
     "execution_count": 46,
     "metadata": {},
     "output_type": "execute_result"
    }
   ],
   "source": [
    "list(filter(filtrar, numeros))"
   ]
  },
  {
   "cell_type": "code",
   "execution_count": 47,
   "id": "2856f5d9",
   "metadata": {},
   "outputs": [
    {
     "data": {
      "text/plain": [
       "[24,\n",
       " None,\n",
       " 6,\n",
       " 22,\n",
       " None,\n",
       " None,\n",
       " None,\n",
       " None,\n",
       " None,\n",
       " None,\n",
       " None,\n",
       " None,\n",
       " None,\n",
       " None,\n",
       " None,\n",
       " 28,\n",
       " 4,\n",
       " 34,\n",
       " 30,\n",
       " None]"
      ]
     },
     "execution_count": 47,
     "metadata": {},
     "output_type": "execute_result"
    }
   ],
   "source": [
    "list(map(filtrar, numeros))"
   ]
  },
  {
   "cell_type": "code",
   "execution_count": null,
   "id": "49a7d59a",
   "metadata": {},
   "outputs": [],
   "source": [
    "lambda x: x if x % 2 == 0"
   ]
  },
  {
   "cell_type": "code",
   "execution_count": 53,
   "id": "0359c7b9",
   "metadata": {},
   "outputs": [
    {
     "data": {
      "text/plain": [
       "[24, 5, 6, 22, 11, 17, 25, 39, 27, 3, 35, 41, 9, 15, 47, 28, 4, 34, 30, 19]"
      ]
     },
     "execution_count": 53,
     "metadata": {},
     "output_type": "execute_result"
    }
   ],
   "source": [
    "numeros"
   ]
  },
  {
   "cell_type": "code",
   "execution_count": 58,
   "id": "a98e799a",
   "metadata": {},
   "outputs": [
    {
     "ename": "TypeError",
     "evalue": "'int' object is not iterable",
     "output_type": "error",
     "traceback": [
      "\u001b[0;31m---------------------------------------------------------------------------\u001b[0m",
      "\u001b[0;31mTypeError\u001b[0m                                 Traceback (most recent call last)",
      "\u001b[0;32m<ipython-input-58-b86e622d7091>\u001b[0m in \u001b[0;36m<module>\u001b[0;34m\u001b[0m\n\u001b[0;32m----> 1\u001b[0;31m \u001b[0mlist\u001b[0m\u001b[0;34m(\u001b[0m\u001b[0mfilter\u001b[0m\u001b[0;34m(\u001b[0m\u001b[0;32mlambda\u001b[0m \u001b[0mx\u001b[0m\u001b[0;34m:\u001b[0m \u001b[0;34m[\u001b[0m\u001b[0mnumero\u001b[0m  \u001b[0;32mfor\u001b[0m \u001b[0mnumero\u001b[0m \u001b[0;32min\u001b[0m \u001b[0mx\u001b[0m \u001b[0;32mif\u001b[0m  \u001b[0mnumero\u001b[0m \u001b[0;34m%\u001b[0m \u001b[0;36m2\u001b[0m \u001b[0;34m==\u001b[0m \u001b[0;36m0\u001b[0m\u001b[0;34m]\u001b[0m \u001b[0;34m,\u001b[0m \u001b[0mnumeros\u001b[0m\u001b[0;34m)\u001b[0m\u001b[0;34m)\u001b[0m\u001b[0;34m\u001b[0m\u001b[0;34m\u001b[0m\u001b[0m\n\u001b[0m",
      "\u001b[0;32m<ipython-input-58-b86e622d7091>\u001b[0m in \u001b[0;36m<lambda>\u001b[0;34m(x)\u001b[0m\n\u001b[0;32m----> 1\u001b[0;31m \u001b[0mlist\u001b[0m\u001b[0;34m(\u001b[0m\u001b[0mfilter\u001b[0m\u001b[0;34m(\u001b[0m\u001b[0;32mlambda\u001b[0m \u001b[0mx\u001b[0m\u001b[0;34m:\u001b[0m \u001b[0;34m[\u001b[0m\u001b[0mnumero\u001b[0m  \u001b[0;32mfor\u001b[0m \u001b[0mnumero\u001b[0m \u001b[0;32min\u001b[0m \u001b[0mx\u001b[0m \u001b[0;32mif\u001b[0m  \u001b[0mnumero\u001b[0m \u001b[0;34m%\u001b[0m \u001b[0;36m2\u001b[0m \u001b[0;34m==\u001b[0m \u001b[0;36m0\u001b[0m\u001b[0;34m]\u001b[0m \u001b[0;34m,\u001b[0m \u001b[0mnumeros\u001b[0m\u001b[0;34m)\u001b[0m\u001b[0;34m)\u001b[0m\u001b[0;34m\u001b[0m\u001b[0;34m\u001b[0m\u001b[0m\n\u001b[0m",
      "\u001b[0;31mTypeError\u001b[0m: 'int' object is not iterable"
     ]
    }
   ],
   "source": [
    "list(filter(lambda x: [numero  for numero in x if  numero % 2 == 0] , numeros))"
   ]
  },
  {
   "cell_type": "code",
   "execution_count": 59,
   "id": "86eb5b2c",
   "metadata": {},
   "outputs": [],
   "source": [
    "lista_palabras = [\"hola\", \"adios\"]"
   ]
  },
  {
   "cell_type": "code",
   "execution_count": 61,
   "id": "20893347",
   "metadata": {},
   "outputs": [
    {
     "data": {
      "text/plain": [
       "[['H', 'O', 'L', 'A'], ['A', 'D', 'I', 'O', 'S']]"
      ]
     },
     "execution_count": 61,
     "metadata": {},
     "output_type": "execute_result"
    }
   ],
   "source": [
    "list(map(lambda x: [i.upper() for i in x], lista_palabras))"
   ]
  },
  {
   "cell_type": "code",
   "execution_count": 62,
   "id": "d4915eb5",
   "metadata": {},
   "outputs": [
    {
     "data": {
      "text/plain": [
       "[24, 5, 6, 22, 11, 17, 25, 39, 27, 3, 35, 41, 9, 15, 47, 28, 4, 34, 30, 19]"
      ]
     },
     "execution_count": 62,
     "metadata": {},
     "output_type": "execute_result"
    }
   ],
   "source": [
    "numeros"
   ]
  },
  {
   "cell_type": "code",
   "execution_count": 63,
   "id": "8acc81f2",
   "metadata": {},
   "outputs": [],
   "source": [
    "def menores_cinco(numero):\n",
    "    return numero < 5"
   ]
  },
  {
   "cell_type": "code",
   "execution_count": 64,
   "id": "71a42d70",
   "metadata": {},
   "outputs": [
    {
     "data": {
      "text/plain": [
       "[3, 4]"
      ]
     },
     "execution_count": 64,
     "metadata": {},
     "output_type": "execute_result"
    }
   ],
   "source": [
    "list(filter(menores_cinco, numeros))"
   ]
  },
  {
   "cell_type": "code",
   "execution_count": 65,
   "id": "f252e7d3",
   "metadata": {},
   "outputs": [
    {
     "data": {
      "text/plain": [
       "[3, 4]"
      ]
     },
     "execution_count": 65,
     "metadata": {},
     "output_type": "execute_result"
    }
   ],
   "source": [
    "list(filter(lambda x : x < 5, numeros))"
   ]
  },
  {
   "cell_type": "markdown",
   "id": "0fc58929",
   "metadata": {},
   "source": [
    "🤔🤯 **Nuevo Retito**, como lo haríamos con una lambda? 🤔🤯"
   ]
  },
  {
   "cell_type": "code",
   "execution_count": null,
   "id": "ce5b943a",
   "metadata": {},
   "outputs": [],
   "source": []
  },
  {
   "cell_type": "markdown",
   "id": "3aee6088",
   "metadata": {},
   "source": [
    "Tenemos una lista de números y tenemos que sacar los impares"
   ]
  },
  {
   "cell_type": "code",
   "execution_count": null,
   "id": "afb9d60a",
   "metadata": {},
   "outputs": [],
   "source": []
  },
  {
   "cell_type": "code",
   "execution_count": null,
   "id": "408a8184",
   "metadata": {},
   "outputs": [],
   "source": []
  },
  {
   "cell_type": "code",
   "execution_count": null,
   "id": "0a9dbd8b",
   "metadata": {},
   "outputs": [],
   "source": []
  },
  {
   "cell_type": "code",
   "execution_count": null,
   "id": "61589be5",
   "metadata": {},
   "outputs": [],
   "source": []
  },
  {
   "cell_type": "code",
   "execution_count": null,
   "id": "bc0722f4",
   "metadata": {},
   "outputs": [],
   "source": []
  },
  {
   "cell_type": "code",
   "execution_count": null,
   "id": "ec6bd8e7",
   "metadata": {
    "scrolled": true
   },
   "outputs": [],
   "source": []
  },
  {
   "cell_type": "code",
   "execution_count": null,
   "id": "12eaf0f4",
   "metadata": {},
   "outputs": [],
   "source": []
  },
  {
   "cell_type": "markdown",
   "id": "a70ca829",
   "metadata": {},
   "source": [
    "🌊💪 **EJERCICIO** 💪🌊\n",
    "\n",
    "Nos van a pasar una lista de palabras y sacar aquellas que tienen \"i\". "
   ]
  },
  {
   "cell_type": "code",
   "execution_count": null,
   "id": "907cbbef",
   "metadata": {},
   "outputs": [],
   "source": []
  },
  {
   "cell_type": "code",
   "execution_count": null,
   "id": "c72c70b1",
   "metadata": {},
   "outputs": [],
   "source": []
  },
  {
   "cell_type": "code",
   "execution_count": null,
   "id": "af47508c",
   "metadata": {},
   "outputs": [],
   "source": []
  },
  {
   "cell_type": "markdown",
   "id": "c46fc2f0",
   "metadata": {},
   "source": [
    "# Reduce "
   ]
  },
  {
   "cell_type": "markdown",
   "id": "8165e1df",
   "metadata": {},
   "source": [
    "Reduce toma una condición y aplica esa condición al iterable de manera que nuestra salida se \"reduce\" a un solo valor.\n",
    "\n",
    "En este caso necesitamos importarnos una librería\n",
    "\n",
    "```python\n",
    "from functools import reduce\n",
    "```\n",
    "\n",
    "\n",
    "\n",
    "```python\n",
    "# Sintaxis básica de reduce, igual que filter y map!\n",
    "new_list = reduce(funcion, iterable) # ⚠️ ojo que en este caso no hay que poner `list`\n",
    "```"
   ]
  },
  {
   "cell_type": "code",
   "execution_count": 66,
   "id": "95cc2211",
   "metadata": {},
   "outputs": [],
   "source": [
    "from functools import reduce"
   ]
  },
  {
   "cell_type": "markdown",
   "id": "43542a17",
   "metadata": {},
   "source": [
    "Queremos encontrar la suma de todos los valores de nuestra lista."
   ]
  },
  {
   "cell_type": "code",
   "execution_count": 67,
   "id": "9a4642c6",
   "metadata": {},
   "outputs": [
    {
     "data": {
      "text/plain": [
       "[95, 79, 14, 10, 75, 1, 78, 41, 47, 94, 55, 37, 68, 71, 42, 15, 30, 96, 57, 61]"
      ]
     },
     "execution_count": 67,
     "metadata": {},
     "output_type": "execute_result"
    }
   ],
   "source": [
    "lista_random = random.sample(range(1,100), 20)\n",
    "lista_random"
   ]
  },
  {
   "cell_type": "code",
   "execution_count": 68,
   "id": "0eb78b9c",
   "metadata": {},
   "outputs": [],
   "source": [
    "def sumar(lista):\n",
    "    resultado = 0\n",
    "    \n",
    "    for i in lista:\n",
    "        resultado += i\n",
    "    return resultado"
   ]
  },
  {
   "cell_type": "code",
   "execution_count": 69,
   "id": "5e2a5c95",
   "metadata": {},
   "outputs": [
    {
     "data": {
      "text/plain": [
       "1066"
      ]
     },
     "execution_count": 69,
     "metadata": {},
     "output_type": "execute_result"
    }
   ],
   "source": [
    "sumar(lista_random)"
   ]
  },
  {
   "cell_type": "code",
   "execution_count": 70,
   "id": "dc30eb6a",
   "metadata": {},
   "outputs": [],
   "source": [
    "def sumar2 (x, y, z):\n",
    "    return (x + y) / z"
   ]
  },
  {
   "cell_type": "code",
   "execution_count": 73,
   "id": "2029f8e0",
   "metadata": {},
   "outputs": [
    {
     "data": {
      "text/plain": [
       "273"
      ]
     },
     "execution_count": 73,
     "metadata": {},
     "output_type": "execute_result"
    }
   ],
   "source": [
    "reduce(sumar2, lista_random[10:15])"
   ]
  },
  {
   "cell_type": "code",
   "execution_count": null,
   "id": "954833e3",
   "metadata": {},
   "outputs": [],
   "source": []
  },
  {
   "cell_type": "code",
   "execution_count": null,
   "id": "cf442a41",
   "metadata": {},
   "outputs": [],
   "source": []
  },
  {
   "cell_type": "code",
   "execution_count": null,
   "id": "2975a546",
   "metadata": {},
   "outputs": [],
   "source": []
  },
  {
   "cell_type": "code",
   "execution_count": null,
   "id": "aedb87f9",
   "metadata": {},
   "outputs": [],
   "source": []
  }
 ],
 "metadata": {
  "kernelspec": {
   "display_name": "ironhack",
   "language": "python",
   "name": "ironhack"
  },
  "language_info": {
   "codemirror_mode": {
    "name": "ipython",
    "version": 3
   },
   "file_extension": ".py",
   "mimetype": "text/x-python",
   "name": "python",
   "nbconvert_exporter": "python",
   "pygments_lexer": "ipython3",
   "version": "3.8.13"
  },
  "toc": {
   "base_numbering": 1,
   "nav_menu": {},
   "number_sections": true,
   "sideBar": true,
   "skip_h1_title": false,
   "title_cell": "Table of Contents",
   "title_sidebar": "Contents",
   "toc_cell": true,
   "toc_position": {},
   "toc_section_display": true,
   "toc_window_display": false
  },
  "varInspector": {
   "cols": {
    "lenName": 16,
    "lenType": 16,
    "lenVar": 40
   },
   "kernels_config": {
    "python": {
     "delete_cmd_postfix": "",
     "delete_cmd_prefix": "del ",
     "library": "var_list.py",
     "varRefreshCmd": "print(var_dic_list())"
    },
    "r": {
     "delete_cmd_postfix": ") ",
     "delete_cmd_prefix": "rm(",
     "library": "var_list.r",
     "varRefreshCmd": "cat(var_dic_list()) "
    }
   },
   "position": {
    "height": "144.844px",
    "left": "1069px",
    "right": "20px",
    "top": "119px",
    "width": "350px"
   },
   "types_to_exclude": [
    "module",
    "function",
    "builtin_function_or_method",
    "instance",
    "_Feature"
   ],
   "window_display": false
  }
 },
 "nbformat": 4,
 "nbformat_minor": 5
}
