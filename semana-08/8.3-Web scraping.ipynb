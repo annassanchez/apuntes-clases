{
 "cells": [
  {
   "cell_type": "markdown",
   "id": "0fd527e2",
   "metadata": {
    "toc": true
   },
   "source": [
    "<h1>Table of Contents<span class=\"tocSkip\"></span></h1>\n",
    "<div class=\"toc\"><ul class=\"toc-item\"><li><span><a href=\"#HTML,-qué-es\" data-toc-modified-id=\"HTML,-qué-es-1\"><span class=\"toc-item-num\">1&nbsp;&nbsp;</span>HTML, qué es</a></span><ul class=\"toc-item\"><li><span><a href=\"#Tags\" data-toc-modified-id=\"Tags-1.1\"><span class=\"toc-item-num\">1.1&nbsp;&nbsp;</span>Tags</a></span></li><li><span><a href=\"#Atributos\" data-toc-modified-id=\"Atributos-1.2\"><span class=\"toc-item-num\">1.2&nbsp;&nbsp;</span>Atributos</a></span></li></ul></li><li><span><a href=\"#Beautiful-soup\" data-toc-modified-id=\"Beautiful-soup-2\"><span class=\"toc-item-num\">2&nbsp;&nbsp;</span>Beautiful soup</a></span></li><li><span><a href=\"#Diferencia-entre-find_all()-y-select()\" data-toc-modified-id=\"Diferencia-entre-find_all()-y-select()-3\"><span class=\"toc-item-num\">3&nbsp;&nbsp;</span>Diferencia entre find_all() y select()</a></span><ul class=\"toc-item\"><li><span><a href=\"#find_all-o-findAll()\" data-toc-modified-id=\"find_all-o-findAll()-3.1\"><span class=\"toc-item-num\">3.1&nbsp;&nbsp;</span><code>find_all</code> o <code>findAll()</code></a></span></li><li><span><a href=\"#select()\" data-toc-modified-id=\"select()-3.2\"><span class=\"toc-item-num\">3.2&nbsp;&nbsp;</span><code>select()</code></a></span></li></ul></li><li><span><a href=\"#Ejemplo-1:-Página-de-zapatillas-de-baloncesto\" data-toc-modified-id=\"Ejemplo-1:-Página-de-zapatillas-de-baloncesto-4\"><span class=\"toc-item-num\">4&nbsp;&nbsp;</span>Ejemplo 1: Página de zapatillas de baloncesto</a></span></li><li><span><a href=\"#Ejemplo-2:--wikipedia-medallero\" data-toc-modified-id=\"Ejemplo-2:--wikipedia-medallero-5\"><span class=\"toc-item-num\">5&nbsp;&nbsp;</span>Ejemplo 2:  wikipedia medallero</a></span></li></ul></div>"
   ]
  },
  {
   "cell_type": "markdown",
   "id": "e291771d",
   "metadata": {},
   "source": [
    "## HTML, qué es"
   ]
  },
  {
   "cell_type": "markdown",
   "id": "48469cca",
   "metadata": {},
   "source": [
    "\n",
    "El código HTML se compone de contenido `<etiquetado>`      \n",
    "HTML tiene una estructura jeárquica: parent tags, children tags, sibling tags:     \n",
    "\n",
    "```\n",
    "<html>\n",
    "    <head>\n",
    "        <title>Page Title</title>\n",
    "    </head>\n",
    "    <body>\n",
    "        <h1>My First Heading</h1>\n",
    "        <p>My first paragraph.</p>\n",
    "    </body>\n",
    "</html>\n",
    "```"
   ]
  },
  {
   "cell_type": "markdown",
   "id": "887d1c41",
   "metadata": {},
   "source": [
    "### Tags\n",
    "\n",
    "Las etiquetas pueden clasificarse en diferentes grupos, en función del tipo de contenido que se espera que posean\n",
    " * heading: `<h1>`, `<h2>`, `<h3>`, `<hgroup>`...\n",
    " * phrasing: `<b>`, `<sub>`...\n",
    " * embedded: `<audio>`, `<img>`, `<video>`...\n",
    " * tabulated: `<table>`, `<tr>`, `<tbody>`...\n",
    " * sections: `<header>`, `<section>`, `<article>`...\n",
    " * metadata: `<meta>`, `<title>`, `<script>`..."
   ]
  },
  {
   "cell_type": "markdown",
   "id": "25956ae3",
   "metadata": {},
   "source": [
    "### Atributos\n",
    "\n",
    "Las etiquetas HTML pueden contener uno o más atributos. Los atributos se agregan a una etiqueta para proporcionar al navegador más información sobre cómo debe aparecer o comportarse la etiqueta. Los atributos constan de un nombre y un valor separados por un signo igual (=), con el valor entre comillas dobles. Aquí hay un ejemplo style=\"color:black\"\n",
    "\n",
    "Este es un ejemplo de cómo agregar dos atributos al elemento <a> (que se usa para crear un hipervínculo a otra página web).\n",
    "\n",
    "```htlm\n",
    "<a href=\"https://htmldesdecero.es\" title=\"Los mejores tutoriales HTML!\">HTML desde Cero</a>\n",
    "```\n",
    "\n",
    "El atributo `href` especifica la ubicación/dirección de la página web a la que estamos vinculando.\n",
    "\n",
    "También utilizamos el atributo `title` para proporcionar un texto de consulta, en caso de que el usuario no lo supiera…\n",
    "\n",
    "    \n",
    "Lista de los atributos más usados en HTML\n",
    "\n",
    "- Id =” ”: Para identificar un elemento único.\n",
    "\n",
    "\n",
    "- class =” ”: Identificador múltiple.\n",
    "\n",
    "\n",
    "- align =” ”: Alineación de contenido.\n",
    "\n",
    "\n",
    "- border =” ”: Para darle borde al contenido.\n",
    "\n",
    "\n",
    "- style =” ”: Para darle un estilo al contenido.\n",
    "\n",
    "\n",
    "- background-color =” ”: Para color de fondo.\n",
    "\n",
    "\n",
    "- href =” ”: Para enlaces html.\n",
    "\n",
    "\n",
    "- height =” ”: Para determinar altura.\n",
    "\n",
    "\n",
    "- width =” ”: Para determinar ancho.\n",
    "\n",
    "\n",
    "- src=“ ”: Para imágenes."
   ]
  },
  {
   "cell_type": "markdown",
   "id": "ae404a06",
   "metadata": {},
   "source": [
    "## Beautiful soup\n",
    "“Si sólo tratas de sacar datos de una web. Beautiful Soup está aquí para ayudar “.\n",
    "\n",
    "Ya sabeis, para entender como funciona una librería tenemos que leer la documentación.  [Aquí](https://www.crummy.com/software/BeautifulSoup/bs4/doc/) teneís la documentación de Beautiful Soup\n",
    "\n",
    "Beautiful Soup es una librería Python para obtener datos de HTML, XML y otros lenguajes de marcado. \n",
    "\n",
    "Beautiful Soup nos va a ayudar a extraer contenido particular de una página web, guardar la información e incluso la podemos gurdar.\n"
   ]
  },
  {
   "cell_type": "markdown",
   "id": "77ff6f83",
   "metadata": {},
   "source": [
    "## Diferencia entre find_all() y select()"
   ]
  },
  {
   "cell_type": "markdown",
   "id": "5dd4ca03",
   "metadata": {},
   "source": [
    "### `find_all` o `findAll()`\n",
    "[DOCUMENTACIÓN FINDALL](https://www.crummy.com/software/BeautifulSoup/bs4/doc/#calling-a-tag-is-like-calling-find-all)     \n",
    "\n",
    "\n",
    "El método find_all() escanea todo el documento en busca de resultados, pero a veces sólo se quiere encontrar un resultado. Si sabe que un documento sólo tiene una etiqueta <body>, es una pérdida de tiempo escanear todo el documento en busca de más. En lugar de pasar limit=1 cada vez que llame a find_all, puede utilizar el método find(). "
   ]
  },
  {
   "cell_type": "markdown",
   "id": "239bae3d",
   "metadata": {},
   "source": [
    "### `select()`\n",
    "\n",
    "[DOCUMENTACIÓN SELECT](https://www.crummy.com/software/BeautifulSoup/bs4/doc/#css-selectors) \n",
    "\n",
    "\n",
    "BeautifulSoup tiene un método .select() que utiliza el paquete SoupSieve para ejecutar un selector CSS contra un documento analizado y devolver todos los elementos coincidentes. Tag tiene un método similar que ejecuta un selector CSS contra el contenido de una sola etiqueta.\n",
    "\n",
    "(La integración de SoupSieve se añadió en Beautiful Soup 4.7.0.) Las versiones anteriores también tienen el método .select(), pero sólo se soportan los selectores CSS más utilizados. Si instalaste Beautiful Soup a través de pip, SoupSieve fue instalado al mismo tiempo, así que no tienes que hacer nada extra).\n",
    "\n",
    "La documentación de SoupSieve enumera todos los selectores CSS actualmente soportados"
   ]
  },
  {
   "cell_type": "code",
   "execution_count": null,
   "id": "f3c7fe5d",
   "metadata": {},
   "outputs": [],
   "source": [
    "#!pip install beautifulsoup4"
   ]
  },
  {
   "cell_type": "code",
   "execution_count": 1,
   "id": "7f9dfb16",
   "metadata": {},
   "outputs": [],
   "source": [
    "# antes de empezar importamos las librerías que vamos a usar. \n",
    "\n",
    "import requests\n",
    "import re\n",
    "import pandas as pd\n",
    "import numpy as np\n",
    "from bs4 import BeautifulSoup"
   ]
  },
  {
   "cell_type": "markdown",
   "id": "d0bcf95c",
   "metadata": {},
   "source": [
    "## Ejemplo 1: Página de zapatillas de baloncesto"
   ]
  },
  {
   "cell_type": "code",
   "execution_count": 38,
   "id": "d13de550",
   "metadata": {},
   "outputs": [],
   "source": [
    "# vamos a crearnos un diccionario donde luego nos guardaremos todos los resultados de nuestras búsquedas: \n",
    "\n",
    "resultados_zapatillas = {\"producto\":[], \n",
    "                        \"precio_rebajado\": [], \n",
    "                        \"precio_original\": [], \n",
    "                        \"enlaces\": []}"
   ]
  },
  {
   "cell_type": "code",
   "execution_count": 39,
   "id": "fc261939",
   "metadata": {},
   "outputs": [],
   "source": [
    "url = 'https://deportesmoya.es/1585-zapatillas-baloncesto'"
   ]
  },
  {
   "cell_type": "code",
   "execution_count": 40,
   "id": "11ca3c1b",
   "metadata": {},
   "outputs": [],
   "source": [
    "# hacemos la request a la página de la que queremos sacar la info\n",
    "\n",
    "res1 = requests.get(url)\n"
   ]
  },
  {
   "cell_type": "code",
   "execution_count": 41,
   "id": "c395804f",
   "metadata": {},
   "outputs": [
    {
     "data": {
      "text/plain": [
       "200"
      ]
     },
     "execution_count": 41,
     "metadata": {},
     "output_type": "execute_result"
    }
   ],
   "source": [
    "# vemos si todo ha ido bien\n",
    "res1.status_code\n"
   ]
  },
  {
   "cell_type": "code",
   "execution_count": 42,
   "id": "d770dcf8",
   "metadata": {},
   "outputs": [],
   "source": [
    "#res1.content"
   ]
  },
  {
   "cell_type": "code",
   "execution_count": 43,
   "id": "69dfa9d8",
   "metadata": {},
   "outputs": [],
   "source": [
    "sopa = BeautifulSoup(res1.content, 'html.parser') "
   ]
  },
  {
   "cell_type": "code",
   "execution_count": 44,
   "id": "f680a3e9",
   "metadata": {},
   "outputs": [],
   "source": [
    "#sopa"
   ]
  },
  {
   "cell_type": "code",
   "execution_count": 45,
   "id": "4cd5b2ad",
   "metadata": {},
   "outputs": [
    {
     "data": {
      "text/plain": [
       "bs4.BeautifulSoup"
      ]
     },
     "execution_count": 45,
     "metadata": {},
     "output_type": "execute_result"
    }
   ],
   "source": [
    "type(sopa)"
   ]
  },
  {
   "cell_type": "markdown",
   "id": "6aecccad",
   "metadata": {},
   "source": [
    "Ahora queremos extraer el nombre de los productos: "
   ]
  },
  {
   "cell_type": "code",
   "execution_count": 46,
   "id": "1eda4537",
   "metadata": {},
   "outputs": [],
   "source": [
    "productos = sopa.find_all(\"h3\", {\"class\": \"h3 product-title\"})"
   ]
  },
  {
   "cell_type": "code",
   "execution_count": 47,
   "id": "f513f27f",
   "metadata": {},
   "outputs": [
    {
     "data": {
      "text/plain": [
       "bs4.element.ResultSet"
      ]
     },
     "execution_count": 47,
     "metadata": {},
     "output_type": "execute_result"
    }
   ],
   "source": [
    "type(productos)"
   ]
  },
  {
   "cell_type": "code",
   "execution_count": 48,
   "id": "8c66ea2b",
   "metadata": {},
   "outputs": [
    {
     "data": {
      "text/plain": [
       "48"
      ]
     },
     "execution_count": 48,
     "metadata": {},
     "output_type": "execute_result"
    }
   ],
   "source": [
    "len(productos)"
   ]
  },
  {
   "cell_type": "code",
   "execution_count": 49,
   "id": "f7e3d7d4",
   "metadata": {},
   "outputs": [
    {
     "data": {
      "text/plain": [
       "<h3 class=\"h3 product-title\"><a href=\"https://deportesmoya.es/zapatillas-baloncesto-adidas-tmac-1-roral-blanco-hombre-130502.html#/3402-tallaje_calzado_unisex-40_2_3\">Zapatillas baloncesto adidas TMac 1 roral blanco hombre</a></h3>"
      ]
     },
     "execution_count": 49,
     "metadata": {},
     "output_type": "execute_result"
    }
   ],
   "source": [
    "productos[0]"
   ]
  },
  {
   "cell_type": "code",
   "execution_count": 50,
   "id": "e41d47e4",
   "metadata": {},
   "outputs": [
    {
     "data": {
      "text/plain": [
       "'Zapatillas adidas T-MAC 3 Restomod negro hombre'"
      ]
     },
     "execution_count": 50,
     "metadata": {},
     "output_type": "execute_result"
    }
   ],
   "source": [
    "productos[10].getText()"
   ]
  },
  {
   "cell_type": "markdown",
   "id": "7f5fb164",
   "metadata": {},
   "source": [
    "Algunos métodos que podemos aplicar: "
   ]
  },
  {
   "cell_type": "code",
   "execution_count": 51,
   "id": "78f64465",
   "metadata": {},
   "outputs": [
    {
     "data": {
      "text/plain": [
       "'Zapatillas baloncesto adidas TMac 1 roral blanco hombre'"
      ]
     },
     "execution_count": 51,
     "metadata": {},
     "output_type": "execute_result"
    }
   ],
   "source": [
    "# es lo mismo que\n",
    "\n",
    "productos[0].text"
   ]
  },
  {
   "cell_type": "markdown",
   "id": "a37eb38b",
   "metadata": {},
   "source": [
    "Recordamos que productos es una lista de elementos con todos los nombres de las zapatillas, por lo que tendremos que iterar por la lista. "
   ]
  },
  {
   "cell_type": "code",
   "execution_count": 52,
   "id": "a21184e0",
   "metadata": {},
   "outputs": [
    {
     "data": {
      "text/plain": [
       "[<h3 class=\"h3 product-title\"><a href=\"https://deportesmoya.es/zapatillas-baloncesto-adidas-tmac-1-roral-blanco-hombre-130502.html#/3402-tallaje_calzado_unisex-40_2_3\">Zapatillas baloncesto adidas TMac 1 roral blanco hombre</a></h3>,\n",
       " <h3 class=\"h3 product-title\"><a href=\"https://deportesmoya.es/zapatillas-adidas-pro-n3xt-2021-blanco-hombre-130501.html#/3448-tallaje_calzado_unisex-38\">Zapatillas adidas Pro N3xt 2021 blanco hombre</a></h3>,\n",
       " <h3 class=\"h3 product-title\"><a href=\"https://deportesmoya.es/zapatillas-puma-playmaker-pro-blanco-hombre-130499.html#/3399-tallaje_calzado_unisex-40\">Zapatillas Puma Playmaker Pro blanco hombre</a></h3>]"
      ]
     },
     "execution_count": 52,
     "metadata": {},
     "output_type": "execute_result"
    }
   ],
   "source": [
    "productos[:3]"
   ]
  },
  {
   "cell_type": "code",
   "execution_count": 53,
   "id": "cd1048c3",
   "metadata": {},
   "outputs": [
    {
     "ename": "AttributeError",
     "evalue": "ResultSet object has no attribute 'getText'. You're probably treating a list of elements like a single element. Did you call find_all() when you meant to call find()?",
     "output_type": "error",
     "traceback": [
      "\u001b[0;31m---------------------------------------------------------------------------\u001b[0m",
      "\u001b[0;31mAttributeError\u001b[0m                            Traceback (most recent call last)",
      "Cell \u001b[0;32mIn [53], line 1\u001b[0m\n\u001b[0;32m----> 1\u001b[0m \u001b[43mproductos\u001b[49m\u001b[38;5;241;43m.\u001b[39;49m\u001b[43mgetText\u001b[49m()\n",
      "File \u001b[0;32m/usr/local/lib/python3.10/site-packages/bs4/element.py:2289\u001b[0m, in \u001b[0;36mResultSet.__getattr__\u001b[0;34m(self, key)\u001b[0m\n\u001b[1;32m   2287\u001b[0m \u001b[38;5;28;01mdef\u001b[39;00m \u001b[38;5;21m__getattr__\u001b[39m(\u001b[38;5;28mself\u001b[39m, key):\n\u001b[1;32m   2288\u001b[0m     \u001b[38;5;124;03m\"\"\"Raise a helpful exception to explain a common code fix.\"\"\"\u001b[39;00m\n\u001b[0;32m-> 2289\u001b[0m     \u001b[38;5;28;01mraise\u001b[39;00m \u001b[38;5;167;01mAttributeError\u001b[39;00m(\n\u001b[1;32m   2290\u001b[0m         \u001b[38;5;124m\"\u001b[39m\u001b[38;5;124mResultSet object has no attribute \u001b[39m\u001b[38;5;124m'\u001b[39m\u001b[38;5;132;01m%s\u001b[39;00m\u001b[38;5;124m'\u001b[39m\u001b[38;5;124m. You\u001b[39m\u001b[38;5;124m'\u001b[39m\u001b[38;5;124mre probably treating a list of elements like a single element. Did you call find_all() when you meant to call find()?\u001b[39m\u001b[38;5;124m\"\u001b[39m \u001b[38;5;241m%\u001b[39m key\n\u001b[1;32m   2291\u001b[0m     )\n",
      "\u001b[0;31mAttributeError\u001b[0m: ResultSet object has no attribute 'getText'. You're probably treating a list of elements like a single element. Did you call find_all() when you meant to call find()?"
     ]
    }
   ],
   "source": [
    "productos.getText()"
   ]
  },
  {
   "cell_type": "code",
   "execution_count": 54,
   "id": "1d9461dd",
   "metadata": {},
   "outputs": [
    {
     "data": {
      "text/plain": [
       "{'producto': [], 'precio_rebajado': [], 'precio_original': [], 'enlaces': []}"
      ]
     },
     "execution_count": 54,
     "metadata": {},
     "output_type": "execute_result"
    }
   ],
   "source": [
    "resultados_zapatillas"
   ]
  },
  {
   "cell_type": "code",
   "execution_count": 55,
   "id": "a5a1fee8",
   "metadata": {},
   "outputs": [],
   "source": [
    "for a in productos: \n",
    "    resultados_zapatillas[\"producto\"].append(a.getText())"
   ]
  },
  {
   "cell_type": "code",
   "execution_count": 56,
   "id": "f18195ac",
   "metadata": {},
   "outputs": [
    {
     "data": {
      "text/plain": [
       "{'producto': ['Zapatillas baloncesto adidas TMac 1 roral blanco hombre',\n",
       "  'Zapatillas adidas Pro N3xt 2021 blanco hombre',\n",
       "  'Zapatillas Puma Playmaker Pro blanco hombre',\n",
       "  'Zapatillas adidas Ownthegame 2.0 K negro blanco niños',\n",
       "  'Zapatillas adidas Cross Em Up 5K azul blanco niños',\n",
       "  'Zapatillas UA Jet´21 negro blanco hombre',\n",
       "  'Zapatillas baloncesto Under Armour Jet 21 gris niños',\n",
       "  'Zapatillas baloncesto Under Armour Lockdown 6 PS blanco niño',\n",
       "  'Zapatillas baloncesto Under Armour Lockdown 6 blanco negro',\n",
       "  'Zapatillas adidas Exhibit B azul hombre',\n",
       "  'Zapatillas adidas T-MAC 3 Restomod negro hombre',\n",
       "  'Zapatillas baloncesto Under Armour Lockdown 6 rojo',\n",
       "  'Zapatillas baloncesto Under Armour Lockdown 6 PS negro niño',\n",
       "  'Zapatillas Puma Playmaker Pro negro multicolor unisex',\n",
       "  'Zapatillas de baloncesto Adidas Ownthegame 2.0 K negro gris junior',\n",
       "  'Zapatillas adidas Baloncesto Cross Em Up 5K rojo negro niños',\n",
       "  'Zapatillas adidas Ownthegame 2.0 negro blanco hombre',\n",
       "  'Zapatillas baloncesto Puma Fusion Nitro Team blanco rojo',\n",
       "  'Zapatillas Adidas Dame 8 blanco rojo negro hombre',\n",
       "  'Zapatillas Puma Triple Unleash royal blanco hombre',\n",
       "  'Zapatillas adidas Ownthegame 2.0 gris dorado hombre',\n",
       "  'Zapatillas baloncesto Under Armour 3Z5 negro hombre',\n",
       "  'Zapatillas Under Armour Jet 21 azul royal blanco niños',\n",
       "  'Zapatillas baloncesto Puma Triple rojo blanco hombre',\n",
       "  'Zapatillas Under Armour Flow Futr X blanco negro unisex',\n",
       "  'Zapatillas Under Armour Jet 21 blanco/azul junior',\n",
       "  'Zapatillas baloncesto Under Armour Zone BB negro infantil',\n",
       "  'Zapatillas baloncesto Under Armour Zone BB blanco infantil',\n",
       "  'Zapatillas baloncesto Under Armour Zone BB negro junior',\n",
       "  'Zapatillas Baloncesto Under Armour HOVR Havoc 3 gris unisex',\n",
       "  'Zapatillas de Baloncesto Under Armour SC 3Zero IV multicolor',\n",
       "  'Zapatillas Under Armour Spawn 3 rojo blanco unisex',\n",
       "  'Zapatillas Under Armour Embiid 1 blanco royal junior',\n",
       "  'Zapatillas Under Armour Embiid 1 blanco royal unisex',\n",
       "  'Zapatillas Nike Zoom Freak 2 negro plata hombre',\n",
       "  'Zapatillas Under Armour Curry 8 negro/blanco unisex',\n",
       "  'Zapatillas baloncesto adidas Dame 6 negro/oro hombre',\n",
       "  'Zapatillas baloncesto adidas D.O.N.Issue 2 blanco/negro',\n",
       "  'Zapatillas baloncesto Under Armour Lockdown 5 rojo negro PS',\n",
       "  'Zapatillas baloncesto adidas Ownthegame 2.0 blanco negro',\n",
       "  'Zapatillas baloncesto adidas Pro Next K rojo blanco niños',\n",
       "  'Zapatillas baloncesto adidas D.O.N. Issue 1 gris/rojo hombre',\n",
       "  'Zapatillas baloncesto adidas Pro Next 2019 blanco junior',\n",
       "  'Zapatillas baloncesto adidas Exhibit A blanco unisex',\n",
       "  'Zapatillas baloncesto adidas D.O.N. Issue 1 azul rojo niño',\n",
       "  'Zapatillas baloncesto adidas Pro Bounce 2019 low negro hombr',\n",
       "  'Zapatillas baloncesto Puma Triple negro blanco unisex',\n",
       "  'Zapatillas adidas Crazy Team K negro junior'],\n",
       " 'precio_rebajado': [],\n",
       " 'precio_original': [],\n",
       " 'enlaces': []}"
      ]
     },
     "execution_count": 56,
     "metadata": {},
     "output_type": "execute_result"
    }
   ],
   "source": [
    "resultados_zapatillas"
   ]
  },
  {
   "cell_type": "markdown",
   "id": "be74f8b6",
   "metadata": {},
   "source": [
    "Sacamos los precios originales y los descuentos de las zapatillas: "
   ]
  },
  {
   "cell_type": "code",
   "execution_count": 57,
   "id": "4c9a9d30",
   "metadata": {},
   "outputs": [],
   "source": [
    "#lista de precios\n",
    "precios = sopa.find_all(\"div\", {\"class\": \"product-price-and-shipping\"})"
   ]
  },
  {
   "cell_type": "code",
   "execution_count": 58,
   "id": "19dfac4c",
   "metadata": {},
   "outputs": [
    {
     "data": {
      "text/plain": [
       "48"
      ]
     },
     "execution_count": 58,
     "metadata": {},
     "output_type": "execute_result"
    }
   ],
   "source": [
    "len(precios)"
   ]
  },
  {
   "cell_type": "code",
   "execution_count": 59,
   "id": "29d53979",
   "metadata": {},
   "outputs": [
    {
     "data": {
      "text/plain": [
       "'Precio102,00\\xa0€Precio normal120,00\\xa0€-15%'"
      ]
     },
     "execution_count": 59,
     "metadata": {},
     "output_type": "execute_result"
    }
   ],
   "source": [
    "precios[9].getText()"
   ]
  },
  {
   "cell_type": "code",
   "execution_count": 60,
   "id": "293272b9",
   "metadata": {},
   "outputs": [
    {
     "data": {
      "text/plain": [
       "['127,50', '150,00']"
      ]
     },
     "execution_count": 60,
     "metadata": {},
     "output_type": "execute_result"
    }
   ],
   "source": [
    "patron = '\\d+,\\d+'\n",
    "re.findall(patron, precios[0].getText())"
   ]
  },
  {
   "cell_type": "code",
   "execution_count": 61,
   "id": "0f63d88b",
   "metadata": {},
   "outputs": [
    {
     "data": {
      "text/plain": [
       "['18,00']"
      ]
     },
     "execution_count": 61,
     "metadata": {},
     "output_type": "execute_result"
    }
   ],
   "source": [
    "re.findall(patron, precios[-1].getText())"
   ]
  },
  {
   "cell_type": "code",
   "execution_count": 62,
   "id": "d84f24b8",
   "metadata": {},
   "outputs": [],
   "source": [
    "# limpiamos los resultados: \n",
    "for precio in precios:\n",
    "    precios_juntos = re.findall(patron, precio.getText())\n",
    "    if len(precios_juntos) == 2:\n",
    "                                \n",
    "        resultados_zapatillas[\"precio_original\"].append(float(precios_juntos[1].replace(\",\", \".\")))\n",
    "        resultados_zapatillas[\"precio_rebajado\"].append(float(precios_juntos[0].replace(\",\", \".\")))\n",
    "    else:\n",
    "        resultados_zapatillas[\"precio_original\"].append(float(precios_juntos[0].replace(\",\", \".\")))\n",
    "        resultados_zapatillas[\"precio_rebajado\"].append(np.nan)\n",
    "        \n",
    "    "
   ]
  },
  {
   "cell_type": "code",
   "execution_count": 63,
   "id": "b32803fb",
   "metadata": {
    "scrolled": false
   },
   "outputs": [
    {
     "name": "stdout",
     "output_type": "stream",
     "text": [
      "[150.0, 90.0, 80.0, 55.0, 60.0, 80.0, 60.0, 45.0, 70.0, 120.0, 160.0, 70.0, 45.0, 80.0, 55.0, 60.0, 65.0, 105.0, 120.0, 80.0, 70.0, 100.0, 60.0, 80.0, 120.0, 60.0, 55.0, 55.0, 60.0, 120.0, 100.0, 110.0, 90.0, 120.0, 120.0, 150.0, 110.0, 100.0, 45.0, 70.0, 59.95, 99.95, 59.95, 110.0, 59.95, 109.95, 80.0, 18.0]\n"
     ]
    }
   ],
   "source": [
    "print(resultados_zapatillas[\"precio_original\"])"
   ]
  },
  {
   "cell_type": "code",
   "execution_count": 64,
   "id": "4913ce86",
   "metadata": {},
   "outputs": [
    {
     "name": "stdout",
     "output_type": "stream",
     "text": [
      "[127.5, 76.5, 68.0, 46.75, 51.0, 68.0, 51.0, 38.25, 59.5, 102.0, 136.0, 59.5, 38.25, 68.0, 46.75, 51.0, 55.25, 89.25, nan, 68.0, 59.5, 85.0, 30.0, 68.0, 102.0, 51.0, 27.5, 27.5, 51.0, 102.0, 80.0, 93.5, 76.5, 102.0, 102.0, 127.5, 55.0, nan, 22.5, 59.5, 29.98, 69.97, 29.98, 93.5, 29.98, 65.97, 68.0, nan]\n"
     ]
    }
   ],
   "source": [
    "print(resultados_zapatillas[\"precio_rebajado\"])"
   ]
  },
  {
   "cell_type": "markdown",
   "id": "e1a81510",
   "metadata": {},
   "source": [
    "Podemos hacer lo mismo pero usando el método `select`"
   ]
  },
  {
   "cell_type": "code",
   "execution_count": 65,
   "id": "ee2985c0",
   "metadata": {},
   "outputs": [],
   "source": [
    "prueba = sopa.select(\"span.price\")"
   ]
  },
  {
   "cell_type": "code",
   "execution_count": 66,
   "id": "bade1786",
   "metadata": {},
   "outputs": [
    {
     "data": {
      "text/plain": [
       "[<span class=\"price\"><span class=\"soy_price_principal\">127</span><span class=\"soy_price_separador\">,</span><span class=\"soy_price_secondary\">50 €</span></span>,\n",
       " <span class=\"price\"><span class=\"soy_price_principal\">76</span><span class=\"soy_price_separador\">,</span><span class=\"soy_price_secondary\">50 €</span></span>]"
      ]
     },
     "execution_count": 66,
     "metadata": {},
     "output_type": "execute_result"
    }
   ],
   "source": [
    "prueba[:2]"
   ]
  },
  {
   "cell_type": "markdown",
   "id": "484c309b",
   "metadata": {},
   "source": [
    "Saquemos ahora los precios rebajados usando el select: "
   ]
  },
  {
   "cell_type": "code",
   "execution_count": 67,
   "id": "47b3cd68",
   "metadata": {},
   "outputs": [],
   "source": [
    "precios_originales = sopa.select(\"span.regular-price\")"
   ]
  },
  {
   "cell_type": "code",
   "execution_count": 68,
   "id": "53e1dfd0",
   "metadata": {},
   "outputs": [
    {
     "data": {
      "text/plain": [
       "[<span class=\"regular-price\"><span class=\"soy_price_principal\">150</span><span class=\"soy_price_separador\">,</span><span class=\"soy_price_secondary\">00 €</span></span>,\n",
       " <span class=\"regular-price\"><span class=\"soy_price_principal\">90</span><span class=\"soy_price_separador\">,</span><span class=\"soy_price_secondary\">00 €</span></span>]"
      ]
     },
     "execution_count": 68,
     "metadata": {},
     "output_type": "execute_result"
    }
   ],
   "source": [
    "precios_originales[:2]"
   ]
  },
  {
   "cell_type": "code",
   "execution_count": 69,
   "id": "4b63187b",
   "metadata": {},
   "outputs": [
    {
     "data": {
      "text/plain": [
       "'80,00\\xa0€'"
      ]
     },
     "execution_count": 69,
     "metadata": {},
     "output_type": "execute_result"
    }
   ],
   "source": [
    "precios_originales[2].getText()"
   ]
  },
  {
   "cell_type": "markdown",
   "id": "ab0624e0",
   "metadata": {},
   "source": [
    "Sacamos los enlaces de cada una de las zapatillas: "
   ]
  },
  {
   "cell_type": "code",
   "execution_count": 70,
   "id": "ce161918",
   "metadata": {},
   "outputs": [],
   "source": [
    "enlaces = sopa.find_all(\"div\", {\"class\": \"thumbnail-container\"})"
   ]
  },
  {
   "cell_type": "code",
   "execution_count": 71,
   "id": "6cb141c9",
   "metadata": {},
   "outputs": [],
   "source": [
    "#enlaces[0]"
   ]
  },
  {
   "cell_type": "code",
   "execution_count": 72,
   "id": "1f2785f4",
   "metadata": {},
   "outputs": [
    {
     "data": {
      "text/plain": [
       "'Zapatillas baloncesto adidas TMac 1 roral blanco hombrePrecio127,50\\xa0€Precio normal150,00\\xa0€-15% \\n\\n\\n\\n\\n\\n\\ncancel El producto ha sido añadido a su lista de deseos correctamente.\\n\\n-15%\\nCantidad\\n\\n\\n\\n\\n\\n\\nAñadir a la cesta\\nAñadir a la cesta\\n\\n\\n\\n\\n\\n\\n\\n\\n\\ncancel El producto ha sido añadido a su lista de deseos correctamente.\\n\\nGuía de tallas\\n\\n\\n\\n\\n\\n\\n'"
      ]
     },
     "execution_count": 72,
     "metadata": {},
     "output_type": "execute_result"
    }
   ],
   "source": [
    "enlaces[0].getText()"
   ]
  },
  {
   "cell_type": "code",
   "execution_count": 73,
   "id": "e4bad0d9",
   "metadata": {},
   "outputs": [],
   "source": [
    "#enlaces[0]"
   ]
  },
  {
   "cell_type": "code",
   "execution_count": 74,
   "id": "39cf27f9",
   "metadata": {},
   "outputs": [
    {
     "data": {
      "text/plain": [
       "'https://deportesmoya.es/zapatillas-baloncesto-adidas-tmac-1-roral-blanco-hombre-130502.html#/3402-tallaje_calzado_unisex-40_2_3'"
      ]
     },
     "execution_count": 74,
     "metadata": {},
     "output_type": "execute_result"
    }
   ],
   "source": [
    "enlaces[0].find(\"a\").get(\"href\")"
   ]
  },
  {
   "cell_type": "code",
   "execution_count": 75,
   "id": "619932ea",
   "metadata": {},
   "outputs": [],
   "source": [
    "# ahora sacams los enlaces\n",
    "for enlace in enlaces: \n",
    "    resultados_zapatillas[\"enlaces\"].append(enlace.find(\"a\").get(\"href\"))"
   ]
  },
  {
   "cell_type": "code",
   "execution_count": 76,
   "id": "b61ba672",
   "metadata": {},
   "outputs": [
    {
     "data": {
      "text/plain": [
       "['https://deportesmoya.es/zapatillas-baloncesto-adidas-tmac-1-roral-blanco-hombre-130502.html#/3402-tallaje_calzado_unisex-40_2_3',\n",
       " 'https://deportesmoya.es/zapatillas-adidas-pro-n3xt-2021-blanco-hombre-130501.html#/3448-tallaje_calzado_unisex-38']"
      ]
     },
     "execution_count": 76,
     "metadata": {},
     "output_type": "execute_result"
    }
   ],
   "source": [
    "resultados_zapatillas[\"enlaces\"][:2]"
   ]
  },
  {
   "cell_type": "code",
   "execution_count": 77,
   "id": "8cda68d1",
   "metadata": {},
   "outputs": [
    {
     "name": "stdout",
     "output_type": "stream",
     "text": [
      "producto 48\n",
      "precio_rebajado 48\n",
      "precio_original 48\n",
      "enlaces 48\n"
     ]
    }
   ],
   "source": [
    "for key, values in resultados_zapatillas.items():\n",
    "    print(key, len(values))"
   ]
  },
  {
   "cell_type": "code",
   "execution_count": 78,
   "id": "e2e7a16c",
   "metadata": {},
   "outputs": [],
   "source": [
    "# lo convertimos a dataframe \n",
    "df_zapatillas = pd.DataFrame(resultados_zapatillas)"
   ]
  },
  {
   "cell_type": "code",
   "execution_count": 79,
   "id": "df8254ba",
   "metadata": {},
   "outputs": [
    {
     "data": {
      "text/html": [
       "<div>\n",
       "<style scoped>\n",
       "    .dataframe tbody tr th:only-of-type {\n",
       "        vertical-align: middle;\n",
       "    }\n",
       "\n",
       "    .dataframe tbody tr th {\n",
       "        vertical-align: top;\n",
       "    }\n",
       "\n",
       "    .dataframe thead th {\n",
       "        text-align: right;\n",
       "    }\n",
       "</style>\n",
       "<table border=\"1\" class=\"dataframe\">\n",
       "  <thead>\n",
       "    <tr style=\"text-align: right;\">\n",
       "      <th></th>\n",
       "      <th>producto</th>\n",
       "      <th>precio_rebajado</th>\n",
       "      <th>precio_original</th>\n",
       "      <th>enlaces</th>\n",
       "    </tr>\n",
       "  </thead>\n",
       "  <tbody>\n",
       "    <tr>\n",
       "      <th>0</th>\n",
       "      <td>Zapatillas baloncesto adidas TMac 1 roral blan...</td>\n",
       "      <td>127.50</td>\n",
       "      <td>150.0</td>\n",
       "      <td>https://deportesmoya.es/zapatillas-baloncesto-...</td>\n",
       "    </tr>\n",
       "    <tr>\n",
       "      <th>1</th>\n",
       "      <td>Zapatillas adidas Pro N3xt 2021 blanco hombre</td>\n",
       "      <td>76.50</td>\n",
       "      <td>90.0</td>\n",
       "      <td>https://deportesmoya.es/zapatillas-adidas-pro-...</td>\n",
       "    </tr>\n",
       "    <tr>\n",
       "      <th>2</th>\n",
       "      <td>Zapatillas Puma Playmaker Pro blanco hombre</td>\n",
       "      <td>68.00</td>\n",
       "      <td>80.0</td>\n",
       "      <td>https://deportesmoya.es/zapatillas-puma-playma...</td>\n",
       "    </tr>\n",
       "    <tr>\n",
       "      <th>3</th>\n",
       "      <td>Zapatillas adidas Ownthegame 2.0 K negro blanc...</td>\n",
       "      <td>46.75</td>\n",
       "      <td>55.0</td>\n",
       "      <td>https://deportesmoya.es/zapatillas-adidas-ownt...</td>\n",
       "    </tr>\n",
       "    <tr>\n",
       "      <th>4</th>\n",
       "      <td>Zapatillas adidas Cross Em Up 5K azul blanco n...</td>\n",
       "      <td>51.00</td>\n",
       "      <td>60.0</td>\n",
       "      <td>https://deportesmoya.es/zapatillas-adidas-cros...</td>\n",
       "    </tr>\n",
       "  </tbody>\n",
       "</table>\n",
       "</div>"
      ],
      "text/plain": [
       "                                            producto  precio_rebajado  \\\n",
       "0  Zapatillas baloncesto adidas TMac 1 roral blan...           127.50   \n",
       "1      Zapatillas adidas Pro N3xt 2021 blanco hombre            76.50   \n",
       "2        Zapatillas Puma Playmaker Pro blanco hombre            68.00   \n",
       "3  Zapatillas adidas Ownthegame 2.0 K negro blanc...            46.75   \n",
       "4  Zapatillas adidas Cross Em Up 5K azul blanco n...            51.00   \n",
       "\n",
       "   precio_original                                            enlaces  \n",
       "0            150.0  https://deportesmoya.es/zapatillas-baloncesto-...  \n",
       "1             90.0  https://deportesmoya.es/zapatillas-adidas-pro-...  \n",
       "2             80.0  https://deportesmoya.es/zapatillas-puma-playma...  \n",
       "3             55.0  https://deportesmoya.es/zapatillas-adidas-ownt...  \n",
       "4             60.0  https://deportesmoya.es/zapatillas-adidas-cros...  "
      ]
     },
     "execution_count": 79,
     "metadata": {},
     "output_type": "execute_result"
    }
   ],
   "source": [
    "df_zapatillas.head()"
   ]
  },
  {
   "cell_type": "markdown",
   "id": "13f2804f",
   "metadata": {},
   "source": [
    "## Ejemplo 2:  wikipedia medallero"
   ]
  },
  {
   "cell_type": "code",
   "execution_count": 80,
   "id": "520d1605",
   "metadata": {},
   "outputs": [],
   "source": [
    "# establecemos la url\n",
    "\n",
    "url_medallero = 'https://es.wikipedia.org/wiki/Juegos_Ol%C3%ADmpicos_de_Barcelona_1992'\n",
    "html_medallero = requests.get(url_medallero)"
   ]
  },
  {
   "cell_type": "code",
   "execution_count": 82,
   "id": "a1485ec7",
   "metadata": {},
   "outputs": [
    {
     "data": {
      "text/plain": [
       "200"
      ]
     },
     "execution_count": 82,
     "metadata": {},
     "output_type": "execute_result"
    }
   ],
   "source": [
    "html_medallero.status_code"
   ]
  },
  {
   "cell_type": "code",
   "execution_count": 86,
   "id": "a64b581c",
   "metadata": {},
   "outputs": [],
   "source": [
    "sopa_medallero = BeautifulSoup(html_medallero.content, \"html.parser\")"
   ]
  },
  {
   "cell_type": "code",
   "execution_count": 87,
   "id": "704777f5",
   "metadata": {},
   "outputs": [],
   "source": [
    "# Busco todo lo que tenga la etiqueta \"table\" \n",
    "medallero = sopa_medallero.find_all(\"table\")"
   ]
  },
  {
   "cell_type": "code",
   "execution_count": 88,
   "id": "ab412afa",
   "metadata": {},
   "outputs": [
    {
     "data": {
      "text/plain": [
       "14"
      ]
     },
     "execution_count": 88,
     "metadata": {},
     "output_type": "execute_result"
    }
   ],
   "source": [
    "len(medallero)"
   ]
  },
  {
   "cell_type": "code",
   "execution_count": 89,
   "id": "3fa09990",
   "metadata": {},
   "outputs": [
    {
     "data": {
      "text/plain": [
       "<table style=\"width:100%; text-align:center; background-color:transparent; border:0; margin:0; padding:0;\">\n",
       "<tbody><tr><td style=\"width:33%; padding:0.2em 0.1em 0.2em 0;vertical-align: middle;\"><span style=\"font-style:;\"><a href=\"/wiki/Juegos_Ol%C3%ADmpicos_de_Se%C3%BAl_1988\" title=\"Juegos Olímpicos de Seúl 1988\">Seúl 1988</a></span></td>\n",
       "<td style=\"padding:0.2em 0.1em; background-color:#f9f9f9; vertical-align: middle\"><span style=\"font-weight:bold; font-style:normal; color:#000;\"><img alt=\"Olympic flag.svg\" data-file-height=\"600\" data-file-width=\"900\" decoding=\"async\" height=\"27\" src=\"//upload.wikimedia.org/wikipedia/commons/thumb/a/a7/Olympic_flag.svg/40px-Olympic_flag.svg.png\" srcset=\"//upload.wikimedia.org/wikipedia/commons/thumb/a/a7/Olympic_flag.svg/60px-Olympic_flag.svg.png 1.5x, //upload.wikimedia.org/wikipedia/commons/thumb/a/a7/Olympic_flag.svg/80px-Olympic_flag.svg.png 2x\" width=\"40\"/></span></td>\n",
       "<td style=\"width:33%; padding:0.2em 0 0.2em 0.1em;vertical-align: middle;\"><span style=\"font-style:normal;\"><a href=\"/wiki/Juegos_Ol%C3%ADmpicos_de_Atlanta_1996\" title=\"Juegos Olímpicos de Atlanta 1996\">Atlanta 1996</a></span></td>\n",
       "</tr></tbody></table>"
      ]
     },
     "execution_count": 89,
     "metadata": {},
     "output_type": "execute_result"
    }
   ],
   "source": [
    "medallero[1]"
   ]
  },
  {
   "cell_type": "code",
   "execution_count": 90,
   "id": "e3f1fad7",
   "metadata": {},
   "outputs": [],
   "source": [
    "medallero_juegos = medallero[-4]"
   ]
  },
  {
   "cell_type": "code",
   "execution_count": 91,
   "id": "9ca6da22",
   "metadata": {},
   "outputs": [
    {
     "data": {
      "text/plain": [
       "11"
      ]
     },
     "execution_count": 91,
     "metadata": {},
     "output_type": "execute_result"
    }
   ],
   "source": [
    "# con esto sacamos todas las filas de nuestra tabla\n",
    "\n",
    "len(medallero_juegos.find_all(\"tr\"))"
   ]
  },
  {
   "cell_type": "code",
   "execution_count": 99,
   "id": "d3e3a996",
   "metadata": {},
   "outputs": [
    {
     "data": {
      "text/plain": [
       "<tr>\n",
       "<td>4</td>\n",
       "<td align=\"left\"><img alt=\"República Popular China\" class=\"thumbborder\" data-file-height=\"600\" data-file-width=\"900\" decoding=\"async\" height=\"15\" src=\"//upload.wikimedia.org/wikipedia/commons/thumb/f/fa/Flag_of_the_People%27s_Republic_of_China.svg/22px-Flag_of_the_People%27s_Republic_of_China.svg.png\" srcset=\"//upload.wikimedia.org/wikipedia/commons/thumb/f/fa/Flag_of_the_People%27s_Republic_of_China.svg/33px-Flag_of_the_People%27s_Republic_of_China.svg.png 1.5x, //upload.wikimedia.org/wikipedia/commons/thumb/f/fa/Flag_of_the_People%27s_Republic_of_China.svg/44px-Flag_of_the_People%27s_Republic_of_China.svg.png 2x\" width=\"22\"/> <a href=\"/wiki/Rep%C3%BAblica_Popular_China_en_los_Juegos_Ol%C3%ADmpicos_de_Barcelona_1992\" title=\"República Popular China en los Juegos Olímpicos de Barcelona 1992\">República Popular China </a> <small>(CHN)</small></td>\n",
       "<td>16</td>\n",
       "<td>22</td>\n",
       "<td>16</td>\n",
       "<td>54\n",
       "</td></tr>"
      ]
     },
     "execution_count": 99,
     "metadata": {},
     "output_type": "execute_result"
    }
   ],
   "source": [
    "# sacamos las columnas\n",
    "medallero_juegos.find_all(\"tr\")[4]"
   ]
  },
  {
   "cell_type": "markdown",
   "id": "25d6797a",
   "metadata": {},
   "source": [
    "Ahora es el momento de sacar las filas (lo haremos con `td`): "
   ]
  },
  {
   "cell_type": "code",
   "execution_count": 101,
   "id": "3feabca7",
   "metadata": {
    "scrolled": true
   },
   "outputs": [
    {
     "data": {
      "text/plain": [
       "<td>112\n",
       "</td>"
      ]
     },
     "execution_count": 101,
     "metadata": {},
     "output_type": "execute_result"
    }
   ],
   "source": [
    "#sacamos filas\n",
    "\n",
    "medallero_juegos.find_all(\"td\")[5]"
   ]
  },
  {
   "cell_type": "code",
   "execution_count": 102,
   "id": "5cdba4ec",
   "metadata": {},
   "outputs": [
    {
     "data": {
      "text/plain": [
       "<td>37</td>"
      ]
     },
     "execution_count": 102,
     "metadata": {},
     "output_type": "execute_result"
    }
   ],
   "source": [
    "# sacamos fila 2 columna 2\n",
    "medallero_juegos.find_all(\"tr\")[2].find_all(\"td\")[2]"
   ]
  },
  {
   "cell_type": "code",
   "execution_count": 103,
   "id": "4a6e9185",
   "metadata": {},
   "outputs": [
    {
     "data": {
      "text/plain": [
       "'37'"
      ]
     },
     "execution_count": 103,
     "metadata": {},
     "output_type": "execute_result"
    }
   ],
   "source": [
    "# sacamos el texto de ese elemento \n",
    "medallero_juegos.find_all(\"tr\")[2].find_all(\"td\")[2].getText()"
   ]
  },
  {
   "cell_type": "code",
   "execution_count": 104,
   "id": "3ab90a60",
   "metadata": {},
   "outputs": [
    {
     "data": {
      "text/plain": [
       "'34'"
      ]
     },
     "execution_count": 104,
     "metadata": {},
     "output_type": "execute_result"
    }
   ],
   "source": [
    "# saquemos la fila 2 columna 3\n",
    "medallero_juegos.find_all(\"tr\")[2].find_all(\"td\")[3].getText()"
   ]
  },
  {
   "cell_type": "markdown",
   "id": "3c0ff990",
   "metadata": {},
   "source": [
    "Esto puede ser un dolor si lo hacemos uno a uno. Intentemos hacer un for loop para hacerlo todo del tirón: "
   ]
  },
  {
   "cell_type": "code",
   "execution_count": 105,
   "id": "503dde44",
   "metadata": {},
   "outputs": [],
   "source": [
    "# lo primero que haremos será crear un diccionario donde \n",
    "\n",
    "diccionario2 = {\"nombre\": [], \n",
    "               \"oro\": [], \n",
    "               \"plata\":[], \n",
    "               \"bronce\": []}\n"
   ]
  },
  {
   "cell_type": "code",
   "execution_count": 106,
   "id": "6391aaec",
   "metadata": {},
   "outputs": [],
   "source": [
    "for f in medallero_juegos.find_all(\"tr\"):\n",
    "    columna = [elemento for elemento in f.find_all(\"td\")]\n",
    "    if len(columna)> 1: \n",
    "        diccionario2[\"nombre\"].append(columna[1].find(\"a\").getText())\n",
    "        diccionario2[\"oro\"].append(columna[2].getText())\n",
    "        diccionario2[\"plata\"].append(columna[3].getText())\n",
    "        diccionario2[\"bronce\"].append(columna[4].getText())\n",
    "    "
   ]
  },
  {
   "cell_type": "code",
   "execution_count": 107,
   "id": "fe796121",
   "metadata": {},
   "outputs": [],
   "source": [
    "df_medallas = pd.DataFrame(diccionario2)"
   ]
  },
  {
   "cell_type": "code",
   "execution_count": 108,
   "id": "2c6146a0",
   "metadata": {},
   "outputs": [
    {
     "data": {
      "text/html": [
       "<div>\n",
       "<style scoped>\n",
       "    .dataframe tbody tr th:only-of-type {\n",
       "        vertical-align: middle;\n",
       "    }\n",
       "\n",
       "    .dataframe tbody tr th {\n",
       "        vertical-align: top;\n",
       "    }\n",
       "\n",
       "    .dataframe thead th {\n",
       "        text-align: right;\n",
       "    }\n",
       "</style>\n",
       "<table border=\"1\" class=\"dataframe\">\n",
       "  <thead>\n",
       "    <tr style=\"text-align: right;\">\n",
       "      <th></th>\n",
       "      <th>nombre</th>\n",
       "      <th>oro</th>\n",
       "      <th>plata</th>\n",
       "      <th>bronce</th>\n",
       "    </tr>\n",
       "  </thead>\n",
       "  <tbody>\n",
       "    <tr>\n",
       "      <th>0</th>\n",
       "      <td>Equipo Unificado</td>\n",
       "      <td>45</td>\n",
       "      <td>38</td>\n",
       "      <td>29</td>\n",
       "    </tr>\n",
       "    <tr>\n",
       "      <th>1</th>\n",
       "      <td>Estados Unidos</td>\n",
       "      <td>37</td>\n",
       "      <td>34</td>\n",
       "      <td>37</td>\n",
       "    </tr>\n",
       "    <tr>\n",
       "      <th>2</th>\n",
       "      <td>Alemania</td>\n",
       "      <td>33</td>\n",
       "      <td>21</td>\n",
       "      <td>28</td>\n",
       "    </tr>\n",
       "    <tr>\n",
       "      <th>3</th>\n",
       "      <td>República Popular China</td>\n",
       "      <td>16</td>\n",
       "      <td>22</td>\n",
       "      <td>16</td>\n",
       "    </tr>\n",
       "    <tr>\n",
       "      <th>4</th>\n",
       "      <td>Cuba</td>\n",
       "      <td>14</td>\n",
       "      <td>6</td>\n",
       "      <td>11</td>\n",
       "    </tr>\n",
       "    <tr>\n",
       "      <th>5</th>\n",
       "      <td>España</td>\n",
       "      <td>13</td>\n",
       "      <td>7</td>\n",
       "      <td>2</td>\n",
       "    </tr>\n",
       "    <tr>\n",
       "      <th>6</th>\n",
       "      <td>Corea del Sur</td>\n",
       "      <td>12</td>\n",
       "      <td>5</td>\n",
       "      <td>12</td>\n",
       "    </tr>\n",
       "    <tr>\n",
       "      <th>7</th>\n",
       "      <td>Hungría</td>\n",
       "      <td>11</td>\n",
       "      <td>12</td>\n",
       "      <td>7</td>\n",
       "    </tr>\n",
       "    <tr>\n",
       "      <th>8</th>\n",
       "      <td>Francia</td>\n",
       "      <td>8</td>\n",
       "      <td>5</td>\n",
       "      <td>16</td>\n",
       "    </tr>\n",
       "    <tr>\n",
       "      <th>9</th>\n",
       "      <td>Australia</td>\n",
       "      <td>7</td>\n",
       "      <td>9</td>\n",
       "      <td>11</td>\n",
       "    </tr>\n",
       "  </tbody>\n",
       "</table>\n",
       "</div>"
      ],
      "text/plain": [
       "                     nombre oro plata bronce\n",
       "0         Equipo Unificado   45    38     29\n",
       "1           Estados Unidos   37    34     37\n",
       "2                 Alemania   33    21     28\n",
       "3  República Popular China   16    22     16\n",
       "4                     Cuba   14     6     11\n",
       "5                   España   13     7      2\n",
       "6            Corea del Sur   12     5     12\n",
       "7                  Hungría   11    12      7\n",
       "8                  Francia    8     5     16\n",
       "9                Australia    7     9     11"
      ]
     },
     "execution_count": 108,
     "metadata": {},
     "output_type": "execute_result"
    }
   ],
   "source": [
    "df_medallas"
   ]
  },
  {
   "cell_type": "code",
   "execution_count": null,
   "id": "0615ec17",
   "metadata": {},
   "outputs": [],
   "source": []
  },
  {
   "cell_type": "code",
   "execution_count": null,
   "id": "a930d2b5",
   "metadata": {},
   "outputs": [],
   "source": []
  }
 ],
 "metadata": {
  "kernelspec": {
   "display_name": "scrap",
   "language": "python",
   "name": "scrap"
  },
  "language_info": {
   "codemirror_mode": {
    "name": "ipython",
    "version": 3
   },
   "file_extension": ".py",
   "mimetype": "text/x-python",
   "name": "python",
   "nbconvert_exporter": "python",
   "pygments_lexer": "ipython3",
   "version": "3.10.8"
  },
  "toc": {
   "base_numbering": 1,
   "nav_menu": {},
   "number_sections": true,
   "sideBar": true,
   "skip_h1_title": true,
   "title_cell": "Table of Contents",
   "title_sidebar": "Contents",
   "toc_cell": true,
   "toc_position": {},
   "toc_section_display": true,
   "toc_window_display": false
  }
 },
 "nbformat": 4,
 "nbformat_minor": 5
}
