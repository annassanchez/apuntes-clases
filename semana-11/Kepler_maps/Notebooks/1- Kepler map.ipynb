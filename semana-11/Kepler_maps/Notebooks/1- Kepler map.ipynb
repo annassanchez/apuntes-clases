{
 "cells": [
  {
   "cell_type": "markdown",
   "id": "c186bf80",
   "metadata": {
    "toc": true
   },
   "source": [
    "<h1>Table of Contents<span class=\"tocSkip\"></span></h1>\n",
    "<div class=\"toc\"><ul class=\"toc-item\"><li><span><a href=\"#Libraries\" data-toc-modified-id=\"Libraries-1\"><span class=\"toc-item-num\">1&nbsp;&nbsp;</span>Libraries</a></span></li><li><span><a href=\"#Crimes-in-Nueva-York\" data-toc-modified-id=\"Crimes-in-Nueva-York-2\"><span class=\"toc-item-num\">2&nbsp;&nbsp;</span>Crimes in Nueva York</a></span><ul class=\"toc-item\"><li><span><a href=\"#Time-to-map-the-dataset\" data-toc-modified-id=\"Time-to-map-the-dataset-2.1\"><span class=\"toc-item-num\">2.1&nbsp;&nbsp;</span>Time to map the dataset</a></span><ul class=\"toc-item\"><li><span><a href=\"#Configuration\" data-toc-modified-id=\"Configuration-2.1.1\"><span class=\"toc-item-num\">2.1.1&nbsp;&nbsp;</span>Configuration</a></span></li><li><span><a href=\"#Save-the-configuration-in-.py-file\" data-toc-modified-id=\"Save-the-configuration-in-.py-file-2.1.2\"><span class=\"toc-item-num\">2.1.2&nbsp;&nbsp;</span>Save the configuration in .py file</a></span></li><li><span><a href=\"#Save-the-map\" data-toc-modified-id=\"Save-the-map-2.1.3\"><span class=\"toc-item-num\">2.1.3&nbsp;&nbsp;</span>Save the map</a></span></li></ul></li></ul></li><li><span><a href=\"#Time-series-in-Kepler\" data-toc-modified-id=\"Time-series-in-Kepler-3\"><span class=\"toc-item-num\">3&nbsp;&nbsp;</span>Time series in Kepler</a></span></li><li><span><a href=\"#Uk-movements\" data-toc-modified-id=\"Uk-movements-4\"><span class=\"toc-item-num\">4&nbsp;&nbsp;</span>Uk movements</a></span></li></ul></div>"
   ]
  },
  {
   "cell_type": "markdown",
   "id": "90781a77",
   "metadata": {},
   "source": [
    "![portada](https://miro.medium.com/max/7077/1*0l-WeqdtYRruoV_XxS-ZKg.png)"
   ]
  },
  {
   "cell_type": "markdown",
   "id": "1ee1b849",
   "metadata": {},
   "source": [
    "# Libraries "
   ]
  },
  {
   "cell_type": "code",
   "execution_count": 1,
   "id": "6d4d6494",
   "metadata": {
    "scrolled": true
   },
   "outputs": [],
   "source": [
    "import pandas as pd\n",
    "import geopandas as gpd\n",
    "from keplergl import KeplerGl"
   ]
  },
  {
   "cell_type": "code",
   "execution_count": null,
   "id": "2df477b7",
   "metadata": {},
   "outputs": [],
   "source": [
    "!pip install geopandas\n",
    "!pip install keplergl"
   ]
  },
  {
   "cell_type": "markdown",
   "id": "78e5dc18",
   "metadata": {},
   "source": [
    "# Crimes in Nueva York "
   ]
  },
  {
   "cell_type": "code",
   "execution_count": 3,
   "id": "f1a5323e",
   "metadata": {},
   "outputs": [],
   "source": [
    "df = pd.read_csv(\"../data/NYPD_Shoot_.csv\", index_col = 0)"
   ]
  },
  {
   "cell_type": "code",
   "execution_count": 4,
   "id": "06045ac0",
   "metadata": {},
   "outputs": [
    {
     "data": {
      "text/html": [
       "<div>\n",
       "<style scoped>\n",
       "    .dataframe tbody tr th:only-of-type {\n",
       "        vertical-align: middle;\n",
       "    }\n",
       "\n",
       "    .dataframe tbody tr th {\n",
       "        vertical-align: top;\n",
       "    }\n",
       "\n",
       "    .dataframe thead th {\n",
       "        text-align: right;\n",
       "    }\n",
       "</style>\n",
       "<table border=\"1\" class=\"dataframe\">\n",
       "  <thead>\n",
       "    <tr style=\"text-align: right;\">\n",
       "      <th></th>\n",
       "      <th>INCIDENT_KEY</th>\n",
       "      <th>OCCUR_DATE</th>\n",
       "      <th>OCCUR_TIME</th>\n",
       "      <th>BORO</th>\n",
       "      <th>PRECINCT</th>\n",
       "      <th>JURISDICTION_CODE</th>\n",
       "      <th>LOCATION_DESC</th>\n",
       "      <th>STATISTICAL_MURDER_FLAG</th>\n",
       "      <th>PERP_AGE_GROUP</th>\n",
       "      <th>PERP_SEX</th>\n",
       "      <th>PERP_RACE</th>\n",
       "      <th>VIC_AGE_GROUP</th>\n",
       "      <th>VIC_SEX</th>\n",
       "      <th>VIC_RACE</th>\n",
       "      <th>X_COORD_CD</th>\n",
       "      <th>Y_COORD_CD</th>\n",
       "      <th>Latitude</th>\n",
       "      <th>Longitude</th>\n",
       "      <th>New Georeferenced Column</th>\n",
       "      <th>icon</th>\n",
       "    </tr>\n",
       "  </thead>\n",
       "  <tbody>\n",
       "    <tr>\n",
       "      <th>0</th>\n",
       "      <td>221467363</td>\n",
       "      <td>12/07/2020</td>\n",
       "      <td>05:50:00</td>\n",
       "      <td>BRONX</td>\n",
       "      <td>40</td>\n",
       "      <td>0</td>\n",
       "      <td>NaN</td>\n",
       "      <td>False</td>\n",
       "      <td>NaN</td>\n",
       "      <td>NaN</td>\n",
       "      <td>NaN</td>\n",
       "      <td>18-24</td>\n",
       "      <td>M</td>\n",
       "      <td>BLACK</td>\n",
       "      <td>1020183</td>\n",
       "      <td>239283</td>\n",
       "      <td>40.823387</td>\n",
       "      <td>-73.870170</td>\n",
       "      <td>POINT (-73.87017045 40.82338729100008)</td>\n",
       "      <td>home</td>\n",
       "    </tr>\n",
       "    <tr>\n",
       "      <th>1</th>\n",
       "      <td>213923358</td>\n",
       "      <td>06/06/2020</td>\n",
       "      <td>21:00:00</td>\n",
       "      <td>BRONX</td>\n",
       "      <td>47</td>\n",
       "      <td>0</td>\n",
       "      <td>NaN</td>\n",
       "      <td>False</td>\n",
       "      <td>NaN</td>\n",
       "      <td>NaN</td>\n",
       "      <td>NaN</td>\n",
       "      <td>18-24</td>\n",
       "      <td>M</td>\n",
       "      <td>BLACK</td>\n",
       "      <td>1009548</td>\n",
       "      <td>258693</td>\n",
       "      <td>40.876699</td>\n",
       "      <td>-73.908523</td>\n",
       "      <td>POINT (-73.90852293799998 40.87669883700005)</td>\n",
       "      <td>home</td>\n",
       "    </tr>\n",
       "  </tbody>\n",
       "</table>\n",
       "</div>"
      ],
      "text/plain": [
       "   INCIDENT_KEY  OCCUR_DATE OCCUR_TIME   BORO  PRECINCT  JURISDICTION_CODE  \\\n",
       "0     221467363  12/07/2020   05:50:00  BRONX        40                  0   \n",
       "1     213923358  06/06/2020   21:00:00  BRONX        47                  0   \n",
       "\n",
       "  LOCATION_DESC  STATISTICAL_MURDER_FLAG PERP_AGE_GROUP PERP_SEX PERP_RACE  \\\n",
       "0           NaN                    False            NaN      NaN       NaN   \n",
       "1           NaN                    False            NaN      NaN       NaN   \n",
       "\n",
       "  VIC_AGE_GROUP VIC_SEX VIC_RACE  X_COORD_CD  Y_COORD_CD   Latitude  \\\n",
       "0         18-24       M    BLACK     1020183      239283  40.823387   \n",
       "1         18-24       M    BLACK     1009548      258693  40.876699   \n",
       "\n",
       "   Longitude                      New Georeferenced Column  icon  \n",
       "0 -73.870170        POINT (-73.87017045 40.82338729100008)  home  \n",
       "1 -73.908523  POINT (-73.90852293799998 40.87669883700005)  home  "
      ]
     },
     "execution_count": 4,
     "metadata": {},
     "output_type": "execute_result"
    }
   ],
   "source": [
    "df.head(2)"
   ]
  },
  {
   "cell_type": "markdown",
   "id": "4686ac20",
   "metadata": {},
   "source": [
    "## Time to map the dataset"
   ]
  },
  {
   "cell_type": "markdown",
   "id": "61b07ac1",
   "metadata": {},
   "source": [
    "The usual Kepler.gl workflow is as follows:\n",
    "\n",
    "    1- Add data to the map  \n",
    "    2- Create data layers  \n",
    "    3- Add filters  \n",
    "    4- Customize your map settings  \n",
    "    5- Save your map as an image and export it as a html file\n"
   ]
  },
  {
   "cell_type": "code",
   "execution_count": null,
   "id": "772e9e18",
   "metadata": {},
   "outputs": [],
   "source": []
  },
  {
   "cell_type": "markdown",
   "id": "316c463b",
   "metadata": {},
   "source": [
    "### Configuration\n",
    "Each map will have a configuration file in dictionary format. We can save this configuration and work with it later without having to touch the interface again."
   ]
  },
  {
   "cell_type": "code",
   "execution_count": null,
   "id": "7d1e0751",
   "metadata": {},
   "outputs": [],
   "source": []
  },
  {
   "cell_type": "code",
   "execution_count": null,
   "id": "7be4b7eb",
   "metadata": {},
   "outputs": [],
   "source": []
  },
  {
   "cell_type": "code",
   "execution_count": null,
   "id": "9d988a4b",
   "metadata": {},
   "outputs": [],
   "source": []
  },
  {
   "cell_type": "code",
   "execution_count": null,
   "id": "5a8e0d7b",
   "metadata": {},
   "outputs": [],
   "source": []
  },
  {
   "cell_type": "code",
   "execution_count": null,
   "id": "d653c885",
   "metadata": {},
   "outputs": [],
   "source": []
  },
  {
   "cell_type": "code",
   "execution_count": null,
   "id": "68fd4c6c",
   "metadata": {},
   "outputs": [],
   "source": []
  },
  {
   "cell_type": "code",
   "execution_count": null,
   "id": "1ea0d5b7",
   "metadata": {},
   "outputs": [],
   "source": []
  },
  {
   "cell_type": "markdown",
   "id": "bd6bb08e",
   "metadata": {},
   "source": [
    "### Save the configuration in .py file"
   ]
  },
  {
   "cell_type": "code",
   "execution_count": null,
   "id": "69a3134d",
   "metadata": {},
   "outputs": [],
   "source": [
    "# Save map_1 config to a file\n",
    "\n"
   ]
  },
  {
   "cell_type": "code",
   "execution_count": null,
   "id": "ffc03ca8",
   "metadata": {
    "scrolled": false
   },
   "outputs": [],
   "source": [
    "# create the map with the configuration\n",
    "\n"
   ]
  },
  {
   "cell_type": "markdown",
   "id": "05cc69ac",
   "metadata": {},
   "source": [
    "### Save the map "
   ]
  },
  {
   "cell_type": "markdown",
   "id": "99af00a0",
   "metadata": {},
   "source": [
    "# Time series in Kepler"
   ]
  },
  {
   "cell_type": "markdown",
   "id": "d90e0d36",
   "metadata": {},
   "source": [
    "Besides geospatial data, Kepler.gl’s can handle **spatiotemporal** data and add time playbacks to visualize data evolution over time. This is enabled by the “filters” concept in Kepler.gl. "
   ]
  },
  {
   "cell_type": "markdown",
   "id": "2cc748ae",
   "metadata": {},
   "source": [
    "For this example we are going to use a database of taxi movements in New York. The objective is to represent all the taxi movements in this city throughout the day. You can download the dateset [here](https://www1.nyc.gov/site/tlc/about/tlc-trip-record-data.page)"
   ]
  },
  {
   "cell_type": "code",
   "execution_count": 7,
   "id": "5fb3636a",
   "metadata": {},
   "outputs": [
    {
     "data": {
      "text/html": [
       "<div>\n",
       "<style scoped>\n",
       "    .dataframe tbody tr th:only-of-type {\n",
       "        vertical-align: middle;\n",
       "    }\n",
       "\n",
       "    .dataframe tbody tr th {\n",
       "        vertical-align: top;\n",
       "    }\n",
       "\n",
       "    .dataframe thead th {\n",
       "        text-align: right;\n",
       "    }\n",
       "</style>\n",
       "<table border=\"1\" class=\"dataframe\">\n",
       "  <thead>\n",
       "    <tr style=\"text-align: right;\">\n",
       "      <th></th>\n",
       "      <th>VendorID</th>\n",
       "      <th>tpep_pickup_datetime</th>\n",
       "      <th>tpep_dropoff_datetime</th>\n",
       "      <th>passenger_count</th>\n",
       "      <th>trip_distance</th>\n",
       "      <th>pickup_longitude</th>\n",
       "      <th>pickup_latitude</th>\n",
       "      <th>dropoff_longitude</th>\n",
       "      <th>dropoff_latitude</th>\n",
       "      <th>fare_amount</th>\n",
       "      <th>tip_amount</th>\n",
       "      <th>total_amount</th>\n",
       "    </tr>\n",
       "  </thead>\n",
       "  <tbody>\n",
       "    <tr>\n",
       "      <th>0</th>\n",
       "      <td>2</td>\n",
       "      <td>2015-01-15 19:05:39 +00:00</td>\n",
       "      <td>2015-01-15 19:23:42 +00:00</td>\n",
       "      <td>1.0</td>\n",
       "      <td>1.59</td>\n",
       "      <td>-73.993896</td>\n",
       "      <td>40.750111</td>\n",
       "      <td>-73.974785</td>\n",
       "      <td>40.750618</td>\n",
       "      <td>12.0</td>\n",
       "      <td>3.25</td>\n",
       "      <td>17.05</td>\n",
       "    </tr>\n",
       "    <tr>\n",
       "      <th>1</th>\n",
       "      <td>2</td>\n",
       "      <td>2015-01-15 19:05:39 +00:00</td>\n",
       "      <td>2015-01-15 19:32:00 +00:00</td>\n",
       "      <td>1.0</td>\n",
       "      <td>2.38</td>\n",
       "      <td>-73.976425</td>\n",
       "      <td>40.739811</td>\n",
       "      <td>-73.983978</td>\n",
       "      <td>40.757889</td>\n",
       "      <td>16.5</td>\n",
       "      <td>4.38</td>\n",
       "      <td>22.68</td>\n",
       "    </tr>\n",
       "    <tr>\n",
       "      <th>2</th>\n",
       "      <td>2</td>\n",
       "      <td>2015-01-15 19:05:40 +00:00</td>\n",
       "      <td>2015-01-15 19:21:00 +00:00</td>\n",
       "      <td>5.0</td>\n",
       "      <td>2.83</td>\n",
       "      <td>-73.968704</td>\n",
       "      <td>40.754246</td>\n",
       "      <td>-73.955124</td>\n",
       "      <td>40.786858</td>\n",
       "      <td>12.5</td>\n",
       "      <td>0.00</td>\n",
       "      <td>14.30</td>\n",
       "    </tr>\n",
       "    <tr>\n",
       "      <th>3</th>\n",
       "      <td>2</td>\n",
       "      <td>2015-01-15 19:05:40 +00:00</td>\n",
       "      <td>2015-01-15 19:28:18 +00:00</td>\n",
       "      <td>5.0</td>\n",
       "      <td>8.33</td>\n",
       "      <td>-73.863060</td>\n",
       "      <td>40.769581</td>\n",
       "      <td>-73.952713</td>\n",
       "      <td>40.785782</td>\n",
       "      <td>26.0</td>\n",
       "      <td>8.08</td>\n",
       "      <td>41.21</td>\n",
       "    </tr>\n",
       "    <tr>\n",
       "      <th>4</th>\n",
       "      <td>2</td>\n",
       "      <td>2015-01-15 19:05:41 +00:00</td>\n",
       "      <td>2015-01-15 19:20:36 +00:00</td>\n",
       "      <td>1.0</td>\n",
       "      <td>2.37</td>\n",
       "      <td>-73.945541</td>\n",
       "      <td>40.779423</td>\n",
       "      <td>-73.980850</td>\n",
       "      <td>40.786083</td>\n",
       "      <td>11.5</td>\n",
       "      <td>0.00</td>\n",
       "      <td>13.30</td>\n",
       "    </tr>\n",
       "  </tbody>\n",
       "</table>\n",
       "</div>"
      ],
      "text/plain": [
       "   VendorID        tpep_pickup_datetime       tpep_dropoff_datetime  \\\n",
       "0         2  2015-01-15 19:05:39 +00:00  2015-01-15 19:23:42 +00:00   \n",
       "1         2  2015-01-15 19:05:39 +00:00  2015-01-15 19:32:00 +00:00   \n",
       "2         2  2015-01-15 19:05:40 +00:00  2015-01-15 19:21:00 +00:00   \n",
       "3         2  2015-01-15 19:05:40 +00:00  2015-01-15 19:28:18 +00:00   \n",
       "4         2  2015-01-15 19:05:41 +00:00  2015-01-15 19:20:36 +00:00   \n",
       "\n",
       "   passenger_count  trip_distance  pickup_longitude  pickup_latitude  \\\n",
       "0              1.0           1.59        -73.993896        40.750111   \n",
       "1              1.0           2.38        -73.976425        40.739811   \n",
       "2              5.0           2.83        -73.968704        40.754246   \n",
       "3              5.0           8.33        -73.863060        40.769581   \n",
       "4              1.0           2.37        -73.945541        40.779423   \n",
       "\n",
       "   dropoff_longitude  dropoff_latitude  fare_amount  tip_amount  total_amount  \n",
       "0         -73.974785         40.750618         12.0        3.25         17.05  \n",
       "1         -73.983978         40.757889         16.5        4.38         22.68  \n",
       "2         -73.955124         40.786858         12.5        0.00         14.30  \n",
       "3         -73.952713         40.785782         26.0        8.08         41.21  \n",
       "4         -73.980850         40.786083         11.5        0.00         13.30  "
      ]
     },
     "execution_count": 7,
     "metadata": {},
     "output_type": "execute_result"
    }
   ],
   "source": [
    "df_1 = pd.read_csv(\"../Input/nytrips.csv\")\n",
    "df_1.head()"
   ]
  },
  {
   "cell_type": "code",
   "execution_count": 10,
   "id": "36ef94e0",
   "metadata": {},
   "outputs": [
    {
     "data": {
      "text/plain": [
       "(91910, 12)"
      ]
     },
     "execution_count": 10,
     "metadata": {},
     "output_type": "execute_result"
    }
   ],
   "source": [
    "df_1.shape"
   ]
  },
  {
   "cell_type": "code",
   "execution_count": 8,
   "id": "f1a96729",
   "metadata": {},
   "outputs": [
    {
     "data": {
      "text/plain": [
       "VendorID                   int64\n",
       "tpep_pickup_datetime      object\n",
       "tpep_dropoff_datetime     object\n",
       "passenger_count          float64\n",
       "trip_distance            float64\n",
       "pickup_longitude         float64\n",
       "pickup_latitude          float64\n",
       "dropoff_longitude        float64\n",
       "dropoff_latitude         float64\n",
       "fare_amount              float64\n",
       "tip_amount               float64\n",
       "total_amount             float64\n",
       "dtype: object"
      ]
     },
     "execution_count": 8,
     "metadata": {},
     "output_type": "execute_result"
    }
   ],
   "source": [
    "df_1.dtypes"
   ]
  },
  {
   "cell_type": "markdown",
   "id": "43385819",
   "metadata": {},
   "source": [
    "##### To add data to the map, also we can use the add_data method. \n",
    "   > **1-** Load a basemap with the `height` and `width` parameters \n",
    "    \n",
    "   > **2-** Use the `add_data` method. In this method we need to specify:  \n",
    "        - data ==> the target dataframe  \n",
    "        - name ==> the map's name  \n"
   ]
  },
  {
   "cell_type": "code",
   "execution_count": 9,
   "id": "bd3ab1b2",
   "metadata": {},
   "outputs": [
    {
     "name": "stdout",
     "output_type": "stream",
     "text": [
      "User Guide: https://docs.kepler.gl/docs/keplergl-jupyter\n"
     ]
    },
    {
     "data": {
      "application/vnd.jupyter.widget-view+json": {
       "model_id": "7ae36ef01ae341e09fd80f45edbe0168",
       "version_major": 2,
       "version_minor": 0
      },
      "text/plain": [
       "KeplerGl(data={'viajes':        VendorID        tpep_pickup_datetime       tpep_dropoff_datetime  \\\n",
       "0         …"
      ]
     },
     "metadata": {},
     "output_type": "display_data"
    }
   ],
   "source": [
    "map_3 = KeplerGl(height = 600, weight = 500, data = {\"viajes\": df_1})\n",
    "map_3"
   ]
  },
  {
   "cell_type": "code",
   "execution_count": null,
   "id": "adb3723a",
   "metadata": {
    "scrolled": false
   },
   "outputs": [],
   "source": []
  },
  {
   "cell_type": "markdown",
   "id": "63944a16",
   "metadata": {},
   "source": [
    "# Uk movements\n",
    "\n",
    "In this example we will see the commute patterns in th UK. A origin destination map using 3D **arcs** to show commute patterns of England and Wales residence. \n",
    "\n",
    "Also,  we will see how to use the **brush** parameter. With this parameter we will establish a radius that will act as a filter. Placing the mouse over a point will only return the data that is within the radius that we have specified."
   ]
  },
  {
   "cell_type": "code",
   "execution_count": null,
   "id": "e6c509d4",
   "metadata": {},
   "outputs": [],
   "source": [
    "df_2= pd.read_csv(\"../Input/uk_mov.csv\")\n",
    "df_2.head()"
   ]
  },
  {
   "cell_type": "code",
   "execution_count": null,
   "id": "c94791db",
   "metadata": {},
   "outputs": [],
   "source": [
    "# create the basemap and add the data\n"
   ]
  },
  {
   "cell_type": "code",
   "execution_count": null,
   "id": "430f2b76",
   "metadata": {
    "scrolled": false
   },
   "outputs": [],
   "source": []
  },
  {
   "cell_type": "code",
   "execution_count": null,
   "id": "a7720b5c",
   "metadata": {},
   "outputs": [],
   "source": [
    "# Save map_2 config to a file\n",
    "\n"
   ]
  },
  {
   "cell_type": "code",
   "execution_count": null,
   "id": "dfc68fb8",
   "metadata": {},
   "outputs": [],
   "source": []
  },
  {
   "cell_type": "code",
   "execution_count": null,
   "id": "a2ee0f33",
   "metadata": {},
   "outputs": [],
   "source": []
  },
  {
   "cell_type": "code",
   "execution_count": null,
   "id": "a49702a7",
   "metadata": {},
   "outputs": [],
   "source": []
  }
 ],
 "metadata": {
  "interpreter": {
   "hash": "db7de0bc0aab179661c0d8ef69cca55c2d437e4ab157a2cc4ba69a84a451c4ad"
  },
  "kernelspec": {
   "display_name": "kepler2",
   "language": "python",
   "name": "kepler2"
  },
  "language_info": {
   "codemirror_mode": {
    "name": "ipython",
    "version": 3
   },
   "file_extension": ".py",
   "mimetype": "text/x-python",
   "name": "python",
   "nbconvert_exporter": "python",
   "pygments_lexer": "ipython3",
   "version": "3.9.15"
  },
  "toc": {
   "base_numbering": 1,
   "nav_menu": {},
   "number_sections": true,
   "sideBar": true,
   "skip_h1_title": false,
   "title_cell": "Table of Contents",
   "title_sidebar": "Contents",
   "toc_cell": true,
   "toc_position": {},
   "toc_section_display": true,
   "toc_window_display": false
  },
  "varInspector": {
   "cols": {
    "lenName": 16,
    "lenType": 16,
    "lenVar": 40
   },
   "kernels_config": {
    "python": {
     "delete_cmd_postfix": "",
     "delete_cmd_prefix": "del ",
     "library": "var_list.py",
     "varRefreshCmd": "print(var_dic_list())"
    },
    "r": {
     "delete_cmd_postfix": ") ",
     "delete_cmd_prefix": "rm(",
     "library": "var_list.r",
     "varRefreshCmd": "cat(var_dic_list()) "
    }
   },
   "position": {
    "height": "716px",
    "left": "1550px",
    "right": "20px",
    "top": "120px",
    "width": "350px"
   },
   "types_to_exclude": [
    "module",
    "function",
    "builtin_function_or_method",
    "instance",
    "_Feature"
   ],
   "window_display": false
  }
 },
 "nbformat": 4,
 "nbformat_minor": 5
}
