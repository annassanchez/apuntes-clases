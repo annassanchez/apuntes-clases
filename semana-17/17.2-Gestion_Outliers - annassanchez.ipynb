{
 "cells": [
  {
   "cell_type": "markdown",
   "id": "fd4c7f33",
   "metadata": {
    "toc": true
   },
   "source": [
    "<h1>Table of Contents<span class=\"tocSkip\"></span></h1>\n",
    "<div class=\"toc\"><ul class=\"toc-item\"><li><span><a href=\"#Tratamiento-de-outliers-o-valores-perdidos\" data-toc-modified-id=\"Tratamiento-de-outliers-o-valores-perdidos-1\"><span class=\"toc-item-num\">1&nbsp;&nbsp;</span>Tratamiento de <em>outliers</em> o valores perdidos</a></span></li><li><span><a href=\"#Eliminar-outliers\" data-toc-modified-id=\"Eliminar-outliers-2\"><span class=\"toc-item-num\">2&nbsp;&nbsp;</span>Eliminar <em>outliers</em></a></span></li><li><span><a href=\"#Reemplazar\" data-toc-modified-id=\"Reemplazar-3\"><span class=\"toc-item-num\">3&nbsp;&nbsp;</span>Reemplazar</a></span></li></ul></div>"
   ]
  },
  {
   "cell_type": "markdown",
   "id": "24b0b8d1",
   "metadata": {},
   "source": [
    "# Tratamiento de *outliers* o valores perdidos\n",
    "\n",
    "Los *outliers* o valores perdidos son observaciones anormales en nuestros datos que puede afectar potencialmente nuestros análisis. \n",
    "\n",
    "> Es decir, un *outlier* es una observación dentro de nuestros datos que nos es consistente con el resto, que se escapa. \n",
    "\n",
    "Imaginemos que estamos midiendo el peso de las alumnas de una clase y son los siguientes:\n",
    "\n",
    "```python\n",
    "pesos = [92.31, 76.4, 87.3, 60.86, 65.96, 74.23, 87.56, 82.47, 69.27, 81.69]\n",
    "```\n",
    "\n",
    "- el peso máximo es de 92.31\n",
    "\n",
    "\n",
    "- el peso mínimo es de 60.86\n",
    "\n",
    "\n",
    "- la media del peso de la clase sería 77.085. \n",
    "\n",
    "\n",
    "- la distancia del máximo y del mínimo a la media es de 14.504 y 16.94 respectivamente. \n",
    "\n",
    "**Como vemos la media se sitúa en la mitad del intervalo y nos podría dar una muy buena estimación del peso de la clase** \n",
    "\n",
    "\n",
    "Imaginemos ahora que el peso de los 10 las alumnas son: \n",
    "\n",
    "```python\n",
    "pesos2 = [92.31, 76.4, 117.3, 60.86, 65.96, 74.23, 87.56, 82.47, 69.27, 81.69]\n",
    "```\n",
    "En este caso: \n",
    "\n",
    "- el peso máximo es de 117.3\n",
    "\n",
    "\n",
    "- el peso mínimo es de 60.86\n",
    "\n",
    "\n",
    "- la media del peso de la clase sería 80.805. \n",
    "\n",
    "\n",
    "- la distancia del máximo y del mínimo a la media es de 36.49 y 19.94 respectivamente. \n",
    "\n",
    "**En este caso la media ya no está situada aproximadamente en la mitad del intervalo**. El efecto de la alumna que tiene un mayor perso ha hecho que la media aritmética se haya desplazado hacia el valor máximo y por lo tanto ya no es tan buena representación de como se reparten los pesos en la clase.  \n",
    "\n",
    "\n",
    "Es en este caso, cuando el tratamiento de los *outliers* debe ser solucionado. Esto lo podemos hacer de distintas formas: \n",
    "\n",
    "- Eliminación de esos registros \n",
    "\n",
    "\n",
    "- Reemplazar por la media, mediana, moda...\n",
    "\n",
    "\n",
    "- Mantenerlos (si el problema a resolver tiene que ver con outliers). \n",
    "\n",
    "\n",
    "Pero antes de ponernos a quitar datos o reemplazarlos tenemos que identificar cuales son los *outliers* en nuestro datos. \n",
    "\n",
    "- Lo podemos hacer visualmente usando un `boxplot`. \n"
   ]
  },
  {
   "cell_type": "code",
   "execution_count": 1,
   "id": "f9cda707",
   "metadata": {},
   "outputs": [],
   "source": [
    "import pandas as pd\n",
    "import numpy as np\n",
    "import matplotlib.pyplot as plt\n",
    "import seaborn as sns"
   ]
  },
  {
   "cell_type": "code",
   "execution_count": 2,
   "id": "6bab5331",
   "metadata": {},
   "outputs": [
    {
     "data": {
      "text/html": [
       "<div>\n",
       "<style scoped>\n",
       "    .dataframe tbody tr th:only-of-type {\n",
       "        vertical-align: middle;\n",
       "    }\n",
       "\n",
       "    .dataframe tbody tr th {\n",
       "        vertical-align: top;\n",
       "    }\n",
       "\n",
       "    .dataframe thead th {\n",
       "        text-align: right;\n",
       "    }\n",
       "</style>\n",
       "<table border=\"1\" class=\"dataframe\">\n",
       "  <thead>\n",
       "    <tr style=\"text-align: right;\">\n",
       "      <th></th>\n",
       "      <th>state</th>\n",
       "      <th>gender</th>\n",
       "      <th>median_home_val</th>\n",
       "      <th>median_household_income</th>\n",
       "      <th>num_habitaciones</th>\n",
       "      <th>num_vecinos</th>\n",
       "      <th>total_habitaciones</th>\n",
       "      <th>total_baños</th>\n",
       "      <th>dist_playa</th>\n",
       "    </tr>\n",
       "  </thead>\n",
       "  <tbody>\n",
       "    <tr>\n",
       "      <th>0</th>\n",
       "      <td>FL</td>\n",
       "      <td>M</td>\n",
       "      <td>1158.437751</td>\n",
       "      <td>392.0</td>\n",
       "      <td>430.0</td>\n",
       "      <td>466.0</td>\n",
       "      <td>520.0</td>\n",
       "      <td>21975.0</td>\n",
       "      <td>NaN</td>\n",
       "    </tr>\n",
       "    <tr>\n",
       "      <th>1</th>\n",
       "      <td>IL</td>\n",
       "      <td>M</td>\n",
       "      <td>537.000000</td>\n",
       "      <td>365.0</td>\n",
       "      <td>415.0</td>\n",
       "      <td>410.0</td>\n",
       "      <td>473.0</td>\n",
       "      <td>19387.0</td>\n",
       "      <td>5.666667</td>\n",
       "    </tr>\n",
       "    <tr>\n",
       "      <th>2</th>\n",
       "      <td>FL</td>\n",
       "      <td>F</td>\n",
       "      <td>725.000000</td>\n",
       "      <td>301.0</td>\n",
       "      <td>340.0</td>\n",
       "      <td>361.0</td>\n",
       "      <td>436.0</td>\n",
       "      <td>18837.0</td>\n",
       "      <td>4.111111</td>\n",
       "    </tr>\n",
       "    <tr>\n",
       "      <th>3</th>\n",
       "      <td>NC</td>\n",
       "      <td>M</td>\n",
       "      <td>1158.437751</td>\n",
       "      <td>401.0</td>\n",
       "      <td>407.0</td>\n",
       "      <td>399.0</td>\n",
       "      <td>413.0</td>\n",
       "      <td>14014.0</td>\n",
       "      <td>27.277778</td>\n",
       "    </tr>\n",
       "    <tr>\n",
       "      <th>4</th>\n",
       "      <td>FL</td>\n",
       "      <td>F</td>\n",
       "      <td>995.000000</td>\n",
       "      <td>252.0</td>\n",
       "      <td>280.0</td>\n",
       "      <td>316.0</td>\n",
       "      <td>348.0</td>\n",
       "      <td>17991.0</td>\n",
       "      <td>6.000000</td>\n",
       "    </tr>\n",
       "  </tbody>\n",
       "</table>\n",
       "</div>"
      ],
      "text/plain": [
       "  state gender  median_home_val  median_household_income  num_habitaciones  \\\n",
       "0    FL      M      1158.437751                    392.0             430.0   \n",
       "1    IL      M       537.000000                    365.0             415.0   \n",
       "2    FL      F       725.000000                    301.0             340.0   \n",
       "3    NC      M      1158.437751                    401.0             407.0   \n",
       "4    FL      F       995.000000                    252.0             280.0   \n",
       "\n",
       "   num_vecinos  total_habitaciones  total_baños  dist_playa  \n",
       "0        466.0               520.0      21975.0         NaN  \n",
       "1        410.0               473.0      19387.0    5.666667  \n",
       "2        361.0               436.0      18837.0    4.111111  \n",
       "3        399.0               413.0      14014.0   27.277778  \n",
       "4        316.0               348.0      17991.0    6.000000  "
      ]
     },
     "execution_count": 2,
     "metadata": {},
     "output_type": "execute_result"
    }
   ],
   "source": [
    "df = pd.read_csv(\"data/california.csv\", index_col = 0)\n",
    "nuevas_columnas = {\n",
    "    \"ic2\" : \"num_habitaciones\", \n",
    "    \"ic3\": \"num_vecinos\", \n",
    "    \"ic4\": \"total_habitaciones\", \n",
    "    \"ic5\": \"total_baños\", \n",
    "    \"avggift\": \"dist_playa\"}\n",
    "\n",
    "df.rename(columns = nuevas_columnas, inplace = True)\n",
    "df.head()"
   ]
  },
  {
   "attachments": {},
   "cell_type": "markdown",
   "id": "a29d1598",
   "metadata": {},
   "source": [
    "los outliers solo se pueden identificar en variables numéricas -- las categóricas no puedes identificar que está dentro del patrón o no.\n",
    "\n",
    "lo que sí que puedes ver con la categóricas es ver el número de elementos por categorías y si no son un número significativo, eliminarlos, o asumirlos ocmo otra categoría."
   ]
  },
  {
   "cell_type": "code",
   "execution_count": 3,
   "id": "48bd4a43",
   "metadata": {},
   "outputs": [],
   "source": [
    "# seleccionamos solo aquellas variables numéricas\n",
    "\n",
    "df_numericas = df.select_dtypes(include=np.number)"
   ]
  },
  {
   "cell_type": "code",
   "execution_count": 4,
   "id": "e643a584",
   "metadata": {},
   "outputs": [
    {
     "data": {
      "text/html": [
       "<div>\n",
       "<style scoped>\n",
       "    .dataframe tbody tr th:only-of-type {\n",
       "        vertical-align: middle;\n",
       "    }\n",
       "\n",
       "    .dataframe tbody tr th {\n",
       "        vertical-align: top;\n",
       "    }\n",
       "\n",
       "    .dataframe thead th {\n",
       "        text-align: right;\n",
       "    }\n",
       "</style>\n",
       "<table border=\"1\" class=\"dataframe\">\n",
       "  <thead>\n",
       "    <tr style=\"text-align: right;\">\n",
       "      <th></th>\n",
       "      <th>median_home_val</th>\n",
       "      <th>median_household_income</th>\n",
       "      <th>num_habitaciones</th>\n",
       "      <th>num_vecinos</th>\n",
       "      <th>total_habitaciones</th>\n",
       "      <th>total_baños</th>\n",
       "      <th>dist_playa</th>\n",
       "    </tr>\n",
       "  </thead>\n",
       "  <tbody>\n",
       "    <tr>\n",
       "      <th>0</th>\n",
       "      <td>1158.437751</td>\n",
       "      <td>392.0</td>\n",
       "      <td>430.0</td>\n",
       "      <td>466.0</td>\n",
       "      <td>520.0</td>\n",
       "      <td>21975.0</td>\n",
       "      <td>NaN</td>\n",
       "    </tr>\n",
       "    <tr>\n",
       "      <th>1</th>\n",
       "      <td>537.000000</td>\n",
       "      <td>365.0</td>\n",
       "      <td>415.0</td>\n",
       "      <td>410.0</td>\n",
       "      <td>473.0</td>\n",
       "      <td>19387.0</td>\n",
       "      <td>5.666667</td>\n",
       "    </tr>\n",
       "  </tbody>\n",
       "</table>\n",
       "</div>"
      ],
      "text/plain": [
       "   median_home_val  median_household_income  num_habitaciones  num_vecinos  \\\n",
       "0      1158.437751                    392.0             430.0        466.0   \n",
       "1       537.000000                    365.0             415.0        410.0   \n",
       "\n",
       "   total_habitaciones  total_baños  dist_playa  \n",
       "0               520.0      21975.0         NaN  \n",
       "1               473.0      19387.0    5.666667  "
      ]
     },
     "execution_count": 4,
     "metadata": {},
     "output_type": "execute_result"
    }
   ],
   "source": [
    "df_numericas.head(2)"
   ]
  },
  {
   "attachments": {},
   "cell_type": "markdown",
   "id": "d04c5e40",
   "metadata": {},
   "source": [
    "hay que identificar los outliers tanto en las variables predictoras como en la variable respuesta."
   ]
  },
  {
   "cell_type": "code",
   "execution_count": 5,
   "id": "8825ffde",
   "metadata": {},
   "outputs": [
    {
     "data": {
      "image/png": "[encoded data removed]",
      "text/plain": [
       "<Figure size 2000x1500 with 7 Axes>"
      ]
     },
     "metadata": {},
     "output_type": "display_data"
    }
   ],
   "source": [
    "fig, ax = plt.subplots(7, 1, figsize=(20,15))\n",
    "\n",
    "for i in range(len(df_numericas.columns)):\n",
    "    sns.boxplot(x=df_numericas.columns[i], data=df_numericas, ax=ax[i])\n",
    "plt.tight_layout()\n",
    "plt.show();"
   ]
  },
  {
   "attachments": {},
   "cell_type": "markdown",
   "id": "f5907f4f",
   "metadata": {},
   "source": [
    "el iqr es la caja\n",
    "\n",
    "el bigote es $$q3 + 1.5 * iqr$$ o $$q1 - 1.5 * iqr $$"
   ]
  },
  {
   "cell_type": "code",
   "execution_count": 6,
   "id": "5f793509",
   "metadata": {},
   "outputs": [
    {
     "data": {
      "text/html": [
       "<div>\n",
       "<style scoped>\n",
       "    .dataframe tbody tr th:only-of-type {\n",
       "        vertical-align: middle;\n",
       "    }\n",
       "\n",
       "    .dataframe tbody tr th {\n",
       "        vertical-align: top;\n",
       "    }\n",
       "\n",
       "    .dataframe thead th {\n",
       "        text-align: right;\n",
       "    }\n",
       "</style>\n",
       "<table border=\"1\" class=\"dataframe\">\n",
       "  <thead>\n",
       "    <tr style=\"text-align: right;\">\n",
       "      <th></th>\n",
       "      <th>state</th>\n",
       "      <th>gender</th>\n",
       "      <th>median_home_val</th>\n",
       "      <th>median_household_income</th>\n",
       "      <th>num_habitaciones</th>\n",
       "      <th>num_vecinos</th>\n",
       "      <th>total_habitaciones</th>\n",
       "      <th>total_baños</th>\n",
       "      <th>dist_playa</th>\n",
       "    </tr>\n",
       "  </thead>\n",
       "  <tbody>\n",
       "    <tr>\n",
       "      <th>3126</th>\n",
       "      <td>AL</td>\n",
       "      <td>F</td>\n",
       "      <td>550.0</td>\n",
       "      <td>752.0</td>\n",
       "      <td>0.0</td>\n",
       "      <td>601.0</td>\n",
       "      <td>0.0</td>\n",
       "      <td>NaN</td>\n",
       "      <td>10.962963</td>\n",
       "    </tr>\n",
       "  </tbody>\n",
       "</table>\n",
       "</div>"
      ],
      "text/plain": [
       "     state gender  median_home_val  median_household_income  num_habitaciones  \\\n",
       "3126    AL      F            550.0                    752.0               0.0   \n",
       "\n",
       "      num_vecinos  total_habitaciones  total_baños  dist_playa  \n",
       "3126        601.0                 0.0          NaN   10.962963  "
      ]
     },
     "execution_count": 6,
     "metadata": {},
     "output_type": "execute_result"
    }
   ],
   "source": [
    "df[df['total_habitaciones'] == 0] #check lo puedes quitar"
   ]
  },
  {
   "cell_type": "code",
   "execution_count": 7,
   "id": "6ea9a70d",
   "metadata": {},
   "outputs": [
    {
     "data": {
      "text/html": [
       "<div>\n",
       "<style scoped>\n",
       "    .dataframe tbody tr th:only-of-type {\n",
       "        vertical-align: middle;\n",
       "    }\n",
       "\n",
       "    .dataframe tbody tr th {\n",
       "        vertical-align: top;\n",
       "    }\n",
       "\n",
       "    .dataframe thead th {\n",
       "        text-align: right;\n",
       "    }\n",
       "</style>\n",
       "<table border=\"1\" class=\"dataframe\">\n",
       "  <thead>\n",
       "    <tr style=\"text-align: right;\">\n",
       "      <th></th>\n",
       "      <th>state</th>\n",
       "      <th>gender</th>\n",
       "      <th>median_home_val</th>\n",
       "      <th>median_household_income</th>\n",
       "      <th>num_habitaciones</th>\n",
       "      <th>num_vecinos</th>\n",
       "      <th>total_habitaciones</th>\n",
       "      <th>total_baños</th>\n",
       "      <th>dist_playa</th>\n",
       "    </tr>\n",
       "  </thead>\n",
       "  <tbody>\n",
       "    <tr>\n",
       "      <th>0</th>\n",
       "      <td>FL</td>\n",
       "      <td>M</td>\n",
       "      <td>1158.437751</td>\n",
       "      <td>392.0</td>\n",
       "      <td>430.0</td>\n",
       "      <td>466.0</td>\n",
       "      <td>520.0</td>\n",
       "      <td>21975.0</td>\n",
       "      <td>NaN</td>\n",
       "    </tr>\n",
       "  </tbody>\n",
       "</table>\n",
       "</div>"
      ],
      "text/plain": [
       "  state gender  median_home_val  median_household_income  num_habitaciones  \\\n",
       "0    FL      M      1158.437751                    392.0             430.0   \n",
       "\n",
       "   num_vecinos  total_habitaciones  total_baños  dist_playa  \n",
       "0        466.0               520.0      21975.0         NaN  "
      ]
     },
     "execution_count": 7,
     "metadata": {},
     "output_type": "execute_result"
    }
   ],
   "source": [
    "df = df[df['total_habitaciones'] != 0] #esto lo mantienes\n",
    "df.head(1)"
   ]
  },
  {
   "attachments": {},
   "cell_type": "markdown",
   "id": "576dfa3e",
   "metadata": {},
   "source": [
    "la división del conjunto de datos se hace sobre la variable espuesta. ahora, que hago con los outliers de las variables predictoras?\n",
    "- divido el set de datos?\n",
    "- me cargo los outliers?"
   ]
  },
  {
   "cell_type": "code",
   "execution_count": 8,
   "id": "77547937",
   "metadata": {},
   "outputs": [
    {
     "data": {
      "text/html": [
       "<div>\n",
       "<style scoped>\n",
       "    .dataframe tbody tr th:only-of-type {\n",
       "        vertical-align: middle;\n",
       "    }\n",
       "\n",
       "    .dataframe tbody tr th {\n",
       "        vertical-align: top;\n",
       "    }\n",
       "\n",
       "    .dataframe thead th {\n",
       "        text-align: right;\n",
       "    }\n",
       "</style>\n",
       "<table border=\"1\" class=\"dataframe\">\n",
       "  <thead>\n",
       "    <tr style=\"text-align: right;\">\n",
       "      <th></th>\n",
       "      <th>count</th>\n",
       "      <th>mean</th>\n",
       "      <th>std</th>\n",
       "      <th>min</th>\n",
       "      <th>25%</th>\n",
       "      <th>50%</th>\n",
       "      <th>75%</th>\n",
       "      <th>max</th>\n",
       "    </tr>\n",
       "  </thead>\n",
       "  <tbody>\n",
       "    <tr>\n",
       "      <th>median_home_val</th>\n",
       "      <td>3332.0</td>\n",
       "      <td>958.860163</td>\n",
       "      <td>595.383548</td>\n",
       "      <td>128.00000</td>\n",
       "      <td>544.000000</td>\n",
       "      <td>770.0</td>\n",
       "      <td>1182.000000</td>\n",
       "      <td>2989.0</td>\n",
       "    </tr>\n",
       "    <tr>\n",
       "      <th>median_household_income</th>\n",
       "      <td>3234.0</td>\n",
       "      <td>333.297464</td>\n",
       "      <td>131.727277</td>\n",
       "      <td>53.00000</td>\n",
       "      <td>236.000000</td>\n",
       "      <td>312.0</td>\n",
       "      <td>409.000000</td>\n",
       "      <td>1273.0</td>\n",
       "    </tr>\n",
       "    <tr>\n",
       "      <th>num_habitaciones</th>\n",
       "      <td>3324.0</td>\n",
       "      <td>380.373947</td>\n",
       "      <td>136.675409</td>\n",
       "      <td>72.00000</td>\n",
       "      <td>282.000000</td>\n",
       "      <td>360.0</td>\n",
       "      <td>459.000000</td>\n",
       "      <td>1332.0</td>\n",
       "    </tr>\n",
       "    <tr>\n",
       "      <th>num_vecinos</th>\n",
       "      <td>3260.0</td>\n",
       "      <td>382.963804</td>\n",
       "      <td>133.481964</td>\n",
       "      <td>89.00000</td>\n",
       "      <td>286.000000</td>\n",
       "      <td>357.0</td>\n",
       "      <td>457.000000</td>\n",
       "      <td>1057.0</td>\n",
       "    </tr>\n",
       "    <tr>\n",
       "      <th>total_habitaciones</th>\n",
       "      <td>3299.0</td>\n",
       "      <td>426.035768</td>\n",
       "      <td>141.050249</td>\n",
       "      <td>94.00000</td>\n",
       "      <td>323.000000</td>\n",
       "      <td>402.0</td>\n",
       "      <td>503.000000</td>\n",
       "      <td>1118.0</td>\n",
       "    </tr>\n",
       "    <tr>\n",
       "      <th>total_baños</th>\n",
       "      <td>3000.0</td>\n",
       "      <td>15300.101000</td>\n",
       "      <td>6240.616037</td>\n",
       "      <td>3748.00000</td>\n",
       "      <td>11108.750000</td>\n",
       "      <td>14056.0</td>\n",
       "      <td>17913.000000</td>\n",
       "      <td>64360.0</td>\n",
       "    </tr>\n",
       "    <tr>\n",
       "      <th>dist_playa</th>\n",
       "      <td>3095.0</td>\n",
       "      <td>11.627769</td>\n",
       "      <td>10.625273</td>\n",
       "      <td>2.26087</td>\n",
       "      <td>7.064777</td>\n",
       "      <td>10.0</td>\n",
       "      <td>14.097619</td>\n",
       "      <td>450.0</td>\n",
       "    </tr>\n",
       "  </tbody>\n",
       "</table>\n",
       "</div>"
      ],
      "text/plain": [
       "                          count          mean          std         min  \\\n",
       "median_home_val          3332.0    958.860163   595.383548   128.00000   \n",
       "median_household_income  3234.0    333.297464   131.727277    53.00000   \n",
       "num_habitaciones         3324.0    380.373947   136.675409    72.00000   \n",
       "num_vecinos              3260.0    382.963804   133.481964    89.00000   \n",
       "total_habitaciones       3299.0    426.035768   141.050249    94.00000   \n",
       "total_baños              3000.0  15300.101000  6240.616037  3748.00000   \n",
       "dist_playa               3095.0     11.627769    10.625273     2.26087   \n",
       "\n",
       "                                  25%      50%           75%      max  \n",
       "median_home_val            544.000000    770.0   1182.000000   2989.0  \n",
       "median_household_income    236.000000    312.0    409.000000   1273.0  \n",
       "num_habitaciones           282.000000    360.0    459.000000   1332.0  \n",
       "num_vecinos                286.000000    357.0    457.000000   1057.0  \n",
       "total_habitaciones         323.000000    402.0    503.000000   1118.0  \n",
       "total_baños              11108.750000  14056.0  17913.000000  64360.0  \n",
       "dist_playa                   7.064777     10.0     14.097619    450.0  "
      ]
     },
     "execution_count": 8,
     "metadata": {},
     "output_type": "execute_result"
    }
   ],
   "source": [
    "df.describe().T"
   ]
  },
  {
   "cell_type": "markdown",
   "id": "794d160b",
   "metadata": {},
   "source": [
    "Hemos identificado visualmente los *outliers* en nuestras variables numéricas, pero en realidad no sabemos que valores son los que son los *outliers*. ¿Cómo lo podríamos hacer?\n",
    "\n",
    "Calcularemos  el rango intercuartílico (IQR) siguiendo los siguientes pasos: \n",
    "\n",
    "- Calcular el primer cuartil (Q1, 25%): donde el 25% de los datos son menores o iguales al valor del Q1. \n",
    "\n",
    "\n",
    "- Calcular el tercer cuartil (Q3, 75%): donde el 75% de los datos son menores o iguales al valor de Q3\n",
    "\n",
    "\n",
    "- Calcular el rango intercuartil (IQR), es la diferencia entre el Q3 y Q1\n",
    "\n",
    "```\n",
    "IQR  = Q3 - Q1\n",
    "```\n",
    "\n",
    "> Todos los valors que sean **menores que `Q1 - 1.5IQR`** o **mayores que `Q3 + 1.5IQR`** serán considerados outliers. "
   ]
  },
  {
   "attachments": {},
   "cell_type": "markdown",
   "id": "bd9061c0",
   "metadata": {},
   "source": [
    "vamos a observar la variable `median_home_val`"
   ]
  },
  {
   "cell_type": "code",
   "execution_count": 9,
   "id": "075d099f",
   "metadata": {},
   "outputs": [
    {
     "data": {
      "text/html": [
       "<div>\n",
       "<style scoped>\n",
       "    .dataframe tbody tr th:only-of-type {\n",
       "        vertical-align: middle;\n",
       "    }\n",
       "\n",
       "    .dataframe tbody tr th {\n",
       "        vertical-align: top;\n",
       "    }\n",
       "\n",
       "    .dataframe thead th {\n",
       "        text-align: right;\n",
       "    }\n",
       "</style>\n",
       "<table border=\"1\" class=\"dataframe\">\n",
       "  <thead>\n",
       "    <tr style=\"text-align: right;\">\n",
       "      <th></th>\n",
       "      <th>state</th>\n",
       "      <th>gender</th>\n",
       "      <th>median_home_val</th>\n",
       "      <th>median_household_income</th>\n",
       "      <th>num_habitaciones</th>\n",
       "      <th>num_vecinos</th>\n",
       "      <th>total_habitaciones</th>\n",
       "      <th>total_baños</th>\n",
       "      <th>dist_playa</th>\n",
       "    </tr>\n",
       "  </thead>\n",
       "  <tbody>\n",
       "    <tr>\n",
       "      <th>0</th>\n",
       "      <td>FL</td>\n",
       "      <td>M</td>\n",
       "      <td>1158.437751</td>\n",
       "      <td>392.0</td>\n",
       "      <td>430.0</td>\n",
       "      <td>466.0</td>\n",
       "      <td>520.0</td>\n",
       "      <td>21975.0</td>\n",
       "      <td>NaN</td>\n",
       "    </tr>\n",
       "    <tr>\n",
       "      <th>1</th>\n",
       "      <td>IL</td>\n",
       "      <td>M</td>\n",
       "      <td>537.000000</td>\n",
       "      <td>365.0</td>\n",
       "      <td>415.0</td>\n",
       "      <td>410.0</td>\n",
       "      <td>473.0</td>\n",
       "      <td>19387.0</td>\n",
       "      <td>5.666667</td>\n",
       "    </tr>\n",
       "    <tr>\n",
       "      <th>2</th>\n",
       "      <td>FL</td>\n",
       "      <td>F</td>\n",
       "      <td>725.000000</td>\n",
       "      <td>301.0</td>\n",
       "      <td>340.0</td>\n",
       "      <td>361.0</td>\n",
       "      <td>436.0</td>\n",
       "      <td>18837.0</td>\n",
       "      <td>4.111111</td>\n",
       "    </tr>\n",
       "    <tr>\n",
       "      <th>3</th>\n",
       "      <td>NC</td>\n",
       "      <td>M</td>\n",
       "      <td>1158.437751</td>\n",
       "      <td>401.0</td>\n",
       "      <td>407.0</td>\n",
       "      <td>399.0</td>\n",
       "      <td>413.0</td>\n",
       "      <td>14014.0</td>\n",
       "      <td>27.277778</td>\n",
       "    </tr>\n",
       "    <tr>\n",
       "      <th>4</th>\n",
       "      <td>FL</td>\n",
       "      <td>F</td>\n",
       "      <td>995.000000</td>\n",
       "      <td>252.0</td>\n",
       "      <td>280.0</td>\n",
       "      <td>316.0</td>\n",
       "      <td>348.0</td>\n",
       "      <td>17991.0</td>\n",
       "      <td>6.000000</td>\n",
       "    </tr>\n",
       "  </tbody>\n",
       "</table>\n",
       "</div>"
      ],
      "text/plain": [
       "  state gender  median_home_val  median_household_income  num_habitaciones  \\\n",
       "0    FL      M      1158.437751                    392.0             430.0   \n",
       "1    IL      M       537.000000                    365.0             415.0   \n",
       "2    FL      F       725.000000                    301.0             340.0   \n",
       "3    NC      M      1158.437751                    401.0             407.0   \n",
       "4    FL      F       995.000000                    252.0             280.0   \n",
       "\n",
       "   num_vecinos  total_habitaciones  total_baños  dist_playa  \n",
       "0        466.0               520.0      21975.0         NaN  \n",
       "1        410.0               473.0      19387.0    5.666667  \n",
       "2        361.0               436.0      18837.0    4.111111  \n",
       "3        399.0               413.0      14014.0   27.277778  \n",
       "4        316.0               348.0      17991.0    6.000000  "
      ]
     },
     "execution_count": 9,
     "metadata": {},
     "output_type": "execute_result"
    }
   ],
   "source": [
    "df.head()"
   ]
  },
  {
   "cell_type": "code",
   "execution_count": 10,
   "id": "85d977ed",
   "metadata": {},
   "outputs": [
    {
     "data": {
      "text/plain": [
       "544.0"
      ]
     },
     "execution_count": 10,
     "metadata": {},
     "output_type": "execute_result"
    }
   ],
   "source": [
    "# cálculo del Q1\n",
    "Q1 = np.nanpercentile(df['median_home_val'], 25)\n",
    "Q1"
   ]
  },
  {
   "cell_type": "code",
   "execution_count": 11,
   "metadata": {},
   "outputs": [
    {
     "data": {
      "text/plain": [
       "1182.0"
      ]
     },
     "execution_count": 11,
     "metadata": {},
     "output_type": "execute_result"
    }
   ],
   "source": [
    "# cálculo del Q1\n",
    "Q3 = np.nanpercentile(df['median_home_val'], 75)\n",
    "Q3"
   ]
  },
  {
   "cell_type": "code",
   "execution_count": 12,
   "id": "6f239134",
   "metadata": {},
   "outputs": [
    {
     "data": {
      "text/plain": [
       "638.0"
      ]
     },
     "execution_count": 12,
     "metadata": {},
     "output_type": "execute_result"
    }
   ],
   "source": [
    "IQR = Q3 - Q1\n",
    "IQR ##el ancho de la caja"
   ]
  },
  {
   "cell_type": "code",
   "execution_count": 13,
   "id": "692b89dd",
   "metadata": {},
   "outputs": [
    {
     "data": {
      "text/plain": [
       "957.0"
      ]
     },
     "execution_count": 13,
     "metadata": {},
     "output_type": "execute_result"
    }
   ],
   "source": [
    "outlier_step = IQR * 1.5 ## lo que e moverán los bigotes\n",
    "outlier_step"
   ]
  },
  {
   "attachments": {},
   "cell_type": "markdown",
   "id": "d8b634b5",
   "metadata": {},
   "source": [
    "estas serían las filas que están fuera de los bigotes:"
   ]
  },
  {
   "cell_type": "code",
   "execution_count": 14,
   "id": "bcbb453a",
   "metadata": {},
   "outputs": [
    {
     "data": {
      "text/html": [
       "<div>\n",
       "<style scoped>\n",
       "    .dataframe tbody tr th:only-of-type {\n",
       "        vertical-align: middle;\n",
       "    }\n",
       "\n",
       "    .dataframe tbody tr th {\n",
       "        vertical-align: top;\n",
       "    }\n",
       "\n",
       "    .dataframe thead th {\n",
       "        text-align: right;\n",
       "    }\n",
       "</style>\n",
       "<table border=\"1\" class=\"dataframe\">\n",
       "  <thead>\n",
       "    <tr style=\"text-align: right;\">\n",
       "      <th></th>\n",
       "      <th>state</th>\n",
       "      <th>gender</th>\n",
       "      <th>median_home_val</th>\n",
       "      <th>median_household_income</th>\n",
       "      <th>num_habitaciones</th>\n",
       "      <th>num_vecinos</th>\n",
       "      <th>total_habitaciones</th>\n",
       "      <th>total_baños</th>\n",
       "      <th>dist_playa</th>\n",
       "    </tr>\n",
       "  </thead>\n",
       "  <tbody>\n",
       "    <tr>\n",
       "      <th>19</th>\n",
       "      <td>CA</td>\n",
       "      <td>F</td>\n",
       "      <td>2362.0</td>\n",
       "      <td>613.0</td>\n",
       "      <td>632.0</td>\n",
       "      <td>655.0</td>\n",
       "      <td>678.0</td>\n",
       "      <td>21179.0</td>\n",
       "      <td>8.928571</td>\n",
       "    </tr>\n",
       "    <tr>\n",
       "      <th>29</th>\n",
       "      <td>CA</td>\n",
       "      <td>F</td>\n",
       "      <td>2143.0</td>\n",
       "      <td>280.0</td>\n",
       "      <td>353.0</td>\n",
       "      <td>328.0</td>\n",
       "      <td>373.0</td>\n",
       "      <td>12935.0</td>\n",
       "      <td>9.260870</td>\n",
       "    </tr>\n",
       "    <tr>\n",
       "      <th>47</th>\n",
       "      <td>CA</td>\n",
       "      <td>F</td>\n",
       "      <td>2377.0</td>\n",
       "      <td>NaN</td>\n",
       "      <td>637.0</td>\n",
       "      <td>652.0</td>\n",
       "      <td>663.0</td>\n",
       "      <td>19545.0</td>\n",
       "      <td>9.111111</td>\n",
       "    </tr>\n",
       "    <tr>\n",
       "      <th>58</th>\n",
       "      <td>AZ</td>\n",
       "      <td>M</td>\n",
       "      <td>2158.0</td>\n",
       "      <td>411.0</td>\n",
       "      <td>516.0</td>\n",
       "      <td>535.0</td>\n",
       "      <td>640.0</td>\n",
       "      <td>33235.0</td>\n",
       "      <td>7.933333</td>\n",
       "    </tr>\n",
       "    <tr>\n",
       "      <th>65</th>\n",
       "      <td>CA</td>\n",
       "      <td>M</td>\n",
       "      <td>2357.0</td>\n",
       "      <td>511.0</td>\n",
       "      <td>540.0</td>\n",
       "      <td>570.0</td>\n",
       "      <td>609.0</td>\n",
       "      <td>23786.0</td>\n",
       "      <td>13.666667</td>\n",
       "    </tr>\n",
       "    <tr>\n",
       "      <th>...</th>\n",
       "      <td>...</td>\n",
       "      <td>...</td>\n",
       "      <td>...</td>\n",
       "      <td>...</td>\n",
       "      <td>...</td>\n",
       "      <td>...</td>\n",
       "      <td>...</td>\n",
       "      <td>...</td>\n",
       "      <td>...</td>\n",
       "    </tr>\n",
       "    <tr>\n",
       "      <th>3313</th>\n",
       "      <td>CA</td>\n",
       "      <td>M</td>\n",
       "      <td>2264.0</td>\n",
       "      <td>453.0</td>\n",
       "      <td>503.0</td>\n",
       "      <td>NaN</td>\n",
       "      <td>537.0</td>\n",
       "      <td>17928.0</td>\n",
       "      <td>9.714286</td>\n",
       "    </tr>\n",
       "    <tr>\n",
       "      <th>3315</th>\n",
       "      <td>CA</td>\n",
       "      <td>F</td>\n",
       "      <td>2387.0</td>\n",
       "      <td>394.0</td>\n",
       "      <td>399.0</td>\n",
       "      <td>446.0</td>\n",
       "      <td>447.0</td>\n",
       "      <td>17331.0</td>\n",
       "      <td>8.045455</td>\n",
       "    </tr>\n",
       "    <tr>\n",
       "      <th>3317</th>\n",
       "      <td>CA</td>\n",
       "      <td>F</td>\n",
       "      <td>2473.0</td>\n",
       "      <td>585.0</td>\n",
       "      <td>586.0</td>\n",
       "      <td>610.0</td>\n",
       "      <td>611.0</td>\n",
       "      <td>21343.0</td>\n",
       "      <td>25.843750</td>\n",
       "    </tr>\n",
       "    <tr>\n",
       "      <th>3330</th>\n",
       "      <td>CA</td>\n",
       "      <td>F</td>\n",
       "      <td>2707.0</td>\n",
       "      <td>507.0</td>\n",
       "      <td>504.0</td>\n",
       "      <td>538.0</td>\n",
       "      <td>537.0</td>\n",
       "      <td>16165.0</td>\n",
       "      <td>12.117647</td>\n",
       "    </tr>\n",
       "    <tr>\n",
       "      <th>3331</th>\n",
       "      <td>CA</td>\n",
       "      <td>M</td>\n",
       "      <td>2666.0</td>\n",
       "      <td>535.0</td>\n",
       "      <td>609.0</td>\n",
       "      <td>612.0</td>\n",
       "      <td>653.0</td>\n",
       "      <td>24745.0</td>\n",
       "      <td>12.333333</td>\n",
       "    </tr>\n",
       "  </tbody>\n",
       "</table>\n",
       "<p>233 rows × 9 columns</p>\n",
       "</div>"
      ],
      "text/plain": [
       "     state gender  median_home_val  median_household_income  num_habitaciones  \\\n",
       "19      CA      F           2362.0                    613.0             632.0   \n",
       "29      CA      F           2143.0                    280.0             353.0   \n",
       "47      CA      F           2377.0                      NaN             637.0   \n",
       "58      AZ      M           2158.0                    411.0             516.0   \n",
       "65      CA      M           2357.0                    511.0             540.0   \n",
       "...    ...    ...              ...                      ...               ...   \n",
       "3313    CA      M           2264.0                    453.0             503.0   \n",
       "3315    CA      F           2387.0                    394.0             399.0   \n",
       "3317    CA      F           2473.0                    585.0             586.0   \n",
       "3330    CA      F           2707.0                    507.0             504.0   \n",
       "3331    CA      M           2666.0                    535.0             609.0   \n",
       "\n",
       "      num_vecinos  total_habitaciones  total_baños  dist_playa  \n",
       "19          655.0               678.0      21179.0    8.928571  \n",
       "29          328.0               373.0      12935.0    9.260870  \n",
       "47          652.0               663.0      19545.0    9.111111  \n",
       "58          535.0               640.0      33235.0    7.933333  \n",
       "65          570.0               609.0      23786.0   13.666667  \n",
       "...           ...                 ...          ...         ...  \n",
       "3313          NaN               537.0      17928.0    9.714286  \n",
       "3315        446.0               447.0      17331.0    8.045455  \n",
       "3317        610.0               611.0      21343.0   25.843750  \n",
       "3330        538.0               537.0      16165.0   12.117647  \n",
       "3331        612.0               653.0      24745.0   12.333333  \n",
       "\n",
       "[233 rows x 9 columns]"
      ]
     },
     "execution_count": 14,
     "metadata": {},
     "output_type": "execute_result"
    }
   ],
   "source": [
    "outliers_value = df[(df['median_home_val'] < Q1 - outlier_step) | (df['median_home_val'] > Q3 + outlier_step)]\n",
    "outliers_value"
   ]
  },
  {
   "cell_type": "code",
   "execution_count": 15,
   "id": "dbec0452",
   "metadata": {},
   "outputs": [
    {
     "data": {
      "text/plain": [
       "CA    193\n",
       "IL      7\n",
       "NC      4\n",
       "FL      4\n",
       "TX      4\n",
       "MO      3\n",
       "GA      3\n",
       "WA      3\n",
       "MI      2\n",
       "SC      2\n",
       "NV      2\n",
       "AZ      1\n",
       "CO      1\n",
       "NE      1\n",
       "AL      1\n",
       "AR      1\n",
       "KS      1\n",
       "Name: state, dtype: int64"
      ]
     },
     "execution_count": 15,
     "metadata": {},
     "output_type": "execute_result"
    }
   ],
   "source": [
    "outliers_value['state'].value_counts() ## gran parte de las filas son de CA"
   ]
  },
  {
   "cell_type": "code",
   "execution_count": 16,
   "id": "635ab38f",
   "metadata": {},
   "outputs": [
    {
     "data": {
      "text/plain": [
       "CA    604\n",
       "FL    319\n",
       "TX    270\n",
       "IL    224\n",
       "MI    215\n",
       "NC    158\n",
       "WA    143\n",
       "GA    110\n",
       "OR    107\n",
       "WI    102\n",
       "MO    101\n",
       "IN    100\n",
       "AZ     84\n",
       "CO     81\n",
       "SC     76\n",
       "MN     70\n",
       "KY     63\n",
       "AR     56\n",
       "AL     55\n",
       "OK     54\n",
       "TN     50\n",
       "LA     50\n",
       "KS     46\n",
       "NV     45\n",
       "IA     43\n",
       "NM     42\n",
       "NE     32\n",
       "MS     32\n",
       "Name: state, dtype: int64"
      ]
     },
     "execution_count": 16,
     "metadata": {},
     "output_type": "execute_result"
    }
   ],
   "source": [
    "df['state'].value_counts()"
   ]
  },
  {
   "attachments": {},
   "cell_type": "markdown",
   "id": "e1d33a28",
   "metadata": {},
   "source": [
    "podemos probar con separar `ca` del resto de estados:"
   ]
  },
  {
   "cell_type": "code",
   "execution_count": 17,
   "id": "a4d3efa4",
   "metadata": {},
   "outputs": [],
   "source": [
    "df_california = df[df['state'] == 'CA']\n",
    "df_eeuu = df[df['state'] != 'CA']"
   ]
  },
  {
   "attachments": {},
   "cell_type": "markdown",
   "id": "4fa0b910",
   "metadata": {},
   "source": [
    "trabajaremos con los datos de `CA`."
   ]
  },
  {
   "cell_type": "code",
   "execution_count": 18,
   "id": "dcba7d37",
   "metadata": {},
   "outputs": [],
   "source": [
    "df_cali_numericas = df_california.select_dtypes(include=np.number)"
   ]
  },
  {
   "cell_type": "code",
   "execution_count": 19,
   "id": "5f394108",
   "metadata": {},
   "outputs": [
    {
     "data": {
      "image/png": "[encoded data removed]",
      "text/plain": [
       "<Figure size 2000x1500 with 7 Axes>"
      ]
     },
     "metadata": {},
     "output_type": "display_data"
    }
   ],
   "source": [
    "fig, ax = plt.subplots(7, 1, figsize=(20,15))\n",
    "\n",
    "for i in range(len(df_cali_numericas.columns)):\n",
    "    sns.boxplot(x=df_cali_numericas.columns[i], data=df_cali_numericas, ax=ax[i])\n",
    "plt.tight_layout()\n",
    "plt.show();"
   ]
  },
  {
   "attachments": {},
   "cell_type": "markdown",
   "id": "6db1e960",
   "metadata": {},
   "source": [
    "observando los datos de `CA`, salvo un par de excepciones, se acaban bastante los outliers."
   ]
  },
  {
   "cell_type": "code",
   "execution_count": 20,
   "id": "fbbc4313",
   "metadata": {},
   "outputs": [],
   "source": [
    "def detectar_outliers(lista_columnas, dataframe):\n",
    "\n",
    "    dict_indices = {}\n",
    "\n",
    "    for i in lista_columnas:\n",
    "        Q1 = np.nanpercentile(dataframe[i], 25)\n",
    "        Q3 = np.nanpercentile(dataframe[i], 75)\n",
    "\n",
    "        IQR = Q3 - Q1\n",
    "\n",
    "        outlier_step = IQR * 1.5\n",
    "\n",
    "        outliers_value = dataframe[(dataframe[i] < Q1 - outlier_step) | (dataframe[i] > Q3 + outlier_step)]\n",
    "\n",
    "        if outliers_value.shape[0] > 0:\n",
    "            dict_indices[i] = outliers_value.index.tolist()\n",
    "        else:\n",
    "            #dict_indices[i] = 'sin outliers'\n",
    "            pass\n",
    "    return dict_indices"
   ]
  },
  {
   "cell_type": "code",
   "execution_count": 21,
   "id": "f0e89113",
   "metadata": {},
   "outputs": [
    {
     "data": {
      "text/html": [
       "<div>\n",
       "<style scoped>\n",
       "    .dataframe tbody tr th:only-of-type {\n",
       "        vertical-align: middle;\n",
       "    }\n",
       "\n",
       "    .dataframe tbody tr th {\n",
       "        vertical-align: top;\n",
       "    }\n",
       "\n",
       "    .dataframe thead th {\n",
       "        text-align: right;\n",
       "    }\n",
       "</style>\n",
       "<table border=\"1\" class=\"dataframe\">\n",
       "  <thead>\n",
       "    <tr style=\"text-align: right;\">\n",
       "      <th></th>\n",
       "      <th>median_home_val</th>\n",
       "      <th>median_household_income</th>\n",
       "      <th>num_habitaciones</th>\n",
       "      <th>num_vecinos</th>\n",
       "      <th>total_habitaciones</th>\n",
       "      <th>total_baños</th>\n",
       "      <th>dist_playa</th>\n",
       "    </tr>\n",
       "  </thead>\n",
       "  <tbody>\n",
       "    <tr>\n",
       "      <th>6</th>\n",
       "      <td>1026.0</td>\n",
       "      <td>459.0</td>\n",
       "      <td>470.0</td>\n",
       "      <td>491.0</td>\n",
       "      <td>496.0</td>\n",
       "      <td>13803.0</td>\n",
       "      <td>11.25</td>\n",
       "    </tr>\n",
       "  </tbody>\n",
       "</table>\n",
       "</div>"
      ],
      "text/plain": [
       "   median_home_val  median_household_income  num_habitaciones  num_vecinos  \\\n",
       "6           1026.0                    459.0             470.0        491.0   \n",
       "\n",
       "   total_habitaciones  total_baños  dist_playa  \n",
       "6               496.0      13803.0       11.25  "
      ]
     },
     "execution_count": 21,
     "metadata": {},
     "output_type": "execute_result"
    }
   ],
   "source": [
    "df_cali_numericas.head(1)"
   ]
  },
  {
   "cell_type": "code",
   "execution_count": 22,
   "id": "c94a659f",
   "metadata": {},
   "outputs": [],
   "source": [
    "dic_outliers = detectar_outliers(df_cali_numericas.columns, df_california)"
   ]
  },
  {
   "cell_type": "code",
   "execution_count": 23,
   "id": "0fc0b1cc",
   "metadata": {},
   "outputs": [
    {
     "name": "stdout",
     "output_type": "stream",
     "text": [
      "{'median_household_income': [3052, 3296], 'num_habitaciones': [1911], 'num_vecinos': [2974, 3052, 3279, 3296], 'total_habitaciones': [1911, 2974, 3052, 3279], 'total_baños': [168, 289, 550, 572, 1343, 1453, 1733, 2389, 2514, 2518, 2597, 2869, 2974, 3035, 3171, 3206, 3279], 'dist_playa': [290, 550, 1026, 1371, 1957, 1976, 1993, 2253, 2410, 2560, 3035, 3052, 3174]}\n"
     ]
    }
   ],
   "source": [
    "print(dic_outliers)"
   ]
  },
  {
   "cell_type": "code",
   "execution_count": 24,
   "id": "43a5555c",
   "metadata": {},
   "outputs": [
    {
     "data": {
      "text/html": [
       "<div>\n",
       "<style scoped>\n",
       "    .dataframe tbody tr th:only-of-type {\n",
       "        vertical-align: middle;\n",
       "    }\n",
       "\n",
       "    .dataframe tbody tr th {\n",
       "        vertical-align: top;\n",
       "    }\n",
       "\n",
       "    .dataframe thead th {\n",
       "        text-align: right;\n",
       "    }\n",
       "</style>\n",
       "<table border=\"1\" class=\"dataframe\">\n",
       "  <thead>\n",
       "    <tr style=\"text-align: right;\">\n",
       "      <th></th>\n",
       "      <th>state</th>\n",
       "      <th>gender</th>\n",
       "      <th>median_home_val</th>\n",
       "      <th>median_household_income</th>\n",
       "      <th>num_habitaciones</th>\n",
       "      <th>num_vecinos</th>\n",
       "      <th>total_habitaciones</th>\n",
       "      <th>total_baños</th>\n",
       "      <th>dist_playa</th>\n",
       "    </tr>\n",
       "  </thead>\n",
       "  <tbody>\n",
       "    <tr>\n",
       "      <th>6</th>\n",
       "      <td>CA</td>\n",
       "      <td>F</td>\n",
       "      <td>1026.0</td>\n",
       "      <td>459.0</td>\n",
       "      <td>470.0</td>\n",
       "      <td>491.0</td>\n",
       "      <td>496.0</td>\n",
       "      <td>13803.0</td>\n",
       "      <td>11.25</td>\n",
       "    </tr>\n",
       "  </tbody>\n",
       "</table>\n",
       "</div>"
      ],
      "text/plain": [
       "  state gender  median_home_val  median_household_income  num_habitaciones  \\\n",
       "6    CA      F           1026.0                    459.0             470.0   \n",
       "\n",
       "   num_vecinos  total_habitaciones  total_baños  dist_playa  \n",
       "6        491.0               496.0      13803.0       11.25  "
      ]
     },
     "execution_count": 24,
     "metadata": {},
     "output_type": "execute_result"
    }
   ],
   "source": [
    "df_cali_del = df_california.copy()\n",
    "df_cali_del.head(1)"
   ]
  },
  {
   "cell_type": "code",
   "execution_count": 25,
   "id": "4b38732e",
   "metadata": {},
   "outputs": [
    {
     "name": "stdout",
     "output_type": "stream",
     "text": [
      "[3052, 3296, 1911, 2974, 3052, 3279, 3296, 1911, 2974, 3052, 3279, 168, 289, 550, 572, 1343, 1453, 1733, 2389, 2514, 2518, 2597, 2869, 2974, 3035, 3171, 3206, 3279, 290, 550, 1026, 1371, 1957, 1976, 1993, 2253, 2410, 2560, 3035, 3052, 3174]\n"
     ]
    }
   ],
   "source": [
    "indices = list(dic_outliers.values())\n",
    "indices = [num for lista in indices for num in lista]\n",
    "print(indices)"
   ]
  },
  {
   "cell_type": "code",
   "execution_count": 26,
   "id": "14f4a640",
   "metadata": {},
   "outputs": [
    {
     "data": {
      "text/html": [
       "<div>\n",
       "<style scoped>\n",
       "    .dataframe tbody tr th:only-of-type {\n",
       "        vertical-align: middle;\n",
       "    }\n",
       "\n",
       "    .dataframe tbody tr th {\n",
       "        vertical-align: top;\n",
       "    }\n",
       "\n",
       "    .dataframe thead th {\n",
       "        text-align: right;\n",
       "    }\n",
       "</style>\n",
       "<table border=\"1\" class=\"dataframe\">\n",
       "  <thead>\n",
       "    <tr style=\"text-align: right;\">\n",
       "      <th></th>\n",
       "      <th>state</th>\n",
       "      <th>gender</th>\n",
       "      <th>median_home_val</th>\n",
       "      <th>median_household_income</th>\n",
       "      <th>num_habitaciones</th>\n",
       "      <th>num_vecinos</th>\n",
       "      <th>total_habitaciones</th>\n",
       "      <th>total_baños</th>\n",
       "      <th>dist_playa</th>\n",
       "    </tr>\n",
       "  </thead>\n",
       "  <tbody>\n",
       "    <tr>\n",
       "      <th>6</th>\n",
       "      <td>CA</td>\n",
       "      <td>F</td>\n",
       "      <td>1026.0</td>\n",
       "      <td>459.0</td>\n",
       "      <td>470.0</td>\n",
       "      <td>491.0</td>\n",
       "      <td>496.0</td>\n",
       "      <td>13803.0</td>\n",
       "      <td>11.250000</td>\n",
       "    </tr>\n",
       "    <tr>\n",
       "      <th>12</th>\n",
       "      <td>CA</td>\n",
       "      <td>M</td>\n",
       "      <td>1538.0</td>\n",
       "      <td>271.0</td>\n",
       "      <td>317.0</td>\n",
       "      <td>342.0</td>\n",
       "      <td>393.0</td>\n",
       "      <td>15627.0</td>\n",
       "      <td>5.500000</td>\n",
       "    </tr>\n",
       "    <tr>\n",
       "      <th>16</th>\n",
       "      <td>CA</td>\n",
       "      <td>F</td>\n",
       "      <td>596.0</td>\n",
       "      <td>164.0</td>\n",
       "      <td>168.0</td>\n",
       "      <td>181.0</td>\n",
       "      <td>190.0</td>\n",
       "      <td>5273.0</td>\n",
       "      <td>16.500000</td>\n",
       "    </tr>\n",
       "    <tr>\n",
       "      <th>19</th>\n",
       "      <td>CA</td>\n",
       "      <td>F</td>\n",
       "      <td>2362.0</td>\n",
       "      <td>613.0</td>\n",
       "      <td>632.0</td>\n",
       "      <td>655.0</td>\n",
       "      <td>678.0</td>\n",
       "      <td>21179.0</td>\n",
       "      <td>8.928571</td>\n",
       "    </tr>\n",
       "    <tr>\n",
       "      <th>20</th>\n",
       "      <td>CA</td>\n",
       "      <td>F</td>\n",
       "      <td>2089.0</td>\n",
       "      <td>275.0</td>\n",
       "      <td>296.0</td>\n",
       "      <td>322.0</td>\n",
       "      <td>356.0</td>\n",
       "      <td>10484.0</td>\n",
       "      <td>7.125000</td>\n",
       "    </tr>\n",
       "  </tbody>\n",
       "</table>\n",
       "</div>"
      ],
      "text/plain": [
       "   state gender  median_home_val  median_household_income  num_habitaciones  \\\n",
       "6     CA      F           1026.0                    459.0             470.0   \n",
       "12    CA      M           1538.0                    271.0             317.0   \n",
       "16    CA      F            596.0                    164.0             168.0   \n",
       "19    CA      F           2362.0                    613.0             632.0   \n",
       "20    CA      F           2089.0                    275.0             296.0   \n",
       "\n",
       "    num_vecinos  total_habitaciones  total_baños  dist_playa  \n",
       "6         491.0               496.0      13803.0   11.250000  \n",
       "12        342.0               393.0      15627.0    5.500000  \n",
       "16        181.0               190.0       5273.0   16.500000  \n",
       "19        655.0               678.0      21179.0    8.928571  \n",
       "20        322.0               356.0      10484.0    7.125000  "
      ]
     },
     "execution_count": 26,
     "metadata": {},
     "output_type": "execute_result"
    }
   ],
   "source": [
    "df_cali_del.drop(indices, axis = 0, inplace=True)\n",
    "df_cali_del.head()"
   ]
  },
  {
   "cell_type": "code",
   "execution_count": 27,
   "id": "85ce7a28",
   "metadata": {},
   "outputs": [
    {
     "data": {
      "text/html": [
       "<div>\n",
       "<style scoped>\n",
       "    .dataframe tbody tr th:only-of-type {\n",
       "        vertical-align: middle;\n",
       "    }\n",
       "\n",
       "    .dataframe tbody tr th {\n",
       "        vertical-align: top;\n",
       "    }\n",
       "\n",
       "    .dataframe thead th {\n",
       "        text-align: right;\n",
       "    }\n",
       "</style>\n",
       "<table border=\"1\" class=\"dataframe\">\n",
       "  <thead>\n",
       "    <tr style=\"text-align: right;\">\n",
       "      <th></th>\n",
       "      <th>state</th>\n",
       "      <th>gender</th>\n",
       "      <th>median_home_val</th>\n",
       "      <th>median_household_income</th>\n",
       "      <th>num_habitaciones</th>\n",
       "      <th>num_vecinos</th>\n",
       "      <th>total_habitaciones</th>\n",
       "      <th>total_baños</th>\n",
       "      <th>dist_playa</th>\n",
       "    </tr>\n",
       "  </thead>\n",
       "  <tbody>\n",
       "    <tr>\n",
       "      <th>0</th>\n",
       "      <td>CA</td>\n",
       "      <td>F</td>\n",
       "      <td>1026.0</td>\n",
       "      <td>459.0</td>\n",
       "      <td>470.0</td>\n",
       "      <td>491.0</td>\n",
       "      <td>496.0</td>\n",
       "      <td>13803.0</td>\n",
       "      <td>11.25</td>\n",
       "    </tr>\n",
       "  </tbody>\n",
       "</table>\n",
       "</div>"
      ],
      "text/plain": [
       "  state gender  median_home_val  median_household_income  num_habitaciones  \\\n",
       "0    CA      F           1026.0                    459.0             470.0   \n",
       "\n",
       "   num_vecinos  total_habitaciones  total_baños  dist_playa  \n",
       "0        491.0               496.0      13803.0       11.25  "
      ]
     },
     "execution_count": 27,
     "metadata": {},
     "output_type": "execute_result"
    }
   ],
   "source": [
    "df_cali_del.reset_index(inplace=True, drop=True)\n",
    "df_cali_del.head(1)"
   ]
  },
  {
   "attachments": {},
   "cell_type": "markdown",
   "id": "d400a522",
   "metadata": {},
   "source": [
    "voy a reemplazar los valores"
   ]
  },
  {
   "cell_type": "code",
   "execution_count": 28,
   "id": "839a71f9",
   "metadata": {},
   "outputs": [
    {
     "data": {
      "text/html": [
       "<div>\n",
       "<style scoped>\n",
       "    .dataframe tbody tr th:only-of-type {\n",
       "        vertical-align: middle;\n",
       "    }\n",
       "\n",
       "    .dataframe tbody tr th {\n",
       "        vertical-align: top;\n",
       "    }\n",
       "\n",
       "    .dataframe thead th {\n",
       "        text-align: right;\n",
       "    }\n",
       "</style>\n",
       "<table border=\"1\" class=\"dataframe\">\n",
       "  <thead>\n",
       "    <tr style=\"text-align: right;\">\n",
       "      <th></th>\n",
       "      <th>state</th>\n",
       "      <th>gender</th>\n",
       "      <th>median_home_val</th>\n",
       "      <th>median_household_income</th>\n",
       "      <th>num_habitaciones</th>\n",
       "      <th>num_vecinos</th>\n",
       "      <th>total_habitaciones</th>\n",
       "      <th>total_baños</th>\n",
       "      <th>dist_playa</th>\n",
       "    </tr>\n",
       "  </thead>\n",
       "  <tbody>\n",
       "    <tr>\n",
       "      <th>6</th>\n",
       "      <td>CA</td>\n",
       "      <td>F</td>\n",
       "      <td>1026.0</td>\n",
       "      <td>459.0</td>\n",
       "      <td>470.0</td>\n",
       "      <td>491.0</td>\n",
       "      <td>496.0</td>\n",
       "      <td>13803.0</td>\n",
       "      <td>11.25</td>\n",
       "    </tr>\n",
       "  </tbody>\n",
       "</table>\n",
       "</div>"
      ],
      "text/plain": [
       "  state gender  median_home_val  median_household_income  num_habitaciones  \\\n",
       "6    CA      F           1026.0                    459.0             470.0   \n",
       "\n",
       "   num_vecinos  total_habitaciones  total_baños  dist_playa  \n",
       "6        491.0               496.0      13803.0       11.25  "
      ]
     },
     "execution_count": 28,
     "metadata": {},
     "output_type": "execute_result"
    }
   ],
   "source": [
    "df_california.head(1)"
   ]
  },
  {
   "cell_type": "code",
   "execution_count": 30,
   "id": "8e975cf0",
   "metadata": {},
   "outputs": [
    {
     "name": "stdout",
     "output_type": "stream",
     "text": [
      "{'median_household_income': [3052, 3296], 'num_habitaciones': [1911], 'num_vecinos': [2974, 3052, 3279, 3296], 'total_habitaciones': [1911, 2974, 3052, 3279], 'total_baños': [168, 289, 550, 572, 1343, 1453, 1733, 2389, 2514, 2518, 2597, 2869, 2974, 3035, 3171, 3206, 3279], 'dist_playa': [290, 550, 1026, 1371, 1957, 1976, 1993, 2253, 2410, 2560, 3035, 3052, 3174]}\n"
     ]
    }
   ],
   "source": [
    "print(dic_outliers)"
   ]
  },
  {
   "cell_type": "code",
   "execution_count": 32,
   "id": "59710d56",
   "metadata": {},
   "outputs": [
    {
     "data": {
      "text/html": [
       "<div>\n",
       "<style scoped>\n",
       "    .dataframe tbody tr th:only-of-type {\n",
       "        vertical-align: middle;\n",
       "    }\n",
       "\n",
       "    .dataframe tbody tr th {\n",
       "        vertical-align: top;\n",
       "    }\n",
       "\n",
       "    .dataframe thead th {\n",
       "        text-align: right;\n",
       "    }\n",
       "</style>\n",
       "<table border=\"1\" class=\"dataframe\">\n",
       "  <thead>\n",
       "    <tr style=\"text-align: right;\">\n",
       "      <th></th>\n",
       "      <th>count</th>\n",
       "      <th>mean</th>\n",
       "      <th>std</th>\n",
       "      <th>min</th>\n",
       "      <th>25%</th>\n",
       "      <th>50%</th>\n",
       "      <th>75%</th>\n",
       "      <th>max</th>\n",
       "    </tr>\n",
       "  </thead>\n",
       "  <tbody>\n",
       "    <tr>\n",
       "      <th>median_home_val</th>\n",
       "      <td>604.0</td>\n",
       "      <td>1756.640522</td>\n",
       "      <td>644.705504</td>\n",
       "      <td>439.000000</td>\n",
       "      <td>1248.000000</td>\n",
       "      <td>1750.000000</td>\n",
       "      <td>2278.25</td>\n",
       "      <td>2982.0</td>\n",
       "    </tr>\n",
       "    <tr>\n",
       "      <th>median_household_income</th>\n",
       "      <td>579.0</td>\n",
       "      <td>372.221071</td>\n",
       "      <td>126.578939</td>\n",
       "      <td>71.000000</td>\n",
       "      <td>284.000000</td>\n",
       "      <td>364.000000</td>\n",
       "      <td>450.00</td>\n",
       "      <td>737.0</td>\n",
       "    </tr>\n",
       "    <tr>\n",
       "      <th>num_habitaciones</th>\n",
       "      <td>601.0</td>\n",
       "      <td>410.021631</td>\n",
       "      <td>130.287341</td>\n",
       "      <td>119.000000</td>\n",
       "      <td>316.000000</td>\n",
       "      <td>402.000000</td>\n",
       "      <td>499.00</td>\n",
       "      <td>804.0</td>\n",
       "    </tr>\n",
       "    <tr>\n",
       "      <th>num_vecinos</th>\n",
       "      <td>596.0</td>\n",
       "      <td>421.877517</td>\n",
       "      <td>126.052357</td>\n",
       "      <td>96.000000</td>\n",
       "      <td>330.000000</td>\n",
       "      <td>410.500000</td>\n",
       "      <td>500.25</td>\n",
       "      <td>798.0</td>\n",
       "    </tr>\n",
       "    <tr>\n",
       "      <th>total_habitaciones</th>\n",
       "      <td>593.0</td>\n",
       "      <td>456.306914</td>\n",
       "      <td>130.999073</td>\n",
       "      <td>138.000000</td>\n",
       "      <td>368.000000</td>\n",
       "      <td>445.000000</td>\n",
       "      <td>539.00</td>\n",
       "      <td>824.0</td>\n",
       "    </tr>\n",
       "    <tr>\n",
       "      <th>total_baños</th>\n",
       "      <td>533.0</td>\n",
       "      <td>16086.110694</td>\n",
       "      <td>5874.524203</td>\n",
       "      <td>4825.000000</td>\n",
       "      <td>12089.000000</td>\n",
       "      <td>15654.000000</td>\n",
       "      <td>18951.00</td>\n",
       "      <td>44438.0</td>\n",
       "    </tr>\n",
       "    <tr>\n",
       "      <th>dist_playa</th>\n",
       "      <td>555.0</td>\n",
       "      <td>13.175912</td>\n",
       "      <td>20.508053</td>\n",
       "      <td>2.637931</td>\n",
       "      <td>7.442308</td>\n",
       "      <td>10.833333</td>\n",
       "      <td>15.00</td>\n",
       "      <td>450.0</td>\n",
       "    </tr>\n",
       "  </tbody>\n",
       "</table>\n",
       "</div>"
      ],
      "text/plain": [
       "                         count          mean          std          min  \\\n",
       "median_home_val          604.0   1756.640522   644.705504   439.000000   \n",
       "median_household_income  579.0    372.221071   126.578939    71.000000   \n",
       "num_habitaciones         601.0    410.021631   130.287341   119.000000   \n",
       "num_vecinos              596.0    421.877517   126.052357    96.000000   \n",
       "total_habitaciones       593.0    456.306914   130.999073   138.000000   \n",
       "total_baños              533.0  16086.110694  5874.524203  4825.000000   \n",
       "dist_playa               555.0     13.175912    20.508053     2.637931   \n",
       "\n",
       "                                  25%           50%       75%      max  \n",
       "median_home_val           1248.000000   1750.000000   2278.25   2982.0  \n",
       "median_household_income    284.000000    364.000000    450.00    737.0  \n",
       "num_habitaciones           316.000000    402.000000    499.00    804.0  \n",
       "num_vecinos                330.000000    410.500000    500.25    798.0  \n",
       "total_habitaciones         368.000000    445.000000    539.00    824.0  \n",
       "total_baños              12089.000000  15654.000000  18951.00  44438.0  \n",
       "dist_playa                   7.442308     10.833333     15.00    450.0  "
      ]
     },
     "execution_count": 32,
     "metadata": {},
     "output_type": "execute_result"
    }
   ],
   "source": [
    "df_california.describe().T"
   ]
  },
  {
   "attachments": {},
   "cell_type": "markdown",
   "id": "6d2f3a9b",
   "metadata": {},
   "source": [
    "puedes elegir si mantienes los datos o los reemplazas. aquí el caso para reemplazarlos:"
   ]
  },
  {
   "cell_type": "code",
   "execution_count": 35,
   "id": "640ddcde",
   "metadata": {},
   "outputs": [],
   "source": [
    "for k, v in dic_outliers.items():\n",
    "    if k == 'median_home_val':\n",
    "        media = df_california[k].mean()\n",
    "\n",
    "        for indice in v:\n",
    "            df_california.loc[indice, k] = media\n",
    "    else: \n",
    "        mediana = df_california[k].median()\n",
    "\n",
    "        for indice in v:\n",
    "            df_california.loc[indice, k] = mediana"
   ]
  },
  {
   "cell_type": "code",
   "execution_count": 36,
   "id": "295141d7",
   "metadata": {},
   "outputs": [
    {
     "data": {
      "text/html": [
       "<div>\n",
       "<style scoped>\n",
       "    .dataframe tbody tr th:only-of-type {\n",
       "        vertical-align: middle;\n",
       "    }\n",
       "\n",
       "    .dataframe tbody tr th {\n",
       "        vertical-align: top;\n",
       "    }\n",
       "\n",
       "    .dataframe thead th {\n",
       "        text-align: right;\n",
       "    }\n",
       "</style>\n",
       "<table border=\"1\" class=\"dataframe\">\n",
       "  <thead>\n",
       "    <tr style=\"text-align: right;\">\n",
       "      <th></th>\n",
       "      <th>count</th>\n",
       "      <th>mean</th>\n",
       "      <th>std</th>\n",
       "      <th>min</th>\n",
       "      <th>25%</th>\n",
       "      <th>50%</th>\n",
       "      <th>75%</th>\n",
       "      <th>max</th>\n",
       "    </tr>\n",
       "  </thead>\n",
       "  <tbody>\n",
       "    <tr>\n",
       "      <th>median_home_val</th>\n",
       "      <td>604.0</td>\n",
       "      <td>1756.640522</td>\n",
       "      <td>644.705504</td>\n",
       "      <td>439.000000</td>\n",
       "      <td>1248.000000</td>\n",
       "      <td>1750.000000</td>\n",
       "      <td>2278.250000</td>\n",
       "      <td>2982.00000</td>\n",
       "    </tr>\n",
       "    <tr>\n",
       "      <th>median_household_income</th>\n",
       "      <td>579.0</td>\n",
       "      <td>370.941278</td>\n",
       "      <td>124.766425</td>\n",
       "      <td>71.000000</td>\n",
       "      <td>284.000000</td>\n",
       "      <td>364.000000</td>\n",
       "      <td>445.500000</td>\n",
       "      <td>695.00000</td>\n",
       "    </tr>\n",
       "    <tr>\n",
       "      <th>num_habitaciones</th>\n",
       "      <td>601.0</td>\n",
       "      <td>409.352745</td>\n",
       "      <td>129.289412</td>\n",
       "      <td>119.000000</td>\n",
       "      <td>316.000000</td>\n",
       "      <td>402.000000</td>\n",
       "      <td>499.000000</td>\n",
       "      <td>773.00000</td>\n",
       "    </tr>\n",
       "    <tr>\n",
       "      <th>num_vecinos</th>\n",
       "      <td>596.0</td>\n",
       "      <td>419.427852</td>\n",
       "      <td>122.646221</td>\n",
       "      <td>96.000000</td>\n",
       "      <td>330.000000</td>\n",
       "      <td>410.250000</td>\n",
       "      <td>493.750000</td>\n",
       "      <td>733.00000</td>\n",
       "    </tr>\n",
       "    <tr>\n",
       "      <th>total_habitaciones</th>\n",
       "      <td>593.0</td>\n",
       "      <td>453.785835</td>\n",
       "      <td>127.544427</td>\n",
       "      <td>138.000000</td>\n",
       "      <td>368.000000</td>\n",
       "      <td>445.000000</td>\n",
       "      <td>537.000000</td>\n",
       "      <td>785.00000</td>\n",
       "    </tr>\n",
       "    <tr>\n",
       "      <th>total_baños</th>\n",
       "      <td>533.0</td>\n",
       "      <td>15491.144465</td>\n",
       "      <td>4787.632274</td>\n",
       "      <td>4825.000000</td>\n",
       "      <td>12089.000000</td>\n",
       "      <td>15654.000000</td>\n",
       "      <td>18525.000000</td>\n",
       "      <td>29170.00000</td>\n",
       "    </tr>\n",
       "    <tr>\n",
       "      <th>dist_playa</th>\n",
       "      <td>555.0</td>\n",
       "      <td>11.584955</td>\n",
       "      <td>5.405146</td>\n",
       "      <td>2.637931</td>\n",
       "      <td>7.442308</td>\n",
       "      <td>10.833333</td>\n",
       "      <td>14.333333</td>\n",
       "      <td>25.84375</td>\n",
       "    </tr>\n",
       "  </tbody>\n",
       "</table>\n",
       "</div>"
      ],
      "text/plain": [
       "                         count          mean          std          min  \\\n",
       "median_home_val          604.0   1756.640522   644.705504   439.000000   \n",
       "median_household_income  579.0    370.941278   124.766425    71.000000   \n",
       "num_habitaciones         601.0    409.352745   129.289412   119.000000   \n",
       "num_vecinos              596.0    419.427852   122.646221    96.000000   \n",
       "total_habitaciones       593.0    453.785835   127.544427   138.000000   \n",
       "total_baños              533.0  15491.144465  4787.632274  4825.000000   \n",
       "dist_playa               555.0     11.584955     5.405146     2.637931   \n",
       "\n",
       "                                  25%           50%           75%          max  \n",
       "median_home_val           1248.000000   1750.000000   2278.250000   2982.00000  \n",
       "median_household_income    284.000000    364.000000    445.500000    695.00000  \n",
       "num_habitaciones           316.000000    402.000000    499.000000    773.00000  \n",
       "num_vecinos                330.000000    410.250000    493.750000    733.00000  \n",
       "total_habitaciones         368.000000    445.000000    537.000000    785.00000  \n",
       "total_baños              12089.000000  15654.000000  18525.000000  29170.00000  \n",
       "dist_playa                   7.442308     10.833333     14.333333     25.84375  "
      ]
     },
     "execution_count": 36,
     "metadata": {},
     "output_type": "execute_result"
    }
   ],
   "source": [
    "df_california.describe().T"
   ]
  },
  {
   "cell_type": "markdown",
   "id": "acffcf7a",
   "metadata": {},
   "source": [
    "**Empecemos con la variable `num_vecinos`**"
   ]
  },
  {
   "cell_type": "markdown",
   "id": "ca1a9af4",
   "metadata": {},
   "source": [
    "Para calcular los cuartiles recurriremos a la librería NumPy donde encontratemos los siguientes métodos: \n",
    "\n",
    "- `np.percentile`: lo usaremos cuando **no** tengamos **nan** entre nuestros valores. \n",
    "\n",
    "\n",
    "- `np.nanpercentile`: lo usaremos cuando tengamos nan entre nuestros valores. \n",
    "\n",
    "En ambos casos tendremos que pasarle: \n",
    "\n",
    "- La columna sobre la que queramos calcular los cuartiles \n",
    "\n",
    "\n",
    "- El cuartil que queremos calcular. "
   ]
  },
  {
   "cell_type": "code",
   "execution_count": null,
   "id": "f022562c",
   "metadata": {},
   "outputs": [],
   "source": [
    "df.head()"
   ]
  },
  {
   "cell_type": "code",
   "execution_count": null,
   "id": "1d5a0e85",
   "metadata": {},
   "outputs": [],
   "source": [
    "# cálculo del Q1\n",
    "Q1 = np.nanpercentile(df['num_vecinos'], 25)\n",
    "Q1"
   ]
  },
  {
   "cell_type": "code",
   "execution_count": null,
   "id": "e48c166e",
   "metadata": {},
   "outputs": [],
   "source": [
    "# cálculo del Q3\n",
    "Q3 = np.nanpercentile(df['num_vecinos'], 75)\n",
    "Q3"
   ]
  },
  {
   "cell_type": "code",
   "execution_count": null,
   "id": "9fd87bf6",
   "metadata": {},
   "outputs": [],
   "source": [
    "#calculemos el IQR \n",
    "\n",
    "IQR = Q3 - Q1\n",
    "IQR"
   ]
  },
  {
   "cell_type": "code",
   "execution_count": null,
   "id": "06afd388",
   "metadata": {},
   "outputs": [],
   "source": [
    "# multiplicamos el IQR por 1.5\n",
    "\n",
    "outlier_step = 1.5 * IQR\n",
    "outlier_step"
   ]
  },
  {
   "cell_type": "markdown",
   "id": "42815e8d",
   "metadata": {},
   "source": [
    "Ahora es el momento de filtrar nuestros datos filtrar/eliminar aquellos datos que sean *outliers*, es decir, vamos a crearnos un *dataframe* con los datos que cumplan dos condiciones: \n",
    "\n",
    "- Que sean menor que el valor de Q1 - outlier_step\n",
    "\n",
    "\n",
    "- Que sean mayores que el valor de Q3 + outlier_step"
   ]
  },
  {
   "cell_type": "code",
   "execution_count": null,
   "id": "065e2607",
   "metadata": {},
   "outputs": [],
   "source": [
    "outliers_data = df[(df[\"num_vecinos\"] < Q1 - outlier_step) | (df[\"num_vecinos\"] > Q3 + outlier_step)]"
   ]
  },
  {
   "cell_type": "code",
   "execution_count": null,
   "id": "5b9318f8",
   "metadata": {},
   "outputs": [],
   "source": [
    "outliers_data"
   ]
  },
  {
   "cell_type": "code",
   "execution_count": null,
   "id": "60f574e0",
   "metadata": {},
   "outputs": [],
   "source": [
    "# sacamos los índices de los outliers, para saber que filas son las que tienen los outliers\n",
    "x = list(outliers_data.index)\n",
    "x "
   ]
  },
  {
   "cell_type": "markdown",
   "id": "553f5ffe",
   "metadata": {},
   "source": [
    "Pero esto es un poco rollo si tuvieramos que ejecutar todas estas líneas para cada columna numérica, por lo que vamos a crearnos una función: "
   ]
  },
  {
   "cell_type": "code",
   "execution_count": null,
   "id": "1e639c01",
   "metadata": {},
   "outputs": [],
   "source": [
    "def detectar_outliers(lista_columnas, dataframe): \n",
    "    \n",
    "    dicc_indices = {} # creamos un diccionario donde almacenaremos índices de los outliers\n",
    "    \n",
    "    # iteramos por la lista de las columnas numéricas de nuestro dataframe\n",
    "    for col in lista_columnas:\n",
    "        \n",
    "        #calculamos los cuartiles Q1 y Q3\n",
    "        Q1 = np.nanpercentile(df[col], 25)\n",
    "        Q3 = np.nanpercentile(df[col], 75)\n",
    "        \n",
    "        # calculamos el rango intercuartil\n",
    "        IQR = Q3 - Q1\n",
    "        \n",
    "        # calculamos los límites\n",
    "        outlier_step = 1.5 * IQR\n",
    "        \n",
    "        # filtramos nuestro dataframe para indentificar los outliers\n",
    "        outliers_data = dataframe[(dataframe[col] < Q1 - outlier_step) | (dataframe[col] > Q3 + outlier_step)]\n",
    "        \n",
    "        \n",
    "        if outliers_data.shape[0] > 0: # chequeamos si nuestro dataframe tiene alguna fila. \n",
    "        \n",
    "            dicc_indices[col] = (list(outliers_data.index)) # si tiene fila es que hay outliers y por lo tanto lo añadimos a nuestro diccionario\n",
    "        \n",
    "\n",
    "    \n",
    "    return dicc_indices "
   ]
  },
  {
   "cell_type": "code",
   "execution_count": null,
   "id": "78294b44",
   "metadata": {},
   "outputs": [],
   "source": [
    "lista_columnas = df_numericas.columns\n",
    "lista_columnas"
   ]
  },
  {
   "cell_type": "code",
   "execution_count": null,
   "id": "918fb550",
   "metadata": {},
   "outputs": [],
   "source": [
    "# aplicamos la función y sacamos los índices de los outliers.\n",
    "\n",
    "ind = detectar_outliers(lista_columnas, df)\n",
    "print(ind)"
   ]
  },
  {
   "cell_type": "markdown",
   "id": "78fac77e",
   "metadata": {},
   "source": [
    "Ahora ya podremos hacer el tratamiento correcto de los *outliers*, como comentabamos un poco más arriba: \n",
    "\n",
    "- Eliminarlos\n",
    "\n",
    "- Reemplazarlos\n",
    "\n",
    "- Mantenerlos. "
   ]
  },
  {
   "cell_type": "markdown",
   "id": "fb74a9a1",
   "metadata": {},
   "source": [
    "# Eliminar *outliers* "
   ]
  },
  {
   "cell_type": "markdown",
   "id": "28c69b83",
   "metadata": {},
   "source": [
    "En este caso solo vamos a necesitar los índices. Por lo que necesitamos acceder a los valores de nuestro diccionario, para luego usarlos para elminarlos. "
   ]
  },
  {
   "cell_type": "code",
   "execution_count": null,
   "id": "0b4696ed",
   "metadata": {},
   "outputs": [],
   "source": [
    "# sacamos los valores de nuestro diccionario. \n",
    "\n",
    "valores = list(ind.values())"
   ]
  },
  {
   "cell_type": "code",
   "execution_count": null,
   "id": "16dd3ef3",
   "metadata": {},
   "outputs": [],
   "source": [
    "# pero ojo!! Esto es una lista de listas, por lo que necesitaremos aplanarla, ya que el método drop acepta listas.\n",
    "\n",
    "print(valores)"
   ]
  },
  {
   "cell_type": "code",
   "execution_count": null,
   "id": "63e8827b",
   "metadata": {},
   "outputs": [],
   "source": [
    "# hacemos una list comprehension para aplanar nuestra lista de listas\n",
    "\n",
    "valores = [indice for sublista in valores for indice in sublista]\n",
    "print(valores)"
   ]
  },
  {
   "cell_type": "code",
   "execution_count": null,
   "id": "f382e6f2",
   "metadata": {},
   "outputs": [],
   "source": [
    "valores = set(valores)"
   ]
  },
  {
   "cell_type": "code",
   "execution_count": null,
   "id": "15a40084",
   "metadata": {},
   "outputs": [],
   "source": [
    "print(valores)"
   ]
  },
  {
   "cell_type": "code",
   "execution_count": null,
   "id": "bdff64d1",
   "metadata": {},
   "outputs": [],
   "source": [
    "df.shape"
   ]
  },
  {
   "cell_type": "code",
   "execution_count": null,
   "id": "89e2b673",
   "metadata": {},
   "outputs": [],
   "source": [
    "# nos hacems¡os una copia del dataframe original\n",
    "\n",
    "df_sin_outliers2 = df.copy()"
   ]
  },
  {
   "cell_type": "code",
   "execution_count": null,
   "id": "7a65330c",
   "metadata": {},
   "outputs": [],
   "source": [
    "# eliminamos usando la lista de índices las filas que hemos identificado como outliers. \n",
    "\n",
    "final = df_sin_outliers2.drop(df_sin_outliers2.index[list(valores)] )"
   ]
  },
  {
   "cell_type": "markdown",
   "id": "cbee2a20",
   "metadata": {},
   "source": [
    "Por último chequeamos las filas del *dataframe* nuevo y comprobamos si se han borrado los registros que queríamos. "
   ]
  },
  {
   "cell_type": "code",
   "execution_count": null,
   "id": "99614da0",
   "metadata": {},
   "outputs": [],
   "source": [
    "final.shape"
   ]
  },
  {
   "cell_type": "markdown",
   "id": "c0671b8a",
   "metadata": {},
   "source": [
    "# Reemplazar"
   ]
  },
  {
   "cell_type": "markdown",
   "id": "fe7fc6e6",
   "metadata": {},
   "source": [
    "También podemos reemplazar los valores de los *outliers* por la media o la mediana. Recordamos que la función para detectar los *outliers* nos devolvía un diccionario, donde las *keys* eran el nombre de las columnas y los *values* la lista de los índices donde tenemos nulos. "
   ]
  },
  {
   "cell_type": "code",
   "execution_count": null,
   "id": "6321ac95",
   "metadata": {},
   "outputs": [],
   "source": [
    "print(ind)"
   ]
  },
  {
   "cell_type": "code",
   "execution_count": null,
   "id": "20c483dc",
   "metadata": {},
   "outputs": [],
   "source": [
    "# lo que vamos a hacer es iterar por el diccionario que nos devuelve la función \n",
    "for k, v in ind.items():\n",
    "    if k == \"bmi\":\n",
    "        media = df[k].mean() # calculamos la media para cada una de las columnas que tenemos en nuestro diccionario\n",
    "        for i in v: # iteremos por la lista de valores para cada columna\n",
    "            df.loc[i,k] = media # usando el loc, reemmplazamos los valores de los outliers por la media que hemos calculado al inicio.  \n",
    "    else: \n",
    "        mediana = df[k].median() # calculamos la media para cada una de las columnas que tenemos en nuestro diccionario\n",
    "        for i in v: # iteremos por la lista de valores para cada columna\n",
    "            df.loc[i,k] = mediana \n",
    "        "
   ]
  },
  {
   "cell_type": "code",
   "execution_count": null,
   "id": "35fc3a38",
   "metadata": {},
   "outputs": [],
   "source": [
    "df_numericas2 = df.select_dtypes(include = np.number)"
   ]
  },
  {
   "cell_type": "code",
   "execution_count": null,
   "id": "e7a53840",
   "metadata": {},
   "outputs": [],
   "source": [
    "fig, ax = plt.subplots(7, 1, figsize=(20,15))\n",
    "\n",
    "for i in range(len(df_numericas2.columns)):\n",
    "    sns.boxplot(x=df_numericas2.columns[i], data=df_numericas2, ax=ax[i])\n",
    "plt.show()"
   ]
  },
  {
   "cell_type": "code",
   "execution_count": null,
   "id": "cef659b9",
   "metadata": {},
   "outputs": [],
   "source": [
    "# guardamos el csv con los valores cambiados\n",
    "\n",
    "df.to_csv(\"insurance_sin_outliers.csv\")"
   ]
  },
  {
   "cell_type": "code",
   "execution_count": null,
   "id": "b3370bef",
   "metadata": {},
   "outputs": [],
   "source": []
  }
 ],
 "metadata": {
  "kernelspec": {
   "display_name": "iron",
   "language": "python",
   "name": "python3"
  },
  "language_info": {
   "codemirror_mode": {
    "name": "ipython",
    "version": 3
   },
   "file_extension": ".py",
   "mimetype": "text/x-python",
   "name": "python",
   "nbconvert_exporter": "python",
   "pygments_lexer": "ipython3",
   "version": "3.9.13"
  },
  "toc": {
   "base_numbering": 1,
   "nav_menu": {},
   "number_sections": true,
   "sideBar": true,
   "skip_h1_title": false,
   "title_cell": "Table of Contents",
   "title_sidebar": "Contents",
   "toc_cell": true,
   "toc_position": {
    "height": "calc(100% - 180px)",
    "left": "10px",
    "top": "150px",
    "width": "426.667px"
   },
   "toc_section_display": true,
   "toc_window_display": false
  },
  "vscode": {
   "interpreter": {
    "hash": "e59d0b279e6461be5b4ea7b62838527cd8f41f3cbc9a1147b1a83b32d75ab689"
   }
  }
 },
 "nbformat": 4,
 "nbformat_minor": 5
}
