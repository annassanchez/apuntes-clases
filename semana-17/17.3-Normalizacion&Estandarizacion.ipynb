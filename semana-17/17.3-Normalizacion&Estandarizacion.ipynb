{
 "cells": [
  {
   "cell_type": "markdown",
   "id": "51066ef3",
   "metadata": {
    "toc": true
   },
   "source": [
    "<h1>Table of Contents<span class=\"tocSkip\"></span></h1>\n",
    "<div class=\"toc\"><ul class=\"toc-item\"><li><span><a href=\"#¿-Por-qué-normalizar-o-estandarizar-los-datos?\" data-toc-modified-id=\"¿-Por-qué-normalizar-o-estandarizar-los-datos?-1\"><span class=\"toc-item-num\">1&nbsp;&nbsp;</span>¿ Por qué normalizar o estandarizar los datos?</a></span></li><li><span><a href=\"#¿Qué-distribución-tienen--nuestros-datos?\" data-toc-modified-id=\"¿Qué-distribución-tienen--nuestros-datos?-2\"><span class=\"toc-item-num\">2&nbsp;&nbsp;</span>¿Qué distribución tienen  nuestros datos?</a></span></li><li><span><a href=\"#Normalización\" data-toc-modified-id=\"Normalización-3\"><span class=\"toc-item-num\">3&nbsp;&nbsp;</span>Normalización</a></span><ul class=\"toc-item\"><li><span><a href=\"#Tipos-de-normalización\" data-toc-modified-id=\"Tipos-de-normalización-3.1\"><span class=\"toc-item-num\">3.1&nbsp;&nbsp;</span>Tipos de normalización</a></span><ul class=\"toc-item\"><li><span><a href=\"#Manualmente\" data-toc-modified-id=\"Manualmente-3.1.1\"><span class=\"toc-item-num\">3.1.1&nbsp;&nbsp;</span>Manualmente</a></span></li><li><span><a href=\"#Transformaciones-logarítmicas-o-raices-cuadradas.\" data-toc-modified-id=\"Transformaciones-logarítmicas-o-raices-cuadradas.-3.1.2\"><span class=\"toc-item-num\">3.1.2&nbsp;&nbsp;</span>Transformaciones logarítmicas o raices cuadradas.</a></span></li><li><span><a href=\"#Sklearn-MinMaxScaller\" data-toc-modified-id=\"Sklearn-MinMaxScaller-3.1.3\"><span class=\"toc-item-num\">3.1.3&nbsp;&nbsp;</span>Sklearn MinMaxScaller</a></span></li></ul></li></ul></li><li><span><a href=\"#Estandarización\" data-toc-modified-id=\"Estandarización-4\"><span class=\"toc-item-num\">4&nbsp;&nbsp;</span>Estandarización</a></span><ul class=\"toc-item\"><li><span><a href=\"#Tipos-de-estandarización\" data-toc-modified-id=\"Tipos-de-estandarización-4.1\"><span class=\"toc-item-num\">4.1&nbsp;&nbsp;</span>Tipos de estandarización</a></span><ul class=\"toc-item\"><li><span><a href=\"#Manualmente\" data-toc-modified-id=\"Manualmente-4.1.1\"><span class=\"toc-item-num\">4.1.1&nbsp;&nbsp;</span>Manualmente</a></span></li><li><span><a href=\"#Sklearn-StandardScaler\" data-toc-modified-id=\"Sklearn-StandardScaler-4.1.2\"><span class=\"toc-item-num\">4.1.2&nbsp;&nbsp;</span>Sklearn StandardScaler</a></span></li><li><span><a href=\"#Sklearn-RobustScaler\" data-toc-modified-id=\"Sklearn-RobustScaler-4.1.3\"><span class=\"toc-item-num\">4.1.3&nbsp;&nbsp;</span>Sklearn RobustScaler</a></span></li></ul></li></ul></li><li><span><a href=\"#Diferencias-entre-normalización-y-estandarización\" data-toc-modified-id=\"Diferencias-entre-normalización-y-estandarización-5\"><span class=\"toc-item-num\">5&nbsp;&nbsp;</span>Diferencias entre normalización y estandarización</a></span></li></ul></div>"
   ]
  },
  {
   "cell_type": "code",
   "execution_count": 1,
   "id": "4baf540a",
   "metadata": {},
   "outputs": [
    {
     "name": "stderr",
     "output_type": "stream",
     "text": [
      "<frozen importlib._bootstrap>:219: RuntimeWarning: scipy._lib.messagestream.MessageStream size changed, may indicate binary incompatibility. Expected 56 from C header, got 64 from PyObject\n"
     ]
    }
   ],
   "source": [
    "# cargamos las librerías que nos hacen falta para trabajar. \n",
    "\n",
    "import pandas as pd\n",
    "import math\n",
    "import numpy as np\n",
    "import seaborn as sns\n",
    "import matplotlib.pyplot as plt\n",
    "\n",
    "import warnings\n",
    "warnings.filterwarnings('ignore')\n",
    "\n",
    "from sklearn.preprocessing import MinMaxScaler\n",
    "from sklearn.preprocessing import StandardScaler\n",
    "from sklearn.preprocessing import RobustScaler\n",
    "\n",
    "from scipy import stats\n",
    "\n",
    "pd.options.display.max_columns = None # recordamos que este comando nos permitía ver todas las columnas de dataframe"
   ]
  },
  {
   "cell_type": "markdown",
   "id": "063c8ea5",
   "metadata": {},
   "source": [
    "# ¿ Por qué normalizar o estandarizar los datos? \n",
    "\n",
    "\n",
    "Principlamente hay dos motivos: \n",
    "\n",
    "\n",
    "1. Supongamos que tenemos un dataframe que contiene dos variables: \n",
    "\n",
    "    - El tiempo de viaje y \n",
    "\n",
    "    - La distancia recorrida. \n",
    "\n",
    "    El tiempo se mide en horas (por ejemplo, 5, 10, 25 horas) y la distancia en millas (por ejemplo, 500, 800, 1200 kilometros). \n",
    "\n",
    "   Problemas que nos encontramos: \n",
    "\n",
    "    - Un problema es que estas dos variables se miden en dos unidades diferentes: una en horas y otra en kilometros. \n",
    "    -  La distribución de los datos, es bastante diferente en estas dos variables (tanto dentro de las variables como entre ellas). Una va de 5 -25 y la otra de 500-1200. \n",
    "    \n",
    "    > El objetivo es transformar los datos de manera que no tengan dimensiones y/o tengan distribuciones similares. La normalización es un paso esencial en el preprocesamiento de datos en cualquier aplicación de *machine learning* y ajuste de modelos.\n",
    "\n",
    "2. En el caso de que estemos haciendo un modelo de regresión, nuestra variable respuesta, la que vamos a predecir debe seguir una distribución normal. \n"
   ]
  },
  {
   "cell_type": "code",
   "execution_count": 2,
   "id": "ebd5c886",
   "metadata": {},
   "outputs": [],
   "source": [
    "df = pd.read_csv(\"data/solo_california.csv\", index_col = 0)"
   ]
  },
  {
   "cell_type": "code",
   "execution_count": 3,
   "id": "8ad06c71",
   "metadata": {},
   "outputs": [
    {
     "data": {
      "text/html": [
       "<div>\n",
       "<style scoped>\n",
       "    .dataframe tbody tr th:only-of-type {\n",
       "        vertical-align: middle;\n",
       "    }\n",
       "\n",
       "    .dataframe tbody tr th {\n",
       "        vertical-align: top;\n",
       "    }\n",
       "\n",
       "    .dataframe thead th {\n",
       "        text-align: right;\n",
       "    }\n",
       "</style>\n",
       "<table border=\"1\" class=\"dataframe\">\n",
       "  <thead>\n",
       "    <tr style=\"text-align: right;\">\n",
       "      <th></th>\n",
       "      <th>state</th>\n",
       "      <th>gender</th>\n",
       "      <th>median_home_val</th>\n",
       "      <th>median_household_income</th>\n",
       "      <th>num_habitaciones</th>\n",
       "      <th>num_vecinos</th>\n",
       "      <th>total_habitaciones</th>\n",
       "      <th>total_baños</th>\n",
       "      <th>dist_playa</th>\n",
       "    </tr>\n",
       "  </thead>\n",
       "  <tbody>\n",
       "    <tr>\n",
       "      <th>6</th>\n",
       "      <td>CA</td>\n",
       "      <td>F</td>\n",
       "      <td>1026.0</td>\n",
       "      <td>459.0</td>\n",
       "      <td>470.0</td>\n",
       "      <td>491.0</td>\n",
       "      <td>496.0</td>\n",
       "      <td>13803.0</td>\n",
       "      <td>11.25</td>\n",
       "    </tr>\n",
       "    <tr>\n",
       "      <th>12</th>\n",
       "      <td>CA</td>\n",
       "      <td>M</td>\n",
       "      <td>1538.0</td>\n",
       "      <td>271.0</td>\n",
       "      <td>317.0</td>\n",
       "      <td>342.0</td>\n",
       "      <td>393.0</td>\n",
       "      <td>15627.0</td>\n",
       "      <td>5.50</td>\n",
       "    </tr>\n",
       "  </tbody>\n",
       "</table>\n",
       "</div>"
      ],
      "text/plain": [
       "   state gender  median_home_val  median_household_income  num_habitaciones  \\\n",
       "6     CA      F           1026.0                    459.0             470.0   \n",
       "12    CA      M           1538.0                    271.0             317.0   \n",
       "\n",
       "    num_vecinos  total_habitaciones  total_baños  dist_playa  \n",
       "6         491.0               496.0      13803.0       11.25  \n",
       "12        342.0               393.0      15627.0        5.50  "
      ]
     },
     "execution_count": 3,
     "metadata": {},
     "output_type": "execute_result"
    }
   ],
   "source": [
    "df.head(2)"
   ]
  },
  {
   "cell_type": "markdown",
   "id": "2e15e508",
   "metadata": {},
   "source": [
    "# ¿Qué distribución tienen  nuestros datos? "
   ]
  },
  {
   "cell_type": "markdown",
   "id": "38c13014",
   "metadata": {},
   "source": [
    "Antes de ponernos manos a la obra, tenemos que saber como están distribuidos nuestros datos. Esta es la distribución más frecuente. Consiste en una gráfica de la función de densidad que tiene una forma acampanada y simétrica. Es la conocemos como **campana de Gauss**. \n",
    "\n",
    "[Aquí](https://es.wikipedia.org/wiki/Distribuci%C3%B3n_normal) más info sobre este tipo de distribución. "
   ]
  },
  {
   "cell_type": "code",
   "execution_count": 4,
   "id": "282a90a4",
   "metadata": {},
   "outputs": [
    {
     "data": {
      "text/html": [
       "<div>\n",
       "<style scoped>\n",
       "    .dataframe tbody tr th:only-of-type {\n",
       "        vertical-align: middle;\n",
       "    }\n",
       "\n",
       "    .dataframe tbody tr th {\n",
       "        vertical-align: top;\n",
       "    }\n",
       "\n",
       "    .dataframe thead th {\n",
       "        text-align: right;\n",
       "    }\n",
       "</style>\n",
       "<table border=\"1\" class=\"dataframe\">\n",
       "  <thead>\n",
       "    <tr style=\"text-align: right;\">\n",
       "      <th></th>\n",
       "      <th>median_home_val</th>\n",
       "      <th>median_household_income</th>\n",
       "      <th>num_habitaciones</th>\n",
       "      <th>num_vecinos</th>\n",
       "      <th>total_habitaciones</th>\n",
       "      <th>total_baños</th>\n",
       "      <th>dist_playa</th>\n",
       "    </tr>\n",
       "  </thead>\n",
       "  <tbody>\n",
       "    <tr>\n",
       "      <th>6</th>\n",
       "      <td>1026.0</td>\n",
       "      <td>459.0</td>\n",
       "      <td>470.0</td>\n",
       "      <td>491.0</td>\n",
       "      <td>496.0</td>\n",
       "      <td>13803.0</td>\n",
       "      <td>11.250000</td>\n",
       "    </tr>\n",
       "    <tr>\n",
       "      <th>12</th>\n",
       "      <td>1538.0</td>\n",
       "      <td>271.0</td>\n",
       "      <td>317.0</td>\n",
       "      <td>342.0</td>\n",
       "      <td>393.0</td>\n",
       "      <td>15627.0</td>\n",
       "      <td>5.500000</td>\n",
       "    </tr>\n",
       "    <tr>\n",
       "      <th>16</th>\n",
       "      <td>596.0</td>\n",
       "      <td>164.0</td>\n",
       "      <td>168.0</td>\n",
       "      <td>181.0</td>\n",
       "      <td>190.0</td>\n",
       "      <td>5273.0</td>\n",
       "      <td>16.500000</td>\n",
       "    </tr>\n",
       "    <tr>\n",
       "      <th>19</th>\n",
       "      <td>2362.0</td>\n",
       "      <td>613.0</td>\n",
       "      <td>632.0</td>\n",
       "      <td>655.0</td>\n",
       "      <td>678.0</td>\n",
       "      <td>21179.0</td>\n",
       "      <td>8.928571</td>\n",
       "    </tr>\n",
       "    <tr>\n",
       "      <th>20</th>\n",
       "      <td>2089.0</td>\n",
       "      <td>275.0</td>\n",
       "      <td>296.0</td>\n",
       "      <td>322.0</td>\n",
       "      <td>356.0</td>\n",
       "      <td>10484.0</td>\n",
       "      <td>7.125000</td>\n",
       "    </tr>\n",
       "  </tbody>\n",
       "</table>\n",
       "</div>"
      ],
      "text/plain": [
       "    median_home_val  median_household_income  num_habitaciones  num_vecinos  \\\n",
       "6            1026.0                    459.0             470.0        491.0   \n",
       "12           1538.0                    271.0             317.0        342.0   \n",
       "16            596.0                    164.0             168.0        181.0   \n",
       "19           2362.0                    613.0             632.0        655.0   \n",
       "20           2089.0                    275.0             296.0        322.0   \n",
       "\n",
       "    total_habitaciones  total_baños  dist_playa  \n",
       "6                496.0      13803.0   11.250000  \n",
       "12               393.0      15627.0    5.500000  \n",
       "16               190.0       5273.0   16.500000  \n",
       "19               678.0      21179.0    8.928571  \n",
       "20               356.0      10484.0    7.125000  "
      ]
     },
     "execution_count": 4,
     "metadata": {},
     "output_type": "execute_result"
    }
   ],
   "source": [
    "# nos hacemos un subset solo con las numéricas\n",
    "\n",
    "num = df.select_dtypes(include = np.number)\n",
    "num.head()"
   ]
  },
  {
   "cell_type": "code",
   "execution_count": 5,
   "id": "b9027d4c",
   "metadata": {},
   "outputs": [
    {
     "data": {
      "text/plain": [
       "Index(['median_home_val', 'median_household_income', 'num_habitaciones',\n",
       "       'num_vecinos', 'total_habitaciones', 'total_baños', 'dist_playa'],\n",
       "      dtype='object')"
      ]
     },
     "execution_count": 5,
     "metadata": {},
     "output_type": "execute_result"
    }
   ],
   "source": [
    "columnas = num.columns\n",
    "columnas"
   ]
  },
  {
   "cell_type": "code",
   "execution_count": 6,
   "id": "9cfe2be8",
   "metadata": {
    "scrolled": false
   },
   "outputs": [
    {
     "data": {
      "image/png": "[encoded data removed]",
      "text/plain": [
       "<Figure size 1440x360 with 7 Axes>"
      ]
     },
     "metadata": {
      "needs_background": "light"
     },
     "output_type": "display_data"
    }
   ],
   "source": [
    "fig, ax = plt.subplots(2,4, figsize = (20,5))\n",
    "\n",
    "ax = ax.flat\n",
    "for i, columna in enumerate(columnas):\n",
    "    sns.histplot(data = num, x = columna, kde = True, ax = ax[i])\n",
    "    \n",
    "fig.delaxes(ax[-1])\n",
    "plt.show()"
   ]
  },
  {
   "cell_type": "markdown",
   "id": "2d545484",
   "metadata": {},
   "source": [
    "# Normalización "
   ]
  },
  {
   "cell_type": "markdown",
   "id": "0e34919a",
   "metadata": {},
   "source": [
    "Cuando hacemos modelos de predicción de tipo regresión lineal se deben de cumplir una serie de asunciones (las vimos en lecciones anteriores), una de ellas era que nuestros datos se tienen que ajustar a una distribución normal, es decir, si lo vieramos gráficamente debería tener forma de campana de Gauss. Muchas veces nos encontraremos que no tienen esta forma y necesitaremos ajustarla.\n",
    "\n",
    "En nuestro caso queremos evaluar de que depende el precio del alquiler de pisos. En nuestro dataframe tendremos múltiples columnas, una de ellas el precio de los pisos y otras columnas como el índice de criminalidad, la edad, la cercanía al río, etc. En este caso nuestra variable respuesta es el precio de las casas. Cuando hacemos este tipo de análisis, debemos asegurarnos que nuestra variable respuesta tenga una distribución normal. Por lo tanto, importante, usaremos esta aproximación para hacer que nuestra variable respuesta(la que queremos predecir) tenga una distribución de campana de Gauss.\n",
    "\n",
    "En el caso del csv que usaremos en la lección de hoy la variable respuesta es MEDV. Pero... 🤔¿Cómo podíamos saber si la variable es normal o no? Para ello tendremos varias opciones, visualmente, o aplicando ciertos test,como por ejemplo el Shapiro test."
   ]
  },
  {
   "cell_type": "code",
   "execution_count": 7,
   "id": "b570580b",
   "metadata": {},
   "outputs": [
    {
     "data": {
      "text/html": [
       "<div>\n",
       "<style scoped>\n",
       "    .dataframe tbody tr th:only-of-type {\n",
       "        vertical-align: middle;\n",
       "    }\n",
       "\n",
       "    .dataframe tbody tr th {\n",
       "        vertical-align: top;\n",
       "    }\n",
       "\n",
       "    .dataframe thead th {\n",
       "        text-align: right;\n",
       "    }\n",
       "</style>\n",
       "<table border=\"1\" class=\"dataframe\">\n",
       "  <thead>\n",
       "    <tr style=\"text-align: right;\">\n",
       "      <th></th>\n",
       "      <th>state</th>\n",
       "      <th>gender</th>\n",
       "      <th>median_home_val</th>\n",
       "      <th>median_household_income</th>\n",
       "      <th>num_habitaciones</th>\n",
       "      <th>num_vecinos</th>\n",
       "      <th>total_habitaciones</th>\n",
       "      <th>total_baños</th>\n",
       "      <th>dist_playa</th>\n",
       "    </tr>\n",
       "  </thead>\n",
       "  <tbody>\n",
       "    <tr>\n",
       "      <th>6</th>\n",
       "      <td>CA</td>\n",
       "      <td>F</td>\n",
       "      <td>1026.0</td>\n",
       "      <td>459.0</td>\n",
       "      <td>470.0</td>\n",
       "      <td>491.0</td>\n",
       "      <td>496.0</td>\n",
       "      <td>13803.0</td>\n",
       "      <td>11.25</td>\n",
       "    </tr>\n",
       "    <tr>\n",
       "      <th>12</th>\n",
       "      <td>CA</td>\n",
       "      <td>M</td>\n",
       "      <td>1538.0</td>\n",
       "      <td>271.0</td>\n",
       "      <td>317.0</td>\n",
       "      <td>342.0</td>\n",
       "      <td>393.0</td>\n",
       "      <td>15627.0</td>\n",
       "      <td>5.50</td>\n",
       "    </tr>\n",
       "  </tbody>\n",
       "</table>\n",
       "</div>"
      ],
      "text/plain": [
       "   state gender  median_home_val  median_household_income  num_habitaciones  \\\n",
       "6     CA      F           1026.0                    459.0             470.0   \n",
       "12    CA      M           1538.0                    271.0             317.0   \n",
       "\n",
       "    num_vecinos  total_habitaciones  total_baños  dist_playa  \n",
       "6         491.0               496.0      13803.0       11.25  \n",
       "12        342.0               393.0      15627.0        5.50  "
      ]
     },
     "execution_count": 7,
     "metadata": {},
     "output_type": "execute_result"
    }
   ],
   "source": [
    "df.head(2)"
   ]
  },
  {
   "cell_type": "code",
   "execution_count": 8,
   "id": "4a204dbe",
   "metadata": {},
   "outputs": [
    {
     "data": {
      "image/png": "[encoded data removed]",
      "text/plain": [
       "<Figure size 432x288 with 1 Axes>"
      ]
     },
     "metadata": {
      "needs_background": "light"
     },
     "output_type": "display_data"
    }
   ],
   "source": [
    "sns.histplot(df[\"median_home_val\"], \n",
    "             kde = True, \n",
    "             color = \"green\");\n"
   ]
  },
  {
   "cell_type": "code",
   "execution_count": 9,
   "id": "11fdfb9d",
   "metadata": {},
   "outputs": [
    {
     "data": {
      "text/plain": [
       "ShapiroResult(statistic=0.9728606343269348, pvalue=1.318781794878987e-08)"
      ]
     },
     "execution_count": 9,
     "metadata": {},
     "output_type": "execute_result"
    }
   ],
   "source": [
    "stats.shapiro(df[\"median_home_val\"])"
   ]
  },
  {
   "cell_type": "markdown",
   "id": "35bffeb6",
   "metadata": {},
   "source": [
    "- H0: Datos normales\n",
    "    \n",
    "- H1: Datos no normales\n",
    "\n",
    "Interpretemos:\n",
    "\n",
    "- Si p-valor < 0.05 rechazamos la hipótesis nula, por lo tanto, los datos no son normales.\n",
    "\n",
    "- Si p-valor > 0.05 no podemos rechazar la hipótesis nula, es decir, nuestros datos son normales.\n",
    "\n",
    "**Conclusión**: Nuestros datos no son normales y, por lo tanto podremos intertar realizar una serie de transformaciones que nos permitan que se ajusten a una normal.\n",
    "\n"
   ]
  },
  {
   "cell_type": "markdown",
   "id": "50ed959f",
   "metadata": {},
   "source": [
    "## Tipos de normalización"
   ]
  },
  {
   "cell_type": "markdown",
   "id": "03ddcf69",
   "metadata": {},
   "source": [
    "### Manualmente\n",
    "\n",
    "\n",
    "\n",
    "$$ x´ =  \\frac{x -  µ}{max(x) - min(x)}$$\n",
    "\n",
    "Donde: \n",
    "\n",
    "- `X`: es el valor que queremos normalizar.\n",
    "\n",
    "\n",
    "- `µ`: es la media de todos los valores que queremos normalizar.\n",
    "\n",
    " \n",
    "- `max(x)`: el valor máximo de nuestra variable.\n",
    "\n",
    "\n",
    "- `min(x)`: el valor mínimo de nuestra variable.\n"
   ]
  },
  {
   "cell_type": "code",
   "execution_count": 10,
   "id": "afd1ab81",
   "metadata": {},
   "outputs": [],
   "source": [
    "# vamos a crear distintas variables con los estadísticos que necesitamos\n",
    "\n",
    "media = df[\"median_home_val\"].mean()\n",
    "maximo = df[\"median_home_val\"].max() \n",
    "minimo = df[\"median_home_val\"].min()"
   ]
  },
  {
   "cell_type": "code",
   "execution_count": 11,
   "id": "b68f4a07",
   "metadata": {},
   "outputs": [],
   "source": [
    "df[\"median_home_val_NORM\"] = (df[\"median_home_val\"] - media) / (maximo - minimo )"
   ]
  },
  {
   "cell_type": "code",
   "execution_count": 12,
   "id": "f8f20a12",
   "metadata": {},
   "outputs": [
    {
     "data": {
      "text/html": [
       "<div>\n",
       "<style scoped>\n",
       "    .dataframe tbody tr th:only-of-type {\n",
       "        vertical-align: middle;\n",
       "    }\n",
       "\n",
       "    .dataframe tbody tr th {\n",
       "        vertical-align: top;\n",
       "    }\n",
       "\n",
       "    .dataframe thead th {\n",
       "        text-align: right;\n",
       "    }\n",
       "</style>\n",
       "<table border=\"1\" class=\"dataframe\">\n",
       "  <thead>\n",
       "    <tr style=\"text-align: right;\">\n",
       "      <th></th>\n",
       "      <th>state</th>\n",
       "      <th>gender</th>\n",
       "      <th>median_home_val</th>\n",
       "      <th>median_household_income</th>\n",
       "      <th>num_habitaciones</th>\n",
       "      <th>num_vecinos</th>\n",
       "      <th>total_habitaciones</th>\n",
       "      <th>total_baños</th>\n",
       "      <th>dist_playa</th>\n",
       "      <th>median_home_val_NORM</th>\n",
       "    </tr>\n",
       "  </thead>\n",
       "  <tbody>\n",
       "    <tr>\n",
       "      <th>6</th>\n",
       "      <td>CA</td>\n",
       "      <td>F</td>\n",
       "      <td>1026.0</td>\n",
       "      <td>459.0</td>\n",
       "      <td>470.0</td>\n",
       "      <td>491.0</td>\n",
       "      <td>496.0</td>\n",
       "      <td>13803.0</td>\n",
       "      <td>11.25</td>\n",
       "      <td>-0.287344</td>\n",
       "    </tr>\n",
       "    <tr>\n",
       "      <th>12</th>\n",
       "      <td>CA</td>\n",
       "      <td>M</td>\n",
       "      <td>1538.0</td>\n",
       "      <td>271.0</td>\n",
       "      <td>317.0</td>\n",
       "      <td>342.0</td>\n",
       "      <td>393.0</td>\n",
       "      <td>15627.0</td>\n",
       "      <td>5.50</td>\n",
       "      <td>-0.086007</td>\n",
       "    </tr>\n",
       "  </tbody>\n",
       "</table>\n",
       "</div>"
      ],
      "text/plain": [
       "   state gender  median_home_val  median_household_income  num_habitaciones  \\\n",
       "6     CA      F           1026.0                    459.0             470.0   \n",
       "12    CA      M           1538.0                    271.0             317.0   \n",
       "\n",
       "    num_vecinos  total_habitaciones  total_baños  dist_playa  \\\n",
       "6         491.0               496.0      13803.0       11.25   \n",
       "12        342.0               393.0      15627.0        5.50   \n",
       "\n",
       "    median_home_val_NORM  \n",
       "6              -0.287344  \n",
       "12             -0.086007  "
      ]
     },
     "execution_count": 12,
     "metadata": {},
     "output_type": "execute_result"
    }
   ],
   "source": [
    "df.head(2)"
   ]
  },
  {
   "cell_type": "code",
   "execution_count": 13,
   "id": "bc8f1793",
   "metadata": {},
   "outputs": [
    {
     "data": {
      "image/png": "[encoded data removed]",
      "text/plain": [
       "<Figure size 1080x360 with 2 Axes>"
      ]
     },
     "metadata": {
      "needs_background": "light"
     },
     "output_type": "display_data"
    }
   ],
   "source": [
    "fig, axes = plt.subplots(1, 2, figsize = (15,5))\n",
    "\n",
    "axes[0].set_title('median_home_val original')\n",
    "axes[1].set_title('median_home_val normalizado')\n",
    "\n",
    "sns.distplot(df['median_home_val'] ,ax = axes[0])\n",
    "sns.distplot(df['median_home_val_NORM'], ax = axes[1]);"
   ]
  },
  {
   "cell_type": "code",
   "execution_count": 14,
   "id": "99a41ba9",
   "metadata": {},
   "outputs": [
    {
     "data": {
      "text/plain": [
       "ShapiroResult(statistic=0.9728601574897766, pvalue=1.3184645375474702e-08)"
      ]
     },
     "execution_count": 14,
     "metadata": {},
     "output_type": "execute_result"
    }
   ],
   "source": [
    "stats.shapiro(df[\"median_home_val_NORM\"])"
   ]
  },
  {
   "cell_type": "markdown",
   "id": "6ed9bc41",
   "metadata": {},
   "source": [
    "### Transformaciones logarítmicas o raices cuadradas. "
   ]
  },
  {
   "cell_type": "markdown",
   "id": "fb9fa78a",
   "metadata": {},
   "source": [
    "`LOGARÍTMICA`\n",
    "\n",
    "La escala logarítmica implica la conversión de una columna a la escala lograrítimica. \n",
    "\n",
    "📌 Es importante tener en cuenta que esta transformación no la podremos hacer si tenemos algun valor en nuestra variable que sea 0."
   ]
  },
  {
   "cell_type": "markdown",
   "id": "01f716bb",
   "metadata": {},
   "source": [
    "En este caso aplicaremos este caso aplicaremos una*list comprehension* para evitar tener errores con los posibles valores 0 que tengamos en nuestra columna. "
   ]
  },
  {
   "cell_type": "code",
   "execution_count": 15,
   "id": "caff6a13",
   "metadata": {},
   "outputs": [],
   "source": [
    "df['median_home_val_LOG'] = df['median_home_val'].apply(lambda x: np.log(x) if x != 0 else 0)"
   ]
  },
  {
   "cell_type": "code",
   "execution_count": 16,
   "id": "5bcbfbba",
   "metadata": {
    "scrolled": true
   },
   "outputs": [
    {
     "data": {
      "text/html": [
       "<div>\n",
       "<style scoped>\n",
       "    .dataframe tbody tr th:only-of-type {\n",
       "        vertical-align: middle;\n",
       "    }\n",
       "\n",
       "    .dataframe tbody tr th {\n",
       "        vertical-align: top;\n",
       "    }\n",
       "\n",
       "    .dataframe thead th {\n",
       "        text-align: right;\n",
       "    }\n",
       "</style>\n",
       "<table border=\"1\" class=\"dataframe\">\n",
       "  <thead>\n",
       "    <tr style=\"text-align: right;\">\n",
       "      <th></th>\n",
       "      <th>state</th>\n",
       "      <th>gender</th>\n",
       "      <th>median_home_val</th>\n",
       "      <th>median_household_income</th>\n",
       "      <th>num_habitaciones</th>\n",
       "      <th>num_vecinos</th>\n",
       "      <th>total_habitaciones</th>\n",
       "      <th>total_baños</th>\n",
       "      <th>dist_playa</th>\n",
       "      <th>median_home_val_NORM</th>\n",
       "      <th>median_home_val_LOG</th>\n",
       "    </tr>\n",
       "  </thead>\n",
       "  <tbody>\n",
       "    <tr>\n",
       "      <th>6</th>\n",
       "      <td>CA</td>\n",
       "      <td>F</td>\n",
       "      <td>1026.0</td>\n",
       "      <td>459.0</td>\n",
       "      <td>470.0</td>\n",
       "      <td>491.0</td>\n",
       "      <td>496.0</td>\n",
       "      <td>13803.0</td>\n",
       "      <td>11.25</td>\n",
       "      <td>-0.287344</td>\n",
       "      <td>6.933423</td>\n",
       "    </tr>\n",
       "    <tr>\n",
       "      <th>12</th>\n",
       "      <td>CA</td>\n",
       "      <td>M</td>\n",
       "      <td>1538.0</td>\n",
       "      <td>271.0</td>\n",
       "      <td>317.0</td>\n",
       "      <td>342.0</td>\n",
       "      <td>393.0</td>\n",
       "      <td>15627.0</td>\n",
       "      <td>5.50</td>\n",
       "      <td>-0.086007</td>\n",
       "      <td>7.338238</td>\n",
       "    </tr>\n",
       "  </tbody>\n",
       "</table>\n",
       "</div>"
      ],
      "text/plain": [
       "   state gender  median_home_val  median_household_income  num_habitaciones  \\\n",
       "6     CA      F           1026.0                    459.0             470.0   \n",
       "12    CA      M           1538.0                    271.0             317.0   \n",
       "\n",
       "    num_vecinos  total_habitaciones  total_baños  dist_playa  \\\n",
       "6         491.0               496.0      13803.0       11.25   \n",
       "12        342.0               393.0      15627.0        5.50   \n",
       "\n",
       "    median_home_val_NORM  median_home_val_LOG  \n",
       "6              -0.287344             6.933423  \n",
       "12             -0.086007             7.338238  "
      ]
     },
     "execution_count": 16,
     "metadata": {},
     "output_type": "execute_result"
    }
   ],
   "source": [
    "df.head(2)"
   ]
  },
  {
   "cell_type": "code",
   "execution_count": 17,
   "id": "bcef8457",
   "metadata": {},
   "outputs": [
    {
     "data": {
      "image/png": "[encoded data removed]",
      "text/plain": [
       "<Figure size 1080x360 with 2 Axes>"
      ]
     },
     "metadata": {
      "needs_background": "light"
     },
     "output_type": "display_data"
    }
   ],
   "source": [
    "fig, axes = plt.subplots(1, 2, figsize = (15,5))\n",
    "\n",
    "axes[0].set_title('median_home_val original')\n",
    "axes[1].set_title('median_home_val normalizado')\n",
    "\n",
    "sns.distplot(df['median_home_val'] ,ax = axes[0])\n",
    "sns.distplot(df['median_home_val_LOG'], ax = axes[1]);"
   ]
  },
  {
   "cell_type": "code",
   "execution_count": 18,
   "id": "ae86d486",
   "metadata": {},
   "outputs": [
    {
     "data": {
      "text/plain": [
       "ShapiroResult(statistic=0.9484013319015503, pvalue=5.574352286187578e-13)"
      ]
     },
     "execution_count": 18,
     "metadata": {},
     "output_type": "execute_result"
    }
   ],
   "source": [
    "stats.shapiro(df[\"median_home_val_LOG\"])"
   ]
  },
  {
   "cell_type": "markdown",
   "id": "5022f17b",
   "metadata": {},
   "source": [
    "`RAIZ CUADRADA`\n",
    "\n",
    "La escala logarítmica implica la conversión de una columna a la escala lograrítimica. \n",
    "\n",
    "📌 Es importante tener en cuenta que esta transformación no la podremos hacer si tenemos algun valor en nuestra variable que sea 0."
   ]
  },
  {
   "cell_type": "code",
   "execution_count": 19,
   "id": "6e0e74c1",
   "metadata": {},
   "outputs": [],
   "source": [
    " df['median_home_val_SQRT'] = df['median_home_val'].apply(lambda x: math.sqrt(x))"
   ]
  },
  {
   "cell_type": "code",
   "execution_count": 20,
   "id": "7b238406",
   "metadata": {},
   "outputs": [
    {
     "data": {
      "text/html": [
       "<div>\n",
       "<style scoped>\n",
       "    .dataframe tbody tr th:only-of-type {\n",
       "        vertical-align: middle;\n",
       "    }\n",
       "\n",
       "    .dataframe tbody tr th {\n",
       "        vertical-align: top;\n",
       "    }\n",
       "\n",
       "    .dataframe thead th {\n",
       "        text-align: right;\n",
       "    }\n",
       "</style>\n",
       "<table border=\"1\" class=\"dataframe\">\n",
       "  <thead>\n",
       "    <tr style=\"text-align: right;\">\n",
       "      <th></th>\n",
       "      <th>state</th>\n",
       "      <th>gender</th>\n",
       "      <th>median_home_val</th>\n",
       "      <th>median_household_income</th>\n",
       "      <th>num_habitaciones</th>\n",
       "      <th>num_vecinos</th>\n",
       "      <th>total_habitaciones</th>\n",
       "      <th>total_baños</th>\n",
       "      <th>dist_playa</th>\n",
       "      <th>median_home_val_NORM</th>\n",
       "      <th>median_home_val_LOG</th>\n",
       "      <th>median_home_val_SQRT</th>\n",
       "    </tr>\n",
       "  </thead>\n",
       "  <tbody>\n",
       "    <tr>\n",
       "      <th>6</th>\n",
       "      <td>CA</td>\n",
       "      <td>F</td>\n",
       "      <td>1026.0</td>\n",
       "      <td>459.0</td>\n",
       "      <td>470.0</td>\n",
       "      <td>491.0</td>\n",
       "      <td>496.0</td>\n",
       "      <td>13803.0</td>\n",
       "      <td>11.25</td>\n",
       "      <td>-0.287344</td>\n",
       "      <td>6.933423</td>\n",
       "      <td>32.031235</td>\n",
       "    </tr>\n",
       "    <tr>\n",
       "      <th>12</th>\n",
       "      <td>CA</td>\n",
       "      <td>M</td>\n",
       "      <td>1538.0</td>\n",
       "      <td>271.0</td>\n",
       "      <td>317.0</td>\n",
       "      <td>342.0</td>\n",
       "      <td>393.0</td>\n",
       "      <td>15627.0</td>\n",
       "      <td>5.50</td>\n",
       "      <td>-0.086007</td>\n",
       "      <td>7.338238</td>\n",
       "      <td>39.217343</td>\n",
       "    </tr>\n",
       "  </tbody>\n",
       "</table>\n",
       "</div>"
      ],
      "text/plain": [
       "   state gender  median_home_val  median_household_income  num_habitaciones  \\\n",
       "6     CA      F           1026.0                    459.0             470.0   \n",
       "12    CA      M           1538.0                    271.0             317.0   \n",
       "\n",
       "    num_vecinos  total_habitaciones  total_baños  dist_playa  \\\n",
       "6         491.0               496.0      13803.0       11.25   \n",
       "12        342.0               393.0      15627.0        5.50   \n",
       "\n",
       "    median_home_val_NORM  median_home_val_LOG  median_home_val_SQRT  \n",
       "6              -0.287344             6.933423             32.031235  \n",
       "12             -0.086007             7.338238             39.217343  "
      ]
     },
     "execution_count": 20,
     "metadata": {},
     "output_type": "execute_result"
    }
   ],
   "source": [
    "df.head(2)"
   ]
  },
  {
   "cell_type": "code",
   "execution_count": 21,
   "id": "52952421",
   "metadata": {},
   "outputs": [
    {
     "data": {
      "image/png": "[encoded data removed]",
      "text/plain": [
       "<Figure size 1080x360 with 2 Axes>"
      ]
     },
     "metadata": {
      "needs_background": "light"
     },
     "output_type": "display_data"
    }
   ],
   "source": [
    "fig, axes = plt.subplots(1, 2, figsize = (15,5))\n",
    "\n",
    "axes[0].set_title('median_home_val original')\n",
    "axes[1].set_title('median_home_val normalizado')\n",
    "\n",
    "sns.distplot(df['median_home_val'] ,ax = axes[0])\n",
    "sns.distplot(df['median_home_val_SQRT'], ax = axes[1]);"
   ]
  },
  {
   "cell_type": "code",
   "execution_count": 22,
   "id": "d6d4536c",
   "metadata": {},
   "outputs": [
    {
     "data": {
      "text/plain": [
       "ShapiroResult(statistic=0.970329761505127, pvalue=3.751799759754704e-09)"
      ]
     },
     "execution_count": 22,
     "metadata": {},
     "output_type": "execute_result"
    }
   ],
   "source": [
    "stats.shapiro(df[\"median_home_val_SQRT\"])"
   ]
  },
  {
   "cell_type": "markdown",
   "id": "87a9e718",
   "metadata": {},
   "source": [
    "### Sklearn MinMaxScaller\n"
   ]
  },
  {
   "cell_type": "markdown",
   "id": "2e8a241e",
   "metadata": {},
   "source": [
    "Es una e las técnicas de normalizado más importantes. Principalmente va a transformar las variables escalando cada una de ellas a un rango determinado, por defecto lo hará entre 0-1\n",
    "Este estimador escala y traduce cada variable individualmente de manera que se encuentre en el rango dado en el conjunto de entrenamiento, por ejemplo, entre cero y uno.\n",
    "\n",
    "Su sintaxis es: \n",
    "\n",
    "```python\n",
    "MinMaxScaler(feature_range=(0, 1), copy=True, clip=False)\n",
    "```\n",
    "\n",
    "Donde: \n",
    "\n",
    "- `feature_range`: el rango sobre el que queremos normalizar nuestro datos. Por defecto entre 0 - 1. \n",
    "\n",
    "\n",
    "- `copy`: si queremos una copia de nuestra datos normalizada. \n",
    "\n",
    "\n",
    "- `clip`: la pondremos en True para recortar los valores transformados de los datos retenidos en el rango de características proporcionado.\n",
    "\n",
    "\n",
    "Tendremos que usar la siguiente librería 👇🏽\n",
    "\n",
    "```python\n",
    "from sklearn.preprocessing import MinMaxScaler\n",
    "```"
   ]
  },
  {
   "cell_type": "code",
   "execution_count": 23,
   "id": "82afb8a8",
   "metadata": {},
   "outputs": [],
   "source": [
    "# construir el modelo de escalador\n",
    "minmax = MinMaxScaler()"
   ]
  },
  {
   "cell_type": "code",
   "execution_count": 24,
   "id": "61780bd1",
   "metadata": {},
   "outputs": [
    {
     "data": {
      "text/html": [
       "<style>#sk-container-id-1 {color: black;background-color: white;}#sk-container-id-1 pre{padding: 0;}#sk-container-id-1 div.sk-toggleable {background-color: white;}#sk-container-id-1 label.sk-toggleable__label {cursor: pointer;display: block;width: 100%;margin-bottom: 0;padding: 0.3em;box-sizing: border-box;text-align: center;}#sk-container-id-1 label.sk-toggleable__label-arrow:before {content: \"▸\";float: left;margin-right: 0.25em;color: #696969;}#sk-container-id-1 label.sk-toggleable__label-arrow:hover:before {color: black;}#sk-container-id-1 div.sk-estimator:hover label.sk-toggleable__label-arrow:before {color: black;}#sk-container-id-1 div.sk-toggleable__content {max-height: 0;max-width: 0;overflow: hidden;text-align: left;background-color: #f0f8ff;}#sk-container-id-1 div.sk-toggleable__content pre {margin: 0.2em;color: black;border-radius: 0.25em;background-color: #f0f8ff;}#sk-container-id-1 input.sk-toggleable__control:checked~div.sk-toggleable__content {max-height: 200px;max-width: 100%;overflow: auto;}#sk-container-id-1 input.sk-toggleable__control:checked~label.sk-toggleable__label-arrow:before {content: \"▾\";}#sk-container-id-1 div.sk-estimator input.sk-toggleable__control:checked~label.sk-toggleable__label {background-color: #d4ebff;}#sk-container-id-1 div.sk-label input.sk-toggleable__control:checked~label.sk-toggleable__label {background-color: #d4ebff;}#sk-container-id-1 input.sk-hidden--visually {border: 0;clip: rect(1px 1px 1px 1px);clip: rect(1px, 1px, 1px, 1px);height: 1px;margin: -1px;overflow: hidden;padding: 0;position: absolute;width: 1px;}#sk-container-id-1 div.sk-estimator {font-family: monospace;background-color: #f0f8ff;border: 1px dotted black;border-radius: 0.25em;box-sizing: border-box;margin-bottom: 0.5em;}#sk-container-id-1 div.sk-estimator:hover {background-color: #d4ebff;}#sk-container-id-1 div.sk-parallel-item::after {content: \"\";width: 100%;border-bottom: 1px solid gray;flex-grow: 1;}#sk-container-id-1 div.sk-label:hover label.sk-toggleable__label {background-color: #d4ebff;}#sk-container-id-1 div.sk-serial::before {content: \"\";position: absolute;border-left: 1px solid gray;box-sizing: border-box;top: 0;bottom: 0;left: 50%;z-index: 0;}#sk-container-id-1 div.sk-serial {display: flex;flex-direction: column;align-items: center;background-color: white;padding-right: 0.2em;padding-left: 0.2em;position: relative;}#sk-container-id-1 div.sk-item {position: relative;z-index: 1;}#sk-container-id-1 div.sk-parallel {display: flex;align-items: stretch;justify-content: center;background-color: white;position: relative;}#sk-container-id-1 div.sk-item::before, #sk-container-id-1 div.sk-parallel-item::before {content: \"\";position: absolute;border-left: 1px solid gray;box-sizing: border-box;top: 0;bottom: 0;left: 50%;z-index: -1;}#sk-container-id-1 div.sk-parallel-item {display: flex;flex-direction: column;z-index: 1;position: relative;background-color: white;}#sk-container-id-1 div.sk-parallel-item:first-child::after {align-self: flex-end;width: 50%;}#sk-container-id-1 div.sk-parallel-item:last-child::after {align-self: flex-start;width: 50%;}#sk-container-id-1 div.sk-parallel-item:only-child::after {width: 0;}#sk-container-id-1 div.sk-dashed-wrapped {border: 1px dashed gray;margin: 0 0.4em 0.5em 0.4em;box-sizing: border-box;padding-bottom: 0.4em;background-color: white;}#sk-container-id-1 div.sk-label label {font-family: monospace;font-weight: bold;display: inline-block;line-height: 1.2em;}#sk-container-id-1 div.sk-label-container {text-align: center;}#sk-container-id-1 div.sk-container {/* jupyter's `normalize.less` sets `[hidden] { display: none; }` but bootstrap.min.css set `[hidden] { display: none !important; }` so we also need the `!important` here to be able to override the default hidden behavior on the sphinx rendered scikit-learn.org. See: https://github.com/scikit-learn/scikit-learn/issues/21755 */display: inline-block !important;position: relative;}#sk-container-id-1 div.sk-text-repr-fallback {display: none;}</style><div id=\"sk-container-id-1\" class=\"sk-top-container\"><div class=\"sk-text-repr-fallback\"><pre>MinMaxScaler()</pre><b>In a Jupyter environment, please rerun this cell to show the HTML representation or trust the notebook. <br />On GitHub, the HTML representation is unable to render, please try loading this page with nbviewer.org.</b></div><div class=\"sk-container\" hidden><div class=\"sk-item\"><div class=\"sk-estimator sk-toggleable\"><input class=\"sk-toggleable__control sk-hidden--visually\" id=\"sk-estimator-id-1\" type=\"checkbox\" checked><label for=\"sk-estimator-id-1\" class=\"sk-toggleable__label sk-toggleable__label-arrow\">MinMaxScaler</label><div class=\"sk-toggleable__content\"><pre>MinMaxScaler()</pre></div></div></div></div></div>"
      ],
      "text/plain": [
       "MinMaxScaler()"
      ]
     },
     "execution_count": 24,
     "metadata": {},
     "output_type": "execute_result"
    }
   ],
   "source": [
    "# ajustamos el modelo utilizando nuestro set de datos\n",
    "minmax.fit(df[[\"median_home_val\"]])\n"
   ]
  },
  {
   "cell_type": "code",
   "execution_count": 25,
   "id": "47ca9853",
   "metadata": {},
   "outputs": [],
   "source": [
    "# transformamos los datos\n",
    "X_normalizadas = minmax.transform(df[[\"median_home_val\"]])"
   ]
  },
  {
   "cell_type": "code",
   "execution_count": 26,
   "id": "ace2c19e",
   "metadata": {},
   "outputs": [
    {
     "data": {
      "text/plain": [
       "array([0.])"
      ]
     },
     "execution_count": 26,
     "metadata": {},
     "output_type": "execute_result"
    }
   ],
   "source": [
    "# Vamos a verificar los valores mínimos después de la normalización\n",
    "X_normalizadas.min(axis=0)\n"
   ]
  },
  {
   "cell_type": "code",
   "execution_count": 27,
   "id": "f2670a3d",
   "metadata": {},
   "outputs": [
    {
     "data": {
      "text/plain": [
       "array([1.])"
      ]
     },
     "execution_count": 27,
     "metadata": {},
     "output_type": "execute_result"
    }
   ],
   "source": [
    "# y los máximos?\n",
    "X_normalizadas.max(axis=0)"
   ]
  },
  {
   "cell_type": "code",
   "execution_count": 28,
   "id": "43d28215",
   "metadata": {},
   "outputs": [],
   "source": [
    "# lo unimos a nuestro dataframe original\n",
    "df[\"median_home_val_NORM2\"] = X_normalizadas"
   ]
  },
  {
   "cell_type": "code",
   "execution_count": 29,
   "id": "cfde477a",
   "metadata": {},
   "outputs": [
    {
     "data": {
      "text/html": [
       "<div>\n",
       "<style scoped>\n",
       "    .dataframe tbody tr th:only-of-type {\n",
       "        vertical-align: middle;\n",
       "    }\n",
       "\n",
       "    .dataframe tbody tr th {\n",
       "        vertical-align: top;\n",
       "    }\n",
       "\n",
       "    .dataframe thead th {\n",
       "        text-align: right;\n",
       "    }\n",
       "</style>\n",
       "<table border=\"1\" class=\"dataframe\">\n",
       "  <thead>\n",
       "    <tr style=\"text-align: right;\">\n",
       "      <th></th>\n",
       "      <th>state</th>\n",
       "      <th>gender</th>\n",
       "      <th>median_home_val</th>\n",
       "      <th>median_household_income</th>\n",
       "      <th>num_habitaciones</th>\n",
       "      <th>num_vecinos</th>\n",
       "      <th>total_habitaciones</th>\n",
       "      <th>total_baños</th>\n",
       "      <th>dist_playa</th>\n",
       "      <th>median_home_val_NORM</th>\n",
       "      <th>median_home_val_LOG</th>\n",
       "      <th>median_home_val_SQRT</th>\n",
       "      <th>median_home_val_NORM2</th>\n",
       "    </tr>\n",
       "  </thead>\n",
       "  <tbody>\n",
       "    <tr>\n",
       "      <th>6</th>\n",
       "      <td>CA</td>\n",
       "      <td>F</td>\n",
       "      <td>1026.0</td>\n",
       "      <td>459.0</td>\n",
       "      <td>470.0</td>\n",
       "      <td>491.0</td>\n",
       "      <td>496.0</td>\n",
       "      <td>13803.0</td>\n",
       "      <td>11.25</td>\n",
       "      <td>-0.287344</td>\n",
       "      <td>6.933423</td>\n",
       "      <td>32.031235</td>\n",
       "      <td>0.230830</td>\n",
       "    </tr>\n",
       "    <tr>\n",
       "      <th>12</th>\n",
       "      <td>CA</td>\n",
       "      <td>M</td>\n",
       "      <td>1538.0</td>\n",
       "      <td>271.0</td>\n",
       "      <td>317.0</td>\n",
       "      <td>342.0</td>\n",
       "      <td>393.0</td>\n",
       "      <td>15627.0</td>\n",
       "      <td>5.50</td>\n",
       "      <td>-0.086007</td>\n",
       "      <td>7.338238</td>\n",
       "      <td>39.217343</td>\n",
       "      <td>0.432167</td>\n",
       "    </tr>\n",
       "  </tbody>\n",
       "</table>\n",
       "</div>"
      ],
      "text/plain": [
       "   state gender  median_home_val  median_household_income  num_habitaciones  \\\n",
       "6     CA      F           1026.0                    459.0             470.0   \n",
       "12    CA      M           1538.0                    271.0             317.0   \n",
       "\n",
       "    num_vecinos  total_habitaciones  total_baños  dist_playa  \\\n",
       "6         491.0               496.0      13803.0       11.25   \n",
       "12        342.0               393.0      15627.0        5.50   \n",
       "\n",
       "    median_home_val_NORM  median_home_val_LOG  median_home_val_SQRT  \\\n",
       "6              -0.287344             6.933423             32.031235   \n",
       "12             -0.086007             7.338238             39.217343   \n",
       "\n",
       "    median_home_val_NORM2  \n",
       "6                0.230830  \n",
       "12               0.432167  "
      ]
     },
     "execution_count": 29,
     "metadata": {},
     "output_type": "execute_result"
    }
   ],
   "source": [
    "df.head(2)\n"
   ]
  },
  {
   "cell_type": "code",
   "execution_count": 30,
   "id": "71ded806",
   "metadata": {},
   "outputs": [
    {
     "data": {
      "image/png": "[encoded data removed]",
      "text/plain": [
       "<Figure size 1080x360 with 2 Axes>"
      ]
     },
     "metadata": {
      "needs_background": "light"
     },
     "output_type": "display_data"
    }
   ],
   "source": [
    "fig, axes = plt.subplots(1, 2, figsize = (15,5))\n",
    "\n",
    "axes[0].set_title('median_home_val original')\n",
    "axes[1].set_title('median_home_val normalizado')\n",
    "\n",
    "sns.distplot(df['median_home_val'] ,ax = axes[0])\n",
    "sns.distplot(df['median_home_val_NORM2'], ax = axes[1]);"
   ]
  },
  {
   "cell_type": "code",
   "execution_count": 31,
   "id": "867fa279",
   "metadata": {},
   "outputs": [
    {
     "data": {
      "text/plain": [
       "ShapiroResult(statistic=0.9728601574897766, pvalue=1.3184645375474702e-08)"
      ]
     },
     "execution_count": 31,
     "metadata": {},
     "output_type": "execute_result"
    }
   ],
   "source": [
    "stats.shapiro(df[\"median_home_val_NORM2\"])"
   ]
  },
  {
   "cell_type": "markdown",
   "id": "b6ddc613",
   "metadata": {},
   "source": [
    "# Estandarización"
   ]
  },
  {
   "cell_type": "markdown",
   "id": "71423851",
   "metadata": {},
   "source": [
    "Estandarizar generalmente significa cambiar los valores de nuestras columnas de manera que la desviación estándar de la distribución sea igual a uno y la media igual a 0. \n",
    "\n",
    "$$Z =  \\frac{X - µ}{Ω}$$\n",
    "\n",
    "Donde:\n",
    "\n",
    "- `X`: es el valor que queremos normalizar.\n",
    "\n",
    "\n",
    "- `µ`: es la media de todos los valores que queremos normalizar.\n",
    "\n",
    "\n",
    "- `Ω`: es la desviación estandar de los valores que queremos normalizar."
   ]
  },
  {
   "cell_type": "markdown",
   "id": "0c7de69b",
   "metadata": {},
   "source": [
    "##  Tipos de estandarización"
   ]
  },
  {
   "cell_type": "markdown",
   "id": "10e58447",
   "metadata": {},
   "source": [
    "### Manualmente \n",
    "\n",
    "Para poder hacerlo manualmente lo único que tendremos que hacer es aplicar la fórmula de arriba a la columna o columnas que queramos. "
   ]
  },
  {
   "cell_type": "code",
   "execution_count": 32,
   "id": "9ebdbbe2",
   "metadata": {},
   "outputs": [
    {
     "data": {
      "text/html": [
       "<div>\n",
       "<style scoped>\n",
       "    .dataframe tbody tr th:only-of-type {\n",
       "        vertical-align: middle;\n",
       "    }\n",
       "\n",
       "    .dataframe tbody tr th {\n",
       "        vertical-align: top;\n",
       "    }\n",
       "\n",
       "    .dataframe thead th {\n",
       "        text-align: right;\n",
       "    }\n",
       "</style>\n",
       "<table border=\"1\" class=\"dataframe\">\n",
       "  <thead>\n",
       "    <tr style=\"text-align: right;\">\n",
       "      <th></th>\n",
       "      <th>median_home_val</th>\n",
       "      <th>median_household_income</th>\n",
       "      <th>num_habitaciones</th>\n",
       "      <th>num_vecinos</th>\n",
       "      <th>total_habitaciones</th>\n",
       "      <th>total_baños</th>\n",
       "      <th>dist_playa</th>\n",
       "    </tr>\n",
       "  </thead>\n",
       "  <tbody>\n",
       "    <tr>\n",
       "      <th>6</th>\n",
       "      <td>1026.0</td>\n",
       "      <td>459.0</td>\n",
       "      <td>470.0</td>\n",
       "      <td>491.0</td>\n",
       "      <td>496.0</td>\n",
       "      <td>13803.0</td>\n",
       "      <td>11.25</td>\n",
       "    </tr>\n",
       "    <tr>\n",
       "      <th>12</th>\n",
       "      <td>1538.0</td>\n",
       "      <td>271.0</td>\n",
       "      <td>317.0</td>\n",
       "      <td>342.0</td>\n",
       "      <td>393.0</td>\n",
       "      <td>15627.0</td>\n",
       "      <td>5.50</td>\n",
       "    </tr>\n",
       "  </tbody>\n",
       "</table>\n",
       "</div>"
      ],
      "text/plain": [
       "    median_home_val  median_household_income  num_habitaciones  num_vecinos  \\\n",
       "6            1026.0                    459.0             470.0        491.0   \n",
       "12           1538.0                    271.0             317.0        342.0   \n",
       "\n",
       "    total_habitaciones  total_baños  dist_playa  \n",
       "6                496.0      13803.0       11.25  \n",
       "12               393.0      15627.0        5.50  "
      ]
     },
     "execution_count": 32,
     "metadata": {},
     "output_type": "execute_result"
    }
   ],
   "source": [
    "num.head(2)"
   ]
  },
  {
   "cell_type": "code",
   "execution_count": 33,
   "id": "6eaf999b",
   "metadata": {},
   "outputs": [],
   "source": [
    "# vamos a crear distintas variables con los estadísticos que necesitamos, media y desviacion estándar\n",
    "\n",
    "media = df[\"num_habitaciones\"].mean()\n",
    "desviacion = df[\"num_habitaciones\"].std() \n"
   ]
  },
  {
   "cell_type": "code",
   "execution_count": 34,
   "id": "9571358b",
   "metadata": {},
   "outputs": [],
   "source": [
    "df[\"num_habitaciones_ESTA\"] = (df[\"num_habitaciones\"] - media) / desviacion"
   ]
  },
  {
   "cell_type": "code",
   "execution_count": 35,
   "id": "f38fe182",
   "metadata": {},
   "outputs": [
    {
     "data": {
      "text/html": [
       "<div>\n",
       "<style scoped>\n",
       "    .dataframe tbody tr th:only-of-type {\n",
       "        vertical-align: middle;\n",
       "    }\n",
       "\n",
       "    .dataframe tbody tr th {\n",
       "        vertical-align: top;\n",
       "    }\n",
       "\n",
       "    .dataframe thead th {\n",
       "        text-align: right;\n",
       "    }\n",
       "</style>\n",
       "<table border=\"1\" class=\"dataframe\">\n",
       "  <thead>\n",
       "    <tr style=\"text-align: right;\">\n",
       "      <th></th>\n",
       "      <th>state</th>\n",
       "      <th>gender</th>\n",
       "      <th>median_home_val</th>\n",
       "      <th>median_household_income</th>\n",
       "      <th>num_habitaciones</th>\n",
       "      <th>num_vecinos</th>\n",
       "      <th>total_habitaciones</th>\n",
       "      <th>total_baños</th>\n",
       "      <th>dist_playa</th>\n",
       "      <th>median_home_val_NORM</th>\n",
       "      <th>median_home_val_LOG</th>\n",
       "      <th>median_home_val_SQRT</th>\n",
       "      <th>median_home_val_NORM2</th>\n",
       "      <th>num_habitaciones_ESTA</th>\n",
       "    </tr>\n",
       "  </thead>\n",
       "  <tbody>\n",
       "    <tr>\n",
       "      <th>6</th>\n",
       "      <td>CA</td>\n",
       "      <td>F</td>\n",
       "      <td>1026.0</td>\n",
       "      <td>459.0</td>\n",
       "      <td>470.0</td>\n",
       "      <td>491.0</td>\n",
       "      <td>496.0</td>\n",
       "      <td>13803.0</td>\n",
       "      <td>11.25</td>\n",
       "      <td>-0.287344</td>\n",
       "      <td>6.933423</td>\n",
       "      <td>32.031235</td>\n",
       "      <td>0.230830</td>\n",
       "      <td>0.449654</td>\n",
       "    </tr>\n",
       "    <tr>\n",
       "      <th>12</th>\n",
       "      <td>CA</td>\n",
       "      <td>M</td>\n",
       "      <td>1538.0</td>\n",
       "      <td>271.0</td>\n",
       "      <td>317.0</td>\n",
       "      <td>342.0</td>\n",
       "      <td>393.0</td>\n",
       "      <td>15627.0</td>\n",
       "      <td>5.50</td>\n",
       "      <td>-0.086007</td>\n",
       "      <td>7.338238</td>\n",
       "      <td>39.217343</td>\n",
       "      <td>0.432167</td>\n",
       "      <td>-0.719670</td>\n",
       "    </tr>\n",
       "  </tbody>\n",
       "</table>\n",
       "</div>"
      ],
      "text/plain": [
       "   state gender  median_home_val  median_household_income  num_habitaciones  \\\n",
       "6     CA      F           1026.0                    459.0             470.0   \n",
       "12    CA      M           1538.0                    271.0             317.0   \n",
       "\n",
       "    num_vecinos  total_habitaciones  total_baños  dist_playa  \\\n",
       "6         491.0               496.0      13803.0       11.25   \n",
       "12        342.0               393.0      15627.0        5.50   \n",
       "\n",
       "    median_home_val_NORM  median_home_val_LOG  median_home_val_SQRT  \\\n",
       "6              -0.287344             6.933423             32.031235   \n",
       "12             -0.086007             7.338238             39.217343   \n",
       "\n",
       "    median_home_val_NORM2  num_habitaciones_ESTA  \n",
       "6                0.230830               0.449654  \n",
       "12               0.432167              -0.719670  "
      ]
     },
     "execution_count": 35,
     "metadata": {},
     "output_type": "execute_result"
    }
   ],
   "source": [
    "df.head(2)"
   ]
  },
  {
   "cell_type": "code",
   "execution_count": 36,
   "id": "f4fda9dd",
   "metadata": {},
   "outputs": [
    {
     "data": {
      "image/png": "[encoded data removed]",
      "text/plain": [
       "<Figure size 1080x360 with 2 Axes>"
      ]
     },
     "metadata": {
      "needs_background": "light"
     },
     "output_type": "display_data"
    }
   ],
   "source": [
    "fig, axes = plt.subplots(1, 2, figsize = (15,5))\n",
    "\n",
    "axes[0].set_title('num_habitaciones original')\n",
    "axes[1].set_title('num_habitaciones normalizado')\n",
    "\n",
    "sns.distplot(df['num_habitaciones'] ,ax = axes[0])\n",
    "sns.distplot(df['num_habitaciones_ESTA'], ax = axes[1]);"
   ]
  },
  {
   "cell_type": "markdown",
   "id": "1871ef24",
   "metadata": {},
   "source": [
    "Si nos fijamos en los gráficas, ahora vemos que tenemos nuestros datos ajustados a una media de 0 y desviación de 1 👏🏽"
   ]
  },
  {
   "cell_type": "markdown",
   "id": "cb1071d0",
   "metadata": {},
   "source": [
    "### Sklearn StandardScaler\n",
    "\n",
    "La estandarización que hemos visto antes, la podemos hacer también con un método de sklearn.\n",
    "\n",
    "StandardScaler es el algoritmo más utilizado. Estandariza una característica restando la media y dividiendo todos los valores por la desviación estándar. \n",
    "\n",
    "\n",
    "Nos va a dar como resultado una distribución con una desviación estándar igual a 1. La varianza es igual a 1 también, porque varianza = desviación estándar al cuadrado. Y 1 al cuadrado = 1.\n",
    "StandardScaler hace que la media de la distribución sea aproximadamente 0.\n",
    "\n",
    "Su sintaxis:\n",
    "\n",
    "```python\n",
    "StandardScaler(copy=True, with_mean=True, with_std=True)\n",
    "```\n",
    "\n",
    "\n",
    "Donde: \n",
    "\n",
    "- `copy`: si queremos una copia de nuestra datos normalizada. \n",
    "\n",
    "\n",
    "- `with_mean`: booleano. Por defecto True.  Si es True, centra los datos antes de escalarlos. \n",
    "\n",
    "\n",
    "- `with_std`: booleano. Por defecto True. Si es Verdadero, escala los datos a una varianza unitaria (o equivalentemente, a una desviación estándar unitaria).\n",
    "\n",
    "Usaremos la siguiente librería\n",
    "\n",
    "```python\n",
    "from sklearn.preprocessing import StandardScaler\n",
    "```"
   ]
  },
  {
   "cell_type": "code",
   "execution_count": 37,
   "id": "185fe01d",
   "metadata": {},
   "outputs": [],
   "source": [
    "# iniciamos el método para escalar\n",
    "\n",
    "scaler = StandardScaler()"
   ]
  },
  {
   "cell_type": "code",
   "execution_count": 38,
   "id": "4ffaedb4",
   "metadata": {},
   "outputs": [
    {
     "data": {
      "text/html": [
       "<div>\n",
       "<style scoped>\n",
       "    .dataframe tbody tr th:only-of-type {\n",
       "        vertical-align: middle;\n",
       "    }\n",
       "\n",
       "    .dataframe tbody tr th {\n",
       "        vertical-align: top;\n",
       "    }\n",
       "\n",
       "    .dataframe thead th {\n",
       "        text-align: right;\n",
       "    }\n",
       "</style>\n",
       "<table border=\"1\" class=\"dataframe\">\n",
       "  <thead>\n",
       "    <tr style=\"text-align: right;\">\n",
       "      <th></th>\n",
       "      <th>median_home_val</th>\n",
       "      <th>median_household_income</th>\n",
       "      <th>num_habitaciones</th>\n",
       "      <th>num_vecinos</th>\n",
       "      <th>total_habitaciones</th>\n",
       "      <th>total_baños</th>\n",
       "      <th>dist_playa</th>\n",
       "    </tr>\n",
       "  </thead>\n",
       "  <tbody>\n",
       "    <tr>\n",
       "      <th>6</th>\n",
       "      <td>1026.0</td>\n",
       "      <td>459.0</td>\n",
       "      <td>470.0</td>\n",
       "      <td>491.0</td>\n",
       "      <td>496.0</td>\n",
       "      <td>13803.0</td>\n",
       "      <td>11.25</td>\n",
       "    </tr>\n",
       "    <tr>\n",
       "      <th>12</th>\n",
       "      <td>1538.0</td>\n",
       "      <td>271.0</td>\n",
       "      <td>317.0</td>\n",
       "      <td>342.0</td>\n",
       "      <td>393.0</td>\n",
       "      <td>15627.0</td>\n",
       "      <td>5.50</td>\n",
       "    </tr>\n",
       "  </tbody>\n",
       "</table>\n",
       "</div>"
      ],
      "text/plain": [
       "    median_home_val  median_household_income  num_habitaciones  num_vecinos  \\\n",
       "6            1026.0                    459.0             470.0        491.0   \n",
       "12           1538.0                    271.0             317.0        342.0   \n",
       "\n",
       "    total_habitaciones  total_baños  dist_playa  \n",
       "6                496.0      13803.0       11.25  \n",
       "12               393.0      15627.0        5.50  "
      ]
     },
     "execution_count": 38,
     "metadata": {},
     "output_type": "execute_result"
    }
   ],
   "source": [
    "num.head(2)"
   ]
  },
  {
   "cell_type": "code",
   "execution_count": 39,
   "id": "a0e09a96",
   "metadata": {},
   "outputs": [
    {
     "data": {
      "text/plain": [
       "Index(['median_household_income', 'num_habitaciones', 'num_vecinos',\n",
       "       'total_habitaciones', 'total_baños', 'dist_playa'],\n",
       "      dtype='object')"
      ]
     },
     "execution_count": 39,
     "metadata": {},
     "output_type": "execute_result"
    }
   ],
   "source": [
    "num_col = num.columns.drop(\"median_home_val\")\n",
    "num_col"
   ]
  },
  {
   "cell_type": "code",
   "execution_count": 40,
   "id": "d0596185",
   "metadata": {},
   "outputs": [
    {
     "data": {
      "text/html": [
       "<style>#sk-container-id-2 {color: black;background-color: white;}#sk-container-id-2 pre{padding: 0;}#sk-container-id-2 div.sk-toggleable {background-color: white;}#sk-container-id-2 label.sk-toggleable__label {cursor: pointer;display: block;width: 100%;margin-bottom: 0;padding: 0.3em;box-sizing: border-box;text-align: center;}#sk-container-id-2 label.sk-toggleable__label-arrow:before {content: \"▸\";float: left;margin-right: 0.25em;color: #696969;}#sk-container-id-2 label.sk-toggleable__label-arrow:hover:before {color: black;}#sk-container-id-2 div.sk-estimator:hover label.sk-toggleable__label-arrow:before {color: black;}#sk-container-id-2 div.sk-toggleable__content {max-height: 0;max-width: 0;overflow: hidden;text-align: left;background-color: #f0f8ff;}#sk-container-id-2 div.sk-toggleable__content pre {margin: 0.2em;color: black;border-radius: 0.25em;background-color: #f0f8ff;}#sk-container-id-2 input.sk-toggleable__control:checked~div.sk-toggleable__content {max-height: 200px;max-width: 100%;overflow: auto;}#sk-container-id-2 input.sk-toggleable__control:checked~label.sk-toggleable__label-arrow:before {content: \"▾\";}#sk-container-id-2 div.sk-estimator input.sk-toggleable__control:checked~label.sk-toggleable__label {background-color: #d4ebff;}#sk-container-id-2 div.sk-label input.sk-toggleable__control:checked~label.sk-toggleable__label {background-color: #d4ebff;}#sk-container-id-2 input.sk-hidden--visually {border: 0;clip: rect(1px 1px 1px 1px);clip: rect(1px, 1px, 1px, 1px);height: 1px;margin: -1px;overflow: hidden;padding: 0;position: absolute;width: 1px;}#sk-container-id-2 div.sk-estimator {font-family: monospace;background-color: #f0f8ff;border: 1px dotted black;border-radius: 0.25em;box-sizing: border-box;margin-bottom: 0.5em;}#sk-container-id-2 div.sk-estimator:hover {background-color: #d4ebff;}#sk-container-id-2 div.sk-parallel-item::after {content: \"\";width: 100%;border-bottom: 1px solid gray;flex-grow: 1;}#sk-container-id-2 div.sk-label:hover label.sk-toggleable__label {background-color: #d4ebff;}#sk-container-id-2 div.sk-serial::before {content: \"\";position: absolute;border-left: 1px solid gray;box-sizing: border-box;top: 0;bottom: 0;left: 50%;z-index: 0;}#sk-container-id-2 div.sk-serial {display: flex;flex-direction: column;align-items: center;background-color: white;padding-right: 0.2em;padding-left: 0.2em;position: relative;}#sk-container-id-2 div.sk-item {position: relative;z-index: 1;}#sk-container-id-2 div.sk-parallel {display: flex;align-items: stretch;justify-content: center;background-color: white;position: relative;}#sk-container-id-2 div.sk-item::before, #sk-container-id-2 div.sk-parallel-item::before {content: \"\";position: absolute;border-left: 1px solid gray;box-sizing: border-box;top: 0;bottom: 0;left: 50%;z-index: -1;}#sk-container-id-2 div.sk-parallel-item {display: flex;flex-direction: column;z-index: 1;position: relative;background-color: white;}#sk-container-id-2 div.sk-parallel-item:first-child::after {align-self: flex-end;width: 50%;}#sk-container-id-2 div.sk-parallel-item:last-child::after {align-self: flex-start;width: 50%;}#sk-container-id-2 div.sk-parallel-item:only-child::after {width: 0;}#sk-container-id-2 div.sk-dashed-wrapped {border: 1px dashed gray;margin: 0 0.4em 0.5em 0.4em;box-sizing: border-box;padding-bottom: 0.4em;background-color: white;}#sk-container-id-2 div.sk-label label {font-family: monospace;font-weight: bold;display: inline-block;line-height: 1.2em;}#sk-container-id-2 div.sk-label-container {text-align: center;}#sk-container-id-2 div.sk-container {/* jupyter's `normalize.less` sets `[hidden] { display: none; }` but bootstrap.min.css set `[hidden] { display: none !important; }` so we also need the `!important` here to be able to override the default hidden behavior on the sphinx rendered scikit-learn.org. See: https://github.com/scikit-learn/scikit-learn/issues/21755 */display: inline-block !important;position: relative;}#sk-container-id-2 div.sk-text-repr-fallback {display: none;}</style><div id=\"sk-container-id-2\" class=\"sk-top-container\"><div class=\"sk-text-repr-fallback\"><pre>StandardScaler()</pre><b>In a Jupyter environment, please rerun this cell to show the HTML representation or trust the notebook. <br />On GitHub, the HTML representation is unable to render, please try loading this page with nbviewer.org.</b></div><div class=\"sk-container\" hidden><div class=\"sk-item\"><div class=\"sk-estimator sk-toggleable\"><input class=\"sk-toggleable__control sk-hidden--visually\" id=\"sk-estimator-id-2\" type=\"checkbox\" checked><label for=\"sk-estimator-id-2\" class=\"sk-toggleable__label sk-toggleable__label-arrow\">StandardScaler</label><div class=\"sk-toggleable__content\"><pre>StandardScaler()</pre></div></div></div></div></div>"
      ],
      "text/plain": [
       "StandardScaler()"
      ]
     },
     "execution_count": 40,
     "metadata": {},
     "output_type": "execute_result"
    }
   ],
   "source": [
    "# ajustamos nuestros datos\n",
    "\n",
    "scaler.fit(df[num_col])"
   ]
  },
  {
   "cell_type": "code",
   "execution_count": 41,
   "id": "24c3585c",
   "metadata": {},
   "outputs": [
    {
     "data": {
      "text/plain": [
       "array([[ 0.67480369,  0.45006215,  0.53946132,  0.29311927, -0.3956273 ,\n",
       "        -0.13087942],\n",
       "       [-0.8068499 , -0.72032434, -0.64281612, -0.49432897, -0.08183983,\n",
       "        -0.79251359],\n",
       "       [-1.65013147, -1.8601125 , -1.92031054, -2.04629005, -1.86306543,\n",
       "         0.47322135],\n",
       "       ...,\n",
       "       [-1.6580126 , -1.54647952, -1.81715882, -1.74048491, -1.55168642,\n",
       "        -0.55518829],\n",
       "       [ 1.05309823,  0.71014804,  0.91239447,  0.60656954,  0.01071371,\n",
       "        -0.03104204],\n",
       "       [ 1.27377004,  1.51335445,  1.49956582,  1.49340444,  1.48675347,\n",
       "        -0.00622371]])"
      ]
     },
     "execution_count": 41,
     "metadata": {},
     "output_type": "execute_result"
    }
   ],
   "source": [
    "# transformamos los datos. \n",
    "\n",
    "X_escaladas = scaler.transform(df[num_col])\n",
    "X_escaladas"
   ]
  },
  {
   "cell_type": "code",
   "execution_count": 42,
   "id": "2f0807e5",
   "metadata": {},
   "outputs": [],
   "source": [
    "df2 = df.copy()"
   ]
  },
  {
   "cell_type": "code",
   "execution_count": 43,
   "id": "8a87ea28",
   "metadata": {},
   "outputs": [
    {
     "data": {
      "text/html": [
       "<div>\n",
       "<style scoped>\n",
       "    .dataframe tbody tr th:only-of-type {\n",
       "        vertical-align: middle;\n",
       "    }\n",
       "\n",
       "    .dataframe tbody tr th {\n",
       "        vertical-align: top;\n",
       "    }\n",
       "\n",
       "    .dataframe thead th {\n",
       "        text-align: right;\n",
       "    }\n",
       "</style>\n",
       "<table border=\"1\" class=\"dataframe\">\n",
       "  <thead>\n",
       "    <tr style=\"text-align: right;\">\n",
       "      <th></th>\n",
       "      <th>state</th>\n",
       "      <th>gender</th>\n",
       "      <th>median_home_val</th>\n",
       "      <th>median_household_income</th>\n",
       "      <th>num_habitaciones</th>\n",
       "      <th>num_vecinos</th>\n",
       "      <th>total_habitaciones</th>\n",
       "      <th>total_baños</th>\n",
       "      <th>dist_playa</th>\n",
       "      <th>median_home_val_NORM</th>\n",
       "      <th>median_home_val_LOG</th>\n",
       "      <th>median_home_val_SQRT</th>\n",
       "      <th>median_home_val_NORM2</th>\n",
       "      <th>num_habitaciones_ESTA</th>\n",
       "    </tr>\n",
       "  </thead>\n",
       "  <tbody>\n",
       "    <tr>\n",
       "      <th>6</th>\n",
       "      <td>CA</td>\n",
       "      <td>F</td>\n",
       "      <td>1026.0</td>\n",
       "      <td>0.674804</td>\n",
       "      <td>0.450062</td>\n",
       "      <td>0.539461</td>\n",
       "      <td>0.293119</td>\n",
       "      <td>-0.395627</td>\n",
       "      <td>-0.130879</td>\n",
       "      <td>-0.287344</td>\n",
       "      <td>6.933423</td>\n",
       "      <td>32.031235</td>\n",
       "      <td>0.230830</td>\n",
       "      <td>0.449654</td>\n",
       "    </tr>\n",
       "    <tr>\n",
       "      <th>12</th>\n",
       "      <td>CA</td>\n",
       "      <td>M</td>\n",
       "      <td>1538.0</td>\n",
       "      <td>-0.806850</td>\n",
       "      <td>-0.720324</td>\n",
       "      <td>-0.642816</td>\n",
       "      <td>-0.494329</td>\n",
       "      <td>-0.081840</td>\n",
       "      <td>-0.792514</td>\n",
       "      <td>-0.086007</td>\n",
       "      <td>7.338238</td>\n",
       "      <td>39.217343</td>\n",
       "      <td>0.432167</td>\n",
       "      <td>-0.719670</td>\n",
       "    </tr>\n",
       "    <tr>\n",
       "      <th>16</th>\n",
       "      <td>CA</td>\n",
       "      <td>F</td>\n",
       "      <td>596.0</td>\n",
       "      <td>-1.650131</td>\n",
       "      <td>-1.860112</td>\n",
       "      <td>-1.920311</td>\n",
       "      <td>-2.046290</td>\n",
       "      <td>-1.863065</td>\n",
       "      <td>0.473221</td>\n",
       "      <td>-0.456436</td>\n",
       "      <td>6.390241</td>\n",
       "      <td>24.413111</td>\n",
       "      <td>0.061738</td>\n",
       "      <td>-1.858424</td>\n",
       "    </tr>\n",
       "    <tr>\n",
       "      <th>19</th>\n",
       "      <td>CA</td>\n",
       "      <td>F</td>\n",
       "      <td>2362.0</td>\n",
       "      <td>1.888499</td>\n",
       "      <td>1.689295</td>\n",
       "      <td>1.840760</td>\n",
       "      <td>1.684533</td>\n",
       "      <td>0.873285</td>\n",
       "      <td>-0.397999</td>\n",
       "      <td>0.238020</td>\n",
       "      <td>7.767264</td>\n",
       "      <td>48.600412</td>\n",
       "      <td>0.756193</td>\n",
       "      <td>1.687761</td>\n",
       "    </tr>\n",
       "    <tr>\n",
       "      <th>20</th>\n",
       "      <td>CA</td>\n",
       "      <td>F</td>\n",
       "      <td>2089.0</td>\n",
       "      <td>-0.775325</td>\n",
       "      <td>-0.880966</td>\n",
       "      <td>-0.801511</td>\n",
       "      <td>-0.777199</td>\n",
       "      <td>-0.966604</td>\n",
       "      <td>-0.605530</td>\n",
       "      <td>0.130666</td>\n",
       "      <td>7.644441</td>\n",
       "      <td>45.705580</td>\n",
       "      <td>0.648840</td>\n",
       "      <td>-0.880166</td>\n",
       "    </tr>\n",
       "  </tbody>\n",
       "</table>\n",
       "</div>"
      ],
      "text/plain": [
       "   state gender  median_home_val  median_household_income  num_habitaciones  \\\n",
       "6     CA      F           1026.0                 0.674804          0.450062   \n",
       "12    CA      M           1538.0                -0.806850         -0.720324   \n",
       "16    CA      F            596.0                -1.650131         -1.860112   \n",
       "19    CA      F           2362.0                 1.888499          1.689295   \n",
       "20    CA      F           2089.0                -0.775325         -0.880966   \n",
       "\n",
       "    num_vecinos  total_habitaciones  total_baños  dist_playa  \\\n",
       "6      0.539461            0.293119    -0.395627   -0.130879   \n",
       "12    -0.642816           -0.494329    -0.081840   -0.792514   \n",
       "16    -1.920311           -2.046290    -1.863065    0.473221   \n",
       "19     1.840760            1.684533     0.873285   -0.397999   \n",
       "20    -0.801511           -0.777199    -0.966604   -0.605530   \n",
       "\n",
       "    median_home_val_NORM  median_home_val_LOG  median_home_val_SQRT  \\\n",
       "6              -0.287344             6.933423             32.031235   \n",
       "12             -0.086007             7.338238             39.217343   \n",
       "16             -0.456436             6.390241             24.413111   \n",
       "19              0.238020             7.767264             48.600412   \n",
       "20              0.130666             7.644441             45.705580   \n",
       "\n",
       "    median_home_val_NORM2  num_habitaciones_ESTA  \n",
       "6                0.230830               0.449654  \n",
       "12               0.432167              -0.719670  \n",
       "16               0.061738              -1.858424  \n",
       "19               0.756193               1.687761  \n",
       "20               0.648840              -0.880166  "
      ]
     },
     "execution_count": 43,
     "metadata": {},
     "output_type": "execute_result"
    }
   ],
   "source": [
    "df2[num_col] = X_escaladas\n",
    "df2.head()"
   ]
  },
  {
   "cell_type": "markdown",
   "id": "47efad99",
   "metadata": {},
   "source": [
    "### Sklearn RobustScaler\n",
    "\n",
    "RobustScaler transforma muestra variable restando la mediana y dividiéndola por el rango intercuartil (valor del 75% - valor del 25%).\n",
    "\n",
    "Al igual que MinMaxScaler, nuestra variable con valores altos tendra ahora una escala similar a la de las otras variables. Tenemos que tene en cuenta que este método no escala los datos en un intervalo predeterminado como MinMaxScaler. No cumple con la definición estricta de escala definimos al incio.\n",
    "\n",
    "Por lo tanto, el rango de cada variable después de aplicar RobustScaler será mayor que el de MinMaxScaler.\n",
    "\n",
    "Utilizaremos este método si deseamos reducir los efectos de los *outliers*. \n",
    "\n",
    "Su sintaxis:\n",
    "\n",
    "```python\n",
    "RobustScaler(with_centering=True, with_scaling=True, quantile_range=(25.0, 75.0), copy=True, unit_variance=False)\n",
    "```\n",
    "Donde: \n",
    "\n",
    "- `with_centering`: booleano. Por defecto True. Si es True, centra los datos antes de escalar. \n",
    "\n",
    "\n",
    "- `with_scaling`: booleano. Por defecto True. Si es True, escala los datos al rango intercuartílico.\n",
    "\n",
    "\n",
    "- `quantile_rangetuple`: Por defecto, esto es igual al IQR, es decir, q_min es el primer cuantil y q_max es el tercer cuantil. (q_min, q_max), 0.0 < q_min < q_max < 100.0, predeterminado=(25.0, 75.0)\n",
    "Rango de cuantiles utilizado para calcular el escalado. \n",
    "\n",
    "\n",
    "- `copy`: booleano. Por defecto True. Si es Falso, intente evitar una copia y, en su lugar, realice una escala en el lugar. Pero tenemos que tener en cuenta que no se garantiza que esto funcione siempre en el lugar; p.ej. si los datos no son una matriz NumPy o una matriz CSR scipy.sparse, aún se puede devolver una copia.\n",
    "\n",
    "- `unit_variance`: booleano. Por defecto False. Si es Verdadero, escalamos los datos para que las variables distribuidas normalmente tengan una variación de 1. En general, si la diferencia entre los valores x de q_max y q_min para una distribución normal estándar es mayor que 1, el conjunto de datos se reducirá. Si es menor que 1, el conjunto de datos se ampliará.\n",
    "\n",
    "Necesitaremos importar la siguiente librería 👇🏽\n",
    "\n",
    "```python\n",
    "from sklearn.preprocessing import RobustScaler\n",
    "```\n"
   ]
  },
  {
   "cell_type": "code",
   "execution_count": 46,
   "id": "db9507a0",
   "metadata": {},
   "outputs": [
    {
     "data": {
      "text/plain": [
       "Index(['median_household_income', 'num_habitaciones', 'num_vecinos',\n",
       "       'total_habitaciones', 'total_baños', 'dist_playa'],\n",
       "      dtype='object')"
      ]
     },
     "execution_count": 46,
     "metadata": {},
     "output_type": "execute_result"
    }
   ],
   "source": [
    "num_col"
   ]
  },
  {
   "cell_type": "code",
   "execution_count": 44,
   "id": "e11378e5",
   "metadata": {},
   "outputs": [],
   "source": [
    "# construir el modelo de escalador\n",
    "robust = RobustScaler()"
   ]
  },
  {
   "cell_type": "code",
   "execution_count": 47,
   "id": "8f230d27",
   "metadata": {},
   "outputs": [
    {
     "data": {
      "text/html": [
       "<style>#sk-container-id-3 {color: black;background-color: white;}#sk-container-id-3 pre{padding: 0;}#sk-container-id-3 div.sk-toggleable {background-color: white;}#sk-container-id-3 label.sk-toggleable__label {cursor: pointer;display: block;width: 100%;margin-bottom: 0;padding: 0.3em;box-sizing: border-box;text-align: center;}#sk-container-id-3 label.sk-toggleable__label-arrow:before {content: \"▸\";float: left;margin-right: 0.25em;color: #696969;}#sk-container-id-3 label.sk-toggleable__label-arrow:hover:before {color: black;}#sk-container-id-3 div.sk-estimator:hover label.sk-toggleable__label-arrow:before {color: black;}#sk-container-id-3 div.sk-toggleable__content {max-height: 0;max-width: 0;overflow: hidden;text-align: left;background-color: #f0f8ff;}#sk-container-id-3 div.sk-toggleable__content pre {margin: 0.2em;color: black;border-radius: 0.25em;background-color: #f0f8ff;}#sk-container-id-3 input.sk-toggleable__control:checked~div.sk-toggleable__content {max-height: 200px;max-width: 100%;overflow: auto;}#sk-container-id-3 input.sk-toggleable__control:checked~label.sk-toggleable__label-arrow:before {content: \"▾\";}#sk-container-id-3 div.sk-estimator input.sk-toggleable__control:checked~label.sk-toggleable__label {background-color: #d4ebff;}#sk-container-id-3 div.sk-label input.sk-toggleable__control:checked~label.sk-toggleable__label {background-color: #d4ebff;}#sk-container-id-3 input.sk-hidden--visually {border: 0;clip: rect(1px 1px 1px 1px);clip: rect(1px, 1px, 1px, 1px);height: 1px;margin: -1px;overflow: hidden;padding: 0;position: absolute;width: 1px;}#sk-container-id-3 div.sk-estimator {font-family: monospace;background-color: #f0f8ff;border: 1px dotted black;border-radius: 0.25em;box-sizing: border-box;margin-bottom: 0.5em;}#sk-container-id-3 div.sk-estimator:hover {background-color: #d4ebff;}#sk-container-id-3 div.sk-parallel-item::after {content: \"\";width: 100%;border-bottom: 1px solid gray;flex-grow: 1;}#sk-container-id-3 div.sk-label:hover label.sk-toggleable__label {background-color: #d4ebff;}#sk-container-id-3 div.sk-serial::before {content: \"\";position: absolute;border-left: 1px solid gray;box-sizing: border-box;top: 0;bottom: 0;left: 50%;z-index: 0;}#sk-container-id-3 div.sk-serial {display: flex;flex-direction: column;align-items: center;background-color: white;padding-right: 0.2em;padding-left: 0.2em;position: relative;}#sk-container-id-3 div.sk-item {position: relative;z-index: 1;}#sk-container-id-3 div.sk-parallel {display: flex;align-items: stretch;justify-content: center;background-color: white;position: relative;}#sk-container-id-3 div.sk-item::before, #sk-container-id-3 div.sk-parallel-item::before {content: \"\";position: absolute;border-left: 1px solid gray;box-sizing: border-box;top: 0;bottom: 0;left: 50%;z-index: -1;}#sk-container-id-3 div.sk-parallel-item {display: flex;flex-direction: column;z-index: 1;position: relative;background-color: white;}#sk-container-id-3 div.sk-parallel-item:first-child::after {align-self: flex-end;width: 50%;}#sk-container-id-3 div.sk-parallel-item:last-child::after {align-self: flex-start;width: 50%;}#sk-container-id-3 div.sk-parallel-item:only-child::after {width: 0;}#sk-container-id-3 div.sk-dashed-wrapped {border: 1px dashed gray;margin: 0 0.4em 0.5em 0.4em;box-sizing: border-box;padding-bottom: 0.4em;background-color: white;}#sk-container-id-3 div.sk-label label {font-family: monospace;font-weight: bold;display: inline-block;line-height: 1.2em;}#sk-container-id-3 div.sk-label-container {text-align: center;}#sk-container-id-3 div.sk-container {/* jupyter's `normalize.less` sets `[hidden] { display: none; }` but bootstrap.min.css set `[hidden] { display: none !important; }` so we also need the `!important` here to be able to override the default hidden behavior on the sphinx rendered scikit-learn.org. See: https://github.com/scikit-learn/scikit-learn/issues/21755 */display: inline-block !important;position: relative;}#sk-container-id-3 div.sk-text-repr-fallback {display: none;}</style><div id=\"sk-container-id-3\" class=\"sk-top-container\"><div class=\"sk-text-repr-fallback\"><pre>RobustScaler()</pre><b>In a Jupyter environment, please rerun this cell to show the HTML representation or trust the notebook. <br />On GitHub, the HTML representation is unable to render, please try loading this page with nbviewer.org.</b></div><div class=\"sk-container\" hidden><div class=\"sk-item\"><div class=\"sk-estimator sk-toggleable\"><input class=\"sk-toggleable__control sk-hidden--visually\" id=\"sk-estimator-id-3\" type=\"checkbox\" checked><label for=\"sk-estimator-id-3\" class=\"sk-toggleable__label sk-toggleable__label-arrow\">RobustScaler</label><div class=\"sk-toggleable__content\"><pre>RobustScaler()</pre></div></div></div></div></div>"
      ],
      "text/plain": [
       "RobustScaler()"
      ]
     },
     "execution_count": 47,
     "metadata": {},
     "output_type": "execute_result"
    }
   ],
   "source": [
    "# ajustamos el modelo utilizando nuestro set de datos\n",
    "robust.fit(df[num_col])\n"
   ]
  },
  {
   "cell_type": "code",
   "execution_count": 49,
   "id": "20b0b644",
   "metadata": {},
   "outputs": [],
   "source": [
    "# transformamos los datos\n",
    "X_robust = robust.transform(df[num_col])"
   ]
  },
  {
   "cell_type": "code",
   "execution_count": 51,
   "id": "21f32844",
   "metadata": {},
   "outputs": [],
   "source": [
    "df3 = df.copy()"
   ]
  },
  {
   "cell_type": "code",
   "execution_count": 52,
   "id": "c63caa91",
   "metadata": {},
   "outputs": [
    {
     "data": {
      "text/html": [
       "<div>\n",
       "<style scoped>\n",
       "    .dataframe tbody tr th:only-of-type {\n",
       "        vertical-align: middle;\n",
       "    }\n",
       "\n",
       "    .dataframe tbody tr th {\n",
       "        vertical-align: top;\n",
       "    }\n",
       "\n",
       "    .dataframe thead th {\n",
       "        text-align: right;\n",
       "    }\n",
       "</style>\n",
       "<table border=\"1\" class=\"dataframe\">\n",
       "  <thead>\n",
       "    <tr style=\"text-align: right;\">\n",
       "      <th></th>\n",
       "      <th>state</th>\n",
       "      <th>gender</th>\n",
       "      <th>median_home_val</th>\n",
       "      <th>median_household_income</th>\n",
       "      <th>num_habitaciones</th>\n",
       "      <th>num_vecinos</th>\n",
       "      <th>total_habitaciones</th>\n",
       "      <th>total_baños</th>\n",
       "      <th>dist_playa</th>\n",
       "      <th>median_home_val_NORM</th>\n",
       "      <th>median_home_val_LOG</th>\n",
       "      <th>median_home_val_SQRT</th>\n",
       "      <th>median_home_val_NORM2</th>\n",
       "      <th>num_habitaciones_ESTA</th>\n",
       "    </tr>\n",
       "  </thead>\n",
       "  <tbody>\n",
       "    <tr>\n",
       "      <th>6</th>\n",
       "      <td>CA</td>\n",
       "      <td>F</td>\n",
       "      <td>1026.0</td>\n",
       "      <td>0.568862</td>\n",
       "      <td>0.357724</td>\n",
       "      <td>0.471976</td>\n",
       "      <td>0.285298</td>\n",
       "      <td>-0.266734</td>\n",
       "      <td>0.055920</td>\n",
       "      <td>-0.287344</td>\n",
       "      <td>6.933423</td>\n",
       "      <td>32.031235</td>\n",
       "      <td>0.230830</td>\n",
       "      <td>0.449654</td>\n",
       "    </tr>\n",
       "    <tr>\n",
       "      <th>12</th>\n",
       "      <td>CA</td>\n",
       "      <td>M</td>\n",
       "      <td>1538.0</td>\n",
       "      <td>-0.556886</td>\n",
       "      <td>-0.471545</td>\n",
       "      <td>-0.407080</td>\n",
       "      <td>-0.314410</td>\n",
       "      <td>-0.003891</td>\n",
       "      <td>-0.702001</td>\n",
       "      <td>-0.086007</td>\n",
       "      <td>7.338238</td>\n",
       "      <td>39.217343</td>\n",
       "      <td>0.432167</td>\n",
       "      <td>-0.719670</td>\n",
       "    </tr>\n",
       "    <tr>\n",
       "      <th>16</th>\n",
       "      <td>CA</td>\n",
       "      <td>F</td>\n",
       "      <td>596.0</td>\n",
       "      <td>-1.197605</td>\n",
       "      <td>-1.279133</td>\n",
       "      <td>-1.356932</td>\n",
       "      <td>-1.496361</td>\n",
       "      <td>-1.495929</td>\n",
       "      <td>0.747936</td>\n",
       "      <td>-0.456436</td>\n",
       "      <td>6.390241</td>\n",
       "      <td>24.413111</td>\n",
       "      <td>0.061738</td>\n",
       "      <td>-1.858424</td>\n",
       "    </tr>\n",
       "    <tr>\n",
       "      <th>19</th>\n",
       "      <td>CA</td>\n",
       "      <td>F</td>\n",
       "      <td>2362.0</td>\n",
       "      <td>1.491018</td>\n",
       "      <td>1.235772</td>\n",
       "      <td>1.439528</td>\n",
       "      <td>1.344978</td>\n",
       "      <td>0.796167</td>\n",
       "      <td>-0.250073</td>\n",
       "      <td>0.238020</td>\n",
       "      <td>7.767264</td>\n",
       "      <td>48.600412</td>\n",
       "      <td>0.756193</td>\n",
       "      <td>1.687761</td>\n",
       "    </tr>\n",
       "    <tr>\n",
       "      <th>20</th>\n",
       "      <td>CA</td>\n",
       "      <td>F</td>\n",
       "      <td>2089.0</td>\n",
       "      <td>-0.532934</td>\n",
       "      <td>-0.585366</td>\n",
       "      <td>-0.525074</td>\n",
       "      <td>-0.529840</td>\n",
       "      <td>-0.745010</td>\n",
       "      <td>-0.487806</td>\n",
       "      <td>0.130666</td>\n",
       "      <td>7.644441</td>\n",
       "      <td>45.705580</td>\n",
       "      <td>0.648840</td>\n",
       "      <td>-0.880166</td>\n",
       "    </tr>\n",
       "  </tbody>\n",
       "</table>\n",
       "</div>"
      ],
      "text/plain": [
       "   state gender  median_home_val  median_household_income  num_habitaciones  \\\n",
       "6     CA      F           1026.0                 0.568862          0.357724   \n",
       "12    CA      M           1538.0                -0.556886         -0.471545   \n",
       "16    CA      F            596.0                -1.197605         -1.279133   \n",
       "19    CA      F           2362.0                 1.491018          1.235772   \n",
       "20    CA      F           2089.0                -0.532934         -0.585366   \n",
       "\n",
       "    num_vecinos  total_habitaciones  total_baños  dist_playa  \\\n",
       "6      0.471976            0.285298    -0.266734    0.055920   \n",
       "12    -0.407080           -0.314410    -0.003891   -0.702001   \n",
       "16    -1.356932           -1.496361    -1.495929    0.747936   \n",
       "19     1.439528            1.344978     0.796167   -0.250073   \n",
       "20    -0.525074           -0.529840    -0.745010   -0.487806   \n",
       "\n",
       "    median_home_val_NORM  median_home_val_LOG  median_home_val_SQRT  \\\n",
       "6              -0.287344             6.933423             32.031235   \n",
       "12             -0.086007             7.338238             39.217343   \n",
       "16             -0.456436             6.390241             24.413111   \n",
       "19              0.238020             7.767264             48.600412   \n",
       "20              0.130666             7.644441             45.705580   \n",
       "\n",
       "    median_home_val_NORM2  num_habitaciones_ESTA  \n",
       "6                0.230830               0.449654  \n",
       "12               0.432167              -0.719670  \n",
       "16               0.061738              -1.858424  \n",
       "19               0.756193               1.687761  \n",
       "20               0.648840              -0.880166  "
      ]
     },
     "execution_count": 52,
     "metadata": {},
     "output_type": "execute_result"
    }
   ],
   "source": [
    "# por último convertiremos el array que nos devuelve en un dataframe. \n",
    "\n",
    "df3[num_col] = X_robust\n",
    "df3.head()"
   ]
  },
  {
   "cell_type": "code",
   "execution_count": null,
   "id": "e5970533",
   "metadata": {},
   "outputs": [],
   "source": []
  }
 ],
 "metadata": {
  "kernelspec": {
   "display_name": "ironhack",
   "language": "python",
   "name": "ironhack"
  },
  "language_info": {
   "codemirror_mode": {
    "name": "ipython",
    "version": 3
   },
   "file_extension": ".py",
   "mimetype": "text/x-python",
   "name": "python",
   "nbconvert_exporter": "python",
   "pygments_lexer": "ipython3",
   "version": "3.8.13"
  },
  "toc": {
   "base_numbering": 1,
   "nav_menu": {},
   "number_sections": true,
   "sideBar": true,
   "skip_h1_title": false,
   "title_cell": "Table of Contents",
   "title_sidebar": "Contents",
   "toc_cell": true,
   "toc_position": {},
   "toc_section_display": true,
   "toc_window_display": false
  }
 },
 "nbformat": 4,
 "nbformat_minor": 5
}
