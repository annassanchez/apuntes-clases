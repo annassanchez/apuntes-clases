{
 "cells": [
  {
   "cell_type": "code",
   "execution_count": 111,
   "id": "8c833180",
   "metadata": {},
   "outputs": [],
   "source": [
    "import pickle\n",
    "import pandas as pd"
   ]
  },
  {
   "cell_type": "code",
   "execution_count": 112,
   "id": "ca2ce27c",
   "metadata": {},
   "outputs": [
    {
     "data": {
      "text/html": [
       "<div>\n",
       "<style scoped>\n",
       "    .dataframe tbody tr th:only-of-type {\n",
       "        vertical-align: middle;\n",
       "    }\n",
       "\n",
       "    .dataframe tbody tr th {\n",
       "        vertical-align: top;\n",
       "    }\n",
       "\n",
       "    .dataframe thead th {\n",
       "        text-align: right;\n",
       "    }\n",
       "</style>\n",
       "<table border=\"1\" class=\"dataframe\">\n",
       "  <thead>\n",
       "    <tr style=\"text-align: right;\">\n",
       "      <th></th>\n",
       "      <th>Age</th>\n",
       "      <th>Sex</th>\n",
       "      <th>ChestPainType</th>\n",
       "      <th>RestingBP</th>\n",
       "      <th>Cholesterol</th>\n",
       "      <th>FastingBS</th>\n",
       "      <th>RestingECG</th>\n",
       "      <th>MaxHR</th>\n",
       "      <th>ExerciseAngina</th>\n",
       "      <th>Oldpeak</th>\n",
       "      <th>ST_Slope</th>\n",
       "      <th>HeartDisease</th>\n",
       "    </tr>\n",
       "  </thead>\n",
       "  <tbody>\n",
       "    <tr>\n",
       "      <th>0</th>\n",
       "      <td>40</td>\n",
       "      <td>M</td>\n",
       "      <td>ATA</td>\n",
       "      <td>140</td>\n",
       "      <td>289</td>\n",
       "      <td>0</td>\n",
       "      <td>Normal</td>\n",
       "      <td>172</td>\n",
       "      <td>N</td>\n",
       "      <td>0.0</td>\n",
       "      <td>Up</td>\n",
       "      <td>0</td>\n",
       "    </tr>\n",
       "    <tr>\n",
       "      <th>1</th>\n",
       "      <td>49</td>\n",
       "      <td>F</td>\n",
       "      <td>NAP</td>\n",
       "      <td>160</td>\n",
       "      <td>180</td>\n",
       "      <td>0</td>\n",
       "      <td>Normal</td>\n",
       "      <td>156</td>\n",
       "      <td>N</td>\n",
       "      <td>1.0</td>\n",
       "      <td>Flat</td>\n",
       "      <td>1</td>\n",
       "    </tr>\n",
       "  </tbody>\n",
       "</table>\n",
       "</div>"
      ],
      "text/plain": [
       "   Age Sex ChestPainType  RestingBP  Cholesterol  FastingBS RestingECG  MaxHR  \\\n",
       "0   40   M           ATA        140          289          0     Normal    172   \n",
       "1   49   F           NAP        160          180          0     Normal    156   \n",
       "\n",
       "  ExerciseAngina  Oldpeak ST_Slope  HeartDisease  \n",
       "0              N      0.0       Up             0  \n",
       "1              N      1.0     Flat             1  "
      ]
     },
     "execution_count": 112,
     "metadata": {},
     "output_type": "execute_result"
    }
   ],
   "source": [
    "df = pd.read_csv(\"data/heart.csv\")\n",
    "df.head(2)"
   ]
  },
  {
   "cell_type": "markdown",
   "id": "9ea474e3",
   "metadata": {},
   "source": [
    "Abrimos todos los *transformers* que guardamos cuando hicimos el modelo"
   ]
  },
  {
   "cell_type": "code",
   "execution_count": 113,
   "id": "438b634d",
   "metadata": {},
   "outputs": [],
   "source": [
    "# encoding ChestPainType\n",
    "with open('data/encodingChestPainType.pkl', 'rb') as chest:\n",
    "    encoding_chestpain = pickle.load(chest)\n",
    "    \n",
    "# encoding Angina\n",
    "with open('data/encodingExerciseAngina.pkl', 'rb') as angina:\n",
    "    encoding_angina = pickle.load(angina)\n",
    "\n",
    "    \n",
    "# encoding Fasting\n",
    "with open('data/encodingFastingBS.pkl', 'rb') as fasting:\n",
    "    encoding_fasting = pickle.load(fasting)\n",
    "\n",
    "# encoding Resting\n",
    "with open('data/encodingRestingECG.pkl', 'rb') as resting:\n",
    "    encoding_resting = pickle.load(resting)\n",
    "\n",
    "# encoding Slope\n",
    "with open('data/encodingST_Slope.pkl', 'rb') as slope:\n",
    "    encoding_slope = pickle.load(slope)\n",
    "\n",
    "# encoding Sex\n",
    "with open('data/encodingSex.pkl', 'rb') as sex:\n",
    "    encoding_sex = pickle.load(sex)\n",
    "\n",
    "# estandarización\n",
    "with open('data/estandarizacion.pkl', 'rb') as estandarizacion:\n",
    "    estandarizacion = pickle.load(estandarizacion)\n"
   ]
  },
  {
   "cell_type": "code",
   "execution_count": 135,
   "id": "97979cd5",
   "metadata": {},
   "outputs": [],
   "source": [
    "# cargamos el mejor modelo\n",
    "with open('data/mejor_modelo.pkl', 'rb') as modelo:\n",
    "    modelo = pickle.load(modelo)"
   ]
  },
  {
   "cell_type": "markdown",
   "id": "ce5bd102",
   "metadata": {},
   "source": [
    "Nos preparamos para hacer la predicción"
   ]
  },
  {
   "cell_type": "code",
   "execution_count": 115,
   "id": "a1f735f6",
   "metadata": {
    "scrolled": true
   },
   "outputs": [
    {
     "data": {
      "text/html": [
       "<div>\n",
       "<style scoped>\n",
       "    .dataframe tbody tr th:only-of-type {\n",
       "        vertical-align: middle;\n",
       "    }\n",
       "\n",
       "    .dataframe tbody tr th {\n",
       "        vertical-align: top;\n",
       "    }\n",
       "\n",
       "    .dataframe thead th {\n",
       "        text-align: right;\n",
       "    }\n",
       "</style>\n",
       "<table border=\"1\" class=\"dataframe\">\n",
       "  <thead>\n",
       "    <tr style=\"text-align: right;\">\n",
       "      <th></th>\n",
       "      <th>Age</th>\n",
       "      <th>Sex</th>\n",
       "      <th>ChestPainType</th>\n",
       "      <th>RestingBP</th>\n",
       "      <th>Cholesterol</th>\n",
       "      <th>FastingBS</th>\n",
       "      <th>RestingECG</th>\n",
       "      <th>MaxHR</th>\n",
       "      <th>ExerciseAngina</th>\n",
       "      <th>Oldpeak</th>\n",
       "      <th>ST_Slope</th>\n",
       "      <th>HeartDisease</th>\n",
       "    </tr>\n",
       "  </thead>\n",
       "  <tbody>\n",
       "    <tr>\n",
       "      <th>388</th>\n",
       "      <td>55</td>\n",
       "      <td>M</td>\n",
       "      <td>ASY</td>\n",
       "      <td>140</td>\n",
       "      <td>0</td>\n",
       "      <td>0</td>\n",
       "      <td>Normal</td>\n",
       "      <td>83</td>\n",
       "      <td>N</td>\n",
       "      <td>0.0</td>\n",
       "      <td>Flat</td>\n",
       "      <td>1</td>\n",
       "    </tr>\n",
       "    <tr>\n",
       "      <th>812</th>\n",
       "      <td>54</td>\n",
       "      <td>F</td>\n",
       "      <td>NAP</td>\n",
       "      <td>110</td>\n",
       "      <td>214</td>\n",
       "      <td>0</td>\n",
       "      <td>Normal</td>\n",
       "      <td>158</td>\n",
       "      <td>N</td>\n",
       "      <td>1.6</td>\n",
       "      <td>Flat</td>\n",
       "      <td>0</td>\n",
       "    </tr>\n",
       "    <tr>\n",
       "      <th>672</th>\n",
       "      <td>60</td>\n",
       "      <td>F</td>\n",
       "      <td>NAP</td>\n",
       "      <td>120</td>\n",
       "      <td>178</td>\n",
       "      <td>1</td>\n",
       "      <td>Normal</td>\n",
       "      <td>96</td>\n",
       "      <td>N</td>\n",
       "      <td>0.0</td>\n",
       "      <td>Up</td>\n",
       "      <td>0</td>\n",
       "    </tr>\n",
       "    <tr>\n",
       "      <th>96</th>\n",
       "      <td>43</td>\n",
       "      <td>M</td>\n",
       "      <td>ATA</td>\n",
       "      <td>142</td>\n",
       "      <td>207</td>\n",
       "      <td>0</td>\n",
       "      <td>Normal</td>\n",
       "      <td>138</td>\n",
       "      <td>N</td>\n",
       "      <td>0.0</td>\n",
       "      <td>Up</td>\n",
       "      <td>0</td>\n",
       "    </tr>\n",
       "  </tbody>\n",
       "</table>\n",
       "</div>"
      ],
      "text/plain": [
       "     Age Sex ChestPainType  RestingBP  Cholesterol  FastingBS RestingECG  \\\n",
       "388   55   M           ASY        140            0          0     Normal   \n",
       "812   54   F           NAP        110          214          0     Normal   \n",
       "672   60   F           NAP        120          178          1     Normal   \n",
       "96    43   M           ATA        142          207          0     Normal   \n",
       "\n",
       "     MaxHR ExerciseAngina  Oldpeak ST_Slope  HeartDisease  \n",
       "388     83              N      0.0     Flat             1  \n",
       "812    158              N      1.6     Flat             0  \n",
       "672     96              N      0.0       Up             0  \n",
       "96     138              N      0.0       Up             0  "
      ]
     },
     "execution_count": 115,
     "metadata": {},
     "output_type": "execute_result"
    }
   ],
   "source": [
    "# recordamos como eran los datos que nos pasaban de origen\n",
    "df.sample(4)"
   ]
  },
  {
   "cell_type": "code",
   "execution_count": 126,
   "id": "db286a2f",
   "metadata": {},
   "outputs": [],
   "source": [
    "# le pedimos al médico que nos de los datos del paciente\n",
    "resultados = {\"Age\" : int(input(\"¿Cuál es tu edad?\")),\n",
    "\"Sex\" : input(\"¿Cuál es tu genero?\"),\n",
    "\"ChestPainType\" : input(\"¿Tuviste dolor de pecho?\"),\n",
    "\"RestingBP\" : int(input(\"¿Cual es tu presion arterial?\")),\n",
    "\"Cholesterol\" : int(input(\"¿Cual es tu colesterol?\")),\n",
    "\"FastingBS\" : int(input(\"¿Cual es tu nivel de azucar?\")),\n",
    "\"RestingECG\" : input(\"¿Cual es tu resultado del electrocardiograma?\"),\n",
    "\"MaxHR\" : int(input(\"¿Cual es tu frecuencia cardiaca?\")),\n",
    "\"ExerciseAngina\" : input(\"¿Angina inducida?\"),\n",
    "\"Oldpeak\" : float(input(\"oldpeak?\")),\n",
    "\"ST_Slope\" : input(\"¿Cómo era la pendiente?\")}\n"
   ]
  },
  {
   "cell_type": "code",
   "execution_count": 127,
   "id": "f89c60e0",
   "metadata": {},
   "outputs": [
    {
     "data": {
      "text/html": [
       "<div>\n",
       "<style scoped>\n",
       "    .dataframe tbody tr th:only-of-type {\n",
       "        vertical-align: middle;\n",
       "    }\n",
       "\n",
       "    .dataframe tbody tr th {\n",
       "        vertical-align: top;\n",
       "    }\n",
       "\n",
       "    .dataframe thead th {\n",
       "        text-align: right;\n",
       "    }\n",
       "</style>\n",
       "<table border=\"1\" class=\"dataframe\">\n",
       "  <thead>\n",
       "    <tr style=\"text-align: right;\">\n",
       "      <th></th>\n",
       "      <th>Age</th>\n",
       "      <th>Sex</th>\n",
       "      <th>ChestPainType</th>\n",
       "      <th>RestingBP</th>\n",
       "      <th>Cholesterol</th>\n",
       "      <th>FastingBS</th>\n",
       "      <th>RestingECG</th>\n",
       "      <th>MaxHR</th>\n",
       "      <th>ExerciseAngina</th>\n",
       "      <th>Oldpeak</th>\n",
       "      <th>ST_Slope</th>\n",
       "    </tr>\n",
       "  </thead>\n",
       "  <tbody>\n",
       "    <tr>\n",
       "      <th>0</th>\n",
       "      <td>23</td>\n",
       "      <td>M</td>\n",
       "      <td>ASY</td>\n",
       "      <td>89</td>\n",
       "      <td>45</td>\n",
       "      <td>0</td>\n",
       "      <td>Normal</td>\n",
       "      <td>98</td>\n",
       "      <td>N</td>\n",
       "      <td>1.0</td>\n",
       "      <td>Flat</td>\n",
       "    </tr>\n",
       "  </tbody>\n",
       "</table>\n",
       "</div>"
      ],
      "text/plain": [
       "   Age Sex ChestPainType  RestingBP  Cholesterol  FastingBS RestingECG  MaxHR  \\\n",
       "0   23   M           ASY         89           45          0     Normal     98   \n",
       "\n",
       "  ExerciseAngina  Oldpeak ST_Slope  \n",
       "0              N      1.0     Flat  "
      ]
     },
     "execution_count": 127,
     "metadata": {},
     "output_type": "execute_result"
    }
   ],
   "source": [
    "# convertimos los datos del paciente a dataframe para poder trabajar con ellos. \n",
    "df_resultados = pd.DataFrame(resultados, index=[0])\n",
    "df_resultados"
   ]
  },
  {
   "cell_type": "code",
   "execution_count": 128,
   "id": "7dd3c9f3",
   "metadata": {},
   "outputs": [
    {
     "data": {
      "text/html": [
       "<div>\n",
       "<style scoped>\n",
       "    .dataframe tbody tr th:only-of-type {\n",
       "        vertical-align: middle;\n",
       "    }\n",
       "\n",
       "    .dataframe tbody tr th {\n",
       "        vertical-align: top;\n",
       "    }\n",
       "\n",
       "    .dataframe thead th {\n",
       "        text-align: right;\n",
       "    }\n",
       "</style>\n",
       "<table border=\"1\" class=\"dataframe\">\n",
       "  <thead>\n",
       "    <tr style=\"text-align: right;\">\n",
       "      <th></th>\n",
       "      <th>Age</th>\n",
       "      <th>RestingBP</th>\n",
       "      <th>Cholesterol</th>\n",
       "      <th>MaxHR</th>\n",
       "      <th>Oldpeak</th>\n",
       "    </tr>\n",
       "  </thead>\n",
       "  <tbody>\n",
       "    <tr>\n",
       "      <th>0</th>\n",
       "      <td>-3.236379</td>\n",
       "      <td>-2.699359</td>\n",
       "      <td>-4.155098</td>\n",
       "      <td>-1.54655</td>\n",
       "      <td>0.178162</td>\n",
       "    </tr>\n",
       "  </tbody>\n",
       "</table>\n",
       "</div>"
      ],
      "text/plain": [
       "        Age  RestingBP  Cholesterol    MaxHR   Oldpeak\n",
       "0 -3.236379  -2.699359    -4.155098 -1.54655  0.178162"
      ]
     },
     "execution_count": 128,
     "metadata": {},
     "output_type": "execute_result"
    }
   ],
   "source": [
    "# estandarizamos todas las columnas que son de tipo numérico usando el transformer que nos guardamos cuando hicimos el modelo\n",
    "\n",
    "estandarizadas = pd.DataFrame(estandarizacion.transform(df_resultados[[\"Age\", \"RestingBP\", \"Cholesterol\", \n",
    "                           \"MaxHR\", \"Oldpeak\"]]), columns = [\"Age\", \"RestingBP\", \"Cholesterol\", \n",
    "                           \"MaxHR\", \"Oldpeak\"])\n",
    "estandarizadas"
   ]
  },
  {
   "cell_type": "code",
   "execution_count": 129,
   "id": "07818ed1",
   "metadata": {},
   "outputs": [
    {
     "data": {
      "text/html": [
       "<div>\n",
       "<style scoped>\n",
       "    .dataframe tbody tr th:only-of-type {\n",
       "        vertical-align: middle;\n",
       "    }\n",
       "\n",
       "    .dataframe tbody tr th {\n",
       "        vertical-align: top;\n",
       "    }\n",
       "\n",
       "    .dataframe thead th {\n",
       "        text-align: right;\n",
       "    }\n",
       "</style>\n",
       "<table border=\"1\" class=\"dataframe\">\n",
       "  <thead>\n",
       "    <tr style=\"text-align: right;\">\n",
       "      <th></th>\n",
       "      <th>Age</th>\n",
       "      <th>Sex</th>\n",
       "      <th>ChestPainType</th>\n",
       "      <th>RestingBP</th>\n",
       "      <th>Cholesterol</th>\n",
       "      <th>FastingBS</th>\n",
       "      <th>RestingECG</th>\n",
       "      <th>MaxHR</th>\n",
       "      <th>ExerciseAngina</th>\n",
       "      <th>Oldpeak</th>\n",
       "      <th>ST_Slope</th>\n",
       "    </tr>\n",
       "  </thead>\n",
       "  <tbody>\n",
       "    <tr>\n",
       "      <th>0</th>\n",
       "      <td>23</td>\n",
       "      <td>M</td>\n",
       "      <td>ASY</td>\n",
       "      <td>89</td>\n",
       "      <td>45</td>\n",
       "      <td>0</td>\n",
       "      <td>Normal</td>\n",
       "      <td>98</td>\n",
       "      <td>N</td>\n",
       "      <td>1.0</td>\n",
       "      <td>Flat</td>\n",
       "    </tr>\n",
       "  </tbody>\n",
       "</table>\n",
       "</div>"
      ],
      "text/plain": [
       "   Age Sex ChestPainType  RestingBP  Cholesterol  FastingBS RestingECG  MaxHR  \\\n",
       "0   23   M           ASY         89           45          0     Normal     98   \n",
       "\n",
       "  ExerciseAngina  Oldpeak ST_Slope  \n",
       "0              N      1.0     Flat  "
      ]
     },
     "execution_count": 129,
     "metadata": {},
     "output_type": "execute_result"
    }
   ],
   "source": [
    "df_resultados.head(1)"
   ]
  },
  {
   "cell_type": "code",
   "execution_count": 130,
   "id": "a73e1634",
   "metadata": {},
   "outputs": [],
   "source": [
    "# hacemos el encoding del resto de las variables\n",
    "\n",
    "chest = pd.DataFrame(encoding_chestpain.transform(df_resultados[[\"ChestPainType\"]]), columns= [\"ChestPainType\"])\n",
    "angina = pd.DataFrame(encoding_angina.transform(df_resultados[[\"ExerciseAngina\"]]), columns= [\"ExerciseAngina\"])\n",
    "resting = pd.DataFrame(encoding_resting.transform(df_resultados[[\"RestingECG\"]]), columns= [\"RestingECG\"])\n",
    "slope = pd.DataFrame(encoding_slope.transform(df_resultados[[\"ST_Slope\"]]), columns= [\"ST_Slope\"])\n",
    "fasting = pd.DataFrame(encoding_fasting.transform(df_resultados[[\"FastingBS\"]]), columns= [\"FastingBS\"])\n",
    "sex = pd.DataFrame(encoding_sex.transform(df_resultados[[\"Sex\"]]).toarray(), columns=[\"Sex_F\", \"Sex_M\"])\n"
   ]
  },
  {
   "cell_type": "code",
   "execution_count": 131,
   "id": "509f16e6",
   "metadata": {},
   "outputs": [
    {
     "data": {
      "text/html": [
       "<div>\n",
       "<style scoped>\n",
       "    .dataframe tbody tr th:only-of-type {\n",
       "        vertical-align: middle;\n",
       "    }\n",
       "\n",
       "    .dataframe tbody tr th {\n",
       "        vertical-align: top;\n",
       "    }\n",
       "\n",
       "    .dataframe thead th {\n",
       "        text-align: right;\n",
       "    }\n",
       "</style>\n",
       "<table border=\"1\" class=\"dataframe\">\n",
       "  <thead>\n",
       "    <tr style=\"text-align: right;\">\n",
       "      <th></th>\n",
       "      <th>Age</th>\n",
       "      <th>RestingBP</th>\n",
       "      <th>Cholesterol</th>\n",
       "      <th>MaxHR</th>\n",
       "      <th>Oldpeak</th>\n",
       "      <th>Sex_F</th>\n",
       "      <th>Sex_M</th>\n",
       "      <th>ChestPainType</th>\n",
       "      <th>ExerciseAngina</th>\n",
       "      <th>RestingECG</th>\n",
       "      <th>ST_Slope</th>\n",
       "      <th>FastingBS</th>\n",
       "    </tr>\n",
       "  </thead>\n",
       "  <tbody>\n",
       "    <tr>\n",
       "      <th>0</th>\n",
       "      <td>-3.236379</td>\n",
       "      <td>-2.699359</td>\n",
       "      <td>-4.155098</td>\n",
       "      <td>-1.54655</td>\n",
       "      <td>0.178162</td>\n",
       "      <td>0.0</td>\n",
       "      <td>1.0</td>\n",
       "      <td>0</td>\n",
       "      <td>0</td>\n",
       "      <td>0</td>\n",
       "      <td>0</td>\n",
       "      <td>0</td>\n",
       "    </tr>\n",
       "  </tbody>\n",
       "</table>\n",
       "</div>"
      ],
      "text/plain": [
       "        Age  RestingBP  Cholesterol    MaxHR   Oldpeak  Sex_F  Sex_M  \\\n",
       "0 -3.236379  -2.699359    -4.155098 -1.54655  0.178162    0.0    1.0   \n",
       "\n",
       "   ChestPainType  ExerciseAngina  RestingECG  ST_Slope  FastingBS  \n",
       "0              0               0           0         0          0  "
      ]
     },
     "execution_count": 131,
     "metadata": {},
     "output_type": "execute_result"
    }
   ],
   "source": [
    "# unimos todos los conjuntos de datos que hemos ido generando con los transformers\n",
    "df_final = pd.concat([estandarizadas, sex, chest, angina, resting, slope, fasting], axis = 1)\n",
    "df_final"
   ]
  },
  {
   "cell_type": "code",
   "execution_count": 132,
   "id": "57501f93",
   "metadata": {},
   "outputs": [],
   "source": [
    "# cambiamos el orden de las columnas ya que estas deben estar en el mismo orden de como entrenamos al modelo\n",
    "df_final = df_final.reindex(['Age', 'ChestPainType', 'RestingBP', 'Cholesterol', 'FastingBS',\n",
    "       'RestingECG', 'MaxHR', 'ExerciseAngina', 'Oldpeak', 'ST_Slope',\n",
    "       'Sex_F', 'Sex_M'], axis=1)"
   ]
  },
  {
   "cell_type": "code",
   "execution_count": 136,
   "id": "f3433ad4",
   "metadata": {},
   "outputs": [
    {
     "data": {
      "text/plain": [
       "array([1])"
      ]
     },
     "execution_count": 136,
     "metadata": {},
     "output_type": "execute_result"
    }
   ],
   "source": [
    "# hacemos la predicción para nuestro nuevo paciente\n",
    "modelo.predict(df_final)"
   ]
  },
  {
   "cell_type": "code",
   "execution_count": 137,
   "id": "b89653e3",
   "metadata": {},
   "outputs": [
    {
     "data": {
      "text/plain": [
       "array([[0.14088556, 0.85911444]])"
      ]
     },
     "execution_count": 137,
     "metadata": {},
     "output_type": "execute_result"
    }
   ],
   "source": [
    "# ¿Cuál es la probabilidad de que le un infarto al paciente?\n",
    "\n",
    "modelo.predict_proba(df_final)"
   ]
  },
  {
   "cell_type": "code",
   "execution_count": null,
   "id": "1f0eceb9",
   "metadata": {},
   "outputs": [],
   "source": []
  }
 ],
 "metadata": {
  "kernelspec": {
   "display_name": "ironhack",
   "language": "python",
   "name": "python3"
  },
  "language_info": {
   "codemirror_mode": {
    "name": "ipython",
    "version": 3
   },
   "file_extension": ".py",
   "mimetype": "text/x-python",
   "name": "python",
   "nbconvert_exporter": "python",
   "pygments_lexer": "ipython3",
   "version": "3.10.9"
  }
 },
 "nbformat": 4,
 "nbformat_minor": 5
}
