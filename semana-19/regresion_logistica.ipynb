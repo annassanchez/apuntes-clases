{
 "cells": [
  {
   "cell_type": "code",
   "execution_count": null,
   "metadata": {},
   "outputs": [],
   "source": []
  },
  {
   "attachments": {},
   "cell_type": "markdown",
   "metadata": {},
   "source": [
    "seguimos con los datos del datathon. en el notebook veremos que más hay.\n",
    "1. Eda\n",
    "2. Estandarización\n",
    "3. Nulos\n",
    "4. Outliers\n",
    "5. Desbalanceo\n",
    "6.\n",
    "7. Ajuste del modelo"
   ]
  },
  {
   "attachments": {},
   "cell_type": "markdown",
   "metadata": {},
   "source": [
    "Separamos las variables predictoras de la variable respuesta.\n",
    "<br>Separamos entre train / test -> ver si funciona bien el modelo.\n",
    "<br>Es recomendable que el train y el test estén balanceados -- mirar que haya una relación de booleanos similar."
   ]
  },
  {
   "attachments": {},
   "cell_type": "markdown",
   "metadata": {},
   "source": [
    "hago el fit(X_train, y_train)"
   ]
  },
  {
   "attachments": {},
   "cell_type": "markdown",
   "metadata": {},
   "source": [
    "hago el predict(X_test), predict(X_train)"
   ]
  },
  {
   "attachments": {},
   "cell_type": "markdown",
   "metadata": {},
   "source": [
    "# métricas regresión logística"
   ]
  },
  {
   "attachments": {},
   "cell_type": "markdown",
   "metadata": {},
   "source": [
    "en regresión lineal, mirábamos los residuos y enfrentábamos lo real / lo predicho"
   ]
  },
  {
   "attachments": {},
   "cell_type": "markdown",
   "metadata": {},
   "source": [
    "## matriz de confusión"
   ]
  },
  {
   "attachments": {},
   "cell_type": "markdown",
   "metadata": {},
   "source": [
    "en regresión logarítmica, en cambio, tendremos que usar la matriz de confusión\n",
    "<br>nos pasarán una función con todo.\n",
    "<br>predichos arriba, real en un lado -> ojo, solo python lo escribe así\n",
    "\n",
    "0 = no infarto\n",
    "1 = infarto\n",
    "\n",
    "|            | No enfermo | Enfermo |\n",
    "|------------|------------|---------|\n",
    "| No Enfermo |      46.76      |    7.62     |\n",
    "| Enfermo    |       6.52     |     39.12    |\n",
    "\n",
    "<br> no enfermo, no enfermo -> verdadero negativo\n",
    "<br> enfermo, enfermo -> verdadero positivo\n",
    "<br> enfermo, real no enfermo -> falso positivo\n",
    "<br> no enfermo, real enfermo -> falso negativo"
   ]
  },
  {
   "attachments": {},
   "cell_type": "markdown",
   "metadata": {},
   "source": [
    "![](https://i.kym-cdn.com/entries/icons/mobile/000/030/110/xmen.jpg)"
   ]
  },
  {
   "attachments": {},
   "cell_type": "markdown",
   "metadata": {},
   "source": [
    "0 = no infarto\n",
    "1 = infarto\n",
    "\n",
    "|            | No enfermo | Enfermo |\n",
    "|------------|------------|---------|\n",
    "| No Enfermo |      VN     |    FP     |\n",
    "| Enfermo    |       FN    |     VP   |"
   ]
  },
  {
   "cell_type": "markdown",
   "metadata": {},
   "source": [
    "0 = no infarto\n",
    "1 = infarto\n",
    "\n",
    "|            | No enfermo | Enfermo |\n",
    "|------------|------------|---------|\n",
    "| No Enfermo |      VN     |    FP     |\n",
    "| Enfermo    |       FN    |     VP   |"
   ]
  },
  {
   "attachments": {},
   "cell_type": "markdown",
   "metadata": {},
   "source": [
    "0 = fraude\n",
    "1 = no fraude\n",
    "\n",
    "|            | Fraude | No fraude |\n",
    "|------------|------------|---------|\n",
    "| Fraude |      VP     |    FN     |\n",
    "| No Fraude    |       FP    |     VN   |"
   ]
  },
  {
   "attachments": {},
   "cell_type": "markdown",
   "metadata": {},
   "source": [
    "la matriz puede cambiar según como codifiques los valores, ojo!"
   ]
  },
  {
   "attachments": {},
   "cell_type": "markdown",
   "metadata": {},
   "source": [
    "## otras métricas"
   ]
  },
  {
   "attachments": {},
   "cell_type": "markdown",
   "metadata": {},
   "source": [
    "- accuracy: verdaderos verdaderos (VN + VP) / total de predicciones -> como de bien acierta mi modelo\n",
    "<br> me interesa tener un accuracy alto > 0.7 😃\n",
    "<br> un accuracy < 0.5 ☹️"
   ]
  },
  {
   "cell_type": "code",
   "execution_count": 1,
   "metadata": {},
   "outputs": [
    {
     "data": {
      "text/plain": [
       "0.8586956521739131"
      ]
     },
     "execution_count": 1,
     "metadata": {},
     "output_type": "execute_result"
    }
   ],
   "source": [
    "(86+72) / (86 + 72 + 14 + 12)"
   ]
  },
  {
   "attachments": {},
   "cell_type": "markdown",
   "metadata": {},
   "source": [
    "- precisión: VP / (VP + FP)\n",
    "<br> qué porcentaje de los casos positivos predice bien el modelo --> errores de tipo 1"
   ]
  },
  {
   "cell_type": "code",
   "execution_count": 4,
   "metadata": {},
   "outputs": [
    {
     "data": {
      "text/plain": [
       "0.8372093023255814"
      ]
     },
     "execution_count": 4,
     "metadata": {},
     "output_type": "execute_result"
    }
   ],
   "source": [
    "(72) / (72 + 14)"
   ]
  },
  {
   "attachments": {},
   "cell_type": "markdown",
   "metadata": {},
   "source": [
    "- recall: VP / (VP + FN) --> errores de tipo 2"
   ]
  },
  {
   "cell_type": "code",
   "execution_count": 5,
   "metadata": {},
   "outputs": [
    {
     "data": {
      "text/plain": [
       "0.8571428571428571"
      ]
     },
     "execution_count": 5,
     "metadata": {},
     "output_type": "execute_result"
    }
   ],
   "source": [
    "(72) / (72 + 12)"
   ]
  },
  {
   "attachments": {},
   "cell_type": "markdown",
   "metadata": {},
   "source": [
    "1. decidir en qué error me quiero equivocar -> FP (error tipo 1) o FN (error tipo 2)\n",
    "2. comparar ambos valores\n",
    "<br> tengo que optimizar los errores de la métrica que más me interesa: FP o FN\n",
    "    - FP prima -> recall alto\n",
    "    - FN prima -> precisión alta"
   ]
  },
  {
   "attachments": {},
   "cell_type": "markdown",
   "metadata": {},
   "source": [
    "- error tipo 1 -> Falso Positivo\n",
    "- error tipo 2 -> Falso Negativo"
   ]
  }
 ],
 "metadata": {
  "kernelspec": {
   "display_name": "iron2",
   "language": "python",
   "name": "python3"
  },
  "language_info": {
   "codemirror_mode": {
    "name": "ipython",
    "version": 3
   },
   "file_extension": ".py",
   "mimetype": "text/x-python",
   "name": "python",
   "nbconvert_exporter": "python",
   "pygments_lexer": "ipython3",
   "version": "3.9.16"
  },
  "orig_nbformat": 4
 },
 "nbformat": 4,
 "nbformat_minor": 2
}
