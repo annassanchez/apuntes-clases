{
 "cells": [
  {
   "cell_type": "markdown",
   "id": "6c872390",
   "metadata": {
    "toc": true
   },
   "source": [
    "<h1>Table of Contents<span class=\"tocSkip\"></span></h1>\n",
    "<div class=\"toc\"><ul class=\"toc-item\"><li><span><a href=\"#¿Qué-es-el-control-flow?\" data-toc-modified-id=\"¿Qué-es-el-control-flow?-1\"><span class=\"toc-item-num\">1&nbsp;&nbsp;</span>¿Qué es el control flow?</a></span><ul class=\"toc-item\"><li><span><a href=\"#¿Qué-es-el-pseudo-codigo?\" data-toc-modified-id=\"¿Qué-es-el-pseudo-codigo?-1.1\"><span class=\"toc-item-num\">1.1&nbsp;&nbsp;</span>¿Qué es el pseudo-codigo?</a></span></li></ul></li><li><span><a href=\"#Condicionales\" data-toc-modified-id=\"Condicionales-2\"><span class=\"toc-item-num\">2&nbsp;&nbsp;</span>Condicionales</a></span><ul class=\"toc-item\"><li><span><a href=\"#if\" data-toc-modified-id=\"if-2.1\"><span class=\"toc-item-num\">2.1&nbsp;&nbsp;</span>if</a></span></li><li><span><a href=\"#if-...-else\" data-toc-modified-id=\"if-...-else-2.2\"><span class=\"toc-item-num\">2.2&nbsp;&nbsp;</span>if ... else</a></span></li><li><span><a href=\"#if-anidados\" data-toc-modified-id=\"if-anidados-2.3\"><span class=\"toc-item-num\">2.3&nbsp;&nbsp;</span>if anidados</a></span></li><li><span><a href=\"#if-...-elif-...-else\" data-toc-modified-id=\"if-...-elif-...-else-2.4\"><span class=\"toc-item-num\">2.4&nbsp;&nbsp;</span>if ... elif ... else</a></span></li></ul></li><li><span><a href=\"#Loops\" data-toc-modified-id=\"Loops-3\"><span class=\"toc-item-num\">3&nbsp;&nbsp;</span>Loops</a></span><ul class=\"toc-item\"><li><span><a href=\"#for-loops\" data-toc-modified-id=\"for-loops-3.1\"><span class=\"toc-item-num\">3.1&nbsp;&nbsp;</span><code>for</code> loops</a></span></li><li><span><a href=\"#while\" data-toc-modified-id=\"while-3.2\"><span class=\"toc-item-num\">3.2&nbsp;&nbsp;</span>while</a></span></li></ul></li><li><span><a href=\"#Control-de-los-Loops\" data-toc-modified-id=\"Control-de-los-Loops-4\"><span class=\"toc-item-num\">4&nbsp;&nbsp;</span>Control de los Loops</a></span><ul class=\"toc-item\"><li><span><a href=\"#break\" data-toc-modified-id=\"break-4.1\"><span class=\"toc-item-num\">4.1&nbsp;&nbsp;</span>break</a></span></li><li><span><a href=\"#pass\" data-toc-modified-id=\"pass-4.2\"><span class=\"toc-item-num\">4.2&nbsp;&nbsp;</span>pass</a></span></li></ul></li><li><span><a href=\"#Algunos-métodos-interesantes\" data-toc-modified-id=\"Algunos-métodos-interesantes-5\"><span class=\"toc-item-num\">5&nbsp;&nbsp;</span>Algunos métodos interesantes</a></span></li></ul></div>"
   ]
  },
  {
   "cell_type": "markdown",
   "id": "1afc2050",
   "metadata": {},
   "source": [
    "# ¿Qué es el control flow? "
   ]
  },
  {
   "cell_type": "markdown",
   "id": "94ef535a",
   "metadata": {},
   "source": [
    "Es el orden en que se ejecutan ciertas operaciones, es decir usando el control de flujo estamos controlando la ejecución de nuestro código. \n",
    "\n",
    "Pongamos un ejemplo sencillo, digamos que queremos medir la temperatura del aire en el exterior. ¿Qué tenemos que hacer? \n",
    "\n",
    "1️⃣ Cogemos el termómetro,   \n",
    "2️⃣ Abrimos la puerta,   \n",
    "3️⃣ Salimos al exterior,   \n",
    "4️⃣ Cerramos la puerta,   \n",
    "5️⃣ Buscamos un lugar a la sombra,   \n",
    "6️⃣ Medimos la temperatura y   \n",
    "7️⃣ La anotamos. "
   ]
  },
  {
   "cell_type": "markdown",
   "id": "b7a85276",
   "metadata": {},
   "source": [
    "Pyhton tiene 3 estructuras de control de flujo:\n",
    "\n",
    "- Condicionales:\n",
    "    ```python\n",
    "    - if \n",
    "    - if ... else ...\n",
    "    - if ... elif ... else\n",
    "    ```\n",
    "- *Loops*: \n",
    "    ```python\n",
    "    - for\n",
    "    - while\n",
    "    ```\n",
    "\n",
    "- Control de los *loops* con *break* y *continue* \n",
    "    ```python\n",
    "    - break\n",
    "    - continue\n",
    "    ```"
   ]
  },
  {
   "cell_type": "markdown",
   "id": "0fe5f44a",
   "metadata": {},
   "source": [
    "existe tb try / except, pero no lo vamos a usar como control de flujo"
   ]
  },
  {
   "cell_type": "markdown",
   "id": "f6b5d034",
   "metadata": {},
   "source": [
    "## ¿Qué es el pseudo-codigo? "
   ]
  },
  {
   "cell_type": "markdown",
   "id": "99dd543f",
   "metadata": {},
   "source": [
    "El pseudocódigo es una forma de expresar los distintos pasos que va a realizar un programa, de la forma más parecida a un lenguaje de programación. Su principal función es la de representar por pasos la solución a un problema o algoritmo, de la forma más detallada posible, normalmente usamos comentarios nuestros. "
   ]
  },
  {
   "cell_type": "code",
   "execution_count": 1,
   "id": "b70da353",
   "metadata": {},
   "outputs": [
    {
     "data": {
      "text/plain": [
       "'\\nLas triples comillas para\\nescribir el múltiples líneas\\n'"
      ]
     },
     "execution_count": 1,
     "metadata": {},
     "output_type": "execute_result"
    }
   ],
   "source": [
    "\"\"\"\n",
    "Las triples comillas para\n",
    "escribir el múltiples líneas\n",
    "\"\"\"\n",
    "\n",
    "# para escribir comentarios de una sola línea"
   ]
  },
  {
   "cell_type": "markdown",
   "id": "b6482e58",
   "metadata": {},
   "source": [
    "Imaginemos que nos mandan el siguiente ejercicio: "
   ]
  },
  {
   "cell_type": "markdown",
   "id": "7c6f8402",
   "metadata": {},
   "source": [
    "Le preguntamos al usuario que nos diga un número. \n",
    "Chequeamos que esta dentro de una lista dada. \n",
    "\n",
    "Peeeero... no sabemos por donde empezar a picar código 🤯. En este caso usaremos el pseudocódigo: "
   ]
  },
  {
   "cell_type": "code",
   "execution_count": 2,
   "id": "9fcb50e1",
   "metadata": {},
   "outputs": [
    {
     "data": {
      "text/plain": [
       "'\\ncrear una lista de los números que me interesan\\nnecesito el input del usuario\\ntengo que establecer una condición usando un if con un operador in\\n'"
      ]
     },
     "execution_count": 2,
     "metadata": {},
     "output_type": "execute_result"
    }
   ],
   "source": [
    "'''\n",
    "crear una lista de los números que me interesan\n",
    "necesito el input del usuario\n",
    "tengo que establecer una condición usando un if con un operador in\n",
    "'''"
   ]
  },
  {
   "cell_type": "markdown",
   "id": "a78c5ba2",
   "metadata": {},
   "source": [
    "# Condicionales "
   ]
  },
  {
   "cell_type": "markdown",
   "id": "b25f0a19",
   "metadata": {},
   "source": [
    "Las sentencias condicionales, o a menudo llamadas sentencias if-then, nos permiten ejecutar un trozo de código dependiendo de alguna condición (condición booleana).\n",
    "Las sentencias condicionales en Python son:\n",
    "\n",
    "- `if`\n",
    "\n",
    "\n",
    "- `if-else`\n",
    "\n",
    "\n",
    "- `if anidado`\n",
    "\n",
    "\n",
    "- `if-elif-else`\n",
    "\n",
    "\n",
    "📌 Las palabras clave para aplicar una sentencia condicional son if, elif, else y dos puntos (:). Es importante aplicar una sangría a la nueva línea después de los dos puntos."
   ]
  },
  {
   "cell_type": "markdown",
   "id": "bef6a79c",
   "metadata": {},
   "source": [
    "## if"
   ]
  },
  {
   "cell_type": "markdown",
   "id": "17966491",
   "metadata": {},
   "source": [
    "Si la condición `if` se evalúa como True, entonces se ejecuta el código indentado que sigue a la sentencia.\n",
    "\n",
    "Si la expresión evalúa a Falso, entonces el código indentado que sigue a la sentencia `if` se salta y el programa ejecuta la siguiente línea de código que está indentada al mismo nivel que la sentencia `if`.\n",
    "\n"
   ]
  },
  {
   "cell_type": "markdown",
   "id": "9e816c2b",
   "metadata": {},
   "source": [
    "![if](https://github.com/Ironhack-Data-Madrid-PartTime-Oct22/imagenes/blob/master/semana-2/if-python-schema.gif?raw=true)"
   ]
  },
  {
   "cell_type": "code",
   "execution_count": 10,
   "id": "6b88968f",
   "metadata": {},
   "outputs": [
    {
     "name": "stdout",
     "output_type": "stream",
     "text": [
      "Buenos Días\n"
     ]
    }
   ],
   "source": [
    "expresion = True\n",
    "\n",
    "if expresion == True:\n",
    "    print('Buenos Días')"
   ]
  },
  {
   "cell_type": "code",
   "execution_count": 11,
   "id": "c669a8ee",
   "metadata": {},
   "outputs": [
    {
     "name": "stdout",
     "output_type": "stream",
     "text": [
      "Buenos Días\n"
     ]
    }
   ],
   "source": [
    "# esto es lo mismo que lo anterior\n",
    "\n",
    "if expresion: ## si sabemos que la confición va a ser verdadera, no nos haría falta hacer la asignación\n",
    "    print('Buenos Días')"
   ]
  },
  {
   "cell_type": "code",
   "execution_count": 16,
   "id": "c4791103",
   "metadata": {},
   "outputs": [],
   "source": [
    "temperatura = int(input(\"Dime la temperatura:\"))"
   ]
  },
  {
   "cell_type": "code",
   "execution_count": 14,
   "id": "ed3fa398",
   "metadata": {},
   "outputs": [
    {
     "name": "stdout",
     "output_type": "stream",
     "text": [
      "la temperatura de ho es 3, hace un frío del carajo 🥶\n"
     ]
    }
   ],
   "source": [
    "if temperatura < 4:\n",
    "    print(f\"la temperatura de hoy es {temperatura}, hace un frío del carajo 🥶\")"
   ]
  },
  {
   "cell_type": "code",
   "execution_count": 17,
   "id": "ed3fa398",
   "metadata": {},
   "outputs": [
    {
     "name": "stdout",
     "output_type": "stream",
     "text": [
      "la temperatura de hoy es 19, hace un calor que te torras 🥵\n"
     ]
    }
   ],
   "source": [
    "if temperatura > 17:\n",
    "    print(f\"la temperatura de hoy es {temperatura}, hace un calor que te torras 🥵\")"
   ]
  },
  {
   "cell_type": "code",
   "execution_count": null,
   "id": "c312167f",
   "metadata": {},
   "outputs": [],
   "source": [
    "# pero que pasa si la condición no se cumple?\n",
    "## si la condición no se cumple, no pasa nada, porque no cumple no necesario."
   ]
  },
  {
   "cell_type": "markdown",
   "id": "29e2fbc1",
   "metadata": {},
   "source": [
    "En el control flow también podemos incluir varias condiciones"
   ]
  },
  {
   "cell_type": "code",
   "execution_count": 21,
   "id": "a14fef1b",
   "metadata": {},
   "outputs": [],
   "source": [
    "temp_max = int(input(\"Temperatura máxima de hoy:\"))"
   ]
  },
  {
   "cell_type": "code",
   "execution_count": 22,
   "id": "bdd07d2f",
   "metadata": {},
   "outputs": [],
   "source": [
    "temp_min = int(input(\"Temperatura mínimo de hoy:\"))"
   ]
  },
  {
   "cell_type": "code",
   "execution_count": 23,
   "id": "68defbf4",
   "metadata": {},
   "outputs": [
    {
     "name": "stdout",
     "output_type": "stream",
     "text": [
      "estamos en invierno\n"
     ]
    }
   ],
   "source": [
    "if temp_max <= 15 and temp_min > 6: ##se cumplen las dos\n",
    "    print(\"estamos en invierno\")"
   ]
  },
  {
   "cell_type": "code",
   "execution_count": null,
   "id": "1e97b1d4",
   "metadata": {},
   "outputs": [],
   "source": [
    "if temp_max <= 15 or temp_min > 6: ##se cumplen una de las condiciones\n",
    "    print(\"estamos en invierno\")"
   ]
  },
  {
   "cell_type": "code",
   "execution_count": 24,
   "id": "987ca168",
   "metadata": {},
   "outputs": [
    {
     "name": "stdout",
     "output_type": "stream",
     "text": [
      "saluda a ana\n"
     ]
    }
   ],
   "source": [
    "# también lo podemos hacer con listas\n",
    "if \"ana\" in [\"lola\", \"paco\", \"ana\"]:\n",
    "    print(\"saluda a ana\")"
   ]
  },
  {
   "cell_type": "markdown",
   "id": "17ad52b6",
   "metadata": {},
   "source": [
    "🌊📝 **EJERCICIO** 🌊📝\n",
    "\n",
    "Escribe un programa que chequee si el usuario nos pasa una letra o un número"
   ]
  },
  {
   "cell_type": "code",
   "execution_count": 42,
   "id": "b716e977",
   "metadata": {},
   "outputs": [],
   "source": [
    "import string"
   ]
  },
  {
   "cell_type": "code",
   "execution_count": 49,
   "id": "91718c47",
   "metadata": {},
   "outputs": [
    {
     "data": {
      "text/plain": [
       "['A',\n",
       " 'B',\n",
       " 'C',\n",
       " 'D',\n",
       " 'E',\n",
       " 'F',\n",
       " 'G',\n",
       " 'H',\n",
       " 'I',\n",
       " 'J',\n",
       " 'K',\n",
       " 'L',\n",
       " 'M',\n",
       " 'N',\n",
       " 'O',\n",
       " 'P',\n",
       " 'Q',\n",
       " 'R',\n",
       " 'S',\n",
       " 'T',\n",
       " 'U',\n",
       " 'V',\n",
       " 'W',\n",
       " 'X',\n",
       " 'Y',\n",
       " 'Z',\n",
       " 'a',\n",
       " 'b',\n",
       " 'c',\n",
       " 'd',\n",
       " 'e',\n",
       " 'f',\n",
       " 'g',\n",
       " 'h',\n",
       " 'i',\n",
       " 'j',\n",
       " 'k',\n",
       " 'l',\n",
       " 'm',\n",
       " 'n',\n",
       " 'o',\n",
       " 'p',\n",
       " 'q',\n",
       " 'r',\n",
       " 's',\n",
       " 't',\n",
       " 'u',\n",
       " 'v',\n",
       " 'w',\n",
       " 'x',\n",
       " 'y',\n",
       " 'z']"
      ]
     },
     "execution_count": 49,
     "metadata": {},
     "output_type": "execute_result"
    }
   ],
   "source": [
    "letras = string.ascii_lowercase ## genera el alfabeto en minúsculas\n",
    "letras_ = string.ascii_uppercase ## genera el alfabeto en minúsculas\n",
    "lista = []\n",
    "lista.extend(letras_)\n",
    "lista.extend(letras)\n",
    "lista"
   ]
  },
  {
   "cell_type": "code",
   "execution_count": 62,
   "id": "94c64841",
   "metadata": {},
   "outputs": [],
   "source": [
    "# preguntamos al usuario que nos pase caracter\n",
    "user = input(\"introduce un caracter o num: \")"
   ]
  },
  {
   "cell_type": "code",
   "execution_count": 57,
   "id": "08ebef0e",
   "metadata": {},
   "outputs": [
    {
     "name": "stdout",
     "output_type": "stream",
     "text": [
      "me diste un número\n"
     ]
    }
   ],
   "source": [
    "# chequeamos si la opción del usuario es una letra\n",
    "if user in lista:\n",
    "    print('me diste un caracter')\n",
    "else:\n",
    "    print('me diste un número')"
   ]
  },
  {
   "cell_type": "code",
   "execution_count": 64,
   "id": "f7024519",
   "metadata": {},
   "outputs": [
    {
     "name": "stdout",
     "output_type": "stream",
     "text": [
      "me diste un caracter A\n",
      "es mayus\n"
     ]
    }
   ],
   "source": [
    "# pero que pasa si nos pasa una mayúscula?\n",
    "if user in lista:\n",
    "    print(f'me diste un caracter {user}')\n",
    "    if user in letras_:\n",
    "        print('es mayus')\n",
    "    elif user in letras:\n",
    "        print('is minus')\n",
    "else:\n",
    "    print(f'me diste un número {user}')\n"
   ]
  },
  {
   "cell_type": "markdown",
   "id": "52237291",
   "metadata": {},
   "source": [
    "## if ... else "
   ]
  },
  {
   "cell_type": "markdown",
   "id": "bc929484",
   "metadata": {},
   "source": [
    "Esta declaración nos permite añadir una segunda posibilidad al código, qué hacer cuando la condición es False (cuando no se cumple la condición)."
   ]
  },
  {
   "cell_type": "markdown",
   "id": "879ffa79",
   "metadata": {},
   "source": [
    "![if-else](https://github.com/Ironhack-Data-Madrid-PartTime-Oct22/imagenes/blob/master/semana-2/python-if-else.png?raw=true)"
   ]
  },
  {
   "cell_type": "code",
   "execution_count": null,
   "id": "46cb67a4",
   "metadata": {
    "scrolled": true
   },
   "outputs": [],
   "source": [
    "expresion = False\n",
    "\n",
    "if expresion == True:\n",
    "    print('Buenos Días')\n",
    "else:\n",
    "    print('Buenas Tardes')"
   ]
  },
  {
   "cell_type": "code",
   "execution_count": 26,
   "id": "42e2c420",
   "metadata": {},
   "outputs": [],
   "source": [
    "# preguntamos que temperatura hace hoy\n",
    "tempe = int(input(\"dime la teperatura:\"))"
   ]
  },
  {
   "cell_type": "code",
   "execution_count": 30,
   "id": "cc6ca965",
   "metadata": {},
   "outputs": [
    {
     "name": "stdout",
     "output_type": "stream",
     "text": [
      "cuando llega el calor 🥵, los chicos se enamoran. temperatura = 15\n"
     ]
    }
   ],
   "source": [
    "# creamos la condición\n",
    "if tempe < 15:\n",
    "    print(f\"cuando el cuervo vuela bajo, hace un frío 🥶 del carajo. temperatura = {tempe}\")\n",
    "else:\n",
    "    print(f\"cuando llega el calor 🥵, los chicos se enamoran. temperatura = {tempe}\")"
   ]
  },
  {
   "cell_type": "markdown",
   "id": "2d2c65fd",
   "metadata": {},
   "source": [
    " 🌊📝 **EJERCICIO** 🌊📝\n",
    " \n",
    "Escribe un programa que chequee si una palabra empieza por 'a' o no"
   ]
  },
  {
   "cell_type": "code",
   "execution_count": 68,
   "id": "ab662fcd",
   "metadata": {},
   "outputs": [],
   "source": [
    "palabra = 'adiós'"
   ]
  },
  {
   "cell_type": "code",
   "execution_count": 69,
   "id": "1fd11e5e",
   "metadata": {},
   "outputs": [
    {
     "name": "stdout",
     "output_type": "stream",
     "text": [
      "adiós empieza por a\n"
     ]
    }
   ],
   "source": [
    "if palabra[0] == 'a':\n",
    "    print(f\"{palabra} empieza por a\")\n",
    "else:\n",
    "    print(f\"{palabra} no empieza por a\")"
   ]
  },
  {
   "cell_type": "code",
   "execution_count": null,
   "id": "7ecabed6",
   "metadata": {},
   "outputs": [],
   "source": []
  },
  {
   "cell_type": "code",
   "execution_count": null,
   "id": "b1b5e2c6",
   "metadata": {},
   "outputs": [],
   "source": []
  },
  {
   "cell_type": "markdown",
   "id": "ab759e74",
   "metadata": {},
   "source": [
    " 🌊📝 **EJERCICIO** 🌊📝\n",
    "\n",
    "Hagamos un programa que le pregunte al usuario que edad que tiene para saber si puede entrar a la discoteca o no \n",
    "- Si es mayor que 18 le dejamos pasar\n",
    "- Si es menor que 18 le recomendamos ir a una discoteca light"
   ]
  },
  {
   "cell_type": "code",
   "execution_count": 71,
   "id": "cd8da90a",
   "metadata": {},
   "outputs": [
    {
     "name": "stdout",
     "output_type": "stream",
     "text": [
      "p'adentro\n"
     ]
    }
   ],
   "source": [
    "# preguntamos que edad tiene el usuario\n",
    "edad = int(input(\"cuantos años tienes fiera: \"))\n",
    "if edad < 18:\n",
    "    print('a la disco light')\n",
    "else:\n",
    "    print(\"p'adentro\")"
   ]
  },
  {
   "cell_type": "code",
   "execution_count": null,
   "id": "7dbdca9c",
   "metadata": {
    "scrolled": true
   },
   "outputs": [],
   "source": [
    "# puede entrar en la discoteca?\n"
   ]
  },
  {
   "cell_type": "markdown",
   "id": "80f843f8",
   "metadata": {},
   "source": [
    "##  if anidados"
   ]
  },
  {
   "cell_type": "markdown",
   "id": "b7d6fa4e",
   "metadata": {},
   "source": [
    "Básicamente es una sentencia `if` dentro de otra sentencia `if`. "
   ]
  },
  {
   "cell_type": "markdown",
   "id": "5de41cb5",
   "metadata": {},
   "source": [
    "![anidados](https://github.com/Ironhack-Data-Madrid-PartTime-Oct22/imagenes/blob/master/semana-2/python_nested_if_else_statements_flow_chart.png?raw=true)"
   ]
  },
  {
   "cell_type": "code",
   "execution_count": 39,
   "id": "45fd2d75",
   "metadata": {},
   "outputs": [],
   "source": [
    "# preguntamos que temperatura hace hoy\n",
    "temp2 = int(input(\"dime la temperatura: \"))"
   ]
  },
  {
   "cell_type": "code",
   "execution_count": 32,
   "id": "785182fd",
   "metadata": {},
   "outputs": [
    {
     "name": "stdout",
     "output_type": "stream",
     "text": [
      "34\n"
     ]
    }
   ],
   "source": [
    "if temp2 > 15:\n",
    "    temp2 *= 2\n",
    "    print(temp2)"
   ]
  },
  {
   "cell_type": "code",
   "execution_count": 40,
   "id": "0379fbf7",
   "metadata": {},
   "outputs": [
    {
     "name": "stdout",
     "output_type": "stream",
     "text": [
      "la temepratura es 45\n",
      "la temepratura es 45, me aso joder 🥵\n"
     ]
    }
   ],
   "source": [
    "# nosotros en un if podemos hacer todas las operaciones que queramos.\n",
    "# En este caso estamos haciendo una multiplicación del valor que nos ha pasado el usuario\n",
    "if temp2 > 15:\n",
    "    print(f\"la temepratura es {temp2}\")\n",
    "    if temp2 > 40:\n",
    "        print(f\"la temepratura es {temp2}, me aso joder 🥵\")\n",
    "    else:\n",
    "        print(\"seguro que hace calor 😊\")\n",
    "else:\n",
    "    print(\"pues hacía frío al final 🥶🥶\")"
   ]
  },
  {
   "cell_type": "code",
   "execution_count": null,
   "id": "b7ec377f",
   "metadata": {},
   "outputs": [],
   "source": [
    "# creamos la condición anidad\n"
   ]
  },
  {
   "cell_type": "markdown",
   "id": "e84071d0",
   "metadata": {},
   "source": [
    " 🌊📝 **EJERCICIO** 🌊📝\n",
    "\n",
    "Ampliemos el ejercicio anterior del chico que quiere entrar en la discoteca:\n",
    "\n",
    "- Si su edad es mayor que 18 le dejamos pasar.\n",
    "\n",
    "\n",
    "- Si su edad es menor que 18 le recomendamos ir a una discoteca light.\n",
    "\n",
    "\n",
    "- Si su edad es menor que 18 y menor menor que 10 le decimos que se vaya a casa."
   ]
  },
  {
   "cell_type": "code",
   "execution_count": 77,
   "id": "f890d192",
   "metadata": {},
   "outputs": [
    {
     "name": "stdout",
     "output_type": "stream",
     "text": [
      "p'adentro, crack\n"
     ]
    }
   ],
   "source": [
    "# preguntamos que edad tienes\n",
    "# preguntamos que edad tiene el usuario\n",
    "edad = int(input(\"cuantos años tienes fiera: \"))\n",
    "if edad >= 18:\n",
    "    print(\"p'adentro, crack\")\n",
    "elif edad >= 10 :\n",
    "    print(\"a la disco light, máquina\")\n",
    "else:\n",
    "    print(\"a beber colacao, mastodonte\")"
   ]
  },
  {
   "cell_type": "code",
   "execution_count": null,
   "id": "cc91b8b3",
   "metadata": {},
   "outputs": [],
   "source": []
  },
  {
   "cell_type": "markdown",
   "id": "e5d597d4",
   "metadata": {},
   "source": [
    "## if ... elif ... else"
   ]
  },
  {
   "cell_type": "markdown",
   "id": "acc8c6f0",
   "metadata": {},
   "source": [
    "La palabra clave `elif` puede pensarse como else if, la usamos si queremos una división más clara entre if y else. La sentencia `elif` de Python permite realizar comprobaciones continuas después de una sentencia if inicial. Una sentencia elif se diferencia de la sentencia else porque se proporciona otra expresión para ser comprobada, al igual que con la sentencia if inicial."
   ]
  },
  {
   "cell_type": "markdown",
   "id": "2f0812b7",
   "metadata": {},
   "source": [
    "![else](https://github.com/Ironhack-Data-Madrid-PartTime-Oct22/imagenes/blob/master/semana-2/python_if_elif_else_statement_flow_chart.png?raw=true)"
   ]
  },
  {
   "cell_type": "code",
   "execution_count": 43,
   "id": "20220967",
   "metadata": {},
   "outputs": [],
   "source": [
    "# preguntamos la temperatura\n",
    "temp3 = float(input(\"dime la temperatura:\"))"
   ]
  },
  {
   "cell_type": "code",
   "execution_count": 46,
   "id": "f5fe810e",
   "metadata": {},
   "outputs": [
    {
     "name": "stdout",
     "output_type": "stream",
     "text": [
      "que agustito 😁, la temperatura es 20.0\n"
     ]
    }
   ],
   "source": [
    "# creamos el if, elif, else\n",
    "if temp3 > 15: ##si es 20, imprime solo el primer valor\n",
    "    print(f\"que agustito 😁, la temperatura es {temp3}\")\n",
    "elif temp3 > 2: ## si es menor que 15, entra por aquí\n",
    "    print(f\"buff empeaza a hacer frío 😑, la temperatura es {temp3}\")\n",
    "else: ## si es menor que 2, ya pasa por aquí\n",
    "    print(f\"eeeeeh que puto frío 🥶, la temperatura es de {temp3}\")"
   ]
  },
  {
   "cell_type": "markdown",
   "id": "d0c25f80",
   "metadata": {},
   "source": [
    "🌊📝 **EJERCICIO** 🌊📝\n",
    "\n",
    "Mejoremos el código del chico que quiere entrar a la discoteca. Haz el mismo programa pero esta vez con `if`, `elif` y `else`"
   ]
  },
  {
   "cell_type": "code",
   "execution_count": null,
   "id": "a214dc96",
   "metadata": {},
   "outputs": [],
   "source": []
  },
  {
   "cell_type": "code",
   "execution_count": null,
   "id": "a0167145",
   "metadata": {},
   "outputs": [],
   "source": []
  },
  {
   "cell_type": "code",
   "execution_count": null,
   "id": "24cc4ddc",
   "metadata": {},
   "outputs": [],
   "source": [
    "# nos permite saber el nombre de las variables que están definidas en este jupyter\n",
    "%who"
   ]
  },
  {
   "cell_type": "markdown",
   "id": "19290f9e",
   "metadata": {},
   "source": [
    "# Loops"
   ]
  },
  {
   "cell_type": "markdown",
   "id": "63412e32",
   "metadata": {},
   "source": [
    "O a menudo denominadas sentencias de repetición, se utilizan para repetir un bloque de instrucciones. En Python, hay dos tipos de bucles:\n",
    "- bucles `for`\n",
    "\n",
    "\n",
    "- bucles `while`"
   ]
  },
  {
   "cell_type": "markdown",
   "id": "3010a917",
   "metadata": {},
   "source": [
    "## `for` loops"
   ]
  },
  {
   "cell_type": "markdown",
   "id": "9044c952",
   "metadata": {},
   "source": [
    "Los bucles `for` se utilizan cuando iteramos sobre una secuencia de datos, es decir, una lista, tupla, diccionario, *string*, etc. Se utilizan cuando iteramos por un número conocido (o deseado) de veces, ya que sabemos cuántos elementos hay en una elemento. \n",
    "\n",
    "Las palabras clave para aplicar un bucle for son `for` y `in`."
   ]
  },
  {
   "cell_type": "markdown",
   "id": "af4de08c",
   "metadata": {},
   "source": [
    "![for](https://raw.githubusercontent.com/Ironhack-Data-Madrid-PartTime-Oct22/imagenes/94f0051b8ebc9ef516092f4222745eb3fb36ab02/semana-2/python-for-loop.svg)"
   ]
  },
  {
   "cell_type": "code",
   "execution_count": 48,
   "id": "7e28f17f",
   "metadata": {},
   "outputs": [],
   "source": [
    "ciudades = ['Madrid', 'Paris', 'Varsovia', 'Londres', 'Barcelona', 'Casablanca', 'Berlin', 'Kenia', 'Zaragoza', 'Metz', 'Roma', 'Tokio' ]"
   ]
  },
  {
   "cell_type": "code",
   "execution_count": 51,
   "id": "48386a9d",
   "metadata": {},
   "outputs": [
    {
     "name": "stdout",
     "output_type": "stream",
     "text": [
      "he estado en esta ciudad: Madrid y su longitud es 6\n",
      "Madrid\n",
      "he estado en esta ciudad: Paris y su longitud es 5\n",
      "Paris\n",
      "he estado en esta ciudad: Varsovia y su longitud es 8\n",
      "Varsovia\n",
      "he estado en esta ciudad: Londres y su longitud es 7\n",
      "Londres\n",
      "he estado en esta ciudad: Barcelona y su longitud es 9\n",
      "Barcelona\n",
      "he estado en esta ciudad: Casablanca y su longitud es 10\n",
      "Casablanca\n",
      "he estado en esta ciudad: Berlin y su longitud es 6\n",
      "Berlin\n",
      "he estado en esta ciudad: Kenia y su longitud es 5\n",
      "Kenia\n",
      "he estado en esta ciudad: Zaragoza y su longitud es 8\n",
      "Zaragoza\n",
      "he estado en esta ciudad: Metz y su longitud es 4\n",
      "Metz\n",
      "he estado en esta ciudad: Roma y su longitud es 4\n",
      "Roma\n",
      "he estado en esta ciudad: Tokio y su longitud es 5\n",
      "Tokio\n"
     ]
    }
   ],
   "source": [
    "for ciudad in ciudades:\n",
    "    print(f\"he estado en esta ciudad: {ciudad} y su longitud es\", len(ciudad))\n",
    "    print(ciudad)"
   ]
  },
  {
   "cell_type": "code",
   "execution_count": 54,
   "id": "341d7e55",
   "metadata": {},
   "outputs": [
    {
     "name": "stdout",
     "output_type": "stream",
     "text": [
      "Madrid es una ciudad chiquita\n",
      "Paris es una ciudad chiquita\n",
      "Varsovia es una ciudad grande\n",
      "Londres es una ciudad grande\n",
      "Barcelona es una ciudad grande\n",
      "Casablanca es una ciudad grande\n",
      "Berlin es una ciudad chiquita\n",
      "Kenia es una ciudad chiquita\n",
      "Zaragoza es una ciudad grande\n",
      "Metz es una ciudad chiquita\n",
      "Roma es una ciudad chiquita\n",
      "Tokio es una ciudad chiquita\n"
     ]
    }
   ],
   "source": [
    "# dentro de un for podemos meter condicionales\n",
    "ciudades_peques = []\n",
    "ciudades_grandes = []\n",
    "for c in ciudades:\n",
    "    if len(c) < 7:\n",
    "        print(f\"{c} es una ciudad chiquita\")\n",
    "        ciudades_peques.append(c)\n",
    "    else:\n",
    "        print(f\"{c} es una ciudad grande\")\n",
    "        ciudades_grandes.append(c)"
   ]
  },
  {
   "cell_type": "code",
   "execution_count": null,
   "id": "3a94827d",
   "metadata": {},
   "outputs": [],
   "source": [
    "# También podemos acceder a cada uno de los elementos de mi lista usando lo índices\n",
    "for i in range(5):\n",
    "    print(i)\n",
    "    print(ciudades[i])"
   ]
  },
  {
   "cell_type": "code",
   "execution_count": 56,
   "id": "9e1745c5",
   "metadata": {},
   "outputs": [],
   "source": [
    "# Como lo haríamos con un diccionario?\n",
    "dict1 = {\"A\":12, \"B\":14, \"C\":25}"
   ]
  },
  {
   "cell_type": "code",
   "execution_count": 62,
   "id": "aeced24d",
   "metadata": {},
   "outputs": [
    {
     "name": "stdout",
     "output_type": "stream",
     "text": [
      "key: A value: 12\n",
      "A ___ 12\n",
      "key: B value: 14\n",
      "B ___ 14\n",
      "key: C value: 25\n",
      "C ___ 25\n"
     ]
    }
   ],
   "source": [
    "#iteramos por el diccionario usando el metodo .items()\n",
    "for key,value in dict1.items():\n",
    "    print(\"key:\", key, \"value:\", value)\n",
    "    print(key, \"___\", value)"
   ]
  },
  {
   "cell_type": "code",
   "execution_count": 64,
   "id": "fee1be35",
   "metadata": {},
   "outputs": [
    {
     "name": "stdout",
     "output_type": "stream",
     "text": [
      "A ___ 25\n",
      "B ___ 25\n",
      "C ___ 25\n"
     ]
    }
   ],
   "source": [
    "for key in dict1:\n",
    "    print(key, \"___\", value)\n",
    "# ojo! Si no le añadimos el .items() nos dara error si le pasamos dos itereables en el for   "
   ]
  },
  {
   "cell_type": "code",
   "execution_count": 65,
   "id": "abe9b0aa",
   "metadata": {},
   "outputs": [
    {
     "name": "stdout",
     "output_type": "stream",
     "text": [
      "A\n",
      "B\n",
      "C\n"
     ]
    }
   ],
   "source": [
    "# si no especificamos nada, por defecto python itera por las keys del diccionario\n",
    "for i in dict1:\n",
    "    print(i)"
   ]
  },
  {
   "cell_type": "code",
   "execution_count": 69,
   "id": "347be905",
   "metadata": {},
   "outputs": [
    {
     "name": "stdout",
     "output_type": "stream",
     "text": [
      "A te quedas fuera\n",
      "B te quedas fuera\n"
     ]
    },
    {
     "data": {
      "text/plain": [
       "['A', 'B']"
      ]
     },
     "execution_count": 69,
     "metadata": {},
     "output_type": "execute_result"
    }
   ],
   "source": [
    "menor = []\n",
    "for  nombre, edad in dict1.items():\n",
    "    if edad < 18:\n",
    "        print(f\"{nombre} te quedas fuera\")\n",
    "        menor.append(nombre)\n",
    "menor"
   ]
  },
  {
   "cell_type": "code",
   "execution_count": 71,
   "id": "7ef42095",
   "metadata": {},
   "outputs": [
    {
     "name": "stdout",
     "output_type": "stream",
     "text": [
      "A te quedas fuera\n",
      "B te quedas fuera\n"
     ]
    },
    {
     "data": {
      "text/plain": [
       "['A', 'B']"
      ]
     },
     "execution_count": 71,
     "metadata": {},
     "output_type": "execute_result"
    }
   ],
   "source": [
    "menor = []\n",
    "for  nombre, edad in dict1.items():\n",
    "    if dict1[nombre] < 18: ##esta es la forma higiénica de hacerlo\n",
    "        \n",
    "        print(f\"{nombre} te quedas fuera\")\n",
    "        menor.append(nombre)\n",
    "menor"
   ]
  },
  {
   "cell_type": "markdown",
   "id": "de005ae9",
   "metadata": {},
   "source": [
    "🌊📝 **EJERCICIO** 🌊📝\n",
    "\n",
    "Escribe un programa que nos chequee si los números de una lista son pares o impares y crea una lista con los pares"
   ]
  },
  {
   "cell_type": "code",
   "execution_count": 70,
   "id": "4d99e152",
   "metadata": {},
   "outputs": [
    {
     "name": "stdout",
     "output_type": "stream",
     "text": [
      "1 es impar\n",
      "2 es par\n",
      "3 es impar\n",
      "4 es par\n",
      "5 es impar\n",
      "6 es par\n",
      "7 es impar\n"
     ]
    }
   ],
   "source": [
    "lista2 = [1,2,3,4,5,6,7]\n",
    "lista_pares =[]\n",
    "\n",
    "for i in lista2:\n",
    "    if (i % 2) == 0:\n",
    "        print(f\"{i} es par\")\n",
    "        lista_pares.append(i)\n",
    "    else:\n",
    "        print(f\"{i} es impar\")"
   ]
  },
  {
   "cell_type": "code",
   "execution_count": null,
   "id": "02d67d55",
   "metadata": {},
   "outputs": [],
   "source": []
  },
  {
   "cell_type": "code",
   "execution_count": null,
   "id": "230ea128",
   "metadata": {},
   "outputs": [],
   "source": []
  },
  {
   "cell_type": "code",
   "execution_count": null,
   "id": "269969ba",
   "metadata": {},
   "outputs": [],
   "source": []
  },
  {
   "cell_type": "markdown",
   "id": "033a5d56",
   "metadata": {},
   "source": [
    "## while "
   ]
  },
  {
   "cell_type": "markdown",
   "id": "4b05046f",
   "metadata": {},
   "source": [
    "En Python, los bucles `while` se utilizan para iterar hasta que se cumpla una determinada condición. Básicamente, el bucle se ejecuta tantas veces como la condición siga siendo True. Cuando el if se convierte en False, el bucle se detiene. \n",
    "\n",
    "NORMALMENTE USAMOS UN `while` cuando no sabemos cuantas veces vamos a tener que ejecutar el bucle."
   ]
  },
  {
   "cell_type": "markdown",
   "id": "785e5440",
   "metadata": {},
   "source": [
    "![while](https://github.com/Ironhack-Data-Madrid-PartTime-Oct22/imagenes/blob/master/semana-2/while_loop_python.png?raw=true)"
   ]
  },
  {
   "cell_type": "code",
   "execution_count": 77,
   "id": "c5fbd2e3",
   "metadata": {
    "scrolled": true
   },
   "outputs": [],
   "source": [
    "dia = int(input(\"dime día: \"))"
   ]
  },
  {
   "cell_type": "code",
   "execution_count": 78,
   "id": "59c8f552",
   "metadata": {},
   "outputs": [
    {
     "name": "stdout",
     "output_type": "stream",
     "text": [
      "2\n",
      "3\n",
      "______________________________________________-\n",
      "3\n",
      "4\n",
      "______________________________________________-\n",
      "4\n",
      "5\n",
      "______________________________________________-\n",
      "5\n",
      "6\n",
      "______________________________________________-\n",
      "6\n",
      "7\n",
      "______________________________________________-\n",
      "7\n",
      "8\n",
      "______________________________________________-\n",
      "8\n",
      "9\n",
      "______________________________________________-\n",
      "9\n",
      "10\n",
      "______________________________________________-\n",
      "10\n",
      "11\n",
      "______________________________________________-\n",
      "11\n",
      "12\n",
      "______________________________________________-\n",
      "12\n",
      "13\n",
      "______________________________________________-\n",
      "13\n",
      "14\n",
      "______________________________________________-\n",
      "14\n",
      "15\n",
      "______________________________________________-\n",
      "15\n",
      "16\n",
      "______________________________________________-\n",
      "16\n",
      "17\n",
      "______________________________________________-\n",
      "17\n",
      "18\n",
      "______________________________________________-\n",
      "18\n",
      "19\n",
      "______________________________________________-\n",
      "19\n",
      "20\n",
      "______________________________________________-\n",
      "20\n",
      "21\n",
      "______________________________________________-\n",
      "21\n",
      "22\n",
      "______________________________________________-\n",
      "22\n",
      "23\n",
      "______________________________________________-\n",
      "23\n",
      "24\n",
      "______________________________________________-\n",
      "24\n",
      "25\n",
      "______________________________________________-\n",
      "25\n",
      "26\n",
      "______________________________________________-\n",
      "26\n",
      "27\n",
      "______________________________________________-\n",
      "27\n",
      "28\n",
      "______________________________________________-\n",
      "28\n",
      "29\n",
      "______________________________________________-\n",
      "29\n",
      "30\n",
      "______________________________________________-\n"
     ]
    }
   ],
   "source": [
    "while dia < 30:\n",
    "    print(dia) ## cuidado con los whiles, hay que ponerle un criterio de parado\n",
    "    dia += 1\n",
    "    print(dia)\n",
    "    print(\"______________________________________________-\")"
   ]
  },
  {
   "cell_type": "code",
   "execution_count": 3,
   "id": "0ccb4bf4",
   "metadata": {},
   "outputs": [
    {
     "name": "stdout",
     "output_type": "stream",
     "text": [
      "perfecto, el 👑 es mi padre, elegiste a\n",
      "perfecto, el 👑 es mi padre, elegiste b\n",
      "perfecto, el 👑 es mi padre, elegiste c\n",
      "se fue a la puta en x\n"
     ]
    }
   ],
   "source": [
    "opcion = True\n",
    "\n",
    "while opcion == True:\n",
    "    seleccion = input(\"introduce una letra 'a', 'b', 'c': \")\n",
    "    if seleccion == 'a':\n",
    "        print(f\"perfecto, el 👑 es mi padre, elegiste {seleccion}\")\n",
    "    elif seleccion == 'b':\n",
    "        print(f\"perfecto, el 👑 es mi padre, elegiste {seleccion}\")\n",
    "    elif seleccion == 'c':\n",
    "        print(f\"perfecto, el 👑 es mi padre, elegiste {seleccion}\")\n",
    "    else:\n",
    "        opcion = False\n",
    "        print(f\"se fue a la puta en {seleccion}\")"
   ]
  },
  {
   "cell_type": "markdown",
   "id": "c0cf7736",
   "metadata": {},
   "source": [
    "📌 El primer ejercicio del caracol se podía solucionar con un while"
   ]
  },
  {
   "cell_type": "markdown",
   "id": "0c80889d",
   "metadata": {},
   "source": [
    "# Control de los Loops"
   ]
  },
  {
   "cell_type": "markdown",
   "id": "f52752dc",
   "metadata": {},
   "source": [
    "Las sentencias `break` y `continue` nos ayudan a afinar nuestros bucles y su ejecución.\n",
    "\n",
    "- `break`:  rompe el bucle por completo\n",
    "\n",
    "\n",
    "- `pass`: no ejecuta el código que hay dentro de la condición\n",
    "\n",
    "\n",
    "- `continue` salta el resto del bucle actual y pasa a la siguiente iteración\n",
    "\n",
    "\n",
    "🚨 Ambas pueden utilizarse tanto en los bucles for como en los while."
   ]
  },
  {
   "cell_type": "markdown",
   "id": "13e704ba",
   "metadata": {},
   "source": [
    "## break "
   ]
  },
  {
   "cell_type": "markdown",
   "id": "1fa4a482",
   "metadata": {},
   "source": [
    "`break` se utiliza en situaciones en las que queremos salir del bucle, incluso si la condición no se ha convertido en False o hemos iterado sobre toda la secuencia. Además, si se utiliza break, no se ejecutan los siguientes bloques else."
   ]
  },
  {
   "cell_type": "code",
   "execution_count": 5,
   "id": "9b2dc9e7",
   "metadata": {},
   "outputs": [
    {
     "name": "stdout",
     "output_type": "stream",
     "text": [
      "defenestrate contiene la letra e\n"
     ]
    }
   ],
   "source": [
    "words = ['cat', 'window', 'defenestrate', 'car', 'arrow', 'hello']\n",
    "for i in words:\n",
    "    if 'e' in i:\n",
    "        print(f\"{i} contiene la letra e\") ## queremos que pare la función cuando cumpla la condición\n",
    "        break"
   ]
  },
  {
   "cell_type": "code",
   "execution_count": 7,
   "id": "0bc0c42f",
   "metadata": {},
   "outputs": [
    {
     "name": "stdout",
     "output_type": "stream",
     "text": [
      "cat es la palabra, puedo seguir\n",
      "window es la palabra, puedo seguir\n"
     ]
    }
   ],
   "source": [
    "for i in words:\n",
    "    if \"e\" in i:\n",
    "        break\n",
    "    else:\n",
    "        print(f\"{i} es la palabra, puedo seguir\")"
   ]
  },
  {
   "cell_type": "markdown",
   "id": "b34de063",
   "metadata": {},
   "source": [
    "## pass"
   ]
  },
  {
   "cell_type": "markdown",
   "id": "f5f24f7b",
   "metadata": {},
   "source": [
    "`pass` no hace nada. Puede utilizarse cuando se requiere una sentencia sintáctica pero el programa no requiere ninguna acción (de los docs)"
   ]
  },
  {
   "cell_type": "code",
   "execution_count": 8,
   "id": "4ebae040",
   "metadata": {},
   "outputs": [],
   "source": [
    "list_of_names = ['Mario','Alice', 'Bob', 'Jack', 'Mary', 'Manuel', 'Amanda', 'Ignacio', 'Fernando']"
   ]
  },
  {
   "cell_type": "code",
   "execution_count": 11,
   "id": "7145f935",
   "metadata": {},
   "outputs": [
    {
     "name": "stdout",
     "output_type": "stream",
     "text": [
      "Alice es mi mejor amigue\n",
      "Jack es mi mejor amigue\n",
      "Mary es mi mejor amigue\n",
      "Manuel es mi mejor amigue\n",
      "Amanda es mi mejor amigue\n"
     ]
    }
   ],
   "source": [
    "for name in list_of_names:\n",
    "    if \"o\" in name:\n",
    "        pass\n",
    "    else:\n",
    "        print(f\"{name} es mi mejor amigue\")"
   ]
  },
  {
   "cell_type": "markdown",
   "id": "ca47ba5a",
   "metadata": {},
   "source": [
    "# Algunos métodos interesantes"
   ]
  },
  {
   "cell_type": "code",
   "execution_count": 12,
   "id": "87679b68",
   "metadata": {},
   "outputs": [],
   "source": [
    "x=range(1,11)"
   ]
  },
  {
   "cell_type": "code",
   "execution_count": 13,
   "id": "15ed7e9a",
   "metadata": {},
   "outputs": [
    {
     "name": "stdout",
     "output_type": "stream",
     "text": [
      "1\n",
      "2\n",
      "3\n",
      "4\n",
      "5\n",
      "6\n",
      "7\n",
      "8\n",
      "9\n",
      "10\n"
     ]
    }
   ],
   "source": [
    "for i in x:\n",
    "    print(i)"
   ]
  },
  {
   "cell_type": "code",
   "execution_count": 15,
   "id": "095ef242",
   "metadata": {},
   "outputs": [],
   "source": [
    "y = range(10, 50, 2)"
   ]
  },
  {
   "cell_type": "code",
   "execution_count": 16,
   "id": "b387c5b7",
   "metadata": {},
   "outputs": [
    {
     "name": "stdout",
     "output_type": "stream",
     "text": [
      "10\n",
      "12\n",
      "14\n",
      "16\n",
      "18\n",
      "20\n",
      "22\n",
      "24\n",
      "26\n",
      "28\n",
      "30\n",
      "32\n",
      "34\n",
      "36\n",
      "38\n",
      "40\n",
      "42\n",
      "44\n",
      "46\n",
      "48\n"
     ]
    }
   ],
   "source": [
    "for i in y:\n",
    "    print(i)"
   ]
  },
  {
   "cell_type": "markdown",
   "id": "e4988662",
   "metadata": {},
   "source": [
    "📝Escribe un programa que nos devuelva todos los numeros menores que 100 y que sean multiplos de 3 Y 6"
   ]
  },
  {
   "cell_type": "code",
   "execution_count": 18,
   "id": "dda32f03",
   "metadata": {},
   "outputs": [
    {
     "name": "stdout",
     "output_type": "stream",
     "text": [
      "el número 0 cumple las condiciones\n",
      "el número 15 cumple las condiciones\n",
      "el número 30 cumple las condiciones\n",
      "el número 45 cumple las condiciones\n",
      "el número 60 cumple las condiciones\n",
      "el número 75 cumple las condiciones\n",
      "el número 90 cumple las condiciones\n"
     ]
    }
   ],
   "source": [
    "for i in range(101):\n",
    "    if (i % 3) == 0 and (i % 5) == 0:\n",
    "        print(f\"el número {i} cumple las condiciones\")"
   ]
  },
  {
   "cell_type": "markdown",
   "id": "1847e8b0",
   "metadata": {},
   "source": [
    "`enumerate`: añade un contador en el elemento que estamos iterando"
   ]
  },
  {
   "cell_type": "code",
   "execution_count": 28,
   "id": "abe6e2be",
   "metadata": {},
   "outputs": [],
   "source": [
    "fruits = ['apple', 'banana', 'cherry']"
   ]
  },
  {
   "cell_type": "code",
   "execution_count": 20,
   "id": "23b6214e",
   "metadata": {},
   "outputs": [
    {
     "data": {
      "text/plain": [
       "enumerate"
      ]
     },
     "execution_count": 20,
     "metadata": {},
     "output_type": "execute_result"
    }
   ],
   "source": [
    "type(enumerate(fruits))"
   ]
  },
  {
   "cell_type": "code",
   "execution_count": 29,
   "id": "66d18145",
   "metadata": {},
   "outputs": [
    {
     "name": "stdout",
     "output_type": "stream",
     "text": [
      "0 -----> apple\n",
      "1 -----> banana\n",
      "2 -----> cherry\n"
     ]
    }
   ],
   "source": [
    "for i, fruit in enumerate(fruits): ### para sacar los índices y enumerar los elementos de la función -- el objeto enumerate te saca los índices\n",
    "    print(i, '----->', fruit)"
   ]
  },
  {
   "cell_type": "markdown",
   "id": "cba07406",
   "metadata": {},
   "source": [
    "`zip`: empaqueta los elementos de las listas que queremos en una tupla"
   ]
  },
  {
   "cell_type": "code",
   "execution_count": 30,
   "id": "ecac78dc",
   "metadata": {},
   "outputs": [],
   "source": [
    "nombres = ['Laura', 'Marta', 'Rocio']\n",
    "apellidos = ['López', 'Casas', 'Pérez']"
   ]
  },
  {
   "cell_type": "code",
   "execution_count": 32,
   "id": "0914534e",
   "metadata": {},
   "outputs": [
    {
     "name": "stdout",
     "output_type": "stream",
     "text": [
      "('Laura', 'López')\n",
      "('Marta', 'Casas')\n",
      "('Rocio', 'Pérez')\n"
     ]
    }
   ],
   "source": [
    "for i in zip(nombres, apellidos):\n",
    "    print(i)"
   ]
  },
  {
   "cell_type": "code",
   "execution_count": 33,
   "id": "b391cc11",
   "metadata": {},
   "outputs": [],
   "source": [
    "nombres = ['Laura', 'Marta', 'Rocio']\n",
    "apellidos = ['López', 'Casas',]"
   ]
  },
  {
   "cell_type": "code",
   "execution_count": 34,
   "id": "f829bbd2",
   "metadata": {},
   "outputs": [
    {
     "name": "stdout",
     "output_type": "stream",
     "text": [
      "('Laura', 'López')\n",
      "('Marta', 'Casas')\n"
     ]
    }
   ],
   "source": [
    "for i in zip(nombres, apellidos): ##si no tiene la misma dimensión ,se queda por el camino\n",
    "    print(i)"
   ]
  },
  {
   "cell_type": "code",
   "execution_count": 35,
   "id": "b3b2ff61",
   "metadata": {},
   "outputs": [],
   "source": [
    "nombres = ['Laura', 'Marta', 'Rocio']\n",
    "anos = [1929,1930,1950, 1915]\n",
    "bodas = [1967, 1968, 1975, 1980]"
   ]
  },
  {
   "cell_type": "code",
   "execution_count": 36,
   "id": "4f591ce1",
   "metadata": {},
   "outputs": [
    {
     "name": "stdout",
     "output_type": "stream",
     "text": [
      "('Laura', 1967, 1929)\n",
      "('Marta', 1968, 1930)\n",
      "('Rocio', 1975, 1950)\n"
     ]
    }
   ],
   "source": [
    "for i in zip(nombres, bodas, anos): ##si no tiene la misma dimensión ,se queda por el camino\n",
    "    print(i)"
   ]
  },
  {
   "cell_type": "code",
   "execution_count": 41,
   "id": "bc1f6590",
   "metadata": {},
   "outputs": [
    {
     "name": "stdout",
     "output_type": "stream",
     "text": [
      "Laura : se caso con 38 años\n",
      "Marta : se caso con 38 años\n",
      "Rocio : se caso con 25 años\n"
     ]
    }
   ],
   "source": [
    "for nombre, ano, boda in zip(nombres, anos, bodas): ##si no tiene la misma dimensión ,se queda por el camino\n",
    "    print(nombre, \": se caso con\", boda - ano, \"años\")"
   ]
  }
 ],
 "metadata": {
  "kernelspec": {
   "display_name": "Python 3.9.13 ('iron')",
   "language": "python",
   "name": "python3"
  },
  "language_info": {
   "codemirror_mode": {
    "name": "ipython",
    "version": 3
   },
   "file_extension": ".py",
   "mimetype": "text/x-python",
   "name": "python",
   "nbconvert_exporter": "python",
   "pygments_lexer": "ipython3",
   "version": "3.9.13"
  },
  "toc": {
   "base_numbering": 1,
   "nav_menu": {},
   "number_sections": true,
   "sideBar": true,
   "skip_h1_title": false,
   "title_cell": "Table of Contents",
   "title_sidebar": "Contents",
   "toc_cell": true,
   "toc_position": {},
   "toc_section_display": true,
   "toc_window_display": false
  },
  "varInspector": {
   "cols": {
    "lenName": 16,
    "lenType": 16,
    "lenVar": 40
   },
   "kernels_config": {
    "python": {
     "delete_cmd_postfix": "",
     "delete_cmd_prefix": "del ",
     "library": "var_list.py",
     "varRefreshCmd": "print(var_dic_list())"
    },
    "r": {
     "delete_cmd_postfix": ") ",
     "delete_cmd_prefix": "rm(",
     "library": "var_list.r",
     "varRefreshCmd": "cat(var_dic_list()) "
    }
   },
   "types_to_exclude": [
    "module",
    "function",
    "builtin_function_or_method",
    "instance",
    "_Feature"
   ],
   "window_display": false
  },
  "vscode": {
   "interpreter": {
    "hash": "e59d0b279e6461be5b4ea7b62838527cd8f41f3cbc9a1147b1a83b32d75ab689"
   }
  }
 },
 "nbformat": 4,
 "nbformat_minor": 5
}
