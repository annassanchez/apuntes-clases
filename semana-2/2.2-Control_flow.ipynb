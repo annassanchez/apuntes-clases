{
 "cells": [
  {
   "cell_type": "markdown",
   "id": "6c872390",
   "metadata": {
    "toc": true
   },
   "source": [
    "<h1>Table of Contents<span class=\"tocSkip\"></span></h1>\n",
    "<div class=\"toc\"><ul class=\"toc-item\"><li><span><a href=\"#¿Qué-es-el-control-flow?\" data-toc-modified-id=\"¿Qué-es-el-control-flow?-1\"><span class=\"toc-item-num\">1&nbsp;&nbsp;</span>¿Qué es el control flow?</a></span><ul class=\"toc-item\"><li><span><a href=\"#¿Qué-es-el-pseudo-codigo?\" data-toc-modified-id=\"¿Qué-es-el-pseudo-codigo?-1.1\"><span class=\"toc-item-num\">1.1&nbsp;&nbsp;</span>¿Qué es el pseudo-codigo?</a></span></li></ul></li><li><span><a href=\"#Condicionales\" data-toc-modified-id=\"Condicionales-2\"><span class=\"toc-item-num\">2&nbsp;&nbsp;</span>Condicionales</a></span><ul class=\"toc-item\"><li><span><a href=\"#if\" data-toc-modified-id=\"if-2.1\"><span class=\"toc-item-num\">2.1&nbsp;&nbsp;</span>if</a></span></li><li><span><a href=\"#if-...-else\" data-toc-modified-id=\"if-...-else-2.2\"><span class=\"toc-item-num\">2.2&nbsp;&nbsp;</span>if ... else</a></span></li><li><span><a href=\"#if-anidados\" data-toc-modified-id=\"if-anidados-2.3\"><span class=\"toc-item-num\">2.3&nbsp;&nbsp;</span>if anidados</a></span></li><li><span><a href=\"#if-...-elif-...-else\" data-toc-modified-id=\"if-...-elif-...-else-2.4\"><span class=\"toc-item-num\">2.4&nbsp;&nbsp;</span>if ... elif ... else</a></span></li></ul></li><li><span><a href=\"#Loops\" data-toc-modified-id=\"Loops-3\"><span class=\"toc-item-num\">3&nbsp;&nbsp;</span>Loops</a></span><ul class=\"toc-item\"><li><span><a href=\"#for-loops\" data-toc-modified-id=\"for-loops-3.1\"><span class=\"toc-item-num\">3.1&nbsp;&nbsp;</span><code>for</code> loops</a></span></li><li><span><a href=\"#while\" data-toc-modified-id=\"while-3.2\"><span class=\"toc-item-num\">3.2&nbsp;&nbsp;</span>while</a></span></li></ul></li><li><span><a href=\"#Control-de-los-Loops\" data-toc-modified-id=\"Control-de-los-Loops-4\"><span class=\"toc-item-num\">4&nbsp;&nbsp;</span>Control de los Loops</a></span><ul class=\"toc-item\"><li><span><a href=\"#break\" data-toc-modified-id=\"break-4.1\"><span class=\"toc-item-num\">4.1&nbsp;&nbsp;</span>break</a></span></li><li><span><a href=\"#pass\" data-toc-modified-id=\"pass-4.2\"><span class=\"toc-item-num\">4.2&nbsp;&nbsp;</span>pass</a></span></li></ul></li><li><span><a href=\"#Algunos-métodos-interesantes\" data-toc-modified-id=\"Algunos-métodos-interesantes-5\"><span class=\"toc-item-num\">5&nbsp;&nbsp;</span>Algunos métodos interesantes</a></span></li></ul></div>"
   ]
  },
  {
   "cell_type": "markdown",
   "id": "1afc2050",
   "metadata": {},
   "source": [
    "# ¿Qué es el control flow? "
   ]
  },
  {
   "cell_type": "markdown",
   "id": "94ef535a",
   "metadata": {},
   "source": [
    "Es el orden en que se ejecutan ciertas operaciones, es decir usando el control de flujo estamos controlando la ejecución de nuestro código. \n",
    "\n",
    "Pongamos un ejemplo sencillo, digamos que queremos medir la temperatura del aire en el exterior. ¿Qué tenemos que hacer? \n",
    "\n",
    "1️⃣ Cogemos el termómetro,   \n",
    "2️⃣ Abrimos la puerta,   \n",
    "3️⃣ Salimos al exterior,   \n",
    "4️⃣ Cerramos la puerta,   \n",
    "5️⃣ Buscamos un lugar a la sombra,   \n",
    "6️⃣ Medimos la temperatura y   \n",
    "7️⃣ La anotamos. "
   ]
  },
  {
   "cell_type": "markdown",
   "id": "b7a85276",
   "metadata": {},
   "source": [
    "Pyhton tiene 3 estructuras de control de flujo:\n",
    "\n",
    "- Condicionales:\n",
    "    ```python\n",
    "    - if \n",
    "    - if ... else ...\n",
    "    - if ... elif ... else\n",
    "    ```\n",
    "- *Loops*: \n",
    "    ```python\n",
    "    - for\n",
    "    - while\n",
    "    ```\n",
    "\n",
    "- Control de los *loops* con *break* y *continue* \n",
    "    ```python\n",
    "    - break\n",
    "    - continue\n",
    "    ```"
   ]
  },
  {
   "cell_type": "markdown",
   "id": "f6b5d034",
   "metadata": {},
   "source": [
    "## ¿Qué es el pseudo-codigo? "
   ]
  },
  {
   "cell_type": "markdown",
   "id": "99dd543f",
   "metadata": {},
   "source": [
    "El pseudocódigo es una forma de expresar los distintos pasos que va a realizar un programa, de la forma más parecida a un lenguaje de programación. Su principal función es la de representar por pasos la solución a un problema o algoritmo, de la forma más detallada posible, normalmente usamos comentarios nuestros. "
   ]
  },
  {
   "cell_type": "code",
   "execution_count": null,
   "id": "b70da353",
   "metadata": {},
   "outputs": [],
   "source": [
    "\"\"\"\n",
    "Las triples comillas para\n",
    "escribir el múltiples líneas\n",
    "\"\"\"\n",
    "\n",
    "# para escribir comentarios de una sola línea"
   ]
  },
  {
   "cell_type": "markdown",
   "id": "b6482e58",
   "metadata": {},
   "source": [
    "Imaginemos que nos mandan el siguiente ejercicio: "
   ]
  },
  {
   "cell_type": "markdown",
   "id": "7c6f8402",
   "metadata": {},
   "source": [
    "Le preguntamos al usuario que nos diga un número. \n",
    "Chequeamos que esta dentro de una lista dada. \n",
    "\n",
    "Peeeero... no sabemos por donde empezar a picar código 🤯. En este caso usaremos el pseudocódigo: "
   ]
  },
  {
   "cell_type": "code",
   "execution_count": null,
   "id": "9fcb50e1",
   "metadata": {},
   "outputs": [],
   "source": [
    "'''\n",
    "crear una lista de los números que me interesan\n",
    "necesito el input del usuario\n",
    "tengo que establecer una condición usando un if con un operador in\n",
    "'''"
   ]
  },
  {
   "cell_type": "markdown",
   "id": "a78c5ba2",
   "metadata": {},
   "source": [
    "# Condicionales "
   ]
  },
  {
   "cell_type": "markdown",
   "id": "b25f0a19",
   "metadata": {},
   "source": [
    "Las sentencias condicionales, o a menudo llamadas sentencias if-then, nos permiten ejecutar un trozo de código dependiendo de alguna condición (condición booleana).\n",
    "Las sentencias condicionales en Python son:\n",
    "\n",
    "- `if`\n",
    "\n",
    "\n",
    "- `if-else`\n",
    "\n",
    "\n",
    "- `if anidado`\n",
    "\n",
    "\n",
    "- `if-elif-else`\n",
    "\n",
    "\n",
    "📌 Las palabras clave para aplicar una sentencia condicional son if, elif, else y dos puntos (:). Es importante aplicar una sangría a la nueva línea después de los dos puntos."
   ]
  },
  {
   "cell_type": "markdown",
   "id": "bef6a79c",
   "metadata": {},
   "source": [
    "## if"
   ]
  },
  {
   "cell_type": "markdown",
   "id": "17966491",
   "metadata": {},
   "source": [
    "Si la condición `if` se evalúa como True, entonces se ejecuta el código indentado que sigue a la sentencia.\n",
    "\n",
    "Si la expresión evalúa a Falso, entonces el código indentado que sigue a la sentencia `if` se salta y el programa ejecuta la siguiente línea de código que está indentada al mismo nivel que la sentencia `if`.\n",
    "\n"
   ]
  },
  {
   "cell_type": "markdown",
   "id": "9e816c2b",
   "metadata": {},
   "source": [
    "![if](https://github.com/Ironhack-Data-Madrid-PartTime-Oct22/imagenes/blob/master/semana-2/if-python-schema.gif?raw=true)"
   ]
  },
  {
   "cell_type": "code",
   "execution_count": null,
   "id": "6b88968f",
   "metadata": {},
   "outputs": [],
   "source": []
  },
  {
   "cell_type": "code",
   "execution_count": null,
   "id": "c669a8ee",
   "metadata": {},
   "outputs": [],
   "source": [
    "# esto es lo mismo que lo anterior\n"
   ]
  },
  {
   "cell_type": "code",
   "execution_count": null,
   "id": "46cb67a4",
   "metadata": {
    "scrolled": true
   },
   "outputs": [],
   "source": []
  },
  {
   "cell_type": "code",
   "execution_count": null,
   "id": "6f10b091",
   "metadata": {},
   "outputs": [],
   "source": []
  },
  {
   "cell_type": "code",
   "execution_count": null,
   "id": "c312167f",
   "metadata": {},
   "outputs": [],
   "source": [
    "# pero que pasa si la condición no se cumple?\n"
   ]
  },
  {
   "cell_type": "markdown",
   "id": "29e2fbc1",
   "metadata": {},
   "source": [
    "En el control flow también podemos incluir varias condiciones"
   ]
  },
  {
   "cell_type": "code",
   "execution_count": null,
   "id": "71be95e2",
   "metadata": {
    "scrolled": true
   },
   "outputs": [],
   "source": []
  },
  {
   "cell_type": "code",
   "execution_count": null,
   "id": "4a665575",
   "metadata": {},
   "outputs": [],
   "source": []
  },
  {
   "cell_type": "code",
   "execution_count": null,
   "id": "e2ff6620",
   "metadata": {},
   "outputs": [],
   "source": []
  },
  {
   "cell_type": "code",
   "execution_count": null,
   "id": "b655160d",
   "metadata": {},
   "outputs": [],
   "source": []
  },
  {
   "cell_type": "code",
   "execution_count": null,
   "id": "987ca168",
   "metadata": {},
   "outputs": [],
   "source": [
    "# también lo podemos hacer con listas\n"
   ]
  },
  {
   "cell_type": "markdown",
   "id": "17ad52b6",
   "metadata": {},
   "source": [
    "🌊📝 **EJERCICIO** 🌊📝\n",
    "\n",
    "Escribe un programa que chequee si el usuario nos pasa una letra o un número"
   ]
  },
  {
   "cell_type": "code",
   "execution_count": null,
   "id": "b716e977",
   "metadata": {},
   "outputs": [],
   "source": [
    "import string"
   ]
  },
  {
   "cell_type": "code",
   "execution_count": null,
   "id": "91718c47",
   "metadata": {},
   "outputs": [],
   "source": []
  },
  {
   "cell_type": "code",
   "execution_count": null,
   "id": "94c64841",
   "metadata": {},
   "outputs": [],
   "source": [
    "# preguntamos al usuario que nos pase caracter\n"
   ]
  },
  {
   "cell_type": "code",
   "execution_count": null,
   "id": "08ebef0e",
   "metadata": {},
   "outputs": [],
   "source": [
    "# chequeamos si la opción del usuario es una letra\n"
   ]
  },
  {
   "cell_type": "code",
   "execution_count": null,
   "id": "f7024519",
   "metadata": {},
   "outputs": [],
   "source": [
    "# pero que pasa si nos pasa una mayúscula?\n"
   ]
  },
  {
   "cell_type": "markdown",
   "id": "52237291",
   "metadata": {},
   "source": [
    "## if ... else "
   ]
  },
  {
   "cell_type": "markdown",
   "id": "bc929484",
   "metadata": {},
   "source": [
    "Esta declaración nos permite añadir una segunda posibilidad al código, qué hacer cuando la condición es False (cuando no se cumple la condición)."
   ]
  },
  {
   "cell_type": "markdown",
   "id": "879ffa79",
   "metadata": {},
   "source": [
    "![if-else](https://github.com/Ironhack-Data-Madrid-PartTime-Oct22/imagenes/blob/master/semana-2/python-if-else.png?raw=true)"
   ]
  },
  {
   "cell_type": "code",
   "execution_count": null,
   "id": "42e2c420",
   "metadata": {},
   "outputs": [],
   "source": [
    "# preguntamos que temperatura hace hoy\n"
   ]
  },
  {
   "cell_type": "code",
   "execution_count": null,
   "id": "cc6ca965",
   "metadata": {},
   "outputs": [],
   "source": [
    "# creamos la condición\n"
   ]
  },
  {
   "cell_type": "markdown",
   "id": "2d2c65fd",
   "metadata": {},
   "source": [
    " 🌊📝 **EJERCICIO** 🌊📝\n",
    " \n",
    "Escribe un programa que chequee si una palabra empieza por 'a' o no"
   ]
  },
  {
   "cell_type": "code",
   "execution_count": null,
   "id": "ab662fcd",
   "metadata": {},
   "outputs": [],
   "source": []
  },
  {
   "cell_type": "code",
   "execution_count": null,
   "id": "1fd11e5e",
   "metadata": {},
   "outputs": [],
   "source": []
  },
  {
   "cell_type": "code",
   "execution_count": null,
   "id": "7ecabed6",
   "metadata": {},
   "outputs": [],
   "source": []
  },
  {
   "cell_type": "code",
   "execution_count": null,
   "id": "b1b5e2c6",
   "metadata": {},
   "outputs": [],
   "source": []
  },
  {
   "cell_type": "markdown",
   "id": "ab759e74",
   "metadata": {},
   "source": [
    " 🌊📝 **EJERCICIO** 🌊📝\n",
    "\n",
    "Hagamos un programa que le pregunte al usuario que edad que tiene para saber si puede entrar a la discoteca o no \n",
    "- Si es mayor que 18 le dejamos pasar\n",
    "- Si es menor que 18 le recomendamos ir a una discoteca light"
   ]
  },
  {
   "cell_type": "code",
   "execution_count": null,
   "id": "cd8da90a",
   "metadata": {},
   "outputs": [],
   "source": [
    "# preguntamos que edad tiene el usuario\n"
   ]
  },
  {
   "cell_type": "code",
   "execution_count": null,
   "id": "7dbdca9c",
   "metadata": {
    "scrolled": true
   },
   "outputs": [],
   "source": [
    "# puede entrar en la discoteca?\n"
   ]
  },
  {
   "cell_type": "markdown",
   "id": "80f843f8",
   "metadata": {},
   "source": [
    "##  if anidados"
   ]
  },
  {
   "cell_type": "markdown",
   "id": "b7d6fa4e",
   "metadata": {},
   "source": [
    "Básicamente es una sentencia `if` dentro de otra sentencia `if`. "
   ]
  },
  {
   "cell_type": "markdown",
   "id": "5de41cb5",
   "metadata": {},
   "source": [
    "![anidados](https://github.com/Ironhack-Data-Madrid-PartTime-Oct22/imagenes/blob/master/semana-2/python_nested_if_else_statements_flow_chart.png?raw=true)"
   ]
  },
  {
   "cell_type": "code",
   "execution_count": null,
   "id": "45fd2d75",
   "metadata": {},
   "outputs": [],
   "source": [
    "# preguntamos que temperatura hace hoy\n"
   ]
  },
  {
   "cell_type": "code",
   "execution_count": null,
   "id": "0379fbf7",
   "metadata": {},
   "outputs": [],
   "source": [
    "# nosotros en un if podemos hacer todas las operaciones que queramos.\n",
    "# En este caso estamos haciendo una multiplicación del valor que nos ha pasado el usuario\n"
   ]
  },
  {
   "cell_type": "code",
   "execution_count": null,
   "id": "b7ec377f",
   "metadata": {},
   "outputs": [],
   "source": [
    "# creamos la condición anidad\n"
   ]
  },
  {
   "cell_type": "markdown",
   "id": "e84071d0",
   "metadata": {},
   "source": [
    " 🌊📝 **EJERCICIO** 🌊📝\n",
    "\n",
    "Ampliemos el ejercicio anterior del chico que quiere entrar en la discoteca:\n",
    "\n",
    "- Si su edad es mayor que 18 le dejamos pasar.\n",
    "\n",
    "\n",
    "- Si su edad es menor que 18 le recomendamos ir a una discoteca light.\n",
    "\n",
    "\n",
    "- Si su edad es menor que 18 y menor menor que 10 le decimos que se vaya a casa."
   ]
  },
  {
   "cell_type": "code",
   "execution_count": null,
   "id": "f890d192",
   "metadata": {},
   "outputs": [],
   "source": [
    "# preguntamos que edad tienes\n"
   ]
  },
  {
   "cell_type": "code",
   "execution_count": null,
   "id": "cc91b8b3",
   "metadata": {},
   "outputs": [],
   "source": []
  },
  {
   "cell_type": "markdown",
   "id": "e5d597d4",
   "metadata": {},
   "source": [
    "## if ... elif ... else"
   ]
  },
  {
   "cell_type": "markdown",
   "id": "acc8c6f0",
   "metadata": {},
   "source": [
    "La palabra clave `elif` puede pensarse como else if, la usamos si queremos una división más clara entre if y else. La sentencia `elif` de Python permite realizar comprobaciones continuas después de una sentencia if inicial. Una sentencia elif se diferencia de la sentencia else porque se proporciona otra expresión para ser comprobada, al igual que con la sentencia if inicial."
   ]
  },
  {
   "cell_type": "markdown",
   "id": "2f0812b7",
   "metadata": {},
   "source": [
    "![else](https://github.com/Ironhack-Data-Madrid-PartTime-Oct22/imagenes/blob/master/semana-2/python_if_elif_else_statement_flow_chart.png?raw=true)"
   ]
  },
  {
   "cell_type": "code",
   "execution_count": null,
   "id": "20220967",
   "metadata": {},
   "outputs": [],
   "source": [
    "# preguntamos la temperatura\n"
   ]
  },
  {
   "cell_type": "code",
   "execution_count": null,
   "id": "f5fe810e",
   "metadata": {},
   "outputs": [],
   "source": [
    "# creamos el if, elif, else\n"
   ]
  },
  {
   "cell_type": "markdown",
   "id": "d0c25f80",
   "metadata": {},
   "source": [
    "🌊📝 **EJERCICIO** 🌊📝\n",
    "\n",
    "Mejoremos el código del chico que quiere entrar a la discoteca. Haz el mismo programa pero esta vez con `if`, `elif` y `else`"
   ]
  },
  {
   "cell_type": "code",
   "execution_count": null,
   "id": "a214dc96",
   "metadata": {},
   "outputs": [],
   "source": []
  },
  {
   "cell_type": "code",
   "execution_count": null,
   "id": "a0167145",
   "metadata": {},
   "outputs": [],
   "source": []
  },
  {
   "cell_type": "code",
   "execution_count": null,
   "id": "24cc4ddc",
   "metadata": {},
   "outputs": [],
   "source": [
    "# nos permite saber el nombre de las variables que están definidas en este jupyter\n",
    "%who"
   ]
  },
  {
   "cell_type": "markdown",
   "id": "19290f9e",
   "metadata": {},
   "source": [
    "# Loops"
   ]
  },
  {
   "cell_type": "markdown",
   "id": "63412e32",
   "metadata": {},
   "source": [
    "O a menudo denominadas sentencias de repetición, se utilizan para repetir un bloque de instrucciones. En Python, hay dos tipos de bucles:\n",
    "- bucles `for`\n",
    "\n",
    "\n",
    "- bucles `while`"
   ]
  },
  {
   "cell_type": "markdown",
   "id": "3010a917",
   "metadata": {},
   "source": [
    "## `for` loops"
   ]
  },
  {
   "cell_type": "markdown",
   "id": "9044c952",
   "metadata": {},
   "source": [
    "Los bucles `for` se utilizan cuando iteramos sobre una secuencia de datos, es decir, una lista, tupla, diccionario, *string*, etc. Se utilizan cuando iteramos por un número conocido (o deseado) de veces, ya que sabemos cuántos elementos hay en una elemento. \n",
    "\n",
    "Las palabras clave para aplicar un bucle for son `for` y `in`."
   ]
  },
  {
   "cell_type": "markdown",
   "id": "af4de08c",
   "metadata": {},
   "source": [
    "![for](https://raw.githubusercontent.com/Ironhack-Data-Madrid-PartTime-Oct22/imagenes/94f0051b8ebc9ef516092f4222745eb3fb36ab02/semana-2/python-for-loop.svg)"
   ]
  },
  {
   "cell_type": "code",
   "execution_count": null,
   "id": "7e28f17f",
   "metadata": {},
   "outputs": [],
   "source": [
    "ciudades = ['Madrid', 'Paris', 'Varsovia', 'Londres', 'Barcelona', 'Casablanca', 'Berlin', 'Kenia', 'Zaragoza', 'Metz', 'Roma', 'Tokio' ]"
   ]
  },
  {
   "cell_type": "code",
   "execution_count": null,
   "id": "48386a9d",
   "metadata": {},
   "outputs": [],
   "source": []
  },
  {
   "cell_type": "code",
   "execution_count": null,
   "id": "341d7e55",
   "metadata": {},
   "outputs": [],
   "source": [
    "# dentro de un for podemos meter condicionales\n"
   ]
  },
  {
   "cell_type": "code",
   "execution_count": null,
   "id": "7542f770",
   "metadata": {},
   "outputs": [],
   "source": []
  },
  {
   "cell_type": "code",
   "execution_count": null,
   "id": "e5d59257",
   "metadata": {},
   "outputs": [],
   "source": []
  },
  {
   "cell_type": "code",
   "execution_count": null,
   "id": "3a94827d",
   "metadata": {},
   "outputs": [],
   "source": [
    "# También podemos acceder a cada uno de los elementos de mi lista usando lo índices\n"
   ]
  },
  {
   "cell_type": "code",
   "execution_count": null,
   "id": "9e1745c5",
   "metadata": {},
   "outputs": [],
   "source": [
    "# Como lo haríamos con un diccionario?\n"
   ]
  },
  {
   "cell_type": "code",
   "execution_count": null,
   "id": "aeced24d",
   "metadata": {},
   "outputs": [],
   "source": [
    "#iteramos por el diccionario usando el metodo .items()\n"
   ]
  },
  {
   "cell_type": "code",
   "execution_count": null,
   "id": "fee1be35",
   "metadata": {},
   "outputs": [],
   "source": [
    "\n",
    "# ojo! Si no le añadimos el .items() nos dara error si le pasamos dos itereables en el for   "
   ]
  },
  {
   "cell_type": "code",
   "execution_count": null,
   "id": "abe9b0aa",
   "metadata": {},
   "outputs": [],
   "source": [
    "# si no especificamos nada, por defecto python itera por las keys del diccionario\n"
   ]
  },
  {
   "cell_type": "code",
   "execution_count": null,
   "id": "347be905",
   "metadata": {},
   "outputs": [],
   "source": []
  },
  {
   "cell_type": "code",
   "execution_count": null,
   "id": "7ef42095",
   "metadata": {},
   "outputs": [],
   "source": []
  },
  {
   "cell_type": "code",
   "execution_count": null,
   "id": "0a604ced",
   "metadata": {},
   "outputs": [],
   "source": []
  },
  {
   "cell_type": "code",
   "execution_count": null,
   "id": "a8d6a6fe",
   "metadata": {
    "scrolled": true
   },
   "outputs": [],
   "source": []
  },
  {
   "cell_type": "markdown",
   "id": "de005ae9",
   "metadata": {},
   "source": [
    "🌊📝 **EJERCICIO** 🌊📝\n",
    "\n",
    "Escribe un programa que nos chequee si los números de una lista son pares o impares y crea una lista con los pares"
   ]
  },
  {
   "cell_type": "code",
   "execution_count": null,
   "id": "4d99e152",
   "metadata": {},
   "outputs": [],
   "source": []
  },
  {
   "cell_type": "code",
   "execution_count": null,
   "id": "02d67d55",
   "metadata": {},
   "outputs": [],
   "source": []
  },
  {
   "cell_type": "code",
   "execution_count": null,
   "id": "230ea128",
   "metadata": {},
   "outputs": [],
   "source": []
  },
  {
   "cell_type": "code",
   "execution_count": null,
   "id": "269969ba",
   "metadata": {},
   "outputs": [],
   "source": []
  },
  {
   "cell_type": "markdown",
   "id": "033a5d56",
   "metadata": {},
   "source": [
    "## while "
   ]
  },
  {
   "cell_type": "markdown",
   "id": "4b05046f",
   "metadata": {},
   "source": [
    "En Python, los bucles `while` se utilizan para iterar hasta que se cumpla una determinada condición. Básicamente, el bucle se ejecuta tantas veces como la condición siga siendo True. Cuando el if se convierte en False, el bucle se detiene. \n",
    "\n",
    "NORMALMENTE USAMOS UN `while` cuando no sabemos cuantas veces vamos a tener que ejecutar el bucle."
   ]
  },
  {
   "cell_type": "markdown",
   "id": "785e5440",
   "metadata": {},
   "source": [
    "![while](https://github.com/Ironhack-Data-Madrid-PartTime-Oct22/imagenes/blob/master/semana-2/while_loop_python.png?raw=true)"
   ]
  },
  {
   "cell_type": "code",
   "execution_count": null,
   "id": "c5fbd2e3",
   "metadata": {
    "scrolled": true
   },
   "outputs": [],
   "source": []
  },
  {
   "cell_type": "code",
   "execution_count": null,
   "id": "59c8f552",
   "metadata": {},
   "outputs": [],
   "source": []
  },
  {
   "cell_type": "code",
   "execution_count": null,
   "id": "0ccb4bf4",
   "metadata": {},
   "outputs": [],
   "source": []
  },
  {
   "cell_type": "markdown",
   "id": "c0cf7736",
   "metadata": {},
   "source": [
    "📌 El primer ejercicio del caracol se podía solucionar con un while"
   ]
  },
  {
   "cell_type": "markdown",
   "id": "0c80889d",
   "metadata": {},
   "source": [
    "# Control de los Loops"
   ]
  },
  {
   "cell_type": "markdown",
   "id": "f52752dc",
   "metadata": {},
   "source": [
    "Las sentencias `break` y `continue` nos ayudan a afinar nuestros bucles y su ejecución.\n",
    "\n",
    "- `break`:  rompe el bucle por completo\n",
    "\n",
    "\n",
    "- `pass`: no ejecuta el código que hay dentro de la condición\n",
    "\n",
    "\n",
    "- `continue` salta el resto del bucle actual y pasa a la siguiente iteración\n",
    "\n",
    "\n",
    "🚨 Ambas pueden utilizarse tanto en los bucles for como en los while."
   ]
  },
  {
   "cell_type": "markdown",
   "id": "13e704ba",
   "metadata": {},
   "source": [
    "## break "
   ]
  },
  {
   "cell_type": "markdown",
   "id": "1fa4a482",
   "metadata": {},
   "source": [
    "`break` se utiliza en situaciones en las que queremos salir del bucle, incluso si la condición no se ha convertido en False o hemos iterado sobre toda la secuencia. Además, si se utiliza break, no se ejecutan los siguientes bloques else."
   ]
  },
  {
   "cell_type": "code",
   "execution_count": null,
   "id": "9b2dc9e7",
   "metadata": {},
   "outputs": [],
   "source": []
  },
  {
   "cell_type": "code",
   "execution_count": null,
   "id": "0bc0c42f",
   "metadata": {},
   "outputs": [],
   "source": []
  },
  {
   "cell_type": "markdown",
   "id": "b34de063",
   "metadata": {},
   "source": [
    "## pass"
   ]
  },
  {
   "cell_type": "markdown",
   "id": "f5f24f7b",
   "metadata": {},
   "source": [
    "`pass` no hace nada. Puede utilizarse cuando se requiere una sentencia sintáctica pero el programa no requiere ninguna acción (de los docs)"
   ]
  },
  {
   "cell_type": "code",
   "execution_count": null,
   "id": "4ebae040",
   "metadata": {},
   "outputs": [],
   "source": [
    "list_of_names = ['Mario','Alice', 'Bob', 'Jack', 'Mary', 'Manuel', 'Amanda', 'Ignacio', 'Fernando']"
   ]
  },
  {
   "cell_type": "code",
   "execution_count": null,
   "id": "7145f935",
   "metadata": {},
   "outputs": [],
   "source": []
  },
  {
   "cell_type": "markdown",
   "id": "ca47ba5a",
   "metadata": {},
   "source": [
    "# Algunos métodos interesantes"
   ]
  },
  {
   "cell_type": "code",
   "execution_count": null,
   "id": "87679b68",
   "metadata": {},
   "outputs": [],
   "source": []
  },
  {
   "cell_type": "code",
   "execution_count": null,
   "id": "15ed7e9a",
   "metadata": {},
   "outputs": [],
   "source": []
  },
  {
   "cell_type": "code",
   "execution_count": null,
   "id": "095ef242",
   "metadata": {},
   "outputs": [],
   "source": []
  },
  {
   "cell_type": "code",
   "execution_count": null,
   "id": "b387c5b7",
   "metadata": {},
   "outputs": [],
   "source": []
  },
  {
   "cell_type": "markdown",
   "id": "e4988662",
   "metadata": {},
   "source": [
    "📝Escribe un programa que nos devuelva todos los numeros menores que 100 y que sean multiplos de 3 Y 6"
   ]
  },
  {
   "cell_type": "code",
   "execution_count": null,
   "id": "dda32f03",
   "metadata": {},
   "outputs": [],
   "source": []
  },
  {
   "cell_type": "markdown",
   "id": "1847e8b0",
   "metadata": {},
   "source": [
    "`enumerate`: añade un contador en el elemento que estamos iterando"
   ]
  },
  {
   "cell_type": "code",
   "execution_count": null,
   "id": "abe6e2be",
   "metadata": {},
   "outputs": [],
   "source": []
  },
  {
   "cell_type": "code",
   "execution_count": null,
   "id": "23b6214e",
   "metadata": {},
   "outputs": [],
   "source": []
  },
  {
   "cell_type": "code",
   "execution_count": null,
   "id": "66d18145",
   "metadata": {},
   "outputs": [],
   "source": []
  },
  {
   "cell_type": "markdown",
   "id": "cba07406",
   "metadata": {},
   "source": [
    "`zip`: empaqueta los elementos de las listas que queremos en una tupla"
   ]
  },
  {
   "cell_type": "code",
   "execution_count": null,
   "id": "ecac78dc",
   "metadata": {},
   "outputs": [],
   "source": [
    "nombres = ['Laura', 'Marta', 'Rocio']\n",
    "apellidos = ['López', 'Casas', 'Pérez']"
   ]
  },
  {
   "cell_type": "code",
   "execution_count": null,
   "id": "0914534e",
   "metadata": {},
   "outputs": [],
   "source": []
  },
  {
   "cell_type": "code",
   "execution_count": null,
   "id": "b391cc11",
   "metadata": {},
   "outputs": [],
   "source": []
  },
  {
   "cell_type": "code",
   "execution_count": null,
   "id": "f829bbd2",
   "metadata": {},
   "outputs": [],
   "source": []
  }
 ],
 "metadata": {
  "kernelspec": {
   "display_name": "ironhack",
   "language": "python",
   "name": "ironhack"
  },
  "language_info": {
   "codemirror_mode": {
    "name": "ipython",
    "version": 3
   },
   "file_extension": ".py",
   "mimetype": "text/x-python",
   "name": "python",
   "nbconvert_exporter": "python",
   "pygments_lexer": "ipython3",
   "version": "3.8.13"
  },
  "toc": {
   "base_numbering": 1,
   "nav_menu": {},
   "number_sections": true,
   "sideBar": true,
   "skip_h1_title": false,
   "title_cell": "Table of Contents",
   "title_sidebar": "Contents",
   "toc_cell": true,
   "toc_position": {},
   "toc_section_display": true,
   "toc_window_display": false
  },
  "varInspector": {
   "cols": {
    "lenName": 16,
    "lenType": 16,
    "lenVar": 40
   },
   "kernels_config": {
    "python": {
     "delete_cmd_postfix": "",
     "delete_cmd_prefix": "del ",
     "library": "var_list.py",
     "varRefreshCmd": "print(var_dic_list())"
    },
    "r": {
     "delete_cmd_postfix": ") ",
     "delete_cmd_prefix": "rm(",
     "library": "var_list.r",
     "varRefreshCmd": "cat(var_dic_list()) "
    }
   },
   "types_to_exclude": [
    "module",
    "function",
    "builtin_function_or_method",
    "instance",
    "_Feature"
   ],
   "window_display": false
  }
 },
 "nbformat": 4,
 "nbformat_minor": 5
}
