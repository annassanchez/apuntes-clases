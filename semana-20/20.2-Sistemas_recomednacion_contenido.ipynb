{
 "cells": [
  {
   "attachments": {},
   "cell_type": "markdown",
   "metadata": {},
   "source": [
    "# Sistema de recomendación basado en contenido "
   ]
  },
  {
   "attachments": {},
   "cell_type": "markdown",
   "metadata": {},
   "source": [
    "Este tipo de recomendadadores se centran en la recoemndación personalizada: en este caso a cada usuario se le recomienda contenido diferente, buscando siempre que el contenido ofrecido se pueda ajustar a los gustos del usuario. En estos casos es dificil que dos personas reciban la misma recomendación.\n",
    "\n",
    "\n",
    "Los sistemas de recomendación personalizados existen tres grandes enfoques que se pueden aplicar: basarse en contenido, basarse en usuarios, y un sistema híbrido. Veamos en qué consiste cada uno de ellos.\n",
    "\n",
    "Como su nombre indica un sistema de recomendación basado en contenido utiliza las características del contenido para hacer las recomendaciones. En otras palabras, un sistema de recomendación basado en contenido recomendará contenidos similares a los contenidos que le han gustado al usuario.\n",
    "\n",
    "Supongamos que me gusta mucho los super heroes y llevo toda la semana viendo peliculas de Marvel. Un sistema de recoemndacion me recomendaria peliculas o series de ciencia ficcion, en las que apareciera \tRobert Downey Jr. y dirigidas  por los hermanos Russo, que ademas fueran del mismo ano...etc\n",
    "\n",
    "La clave de los sistemas de recomendacion basados en el contenido es definir las caracteristicas que se usaran para encontrar productos parecidos. En este caso lo mas importante para un buen sistema de recomendacion serian actor o actores principales , director o directores , categoria de pelicula...etc\n",
    "\n",
    "\n",
    "\n",
    "## Pros y contras del sistema de recomendación basado en contenido.\n",
    "- Pros del sistema de recomendación basado en contenido\n",
    "    - Permiten realizar predicciones desde el momento en el que un usuario consume un producto. Es decir, el sistema no sufre del problema conocido como cold-start.\n",
    "    - Es un sistema adaptativo: si el usuario cambia sus gustos, el sistema se dará cuenta de esos cambios.\n",
    "    - Recomienda productos poco populares.\n",
    "    - Fácil de escalar.\n",
    "    \n",
    "\n",
    "- Contras del sistema de recomendación basado en contenido\n",
    "    - El contenido recomendado siempre es parecido. Es decir, si una persona consume peliculas de acción es dificil que se le recomienden productos de otra categoría.\n"
   ]
  },
  {
   "attachments": {},
   "cell_type": "markdown",
   "metadata": {},
   "source": [
    "## Ejemplo \n",
    "Vamos a usar el dataset IMDB, con información sobre más de 1.000 peliculas y series valoradas en IMDB. Puedes descargarte el dataset desde [aquí](https://www.kaggle.com/datasets/harshitshankhdhar/imdb-dataset-of-top-1000-movies-and-tv-shows).\n",
    "\n"
   ]
  },
  {
   "cell_type": "code",
   "execution_count": 1,
   "metadata": {},
   "outputs": [],
   "source": [
    "# %%\n",
    "# libreries\n",
    "\n",
    "\n",
    "import pandas as pd # data processing \n",
    "\n",
    "\n",
    "# sklearn libraries for preprocessing and model building \n",
    "from sklearn.compose import ColumnTransformer \n",
    "from sklearn.preprocessing import OneHotEncoder, StandardScaler\n",
    "from sklearn.pipeline import Pipeline\n",
    "\n",
    "# calculo de matriz de similitudes\n",
    "from sklearn.neighbors import NearestNeighbors\n",
    "\n",
    "\n"
   ]
  },
  {
   "cell_type": "code",
   "execution_count": 2,
   "metadata": {},
   "outputs": [
    {
     "data": {
      "text/html": [
       "<div>\n",
       "<style scoped>\n",
       "    .dataframe tbody tr th:only-of-type {\n",
       "        vertical-align: middle;\n",
       "    }\n",
       "\n",
       "    .dataframe tbody tr th {\n",
       "        vertical-align: top;\n",
       "    }\n",
       "\n",
       "    .dataframe thead th {\n",
       "        text-align: right;\n",
       "    }\n",
       "</style>\n",
       "<table border=\"1\" class=\"dataframe\">\n",
       "  <thead>\n",
       "    <tr style=\"text-align: right;\">\n",
       "      <th></th>\n",
       "      <th>Poster_Link</th>\n",
       "      <th>Series_Title</th>\n",
       "      <th>Released_Year</th>\n",
       "      <th>Certificate</th>\n",
       "      <th>Runtime</th>\n",
       "      <th>Genre</th>\n",
       "      <th>IMDB_Rating</th>\n",
       "      <th>Overview</th>\n",
       "      <th>Meta_score</th>\n",
       "      <th>Director</th>\n",
       "      <th>Star1</th>\n",
       "      <th>Star2</th>\n",
       "      <th>Star3</th>\n",
       "      <th>Star4</th>\n",
       "      <th>No_of_Votes</th>\n",
       "      <th>Gross</th>\n",
       "    </tr>\n",
       "  </thead>\n",
       "  <tbody>\n",
       "    <tr>\n",
       "      <th>0</th>\n",
       "      <td>https://m.media-amazon.com/images/M/MV5BMDFkYT...</td>\n",
       "      <td>The Shawshank Redemption</td>\n",
       "      <td>1994</td>\n",
       "      <td>A</td>\n",
       "      <td>142 min</td>\n",
       "      <td>Drama</td>\n",
       "      <td>9.3</td>\n",
       "      <td>Two imprisoned men bond over a number of years...</td>\n",
       "      <td>80.0</td>\n",
       "      <td>Frank Darabont</td>\n",
       "      <td>Tim Robbins</td>\n",
       "      <td>Morgan Freeman</td>\n",
       "      <td>Bob Gunton</td>\n",
       "      <td>William Sadler</td>\n",
       "      <td>2343110</td>\n",
       "      <td>28,341,469</td>\n",
       "    </tr>\n",
       "    <tr>\n",
       "      <th>1</th>\n",
       "      <td>https://m.media-amazon.com/images/M/MV5BM2MyNj...</td>\n",
       "      <td>The Godfather</td>\n",
       "      <td>1972</td>\n",
       "      <td>A</td>\n",
       "      <td>175 min</td>\n",
       "      <td>Crime, Drama</td>\n",
       "      <td>9.2</td>\n",
       "      <td>An organized crime dynasty's aging patriarch t...</td>\n",
       "      <td>100.0</td>\n",
       "      <td>Francis Ford Coppola</td>\n",
       "      <td>Marlon Brando</td>\n",
       "      <td>Al Pacino</td>\n",
       "      <td>James Caan</td>\n",
       "      <td>Diane Keaton</td>\n",
       "      <td>1620367</td>\n",
       "      <td>134,966,411</td>\n",
       "    </tr>\n",
       "    <tr>\n",
       "      <th>2</th>\n",
       "      <td>https://m.media-amazon.com/images/M/MV5BMTMxNT...</td>\n",
       "      <td>The Dark Knight</td>\n",
       "      <td>2008</td>\n",
       "      <td>UA</td>\n",
       "      <td>152 min</td>\n",
       "      <td>Action, Crime, Drama</td>\n",
       "      <td>9.0</td>\n",
       "      <td>When the menace known as the Joker wreaks havo...</td>\n",
       "      <td>84.0</td>\n",
       "      <td>Christopher Nolan</td>\n",
       "      <td>Christian Bale</td>\n",
       "      <td>Heath Ledger</td>\n",
       "      <td>Aaron Eckhart</td>\n",
       "      <td>Michael Caine</td>\n",
       "      <td>2303232</td>\n",
       "      <td>534,858,444</td>\n",
       "    </tr>\n",
       "    <tr>\n",
       "      <th>3</th>\n",
       "      <td>https://m.media-amazon.com/images/M/MV5BMWMwMG...</td>\n",
       "      <td>The Godfather: Part II</td>\n",
       "      <td>1974</td>\n",
       "      <td>A</td>\n",
       "      <td>202 min</td>\n",
       "      <td>Crime, Drama</td>\n",
       "      <td>9.0</td>\n",
       "      <td>The early life and career of Vito Corleone in ...</td>\n",
       "      <td>90.0</td>\n",
       "      <td>Francis Ford Coppola</td>\n",
       "      <td>Al Pacino</td>\n",
       "      <td>Robert De Niro</td>\n",
       "      <td>Robert Duvall</td>\n",
       "      <td>Diane Keaton</td>\n",
       "      <td>1129952</td>\n",
       "      <td>57,300,000</td>\n",
       "    </tr>\n",
       "    <tr>\n",
       "      <th>4</th>\n",
       "      <td>https://m.media-amazon.com/images/M/MV5BMWU4N2...</td>\n",
       "      <td>12 Angry Men</td>\n",
       "      <td>1957</td>\n",
       "      <td>U</td>\n",
       "      <td>96 min</td>\n",
       "      <td>Crime, Drama</td>\n",
       "      <td>9.0</td>\n",
       "      <td>A jury holdout attempts to prevent a miscarria...</td>\n",
       "      <td>96.0</td>\n",
       "      <td>Sidney Lumet</td>\n",
       "      <td>Henry Fonda</td>\n",
       "      <td>Lee J. Cobb</td>\n",
       "      <td>Martin Balsam</td>\n",
       "      <td>John Fiedler</td>\n",
       "      <td>689845</td>\n",
       "      <td>4,360,000</td>\n",
       "    </tr>\n",
       "  </tbody>\n",
       "</table>\n",
       "</div>"
      ],
      "text/plain": [
       "                                         Poster_Link  \\\n",
       "0  https://m.media-amazon.com/images/M/MV5BMDFkYT...   \n",
       "1  https://m.media-amazon.com/images/M/MV5BM2MyNj...   \n",
       "2  https://m.media-amazon.com/images/M/MV5BMTMxNT...   \n",
       "3  https://m.media-amazon.com/images/M/MV5BMWMwMG...   \n",
       "4  https://m.media-amazon.com/images/M/MV5BMWU4N2...   \n",
       "\n",
       "               Series_Title Released_Year Certificate  Runtime  \\\n",
       "0  The Shawshank Redemption          1994           A  142 min   \n",
       "1             The Godfather          1972           A  175 min   \n",
       "2           The Dark Knight          2008          UA  152 min   \n",
       "3    The Godfather: Part II          1974           A  202 min   \n",
       "4              12 Angry Men          1957           U   96 min   \n",
       "\n",
       "                  Genre  IMDB_Rating  \\\n",
       "0                 Drama          9.3   \n",
       "1          Crime, Drama          9.2   \n",
       "2  Action, Crime, Drama          9.0   \n",
       "3          Crime, Drama          9.0   \n",
       "4          Crime, Drama          9.0   \n",
       "\n",
       "                                            Overview  Meta_score  \\\n",
       "0  Two imprisoned men bond over a number of years...        80.0   \n",
       "1  An organized crime dynasty's aging patriarch t...       100.0   \n",
       "2  When the menace known as the Joker wreaks havo...        84.0   \n",
       "3  The early life and career of Vito Corleone in ...        90.0   \n",
       "4  A jury holdout attempts to prevent a miscarria...        96.0   \n",
       "\n",
       "               Director           Star1           Star2          Star3  \\\n",
       "0        Frank Darabont     Tim Robbins  Morgan Freeman     Bob Gunton   \n",
       "1  Francis Ford Coppola   Marlon Brando       Al Pacino     James Caan   \n",
       "2     Christopher Nolan  Christian Bale    Heath Ledger  Aaron Eckhart   \n",
       "3  Francis Ford Coppola       Al Pacino  Robert De Niro  Robert Duvall   \n",
       "4          Sidney Lumet     Henry Fonda     Lee J. Cobb  Martin Balsam   \n",
       "\n",
       "            Star4  No_of_Votes        Gross  \n",
       "0  William Sadler      2343110   28,341,469  \n",
       "1    Diane Keaton      1620367  134,966,411  \n",
       "2   Michael Caine      2303232  534,858,444  \n",
       "3    Diane Keaton      1129952   57,300,000  \n",
       "4    John Fiedler       689845    4,360,000  "
      ]
     },
     "execution_count": 2,
     "metadata": {},
     "output_type": "execute_result"
    }
   ],
   "source": [
    "imdb = pd.read_csv('data/imdb_top_1000.csv')\n",
    "imdb.head()"
   ]
  },
  {
   "attachments": {},
   "cell_type": "markdown",
   "metadata": {},
   "source": [
    "Este set de datos contiene muchas variables que nos perimten caracterizar las peliculas. \n"
   ]
  },
  {
   "attachments": {},
   "cell_type": "markdown",
   "metadata": {},
   "source": [
    "## Preparacion de datos\n",
    "\n",
    "Para este ejemplo seleccionaremos las caracterisaticas de las peliculas (genero, director, actores ... etc) obviando las descripciones para evitar ruido en el modelo. "
   ]
  },
  {
   "cell_type": "code",
   "execution_count": 4,
   "metadata": {},
   "outputs": [
    {
     "data": {
      "text/html": [
       "<div>\n",
       "<style scoped>\n",
       "    .dataframe tbody tr th:only-of-type {\n",
       "        vertical-align: middle;\n",
       "    }\n",
       "\n",
       "    .dataframe tbody tr th {\n",
       "        vertical-align: top;\n",
       "    }\n",
       "\n",
       "    .dataframe thead th {\n",
       "        text-align: right;\n",
       "    }\n",
       "</style>\n",
       "<table border=\"1\" class=\"dataframe\">\n",
       "  <thead>\n",
       "    <tr style=\"text-align: right;\">\n",
       "      <th></th>\n",
       "      <th>Genre</th>\n",
       "      <th>Director</th>\n",
       "      <th>Star1</th>\n",
       "      <th>Star2</th>\n",
       "    </tr>\n",
       "  </thead>\n",
       "  <tbody>\n",
       "    <tr>\n",
       "      <th>0</th>\n",
       "      <td>Drama</td>\n",
       "      <td>Frank Darabont</td>\n",
       "      <td>Tim Robbins</td>\n",
       "      <td>Morgan Freeman</td>\n",
       "    </tr>\n",
       "    <tr>\n",
       "      <th>1</th>\n",
       "      <td>Crime, Drama</td>\n",
       "      <td>Francis Ford Coppola</td>\n",
       "      <td>Marlon Brando</td>\n",
       "      <td>Al Pacino</td>\n",
       "    </tr>\n",
       "    <tr>\n",
       "      <th>2</th>\n",
       "      <td>Action, Crime, Drama</td>\n",
       "      <td>Christopher Nolan</td>\n",
       "      <td>Christian Bale</td>\n",
       "      <td>Heath Ledger</td>\n",
       "    </tr>\n",
       "    <tr>\n",
       "      <th>3</th>\n",
       "      <td>Crime, Drama</td>\n",
       "      <td>Francis Ford Coppola</td>\n",
       "      <td>Al Pacino</td>\n",
       "      <td>Robert De Niro</td>\n",
       "    </tr>\n",
       "    <tr>\n",
       "      <th>4</th>\n",
       "      <td>Crime, Drama</td>\n",
       "      <td>Sidney Lumet</td>\n",
       "      <td>Henry Fonda</td>\n",
       "      <td>Lee J. Cobb</td>\n",
       "    </tr>\n",
       "    <tr>\n",
       "      <th>...</th>\n",
       "      <td>...</td>\n",
       "      <td>...</td>\n",
       "      <td>...</td>\n",
       "      <td>...</td>\n",
       "    </tr>\n",
       "    <tr>\n",
       "      <th>995</th>\n",
       "      <td>Comedy, Drama, Romance</td>\n",
       "      <td>Blake Edwards</td>\n",
       "      <td>Audrey Hepburn</td>\n",
       "      <td>George Peppard</td>\n",
       "    </tr>\n",
       "    <tr>\n",
       "      <th>996</th>\n",
       "      <td>Drama, Western</td>\n",
       "      <td>George Stevens</td>\n",
       "      <td>Elizabeth Taylor</td>\n",
       "      <td>Rock Hudson</td>\n",
       "    </tr>\n",
       "    <tr>\n",
       "      <th>997</th>\n",
       "      <td>Drama, Romance, War</td>\n",
       "      <td>Fred Zinnemann</td>\n",
       "      <td>Burt Lancaster</td>\n",
       "      <td>Montgomery Clift</td>\n",
       "    </tr>\n",
       "    <tr>\n",
       "      <th>998</th>\n",
       "      <td>Drama, War</td>\n",
       "      <td>Alfred Hitchcock</td>\n",
       "      <td>Tallulah Bankhead</td>\n",
       "      <td>John Hodiak</td>\n",
       "    </tr>\n",
       "    <tr>\n",
       "      <th>999</th>\n",
       "      <td>Crime, Mystery, Thriller</td>\n",
       "      <td>Alfred Hitchcock</td>\n",
       "      <td>Robert Donat</td>\n",
       "      <td>Madeleine Carroll</td>\n",
       "    </tr>\n",
       "  </tbody>\n",
       "</table>\n",
       "<p>1000 rows × 4 columns</p>\n",
       "</div>"
      ],
      "text/plain": [
       "                        Genre              Director              Star1  \\\n",
       "0                       Drama        Frank Darabont        Tim Robbins   \n",
       "1                Crime, Drama  Francis Ford Coppola      Marlon Brando   \n",
       "2        Action, Crime, Drama     Christopher Nolan     Christian Bale   \n",
       "3                Crime, Drama  Francis Ford Coppola          Al Pacino   \n",
       "4                Crime, Drama          Sidney Lumet        Henry Fonda   \n",
       "..                        ...                   ...                ...   \n",
       "995    Comedy, Drama, Romance         Blake Edwards     Audrey Hepburn   \n",
       "996            Drama, Western        George Stevens   Elizabeth Taylor   \n",
       "997       Drama, Romance, War        Fred Zinnemann     Burt Lancaster   \n",
       "998                Drama, War      Alfred Hitchcock  Tallulah Bankhead   \n",
       "999  Crime, Mystery, Thriller      Alfred Hitchcock       Robert Donat   \n",
       "\n",
       "                 Star2  \n",
       "0       Morgan Freeman  \n",
       "1            Al Pacino  \n",
       "2         Heath Ledger  \n",
       "3       Robert De Niro  \n",
       "4          Lee J. Cobb  \n",
       "..                 ...  \n",
       "995     George Peppard  \n",
       "996        Rock Hudson  \n",
       "997   Montgomery Clift  \n",
       "998        John Hodiak  \n",
       "999  Madeleine Carroll  \n",
       "\n",
       "[1000 rows x 4 columns]"
      ]
     },
     "execution_count": 4,
     "metadata": {},
     "output_type": "execute_result"
    }
   ],
   "source": [
    "# Filter data\n",
    "keep_cols = ['Genre', 'Director', 'Star1', 'Star2']\n",
    "imdb_filtered = imdb[keep_cols]\n",
    "imdb_filtered"
   ]
  },
  {
   "attachments": {},
   "cell_type": "markdown",
   "metadata": {},
   "source": [
    "`Pipeline` es una clase que nos permite crear un flujo de procesamiento de datos. `StandardScaler` nos permite estandarizar las variables numericas para que tengan media 0 y desviacion estandar 1 y el atributo 'scaler' es el nombre que le damos a la transformacion"
   ]
  },
  {
   "cell_type": "code",
   "execution_count": 5,
   "metadata": {},
   "outputs": [],
   "source": [
    "# %%\n",
    "# Create pipeline for numerical variables\n",
    "numeric_pipe = Pipeline([('scaler', StandardScaler())])"
   ]
  },
  {
   "attachments": {},
   "cell_type": "markdown",
   "metadata": {},
   "source": [
    "Teniendo en cuenta que una pelicula puede pertenecer a varias etiquetas de generos utilizarmeos la funcion `OneHotEncoder` de la libreria `Sklearn` para \"dumificar esas variables\".  \n"
   ]
  },
  {
   "cell_type": "code",
   "execution_count": 6,
   "metadata": {},
   "outputs": [],
   "source": [
    "categorical_pipe = Pipeline([('encoder', OneHotEncoder(drop = 'first'))])"
   ]
  },
  {
   "attachments": {},
   "cell_type": "markdown",
   "metadata": {},
   "source": [
    "`ColumnTransformer` es una clase que nos permite aplicar diferentes transformaciones a diferentes columnas de un dataframe. `numeric` es el nombre que le damos a la transformacion, `numeric_pipe` es el pipeline que creamos anteriormente, `imdb_filtered._get_numeric_data().columns.tolist()` es una lista con los nombres de las columnas numericas. \n",
    "\n",
    "`categoric` es el nombre que le damos a la transformacion, categorical_pipe es el pipeline que creamos anteriormente, `imdb_filtered.select_dtypes('object').columns.tolist()` es una lista con los nombres de las columnas categoricas"
   ]
  },
  {
   "cell_type": "code",
   "execution_count": 7,
   "metadata": {},
   "outputs": [],
   "source": [
    "col_transf = ColumnTransformer([ \n",
    "                                ('numeric', numeric_pipe, imdb_filtered._get_numeric_data().columns.tolist()), \n",
    "                                ('categoric', categorical_pipe, imdb_filtered.select_dtypes('object').columns.tolist())  \n",
    "                                ])"
   ]
  },
  {
   "attachments": {},
   "cell_type": "markdown",
   "metadata": {},
   "source": [
    "Aplicamos las transformaciones a las columnas del dataframe mediante `.fit`"
   ]
  },
  {
   "cell_type": "code",
   "execution_count": 8,
   "metadata": {},
   "outputs": [],
   "source": [
    "col_transf_fit = col_transf.fit(imdb_filtered)"
   ]
  },
  {
   "attachments": {},
   "cell_type": "markdown",
   "metadata": {},
   "source": [
    "`.transform` es un metodo de la clase ColumnTransformer que nos permite aplicar las transformaciones a las columnas del dataframe"
   ]
  },
  {
   "cell_type": "code",
   "execution_count": 9,
   "metadata": {},
   "outputs": [
    {
     "data": {
      "text/plain": [
       "<1000x2247 sparse matrix of type '<class 'numpy.float64'>'\n",
       "\twith 3986 stored elements in Compressed Sparse Row format>"
      ]
     },
     "execution_count": 9,
     "metadata": {},
     "output_type": "execute_result"
    }
   ],
   "source": [
    "imdb_filtered_transf = col_transf_fit.transform(imdb_filtered)\n",
    "imdb_filtered_transf"
   ]
  },
  {
   "attachments": {},
   "cell_type": "markdown",
   "metadata": {},
   "source": [
    "Con esto ya tenemos los datos preparados, ahora veamos cómo crear nuestro sistema de recomendación basado en contenido."
   ]
  },
  {
   "attachments": {},
   "cell_type": "markdown",
   "metadata": {},
   "source": [
    "## Generacion de sistema de recomendacion \n",
    "\n",
    "El sistema se basa en dos pasos:\n",
    "\n",
    "    - Encontrar la similitud de una película que le ha gustado al usuario respecto al resto de películas.\n",
    "    - Seleccionar las N peliculas que más se parezcan a la película que le ha gustado al usuario.\n",
    "\n",
    "Este proceso se parece mucho al algoritmo kNN. Sin embargo, hay que tener en cuenta que contamos con una matriz hueca. Las matrices huecas se caracterizan por tener un gran tamano en las que la mayor parte de sus elementos son cero. Poe ese motivo no podemos aplicar cualquier tipo de distancia, sino que tendremos que aplicar una distancia como la distancia del coseno.\n",
    "\n",
    "Para montar el sistema de recomendación basado en contenido vamos a calcular la matriz de similitudes entre las diferentes películas. Para ello vamos a usar la función `NearestNeighbor` fijando como el timpo de distancia `cosine`"
   ]
  },
  {
   "cell_type": "code",
   "execution_count": 10,
   "metadata": {},
   "outputs": [],
   "source": [
    "\n",
    "# numero de vecinos a considerar para el calculo de la similitud entre peliculas \n",
    "n_neighbors=5 \n",
    "\n",
    "\n",
    "nneighbors = NearestNeighbors(n_neighbors = n_neighbors, # numero de vecinos a considerar para el calculo de la similitud entre peliculas \n",
    "                              metric = 'cosine'          # cosin sirve para medir la similitud entre dos vectores teniendo en cuenta el angulo entre ellos \n",
    "                              ).fit(imdb_filtered_transf) # fit es un metodo de la clase NearestNeighbors que nos permite aplicar las transformaciones a las columnas del dataframe"
   ]
  },
  {
   "attachments": {},
   "cell_type": "markdown",
   "metadata": {},
   "source": [
    "Ya tendríamos nuestro recomendador entrenado. Ahora solo falta pasar una nueva película para hacer recomendaciones. Veamos pues qué recomienda el sistema a una persona que ve la película The Godfather:\n",
    "\n"
   ]
  },
  {
   "cell_type": "code",
   "execution_count": 11,
   "metadata": {},
   "outputs": [
    {
     "data": {
      "text/plain": [
       "2"
      ]
     },
     "execution_count": 11,
     "metadata": {},
     "output_type": "execute_result"
    }
   ],
   "source": [
    "# Si queremos ver peliculas similares a \"The Godfather\"\n",
    "pelicula = \"The Dark Knight\"\n",
    "# extraer el indice de la pelicula \"The Godfather\"\n",
    "pelicula_index= imdb[imdb['Series_Title'] == pelicula].index\n",
    "pelicula_index = pelicula_index[0]\n",
    "pelicula_index"
   ]
  },
  {
   "attachments": {},
   "cell_type": "markdown",
   "metadata": {},
   "source": [
    "Calculamos la distancia entre la pelicula y sus vecinos mas cercanos (`dif`) y luego obtenemos  los indices de las peliculas mas cercanas a la pelicula que estamos analizando( `ind`)\n"
   ]
  },
  {
   "cell_type": "code",
   "execution_count": 12,
   "metadata": {},
   "outputs": [],
   "source": [
    "# hacer prediciones con el modelo\n",
    "dif, ind = nneighbors.kneighbors(imdb_filtered_transf[pelicula_index]) "
   ]
  },
  {
   "cell_type": "code",
   "execution_count": 13,
   "metadata": {},
   "outputs": [
    {
     "data": {
      "text/plain": [
       "array([[0.        , 0.42264973, 0.42264973, 0.5       , 0.75      ]])"
      ]
     },
     "execution_count": 13,
     "metadata": {},
     "output_type": "execute_result"
    }
   ],
   "source": [
    "# cual es el valor maximo que puede tomar la distancia entre dos peliculas \n",
    "dif"
   ]
  },
  {
   "cell_type": "code",
   "execution_count": 14,
   "metadata": {},
   "outputs": [
    {
     "name": "stdout",
     "output_type": "stream",
     "text": [
      "Queremos ver peliculas similares a:  The Dark Knight\n",
      "================================================================================\n"
     ]
    },
    {
     "data": {
      "text/plain": [
       "Poster_Link      https://m.media-amazon.com/images/M/MV5BMTMxNT...\n",
       "Series_Title                                       The Dark Knight\n",
       "Released_Year                                                 2008\n",
       "Certificate                                                     UA\n",
       "Runtime                                                    152 min\n",
       "Genre                                         Action, Crime, Drama\n",
       "IMDB_Rating                                                    9.0\n",
       "Overview         When the menace known as the Joker wreaks havo...\n",
       "Meta_score                                                    84.0\n",
       "Director                                         Christopher Nolan\n",
       "Star1                                               Christian Bale\n",
       "Star2                                                 Heath Ledger\n",
       "Star3                                                Aaron Eckhart\n",
       "Star4                                                Michael Caine\n",
       "No_of_Votes                                                2303232\n",
       "Gross                                                  534,858,444\n",
       "Name: 2, dtype: object"
      ]
     },
     "execution_count": 14,
     "metadata": {},
     "output_type": "execute_result"
    }
   ],
   "source": [
    "print(\"Queremos ver peliculas similares a: \", imdb.loc[pelicula_index, 'Series_Title'])\n",
    "print(\"=\"*80)\n",
    "imdb.loc[ind[0][0], :]"
   ]
  },
  {
   "cell_type": "code",
   "execution_count": 15,
   "metadata": {},
   "outputs": [
    {
     "name": "stdout",
     "output_type": "stream",
     "text": [
      "Peliculas recomendadas\n",
      "================================================================================\n"
     ]
    },
    {
     "data": {
      "text/html": [
       "<div>\n",
       "<style scoped>\n",
       "    .dataframe tbody tr th:only-of-type {\n",
       "        vertical-align: middle;\n",
       "    }\n",
       "\n",
       "    .dataframe tbody tr th {\n",
       "        vertical-align: top;\n",
       "    }\n",
       "\n",
       "    .dataframe thead th {\n",
       "        text-align: right;\n",
       "    }\n",
       "</style>\n",
       "<table border=\"1\" class=\"dataframe\">\n",
       "  <thead>\n",
       "    <tr style=\"text-align: right;\">\n",
       "      <th></th>\n",
       "      <th>Poster_Link</th>\n",
       "      <th>Series_Title</th>\n",
       "      <th>Released_Year</th>\n",
       "      <th>Certificate</th>\n",
       "      <th>Runtime</th>\n",
       "      <th>Genre</th>\n",
       "      <th>IMDB_Rating</th>\n",
       "      <th>Overview</th>\n",
       "      <th>Meta_score</th>\n",
       "      <th>Director</th>\n",
       "      <th>Star1</th>\n",
       "      <th>Star2</th>\n",
       "      <th>Star3</th>\n",
       "      <th>Star4</th>\n",
       "      <th>No_of_Votes</th>\n",
       "      <th>Gross</th>\n",
       "    </tr>\n",
       "  </thead>\n",
       "  <tbody>\n",
       "    <tr>\n",
       "      <th>155</th>\n",
       "      <td>https://m.media-amazon.com/images/M/MV5BOTY4Yj...</td>\n",
       "      <td>Batman Begins</td>\n",
       "      <td>2005</td>\n",
       "      <td>UA</td>\n",
       "      <td>140 min</td>\n",
       "      <td>Action, Adventure</td>\n",
       "      <td>8.2</td>\n",
       "      <td>After training with his mentor, Batman begins ...</td>\n",
       "      <td>70.0</td>\n",
       "      <td>Christopher Nolan</td>\n",
       "      <td>Christian Bale</td>\n",
       "      <td>Michael Caine</td>\n",
       "      <td>Ken Watanabe</td>\n",
       "      <td>Liam Neeson</td>\n",
       "      <td>1308302</td>\n",
       "      <td>206,852,432</td>\n",
       "    </tr>\n",
       "    <tr>\n",
       "      <th>63</th>\n",
       "      <td>https://m.media-amazon.com/images/M/MV5BMTk4OD...</td>\n",
       "      <td>The Dark Knight Rises</td>\n",
       "      <td>2012</td>\n",
       "      <td>UA</td>\n",
       "      <td>164 min</td>\n",
       "      <td>Action, Adventure</td>\n",
       "      <td>8.4</td>\n",
       "      <td>Eight years after the Joker's reign of anarchy...</td>\n",
       "      <td>78.0</td>\n",
       "      <td>Christopher Nolan</td>\n",
       "      <td>Christian Bale</td>\n",
       "      <td>Tom Hardy</td>\n",
       "      <td>Anne Hathaway</td>\n",
       "      <td>Gary Oldman</td>\n",
       "      <td>1516346</td>\n",
       "      <td>448,139,099</td>\n",
       "    </tr>\n",
       "    <tr>\n",
       "      <th>36</th>\n",
       "      <td>https://m.media-amazon.com/images/M/MV5BMjA4ND...</td>\n",
       "      <td>The Prestige</td>\n",
       "      <td>2006</td>\n",
       "      <td>U</td>\n",
       "      <td>130 min</td>\n",
       "      <td>Drama, Mystery, Sci-Fi</td>\n",
       "      <td>8.5</td>\n",
       "      <td>After a tragic accident, two stage magicians e...</td>\n",
       "      <td>66.0</td>\n",
       "      <td>Christopher Nolan</td>\n",
       "      <td>Christian Bale</td>\n",
       "      <td>Hugh Jackman</td>\n",
       "      <td>Scarlett Johansson</td>\n",
       "      <td>Michael Caine</td>\n",
       "      <td>1190259</td>\n",
       "      <td>53,089,891</td>\n",
       "    </tr>\n",
       "    <tr>\n",
       "      <th>345</th>\n",
       "      <td>https://m.media-amazon.com/images/M/MV5BMjEzMz...</td>\n",
       "      <td>Tropa de Elite 2: O Inimigo Agora é Outro</td>\n",
       "      <td>2010</td>\n",
       "      <td>NaN</td>\n",
       "      <td>115 min</td>\n",
       "      <td>Action, Crime, Drama</td>\n",
       "      <td>8.0</td>\n",
       "      <td>After a prison riot, former-Captain Nascimento...</td>\n",
       "      <td>71.0</td>\n",
       "      <td>José Padilha</td>\n",
       "      <td>Wagner Moura</td>\n",
       "      <td>Irandhir Santos</td>\n",
       "      <td>André Ramiro</td>\n",
       "      <td>Milhem Cortaz</td>\n",
       "      <td>79200</td>\n",
       "      <td>100,119</td>\n",
       "    </tr>\n",
       "  </tbody>\n",
       "</table>\n",
       "</div>"
      ],
      "text/plain": [
       "                                           Poster_Link  \\\n",
       "155  https://m.media-amazon.com/images/M/MV5BOTY4Yj...   \n",
       "63   https://m.media-amazon.com/images/M/MV5BMTk4OD...   \n",
       "36   https://m.media-amazon.com/images/M/MV5BMjA4ND...   \n",
       "345  https://m.media-amazon.com/images/M/MV5BMjEzMz...   \n",
       "\n",
       "                                  Series_Title Released_Year Certificate  \\\n",
       "155                              Batman Begins          2005          UA   \n",
       "63                       The Dark Knight Rises          2012          UA   \n",
       "36                                The Prestige          2006           U   \n",
       "345  Tropa de Elite 2: O Inimigo Agora é Outro          2010         NaN   \n",
       "\n",
       "     Runtime                   Genre  IMDB_Rating  \\\n",
       "155  140 min       Action, Adventure          8.2   \n",
       "63   164 min       Action, Adventure          8.4   \n",
       "36   130 min  Drama, Mystery, Sci-Fi          8.5   \n",
       "345  115 min    Action, Crime, Drama          8.0   \n",
       "\n",
       "                                              Overview  Meta_score  \\\n",
       "155  After training with his mentor, Batman begins ...        70.0   \n",
       "63   Eight years after the Joker's reign of anarchy...        78.0   \n",
       "36   After a tragic accident, two stage magicians e...        66.0   \n",
       "345  After a prison riot, former-Captain Nascimento...        71.0   \n",
       "\n",
       "              Director           Star1            Star2               Star3  \\\n",
       "155  Christopher Nolan  Christian Bale    Michael Caine        Ken Watanabe   \n",
       "63   Christopher Nolan  Christian Bale        Tom Hardy       Anne Hathaway   \n",
       "36   Christopher Nolan  Christian Bale     Hugh Jackman  Scarlett Johansson   \n",
       "345       José Padilha    Wagner Moura  Irandhir Santos        André Ramiro   \n",
       "\n",
       "             Star4  No_of_Votes        Gross  \n",
       "155    Liam Neeson      1308302  206,852,432  \n",
       "63     Gary Oldman      1516346  448,139,099  \n",
       "36   Michael Caine      1190259   53,089,891  \n",
       "345  Milhem Cortaz        79200      100,119  "
      ]
     },
     "execution_count": 15,
     "metadata": {},
     "output_type": "execute_result"
    }
   ],
   "source": [
    "print(\"Peliculas recomendadas\")\n",
    "print(\"=\"*80)\n",
    "imdb.loc[ind[0][1:], :]"
   ]
  }
 ],
 "metadata": {
  "kernelspec": {
   "display_name": "Python 3",
   "language": "python",
   "name": "python3"
  },
  "language_info": {
   "codemirror_mode": {
    "name": "ipython",
    "version": 3
   },
   "file_extension": ".py",
   "mimetype": "text/x-python",
   "name": "python",
   "nbconvert_exporter": "python",
   "pygments_lexer": "ipython3",
   "version": "3.10.2"
  },
  "orig_nbformat": 4
 },
 "nbformat": 4,
 "nbformat_minor": 2
}
