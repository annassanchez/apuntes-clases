{
  "cells": [
    {
      "cell_type": "markdown",
      "metadata": {
        "id": "-bO4itaXYA6t"
      },
      "source": [
        "# Sistema de recomendación colaborativos"
      ]
    },
    {
      "cell_type": "markdown",
      "metadata": {
        "id": "KKRfvhSBYA6x"
      },
      "source": [
        "Los filtros colaborativos son un tipo de modelo de recomendación que se basa en el comportamiento de los usuarios para hacer recomendaciones. El objetivo de los filtros colaborativos es encontrar usuarios con patrones de comportamiento similares y recomendar elementos que los usuarios similares hayan disfrutado previamente.\n",
        "\n",
        "\n",
        "Supongamos que yo tengo un gusto similar a mi amigo Jhon en lo que ha peliculas se refiere y a los dos nos gusta Star Wars, pero Jhon ha visto The Equalizer e Inside Out, ambas peliculaes le han gustado, y yo no las he visto. Estas peliculas serían candidatas a ser recomendadas. La clave de un sistema de recomendación basado en usuarios es poder perfilar bien los gustos de los usuarios para así poder realizar las recomendaciones lo más acertadas posible.\n",
        "\n",
        "Los filtros colaborativos se dividen en dos categorías principales: **basados en memoria y basados en modelo**.\n",
        "\n",
        "- Sistemas basados en memoria: consiste en construit una matriz Usuario-Contenido y usar buscar usuarios similares. Aunque interesante intuitivo, este enfoque es poco escalable, puesto que cuando tienes millones de usuarios y miles de contenidos, la matriz resultante es demasiado grande.\n",
        "\n",
        "- Sistemas de recomendación basado en modelos: estos sistemas buscan superar las limitaciones de los sistemas basados en memoria, mediante la utilización de modelos de ML como redes neuronales, redes bayesianas, modelos de clusterización, etc.\n",
        "\n",
        "\n",
        "## Pros y contras de sistemas de recomendación basado en usuarios.\n",
        "\n",
        "- Pros de sistema de recomendación basado en usuarios.\n",
        "\n",
        "    - Puede ofrecer contenido diferente al que generalmente se consume. Volviendo a los ejemplos, el sistema de recomendación basado en usuarios es capaz de recomendar Upside Down (pelicula de animación), a pesar de que sea muy diferente a lo que usualmente suela ver (películas de ciencia ficcion).\n",
        "\n",
        "- Contras de sistema de recomendación basado en usuarios.\n",
        "\n",
        "    - Dificultar para recomendar contenido nuevo. Como pocas (o ninguna) persona habrá consumido dicho contenido, es dificil que un sistema de recomendación basado en usuarios recomiende un contenido nuevo.\n",
        "\n",
        "    - Sufren del problema de cold start, es causado por la falta de información de usuarios o productos/servicios. Un sistema de recomendación sólo puede producir buenas recomendaciones después de haber acumulado suficientes datos.\n",
        "\n"
      ]
    },
    {
      "cell_type": "markdown",
      "metadata": {
        "id": "t5Zi6UhpYA6y"
      },
      "source": [
        "## Ejemplo \n",
        "\n",
        "Recuerda que para poder entrenar un sistema de recomendación basado en usuarios necesitamos información sobre contenido que existe.\n",
        "Y si ha cada usuario le ha gustado o no los contenidos que ha visto. Esto se suele medir mediante la valoración del usuario, «Me Gustas», etc.\n",
        "\n",
        "Los datos de este ejemplo incluye información sobre libros, usuarios y los ratings que han dado los usuarios a dichos libros.\n",
        "\n",
        "\n"
      ]
    },
    {
      "cell_type": "code",
      "execution_count": null,
      "metadata": {
        "id": "ZxMeHZHXYA6y"
      },
      "outputs": [],
      "source": [
        "import pandas as pd\n",
        "import requests\n",
        "from zipfile import ZipFile # Para descomprimir el archivo \n",
        "import shutil\n",
        "import numpy as np\n",
        "\n",
        "\n"
      ]
    },
    {
      "cell_type": "markdown",
      "metadata": {
        "id": "_azBE5lNYA6z"
      },
      "source": [
        "Mini ejercicio para descargar un archivo zip"
      ]
    },
    {
      "cell_type": "code",
      "execution_count": null,
      "metadata": {
        "id": "1eg5zEfTYA6z"
      },
      "outputs": [],
      "source": [
        "url = \"http://www2.informatik.uni-freiburg.de/~cziegler/BX/BX-CSV-Dump.zip\"\n",
        "resp = requests.get(url)\n"
      ]
    },
    {
      "cell_type": "code",
      "execution_count": null,
      "metadata": {
        "colab": {
          "base_uri": "https://localhost:8080/",
          "height": 35
        },
        "id": "Yiu9Us_KYA60",
        "outputId": "6015c201-2e3e-4625-8a9c-5573067c5790"
      },
      "outputs": [
        {
          "output_type": "execute_result",
          "data": {
            "text/plain": [
              "'BX-CSV-Dump.zip'"
            ],
            "application/vnd.google.colaboratory.intrinsic+json": {
              "type": "string"
            }
          },
          "metadata": {},
          "execution_count": 207
        }
      ],
      "source": [
        "# Hacemos una petición get a la url \n",
        "resp = requests.get(url)\n",
        "\n",
        "# Creamos un archivo zip con el contenido de la respuesta \n",
        "filename = url.split('/')[-1]\n",
        "filename"
      ]
    },
    {
      "cell_type": "code",
      "execution_count": null,
      "metadata": {
        "id": "0wy51MABYA61"
      },
      "outputs": [],
      "source": [
        "# Lo descomprimimos en la carpeta actual    \n",
        "with open(filename, 'wb') as f:\n",
        "  f.write(resp.content)"
      ]
    },
    {
      "cell_type": "code",
      "execution_count": null,
      "metadata": {
        "id": "9oolxtN4YA61"
      },
      "outputs": [],
      "source": [
        "\n",
        "# Descomprimimos el archivo \n",
        "with ZipFile(filename, 'r') as zip:\n",
        "    # Descomprimimos el archivo en la carpeta data \n",
        "    zip.extractall('data')\n",
        "\n",
        "\n",
        "\n"
      ]
    },
    {
      "cell_type": "code",
      "execution_count": null,
      "metadata": {
        "colab": {
          "base_uri": "https://localhost:8080/",
          "height": 206
        },
        "id": "j6U53MCkYA61",
        "outputId": "989dc882-1fbc-4351-ea51-ff683093c0fb"
      },
      "outputs": [
        {
          "output_type": "execute_result",
          "data": {
            "text/plain": [
              "   User-ID        ISBN  Book-Rating\n",
              "0   276725  034545104X            0\n",
              "1   276726  0155061224            5\n",
              "2   276727  0446520802            0\n",
              "3   276729  052165615X            3\n",
              "4   276729  0521795028            6"
            ],
            "text/html": [
              "\n",
              "  <div id=\"df-0b310248-d5a7-4722-badd-52ac6c603593\">\n",
              "    <div class=\"colab-df-container\">\n",
              "      <div>\n",
              "<style scoped>\n",
              "    .dataframe tbody tr th:only-of-type {\n",
              "        vertical-align: middle;\n",
              "    }\n",
              "\n",
              "    .dataframe tbody tr th {\n",
              "        vertical-align: top;\n",
              "    }\n",
              "\n",
              "    .dataframe thead th {\n",
              "        text-align: right;\n",
              "    }\n",
              "</style>\n",
              "<table border=\"1\" class=\"dataframe\">\n",
              "  <thead>\n",
              "    <tr style=\"text-align: right;\">\n",
              "      <th></th>\n",
              "      <th>User-ID</th>\n",
              "      <th>ISBN</th>\n",
              "      <th>Book-Rating</th>\n",
              "    </tr>\n",
              "  </thead>\n",
              "  <tbody>\n",
              "    <tr>\n",
              "      <th>0</th>\n",
              "      <td>276725</td>\n",
              "      <td>034545104X</td>\n",
              "      <td>0</td>\n",
              "    </tr>\n",
              "    <tr>\n",
              "      <th>1</th>\n",
              "      <td>276726</td>\n",
              "      <td>0155061224</td>\n",
              "      <td>5</td>\n",
              "    </tr>\n",
              "    <tr>\n",
              "      <th>2</th>\n",
              "      <td>276727</td>\n",
              "      <td>0446520802</td>\n",
              "      <td>0</td>\n",
              "    </tr>\n",
              "    <tr>\n",
              "      <th>3</th>\n",
              "      <td>276729</td>\n",
              "      <td>052165615X</td>\n",
              "      <td>3</td>\n",
              "    </tr>\n",
              "    <tr>\n",
              "      <th>4</th>\n",
              "      <td>276729</td>\n",
              "      <td>0521795028</td>\n",
              "      <td>6</td>\n",
              "    </tr>\n",
              "  </tbody>\n",
              "</table>\n",
              "</div>\n",
              "      <button class=\"colab-df-convert\" onclick=\"convertToInteractive('df-0b310248-d5a7-4722-badd-52ac6c603593')\"\n",
              "              title=\"Convert this dataframe to an interactive table.\"\n",
              "              style=\"display:none;\">\n",
              "        \n",
              "  <svg xmlns=\"http://www.w3.org/2000/svg\" height=\"24px\"viewBox=\"0 0 24 24\"\n",
              "       width=\"24px\">\n",
              "    <path d=\"M0 0h24v24H0V0z\" fill=\"none\"/>\n",
              "    <path d=\"M18.56 5.44l.94 2.06.94-2.06 2.06-.94-2.06-.94-.94-2.06-.94 2.06-2.06.94zm-11 1L8.5 8.5l.94-2.06 2.06-.94-2.06-.94L8.5 2.5l-.94 2.06-2.06.94zm10 10l.94 2.06.94-2.06 2.06-.94-2.06-.94-.94-2.06-.94 2.06-2.06.94z\"/><path d=\"M17.41 7.96l-1.37-1.37c-.4-.4-.92-.59-1.43-.59-.52 0-1.04.2-1.43.59L10.3 9.45l-7.72 7.72c-.78.78-.78 2.05 0 2.83L4 21.41c.39.39.9.59 1.41.59.51 0 1.02-.2 1.41-.59l7.78-7.78 2.81-2.81c.8-.78.8-2.07 0-2.86zM5.41 20L4 18.59l7.72-7.72 1.47 1.35L5.41 20z\"/>\n",
              "  </svg>\n",
              "      </button>\n",
              "      \n",
              "  <style>\n",
              "    .colab-df-container {\n",
              "      display:flex;\n",
              "      flex-wrap:wrap;\n",
              "      gap: 12px;\n",
              "    }\n",
              "\n",
              "    .colab-df-convert {\n",
              "      background-color: #E8F0FE;\n",
              "      border: none;\n",
              "      border-radius: 50%;\n",
              "      cursor: pointer;\n",
              "      display: none;\n",
              "      fill: #1967D2;\n",
              "      height: 32px;\n",
              "      padding: 0 0 0 0;\n",
              "      width: 32px;\n",
              "    }\n",
              "\n",
              "    .colab-df-convert:hover {\n",
              "      background-color: #E2EBFA;\n",
              "      box-shadow: 0px 1px 2px rgba(60, 64, 67, 0.3), 0px 1px 3px 1px rgba(60, 64, 67, 0.15);\n",
              "      fill: #174EA6;\n",
              "    }\n",
              "\n",
              "    [theme=dark] .colab-df-convert {\n",
              "      background-color: #3B4455;\n",
              "      fill: #D2E3FC;\n",
              "    }\n",
              "\n",
              "    [theme=dark] .colab-df-convert:hover {\n",
              "      background-color: #434B5C;\n",
              "      box-shadow: 0px 1px 3px 1px rgba(0, 0, 0, 0.15);\n",
              "      filter: drop-shadow(0px 1px 2px rgba(0, 0, 0, 0.3));\n",
              "      fill: #FFFFFF;\n",
              "    }\n",
              "  </style>\n",
              "\n",
              "      <script>\n",
              "        const buttonEl =\n",
              "          document.querySelector('#df-0b310248-d5a7-4722-badd-52ac6c603593 button.colab-df-convert');\n",
              "        buttonEl.style.display =\n",
              "          google.colab.kernel.accessAllowed ? 'block' : 'none';\n",
              "\n",
              "        async function convertToInteractive(key) {\n",
              "          const element = document.querySelector('#df-0b310248-d5a7-4722-badd-52ac6c603593');\n",
              "          const dataTable =\n",
              "            await google.colab.kernel.invokeFunction('convertToInteractive',\n",
              "                                                     [key], {});\n",
              "          if (!dataTable) return;\n",
              "\n",
              "          const docLinkHtml = 'Like what you see? Visit the ' +\n",
              "            '<a target=\"_blank\" href=https://colab.research.google.com/notebooks/data_table.ipynb>data table notebook</a>'\n",
              "            + ' to learn more about interactive tables.';\n",
              "          element.innerHTML = '';\n",
              "          dataTable['output_type'] = 'display_data';\n",
              "          await google.colab.output.renderOutput(dataTable, element);\n",
              "          const docLink = document.createElement('div');\n",
              "          docLink.innerHTML = docLinkHtml;\n",
              "          element.appendChild(docLink);\n",
              "        }\n",
              "      </script>\n",
              "    </div>\n",
              "  </div>\n",
              "  "
            ]
          },
          "metadata": {},
          "execution_count": 210
        }
      ],
      "source": [
        "ratings = pd.read_csv('data/BX-Book-Ratings.csv', sep = \";\", encoding='latin-1', on_bad_lines='skip')\n",
        "\n",
        "ratings.head()"
      ]
    },
    {
      "cell_type": "markdown",
      "metadata": {
        "id": "I89kzK9GYA62"
      },
      "source": [
        "# EDA"
      ]
    },
    {
      "cell_type": "code",
      "execution_count": null,
      "metadata": {
        "colab": {
          "base_uri": "https://localhost:8080/"
        },
        "id": "aM2gTtM5YA62",
        "outputId": "7c3cef51-ea46-4af0-cadb-3f9ed32f49f2"
      },
      "outputs": [
        {
          "output_type": "stream",
          "name": "stdout",
          "text": [
            "<class 'pandas.core.frame.DataFrame'>\n",
            "RangeIndex: 1149780 entries, 0 to 1149779\n",
            "Data columns (total 3 columns):\n",
            " #   Column       Non-Null Count    Dtype \n",
            "---  ------       --------------    ----- \n",
            " 0   User-ID      1149780 non-null  int64 \n",
            " 1   ISBN         1149780 non-null  object\n",
            " 2   Book-Rating  1149780 non-null  int64 \n",
            "dtypes: int64(2), object(1)\n",
            "memory usage: 26.3+ MB\n"
          ]
        }
      ],
      "source": [
        "ratings.info()"
      ]
    },
    {
      "cell_type": "code",
      "execution_count": null,
      "metadata": {
        "colab": {
          "base_uri": "https://localhost:8080/",
          "height": 282
        },
        "id": "_ArufvNbYA62",
        "outputId": "3a5639e3-e8a1-4904-a64c-cfe2f0928af7"
      },
      "outputs": [
        {
          "output_type": "execute_result",
          "data": {
            "text/plain": [
              "<Axes: >"
            ]
          },
          "metadata": {},
          "execution_count": 212
        },
        {
          "output_type": "display_data",
          "data": {
            "text/plain": [
              "<Figure size 432x288 with 1 Axes>"
            ],
            "image/png": "[encoded data removed]"
          },
          "metadata": {
            "needs_background": "light"
          }
        }
      ],
      "source": [
        "ratings['Book-Rating'].hist()\n"
      ]
    },
    {
      "cell_type": "markdown",
      "metadata": {
        "id": "5auB1uuzYA62"
      },
      "source": [
        "Como podeos ver, parece que contamos con muchas valoraciones con el valor de 0. Aunque esto pueda parecer un error, si nos vamos al origen de los [datos](http://www2.informatik.uni-freiburg.de/~cziegler/BX/) nos indican que las valoraciones de 0 son valoraciones que no ha hecho el usuario, sino que han extraido a partir del comportamiento del mismo.\n",
        "\n",
        "Tras leernos la documentacion, vamos a preparar los datos para poder entrenar nuestro sistema de recomendación."
      ]
    },
    {
      "cell_type": "markdown",
      "metadata": {
        "id": "UZEcrlziYA62"
      },
      "source": [
        "## Preparacion de datos\n",
        "\n",
        "Vamos a quitar las valoraciones implicitas que vienen en los datos, puesto que no conocemos muy bien cómo se ha llegado a ellas y nos pueden añadir ruido al modelo."
      ]
    },
    {
      "cell_type": "code",
      "execution_count": null,
      "metadata": {
        "colab": {
          "base_uri": "https://localhost:8080/",
          "height": 424
        },
        "id": "s9USPc4pYA63",
        "outputId": "be8dd321-6c34-4911-ad20-405aaf58b29a"
      },
      "outputs": [
        {
          "output_type": "execute_result",
          "data": {
            "text/plain": [
              "         User-ID         ISBN  Book-Rating\n",
              "1         276726   0155061224            5\n",
              "3         276729   052165615X            3\n",
              "4         276729   0521795028            6\n",
              "6         276736   3257224281            8\n",
              "7         276737   0600570967            6\n",
              "...          ...          ...          ...\n",
              "1149773   276704   0806917695            5\n",
              "1149775   276704   1563526298            9\n",
              "1149777   276709   0515107662           10\n",
              "1149778   276721   0590442449           10\n",
              "1149779   276723  05162443314            8\n",
              "\n",
              "[433671 rows x 3 columns]"
            ],
            "text/html": [
              "\n",
              "  <div id=\"df-0cf508d1-d546-4df7-abfd-9b0cac267f7f\">\n",
              "    <div class=\"colab-df-container\">\n",
              "      <div>\n",
              "<style scoped>\n",
              "    .dataframe tbody tr th:only-of-type {\n",
              "        vertical-align: middle;\n",
              "    }\n",
              "\n",
              "    .dataframe tbody tr th {\n",
              "        vertical-align: top;\n",
              "    }\n",
              "\n",
              "    .dataframe thead th {\n",
              "        text-align: right;\n",
              "    }\n",
              "</style>\n",
              "<table border=\"1\" class=\"dataframe\">\n",
              "  <thead>\n",
              "    <tr style=\"text-align: right;\">\n",
              "      <th></th>\n",
              "      <th>User-ID</th>\n",
              "      <th>ISBN</th>\n",
              "      <th>Book-Rating</th>\n",
              "    </tr>\n",
              "  </thead>\n",
              "  <tbody>\n",
              "    <tr>\n",
              "      <th>1</th>\n",
              "      <td>276726</td>\n",
              "      <td>0155061224</td>\n",
              "      <td>5</td>\n",
              "    </tr>\n",
              "    <tr>\n",
              "      <th>3</th>\n",
              "      <td>276729</td>\n",
              "      <td>052165615X</td>\n",
              "      <td>3</td>\n",
              "    </tr>\n",
              "    <tr>\n",
              "      <th>4</th>\n",
              "      <td>276729</td>\n",
              "      <td>0521795028</td>\n",
              "      <td>6</td>\n",
              "    </tr>\n",
              "    <tr>\n",
              "      <th>6</th>\n",
              "      <td>276736</td>\n",
              "      <td>3257224281</td>\n",
              "      <td>8</td>\n",
              "    </tr>\n",
              "    <tr>\n",
              "      <th>7</th>\n",
              "      <td>276737</td>\n",
              "      <td>0600570967</td>\n",
              "      <td>6</td>\n",
              "    </tr>\n",
              "    <tr>\n",
              "      <th>...</th>\n",
              "      <td>...</td>\n",
              "      <td>...</td>\n",
              "      <td>...</td>\n",
              "    </tr>\n",
              "    <tr>\n",
              "      <th>1149773</th>\n",
              "      <td>276704</td>\n",
              "      <td>0806917695</td>\n",
              "      <td>5</td>\n",
              "    </tr>\n",
              "    <tr>\n",
              "      <th>1149775</th>\n",
              "      <td>276704</td>\n",
              "      <td>1563526298</td>\n",
              "      <td>9</td>\n",
              "    </tr>\n",
              "    <tr>\n",
              "      <th>1149777</th>\n",
              "      <td>276709</td>\n",
              "      <td>0515107662</td>\n",
              "      <td>10</td>\n",
              "    </tr>\n",
              "    <tr>\n",
              "      <th>1149778</th>\n",
              "      <td>276721</td>\n",
              "      <td>0590442449</td>\n",
              "      <td>10</td>\n",
              "    </tr>\n",
              "    <tr>\n",
              "      <th>1149779</th>\n",
              "      <td>276723</td>\n",
              "      <td>05162443314</td>\n",
              "      <td>8</td>\n",
              "    </tr>\n",
              "  </tbody>\n",
              "</table>\n",
              "<p>433671 rows × 3 columns</p>\n",
              "</div>\n",
              "      <button class=\"colab-df-convert\" onclick=\"convertToInteractive('df-0cf508d1-d546-4df7-abfd-9b0cac267f7f')\"\n",
              "              title=\"Convert this dataframe to an interactive table.\"\n",
              "              style=\"display:none;\">\n",
              "        \n",
              "  <svg xmlns=\"http://www.w3.org/2000/svg\" height=\"24px\"viewBox=\"0 0 24 24\"\n",
              "       width=\"24px\">\n",
              "    <path d=\"M0 0h24v24H0V0z\" fill=\"none\"/>\n",
              "    <path d=\"M18.56 5.44l.94 2.06.94-2.06 2.06-.94-2.06-.94-.94-2.06-.94 2.06-2.06.94zm-11 1L8.5 8.5l.94-2.06 2.06-.94-2.06-.94L8.5 2.5l-.94 2.06-2.06.94zm10 10l.94 2.06.94-2.06 2.06-.94-2.06-.94-.94-2.06-.94 2.06-2.06.94z\"/><path d=\"M17.41 7.96l-1.37-1.37c-.4-.4-.92-.59-1.43-.59-.52 0-1.04.2-1.43.59L10.3 9.45l-7.72 7.72c-.78.78-.78 2.05 0 2.83L4 21.41c.39.39.9.59 1.41.59.51 0 1.02-.2 1.41-.59l7.78-7.78 2.81-2.81c.8-.78.8-2.07 0-2.86zM5.41 20L4 18.59l7.72-7.72 1.47 1.35L5.41 20z\"/>\n",
              "  </svg>\n",
              "      </button>\n",
              "      \n",
              "  <style>\n",
              "    .colab-df-container {\n",
              "      display:flex;\n",
              "      flex-wrap:wrap;\n",
              "      gap: 12px;\n",
              "    }\n",
              "\n",
              "    .colab-df-convert {\n",
              "      background-color: #E8F0FE;\n",
              "      border: none;\n",
              "      border-radius: 50%;\n",
              "      cursor: pointer;\n",
              "      display: none;\n",
              "      fill: #1967D2;\n",
              "      height: 32px;\n",
              "      padding: 0 0 0 0;\n",
              "      width: 32px;\n",
              "    }\n",
              "\n",
              "    .colab-df-convert:hover {\n",
              "      background-color: #E2EBFA;\n",
              "      box-shadow: 0px 1px 2px rgba(60, 64, 67, 0.3), 0px 1px 3px 1px rgba(60, 64, 67, 0.15);\n",
              "      fill: #174EA6;\n",
              "    }\n",
              "\n",
              "    [theme=dark] .colab-df-convert {\n",
              "      background-color: #3B4455;\n",
              "      fill: #D2E3FC;\n",
              "    }\n",
              "\n",
              "    [theme=dark] .colab-df-convert:hover {\n",
              "      background-color: #434B5C;\n",
              "      box-shadow: 0px 1px 3px 1px rgba(0, 0, 0, 0.15);\n",
              "      filter: drop-shadow(0px 1px 2px rgba(0, 0, 0, 0.3));\n",
              "      fill: #FFFFFF;\n",
              "    }\n",
              "  </style>\n",
              "\n",
              "      <script>\n",
              "        const buttonEl =\n",
              "          document.querySelector('#df-0cf508d1-d546-4df7-abfd-9b0cac267f7f button.colab-df-convert');\n",
              "        buttonEl.style.display =\n",
              "          google.colab.kernel.accessAllowed ? 'block' : 'none';\n",
              "\n",
              "        async function convertToInteractive(key) {\n",
              "          const element = document.querySelector('#df-0cf508d1-d546-4df7-abfd-9b0cac267f7f');\n",
              "          const dataTable =\n",
              "            await google.colab.kernel.invokeFunction('convertToInteractive',\n",
              "                                                     [key], {});\n",
              "          if (!dataTable) return;\n",
              "\n",
              "          const docLinkHtml = 'Like what you see? Visit the ' +\n",
              "            '<a target=\"_blank\" href=https://colab.research.google.com/notebooks/data_table.ipynb>data table notebook</a>'\n",
              "            + ' to learn more about interactive tables.';\n",
              "          element.innerHTML = '';\n",
              "          dataTable['output_type'] = 'display_data';\n",
              "          await google.colab.output.renderOutput(dataTable, element);\n",
              "          const docLink = document.createElement('div');\n",
              "          docLink.innerHTML = docLinkHtml;\n",
              "          element.appendChild(docLink);\n",
              "        }\n",
              "      </script>\n",
              "    </div>\n",
              "  </div>\n",
              "  "
            ]
          },
          "metadata": {},
          "execution_count": 213
        }
      ],
      "source": [
        "res = (ratings.query('`Book-Rating` != 0'))# query permite hacer consultas sobre el dataframe una forma bastante efectiva para filtrar 😜\n",
        "res"
      ]
    },
    {
      "cell_type": "code",
      "execution_count": null,
      "metadata": {
        "colab": {
          "base_uri": "https://localhost:8080/",
          "height": 282
        },
        "id": "dhO5xtglYA63",
        "outputId": "fc7f7226-814f-4df8-b213-77503f5ebd69"
      },
      "outputs": [
        {
          "output_type": "execute_result",
          "data": {
            "text/plain": [
              "<Axes: >"
            ]
          },
          "metadata": {},
          "execution_count": 214
        },
        {
          "output_type": "display_data",
          "data": {
            "text/plain": [
              "<Figure size 432x288 with 1 Axes>"
            ],
            "image/png": "[encoded data removed]"
          },
          "metadata": {
            "needs_background": "light"
          }
        }
      ],
      "source": [
        "res['Book-Rating'].hist()"
      ]
    },
    {
      "cell_type": "code",
      "source": [
        "# reducimos los datos a 1000\n",
        "res = res.sample(50)\n",
        "res"
      ],
      "metadata": {
        "colab": {
          "base_uri": "https://localhost:8080/",
          "height": 1000
        },
        "id": "E2MCWCDX1wwc",
        "outputId": "a08341e0-82e4-4c2a-f18d-39f4dde36080"
      },
      "execution_count": null,
      "outputs": [
        {
          "output_type": "execute_result",
          "data": {
            "text/plain": [
              "         User-ID           ISBN  Book-Rating\n",
              "641272    154888     0679774025            7\n",
              "527112    127352     0385337639            7\n",
              "179139     38872     3826820800            8\n",
              "471867    112953     0393057240           10\n",
              "580803    139913     0385316860            7\n",
              "105534     24150     0399136150            8\n",
              "1094936   262795     0375502238            8\n",
              "71678      15263     0747550999           10\n",
              "392683     94923     0451180747            7\n",
              "94844      21252     0307232026           10\n",
              "777697    188171     0934878005            9\n",
              "4258      278356     0439136369           10\n",
              "1094988   262852     0515087122            8\n",
              "551804    132459     0911662251           10\n",
              "22576       4809     0590353403            8\n",
              "123434     28477     0451456734            8\n",
              "693394    168897     0688003982            7\n",
              "360054     86720     0425153088            7\n",
              "456251    109741     3518368540            8\n",
              "448862    107748  9782702478479            8\n",
              "26957       6333     0786890061            6\n",
              "802790    195001     0312969120            7\n",
              "1051838   251422     0373250193            8\n",
              "145553     32627     0380795566            9\n",
              "436660    104532     3150091519            5\n",
              "495441    119227     0671024094            8\n",
              "49024      11676     0395511224           10\n",
              "304213     72940     0517309726            8\n",
              "486876    115754     1558744150            8\n",
              "922194    224646     014017186X            8\n",
              "374003     89867     0451139089            7\n",
              "266699     61639     325706277X            3\n",
              "37061       8872     0553587692            8\n",
              "433596    103336     0618004076            7\n",
              "351384     84134     0060391685           10\n",
              "336751     80203     039304016X            7\n",
              "34565       8245     006101253X            8\n",
              "1030701   246512     0939149613            3\n",
              "909834    221445     0786868716            7\n",
              "149229     33816     0316666343            9\n",
              "710826    172462     067944646X            7\n",
              "395020     95301     0439977479            9\n",
              "42514      10949     1558850767            8\n",
              "509217    123883     0874518776            5\n",
              "864474    209077     1583143173           10\n",
              "930297    225938     0671021001            9\n",
              "87684      19085     0345417623            8\n",
              "1054577   251756     0020885709           10\n",
              "269123     62542     0316781266            5\n",
              "49927      11676     0441003729            8"
            ],
            "text/html": [
              "\n",
              "  <div id=\"df-9a668dd6-cd2d-4561-b9bf-07937e506c72\">\n",
              "    <div class=\"colab-df-container\">\n",
              "      <div>\n",
              "<style scoped>\n",
              "    .dataframe tbody tr th:only-of-type {\n",
              "        vertical-align: middle;\n",
              "    }\n",
              "\n",
              "    .dataframe tbody tr th {\n",
              "        vertical-align: top;\n",
              "    }\n",
              "\n",
              "    .dataframe thead th {\n",
              "        text-align: right;\n",
              "    }\n",
              "</style>\n",
              "<table border=\"1\" class=\"dataframe\">\n",
              "  <thead>\n",
              "    <tr style=\"text-align: right;\">\n",
              "      <th></th>\n",
              "      <th>User-ID</th>\n",
              "      <th>ISBN</th>\n",
              "      <th>Book-Rating</th>\n",
              "    </tr>\n",
              "  </thead>\n",
              "  <tbody>\n",
              "    <tr>\n",
              "      <th>641272</th>\n",
              "      <td>154888</td>\n",
              "      <td>0679774025</td>\n",
              "      <td>7</td>\n",
              "    </tr>\n",
              "    <tr>\n",
              "      <th>527112</th>\n",
              "      <td>127352</td>\n",
              "      <td>0385337639</td>\n",
              "      <td>7</td>\n",
              "    </tr>\n",
              "    <tr>\n",
              "      <th>179139</th>\n",
              "      <td>38872</td>\n",
              "      <td>3826820800</td>\n",
              "      <td>8</td>\n",
              "    </tr>\n",
              "    <tr>\n",
              "      <th>471867</th>\n",
              "      <td>112953</td>\n",
              "      <td>0393057240</td>\n",
              "      <td>10</td>\n",
              "    </tr>\n",
              "    <tr>\n",
              "      <th>580803</th>\n",
              "      <td>139913</td>\n",
              "      <td>0385316860</td>\n",
              "      <td>7</td>\n",
              "    </tr>\n",
              "    <tr>\n",
              "      <th>105534</th>\n",
              "      <td>24150</td>\n",
              "      <td>0399136150</td>\n",
              "      <td>8</td>\n",
              "    </tr>\n",
              "    <tr>\n",
              "      <th>1094936</th>\n",
              "      <td>262795</td>\n",
              "      <td>0375502238</td>\n",
              "      <td>8</td>\n",
              "    </tr>\n",
              "    <tr>\n",
              "      <th>71678</th>\n",
              "      <td>15263</td>\n",
              "      <td>0747550999</td>\n",
              "      <td>10</td>\n",
              "    </tr>\n",
              "    <tr>\n",
              "      <th>392683</th>\n",
              "      <td>94923</td>\n",
              "      <td>0451180747</td>\n",
              "      <td>7</td>\n",
              "    </tr>\n",
              "    <tr>\n",
              "      <th>94844</th>\n",
              "      <td>21252</td>\n",
              "      <td>0307232026</td>\n",
              "      <td>10</td>\n",
              "    </tr>\n",
              "    <tr>\n",
              "      <th>777697</th>\n",
              "      <td>188171</td>\n",
              "      <td>0934878005</td>\n",
              "      <td>9</td>\n",
              "    </tr>\n",
              "    <tr>\n",
              "      <th>4258</th>\n",
              "      <td>278356</td>\n",
              "      <td>0439136369</td>\n",
              "      <td>10</td>\n",
              "    </tr>\n",
              "    <tr>\n",
              "      <th>1094988</th>\n",
              "      <td>262852</td>\n",
              "      <td>0515087122</td>\n",
              "      <td>8</td>\n",
              "    </tr>\n",
              "    <tr>\n",
              "      <th>551804</th>\n",
              "      <td>132459</td>\n",
              "      <td>0911662251</td>\n",
              "      <td>10</td>\n",
              "    </tr>\n",
              "    <tr>\n",
              "      <th>22576</th>\n",
              "      <td>4809</td>\n",
              "      <td>0590353403</td>\n",
              "      <td>8</td>\n",
              "    </tr>\n",
              "    <tr>\n",
              "      <th>123434</th>\n",
              "      <td>28477</td>\n",
              "      <td>0451456734</td>\n",
              "      <td>8</td>\n",
              "    </tr>\n",
              "    <tr>\n",
              "      <th>693394</th>\n",
              "      <td>168897</td>\n",
              "      <td>0688003982</td>\n",
              "      <td>7</td>\n",
              "    </tr>\n",
              "    <tr>\n",
              "      <th>360054</th>\n",
              "      <td>86720</td>\n",
              "      <td>0425153088</td>\n",
              "      <td>7</td>\n",
              "    </tr>\n",
              "    <tr>\n",
              "      <th>456251</th>\n",
              "      <td>109741</td>\n",
              "      <td>3518368540</td>\n",
              "      <td>8</td>\n",
              "    </tr>\n",
              "    <tr>\n",
              "      <th>448862</th>\n",
              "      <td>107748</td>\n",
              "      <td>9782702478479</td>\n",
              "      <td>8</td>\n",
              "    </tr>\n",
              "    <tr>\n",
              "      <th>26957</th>\n",
              "      <td>6333</td>\n",
              "      <td>0786890061</td>\n",
              "      <td>6</td>\n",
              "    </tr>\n",
              "    <tr>\n",
              "      <th>802790</th>\n",
              "      <td>195001</td>\n",
              "      <td>0312969120</td>\n",
              "      <td>7</td>\n",
              "    </tr>\n",
              "    <tr>\n",
              "      <th>1051838</th>\n",
              "      <td>251422</td>\n",
              "      <td>0373250193</td>\n",
              "      <td>8</td>\n",
              "    </tr>\n",
              "    <tr>\n",
              "      <th>145553</th>\n",
              "      <td>32627</td>\n",
              "      <td>0380795566</td>\n",
              "      <td>9</td>\n",
              "    </tr>\n",
              "    <tr>\n",
              "      <th>436660</th>\n",
              "      <td>104532</td>\n",
              "      <td>3150091519</td>\n",
              "      <td>5</td>\n",
              "    </tr>\n",
              "    <tr>\n",
              "      <th>495441</th>\n",
              "      <td>119227</td>\n",
              "      <td>0671024094</td>\n",
              "      <td>8</td>\n",
              "    </tr>\n",
              "    <tr>\n",
              "      <th>49024</th>\n",
              "      <td>11676</td>\n",
              "      <td>0395511224</td>\n",
              "      <td>10</td>\n",
              "    </tr>\n",
              "    <tr>\n",
              "      <th>304213</th>\n",
              "      <td>72940</td>\n",
              "      <td>0517309726</td>\n",
              "      <td>8</td>\n",
              "    </tr>\n",
              "    <tr>\n",
              "      <th>486876</th>\n",
              "      <td>115754</td>\n",
              "      <td>1558744150</td>\n",
              "      <td>8</td>\n",
              "    </tr>\n",
              "    <tr>\n",
              "      <th>922194</th>\n",
              "      <td>224646</td>\n",
              "      <td>014017186X</td>\n",
              "      <td>8</td>\n",
              "    </tr>\n",
              "    <tr>\n",
              "      <th>374003</th>\n",
              "      <td>89867</td>\n",
              "      <td>0451139089</td>\n",
              "      <td>7</td>\n",
              "    </tr>\n",
              "    <tr>\n",
              "      <th>266699</th>\n",
              "      <td>61639</td>\n",
              "      <td>325706277X</td>\n",
              "      <td>3</td>\n",
              "    </tr>\n",
              "    <tr>\n",
              "      <th>37061</th>\n",
              "      <td>8872</td>\n",
              "      <td>0553587692</td>\n",
              "      <td>8</td>\n",
              "    </tr>\n",
              "    <tr>\n",
              "      <th>433596</th>\n",
              "      <td>103336</td>\n",
              "      <td>0618004076</td>\n",
              "      <td>7</td>\n",
              "    </tr>\n",
              "    <tr>\n",
              "      <th>351384</th>\n",
              "      <td>84134</td>\n",
              "      <td>0060391685</td>\n",
              "      <td>10</td>\n",
              "    </tr>\n",
              "    <tr>\n",
              "      <th>336751</th>\n",
              "      <td>80203</td>\n",
              "      <td>039304016X</td>\n",
              "      <td>7</td>\n",
              "    </tr>\n",
              "    <tr>\n",
              "      <th>34565</th>\n",
              "      <td>8245</td>\n",
              "      <td>006101253X</td>\n",
              "      <td>8</td>\n",
              "    </tr>\n",
              "    <tr>\n",
              "      <th>1030701</th>\n",
              "      <td>246512</td>\n",
              "      <td>0939149613</td>\n",
              "      <td>3</td>\n",
              "    </tr>\n",
              "    <tr>\n",
              "      <th>909834</th>\n",
              "      <td>221445</td>\n",
              "      <td>0786868716</td>\n",
              "      <td>7</td>\n",
              "    </tr>\n",
              "    <tr>\n",
              "      <th>149229</th>\n",
              "      <td>33816</td>\n",
              "      <td>0316666343</td>\n",
              "      <td>9</td>\n",
              "    </tr>\n",
              "    <tr>\n",
              "      <th>710826</th>\n",
              "      <td>172462</td>\n",
              "      <td>067944646X</td>\n",
              "      <td>7</td>\n",
              "    </tr>\n",
              "    <tr>\n",
              "      <th>395020</th>\n",
              "      <td>95301</td>\n",
              "      <td>0439977479</td>\n",
              "      <td>9</td>\n",
              "    </tr>\n",
              "    <tr>\n",
              "      <th>42514</th>\n",
              "      <td>10949</td>\n",
              "      <td>1558850767</td>\n",
              "      <td>8</td>\n",
              "    </tr>\n",
              "    <tr>\n",
              "      <th>509217</th>\n",
              "      <td>123883</td>\n",
              "      <td>0874518776</td>\n",
              "      <td>5</td>\n",
              "    </tr>\n",
              "    <tr>\n",
              "      <th>864474</th>\n",
              "      <td>209077</td>\n",
              "      <td>1583143173</td>\n",
              "      <td>10</td>\n",
              "    </tr>\n",
              "    <tr>\n",
              "      <th>930297</th>\n",
              "      <td>225938</td>\n",
              "      <td>0671021001</td>\n",
              "      <td>9</td>\n",
              "    </tr>\n",
              "    <tr>\n",
              "      <th>87684</th>\n",
              "      <td>19085</td>\n",
              "      <td>0345417623</td>\n",
              "      <td>8</td>\n",
              "    </tr>\n",
              "    <tr>\n",
              "      <th>1054577</th>\n",
              "      <td>251756</td>\n",
              "      <td>0020885709</td>\n",
              "      <td>10</td>\n",
              "    </tr>\n",
              "    <tr>\n",
              "      <th>269123</th>\n",
              "      <td>62542</td>\n",
              "      <td>0316781266</td>\n",
              "      <td>5</td>\n",
              "    </tr>\n",
              "    <tr>\n",
              "      <th>49927</th>\n",
              "      <td>11676</td>\n",
              "      <td>0441003729</td>\n",
              "      <td>8</td>\n",
              "    </tr>\n",
              "  </tbody>\n",
              "</table>\n",
              "</div>\n",
              "      <button class=\"colab-df-convert\" onclick=\"convertToInteractive('df-9a668dd6-cd2d-4561-b9bf-07937e506c72')\"\n",
              "              title=\"Convert this dataframe to an interactive table.\"\n",
              "              style=\"display:none;\">\n",
              "        \n",
              "  <svg xmlns=\"http://www.w3.org/2000/svg\" height=\"24px\"viewBox=\"0 0 24 24\"\n",
              "       width=\"24px\">\n",
              "    <path d=\"M0 0h24v24H0V0z\" fill=\"none\"/>\n",
              "    <path d=\"M18.56 5.44l.94 2.06.94-2.06 2.06-.94-2.06-.94-.94-2.06-.94 2.06-2.06.94zm-11 1L8.5 8.5l.94-2.06 2.06-.94-2.06-.94L8.5 2.5l-.94 2.06-2.06.94zm10 10l.94 2.06.94-2.06 2.06-.94-2.06-.94-.94-2.06-.94 2.06-2.06.94z\"/><path d=\"M17.41 7.96l-1.37-1.37c-.4-.4-.92-.59-1.43-.59-.52 0-1.04.2-1.43.59L10.3 9.45l-7.72 7.72c-.78.78-.78 2.05 0 2.83L4 21.41c.39.39.9.59 1.41.59.51 0 1.02-.2 1.41-.59l7.78-7.78 2.81-2.81c.8-.78.8-2.07 0-2.86zM5.41 20L4 18.59l7.72-7.72 1.47 1.35L5.41 20z\"/>\n",
              "  </svg>\n",
              "      </button>\n",
              "      \n",
              "  <style>\n",
              "    .colab-df-container {\n",
              "      display:flex;\n",
              "      flex-wrap:wrap;\n",
              "      gap: 12px;\n",
              "    }\n",
              "\n",
              "    .colab-df-convert {\n",
              "      background-color: #E8F0FE;\n",
              "      border: none;\n",
              "      border-radius: 50%;\n",
              "      cursor: pointer;\n",
              "      display: none;\n",
              "      fill: #1967D2;\n",
              "      height: 32px;\n",
              "      padding: 0 0 0 0;\n",
              "      width: 32px;\n",
              "    }\n",
              "\n",
              "    .colab-df-convert:hover {\n",
              "      background-color: #E2EBFA;\n",
              "      box-shadow: 0px 1px 2px rgba(60, 64, 67, 0.3), 0px 1px 3px 1px rgba(60, 64, 67, 0.15);\n",
              "      fill: #174EA6;\n",
              "    }\n",
              "\n",
              "    [theme=dark] .colab-df-convert {\n",
              "      background-color: #3B4455;\n",
              "      fill: #D2E3FC;\n",
              "    }\n",
              "\n",
              "    [theme=dark] .colab-df-convert:hover {\n",
              "      background-color: #434B5C;\n",
              "      box-shadow: 0px 1px 3px 1px rgba(0, 0, 0, 0.15);\n",
              "      filter: drop-shadow(0px 1px 2px rgba(0, 0, 0, 0.3));\n",
              "      fill: #FFFFFF;\n",
              "    }\n",
              "  </style>\n",
              "\n",
              "      <script>\n",
              "        const buttonEl =\n",
              "          document.querySelector('#df-9a668dd6-cd2d-4561-b9bf-07937e506c72 button.colab-df-convert');\n",
              "        buttonEl.style.display =\n",
              "          google.colab.kernel.accessAllowed ? 'block' : 'none';\n",
              "\n",
              "        async function convertToInteractive(key) {\n",
              "          const element = document.querySelector('#df-9a668dd6-cd2d-4561-b9bf-07937e506c72');\n",
              "          const dataTable =\n",
              "            await google.colab.kernel.invokeFunction('convertToInteractive',\n",
              "                                                     [key], {});\n",
              "          if (!dataTable) return;\n",
              "\n",
              "          const docLinkHtml = 'Like what you see? Visit the ' +\n",
              "            '<a target=\"_blank\" href=https://colab.research.google.com/notebooks/data_table.ipynb>data table notebook</a>'\n",
              "            + ' to learn more about interactive tables.';\n",
              "          element.innerHTML = '';\n",
              "          dataTable['output_type'] = 'display_data';\n",
              "          await google.colab.output.renderOutput(dataTable, element);\n",
              "          const docLink = document.createElement('div');\n",
              "          docLink.innerHTML = docLinkHtml;\n",
              "          element.appendChild(docLink);\n",
              "        }\n",
              "      </script>\n",
              "    </div>\n",
              "  </div>\n",
              "  "
            ]
          },
          "metadata": {},
          "execution_count": 215
        }
      ]
    },
    {
      "cell_type": "markdown",
      "metadata": {
        "id": "78SMcTN-YA63"
      },
      "source": [
        "Ahora que tenemos los datos preparados vamos a pasar a crear nuestro sistema de recomendación basado en usuario."
      ]
    },
    {
      "cell_type": "markdown",
      "metadata": {
        "id": "Qe5CHDFpYA63"
      },
      "source": [
        "## Generacion de sistema de recomendacion \n",
        "\n",
        "Podríamos crear nuestro sistema de recomendación de muchas maneras. En nuestro caso vamos a optar por el [análisis semántico latente o LSA](https://es.wikipedia.org/wiki/Indexaci%C3%B3n_Sem%C3%A1ntica_Latente). La idea es sencilla, se trata de descomponer la matriz varias submatrices cuyo producto de como resultado la matriz original.\n",
        "\n",
        "Además, guardaremos algunos datos reales para comprobar el funcionamiento de  nuestro sistema de recomendación, puesto que, si funciona correctamente, los valores propuestos para nuestros datos deberían coincidir con los valores reales del modelo.\n",
        "\n",
        "Aunque dicho así suene muy complejo, aplicarlo es muy sencillo, puesto que la librería Surprise ya cuenta con funciones específicas para este propósito. \n",
        "\n",
        "Pasate por la documentacion [aqui](https://surpriselib.com/) .\n",
        "\n",
        "\n",
        "⚠️ La librería Surprise se centra en recomendaciones explícitas, es decir, recomendaciones dadas explícitamente por el usuario.\n",
        "\n",
        "⚠️ los dataset de Surprise solo pueden tener 3 columnas, en el orden de usuario, item, valoración."
      ]
    },
    {
      "cell_type": "code",
      "execution_count": null,
      "metadata": {
        "id": "GCMg7gjIYA63"
      },
      "outputs": [],
      "source": [
        "#!pip install scikit-surprise\n"
      ]
    },
    {
      "cell_type": "markdown",
      "metadata": {
        "id": "jkiCkJ0xYA63"
      },
      "source": [
        "Lo primero que tenemos que hacer es convertir nuestro dataframe en un Dataframe de Surprise. Para ello, vamos a usar la función `load_from_df`, así como un objeto `reader` que indique la escala de las valoraciones y el orden de las columnas."
      ]
    },
    {
      "cell_type": "code",
      "execution_count": null,
      "metadata": {
        "id": "qvKfVru3YA64"
      },
      "outputs": [],
      "source": [
        "from surprise import Dataset, Reader\n",
        "\n",
        "\n",
        "reader = Reader(line_format='user item rating', rating_scale=(1, 5))\n",
        "data = Dataset.load_from_df(res, reader)"
      ]
    },
    {
      "cell_type": "markdown",
      "metadata": {
        "id": "rh6JGI77YA64"
      },
      "source": [
        "Ahora que hemos cargado los datos, vamos a generar nuestro set de entrenamiento y vamos a entrenar nuestro sistema de recomendación. La librería Surprise cuenta con varios tipos de modelos, entre los que se encuentra SVD, que es lo mismo que el modelo LSA que hemos comentado previamente."
      ]
    },
    {
      "cell_type": "code",
      "execution_count": null,
      "metadata": {
        "colab": {
          "base_uri": "https://localhost:8080/"
        },
        "id": "hXvPWmPfYA64",
        "outputId": "81aa0e12-291a-4184-fe76-6bc44f52fc08"
      },
      "outputs": [
        {
          "output_type": "execute_result",
          "data": {
            "text/plain": [
              "<surprise.prediction_algorithms.matrix_factorization.SVD at 0x7fa1f49d4f40>"
            ]
          },
          "metadata": {},
          "execution_count": 218
        }
      ],
      "source": [
        "from surprise import SVD\n",
        "\n",
        "# generamos el conjunto de entrenamiento\n",
        "data_train_surp = data.build_full_trainset()\n",
        "\n",
        "# definimos el modelo LSA \n",
        "svd = SVD()\n",
        "\n",
        "# entrenamos el modelo\n",
        "svd.fit(data_train_surp)"
      ]
    },
    {
      "cell_type": "markdown",
      "metadata": {
        "id": "57OSFC_0YA64"
      },
      "source": [
        "Ahora que tenemos el modelo entrenado, vamos a ver qué tal funciona sobre datos nuevos. Como de costumbre, creamos el set de test y hacemos predicciones sobre dicho set.\n",
        "\n",
        "❤️Surprise tiene funciones propias para evaluar la funcionalidad de nuestro modelo❤️"
      ]
    },
    {
      "cell_type": "code",
      "execution_count": null,
      "metadata": {
        "colab": {
          "base_uri": "https://localhost:8080/"
        },
        "id": "B4iSOOJmYA64",
        "outputId": "b53a9a7c-3b95-437a-b3d8-f819935554d3"
      },
      "outputs": [
        {
          "output_type": "stream",
          "name": "stdout",
          "text": [
            "RMSE: 6.9914\n"
          ]
        },
        {
          "output_type": "execute_result",
          "data": {
            "text/plain": [
              "6.9914233171794145"
            ]
          },
          "metadata": {},
          "execution_count": 219
        }
      ],
      "source": [
        "from surprise import accuracy\n",
        "\n",
        "\n",
        "# generamos el conjunto de test a partir del conjunto de entrenamiento \n",
        "data_test_surp = data_train_surp.build_testset() \n",
        "\n",
        "#data_test_surp = data_test_surp.construct_testset() \n",
        "predictions = svd.test(data_test_surp)\n",
        "\n",
        "accuracy.rmse(predictions)"
      ]
    },
    {
      "cell_type": "markdown",
      "metadata": {
        "id": "1a2srpctYA64"
      },
      "source": [
        "Como podemos ver, contamos con un RMSE de 3.48, que, considerando que hablamos de 1 a 5 estrellas es bastante elevado.\n",
        "\n",
        "Para poder mejorarlo se podría (y debería) aplicar diferentes técnicas, como la optimziacion de hiperparámetros mediante Grid Search.\n",
        "\n",
        "De hecho, surprise cuenta con la función `GridSearch` que cumple con dicho propósito, aunque no es el objetivo de este post.\n",
        "\n",
        "En cualquier caso, veamos cómo obtener predicciones para un usuario concreto y una película concreta. Para ello, le debemos pasar una tuple con los valores id_usuario y id_contenido a nuestro sistema de recomendación."
      ]
    },
    {
      "cell_type": "code",
      "execution_count": null,
      "metadata": {
        "colab": {
          "base_uri": "https://localhost:8080/"
        },
        "id": "SY3cv_WLYA64",
        "outputId": "d6594f73-4d0e-4537-f18a-62c2eaaa5bd4"
      },
      "outputs": [
        {
          "output_type": "execute_result",
          "data": {
            "text/plain": [
              "Prediction(uid=276726, iid='0155061224', r_ui=None, est=1.0, details={'was_impossible': False})"
            ]
          },
          "metadata": {},
          "execution_count": 220
        }
      ],
      "source": [
        "user_id = 276726\n",
        "content_id = '0155061224'\n",
        "\n",
        "svd.predict(user_id, content_id)"
      ]
    },
    {
      "cell_type": "markdown",
      "source": [
        "comportamiento del usuario 276729"
      ],
      "metadata": {
        "id": "8bP354jTs4_6"
      }
    },
    {
      "cell_type": "code",
      "source": [
        "# obtenemos las valoraciones de los libros leidos por el usuario\n",
        "ratings_pred = res.loc[res['User-ID'] == 35859]\n",
        "ratings_pred"
      ],
      "metadata": {
        "colab": {
          "base_uri": "https://localhost:8080/",
          "height": 49
        },
        "id": "boACnmk1q_ep",
        "outputId": "7c16f2bc-fb23-44e1-ec67-916c93e4e9b4"
      },
      "execution_count": null,
      "outputs": [
        {
          "output_type": "execute_result",
          "data": {
            "text/plain": [
              "Empty DataFrame\n",
              "Columns: [User-ID, ISBN, Book-Rating]\n",
              "Index: []"
            ],
            "text/html": [
              "\n",
              "  <div id=\"df-ac4d4d50-53f8-4ad8-b621-e6ac812821bc\">\n",
              "    <div class=\"colab-df-container\">\n",
              "      <div>\n",
              "<style scoped>\n",
              "    .dataframe tbody tr th:only-of-type {\n",
              "        vertical-align: middle;\n",
              "    }\n",
              "\n",
              "    .dataframe tbody tr th {\n",
              "        vertical-align: top;\n",
              "    }\n",
              "\n",
              "    .dataframe thead th {\n",
              "        text-align: right;\n",
              "    }\n",
              "</style>\n",
              "<table border=\"1\" class=\"dataframe\">\n",
              "  <thead>\n",
              "    <tr style=\"text-align: right;\">\n",
              "      <th></th>\n",
              "      <th>User-ID</th>\n",
              "      <th>ISBN</th>\n",
              "      <th>Book-Rating</th>\n",
              "    </tr>\n",
              "  </thead>\n",
              "  <tbody>\n",
              "  </tbody>\n",
              "</table>\n",
              "</div>\n",
              "      <button class=\"colab-df-convert\" onclick=\"convertToInteractive('df-ac4d4d50-53f8-4ad8-b621-e6ac812821bc')\"\n",
              "              title=\"Convert this dataframe to an interactive table.\"\n",
              "              style=\"display:none;\">\n",
              "        \n",
              "  <svg xmlns=\"http://www.w3.org/2000/svg\" height=\"24px\"viewBox=\"0 0 24 24\"\n",
              "       width=\"24px\">\n",
              "    <path d=\"M0 0h24v24H0V0z\" fill=\"none\"/>\n",
              "    <path d=\"M18.56 5.44l.94 2.06.94-2.06 2.06-.94-2.06-.94-.94-2.06-.94 2.06-2.06.94zm-11 1L8.5 8.5l.94-2.06 2.06-.94-2.06-.94L8.5 2.5l-.94 2.06-2.06.94zm10 10l.94 2.06.94-2.06 2.06-.94-2.06-.94-.94-2.06-.94 2.06-2.06.94z\"/><path d=\"M17.41 7.96l-1.37-1.37c-.4-.4-.92-.59-1.43-.59-.52 0-1.04.2-1.43.59L10.3 9.45l-7.72 7.72c-.78.78-.78 2.05 0 2.83L4 21.41c.39.39.9.59 1.41.59.51 0 1.02-.2 1.41-.59l7.78-7.78 2.81-2.81c.8-.78.8-2.07 0-2.86zM5.41 20L4 18.59l7.72-7.72 1.47 1.35L5.41 20z\"/>\n",
              "  </svg>\n",
              "      </button>\n",
              "      \n",
              "  <style>\n",
              "    .colab-df-container {\n",
              "      display:flex;\n",
              "      flex-wrap:wrap;\n",
              "      gap: 12px;\n",
              "    }\n",
              "\n",
              "    .colab-df-convert {\n",
              "      background-color: #E8F0FE;\n",
              "      border: none;\n",
              "      border-radius: 50%;\n",
              "      cursor: pointer;\n",
              "      display: none;\n",
              "      fill: #1967D2;\n",
              "      height: 32px;\n",
              "      padding: 0 0 0 0;\n",
              "      width: 32px;\n",
              "    }\n",
              "\n",
              "    .colab-df-convert:hover {\n",
              "      background-color: #E2EBFA;\n",
              "      box-shadow: 0px 1px 2px rgba(60, 64, 67, 0.3), 0px 1px 3px 1px rgba(60, 64, 67, 0.15);\n",
              "      fill: #174EA6;\n",
              "    }\n",
              "\n",
              "    [theme=dark] .colab-df-convert {\n",
              "      background-color: #3B4455;\n",
              "      fill: #D2E3FC;\n",
              "    }\n",
              "\n",
              "    [theme=dark] .colab-df-convert:hover {\n",
              "      background-color: #434B5C;\n",
              "      box-shadow: 0px 1px 3px 1px rgba(0, 0, 0, 0.15);\n",
              "      filter: drop-shadow(0px 1px 2px rgba(0, 0, 0, 0.3));\n",
              "      fill: #FFFFFF;\n",
              "    }\n",
              "  </style>\n",
              "\n",
              "      <script>\n",
              "        const buttonEl =\n",
              "          document.querySelector('#df-ac4d4d50-53f8-4ad8-b621-e6ac812821bc button.colab-df-convert');\n",
              "        buttonEl.style.display =\n",
              "          google.colab.kernel.accessAllowed ? 'block' : 'none';\n",
              "\n",
              "        async function convertToInteractive(key) {\n",
              "          const element = document.querySelector('#df-ac4d4d50-53f8-4ad8-b621-e6ac812821bc');\n",
              "          const dataTable =\n",
              "            await google.colab.kernel.invokeFunction('convertToInteractive',\n",
              "                                                     [key], {});\n",
              "          if (!dataTable) return;\n",
              "\n",
              "          const docLinkHtml = 'Like what you see? Visit the ' +\n",
              "            '<a target=\"_blank\" href=https://colab.research.google.com/notebooks/data_table.ipynb>data table notebook</a>'\n",
              "            + ' to learn more about interactive tables.';\n",
              "          element.innerHTML = '';\n",
              "          dataTable['output_type'] = 'display_data';\n",
              "          await google.colab.output.renderOutput(dataTable, element);\n",
              "          const docLink = document.createElement('div');\n",
              "          docLink.innerHTML = docLinkHtml;\n",
              "          element.appendChild(docLink);\n",
              "        }\n",
              "      </script>\n",
              "    </div>\n",
              "  </div>\n",
              "  "
            ]
          },
          "metadata": {},
          "execution_count": 221
        }
      ]
    },
    {
      "cell_type": "code",
      "source": [
        "# obtener la lista de ID de libros \n",
        "unique_ids = res['ISBN'].unique()\n",
        "unique_ids"
      ],
      "metadata": {
        "colab": {
          "base_uri": "https://localhost:8080/"
        },
        "id": "Mh_hIyd6tm0J",
        "outputId": "60ffbb59-ad21-480b-9811-fabb521abc09"
      },
      "execution_count": null,
      "outputs": [
        {
          "output_type": "execute_result",
          "data": {
            "text/plain": [
              "array(['0679774025', '0385337639', '3826820800', '0393057240',\n",
              "       '0385316860', '0399136150', '0375502238', '0747550999',\n",
              "       '0451180747', '0307232026', '0934878005', '0439136369',\n",
              "       '0515087122', '0911662251', '0590353403', '0451456734',\n",
              "       '0688003982', '0425153088', '3518368540', '9782702478479',\n",
              "       '0786890061', '0312969120', '0373250193', '0380795566',\n",
              "       '3150091519', '0671024094', '0395511224', '0517309726',\n",
              "       '1558744150', '014017186X', '0451139089', '325706277X',\n",
              "       '0553587692', '0618004076', '0060391685', '039304016X',\n",
              "       '006101253X', '0939149613', '0786868716', '0316666343',\n",
              "       '067944646X', '0439977479', '1558850767', '0874518776',\n",
              "       '1583143173', '0671021001', '0345417623', '0020885709',\n",
              "       '0316781266', '0441003729'], dtype=object)"
            ]
          },
          "metadata": {},
          "execution_count": 222
        }
      ]
    },
    {
      "cell_type": "code",
      "source": [
        "# obtener la lista de ID que ha visto el ID de usuario 13618 \n",
        "iids1001 = res.loc[res['User-ID']==35859, 'ISBN']\n",
        "iids1001"
      ],
      "metadata": {
        "colab": {
          "base_uri": "https://localhost:8080/"
        },
        "id": "HnekzALLfLHK",
        "outputId": "b2a65ebe-f9e9-4ad1-d7a3-17952a1116ba"
      },
      "execution_count": null,
      "outputs": [
        {
          "output_type": "execute_result",
          "data": {
            "text/plain": [
              "Series([], Name: ISBN, dtype: object)"
            ]
          },
          "metadata": {},
          "execution_count": 223
        }
      ]
    },
    {
      "cell_type": "code",
      "source": [
        "# eliminar las películas calificadas para las recomendaciones \n",
        "books_to_predict = np.setdiff1d(unique_ids,iids1001)\n",
        "books_to_predict"
      ],
      "metadata": {
        "colab": {
          "base_uri": "https://localhost:8080/"
        },
        "id": "eoZGluccfe7_",
        "outputId": "9de0bfdf-7994-48ca-ff17-767307a7c079"
      },
      "execution_count": null,
      "outputs": [
        {
          "output_type": "execute_result",
          "data": {
            "text/plain": [
              "array(['0020885709', '0060391685', '006101253X', '014017186X',\n",
              "       '0307232026', '0312969120', '0316666343', '0316781266',\n",
              "       '0345417623', '0373250193', '0375502238', '0380795566',\n",
              "       '0385316860', '0385337639', '039304016X', '0393057240',\n",
              "       '0395511224', '0399136150', '0425153088', '0439136369',\n",
              "       '0439977479', '0441003729', '0451139089', '0451180747',\n",
              "       '0451456734', '0515087122', '0517309726', '0553587692',\n",
              "       '0590353403', '0618004076', '0671021001', '0671024094',\n",
              "       '067944646X', '0679774025', '0688003982', '0747550999',\n",
              "       '0786868716', '0786890061', '0874518776', '0911662251',\n",
              "       '0934878005', '0939149613', '1558744150', '1558850767',\n",
              "       '1583143173', '3150091519', '325706277X', '3518368540',\n",
              "       '3826820800', '9782702478479'], dtype=object)"
            ]
          },
          "metadata": {},
          "execution_count": 224
        }
      ]
    },
    {
      "cell_type": "code",
      "source": [
        "my_recs = []\n",
        "for iid in books_to_predict:\n",
        "  my_recs.append((iid, svd.predict(uid=35859,iid=iid).est))\n",
        "print(my_recs[-1])\n",
        "pd.DataFrame(my_recs, columns=['iid', 'predictions'])['predictions'].unique()\n"
      ],
      "metadata": {
        "colab": {
          "base_uri": "https://localhost:8080/"
        },
        "id": "8IIeCXGddJE9",
        "outputId": "e209d1ac-f0af-4961-9451-0114097b3680"
      },
      "execution_count": null,
      "outputs": [
        {
          "output_type": "stream",
          "name": "stdout",
          "text": [
            "('9782702478479', 1.0)\n"
          ]
        },
        {
          "output_type": "execute_result",
          "data": {
            "text/plain": [
              "array([1.])"
            ]
          },
          "metadata": {},
          "execution_count": 225
        }
      ]
    },
    {
      "cell_type": "code",
      "source": [],
      "metadata": {
        "id": "utR6noysWMgj"
      },
      "execution_count": null,
      "outputs": []
    }
  ],
  "metadata": {
    "kernelspec": {
      "display_name": "Python 3",
      "language": "python",
      "name": "python3"
    },
    "language_info": {
      "codemirror_mode": {
        "name": "ipython",
        "version": 3
      },
      "file_extension": ".py",
      "mimetype": "text/x-python",
      "name": "python",
      "nbconvert_exporter": "python",
      "pygments_lexer": "ipython3",
      "version": "3.10.2"
    },
    "orig_nbformat": 4,
    "colab": {
      "provenance": []
    }
  },
  "nbformat": 4,
  "nbformat_minor": 0
}