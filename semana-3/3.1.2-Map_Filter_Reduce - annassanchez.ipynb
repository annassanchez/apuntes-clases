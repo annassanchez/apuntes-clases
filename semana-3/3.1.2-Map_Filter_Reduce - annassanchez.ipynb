{
 "cells": [
  {
   "cell_type": "markdown",
   "id": "b8a0a534",
   "metadata": {
    "toc": true
   },
   "source": [
    "<h1>Table of Contents<span class=\"tocSkip\"></span></h1>\n",
    "<div class=\"toc\"><ul class=\"toc-item\"><li><span><a href=\"#¿Qué-son?\" data-toc-modified-id=\"¿Qué-son?-1\"><span class=\"toc-item-num\">1&nbsp;&nbsp;</span>¿Qué son?</a></span></li><li><span><a href=\"#Map\" data-toc-modified-id=\"Map-2\"><span class=\"toc-item-num\">2&nbsp;&nbsp;</span>Map</a></span></li><li><span><a href=\"#Filter\" data-toc-modified-id=\"Filter-3\"><span class=\"toc-item-num\">3&nbsp;&nbsp;</span>Filter</a></span></li><li><span><a href=\"#Reduce\" data-toc-modified-id=\"Reduce-4\"><span class=\"toc-item-num\">4&nbsp;&nbsp;</span>Reduce</a></span></li></ul></div>"
   ]
  },
  {
   "cell_type": "markdown",
   "id": "bce06ad9",
   "metadata": {},
   "source": [
    "# ¿Qué son?"
   ]
  },
  {
   "cell_type": "markdown",
   "id": "d276806d",
   "metadata": {},
   "source": [
    "- Las tres funciones son funciones incorporadas aplicadas a iterables (listas, tuplas etc.), que realizan operaciones de mapeo, cálculo recursivo y filtrado en los iterables. \n",
    "\n",
    "\n",
    "- Brindan un enfoque más elegante y abreviado para nuestro código.\n",
    "\n",
    "\n",
    "- Estas tres funciones a menudo se usan junto con funciones lambda o *list comprehensions*. \n"
   ]
  },
  {
   "attachments": {},
   "cell_type": "markdown",
   "id": "2c1a8d73",
   "metadata": {},
   "source": [
    "\n",
    "![image.png](https://github.com/Ironhack-Data-Madrid-PartTime-Oct22/imagenes/blob/master/semana-3/MFR.png?raw=true)"
   ]
  },
  {
   "cell_type": "markdown",
   "id": "b6e6c654",
   "metadata": {},
   "source": [
    "# Map "
   ]
  },
  {
   "cell_type": "markdown",
   "id": "3e473c05",
   "metadata": {},
   "source": [
    "Podemos utilizar la función map de Python para generar una nueva lista a partir de un iterable.\n",
    "\n",
    "Map es una función que toma como entrada un iterable y una función. Aplicará a cada elemento de la lista una acción  a través de esta función (o una lambda) y producirá una nueva lista con el mismo número de elementos. "
   ]
  },
  {
   "cell_type": "markdown",
   "id": "7d5b4102",
   "metadata": {},
   "source": [
    "```python\n",
    "# Sintaxis básica de map\n",
    "new_list = list(map(funcion, iterable))\n",
    "```\n",
    "\n",
    "📌 Los iterables pueden ser listas, tuplas o sets"
   ]
  },
  {
   "cell_type": "markdown",
   "id": "7e1f75a5",
   "metadata": {},
   "source": [
    "Podemos usar funciones que vengas predefinidas en Pyhton: "
   ]
  },
  {
   "cell_type": "code",
   "execution_count": 1,
   "id": "3642c6e6",
   "metadata": {},
   "outputs": [],
   "source": [
    "lista = ['brocoli', 'chorizo', 'zanahoria', 'jamon']"
   ]
  },
  {
   "cell_type": "markdown",
   "id": "af6a498f",
   "metadata": {},
   "source": [
    "Queremos poner todos los elementos de nuestra lista en mayúscula\n"
   ]
  },
  {
   "cell_type": "code",
   "execution_count": 3,
   "id": "f4ed9817",
   "metadata": {},
   "outputs": [
    {
     "data": {
      "text/plain": [
       "['BROCOLI', 'CHORIZO', 'ZANAHORIA', 'JAMON']"
      ]
     },
     "execution_count": 3,
     "metadata": {},
     "output_type": "execute_result"
    }
   ],
   "source": [
    "# con un for\n",
    "nueva_lista = []\n",
    "for i in lista: \n",
    "    nueva_lista.append(i.upper())\n",
    "nueva_lista\n"
   ]
  },
  {
   "cell_type": "code",
   "execution_count": 4,
   "id": "a4f1af0b",
   "metadata": {},
   "outputs": [
    {
     "data": {
      "text/plain": [
       "['BROCOLI', 'CHORIZO', 'ZANAHORIA', 'JAMON']"
      ]
     },
     "execution_count": 4,
     "metadata": {},
     "output_type": "execute_result"
    }
   ],
   "source": [
    "# o con una list comprehension\n",
    "nueva_lista2 = [i.upper() for i in lista]\n",
    "nueva_lista2"
   ]
  },
  {
   "cell_type": "code",
   "execution_count": 5,
   "id": "ff4d78b8",
   "metadata": {},
   "outputs": [
    {
     "data": {
      "text/plain": [
       "['BROCOLI', 'CHORIZO', 'ZANAHORIA', 'JAMON']"
      ]
     },
     "execution_count": 5,
     "metadata": {},
     "output_type": "execute_result"
    }
   ],
   "source": [
    "# con map-- sintaxis: funcion, iterable\n",
    "nueva_lista3 = list(map(str.upper, lista)) ##hay que indicar el tipo de objeto que se quiere usar --> upper es un método de string, hay que poner que str.upper\n",
    "nueva_lista3 ## encima hay que cambiar el tipo del objeto, para que sea un objeto que podemos ver"
   ]
  },
  {
   "cell_type": "code",
   "execution_count": 6,
   "id": "e81aa471",
   "metadata": {},
   "outputs": [
    {
     "data": {
      "text/plain": [
       "[7, 7, 9, 5]"
      ]
     },
     "execution_count": 6,
     "metadata": {},
     "output_type": "execute_result"
    }
   ],
   "source": [
    "# o evaluar la longitud de cada elemento\n",
    "longitud = list(map(len, lista))\n",
    "longitud"
   ]
  },
  {
   "cell_type": "markdown",
   "id": "7a6e27c0",
   "metadata": {},
   "source": [
    "También podemos usar funciones que definamos nosotros. En este caso, queremos elevar al cuadrado todos los elementos de una lista de números\n"
   ]
  },
  {
   "cell_type": "code",
   "execution_count": 7,
   "id": "fb054cfa",
   "metadata": {},
   "outputs": [
    {
     "data": {
      "text/plain": [
       "[10, 28, 7, 48, 39, 4, 37, 5, 30, 27, 33, 42, 41, 20, 16, 31, 22, 12, 25, 32]"
      ]
     },
     "execution_count": 7,
     "metadata": {},
     "output_type": "execute_result"
    }
   ],
   "source": [
    "# generamos una secuencia de números aleatorios\n",
    "import random\n",
    "numeros = random.sample(range(1,50), 20)\n",
    "numeros"
   ]
  },
  {
   "cell_type": "code",
   "execution_count": 12,
   "id": "e2f2e7b9",
   "metadata": {},
   "outputs": [],
   "source": [
    "# definimos la función que queremos aplicar\n",
    "\n",
    "def cuadrado_lista(lista):\n",
    "    numeros_cuadrados = []\n",
    "    for item in lista:\n",
    "            numeros_cuadrados.append(item ** 2)\n",
    "    return numeros_cuadrados"
   ]
  },
  {
   "cell_type": "code",
   "execution_count": 13,
   "id": "9375ef90",
   "metadata": {},
   "outputs": [
    {
     "data": {
      "text/plain": [
       "[100,\n",
       " 784,\n",
       " 49,\n",
       " 2304,\n",
       " 1521,\n",
       " 16,\n",
       " 1369,\n",
       " 25,\n",
       " 900,\n",
       " 729,\n",
       " 1089,\n",
       " 1764,\n",
       " 1681,\n",
       " 400,\n",
       " 256,\n",
       " 961,\n",
       " 484,\n",
       " 144,\n",
       " 625,\n",
       " 1024]"
      ]
     },
     "execution_count": 13,
     "metadata": {},
     "output_type": "execute_result"
    }
   ],
   "source": [
    "cuadrado_lista(numeros)"
   ]
  },
  {
   "cell_type": "code",
   "execution_count": 14,
   "id": "99c48219",
   "metadata": {},
   "outputs": [
    {
     "ename": "TypeError",
     "evalue": "'list' object is not callable",
     "output_type": "error",
     "traceback": [
      "\u001b[1;31m---------------------------------------------------------------------------\u001b[0m",
      "\u001b[1;31mTypeError\u001b[0m                                 Traceback (most recent call last)",
      "Cell \u001b[1;32mIn [14], line 1\u001b[0m\n\u001b[1;32m----> 1\u001b[0m \u001b[39mlist\u001b[39;49m(\u001b[39mmap\u001b[39;49m(cuadrado_lista(numeros), lista))\n",
      "\u001b[1;31mTypeError\u001b[0m: 'list' object is not callable"
     ]
    }
   ],
   "source": [
    "list(map(cuadrado_lista, numeros)) ## da error porque hay un bucle en la función"
   ]
  },
  {
   "cell_type": "code",
   "execution_count": 15,
   "id": "ca8a46a6",
   "metadata": {},
   "outputs": [
    {
     "data": {
      "text/plain": [
       "[100,\n",
       " 784,\n",
       " 49,\n",
       " 2304,\n",
       " 1521,\n",
       " 16,\n",
       " 1369,\n",
       " 25,\n",
       " 900,\n",
       " 729,\n",
       " 1089,\n",
       " 1764,\n",
       " 1681,\n",
       " 400,\n",
       " 256,\n",
       " 961,\n",
       " 484,\n",
       " 144,\n",
       " 625,\n",
       " 1024]"
      ]
     },
     "execution_count": 15,
     "metadata": {},
     "output_type": "execute_result"
    }
   ],
   "source": [
    "# definimos la función que queremos aplicar\n",
    "\n",
    "def cuadrado_lista2(numero):\n",
    "    return numero ** 2\n",
    "list(map(cuadrado_lista2, numeros))"
   ]
  },
  {
   "cell_type": "code",
   "execution_count": 16,
   "id": "9a513c92",
   "metadata": {},
   "outputs": [
    {
     "data": {
      "text/plain": [
       "[100,\n",
       " 784,\n",
       " 49,\n",
       " 2304,\n",
       " 1521,\n",
       " 16,\n",
       " 1369,\n",
       " 25,\n",
       " 900,\n",
       " 729,\n",
       " 1089,\n",
       " 1764,\n",
       " 1681,\n",
       " 400,\n",
       " 256,\n",
       " 961,\n",
       " 484,\n",
       " 144,\n",
       " 625,\n",
       " 1024]"
      ]
     },
     "execution_count": 16,
     "metadata": {},
     "output_type": "execute_result"
    }
   ],
   "source": [
    "mi_lambda = lambda x : x ** 2\n",
    "list(map(mi_lambda, numeros))"
   ]
  },
  {
   "cell_type": "code",
   "execution_count": 17,
   "id": "7606ad7a",
   "metadata": {},
   "outputs": [
    {
     "data": {
      "text/plain": [
       "[100,\n",
       " 784,\n",
       " 49,\n",
       " 2304,\n",
       " 1521,\n",
       " 16,\n",
       " 1369,\n",
       " 25,\n",
       " 900,\n",
       " 729,\n",
       " 1089,\n",
       " 1764,\n",
       " 1681,\n",
       " 400,\n",
       " 256,\n",
       " 961,\n",
       " 484,\n",
       " 144,\n",
       " 625,\n",
       " 1024]"
      ]
     },
     "execution_count": 17,
     "metadata": {},
     "output_type": "execute_result"
    }
   ],
   "source": [
    "list(map(lambda x : x ** 2, numeros))"
   ]
  },
  {
   "cell_type": "code",
   "execution_count": 8,
   "id": "71160a52",
   "metadata": {},
   "outputs": [],
   "source": [
    "# definimos la función que queremos aplicar\n",
    "\n",
    "def cuadrados(x):\n",
    "    return x ** 2"
   ]
  },
  {
   "cell_type": "code",
   "execution_count": 10,
   "id": "839b1263",
   "metadata": {
    "scrolled": true
   },
   "outputs": [
    {
     "name": "stdout",
     "output_type": "stream",
     "text": [
      "[1225, 144, 289, 1296, 1089, 1849, 529, 1600, 1, 1681, 225, 2401, 441, 1764, 1444, 2304, 169, 361, 196, 1369]\n"
     ]
    }
   ],
   "source": [
    "# aplicamos la función en el map\n",
    "\n",
    "cuadr = list(map(cuadrados, numeros))\n",
    "print(cuadr)"
   ]
  },
  {
   "cell_type": "markdown",
   "id": "5a6421cc",
   "metadata": {},
   "source": [
    "🤔🤯 **Retito**, como lo haríamos con una lambda? 🤔🤯"
   ]
  },
  {
   "cell_type": "code",
   "execution_count": 12,
   "id": "30f025c7",
   "metadata": {},
   "outputs": [
    {
     "name": "stdout",
     "output_type": "stream",
     "text": [
      "[1225, 144, 289, 1296, 1089, 1849, 529, 1600, 1, 1681, 225, 2401, 441, 1764, 1444, 2304, 169, 361, 196, 1369]\n"
     ]
    }
   ],
   "source": [
    "cuadr2 = list(map(lambda x : x ** 2, numeros))\n",
    "print(cuadr2)"
   ]
  },
  {
   "cell_type": "markdown",
   "id": "896eeee5",
   "metadata": {},
   "source": [
    "En el `map` podemos incluir varios iterables. Por ejemplo, tenemos dos listas y queremos elevar el primer número de una lista con el primer elemento de la segunda lista"
   ]
  },
  {
   "cell_type": "code",
   "execution_count": 18,
   "id": "a7912af6",
   "metadata": {},
   "outputs": [],
   "source": [
    "primero = [1, 2, 3, 6]\n",
    "segundo = [4, 5, 6, 7]"
   ]
  },
  {
   "cell_type": "code",
   "execution_count": 19,
   "id": "f354a9e1",
   "metadata": {},
   "outputs": [
    {
     "data": {
      "text/plain": [
       "[1, 32, 729, 279936]"
      ]
     },
     "execution_count": 19,
     "metadata": {},
     "output_type": "execute_result"
    }
   ],
   "source": [
    "potencia = []\n",
    "for i, j in zip(primero, segundo):\n",
    "    potencia.append(i ** j)\n",
    "potencia"
   ]
  },
  {
   "cell_type": "code",
   "execution_count": 23,
   "id": "a1456bdf",
   "metadata": {},
   "outputs": [
    {
     "name": "stdout",
     "output_type": "stream",
     "text": [
      "0 ___ 1\n",
      "1 ___ 2\n",
      "2 ___ 3\n",
      "3 ___ 6\n"
     ]
    },
    {
     "data": {
      "text/plain": [
       "[1, 32, 729, 279936]"
      ]
     },
     "execution_count": 23,
     "metadata": {},
     "output_type": "execute_result"
    }
   ],
   "source": [
    "elevado2 = []\n",
    "for indice, valor in enumerate(primero):\n",
    "    print(indice, \"___\", valor)\n",
    "    elevado2.append(valor ** segundo[indice])\n",
    "elevado2"
   ]
  },
  {
   "cell_type": "code",
   "execution_count": 25,
   "id": "5887dc3d",
   "metadata": {},
   "outputs": [],
   "source": [
    "def elevar(num1, num2):\n",
    "    return num1 ** num2"
   ]
  },
  {
   "cell_type": "code",
   "execution_count": 26,
   "id": "57e67717",
   "metadata": {},
   "outputs": [
    {
     "data": {
      "text/plain": [
       "[1, 32, 729, 279936]"
      ]
     },
     "execution_count": 26,
     "metadata": {},
     "output_type": "execute_result"
    }
   ],
   "source": [
    "list(map(elevar, primero, segundo))"
   ]
  },
  {
   "cell_type": "code",
   "execution_count": 29,
   "id": "2b424fa4",
   "metadata": {},
   "outputs": [
    {
     "data": {
      "text/plain": [
       "[1, 32, 729, 279936]"
      ]
     },
     "execution_count": 29,
     "metadata": {},
     "output_type": "execute_result"
    }
   ],
   "source": [
    "# aplicamos map\n",
    "elevado = list(map(pow, primero, segundo))\n",
    "elevado"
   ]
  },
  {
   "cell_type": "markdown",
   "id": "d61365be",
   "metadata": {},
   "source": [
    "O incluso usando lambdas. Imaginas que queremos sumar los elementos de tres listas diferentes: \n"
   ]
  },
  {
   "cell_type": "code",
   "execution_count": 30,
   "id": "74868613",
   "metadata": {},
   "outputs": [],
   "source": [
    "lista1 = [2, 4]\n",
    "lista2 = [1, 3]\n",
    "lista3 = [7, 8]"
   ]
  },
  {
   "cell_type": "code",
   "execution_count": 31,
   "id": "41d45d11",
   "metadata": {},
   "outputs": [],
   "source": [
    "def con_zip (lista1, lista2, lista3):\n",
    "    resultado = []\n",
    "    for i, x, z in zip(lista1, lista2, lista3):\n",
    "        resultado.append( i + x + z)\n",
    "    return resultado"
   ]
  },
  {
   "cell_type": "code",
   "execution_count": 32,
   "id": "a2f6b904",
   "metadata": {},
   "outputs": [
    {
     "data": {
      "text/plain": [
       "[10, 15]"
      ]
     },
     "execution_count": 32,
     "metadata": {},
     "output_type": "execute_result"
    }
   ],
   "source": [
    "con_zip(lista1, lista2, lista3)"
   ]
  },
  {
   "cell_type": "code",
   "execution_count": 25,
   "id": "0b4bcef9",
   "metadata": {},
   "outputs": [],
   "source": [
    "def suma (x, y , z):\n",
    "    return x + y + z"
   ]
  },
  {
   "cell_type": "code",
   "execution_count": 26,
   "id": "e98bd14e",
   "metadata": {},
   "outputs": [
    {
     "data": {
      "text/plain": [
       "[10, 15]"
      ]
     },
     "execution_count": 26,
     "metadata": {},
     "output_type": "execute_result"
    }
   ],
   "source": [
    "suma_total = list(map(suma, lista1, lista2, lista3))\n",
    "suma_total"
   ]
  },
  {
   "cell_type": "code",
   "execution_count": 27,
   "id": "89c7c734",
   "metadata": {},
   "outputs": [
    {
     "data": {
      "text/plain": [
       "[10, 15]"
      ]
     },
     "execution_count": 27,
     "metadata": {},
     "output_type": "execute_result"
    }
   ],
   "source": [
    "suma_total2 = list(map(lambda x, y, z : x + y + z, lista1, lista2, lista3))\n",
    "suma_total2"
   ]
  },
  {
   "cell_type": "markdown",
   "id": "cd2834e6",
   "metadata": {},
   "source": [
    "# Filter "
   ]
  },
  {
   "cell_type": "markdown",
   "id": "0e4ef43c",
   "metadata": {},
   "source": [
    "Literalmente filtra los elementos según una condición dada. \n",
    "\n",
    "La función comprueba una determinada condición y decide si cada uno de los elementos del iterable cumple la condición dada o no. Después de comprobar la condición, la función verifica verdadero o falso en consecuencia.\n",
    "\n",
    "\n",
    "```python\n",
    "# Sintaxis básica de filter. Es la misma que el map!!\n",
    "new_list = list(filter(funcion, iterable))\n",
    "```\n",
    "\n",
    "\n",
    "\n",
    "📌 El iterable puede ser listas, tuplas, sets"
   ]
  },
  {
   "cell_type": "markdown",
   "id": "34b4b2c2",
   "metadata": {},
   "source": [
    "Supongamos que tenemos una lista de números y queremos filtrar los números \"pequeños\". En este caso, pequeños significa números que son menores de 5. \n",
    "\n",
    "¿Cómo se aplica `filter` para obtener el resultado?"
   ]
  },
  {
   "cell_type": "code",
   "execution_count": 47,
   "id": "09a3e00a",
   "metadata": {},
   "outputs": [
    {
     "data": {
      "text/plain": [
       "[8, 7, 2, 5, 6, 4, 3, 9, 1]"
      ]
     },
     "execution_count": 47,
     "metadata": {},
     "output_type": "execute_result"
    }
   ],
   "source": [
    "# definimos nuestra lista de números\n",
    "lista_filtrar = random.sample(range(1, 10), 9)\n",
    "lista_filtrar"
   ]
  },
  {
   "cell_type": "code",
   "execution_count": 36,
   "id": "d60ea046",
   "metadata": {},
   "outputs": [],
   "source": [
    "## filtrar números pares\n",
    "def pares(num):\n",
    "    if num % 2 == 0:\n",
    "        return num"
   ]
  },
  {
   "cell_type": "code",
   "execution_count": 38,
   "id": "b272e6a2",
   "metadata": {},
   "outputs": [
    {
     "data": {
      "text/plain": [
       "[4, 2, 8, 6]"
      ]
     },
     "execution_count": 38,
     "metadata": {},
     "output_type": "execute_result"
    }
   ],
   "source": [
    "list(filter(pares, lista_filtrar)) ## filtra los que cumplen la condición"
   ]
  },
  {
   "cell_type": "code",
   "execution_count": 40,
   "id": "57e67717",
   "metadata": {},
   "outputs": [
    {
     "data": {
      "text/plain": [
       "[None, 4, 2, None, 8, 6, None, None, None]"
      ]
     },
     "execution_count": 40,
     "metadata": {},
     "output_type": "execute_result"
    }
   ],
   "source": [
    "list(map(pares, lista_filtrar)) ## si usamos map, nos da los que cumplen la condición y los que no -- como no tiene return la función, nos da"
   ]
  },
  {
   "cell_type": "code",
   "execution_count": 53,
   "id": "7726b37c",
   "metadata": {},
   "outputs": [
    {
     "data": {
      "text/plain": [
       "[8, 7, 2, 5, 6, 4, 3, 9, 1]"
      ]
     },
     "execution_count": 53,
     "metadata": {},
     "output_type": "execute_result"
    }
   ],
   "source": [
    "list(filter((lambda x: [x for x in lista_filtrar if x % 2 == 0]), lista_filtrar)) ## no funcionaría con un lambda, tendrías que hacer un for 2 veces"
   ]
  },
  {
   "cell_type": "code",
   "execution_count": 49,
   "id": "7726b37c",
   "metadata": {},
   "outputs": [
    {
     "data": {
      "text/plain": [
       "[8, 2, 6, 4]"
      ]
     },
     "execution_count": 49,
     "metadata": {},
     "output_type": "execute_result"
    }
   ],
   "source": [
    "list(filter((lambda x: x % 2 == 0), lista_filtrar)) ## no funcionaría con un lambda, tendrías que hacer un for 2 veces"
   ]
  },
  {
   "cell_type": "code",
   "execution_count": 58,
   "id": "f879f902",
   "metadata": {},
   "outputs": [
    {
     "data": {
      "text/plain": [
       "[['H', 'O', 'L', 'A'], ['A', 'D', 'I', 'O', 'S']]"
      ]
     },
     "execution_count": 58,
     "metadata": {},
     "output_type": "execute_result"
    }
   ],
   "source": [
    "lista_palabras = ['hola', 'adios']\n",
    "list(map(lambda x: [i.upper() for i in x], lista_palabras)) ## con un string si que puede iterar, por lo que te acaba generando una lista de listas que contiene los caracteres"
   ]
  },
  {
   "cell_type": "code",
   "execution_count": null,
   "id": "91ce22cd",
   "metadata": {},
   "outputs": [],
   "source": []
  },
  {
   "cell_type": "code",
   "execution_count": 59,
   "id": "736f2c50",
   "metadata": {},
   "outputs": [],
   "source": [
    "# como lo haríamos de forma tradicional\n",
    "\n",
    "def filtrando(lst):\n",
    "    menores = []\n",
    "    for i in lst:\n",
    "        if i < 5:\n",
    "            menores.append(i)\n",
    "    return menores"
   ]
  },
  {
   "cell_type": "code",
   "execution_count": 60,
   "id": "0869d1ec",
   "metadata": {},
   "outputs": [
    {
     "data": {
      "text/plain": [
       "[2, 4, 3, 1]"
      ]
     },
     "execution_count": 60,
     "metadata": {},
     "output_type": "execute_result"
    }
   ],
   "source": [
    "filtrando(lista_filtrar)"
   ]
  },
  {
   "cell_type": "code",
   "execution_count": 61,
   "id": "7589c207",
   "metadata": {},
   "outputs": [],
   "source": [
    "# lo primero que tendremos que hacer es definir nuestra función\n",
    "def filtrando (x):\n",
    "    return x < 5\n",
    "    "
   ]
  },
  {
   "cell_type": "code",
   "execution_count": 62,
   "id": "902548c4",
   "metadata": {},
   "outputs": [
    {
     "data": {
      "text/plain": [
       "[2, 4, 3, 1]"
      ]
     },
     "execution_count": 62,
     "metadata": {},
     "output_type": "execute_result"
    }
   ],
   "source": [
    "# aplicamos filter\n",
    "menores2 = list(filter(filtrando, lista_filtrar))\n",
    "menores2"
   ]
  },
  {
   "cell_type": "markdown",
   "id": "107579ee",
   "metadata": {},
   "source": [
    "🤔🤯 **Nuevo Retito**, como lo haríamos con una lambda? 🤔🤯"
   ]
  },
  {
   "cell_type": "code",
   "execution_count": 35,
   "id": "ac624674",
   "metadata": {},
   "outputs": [
    {
     "data": {
      "text/plain": [
       "[3, 2, 1, 4]"
      ]
     },
     "execution_count": 35,
     "metadata": {},
     "output_type": "execute_result"
    }
   ],
   "source": [
    "menores3 = list(filter(lambda x: x < 5, lista_filtrar))\n",
    "menores3"
   ]
  },
  {
   "cell_type": "markdown",
   "id": "c9bed8b0",
   "metadata": {},
   "source": [
    "Tenemos una lista de números y tenemos que sacar los impares"
   ]
  },
  {
   "cell_type": "code",
   "execution_count": 38,
   "id": "eead13d8",
   "metadata": {},
   "outputs": [],
   "source": [
    "numeros = [1, 3, 10, 45, 6, 50]"
   ]
  },
  {
   "cell_type": "code",
   "execution_count": 36,
   "id": "25d9e529",
   "metadata": {},
   "outputs": [],
   "source": [
    "# como lo haríamos de la forma tradicional\n",
    "def sacar_impares(lst):\n",
    "    impares = []\n",
    "    for i in lst:\n",
    "        if i % 2 != 0:\n",
    "            impares.append(i)\n",
    "    return impares"
   ]
  },
  {
   "cell_type": "code",
   "execution_count": 39,
   "id": "d27cdef9",
   "metadata": {},
   "outputs": [
    {
     "data": {
      "text/plain": [
       "[1, 3, 45]"
      ]
     },
     "execution_count": 39,
     "metadata": {},
     "output_type": "execute_result"
    }
   ],
   "source": [
    "sacar_impares(numeros)"
   ]
  },
  {
   "cell_type": "code",
   "execution_count": 40,
   "id": "037b9c7e",
   "metadata": {},
   "outputs": [],
   "source": [
    "# con filter\n",
    "def sacar_impares2 (x):\n",
    "    return x % 2 != 0"
   ]
  },
  {
   "cell_type": "code",
   "execution_count": 45,
   "id": "053882b7",
   "metadata": {},
   "outputs": [
    {
     "data": {
      "text/plain": [
       "<filter at 0x7fa8d59636d0>"
      ]
     },
     "execution_count": 45,
     "metadata": {},
     "output_type": "execute_result"
    }
   ],
   "source": [
    "# filter nos va a devolver de la misma forma que el map un objeto de tipo filter. Necesitamos convertirlo a humano \n",
    "## usando list\n",
    "\n",
    "filter(sacar_impares2, numeros)"
   ]
  },
  {
   "cell_type": "code",
   "execution_count": 42,
   "id": "dfa936b0",
   "metadata": {
    "scrolled": true
   },
   "outputs": [
    {
     "data": {
      "text/plain": [
       "[1, 3, 45]"
      ]
     },
     "execution_count": 42,
     "metadata": {},
     "output_type": "execute_result"
    }
   ],
   "source": [
    "impares2 = list(filter(sacar_impares2, numeros))\n",
    "impares2"
   ]
  },
  {
   "cell_type": "code",
   "execution_count": 44,
   "id": "e96dbaa3",
   "metadata": {},
   "outputs": [
    {
     "data": {
      "text/plain": [
       "[1, 3, 45]"
      ]
     },
     "execution_count": 44,
     "metadata": {},
     "output_type": "execute_result"
    }
   ],
   "source": [
    "impares3 = list(filter(lambda x: x % 2 != 0, numeros))\n",
    "impares3"
   ]
  },
  {
   "cell_type": "markdown",
   "id": "4d93dccf",
   "metadata": {},
   "source": [
    "🌊💪 **EJERCICIO** 💪🌊\n",
    "\n",
    "Nos van a pasar una lista de palabras y sacar aquellas que tienen \"i\". "
   ]
  },
  {
   "cell_type": "code",
   "execution_count": 13,
   "id": "c2cde77b",
   "metadata": {},
   "outputs": [],
   "source": [
    "lista = ['brocoli', 'chorizo', 'zanahoria', 'jamon']"
   ]
  },
  {
   "cell_type": "code",
   "execution_count": 65,
   "id": "433238df",
   "metadata": {},
   "outputs": [],
   "source": [
    "# definimos la función\n",
    "def letras (x):\n",
    "    if \"i\" in x:\n",
    "        return x\n"
   ]
  },
  {
   "cell_type": "code",
   "execution_count": 68,
   "id": "5d8105e8",
   "metadata": {},
   "outputs": [
    {
     "data": {
      "text/plain": [
       "['brocoli', 'chorizo', 'zanahoria']"
      ]
     },
     "execution_count": 68,
     "metadata": {},
     "output_type": "execute_result"
    }
   ],
   "source": [
    "# aplicamos el filter\n",
    "\n",
    "con_i = list(filter(letras, lista))\n",
    "con_i"
   ]
  },
  {
   "cell_type": "markdown",
   "id": "78f1ff23",
   "metadata": {},
   "source": [
    "# Reduce "
   ]
  },
  {
   "cell_type": "markdown",
   "id": "257de9ef",
   "metadata": {},
   "source": [
    "Reduce toma una condición y aplica esa condición al iterable de manera que nuestra salida se \"reduce\" a un solo valor.\n",
    "\n",
    "En este caso necesitamos importarnos una librería\n",
    "\n",
    "```python\n",
    "from functools import reduce\n",
    "```\n",
    "\n",
    "\n",
    "\n",
    "```python\n",
    "# Sintaxis básica de reduce, igual que filter y map!\n",
    "new_list = reduce(funcion, iterable) # ⚠️ ojo que en este caso no hay que poner `list`\n",
    "```"
   ]
  },
  {
   "cell_type": "code",
   "execution_count": 63,
   "id": "c352225f",
   "metadata": {},
   "outputs": [],
   "source": [
    "from functools import reduce"
   ]
  },
  {
   "cell_type": "markdown",
   "id": "024388cc",
   "metadata": {},
   "source": [
    "Queremos encontrar la suma de todos los valores de nuestra lista."
   ]
  },
  {
   "cell_type": "code",
   "execution_count": 64,
   "id": "18df5363",
   "metadata": {},
   "outputs": [
    {
     "name": "stdout",
     "output_type": "stream",
     "text": [
      "[43, 3, 10, 48, 18, 36, 29, 25, 4, 16, 1, 38, 44, 34, 40, 26, 13, 30, 2, 35, 46]\n"
     ]
    }
   ],
   "source": [
    "# definimos nuestra lista de números aleatorios\n",
    "lista_random = random.sample(range(1,50), 21)\n",
    "print(lista_random)"
   ]
  },
  {
   "cell_type": "code",
   "execution_count": 65,
   "id": "42dfa18d",
   "metadata": {},
   "outputs": [],
   "source": [
    "# antes de reduce\n",
    "\n",
    "def suma_elementos(lst):\n",
    "    resultado = 0\n",
    "    for i in lst:\n",
    "        resultado += i\n",
    "    return resultado\n",
    "        "
   ]
  },
  {
   "cell_type": "code",
   "execution_count": 66,
   "id": "14224383",
   "metadata": {},
   "outputs": [
    {
     "data": {
      "text/plain": [
       "541"
      ]
     },
     "execution_count": 66,
     "metadata": {},
     "output_type": "execute_result"
    }
   ],
   "source": [
    "suma_elementos(lista_random)"
   ]
  },
  {
   "cell_type": "code",
   "execution_count": 68,
   "id": "557604c4",
   "metadata": {},
   "outputs": [],
   "source": [
    "# después de reduce \n",
    "def suma_elementos2 (x, y):\n",
    "    return x + y"
   ]
  },
  {
   "cell_type": "code",
   "execution_count": 69,
   "id": "20af0387",
   "metadata": {},
   "outputs": [
    {
     "data": {
      "text/plain": [
       "541"
      ]
     },
     "execution_count": 69,
     "metadata": {},
     "output_type": "execute_result"
    }
   ],
   "source": [
    "# aplicamos reduce\n",
    "suma2 = reduce(suma_elementos2, lista_random)\n",
    "suma2"
   ]
  },
  {
   "cell_type": "code",
   "execution_count": 70,
   "id": "20af0387",
   "metadata": {},
   "outputs": [
    {
     "data": {
      "text/plain": [
       "157"
      ]
     },
     "execution_count": 70,
     "metadata": {},
     "output_type": "execute_result"
    }
   ],
   "source": [
    "# aplicamos reduce\n",
    "suma2 = reduce(suma_elementos2, lista_random[10:15])\n",
    "suma2"
   ]
  },
  {
   "cell_type": "code",
   "execution_count": 73,
   "id": "557604c4",
   "metadata": {},
   "outputs": [],
   "source": [
    "# después de reduce \n",
    "def suma_elementos3 (x, y, z):\n",
    "    return (x + y) / z"
   ]
  },
  {
   "cell_type": "code",
   "execution_count": 74,
   "id": "eb780cab",
   "metadata": {},
   "outputs": [
    {
     "ename": "TypeError",
     "evalue": "suma_elementos3() missing 1 required positional argument: 'z'",
     "output_type": "error",
     "traceback": [
      "\u001b[1;31m---------------------------------------------------------------------------\u001b[0m",
      "\u001b[1;31mTypeError\u001b[0m                                 Traceback (most recent call last)",
      "Cell \u001b[1;32mIn [74], line 2\u001b[0m\n\u001b[0;32m      1\u001b[0m \u001b[39m# aplicamos reduce\u001b[39;00m\n\u001b[1;32m----> 2\u001b[0m suma3 \u001b[39m=\u001b[39m reduce(suma_elementos3, lista_random[\u001b[39m10\u001b[39;49m:\u001b[39m15\u001b[39;49m])\n\u001b[0;32m      3\u001b[0m suma3\n",
      "\u001b[1;31mTypeError\u001b[0m: suma_elementos3() missing 1 required positional argument: 'z'"
     ]
    }
   ],
   "source": [
    "# aplicamos reduce\n",
    "suma3 = reduce(suma_elementos3, lista_random[10:15]) ## no se admiten tres parámetros\n",
    "suma3"
   ]
  },
  {
   "cell_type": "code",
   "execution_count": 71,
   "id": "156f1480",
   "metadata": {},
   "outputs": [],
   "source": [
    "def suma_elementos3 (x, y, z):\n",
    "    return x + y * z"
   ]
  },
  {
   "cell_type": "code",
   "execution_count": 72,
   "id": "16ed9bd1",
   "metadata": {},
   "outputs": [
    {
     "ename": "TypeError",
     "evalue": "suma_elementos3() missing 1 required positional argument: 'z'",
     "output_type": "error",
     "traceback": [
      "\u001b[1;31m---------------------------------------------------------------------------\u001b[0m",
      "\u001b[1;31mTypeError\u001b[0m                                 Traceback (most recent call last)",
      "Cell \u001b[1;32mIn [72], line 4\u001b[0m\n\u001b[0;32m      1\u001b[0m \u001b[39m# si definimos una función que recibe tres parámetros nos dará error ya que reduce solo accederá a los elementos de la \u001b[39;00m\n\u001b[0;32m      2\u001b[0m \u001b[39m## lista de dos en dos. \u001b[39;00m\n\u001b[1;32m----> 4\u001b[0m suma3 \u001b[39m=\u001b[39m reduce(suma_elementos3, lista_random)\n\u001b[0;32m      5\u001b[0m suma3\n",
      "\u001b[1;31mTypeError\u001b[0m: suma_elementos3() missing 1 required positional argument: 'z'"
     ]
    }
   ],
   "source": [
    "# si definimos una función que recibe tres parámetros nos dará error ya que reduce solo accederá a los elementos de la \n",
    "## lista de dos en dos. \n",
    "\n",
    "suma3 = reduce(suma_elementos3, lista_random)\n",
    "suma3\n"
   ]
  },
  {
   "cell_type": "code",
   "execution_count": 61,
   "id": "82b9d824",
   "metadata": {},
   "outputs": [
    {
     "ename": "TypeError",
     "evalue": "<lambda>() missing 1 required positional argument: 'z'",
     "output_type": "error",
     "traceback": [
      "\u001b[0;31m---------------------------------------------------------------------------\u001b[0m",
      "\u001b[0;31mTypeError\u001b[0m                                 Traceback (most recent call last)",
      "\u001b[0;32m<ipython-input-61-9a92c3b50fff>\u001b[0m in \u001b[0;36m<module>\u001b[0;34m\u001b[0m\n\u001b[1;32m      1\u001b[0m \u001b[0;31m# después de reduce y lambda\u001b[0m\u001b[0;34m\u001b[0m\u001b[0;34m\u001b[0m\u001b[0;34m\u001b[0m\u001b[0m\n\u001b[0;32m----> 2\u001b[0;31m \u001b[0msuma4\u001b[0m \u001b[0;34m=\u001b[0m \u001b[0mreduce\u001b[0m\u001b[0;34m(\u001b[0m\u001b[0;32mlambda\u001b[0m \u001b[0mx\u001b[0m\u001b[0;34m,\u001b[0m\u001b[0my\u001b[0m\u001b[0;34m,\u001b[0m \u001b[0mz\u001b[0m\u001b[0;34m:\u001b[0m \u001b[0mx\u001b[0m \u001b[0;34m+\u001b[0m \u001b[0my\u001b[0m \u001b[0;34m*\u001b[0m \u001b[0mz\u001b[0m\u001b[0;34m,\u001b[0m \u001b[0mlista_random\u001b[0m\u001b[0;34m)\u001b[0m\u001b[0;34m\u001b[0m\u001b[0;34m\u001b[0m\u001b[0m\n\u001b[0m",
      "\u001b[0;31mTypeError\u001b[0m: <lambda>() missing 1 required positional argument: 'z'"
     ]
    }
   ],
   "source": [
    "# aunque usemos lambda nos dará error \n",
    "\n",
    "suma4 = reduce(lambda x,y, z: x + y * z, lista_random)"
   ]
  },
  {
   "cell_type": "code",
   "execution_count": 62,
   "id": "0d1eecc1",
   "metadata": {},
   "outputs": [
    {
     "data": {
      "text/plain": [
       "511"
      ]
     },
     "execution_count": 62,
     "metadata": {},
     "output_type": "execute_result"
    }
   ],
   "source": [
    "# después de reduce y lambda\n",
    "suma5 = reduce(lambda x,y: x + y , lista_random)\n",
    "suma5"
   ]
  }
 ],
 "metadata": {
  "kernelspec": {
   "display_name": "Python 3.9.13 ('iron')",
   "language": "python",
   "name": "python3"
  },
  "language_info": {
   "codemirror_mode": {
    "name": "ipython",
    "version": 3
   },
   "file_extension": ".py",
   "mimetype": "text/x-python",
   "name": "python",
   "nbconvert_exporter": "python",
   "pygments_lexer": "ipython3",
   "version": "3.9.13"
  },
  "toc": {
   "base_numbering": 1,
   "nav_menu": {},
   "number_sections": true,
   "sideBar": true,
   "skip_h1_title": false,
   "title_cell": "Table of Contents",
   "title_sidebar": "Contents",
   "toc_cell": true,
   "toc_position": {},
   "toc_section_display": true,
   "toc_window_display": false
  },
  "varInspector": {
   "cols": {
    "lenName": 16,
    "lenType": 16,
    "lenVar": 40
   },
   "kernels_config": {
    "python": {
     "delete_cmd_postfix": "",
     "delete_cmd_prefix": "del ",
     "library": "var_list.py",
     "varRefreshCmd": "print(var_dic_list())"
    },
    "r": {
     "delete_cmd_postfix": ") ",
     "delete_cmd_prefix": "rm(",
     "library": "var_list.r",
     "varRefreshCmd": "cat(var_dic_list()) "
    }
   },
   "position": {
    "height": "144.844px",
    "left": "1069px",
    "right": "20px",
    "top": "119px",
    "width": "350px"
   },
   "types_to_exclude": [
    "module",
    "function",
    "builtin_function_or_method",
    "instance",
    "_Feature"
   ],
   "window_display": false
  },
  "vscode": {
   "interpreter": {
    "hash": "e59d0b279e6461be5b4ea7b62838527cd8f41f3cbc9a1147b1a83b32d75ab689"
   }
  }
 },
 "nbformat": 4,
 "nbformat_minor": 5
}
