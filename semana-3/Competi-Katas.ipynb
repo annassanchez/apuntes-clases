{
 "cells": [
  {
   "cell_type": "markdown",
   "id": "b2c33bae",
   "metadata": {},
   "source": [
    "# Escribid un programa que dé salida a los n primeros elementos de una lista.\n",
    "\n",
    "Siendo:\n",
    "\n",
    "- n un parámetro de la función \n",
    "\n",
    "- Una lista de números\n",
    "\n",
    "Probad que vuestra función es correcta con los siguientes valores: \n",
    "\n",
    "Ejemplo 1: \n",
    "- n = 2\n",
    "\n",
    "- lista = [10,9,8,7,6,5,4,3,2,1]\n",
    "\n",
    "- Output --> [9,10]\n",
    "\n",
    "Ejemplo 2: \n",
    "\n",
    "- n = 3\n",
    "\n",
    "- lista : [5,1,5,2,3,1,2,3,5]\n",
    "\n",
    "- Output --> [5,5,5]\n",
    "\n",
    "Ejemplo 3\n",
    "\n",
    "- n = 7\n",
    "\n",
    "- lista: [9,1,50,22,3,13,2,63,5]\n",
    "\n",
    "- Output --> [3, 5, 9, 13, 22, 50, 63]"
   ]
  },
  {
   "cell_type": "code",
   "execution_count": 12,
   "id": "5e55bca7",
   "metadata": {},
   "outputs": [],
   "source": [
    "def largest(n,xs):\n",
    "    xs.sort(reverse = True)\n",
    "    xs = xs[:n]\n",
    "    xs.reverse()\n",
    "    return xs"
   ]
  },
  {
   "cell_type": "code",
   "execution_count": 13,
   "id": "e7ecda17",
   "metadata": {},
   "outputs": [
    {
     "data": {
      "text/plain": [
       "[9, 10]"
      ]
     },
     "execution_count": 13,
     "metadata": {},
     "output_type": "execute_result"
    }
   ],
   "source": [
    "largest(2, [10,9,8,7,6,5,4,3,2,1])"
   ]
  },
  {
   "cell_type": "code",
   "execution_count": 14,
   "id": "8e621d57",
   "metadata": {},
   "outputs": [
    {
     "data": {
      "text/plain": [
       "[5, 5, 5]"
      ]
     },
     "execution_count": 14,
     "metadata": {},
     "output_type": "execute_result"
    }
   ],
   "source": [
    "largest(3,  [5,1,5,2,3,1,2,3,5])"
   ]
  },
  {
   "cell_type": "code",
   "execution_count": 15,
   "id": "f40d4e2a",
   "metadata": {},
   "outputs": [
    {
     "data": {
      "text/plain": [
       "[3, 5, 9, 13, 22, 50, 63]"
      ]
     },
     "execution_count": 15,
     "metadata": {},
     "output_type": "execute_result"
    }
   ],
   "source": [
    "largest(7,  [9,1,50,22,3,13,2,63,5])"
   ]
  },
  {
   "cell_type": "markdown",
   "id": "f101d770",
   "metadata": {},
   "source": [
    "# Dadas dos listas de strings devolved una lista ordenada en orden alfabetico de los *strings* que están en la primera lista y en la segunda. También debemos incluir los *strings* de la primera lista que son *substrings* de la segunda. \n",
    "\n",
    "\n",
    "Vuestra función debe funcionar para los siguientes ejemplos: \n",
    "\n",
    "Ejemplo 1: \n",
    "\n",
    "```python\n",
    "a1 = [\"arp\", \"live\", \"strong\"]\n",
    "\n",
    "a2 = [\"lively\", \"alive\", \"harp\", \"sharp\", \"armstrong\"]\n",
    "\n",
    "# Output \n",
    "\n",
    "['arp', 'live', 'strong']\n",
    "\n",
    "```\n",
    "\n",
    "Ejemplo 2: \n",
    "\n",
    "```python\n",
    "a1 = [\"tarp\", \"mice\", \"bull\"]\n",
    "\n",
    "a2 = [\"lively\", \"alive\", \"harp\", \"sharp\", \"armstrong\"]\n",
    "\n",
    "# Output\n",
    "\n",
    "[]\n",
    "```\n",
    "Ejemplo 3\n",
    "\n",
    "```python\n",
    "a1 = [\"arp\", \"mice\", \"bull\"] \n",
    "\n",
    "a2 = [\"lively\", \"alive\", \"harp\", \"sharp\", \"armstrong\"]\n",
    "\n",
    "# Output \n",
    "\n",
    "['arp']\n",
    "```\n"
   ]
  },
  {
   "cell_type": "code",
   "execution_count": 26,
   "id": "0f19219f",
   "metadata": {},
   "outputs": [],
   "source": [
    "def in_array(array1, array2):\n",
    "    set2 = set()\n",
    "    for i in array1:\n",
    "        for a in array2:\n",
    "            if i in a:\n",
    "                set2.add(i)\n",
    "    resp = list(set2)\n",
    "    resp.sort()\n",
    "    return resp"
   ]
  },
  {
   "cell_type": "code",
   "execution_count": 30,
   "id": "4fe42a07",
   "metadata": {},
   "outputs": [],
   "source": [
    "a11 = [\"arp\", \"live\", \"strong\"]\n",
    "\n",
    "a21 = [\"lively\", \"alive\", \"harp\", \"sharp\", \"armstrong\"]"
   ]
  },
  {
   "cell_type": "code",
   "execution_count": 31,
   "id": "5bf3cfb5",
   "metadata": {},
   "outputs": [
    {
     "data": {
      "text/plain": [
       "['arp', 'live', 'strong']"
      ]
     },
     "execution_count": 31,
     "metadata": {},
     "output_type": "execute_result"
    }
   ],
   "source": [
    "in_array(a11,a21)"
   ]
  },
  {
   "cell_type": "code",
   "execution_count": 32,
   "id": "1568467f",
   "metadata": {},
   "outputs": [],
   "source": [
    "a12 = [\"tarp\", \"mice\", \"bull\"]\n",
    "\n",
    "a22 = [\"lively\", \"alive\", \"harp\", \"sharp\", \"armstrong\"]"
   ]
  },
  {
   "cell_type": "code",
   "execution_count": 33,
   "id": "606da971",
   "metadata": {},
   "outputs": [
    {
     "data": {
      "text/plain": [
       "[]"
      ]
     },
     "execution_count": 33,
     "metadata": {},
     "output_type": "execute_result"
    }
   ],
   "source": [
    "in_array(a12, a22)"
   ]
  },
  {
   "cell_type": "code",
   "execution_count": 34,
   "id": "c3fb56b8",
   "metadata": {},
   "outputs": [],
   "source": [
    "a13 = [\"arp\", \"mice\", \"bull\"] \n",
    "\n",
    "a23 = [\"lively\", \"alive\", \"harp\", \"sharp\", \"armstrong\"]"
   ]
  },
  {
   "cell_type": "code",
   "execution_count": 35,
   "id": "a69fbc90",
   "metadata": {},
   "outputs": [
    {
     "data": {
      "text/plain": [
       "['arp']"
      ]
     },
     "execution_count": 35,
     "metadata": {},
     "output_type": "execute_result"
    }
   ],
   "source": [
    "in_array(a13, a23)"
   ]
  },
  {
   "cell_type": "code",
   "execution_count": null,
   "id": "11ae2db0",
   "metadata": {},
   "outputs": [],
   "source": []
  }
 ],
 "metadata": {
  "kernelspec": {
   "display_name": "ironhack",
   "language": "python",
   "name": "ironhack"
  },
  "language_info": {
   "codemirror_mode": {
    "name": "ipython",
    "version": 3
   },
   "file_extension": ".py",
   "mimetype": "text/x-python",
   "name": "python",
   "nbconvert_exporter": "python",
   "pygments_lexer": "ipython3",
   "version": "3.8.13"
  },
  "toc": {
   "base_numbering": 1,
   "nav_menu": {},
   "number_sections": true,
   "sideBar": true,
   "skip_h1_title": false,
   "title_cell": "Table of Contents",
   "title_sidebar": "Contents",
   "toc_cell": false,
   "toc_position": {},
   "toc_section_display": true,
   "toc_window_display": false
  }
 },
 "nbformat": 4,
 "nbformat_minor": 5
}
