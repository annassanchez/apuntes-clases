{
 "cells": [
  {
   "cell_type": "markdown",
   "metadata": {},
   "source": [
    "**Analisis exploratorio** del dataframe. lo primero que deberéis hacer es un pequeño análisis exploratorio donde saquéis: \n",
    "\n",
    "- Número de filas y columnas\n",
    "\n",
    "- Cuáles son los nombres de las columnas\n",
    "\n",
    "- Los nombres de las columnas tienen espacios. Cambiar los nombres de las columnas, para que en vez de espacios tengan \"_\"\n",
    "\n",
    "- ¿Cuántos nulos tiene nuestro df? Mostrad solo aquellas filas que tengan nulos y en formato del porcentaje\n",
    "\n",
    "- ¿Tenemos duplicados en nuestro df?\n",
    "\n",
    "- ¿Cuáles son los principales estadísticos de las variables numéricas? ¿Y de las categóricas? Mostrad los resultados por separado. \n",
    "\n",
    "- Cread un subdataframe que contenga unicamente las columnas de tipo *object* "
   ]
  },
  {
   "cell_type": "code",
   "execution_count": null,
   "metadata": {},
   "outputs": [],
   "source": []
  },
  {
   "cell_type": "markdown",
   "metadata": {},
   "source": [
    "**Cread una columna que se llame `id`, que contenga números consecutivos que no se repitan** "
   ]
  },
  {
   "cell_type": "code",
   "execution_count": null,
   "metadata": {},
   "outputs": [],
   "source": []
  },
  {
   "cell_type": "markdown",
   "metadata": {},
   "source": [
    "**Cread una columma nueva usando la columna `stays_in_weekend_nights`**\n",
    "\n",
    "Basandonos en esta columna queremos dividir las estancias en dos categorías: \n",
    "\n",
    "- Estancias superiores a 5 dias serán etiquetadas como \"long stay\" \n",
    "\n",
    "- Estancias iguales o inferiores a 5 días serán consideradas como \"short stay\"\n",
    "\n",
    "- Cread una nueva columna que se llame \"stays_type\" \n",
    "\n",
    "- Mostrad las 6 últimas filas"
   ]
  },
  {
   "cell_type": "code",
   "execution_count": null,
   "metadata": {},
   "outputs": [],
   "source": []
  },
  {
   "cell_type": "markdown",
   "metadata": {},
   "source": [
    "**Basandonos en la columna `required_car_parking_spaces`:**\n",
    "\n",
    "- Chequead los valores únicos de la columna\n",
    "\n",
    "- De cada una de las categorías de la columna, ¿cuántos registros tenemos de cada uno de ellos? Mostrad este resultado como un DataFrame\n",
    "\n",
    "- Esta columna está en formato numérico y no nos interesa. Cambiad los 0 por \"No\" y mayores que 0 por \"Si\"\n",
    "\n",
    "- Cread una nueva columna que se llame \"parking\" "
   ]
  },
  {
   "cell_type": "code",
   "execution_count": null,
   "metadata": {},
   "outputs": [],
   "source": []
  },
  {
   "cell_type": "markdown",
   "metadata": {},
   "source": [
    "**Utilizando la columna de `reservation_status_date`:**\n",
    "\n",
    "- Cread dos columnas nuevas que correspondan con  el mes y el año. \n",
    "\n",
    "- Una vez que las hayais creado eliminad la columna `reservation_status_date`\n",
    "\n",
    "- ¿Qué mes es en el que tenemos más reservas? ¿Y el año?"
   ]
  },
  {
   "cell_type": "code",
   "execution_count": null,
   "metadata": {},
   "outputs": [],
   "source": []
  },
  {
   "cell_type": "markdown",
   "metadata": {},
   "source": [
    "**Ahora no nos interesan los meses en números y queremos tenerlos con letra, es decir, enero, febrero, marzo, etc... Cambiad los valores de la columna \"month\" para tenerlos en el formato que queremos.**"
   ]
  },
  {
   "cell_type": "code",
   "execution_count": null,
   "metadata": {},
   "outputs": [],
   "source": []
  },
  {
   "cell_type": "markdown",
   "metadata": {},
   "source": [
    "**¿Cuál es el número medio, el máximo y el mínimo de noches pasadas en fines de semana en funcion del tipo de hotel (columma `hotel`)? ¿Y los días entre semana?**"
   ]
  },
  {
   "cell_type": "code",
   "execution_count": null,
   "metadata": {},
   "outputs": [],
   "source": []
  },
  {
   "cell_type": "markdown",
   "metadata": {},
   "source": [
    "**¿ Basándonos en el país y en el tipo de hotel, cual es la media de adultos de las reservas?**\n",
    "\n",
    "**BONUS** Si exploramos los datos del ejercicio anterior, veremos que hay en paises donde solo tenemos un tipo de hotel y en otros tenemos los dos tipos. En este caso, deberéis quedaros solo con aquellos paises que tengan los dos tipos de hoteles. ¿Cuántos países distintos tenemos en este nuevo resultado que acabamos de generar? "
   ]
  },
  {
   "cell_type": "code",
   "execution_count": null,
   "metadata": {},
   "outputs": [],
   "source": []
  },
  {
   "cell_type": "markdown",
   "metadata": {},
   "source": [
    "**Basándonos en la columna de `hotel` filtrad los datos para extraer solo los valores de \"Resort Hotel\"**"
   ]
  },
  {
   "cell_type": "code",
   "execution_count": null,
   "metadata": {},
   "outputs": [],
   "source": []
  },
  {
   "cell_type": "markdown",
   "metadata": {},
   "source": [
    "**Basándonos en la columa `meal` extraed solo los valores que correspondan con \"BB\" y \"FB\"**"
   ]
  },
  {
   "cell_type": "code",
   "execution_count": null,
   "metadata": {},
   "outputs": [],
   "source": []
  },
  {
   "cell_type": "markdown",
   "metadata": {},
   "source": [
    "**En este caso, nos interesan los datos donde tengamos reservas sin niños y sin niños**"
   ]
  },
  {
   "cell_type": "code",
   "execution_count": null,
   "metadata": {},
   "outputs": [],
   "source": []
  },
  {
   "cell_type": "markdown",
   "metadata": {},
   "source": [
    "**¿Cuáles son los valores únicos de la columna `children`?**\n",
    "\n",
    "**¿Por qué nos sale con decimales?**"
   ]
  },
  {
   "cell_type": "code",
   "execution_count": null,
   "metadata": {},
   "outputs": [],
   "source": []
  },
  {
   "cell_type": "markdown",
   "metadata": {},
   "source": [
    "**Reemplazad los valores nulos por la moda**"
   ]
  },
  {
   "cell_type": "code",
   "execution_count": null,
   "metadata": {},
   "outputs": [],
   "source": []
  },
  {
   "cell_type": "markdown",
   "metadata": {},
   "source": [
    "**Viendo los valores únicos del número de hijos, hay algo que os llame la antención?**"
   ]
  },
  {
   "cell_type": "markdown",
   "metadata": {},
   "source": [
    "**Ahora queremos ordenar nuestros datos, lo haremos por el año** Las condiciones para ordenar son: \n",
    "\n",
    "- Año: de menor a mayor"
   ]
  },
  {
   "cell_type": "code",
   "execution_count": null,
   "metadata": {},
   "outputs": [],
   "source": []
  },
  {
   "cell_type": "markdown",
   "metadata": {},
   "source": [
    "**Ordendad de nuevo el df, pero en este caso en función de número de adultos y niños.** Las condiciones para ordenar son: \n",
    "\n",
    "- Número de adultos: de mayor a menor\n",
    "\n",
    "- Número de hijos: de menor a mayor"
   ]
  },
  {
   "cell_type": "code",
   "execution_count": null,
   "metadata": {},
   "outputs": [],
   "source": []
  },
  {
   "cell_type": "markdown",
   "metadata": {},
   "source": [
    "**Después de hacer este último orden, nuestros índices ya no están ordenados, ordenad los índices para que empiecen desde el cero**"
   ]
  },
  {
   "cell_type": "code",
   "execution_count": null,
   "metadata": {},
   "outputs": [],
   "source": []
  },
  {
   "cell_type": "markdown",
   "metadata": {},
   "source": [
    "**Momento de practicar con el loc e iloc**\n",
    "\n",
    "- Extraed todas las columnas para el índice 1\n",
    "\n",
    "- Extraed las colummas de adultos, niños y bebes de todas las filas pares\n",
    "\n",
    "- Extraed todas las filas de la columna hotel (utilizad loc o iloc) "
   ]
  },
  {
   "cell_type": "code",
   "execution_count": null,
   "metadata": {},
   "outputs": [],
   "source": []
  }
 ],
 "metadata": {
  "kernelspec": {
   "display_name": "Python 3",
   "language": "python",
   "name": "python3"
  },
  "language_info": {
   "codemirror_mode": {
    "name": "ipython",
    "version": 3
   },
   "file_extension": ".py",
   "mimetype": "text/x-python",
   "name": "python",
   "nbconvert_exporter": "python",
   "pygments_lexer": "ipython3",
   "version": "3.8.13"
  },
  "toc": {
   "base_numbering": 1,
   "nav_menu": {},
   "number_sections": true,
   "sideBar": true,
   "skip_h1_title": false,
   "title_cell": "Table of Contents",
   "title_sidebar": "Contents",
   "toc_cell": false,
   "toc_position": {},
   "toc_section_display": true,
   "toc_window_display": false
  },
  "vscode": {
   "interpreter": {
    "hash": "f7912e45f56376859e46a323936f3af5ef395502effe5c6049b04a4785be6cad"
   }
  }
 },
 "nbformat": 4,
 "nbformat_minor": 2
}
