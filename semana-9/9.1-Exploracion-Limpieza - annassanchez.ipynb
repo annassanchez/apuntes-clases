{
 "cells": [
  {
   "cell_type": "code",
   "execution_count": 1,
   "metadata": {},
   "outputs": [],
   "source": [
    "#!pip install fuzzywuzzy"
   ]
  },
  {
   "cell_type": "code",
   "execution_count": 2,
   "metadata": {},
   "outputs": [
    {
     "name": "stderr",
     "output_type": "stream",
     "text": [
      "c:\\Users\\annas\\anaconda3\\envs\\iron\\lib\\site-packages\\fuzzywuzzy\\fuzz.py:11: UserWarning: Using slow pure-python SequenceMatcher. Install python-Levenshtein to remove this warning\n",
      "  warnings.warn('Using slow pure-python SequenceMatcher. Install python-Levenshtein to remove this warning')\n"
     ]
    }
   ],
   "source": [
    "import pandas as pd\n",
    "import numpy as np\n",
    "import matplotlib.pyplot as plt\n",
    "import seaborn as sns\n",
    "import plotly.express as px\n",
    "from collections import Counter\n",
    "from fuzzywuzzy import process, fuzz\n",
    "import pickle"
   ]
  },
  {
   "cell_type": "markdown",
   "metadata": {},
   "source": [
    "# Cargamos los datos"
   ]
  },
  {
   "cell_type": "code",
   "execution_count": 3,
   "metadata": {},
   "outputs": [
    {
     "data": {
      "text/html": [
       "<div>\n",
       "<style scoped>\n",
       "    .dataframe tbody tr th:only-of-type {\n",
       "        vertical-align: middle;\n",
       "    }\n",
       "\n",
       "    .dataframe tbody tr th {\n",
       "        vertical-align: top;\n",
       "    }\n",
       "\n",
       "    .dataframe thead th {\n",
       "        text-align: right;\n",
       "    }\n",
       "</style>\n",
       "<table border=\"1\" class=\"dataframe\">\n",
       "  <thead>\n",
       "    <tr style=\"text-align: right;\">\n",
       "      <th></th>\n",
       "      <th>show_id</th>\n",
       "      <th>type</th>\n",
       "      <th>title</th>\n",
       "      <th>director</th>\n",
       "      <th>cast</th>\n",
       "      <th>country</th>\n",
       "      <th>date_added</th>\n",
       "      <th>release_year</th>\n",
       "      <th>rating</th>\n",
       "      <th>duration</th>\n",
       "      <th>listed_in</th>\n",
       "      <th>description</th>\n",
       "    </tr>\n",
       "  </thead>\n",
       "  <tbody>\n",
       "    <tr>\n",
       "      <th>0</th>\n",
       "      <td>s1</td>\n",
       "      <td>Movie</td>\n",
       "      <td>Dick Johnson Is Dead</td>\n",
       "      <td>Kirsten Johnson</td>\n",
       "      <td>NaN</td>\n",
       "      <td>United States</td>\n",
       "      <td>September 25, 2021</td>\n",
       "      <td>2020</td>\n",
       "      <td>PG-13</td>\n",
       "      <td>90 min</td>\n",
       "      <td>Documentaries</td>\n",
       "      <td>As her father nears the end of his life, filmm...</td>\n",
       "    </tr>\n",
       "    <tr>\n",
       "      <th>1</th>\n",
       "      <td>s2</td>\n",
       "      <td>TV Show</td>\n",
       "      <td>Blood &amp; Water</td>\n",
       "      <td>NaN</td>\n",
       "      <td>Ama Qamata, Khosi Ngema, Gail Mabalane, Thaban...</td>\n",
       "      <td>South Africa</td>\n",
       "      <td>September 24, 2021</td>\n",
       "      <td>2021</td>\n",
       "      <td>TV-MA</td>\n",
       "      <td>2 Seasons</td>\n",
       "      <td>International TV Shows, TV Dramas, TV Mysteries</td>\n",
       "      <td>After crossing paths at a party, a Cape Town t...</td>\n",
       "    </tr>\n",
       "  </tbody>\n",
       "</table>\n",
       "</div>"
      ],
      "text/plain": [
       "  show_id     type                 title         director  \\\n",
       "0      s1    Movie  Dick Johnson Is Dead  Kirsten Johnson   \n",
       "1      s2  TV Show         Blood & Water              NaN   \n",
       "\n",
       "                                                cast        country  \\\n",
       "0                                                NaN  United States   \n",
       "1  Ama Qamata, Khosi Ngema, Gail Mabalane, Thaban...   South Africa   \n",
       "\n",
       "           date_added  release_year rating   duration  \\\n",
       "0  September 25, 2021          2020  PG-13     90 min   \n",
       "1  September 24, 2021          2021  TV-MA  2 Seasons   \n",
       "\n",
       "                                         listed_in  \\\n",
       "0                                    Documentaries   \n",
       "1  International TV Shows, TV Dramas, TV Mysteries   \n",
       "\n",
       "                                         description  \n",
       "0  As her father nears the end of his life, filmm...  \n",
       "1  After crossing paths at a party, a Cape Town t...  "
      ]
     },
     "execution_count": 3,
     "metadata": {},
     "output_type": "execute_result"
    }
   ],
   "source": [
    "# cargamos el csv donde tenemos todos los títulos que tenemos en Netflix\n",
    "df_titulos = pd.read_csv(\"data/netflix_titles.csv\", index_col = 0 )\n",
    "df_titulos.head(2)"
   ]
  },
  {
   "cell_type": "code",
   "execution_count": 4,
   "metadata": {},
   "outputs": [
    {
     "data": {
      "text/html": [
       "<div>\n",
       "<style scoped>\n",
       "    .dataframe tbody tr th:only-of-type {\n",
       "        vertical-align: middle;\n",
       "    }\n",
       "\n",
       "    .dataframe tbody tr th {\n",
       "        vertical-align: top;\n",
       "    }\n",
       "\n",
       "    .dataframe thead th {\n",
       "        text-align: right;\n",
       "    }\n",
       "</style>\n",
       "<table border=\"1\" class=\"dataframe\">\n",
       "  <thead>\n",
       "    <tr style=\"text-align: right;\">\n",
       "      <th></th>\n",
       "      <th>Title</th>\n",
       "      <th>Genre</th>\n",
       "      <th>Premiere</th>\n",
       "      <th>Runtime</th>\n",
       "      <th>IMDB Score</th>\n",
       "      <th>Language</th>\n",
       "    </tr>\n",
       "  </thead>\n",
       "  <tbody>\n",
       "    <tr>\n",
       "      <th>0</th>\n",
       "      <td>Enter the Anime</td>\n",
       "      <td>Documentary</td>\n",
       "      <td>August 5, 2019</td>\n",
       "      <td>58</td>\n",
       "      <td>2.5</td>\n",
       "      <td>English/Japanese</td>\n",
       "    </tr>\n",
       "    <tr>\n",
       "      <th>1</th>\n",
       "      <td>Dark Forces</td>\n",
       "      <td>Thriller</td>\n",
       "      <td>August 21, 2020</td>\n",
       "      <td>81</td>\n",
       "      <td>2.6</td>\n",
       "      <td>Spanish</td>\n",
       "    </tr>\n",
       "  </tbody>\n",
       "</table>\n",
       "</div>"
      ],
      "text/plain": [
       "             Title        Genre         Premiere  Runtime  IMDB Score  \\\n",
       "0  Enter the Anime  Documentary   August 5, 2019       58         2.5   \n",
       "1      Dark Forces     Thriller  August 21, 2020       81         2.6   \n",
       "\n",
       "           Language  \n",
       "0  English/Japanese  \n",
       "1           Spanish  "
      ]
     },
     "execution_count": 4,
     "metadata": {},
     "output_type": "execute_result"
    }
   ],
   "source": [
    "# cargamos el csv donde tenemos todas las producciones de Netflix\n",
    "df_original = pd.read_csv(\"data/netflix_originals.csv\", index_col = 0)\n",
    "df_original.head(2)"
   ]
  },
  {
   "cell_type": "code",
   "execution_count": 5,
   "metadata": {
    "scrolled": true
   },
   "outputs": [
    {
     "data": {
      "text/plain": [
       "(8807, 12)"
      ]
     },
     "execution_count": 5,
     "metadata": {},
     "output_type": "execute_result"
    }
   ],
   "source": [
    "df_titulos.shape"
   ]
  },
  {
   "cell_type": "code",
   "execution_count": 6,
   "metadata": {},
   "outputs": [
    {
     "data": {
      "text/plain": [
       "(513, 6)"
      ]
     },
     "execution_count": 6,
     "metadata": {},
     "output_type": "execute_result"
    }
   ],
   "source": [
    "df_original.shape"
   ]
  },
  {
   "attachments": {},
   "cell_type": "markdown",
   "metadata": {},
   "source": [
    "# MIO"
   ]
  },
  {
   "cell_type": "code",
   "execution_count": 7,
   "metadata": {},
   "outputs": [
    {
     "data": {
      "text/html": [
       "<div>\n",
       "<style scoped>\n",
       "    .dataframe tbody tr th:only-of-type {\n",
       "        vertical-align: middle;\n",
       "    }\n",
       "\n",
       "    .dataframe tbody tr th {\n",
       "        vertical-align: top;\n",
       "    }\n",
       "\n",
       "    .dataframe thead th {\n",
       "        text-align: right;\n",
       "    }\n",
       "</style>\n",
       "<table border=\"1\" class=\"dataframe\">\n",
       "  <thead>\n",
       "    <tr style=\"text-align: right;\">\n",
       "      <th></th>\n",
       "      <th>show_id</th>\n",
       "      <th>type</th>\n",
       "      <th>title</th>\n",
       "      <th>director</th>\n",
       "      <th>cast</th>\n",
       "      <th>country</th>\n",
       "      <th>date_added</th>\n",
       "      <th>release_year</th>\n",
       "      <th>rating</th>\n",
       "      <th>duration</th>\n",
       "      <th>listed_in</th>\n",
       "      <th>description</th>\n",
       "      <th>Title</th>\n",
       "      <th>Genre</th>\n",
       "      <th>Premiere</th>\n",
       "      <th>Runtime</th>\n",
       "      <th>IMDB Score</th>\n",
       "      <th>Language</th>\n",
       "    </tr>\n",
       "  </thead>\n",
       "  <tbody>\n",
       "    <tr>\n",
       "      <th>0</th>\n",
       "      <td>s1</td>\n",
       "      <td>Movie</td>\n",
       "      <td>Dick Johnson Is Dead</td>\n",
       "      <td>Kirsten Johnson</td>\n",
       "      <td>NaN</td>\n",
       "      <td>United States</td>\n",
       "      <td>September 25, 2021</td>\n",
       "      <td>2020</td>\n",
       "      <td>PG-13</td>\n",
       "      <td>90 min</td>\n",
       "      <td>Documentaries</td>\n",
       "      <td>As her father nears the end of his life, filmm...</td>\n",
       "      <td>Dick Johnson Is Dead</td>\n",
       "      <td>Documentary</td>\n",
       "      <td>October 2, 2020</td>\n",
       "      <td>90</td>\n",
       "      <td>7.5</td>\n",
       "      <td>English</td>\n",
       "    </tr>\n",
       "    <tr>\n",
       "      <th>1</th>\n",
       "      <td>s142</td>\n",
       "      <td>Movie</td>\n",
       "      <td>Extraction</td>\n",
       "      <td>Steven C. Miller</td>\n",
       "      <td>Bruce Willis, Kellan Lutz, Gina Carano, D.B. S...</td>\n",
       "      <td>United States, United Kingdom, Canada</td>\n",
       "      <td>September 1, 2021</td>\n",
       "      <td>2015</td>\n",
       "      <td>R</td>\n",
       "      <td>82 min</td>\n",
       "      <td>Action &amp; Adventure</td>\n",
       "      <td>When a retired CIA agent is kidnapped, his son...</td>\n",
       "      <td>Extraction</td>\n",
       "      <td>Action</td>\n",
       "      <td>April 24, 2020</td>\n",
       "      <td>117</td>\n",
       "      <td>6.7</td>\n",
       "      <td>English</td>\n",
       "    </tr>\n",
       "    <tr>\n",
       "      <th>2</th>\n",
       "      <td>s625</td>\n",
       "      <td>Movie</td>\n",
       "      <td>Prime Time</td>\n",
       "      <td>Jakub Piątek</td>\n",
       "      <td>Bartosz Bielenia, Magdalena Popławska, Andrzej...</td>\n",
       "      <td>NaN</td>\n",
       "      <td>June 30, 2021</td>\n",
       "      <td>2021</td>\n",
       "      <td>TV-MA</td>\n",
       "      <td>NaN</td>\n",
       "      <td>Dramas, International Movies, Thrillers</td>\n",
       "      <td>On New Year’s Eve 1999, an armed man enters a ...</td>\n",
       "      <td>Prime Time</td>\n",
       "      <td>Thriller</td>\n",
       "      <td>April 14, 2021</td>\n",
       "      <td>91</td>\n",
       "      <td>5.7</td>\n",
       "      <td>Polish</td>\n",
       "    </tr>\n",
       "    <tr>\n",
       "      <th>3</th>\n",
       "      <td>s835</td>\n",
       "      <td>Movie</td>\n",
       "      <td>Blue Miracle</td>\n",
       "      <td>Julio Quintana</td>\n",
       "      <td>Jimmy Gonzales, Dennis Quaid, Anthony Gonzalez...</td>\n",
       "      <td>United States</td>\n",
       "      <td>May 27, 2021</td>\n",
       "      <td>2021</td>\n",
       "      <td>TV-PG</td>\n",
       "      <td>NaN</td>\n",
       "      <td>Children &amp; Family Movies, Dramas, Faith &amp; Spir...</td>\n",
       "      <td>To save their cash-strapped orphanage, a guard...</td>\n",
       "      <td>Blue Miracle</td>\n",
       "      <td>Drama</td>\n",
       "      <td>May 27, 2021</td>\n",
       "      <td>95</td>\n",
       "      <td>6.7</td>\n",
       "      <td>English</td>\n",
       "    </tr>\n",
       "    <tr>\n",
       "      <th>4</th>\n",
       "      <td>s837</td>\n",
       "      <td>Movie</td>\n",
       "      <td>Ghost Lab</td>\n",
       "      <td>Paween Purijitpanya</td>\n",
       "      <td>Thanapob Leeratanakachorn, Paris Intarakomalya...</td>\n",
       "      <td>Thailand</td>\n",
       "      <td>May 27, 2021</td>\n",
       "      <td>2021</td>\n",
       "      <td>TV-MA</td>\n",
       "      <td>118 min</td>\n",
       "      <td>Horror Movies, International Movies, Thrillers</td>\n",
       "      <td>After witnessing a haunting in their hospital,...</td>\n",
       "      <td>Ghost Lab</td>\n",
       "      <td>Horror</td>\n",
       "      <td>May 26, 2021</td>\n",
       "      <td>117</td>\n",
       "      <td>5.2</td>\n",
       "      <td>Thai</td>\n",
       "    </tr>\n",
       "  </tbody>\n",
       "</table>\n",
       "</div>"
      ],
      "text/plain": [
       "  show_id   type                 title             director  \\\n",
       "0      s1  Movie  Dick Johnson Is Dead      Kirsten Johnson   \n",
       "1    s142  Movie            Extraction     Steven C. Miller   \n",
       "2    s625  Movie            Prime Time         Jakub Piątek   \n",
       "3    s835  Movie          Blue Miracle       Julio Quintana   \n",
       "4    s837  Movie             Ghost Lab  Paween Purijitpanya   \n",
       "\n",
       "                                                cast  \\\n",
       "0                                                NaN   \n",
       "1  Bruce Willis, Kellan Lutz, Gina Carano, D.B. S...   \n",
       "2  Bartosz Bielenia, Magdalena Popławska, Andrzej...   \n",
       "3  Jimmy Gonzales, Dennis Quaid, Anthony Gonzalez...   \n",
       "4  Thanapob Leeratanakachorn, Paris Intarakomalya...   \n",
       "\n",
       "                                 country          date_added  release_year  \\\n",
       "0                          United States  September 25, 2021          2020   \n",
       "1  United States, United Kingdom, Canada   September 1, 2021          2015   \n",
       "2                                    NaN       June 30, 2021          2021   \n",
       "3                          United States        May 27, 2021          2021   \n",
       "4                               Thailand        May 27, 2021          2021   \n",
       "\n",
       "  rating duration                                          listed_in  \\\n",
       "0  PG-13   90 min                                      Documentaries   \n",
       "1      R   82 min                                 Action & Adventure   \n",
       "2  TV-MA      NaN            Dramas, International Movies, Thrillers   \n",
       "3  TV-PG      NaN  Children & Family Movies, Dramas, Faith & Spir...   \n",
       "4  TV-MA  118 min     Horror Movies, International Movies, Thrillers   \n",
       "\n",
       "                                         description                 Title  \\\n",
       "0  As her father nears the end of his life, filmm...  Dick Johnson Is Dead   \n",
       "1  When a retired CIA agent is kidnapped, his son...            Extraction   \n",
       "2  On New Year’s Eve 1999, an armed man enters a ...            Prime Time   \n",
       "3  To save their cash-strapped orphanage, a guard...          Blue Miracle   \n",
       "4  After witnessing a haunting in their hospital,...             Ghost Lab   \n",
       "\n",
       "         Genre         Premiere  Runtime  IMDB Score Language  \n",
       "0  Documentary  October 2, 2020       90         7.5  English  \n",
       "1       Action   April 24, 2020      117         6.7  English  \n",
       "2     Thriller   April 14, 2021       91         5.7   Polish  \n",
       "3        Drama     May 27, 2021       95         6.7  English  \n",
       "4       Horror     May 26, 2021      117         5.2     Thai  "
      ]
     },
     "execution_count": 7,
     "metadata": {},
     "output_type": "execute_result"
    }
   ],
   "source": [
    "df = df_titulos.merge(df_original, left_on='title', right_on='Title', how = 'inner')\n",
    "df.head()"
   ]
  },
  {
   "cell_type": "code",
   "execution_count": 8,
   "metadata": {},
   "outputs": [
    {
     "data": {
      "text/html": [
       "<div>\n",
       "<style scoped>\n",
       "    .dataframe tbody tr th:only-of-type {\n",
       "        vertical-align: middle;\n",
       "    }\n",
       "\n",
       "    .dataframe tbody tr th {\n",
       "        vertical-align: top;\n",
       "    }\n",
       "\n",
       "    .dataframe thead th {\n",
       "        text-align: right;\n",
       "    }\n",
       "</style>\n",
       "<table border=\"1\" class=\"dataframe\">\n",
       "  <thead>\n",
       "    <tr style=\"text-align: right;\">\n",
       "      <th></th>\n",
       "      <th>type</th>\n",
       "      <th>title</th>\n",
       "      <th>director</th>\n",
       "      <th>cast</th>\n",
       "      <th>country</th>\n",
       "      <th>date_added</th>\n",
       "      <th>rating</th>\n",
       "      <th>duration</th>\n",
       "      <th>listed_in</th>\n",
       "      <th>Genre</th>\n",
       "      <th>Premiere</th>\n",
       "      <th>IMDB Score</th>\n",
       "      <th>Language</th>\n",
       "    </tr>\n",
       "  </thead>\n",
       "  <tbody>\n",
       "    <tr>\n",
       "      <th>0</th>\n",
       "      <td>Movie</td>\n",
       "      <td>Dick Johnson Is Dead</td>\n",
       "      <td>Kirsten Johnson</td>\n",
       "      <td>NaN</td>\n",
       "      <td>United States</td>\n",
       "      <td>September 25, 2021</td>\n",
       "      <td>PG-13</td>\n",
       "      <td>90 min</td>\n",
       "      <td>Documentaries</td>\n",
       "      <td>Documentary</td>\n",
       "      <td>October 2, 2020</td>\n",
       "      <td>7.5</td>\n",
       "      <td>English</td>\n",
       "    </tr>\n",
       "  </tbody>\n",
       "</table>\n",
       "</div>"
      ],
      "text/plain": [
       "    type                 title         director cast        country  \\\n",
       "0  Movie  Dick Johnson Is Dead  Kirsten Johnson  NaN  United States   \n",
       "\n",
       "           date_added rating duration      listed_in        Genre  \\\n",
       "0  September 25, 2021  PG-13   90 min  Documentaries  Documentary   \n",
       "\n",
       "          Premiere  IMDB Score Language  \n",
       "0  October 2, 2020         7.5  English  "
      ]
     },
     "execution_count": 8,
     "metadata": {},
     "output_type": "execute_result"
    }
   ],
   "source": [
    "##me cargo las columnas que no me gustan\n",
    "df.drop(['release_year', 'Title', 'Runtime', 'show_id', 'description'], axis = 1, inplace=True)\n",
    "df.head(1)"
   ]
  },
  {
   "cell_type": "code",
   "execution_count": 9,
   "metadata": {},
   "outputs": [
    {
     "data": {
      "text/plain": [
       "{'type': 'type',\n",
       " 'title': 'title',\n",
       " 'director': 'director',\n",
       " 'cast': 'cast',\n",
       " 'country': 'country',\n",
       " 'date_added': 'date_added',\n",
       " 'rating': 'rating',\n",
       " 'duration': 'duration',\n",
       " 'listed_in': 'listed_in',\n",
       " 'Genre': 'genre',\n",
       " 'Premiere': 'premiere',\n",
       " 'IMDB Score': 'imdb_score',\n",
       " 'Language': 'language'}"
      ]
     },
     "execution_count": 9,
     "metadata": {},
     "output_type": "execute_result"
    }
   ],
   "source": [
    "## voy a renombrar  mis columnas\n",
    "nuevas_columnas = {col: col.strip().replace(' ', '_').lower() for col in df.columns}\n",
    "nuevas_columnas"
   ]
  },
  {
   "cell_type": "code",
   "execution_count": 10,
   "metadata": {},
   "outputs": [
    {
     "data": {
      "text/html": [
       "<div>\n",
       "<style scoped>\n",
       "    .dataframe tbody tr th:only-of-type {\n",
       "        vertical-align: middle;\n",
       "    }\n",
       "\n",
       "    .dataframe tbody tr th {\n",
       "        vertical-align: top;\n",
       "    }\n",
       "\n",
       "    .dataframe thead th {\n",
       "        text-align: right;\n",
       "    }\n",
       "</style>\n",
       "<table border=\"1\" class=\"dataframe\">\n",
       "  <thead>\n",
       "    <tr style=\"text-align: right;\">\n",
       "      <th></th>\n",
       "      <th>type</th>\n",
       "      <th>title</th>\n",
       "      <th>director</th>\n",
       "      <th>cast</th>\n",
       "      <th>country</th>\n",
       "      <th>date_added</th>\n",
       "      <th>rating</th>\n",
       "      <th>duration</th>\n",
       "      <th>listed_in</th>\n",
       "      <th>genre</th>\n",
       "      <th>premiere</th>\n",
       "      <th>imdb_score</th>\n",
       "      <th>language</th>\n",
       "    </tr>\n",
       "  </thead>\n",
       "  <tbody>\n",
       "    <tr>\n",
       "      <th>0</th>\n",
       "      <td>Movie</td>\n",
       "      <td>Dick Johnson Is Dead</td>\n",
       "      <td>Kirsten Johnson</td>\n",
       "      <td>NaN</td>\n",
       "      <td>United States</td>\n",
       "      <td>September 25, 2021</td>\n",
       "      <td>PG-13</td>\n",
       "      <td>90 min</td>\n",
       "      <td>Documentaries</td>\n",
       "      <td>Documentary</td>\n",
       "      <td>October 2, 2020</td>\n",
       "      <td>7.5</td>\n",
       "      <td>English</td>\n",
       "    </tr>\n",
       "  </tbody>\n",
       "</table>\n",
       "</div>"
      ],
      "text/plain": [
       "    type                 title         director cast        country  \\\n",
       "0  Movie  Dick Johnson Is Dead  Kirsten Johnson  NaN  United States   \n",
       "\n",
       "           date_added rating duration      listed_in        genre  \\\n",
       "0  September 25, 2021  PG-13   90 min  Documentaries  Documentary   \n",
       "\n",
       "          premiere  imdb_score language  \n",
       "0  October 2, 2020         7.5  English  "
      ]
     },
     "execution_count": 10,
     "metadata": {},
     "output_type": "execute_result"
    }
   ],
   "source": [
    "df.rename(columns=nuevas_columnas, inplace=True)\n",
    "df.head(1)"
   ]
  },
  {
   "attachments": {},
   "cell_type": "markdown",
   "metadata": {},
   "source": [
    "## análisis exploratorio"
   ]
  },
  {
   "cell_type": "code",
   "execution_count": 11,
   "metadata": {},
   "outputs": [
    {
     "data": {
      "text/plain": [
       "(513, 13)"
      ]
     },
     "execution_count": 11,
     "metadata": {},
     "output_type": "execute_result"
    }
   ],
   "source": [
    "df.shape"
   ]
  },
  {
   "cell_type": "code",
   "execution_count": 12,
   "metadata": {},
   "outputs": [
    {
     "data": {
      "text/plain": [
       "type           object\n",
       "title          object\n",
       "director       object\n",
       "cast           object\n",
       "country        object\n",
       "date_added     object\n",
       "rating         object\n",
       "duration       object\n",
       "listed_in      object\n",
       "genre          object\n",
       "premiere       object\n",
       "imdb_score    float64\n",
       "language       object\n",
       "dtype: object"
      ]
     },
     "execution_count": 12,
     "metadata": {},
     "output_type": "execute_result"
    }
   ],
   "source": [
    "df.dtypes"
   ]
  },
  {
   "cell_type": "code",
   "execution_count": 13,
   "metadata": {},
   "outputs": [
    {
     "name": "stdout",
     "output_type": "stream",
     "text": [
      "<class 'pandas.core.frame.DataFrame'>\n",
      "Int64Index: 513 entries, 0 to 512\n",
      "Data columns (total 13 columns):\n",
      " #   Column      Non-Null Count  Dtype  \n",
      "---  ------      --------------  -----  \n",
      " 0   type        513 non-null    object \n",
      " 1   title       513 non-null    object \n",
      " 2   director    491 non-null    object \n",
      " 3   cast        422 non-null    object \n",
      " 4   country     499 non-null    object \n",
      " 5   date_added  513 non-null    object \n",
      " 6   rating      513 non-null    object \n",
      " 7   duration    276 non-null    object \n",
      " 8   listed_in   513 non-null    object \n",
      " 9   genre       513 non-null    object \n",
      " 10  premiere    513 non-null    object \n",
      " 11  imdb_score  513 non-null    float64\n",
      " 12  language    513 non-null    object \n",
      "dtypes: float64(1), object(12)\n",
      "memory usage: 56.1+ KB\n"
     ]
    }
   ],
   "source": [
    "df.info()"
   ]
  },
  {
   "cell_type": "code",
   "execution_count": 14,
   "metadata": {},
   "outputs": [
    {
     "data": {
      "text/plain": [
       "476"
      ]
     },
     "execution_count": 14,
     "metadata": {},
     "output_type": "execute_result"
    }
   ],
   "source": [
    "df.duplicated(subset = 'language').sum() ##es un resultado lógio en realidad"
   ]
  },
  {
   "cell_type": "code",
   "execution_count": 15,
   "metadata": {},
   "outputs": [
    {
     "data": {
      "text/plain": [
       "type            0\n",
       "title           0\n",
       "director       22\n",
       "cast           91\n",
       "country        14\n",
       "date_added      0\n",
       "rating          0\n",
       "duration      237\n",
       "listed_in       0\n",
       "genre           0\n",
       "premiere        0\n",
       "imdb_score      0\n",
       "language        0\n",
       "dtype: int64"
      ]
     },
     "execution_count": 15,
     "metadata": {},
     "output_type": "execute_result"
    }
   ],
   "source": [
    "df.isnull().sum() ## tengo muchas categóricas como nulos, las llenaré con desconocidos"
   ]
  },
  {
   "cell_type": "code",
   "execution_count": 16,
   "metadata": {},
   "outputs": [
    {
     "data": {
      "text/html": [
       "<div>\n",
       "<style scoped>\n",
       "    .dataframe tbody tr th:only-of-type {\n",
       "        vertical-align: middle;\n",
       "    }\n",
       "\n",
       "    .dataframe tbody tr th {\n",
       "        vertical-align: top;\n",
       "    }\n",
       "\n",
       "    .dataframe thead th {\n",
       "        text-align: right;\n",
       "    }\n",
       "</style>\n",
       "<table border=\"1\" class=\"dataframe\">\n",
       "  <thead>\n",
       "    <tr style=\"text-align: right;\">\n",
       "      <th></th>\n",
       "      <th>count</th>\n",
       "      <th>mean</th>\n",
       "      <th>std</th>\n",
       "      <th>min</th>\n",
       "      <th>25%</th>\n",
       "      <th>50%</th>\n",
       "      <th>75%</th>\n",
       "      <th>max</th>\n",
       "    </tr>\n",
       "  </thead>\n",
       "  <tbody>\n",
       "    <tr>\n",
       "      <th>imdb_score</th>\n",
       "      <td>513.0</td>\n",
       "      <td>6.210916</td>\n",
       "      <td>0.96885</td>\n",
       "      <td>2.5</td>\n",
       "      <td>5.6</td>\n",
       "      <td>6.3</td>\n",
       "      <td>6.9</td>\n",
       "      <td>9.0</td>\n",
       "    </tr>\n",
       "  </tbody>\n",
       "</table>\n",
       "</div>"
      ],
      "text/plain": [
       "            count      mean      std  min  25%  50%  75%  max\n",
       "imdb_score  513.0  6.210916  0.96885  2.5  5.6  6.3  6.9  9.0"
      ]
     },
     "execution_count": 16,
     "metadata": {},
     "output_type": "execute_result"
    }
   ],
   "source": [
    "df.describe().T"
   ]
  },
  {
   "cell_type": "code",
   "execution_count": 17,
   "metadata": {},
   "outputs": [
    {
     "data": {
      "text/html": [
       "<div>\n",
       "<style scoped>\n",
       "    .dataframe tbody tr th:only-of-type {\n",
       "        vertical-align: middle;\n",
       "    }\n",
       "\n",
       "    .dataframe tbody tr th {\n",
       "        vertical-align: top;\n",
       "    }\n",
       "\n",
       "    .dataframe thead th {\n",
       "        text-align: right;\n",
       "    }\n",
       "</style>\n",
       "<table border=\"1\" class=\"dataframe\">\n",
       "  <thead>\n",
       "    <tr style=\"text-align: right;\">\n",
       "      <th></th>\n",
       "      <th>count</th>\n",
       "      <th>unique</th>\n",
       "      <th>top</th>\n",
       "      <th>freq</th>\n",
       "    </tr>\n",
       "  </thead>\n",
       "  <tbody>\n",
       "    <tr>\n",
       "      <th>type</th>\n",
       "      <td>513</td>\n",
       "      <td>1</td>\n",
       "      <td>Movie</td>\n",
       "      <td>513</td>\n",
       "    </tr>\n",
       "    <tr>\n",
       "      <th>title</th>\n",
       "      <td>513</td>\n",
       "      <td>513</td>\n",
       "      <td>Dick Johnson Is Dead</td>\n",
       "      <td>1</td>\n",
       "    </tr>\n",
       "    <tr>\n",
       "      <th>director</th>\n",
       "      <td>491</td>\n",
       "      <td>462</td>\n",
       "      <td>McG</td>\n",
       "      <td>3</td>\n",
       "    </tr>\n",
       "    <tr>\n",
       "      <th>cast</th>\n",
       "      <td>422</td>\n",
       "      <td>421</td>\n",
       "      <td>Shawn Mendes</td>\n",
       "      <td>2</td>\n",
       "    </tr>\n",
       "    <tr>\n",
       "      <th>country</th>\n",
       "      <td>499</td>\n",
       "      <td>81</td>\n",
       "      <td>United States</td>\n",
       "      <td>274</td>\n",
       "    </tr>\n",
       "    <tr>\n",
       "      <th>date_added</th>\n",
       "      <td>513</td>\n",
       "      <td>354</td>\n",
       "      <td>October 18, 2019</td>\n",
       "      <td>5</td>\n",
       "    </tr>\n",
       "    <tr>\n",
       "      <th>rating</th>\n",
       "      <td>513</td>\n",
       "      <td>10</td>\n",
       "      <td>TV-MA</td>\n",
       "      <td>254</td>\n",
       "    </tr>\n",
       "    <tr>\n",
       "      <th>duration</th>\n",
       "      <td>276</td>\n",
       "      <td>86</td>\n",
       "      <td>98 min</td>\n",
       "      <td>20</td>\n",
       "    </tr>\n",
       "    <tr>\n",
       "      <th>listed_in</th>\n",
       "      <td>513</td>\n",
       "      <td>103</td>\n",
       "      <td>Documentaries</td>\n",
       "      <td>69</td>\n",
       "    </tr>\n",
       "    <tr>\n",
       "      <th>genre</th>\n",
       "      <td>513</td>\n",
       "      <td>106</td>\n",
       "      <td>Documentary</td>\n",
       "      <td>132</td>\n",
       "    </tr>\n",
       "    <tr>\n",
       "      <th>premiere</th>\n",
       "      <td>513</td>\n",
       "      <td>350</td>\n",
       "      <td>October 2, 2020</td>\n",
       "      <td>5</td>\n",
       "    </tr>\n",
       "    <tr>\n",
       "      <th>language</th>\n",
       "      <td>513</td>\n",
       "      <td>37</td>\n",
       "      <td>English</td>\n",
       "      <td>352</td>\n",
       "    </tr>\n",
       "  </tbody>\n",
       "</table>\n",
       "</div>"
      ],
      "text/plain": [
       "           count unique                   top freq\n",
       "type         513      1                 Movie  513\n",
       "title        513    513  Dick Johnson Is Dead    1\n",
       "director     491    462                   McG    3\n",
       "cast         422    421          Shawn Mendes    2\n",
       "country      499     81         United States  274\n",
       "date_added   513    354      October 18, 2019    5\n",
       "rating       513     10                 TV-MA  254\n",
       "duration     276     86                98 min   20\n",
       "listed_in    513    103         Documentaries   69\n",
       "genre        513    106           Documentary  132\n",
       "premiere     513    350       October 2, 2020    5\n",
       "language     513     37               English  352"
      ]
     },
     "execution_count": 17,
     "metadata": {},
     "output_type": "execute_result"
    }
   ],
   "source": [
    "df.describe(include='object').T"
   ]
  },
  {
   "cell_type": "code",
   "execution_count": 18,
   "metadata": {},
   "outputs": [
    {
     "data": {
      "text/html": [
       "<div>\n",
       "<style scoped>\n",
       "    .dataframe tbody tr th:only-of-type {\n",
       "        vertical-align: middle;\n",
       "    }\n",
       "\n",
       "    .dataframe tbody tr th {\n",
       "        vertical-align: top;\n",
       "    }\n",
       "\n",
       "    .dataframe thead th {\n",
       "        text-align: right;\n",
       "    }\n",
       "</style>\n",
       "<table border=\"1\" class=\"dataframe\">\n",
       "  <thead>\n",
       "    <tr style=\"text-align: right;\">\n",
       "      <th></th>\n",
       "      <th>count</th>\n",
       "      <th>unique</th>\n",
       "      <th>top</th>\n",
       "      <th>freq</th>\n",
       "      <th>mean</th>\n",
       "      <th>std</th>\n",
       "      <th>min</th>\n",
       "      <th>25%</th>\n",
       "      <th>50%</th>\n",
       "      <th>75%</th>\n",
       "      <th>max</th>\n",
       "    </tr>\n",
       "  </thead>\n",
       "  <tbody>\n",
       "    <tr>\n",
       "      <th>type</th>\n",
       "      <td>513</td>\n",
       "      <td>1</td>\n",
       "      <td>Movie</td>\n",
       "      <td>513</td>\n",
       "      <td>NaN</td>\n",
       "      <td>NaN</td>\n",
       "      <td>NaN</td>\n",
       "      <td>NaN</td>\n",
       "      <td>NaN</td>\n",
       "      <td>NaN</td>\n",
       "      <td>NaN</td>\n",
       "    </tr>\n",
       "    <tr>\n",
       "      <th>title</th>\n",
       "      <td>513</td>\n",
       "      <td>513</td>\n",
       "      <td>Dick Johnson Is Dead</td>\n",
       "      <td>1</td>\n",
       "      <td>NaN</td>\n",
       "      <td>NaN</td>\n",
       "      <td>NaN</td>\n",
       "      <td>NaN</td>\n",
       "      <td>NaN</td>\n",
       "      <td>NaN</td>\n",
       "      <td>NaN</td>\n",
       "    </tr>\n",
       "    <tr>\n",
       "      <th>director</th>\n",
       "      <td>491</td>\n",
       "      <td>462</td>\n",
       "      <td>McG</td>\n",
       "      <td>3</td>\n",
       "      <td>NaN</td>\n",
       "      <td>NaN</td>\n",
       "      <td>NaN</td>\n",
       "      <td>NaN</td>\n",
       "      <td>NaN</td>\n",
       "      <td>NaN</td>\n",
       "      <td>NaN</td>\n",
       "    </tr>\n",
       "    <tr>\n",
       "      <th>cast</th>\n",
       "      <td>422</td>\n",
       "      <td>421</td>\n",
       "      <td>Shawn Mendes</td>\n",
       "      <td>2</td>\n",
       "      <td>NaN</td>\n",
       "      <td>NaN</td>\n",
       "      <td>NaN</td>\n",
       "      <td>NaN</td>\n",
       "      <td>NaN</td>\n",
       "      <td>NaN</td>\n",
       "      <td>NaN</td>\n",
       "    </tr>\n",
       "    <tr>\n",
       "      <th>country</th>\n",
       "      <td>499</td>\n",
       "      <td>81</td>\n",
       "      <td>United States</td>\n",
       "      <td>274</td>\n",
       "      <td>NaN</td>\n",
       "      <td>NaN</td>\n",
       "      <td>NaN</td>\n",
       "      <td>NaN</td>\n",
       "      <td>NaN</td>\n",
       "      <td>NaN</td>\n",
       "      <td>NaN</td>\n",
       "    </tr>\n",
       "    <tr>\n",
       "      <th>date_added</th>\n",
       "      <td>513</td>\n",
       "      <td>354</td>\n",
       "      <td>October 18, 2019</td>\n",
       "      <td>5</td>\n",
       "      <td>NaN</td>\n",
       "      <td>NaN</td>\n",
       "      <td>NaN</td>\n",
       "      <td>NaN</td>\n",
       "      <td>NaN</td>\n",
       "      <td>NaN</td>\n",
       "      <td>NaN</td>\n",
       "    </tr>\n",
       "    <tr>\n",
       "      <th>rating</th>\n",
       "      <td>513</td>\n",
       "      <td>10</td>\n",
       "      <td>TV-MA</td>\n",
       "      <td>254</td>\n",
       "      <td>NaN</td>\n",
       "      <td>NaN</td>\n",
       "      <td>NaN</td>\n",
       "      <td>NaN</td>\n",
       "      <td>NaN</td>\n",
       "      <td>NaN</td>\n",
       "      <td>NaN</td>\n",
       "    </tr>\n",
       "    <tr>\n",
       "      <th>duration</th>\n",
       "      <td>276</td>\n",
       "      <td>86</td>\n",
       "      <td>98 min</td>\n",
       "      <td>20</td>\n",
       "      <td>NaN</td>\n",
       "      <td>NaN</td>\n",
       "      <td>NaN</td>\n",
       "      <td>NaN</td>\n",
       "      <td>NaN</td>\n",
       "      <td>NaN</td>\n",
       "      <td>NaN</td>\n",
       "    </tr>\n",
       "    <tr>\n",
       "      <th>listed_in</th>\n",
       "      <td>513</td>\n",
       "      <td>103</td>\n",
       "      <td>Documentaries</td>\n",
       "      <td>69</td>\n",
       "      <td>NaN</td>\n",
       "      <td>NaN</td>\n",
       "      <td>NaN</td>\n",
       "      <td>NaN</td>\n",
       "      <td>NaN</td>\n",
       "      <td>NaN</td>\n",
       "      <td>NaN</td>\n",
       "    </tr>\n",
       "    <tr>\n",
       "      <th>genre</th>\n",
       "      <td>513</td>\n",
       "      <td>106</td>\n",
       "      <td>Documentary</td>\n",
       "      <td>132</td>\n",
       "      <td>NaN</td>\n",
       "      <td>NaN</td>\n",
       "      <td>NaN</td>\n",
       "      <td>NaN</td>\n",
       "      <td>NaN</td>\n",
       "      <td>NaN</td>\n",
       "      <td>NaN</td>\n",
       "    </tr>\n",
       "    <tr>\n",
       "      <th>premiere</th>\n",
       "      <td>513</td>\n",
       "      <td>350</td>\n",
       "      <td>October 2, 2020</td>\n",
       "      <td>5</td>\n",
       "      <td>NaN</td>\n",
       "      <td>NaN</td>\n",
       "      <td>NaN</td>\n",
       "      <td>NaN</td>\n",
       "      <td>NaN</td>\n",
       "      <td>NaN</td>\n",
       "      <td>NaN</td>\n",
       "    </tr>\n",
       "    <tr>\n",
       "      <th>imdb_score</th>\n",
       "      <td>513.0</td>\n",
       "      <td>NaN</td>\n",
       "      <td>NaN</td>\n",
       "      <td>NaN</td>\n",
       "      <td>6.210916</td>\n",
       "      <td>0.96885</td>\n",
       "      <td>2.5</td>\n",
       "      <td>5.6</td>\n",
       "      <td>6.3</td>\n",
       "      <td>6.9</td>\n",
       "      <td>9.0</td>\n",
       "    </tr>\n",
       "    <tr>\n",
       "      <th>language</th>\n",
       "      <td>513</td>\n",
       "      <td>37</td>\n",
       "      <td>English</td>\n",
       "      <td>352</td>\n",
       "      <td>NaN</td>\n",
       "      <td>NaN</td>\n",
       "      <td>NaN</td>\n",
       "      <td>NaN</td>\n",
       "      <td>NaN</td>\n",
       "      <td>NaN</td>\n",
       "      <td>NaN</td>\n",
       "    </tr>\n",
       "  </tbody>\n",
       "</table>\n",
       "</div>"
      ],
      "text/plain": [
       "            count unique                   top freq      mean      std  min  \\\n",
       "type          513      1                 Movie  513       NaN      NaN  NaN   \n",
       "title         513    513  Dick Johnson Is Dead    1       NaN      NaN  NaN   \n",
       "director      491    462                   McG    3       NaN      NaN  NaN   \n",
       "cast          422    421          Shawn Mendes    2       NaN      NaN  NaN   \n",
       "country       499     81         United States  274       NaN      NaN  NaN   \n",
       "date_added    513    354      October 18, 2019    5       NaN      NaN  NaN   \n",
       "rating        513     10                 TV-MA  254       NaN      NaN  NaN   \n",
       "duration      276     86                98 min   20       NaN      NaN  NaN   \n",
       "listed_in     513    103         Documentaries   69       NaN      NaN  NaN   \n",
       "genre         513    106           Documentary  132       NaN      NaN  NaN   \n",
       "premiere      513    350       October 2, 2020    5       NaN      NaN  NaN   \n",
       "imdb_score  513.0    NaN                   NaN  NaN  6.210916  0.96885  2.5   \n",
       "language      513     37               English  352       NaN      NaN  NaN   \n",
       "\n",
       "            25%  50%  75%  max  \n",
       "type        NaN  NaN  NaN  NaN  \n",
       "title       NaN  NaN  NaN  NaN  \n",
       "director    NaN  NaN  NaN  NaN  \n",
       "cast        NaN  NaN  NaN  NaN  \n",
       "country     NaN  NaN  NaN  NaN  \n",
       "date_added  NaN  NaN  NaN  NaN  \n",
       "rating      NaN  NaN  NaN  NaN  \n",
       "duration    NaN  NaN  NaN  NaN  \n",
       "listed_in   NaN  NaN  NaN  NaN  \n",
       "genre       NaN  NaN  NaN  NaN  \n",
       "premiere    NaN  NaN  NaN  NaN  \n",
       "imdb_score  5.6  6.3  6.9  9.0  \n",
       "language    NaN  NaN  NaN  NaN  "
      ]
     },
     "execution_count": 18,
     "metadata": {},
     "output_type": "execute_result"
    }
   ],
   "source": [
    "df.describe(include='all').T"
   ]
  },
  {
   "cell_type": "code",
   "execution_count": 19,
   "metadata": {},
   "outputs": [
    {
     "data": {
      "text/html": [
       "<div>\n",
       "<style scoped>\n",
       "    .dataframe tbody tr th:only-of-type {\n",
       "        vertical-align: middle;\n",
       "    }\n",
       "\n",
       "    .dataframe tbody tr th {\n",
       "        vertical-align: top;\n",
       "    }\n",
       "\n",
       "    .dataframe thead th {\n",
       "        text-align: right;\n",
       "    }\n",
       "</style>\n",
       "<table border=\"1\" class=\"dataframe\">\n",
       "  <thead>\n",
       "    <tr style=\"text-align: right;\">\n",
       "      <th></th>\n",
       "      <th>title</th>\n",
       "      <th>director</th>\n",
       "      <th>cast</th>\n",
       "      <th>country</th>\n",
       "      <th>date_added</th>\n",
       "      <th>rating</th>\n",
       "      <th>duration</th>\n",
       "      <th>listed_in</th>\n",
       "      <th>genre</th>\n",
       "      <th>premiere</th>\n",
       "      <th>imdb_score</th>\n",
       "      <th>language</th>\n",
       "    </tr>\n",
       "  </thead>\n",
       "  <tbody>\n",
       "    <tr>\n",
       "      <th>0</th>\n",
       "      <td>Dick Johnson Is Dead</td>\n",
       "      <td>Kirsten Johnson</td>\n",
       "      <td>NaN</td>\n",
       "      <td>United States</td>\n",
       "      <td>September 25, 2021</td>\n",
       "      <td>PG-13</td>\n",
       "      <td>90 min</td>\n",
       "      <td>Documentaries</td>\n",
       "      <td>Documentary</td>\n",
       "      <td>October 2, 2020</td>\n",
       "      <td>7.5</td>\n",
       "      <td>English</td>\n",
       "    </tr>\n",
       "  </tbody>\n",
       "</table>\n",
       "</div>"
      ],
      "text/plain": [
       "                  title         director cast        country  \\\n",
       "0  Dick Johnson Is Dead  Kirsten Johnson  NaN  United States   \n",
       "\n",
       "           date_added rating duration      listed_in        genre  \\\n",
       "0  September 25, 2021  PG-13   90 min  Documentaries  Documentary   \n",
       "\n",
       "          premiere  imdb_score language  \n",
       "0  October 2, 2020         7.5  English  "
      ]
     },
     "execution_count": 19,
     "metadata": {},
     "output_type": "execute_result"
    }
   ],
   "source": [
    "## me cargo la columna de type, porque tiene solo un registro\n",
    "df.drop(['type'], axis=1, inplace=True)\n",
    "df.head(1)"
   ]
  },
  {
   "cell_type": "code",
   "execution_count": 20,
   "metadata": {},
   "outputs": [
    {
     "data": {
      "text/html": [
       "<div>\n",
       "<style scoped>\n",
       "    .dataframe tbody tr th:only-of-type {\n",
       "        vertical-align: middle;\n",
       "    }\n",
       "\n",
       "    .dataframe tbody tr th {\n",
       "        vertical-align: top;\n",
       "    }\n",
       "\n",
       "    .dataframe thead th {\n",
       "        text-align: right;\n",
       "    }\n",
       "</style>\n",
       "<table border=\"1\" class=\"dataframe\">\n",
       "  <thead>\n",
       "    <tr style=\"text-align: right;\">\n",
       "      <th></th>\n",
       "      <th>title</th>\n",
       "      <th>director</th>\n",
       "      <th>cast</th>\n",
       "      <th>country</th>\n",
       "      <th>date_added</th>\n",
       "      <th>rating</th>\n",
       "      <th>duration</th>\n",
       "      <th>listed_in</th>\n",
       "      <th>genre</th>\n",
       "      <th>premiere</th>\n",
       "      <th>language</th>\n",
       "    </tr>\n",
       "  </thead>\n",
       "  <tbody>\n",
       "    <tr>\n",
       "      <th>0</th>\n",
       "      <td>Dick Johnson Is Dead</td>\n",
       "      <td>Kirsten Johnson</td>\n",
       "      <td>NaN</td>\n",
       "      <td>United States</td>\n",
       "      <td>September 25, 2021</td>\n",
       "      <td>PG-13</td>\n",
       "      <td>90 min</td>\n",
       "      <td>Documentaries</td>\n",
       "      <td>Documentary</td>\n",
       "      <td>October 2, 2020</td>\n",
       "      <td>English</td>\n",
       "    </tr>\n",
       "  </tbody>\n",
       "</table>\n",
       "</div>"
      ],
      "text/plain": [
       "                  title         director cast        country  \\\n",
       "0  Dick Johnson Is Dead  Kirsten Johnson  NaN  United States   \n",
       "\n",
       "           date_added rating duration      listed_in        genre  \\\n",
       "0  September 25, 2021  PG-13   90 min  Documentaries  Documentary   \n",
       "\n",
       "          premiere language  \n",
       "0  October 2, 2020  English  "
      ]
     },
     "execution_count": 20,
     "metadata": {},
     "output_type": "execute_result"
    }
   ],
   "source": [
    "## vamos a ver que categorías tienen los datos únicos\n",
    "df_cat = df.select_dtypes(include='object')\n",
    "df_cat.head(1)"
   ]
  },
  {
   "cell_type": "code",
   "execution_count": 21,
   "metadata": {},
   "outputs": [
    {
     "data": {
      "text/html": [
       "<div>\n",
       "<style scoped>\n",
       "    .dataframe tbody tr th:only-of-type {\n",
       "        vertical-align: middle;\n",
       "    }\n",
       "\n",
       "    .dataframe tbody tr th {\n",
       "        vertical-align: top;\n",
       "    }\n",
       "\n",
       "    .dataframe thead th {\n",
       "        text-align: right;\n",
       "    }\n",
       "</style>\n",
       "<table border=\"1\" class=\"dataframe\">\n",
       "  <thead>\n",
       "    <tr style=\"text-align: right;\">\n",
       "      <th></th>\n",
       "      <th>imdb_score</th>\n",
       "    </tr>\n",
       "  </thead>\n",
       "  <tbody>\n",
       "    <tr>\n",
       "      <th>0</th>\n",
       "      <td>7.5</td>\n",
       "    </tr>\n",
       "  </tbody>\n",
       "</table>\n",
       "</div>"
      ],
      "text/plain": [
       "   imdb_score\n",
       "0         7.5"
      ]
     },
     "execution_count": 21,
     "metadata": {},
     "output_type": "execute_result"
    }
   ],
   "source": [
    "## puedo tb seleccionar las de tipo numérico\n",
    "df_num = df.select_dtypes(include=np.number)\n",
    "df_num.head(1)"
   ]
  },
  {
   "cell_type": "code",
   "execution_count": 22,
   "metadata": {},
   "outputs": [
    {
     "name": "stdout",
     "output_type": "stream",
     "text": [
      "la cantidad de valores únicos de la columna es DIRECTOR es 463\n"
     ]
    },
    {
     "data": {
      "text/html": [
       "<div>\n",
       "<style scoped>\n",
       "    .dataframe tbody tr th:only-of-type {\n",
       "        vertical-align: middle;\n",
       "    }\n",
       "\n",
       "    .dataframe tbody tr th {\n",
       "        vertical-align: top;\n",
       "    }\n",
       "\n",
       "    .dataframe thead th {\n",
       "        text-align: right;\n",
       "    }\n",
       "</style>\n",
       "<table border=\"1\" class=\"dataframe\">\n",
       "  <thead>\n",
       "    <tr style=\"text-align: right;\">\n",
       "      <th></th>\n",
       "      <th>director</th>\n",
       "    </tr>\n",
       "  </thead>\n",
       "  <tbody>\n",
       "    <tr>\n",
       "      <th>McG</th>\n",
       "      <td>3</td>\n",
       "    </tr>\n",
       "    <tr>\n",
       "      <th>Amy Poehler</th>\n",
       "      <td>2</td>\n",
       "    </tr>\n",
       "    <tr>\n",
       "      <th>Christopher Guest</th>\n",
       "      <td>2</td>\n",
       "    </tr>\n",
       "    <tr>\n",
       "      <th>Noah Baumbach</th>\n",
       "      <td>2</td>\n",
       "    </tr>\n",
       "    <tr>\n",
       "      <th>Michael Tiddes</th>\n",
       "      <td>2</td>\n",
       "    </tr>\n",
       "    <tr>\n",
       "      <th>...</th>\n",
       "      <td>...</td>\n",
       "    </tr>\n",
       "    <tr>\n",
       "      <th>Gina Prince-Bythewood</th>\n",
       "      <td>1</td>\n",
       "    </tr>\n",
       "    <tr>\n",
       "      <th>Sue Ding</th>\n",
       "      <td>1</td>\n",
       "    </tr>\n",
       "    <tr>\n",
       "      <th>Stéphane de Freitas</th>\n",
       "      <td>1</td>\n",
       "    </tr>\n",
       "    <tr>\n",
       "      <th>Stefano Mordini</th>\n",
       "      <td>1</td>\n",
       "    </tr>\n",
       "    <tr>\n",
       "      <th>David Sampliner</th>\n",
       "      <td>1</td>\n",
       "    </tr>\n",
       "  </tbody>\n",
       "</table>\n",
       "<p>462 rows × 1 columns</p>\n",
       "</div>"
      ],
      "text/plain": [
       "                       director\n",
       "McG                           3\n",
       "Amy Poehler                   2\n",
       "Christopher Guest             2\n",
       "Noah Baumbach                 2\n",
       "Michael Tiddes                2\n",
       "...                         ...\n",
       "Gina Prince-Bythewood         1\n",
       "Sue Ding                      1\n",
       "Stéphane de Freitas           1\n",
       "Stefano Mordini               1\n",
       "David Sampliner               1\n",
       "\n",
       "[462 rows x 1 columns]"
      ]
     },
     "metadata": {},
     "output_type": "display_data"
    },
    {
     "name": "stdout",
     "output_type": "stream",
     "text": [
      "----\n"
     ]
    }
   ],
   "source": [
    "for col in df_cat.columns[1:]:\n",
    "    print(f\"la cantidad de valores únicos de la columna es {col.upper()} es {len(df[col].unique())}\")\n",
    "    display(pd.DataFrame(df_cat[col].value_counts()))\n",
    "    print(\"----\")\n",
    "    break"
   ]
  },
  {
   "attachments": {},
   "cell_type": "markdown",
   "metadata": {},
   "source": [
    "mirando el dataframe, la columna de cast habrá que separarla para ver los actores únicos -- lo mismo pasa con la comlumna de países, existen las coproducciones"
   ]
  },
  {
   "cell_type": "code",
   "execution_count": 23,
   "metadata": {},
   "outputs": [
    {
     "data": {
      "text/html": [
       "<div>\n",
       "<style scoped>\n",
       "    .dataframe tbody tr th:only-of-type {\n",
       "        vertical-align: middle;\n",
       "    }\n",
       "\n",
       "    .dataframe tbody tr th {\n",
       "        vertical-align: top;\n",
       "    }\n",
       "\n",
       "    .dataframe thead th {\n",
       "        text-align: right;\n",
       "    }\n",
       "</style>\n",
       "<table border=\"1\" class=\"dataframe\">\n",
       "  <thead>\n",
       "    <tr style=\"text-align: right;\">\n",
       "      <th></th>\n",
       "      <th>title</th>\n",
       "      <th>director</th>\n",
       "      <th>cast</th>\n",
       "      <th>country</th>\n",
       "      <th>date_added</th>\n",
       "      <th>rating</th>\n",
       "      <th>duration</th>\n",
       "      <th>genre</th>\n",
       "      <th>premiere</th>\n",
       "      <th>imdb_score</th>\n",
       "      <th>language</th>\n",
       "    </tr>\n",
       "  </thead>\n",
       "  <tbody>\n",
       "    <tr>\n",
       "      <th>0</th>\n",
       "      <td>Dick Johnson Is Dead</td>\n",
       "      <td>Kirsten Johnson</td>\n",
       "      <td>NaN</td>\n",
       "      <td>United States</td>\n",
       "      <td>September 25, 2021</td>\n",
       "      <td>PG-13</td>\n",
       "      <td>90 min</td>\n",
       "      <td>Documentary</td>\n",
       "      <td>October 2, 2020</td>\n",
       "      <td>7.5</td>\n",
       "      <td>English</td>\n",
       "    </tr>\n",
       "  </tbody>\n",
       "</table>\n",
       "</div>"
      ],
      "text/plain": [
       "                  title         director cast        country  \\\n",
       "0  Dick Johnson Is Dead  Kirsten Johnson  NaN  United States   \n",
       "\n",
       "           date_added rating duration        genre         premiere  \\\n",
       "0  September 25, 2021  PG-13   90 min  Documentary  October 2, 2020   \n",
       "\n",
       "   imdb_score language  \n",
       "0         7.5  English  "
      ]
     },
     "execution_count": 23,
     "metadata": {},
     "output_type": "execute_result"
    }
   ],
   "source": [
    "df.drop(['listed_in'], axis = 1, inplace=True)\n",
    "df.head(1)"
   ]
  },
  {
   "cell_type": "code",
   "execution_count": 24,
   "metadata": {},
   "outputs": [
    {
     "data": {
      "text/plain": [
       "director     22\n",
       "cast         91\n",
       "country      14\n",
       "duration    237\n",
       "dtype: int64"
      ]
     },
     "execution_count": 24,
     "metadata": {},
     "output_type": "execute_result"
    }
   ],
   "source": [
    "df.isnull().sum()[df.isnull().sum() > 0]"
   ]
  },
  {
   "cell_type": "code",
   "execution_count": 25,
   "metadata": {},
   "outputs": [],
   "source": [
    "## ojo, si quiero rellenar varias columnas tengo que asignarlas, no hacer el inplace\n",
    "df[['director', 'country', 'cast']] = df[['director', 'country', 'cast']].fillna('Desconocido')"
   ]
  },
  {
   "cell_type": "code",
   "execution_count": 26,
   "metadata": {},
   "outputs": [
    {
     "data": {
      "text/plain": [
       "duration    237\n",
       "dtype: int64"
      ]
     },
     "execution_count": 26,
     "metadata": {},
     "output_type": "execute_result"
    }
   ],
   "source": [
    "df.isnull().sum()[df.isnull().sum() > 0]"
   ]
  },
  {
   "cell_type": "code",
   "execution_count": 27,
   "metadata": {},
   "outputs": [
    {
     "data": {
      "text/html": [
       "<div>\n",
       "<style scoped>\n",
       "    .dataframe tbody tr th:only-of-type {\n",
       "        vertical-align: middle;\n",
       "    }\n",
       "\n",
       "    .dataframe tbody tr th {\n",
       "        vertical-align: top;\n",
       "    }\n",
       "\n",
       "    .dataframe thead th {\n",
       "        text-align: right;\n",
       "    }\n",
       "</style>\n",
       "<table border=\"1\" class=\"dataframe\">\n",
       "  <thead>\n",
       "    <tr style=\"text-align: right;\">\n",
       "      <th></th>\n",
       "      <th>title</th>\n",
       "      <th>director</th>\n",
       "      <th>cast</th>\n",
       "      <th>country</th>\n",
       "      <th>date_added</th>\n",
       "      <th>rating</th>\n",
       "      <th>duration</th>\n",
       "      <th>genre</th>\n",
       "      <th>premiere</th>\n",
       "      <th>imdb_score</th>\n",
       "      <th>language</th>\n",
       "    </tr>\n",
       "  </thead>\n",
       "  <tbody>\n",
       "    <tr>\n",
       "      <th>0</th>\n",
       "      <td>Dick Johnson Is Dead</td>\n",
       "      <td>Kirsten Johnson</td>\n",
       "      <td>Desconocido</td>\n",
       "      <td>United States</td>\n",
       "      <td>September 25, 2021</td>\n",
       "      <td>PG-13</td>\n",
       "      <td>90 min</td>\n",
       "      <td>Documentary</td>\n",
       "      <td>October 2, 2020</td>\n",
       "      <td>7.5</td>\n",
       "      <td>English</td>\n",
       "    </tr>\n",
       "    <tr>\n",
       "      <th>1</th>\n",
       "      <td>Extraction</td>\n",
       "      <td>Steven C. Miller</td>\n",
       "      <td>Bruce Willis, Kellan Lutz, Gina Carano, D.B. S...</td>\n",
       "      <td>United States, United Kingdom, Canada</td>\n",
       "      <td>September 1, 2021</td>\n",
       "      <td>R</td>\n",
       "      <td>82 min</td>\n",
       "      <td>Action</td>\n",
       "      <td>April 24, 2020</td>\n",
       "      <td>6.7</td>\n",
       "      <td>English</td>\n",
       "    </tr>\n",
       "    <tr>\n",
       "      <th>2</th>\n",
       "      <td>Prime Time</td>\n",
       "      <td>Jakub Piątek</td>\n",
       "      <td>Bartosz Bielenia, Magdalena Popławska, Andrzej...</td>\n",
       "      <td>Desconocido</td>\n",
       "      <td>June 30, 2021</td>\n",
       "      <td>TV-MA</td>\n",
       "      <td>NaN</td>\n",
       "      <td>Thriller</td>\n",
       "      <td>April 14, 2021</td>\n",
       "      <td>5.7</td>\n",
       "      <td>Polish</td>\n",
       "    </tr>\n",
       "    <tr>\n",
       "      <th>3</th>\n",
       "      <td>Blue Miracle</td>\n",
       "      <td>Julio Quintana</td>\n",
       "      <td>Jimmy Gonzales, Dennis Quaid, Anthony Gonzalez...</td>\n",
       "      <td>United States</td>\n",
       "      <td>May 27, 2021</td>\n",
       "      <td>TV-PG</td>\n",
       "      <td>NaN</td>\n",
       "      <td>Drama</td>\n",
       "      <td>May 27, 2021</td>\n",
       "      <td>6.7</td>\n",
       "      <td>English</td>\n",
       "    </tr>\n",
       "    <tr>\n",
       "      <th>4</th>\n",
       "      <td>Ghost Lab</td>\n",
       "      <td>Paween Purijitpanya</td>\n",
       "      <td>Thanapob Leeratanakachorn, Paris Intarakomalya...</td>\n",
       "      <td>Thailand</td>\n",
       "      <td>May 27, 2021</td>\n",
       "      <td>TV-MA</td>\n",
       "      <td>118 min</td>\n",
       "      <td>Horror</td>\n",
       "      <td>May 26, 2021</td>\n",
       "      <td>5.2</td>\n",
       "      <td>Thai</td>\n",
       "    </tr>\n",
       "  </tbody>\n",
       "</table>\n",
       "</div>"
      ],
      "text/plain": [
       "                  title             director  \\\n",
       "0  Dick Johnson Is Dead      Kirsten Johnson   \n",
       "1            Extraction     Steven C. Miller   \n",
       "2            Prime Time         Jakub Piątek   \n",
       "3          Blue Miracle       Julio Quintana   \n",
       "4             Ghost Lab  Paween Purijitpanya   \n",
       "\n",
       "                                                cast  \\\n",
       "0                                        Desconocido   \n",
       "1  Bruce Willis, Kellan Lutz, Gina Carano, D.B. S...   \n",
       "2  Bartosz Bielenia, Magdalena Popławska, Andrzej...   \n",
       "3  Jimmy Gonzales, Dennis Quaid, Anthony Gonzalez...   \n",
       "4  Thanapob Leeratanakachorn, Paris Intarakomalya...   \n",
       "\n",
       "                                 country          date_added rating duration  \\\n",
       "0                          United States  September 25, 2021  PG-13   90 min   \n",
       "1  United States, United Kingdom, Canada   September 1, 2021      R   82 min   \n",
       "2                            Desconocido       June 30, 2021  TV-MA      NaN   \n",
       "3                          United States        May 27, 2021  TV-PG      NaN   \n",
       "4                               Thailand        May 27, 2021  TV-MA  118 min   \n",
       "\n",
       "         genre         premiere  imdb_score language  \n",
       "0  Documentary  October 2, 2020         7.5  English  \n",
       "1       Action   April 24, 2020         6.7  English  \n",
       "2     Thriller   April 14, 2021         5.7   Polish  \n",
       "3        Drama     May 27, 2021         6.7  English  \n",
       "4       Horror     May 26, 2021         5.2     Thai  "
      ]
     },
     "execution_count": 27,
     "metadata": {},
     "output_type": "execute_result"
    }
   ],
   "source": [
    "df.head()"
   ]
  },
  {
   "cell_type": "code",
   "execution_count": 28,
   "metadata": {},
   "outputs": [
    {
     "data": {
      "text/html": [
       "<div>\n",
       "<style scoped>\n",
       "    .dataframe tbody tr th:only-of-type {\n",
       "        vertical-align: middle;\n",
       "    }\n",
       "\n",
       "    .dataframe tbody tr th {\n",
       "        vertical-align: top;\n",
       "    }\n",
       "\n",
       "    .dataframe thead th {\n",
       "        text-align: right;\n",
       "    }\n",
       "</style>\n",
       "<table border=\"1\" class=\"dataframe\">\n",
       "  <thead>\n",
       "    <tr style=\"text-align: right;\">\n",
       "      <th></th>\n",
       "      <th>title</th>\n",
       "      <th>director</th>\n",
       "      <th>cast</th>\n",
       "      <th>country</th>\n",
       "      <th>date_added</th>\n",
       "      <th>rating</th>\n",
       "      <th>duration</th>\n",
       "      <th>genre</th>\n",
       "      <th>premiere</th>\n",
       "      <th>imdb_score</th>\n",
       "      <th>language</th>\n",
       "    </tr>\n",
       "  </thead>\n",
       "  <tbody>\n",
       "    <tr>\n",
       "      <th>0</th>\n",
       "      <td>Dick Johnson Is Dead</td>\n",
       "      <td>Kirsten Johnson</td>\n",
       "      <td>Desconocido</td>\n",
       "      <td>United States</td>\n",
       "      <td>September 25, 2021</td>\n",
       "      <td>PG-13</td>\n",
       "      <td>90</td>\n",
       "      <td>Documentary</td>\n",
       "      <td>October 2, 2020</td>\n",
       "      <td>7.5</td>\n",
       "      <td>English</td>\n",
       "    </tr>\n",
       "    <tr>\n",
       "      <th>1</th>\n",
       "      <td>Extraction</td>\n",
       "      <td>Steven C. Miller</td>\n",
       "      <td>Bruce Willis, Kellan Lutz, Gina Carano, D.B. S...</td>\n",
       "      <td>United States, United Kingdom, Canada</td>\n",
       "      <td>September 1, 2021</td>\n",
       "      <td>R</td>\n",
       "      <td>82</td>\n",
       "      <td>Action</td>\n",
       "      <td>April 24, 2020</td>\n",
       "      <td>6.7</td>\n",
       "      <td>English</td>\n",
       "    </tr>\n",
       "    <tr>\n",
       "      <th>2</th>\n",
       "      <td>Prime Time</td>\n",
       "      <td>Jakub Piątek</td>\n",
       "      <td>Bartosz Bielenia, Magdalena Popławska, Andrzej...</td>\n",
       "      <td>Desconocido</td>\n",
       "      <td>June 30, 2021</td>\n",
       "      <td>TV-MA</td>\n",
       "      <td>NaN</td>\n",
       "      <td>Thriller</td>\n",
       "      <td>April 14, 2021</td>\n",
       "      <td>5.7</td>\n",
       "      <td>Polish</td>\n",
       "    </tr>\n",
       "    <tr>\n",
       "      <th>3</th>\n",
       "      <td>Blue Miracle</td>\n",
       "      <td>Julio Quintana</td>\n",
       "      <td>Jimmy Gonzales, Dennis Quaid, Anthony Gonzalez...</td>\n",
       "      <td>United States</td>\n",
       "      <td>May 27, 2021</td>\n",
       "      <td>TV-PG</td>\n",
       "      <td>NaN</td>\n",
       "      <td>Drama</td>\n",
       "      <td>May 27, 2021</td>\n",
       "      <td>6.7</td>\n",
       "      <td>English</td>\n",
       "    </tr>\n",
       "    <tr>\n",
       "      <th>4</th>\n",
       "      <td>Ghost Lab</td>\n",
       "      <td>Paween Purijitpanya</td>\n",
       "      <td>Thanapob Leeratanakachorn, Paris Intarakomalya...</td>\n",
       "      <td>Thailand</td>\n",
       "      <td>May 27, 2021</td>\n",
       "      <td>TV-MA</td>\n",
       "      <td>118</td>\n",
       "      <td>Horror</td>\n",
       "      <td>May 26, 2021</td>\n",
       "      <td>5.2</td>\n",
       "      <td>Thai</td>\n",
       "    </tr>\n",
       "  </tbody>\n",
       "</table>\n",
       "</div>"
      ],
      "text/plain": [
       "                  title             director  \\\n",
       "0  Dick Johnson Is Dead      Kirsten Johnson   \n",
       "1            Extraction     Steven C. Miller   \n",
       "2            Prime Time         Jakub Piątek   \n",
       "3          Blue Miracle       Julio Quintana   \n",
       "4             Ghost Lab  Paween Purijitpanya   \n",
       "\n",
       "                                                cast  \\\n",
       "0                                        Desconocido   \n",
       "1  Bruce Willis, Kellan Lutz, Gina Carano, D.B. S...   \n",
       "2  Bartosz Bielenia, Magdalena Popławska, Andrzej...   \n",
       "3  Jimmy Gonzales, Dennis Quaid, Anthony Gonzalez...   \n",
       "4  Thanapob Leeratanakachorn, Paris Intarakomalya...   \n",
       "\n",
       "                                 country          date_added rating duration  \\\n",
       "0                          United States  September 25, 2021  PG-13       90   \n",
       "1  United States, United Kingdom, Canada   September 1, 2021      R       82   \n",
       "2                            Desconocido       June 30, 2021  TV-MA      NaN   \n",
       "3                          United States        May 27, 2021  TV-PG      NaN   \n",
       "4                               Thailand        May 27, 2021  TV-MA      118   \n",
       "\n",
       "         genre         premiere  imdb_score language  \n",
       "0  Documentary  October 2, 2020         7.5  English  \n",
       "1       Action   April 24, 2020         6.7  English  \n",
       "2     Thriller   April 14, 2021         5.7   Polish  \n",
       "3        Drama     May 27, 2021         6.7  English  \n",
       "4       Horror     May 26, 2021         5.2     Thai  "
      ]
     },
     "execution_count": 28,
     "metadata": {},
     "output_type": "execute_result"
    }
   ],
   "source": [
    "## limpio ahora la columna de duration\n",
    "df['duration'] = df['duration'].str.split(' ', expand=True).get(0)\n",
    "df.head()"
   ]
  },
  {
   "cell_type": "code",
   "execution_count": 29,
   "metadata": {},
   "outputs": [
    {
     "data": {
      "text/html": [
       "<div>\n",
       "<style scoped>\n",
       "    .dataframe tbody tr th:only-of-type {\n",
       "        vertical-align: middle;\n",
       "    }\n",
       "\n",
       "    .dataframe tbody tr th {\n",
       "        vertical-align: top;\n",
       "    }\n",
       "\n",
       "    .dataframe thead th {\n",
       "        text-align: right;\n",
       "    }\n",
       "</style>\n",
       "<table border=\"1\" class=\"dataframe\">\n",
       "  <thead>\n",
       "    <tr style=\"text-align: right;\">\n",
       "      <th></th>\n",
       "      <th>title</th>\n",
       "      <th>director</th>\n",
       "      <th>cast</th>\n",
       "      <th>country</th>\n",
       "      <th>date_added</th>\n",
       "      <th>rating</th>\n",
       "      <th>duration</th>\n",
       "      <th>genre</th>\n",
       "      <th>premiere</th>\n",
       "      <th>imdb_score</th>\n",
       "      <th>language</th>\n",
       "      <th>duration2</th>\n",
       "    </tr>\n",
       "  </thead>\n",
       "  <tbody>\n",
       "    <tr>\n",
       "      <th>0</th>\n",
       "      <td>Dick Johnson Is Dead</td>\n",
       "      <td>Kirsten Johnson</td>\n",
       "      <td>Desconocido</td>\n",
       "      <td>United States</td>\n",
       "      <td>September 25, 2021</td>\n",
       "      <td>PG-13</td>\n",
       "      <td>90</td>\n",
       "      <td>Documentary</td>\n",
       "      <td>October 2, 2020</td>\n",
       "      <td>7.5</td>\n",
       "      <td>English</td>\n",
       "      <td>90.0</td>\n",
       "    </tr>\n",
       "  </tbody>\n",
       "</table>\n",
       "</div>"
      ],
      "text/plain": [
       "                  title         director         cast        country  \\\n",
       "0  Dick Johnson Is Dead  Kirsten Johnson  Desconocido  United States   \n",
       "\n",
       "           date_added rating duration        genre         premiere  \\\n",
       "0  September 25, 2021  PG-13       90  Documentary  October 2, 2020   \n",
       "\n",
       "   imdb_score language  duration2  \n",
       "0         7.5  English       90.0  "
      ]
     },
     "execution_count": 29,
     "metadata": {},
     "output_type": "execute_result"
    }
   ],
   "source": [
    "df['duration2'] = pd.to_numeric(df['duration'])\n",
    "df.head(1)"
   ]
  },
  {
   "cell_type": "code",
   "execution_count": 30,
   "metadata": {},
   "outputs": [],
   "source": [
    "df['duration3'] = df['duration'].astype(int, errors='ignore') ## va como el orto, mejor el pd.to_numeric"
   ]
  },
  {
   "cell_type": "code",
   "execution_count": 31,
   "metadata": {},
   "outputs": [
    {
     "data": {
      "text/plain": [
       "title          object\n",
       "director       object\n",
       "cast           object\n",
       "country        object\n",
       "date_added     object\n",
       "rating         object\n",
       "duration       object\n",
       "genre          object\n",
       "premiere       object\n",
       "imdb_score    float64\n",
       "language       object\n",
       "duration2     float64\n",
       "duration3      object\n",
       "dtype: object"
      ]
     },
     "execution_count": 31,
     "metadata": {},
     "output_type": "execute_result"
    }
   ],
   "source": [
    "df.dtypes"
   ]
  },
  {
   "cell_type": "code",
   "execution_count": 32,
   "metadata": {},
   "outputs": [],
   "source": [
    "df['duration'] = pd.to_numeric(df['duration'])\n",
    "df.drop(['duration2', 'duration3'], axis = 1, inplace=True)"
   ]
  },
  {
   "cell_type": "code",
   "execution_count": 33,
   "metadata": {},
   "outputs": [
    {
     "data": {
      "text/html": [
       "<div>\n",
       "<style scoped>\n",
       "    .dataframe tbody tr th:only-of-type {\n",
       "        vertical-align: middle;\n",
       "    }\n",
       "\n",
       "    .dataframe tbody tr th {\n",
       "        vertical-align: top;\n",
       "    }\n",
       "\n",
       "    .dataframe thead th {\n",
       "        text-align: right;\n",
       "    }\n",
       "</style>\n",
       "<table border=\"1\" class=\"dataframe\">\n",
       "  <thead>\n",
       "    <tr style=\"text-align: right;\">\n",
       "      <th></th>\n",
       "      <th>count</th>\n",
       "      <th>mean</th>\n",
       "      <th>std</th>\n",
       "      <th>min</th>\n",
       "      <th>25%</th>\n",
       "      <th>50%</th>\n",
       "      <th>75%</th>\n",
       "      <th>max</th>\n",
       "    </tr>\n",
       "  </thead>\n",
       "  <tbody>\n",
       "    <tr>\n",
       "      <th>duration</th>\n",
       "      <td>276.0</td>\n",
       "      <td>93.807971</td>\n",
       "      <td>34.883954</td>\n",
       "      <td>5.0</td>\n",
       "      <td>79.75</td>\n",
       "      <td>101.0</td>\n",
       "      <td>119.0</td>\n",
       "      <td>209.0</td>\n",
       "    </tr>\n",
       "    <tr>\n",
       "      <th>imdb_score</th>\n",
       "      <td>513.0</td>\n",
       "      <td>6.210916</td>\n",
       "      <td>0.968850</td>\n",
       "      <td>2.5</td>\n",
       "      <td>5.60</td>\n",
       "      <td>6.3</td>\n",
       "      <td>6.9</td>\n",
       "      <td>9.0</td>\n",
       "    </tr>\n",
       "  </tbody>\n",
       "</table>\n",
       "</div>"
      ],
      "text/plain": [
       "            count       mean        std  min    25%    50%    75%    max\n",
       "duration    276.0  93.807971  34.883954  5.0  79.75  101.0  119.0  209.0\n",
       "imdb_score  513.0   6.210916   0.968850  2.5   5.60    6.3    6.9    9.0"
      ]
     },
     "execution_count": 33,
     "metadata": {},
     "output_type": "execute_result"
    }
   ],
   "source": [
    "df.describe().T"
   ]
  },
  {
   "cell_type": "code",
   "execution_count": 34,
   "metadata": {},
   "outputs": [
    {
     "data": {
      "text/html": [
       "<div>\n",
       "<style scoped>\n",
       "    .dataframe tbody tr th:only-of-type {\n",
       "        vertical-align: middle;\n",
       "    }\n",
       "\n",
       "    .dataframe tbody tr th {\n",
       "        vertical-align: top;\n",
       "    }\n",
       "\n",
       "    .dataframe thead th {\n",
       "        text-align: right;\n",
       "    }\n",
       "</style>\n",
       "<table border=\"1\" class=\"dataframe\">\n",
       "  <thead>\n",
       "    <tr style=\"text-align: right;\">\n",
       "      <th></th>\n",
       "      <th>title</th>\n",
       "      <th>director</th>\n",
       "      <th>cast</th>\n",
       "      <th>country</th>\n",
       "      <th>date_added</th>\n",
       "      <th>rating</th>\n",
       "      <th>duration</th>\n",
       "      <th>genre</th>\n",
       "      <th>premiere</th>\n",
       "      <th>imdb_score</th>\n",
       "      <th>language</th>\n",
       "    </tr>\n",
       "  </thead>\n",
       "  <tbody>\n",
       "    <tr>\n",
       "      <th>206</th>\n",
       "      <td>Sol Levante</td>\n",
       "      <td>Akira Saitoh</td>\n",
       "      <td>Desconocido</td>\n",
       "      <td>Japan</td>\n",
       "      <td>April 2, 2020</td>\n",
       "      <td>TV-14</td>\n",
       "      <td>5.0</td>\n",
       "      <td>Anime / Short</td>\n",
       "      <td>April 2, 2020</td>\n",
       "      <td>4.7</td>\n",
       "      <td>English</td>\n",
       "    </tr>\n",
       "  </tbody>\n",
       "</table>\n",
       "</div>"
      ],
      "text/plain": [
       "           title      director         cast country     date_added rating  \\\n",
       "206  Sol Levante  Akira Saitoh  Desconocido   Japan  April 2, 2020  TV-14   \n",
       "\n",
       "     duration          genre       premiere  imdb_score language  \n",
       "206       5.0  Anime / Short  April 2, 2020         4.7  English  "
      ]
     },
     "execution_count": 34,
     "metadata": {},
     "output_type": "execute_result"
    }
   ],
   "source": [
    "df[df['duration'] == min(df['duration'])]"
   ]
  },
  {
   "cell_type": "code",
   "execution_count": 35,
   "metadata": {},
   "outputs": [
    {
     "data": {
      "text/plain": [
       "Documentary                    47\n",
       "Drama                          33\n",
       "Comedy                         22\n",
       "Romantic comedy                21\n",
       "Thriller                       15\n",
       "                               ..\n",
       "Sports film                     1\n",
       "Adventure-romance               1\n",
       "Coming-of-age comedy-drama      1\n",
       "Animation / Science Fiction     1\n",
       "Comedy / Musical                1\n",
       "Name: genre, Length: 66, dtype: int64"
      ]
     },
     "execution_count": 35,
     "metadata": {},
     "output_type": "execute_result"
    }
   ],
   "source": [
    "df[df['duration'].isnull()]['genre'].value_counts()"
   ]
  },
  {
   "cell_type": "code",
   "execution_count": 36,
   "metadata": {},
   "outputs": [
    {
     "data": {
      "text/html": [
       "<div>\n",
       "<style scoped>\n",
       "    .dataframe tbody tr th:only-of-type {\n",
       "        vertical-align: middle;\n",
       "    }\n",
       "\n",
       "    .dataframe tbody tr th {\n",
       "        vertical-align: top;\n",
       "    }\n",
       "\n",
       "    .dataframe thead th {\n",
       "        text-align: right;\n",
       "    }\n",
       "</style>\n",
       "<table border=\"1\" class=\"dataframe\">\n",
       "  <thead>\n",
       "    <tr style=\"text-align: right;\">\n",
       "      <th></th>\n",
       "      <th>title</th>\n",
       "      <th>director</th>\n",
       "      <th>cast</th>\n",
       "      <th>country</th>\n",
       "      <th>date_added</th>\n",
       "      <th>rating</th>\n",
       "      <th>duration</th>\n",
       "      <th>genre</th>\n",
       "      <th>premiere</th>\n",
       "      <th>imdb_score</th>\n",
       "      <th>language</th>\n",
       "    </tr>\n",
       "  </thead>\n",
       "  <tbody>\n",
       "    <tr>\n",
       "      <th>0</th>\n",
       "      <td>Dick Johnson Is Dead</td>\n",
       "      <td>Kirsten Johnson</td>\n",
       "      <td>Desconocido</td>\n",
       "      <td>United States</td>\n",
       "      <td>September 25, 2021</td>\n",
       "      <td>PG-13</td>\n",
       "      <td>90.0</td>\n",
       "      <td>Documentary</td>\n",
       "      <td>October 2, 2020</td>\n",
       "      <td>7.5</td>\n",
       "      <td>English</td>\n",
       "    </tr>\n",
       "  </tbody>\n",
       "</table>\n",
       "</div>"
      ],
      "text/plain": [
       "                  title         director         cast        country  \\\n",
       "0  Dick Johnson Is Dead  Kirsten Johnson  Desconocido  United States   \n",
       "\n",
       "           date_added rating  duration        genre         premiere  \\\n",
       "0  September 25, 2021  PG-13      90.0  Documentary  October 2, 2020   \n",
       "\n",
       "   imdb_score language  \n",
       "0         7.5  English  "
      ]
     },
     "execution_count": 36,
     "metadata": {},
     "output_type": "execute_result"
    }
   ],
   "source": [
    "df['duration'] = df['duration'].fillna(df['duration'].median())\n",
    "df.head(1)"
   ]
  },
  {
   "cell_type": "code",
   "execution_count": 37,
   "metadata": {},
   "outputs": [
    {
     "data": {
      "text/plain": [
       "title                 object\n",
       "director              object\n",
       "cast                  object\n",
       "country               object\n",
       "date_added    datetime64[ns]\n",
       "rating                object\n",
       "duration             float64\n",
       "genre                 object\n",
       "premiere      datetime64[ns]\n",
       "imdb_score           float64\n",
       "language              object\n",
       "dtype: object"
      ]
     },
     "execution_count": 37,
     "metadata": {},
     "output_type": "execute_result"
    }
   ],
   "source": [
    "## cambio el formato de la fecha\n",
    "df['premiere'] = pd.to_datetime(df['premiere'])\n",
    "df['date_added'] = pd.to_datetime(df['date_added'])\n",
    "df.dtypes"
   ]
  },
  {
   "cell_type": "code",
   "execution_count": 38,
   "metadata": {},
   "outputs": [
    {
     "data": {
      "text/html": [
       "<div>\n",
       "<style scoped>\n",
       "    .dataframe tbody tr th:only-of-type {\n",
       "        vertical-align: middle;\n",
       "    }\n",
       "\n",
       "    .dataframe tbody tr th {\n",
       "        vertical-align: top;\n",
       "    }\n",
       "\n",
       "    .dataframe thead th {\n",
       "        text-align: right;\n",
       "    }\n",
       "</style>\n",
       "<table border=\"1\" class=\"dataframe\">\n",
       "  <thead>\n",
       "    <tr style=\"text-align: right;\">\n",
       "      <th></th>\n",
       "      <th>title</th>\n",
       "      <th>director</th>\n",
       "      <th>cast</th>\n",
       "      <th>country</th>\n",
       "      <th>date_added</th>\n",
       "      <th>rating</th>\n",
       "      <th>duration</th>\n",
       "      <th>genre</th>\n",
       "      <th>premiere</th>\n",
       "      <th>imdb_score</th>\n",
       "      <th>language</th>\n",
       "    </tr>\n",
       "  </thead>\n",
       "  <tbody>\n",
       "    <tr>\n",
       "      <th>0</th>\n",
       "      <td>Dick Johnson Is Dead</td>\n",
       "      <td>Kirsten Johnson</td>\n",
       "      <td>Desconocido</td>\n",
       "      <td>United States</td>\n",
       "      <td>2021-09-25</td>\n",
       "      <td>PG-13</td>\n",
       "      <td>90.0</td>\n",
       "      <td>Documentary</td>\n",
       "      <td>2020-10-02</td>\n",
       "      <td>7.5</td>\n",
       "      <td>English</td>\n",
       "    </tr>\n",
       "  </tbody>\n",
       "</table>\n",
       "</div>"
      ],
      "text/plain": [
       "                  title         director         cast        country  \\\n",
       "0  Dick Johnson Is Dead  Kirsten Johnson  Desconocido  United States   \n",
       "\n",
       "  date_added rating  duration        genre   premiere  imdb_score language  \n",
       "0 2021-09-25  PG-13      90.0  Documentary 2020-10-02         7.5  English  "
      ]
     },
     "execution_count": 38,
     "metadata": {},
     "output_type": "execute_result"
    }
   ],
   "source": [
    "df.head(1)"
   ]
  },
  {
   "cell_type": "code",
   "execution_count": 39,
   "metadata": {},
   "outputs": [
    {
     "data": {
      "text/plain": [
       "['Bruce Willis',\n",
       " ' Kellan Lutz',\n",
       " ' Gina Carano',\n",
       " ' D.B. Sweeney',\n",
       " ' Joshua Mikel',\n",
       " ' Steve Coulter',\n",
       " ' Dan Bilzerian',\n",
       " ' Heather Johansen']"
      ]
     },
     "execution_count": 39,
     "metadata": {},
     "output_type": "execute_result"
    }
   ],
   "source": [
    "## vamos a limpiar la columna del cast -- creandonos un dataframe aparte\n",
    "df['cast'] = df['cast'].str.split(',')\n",
    "df['cast'][1]"
   ]
  },
  {
   "cell_type": "code",
   "execution_count": 40,
   "metadata": {},
   "outputs": [
    {
     "data": {
      "text/plain": [
       "(3444, 11)"
      ]
     },
     "execution_count": 40,
     "metadata": {},
     "output_type": "execute_result"
    }
   ],
   "source": [
    "df_actor = df.explode('cast')\n",
    "df_actor.shape"
   ]
  },
  {
   "cell_type": "code",
   "execution_count": 41,
   "metadata": {},
   "outputs": [
    {
     "data": {
      "text/html": [
       "<div>\n",
       "<style scoped>\n",
       "    .dataframe tbody tr th:only-of-type {\n",
       "        vertical-align: middle;\n",
       "    }\n",
       "\n",
       "    .dataframe tbody tr th {\n",
       "        vertical-align: top;\n",
       "    }\n",
       "\n",
       "    .dataframe thead th {\n",
       "        text-align: right;\n",
       "    }\n",
       "</style>\n",
       "<table border=\"1\" class=\"dataframe\">\n",
       "  <thead>\n",
       "    <tr style=\"text-align: right;\">\n",
       "      <th></th>\n",
       "      <th>title</th>\n",
       "      <th>director</th>\n",
       "      <th>cast</th>\n",
       "      <th>country</th>\n",
       "      <th>date_added</th>\n",
       "      <th>rating</th>\n",
       "      <th>duration</th>\n",
       "      <th>genre</th>\n",
       "      <th>premiere</th>\n",
       "      <th>imdb_score</th>\n",
       "      <th>language</th>\n",
       "    </tr>\n",
       "  </thead>\n",
       "  <tbody>\n",
       "    <tr>\n",
       "      <th>0</th>\n",
       "      <td>Dick Johnson Is Dead</td>\n",
       "      <td>Kirsten Johnson</td>\n",
       "      <td>Desconocido</td>\n",
       "      <td>United States</td>\n",
       "      <td>2021-09-25</td>\n",
       "      <td>PG-13</td>\n",
       "      <td>90.0</td>\n",
       "      <td>Documentary</td>\n",
       "      <td>2020-10-02</td>\n",
       "      <td>7.5</td>\n",
       "      <td>English</td>\n",
       "    </tr>\n",
       "    <tr>\n",
       "      <th>1</th>\n",
       "      <td>Extraction</td>\n",
       "      <td>Steven C. Miller</td>\n",
       "      <td>Bruce Willis</td>\n",
       "      <td>United States, United Kingdom, Canada</td>\n",
       "      <td>2021-09-01</td>\n",
       "      <td>R</td>\n",
       "      <td>82.0</td>\n",
       "      <td>Action</td>\n",
       "      <td>2020-04-24</td>\n",
       "      <td>6.7</td>\n",
       "      <td>English</td>\n",
       "    </tr>\n",
       "    <tr>\n",
       "      <th>1</th>\n",
       "      <td>Extraction</td>\n",
       "      <td>Steven C. Miller</td>\n",
       "      <td>Kellan Lutz</td>\n",
       "      <td>United States, United Kingdom, Canada</td>\n",
       "      <td>2021-09-01</td>\n",
       "      <td>R</td>\n",
       "      <td>82.0</td>\n",
       "      <td>Action</td>\n",
       "      <td>2020-04-24</td>\n",
       "      <td>6.7</td>\n",
       "      <td>English</td>\n",
       "    </tr>\n",
       "    <tr>\n",
       "      <th>1</th>\n",
       "      <td>Extraction</td>\n",
       "      <td>Steven C. Miller</td>\n",
       "      <td>Gina Carano</td>\n",
       "      <td>United States, United Kingdom, Canada</td>\n",
       "      <td>2021-09-01</td>\n",
       "      <td>R</td>\n",
       "      <td>82.0</td>\n",
       "      <td>Action</td>\n",
       "      <td>2020-04-24</td>\n",
       "      <td>6.7</td>\n",
       "      <td>English</td>\n",
       "    </tr>\n",
       "    <tr>\n",
       "      <th>1</th>\n",
       "      <td>Extraction</td>\n",
       "      <td>Steven C. Miller</td>\n",
       "      <td>D.B. Sweeney</td>\n",
       "      <td>United States, United Kingdom, Canada</td>\n",
       "      <td>2021-09-01</td>\n",
       "      <td>R</td>\n",
       "      <td>82.0</td>\n",
       "      <td>Action</td>\n",
       "      <td>2020-04-24</td>\n",
       "      <td>6.7</td>\n",
       "      <td>English</td>\n",
       "    </tr>\n",
       "  </tbody>\n",
       "</table>\n",
       "</div>"
      ],
      "text/plain": [
       "                  title          director           cast  \\\n",
       "0  Dick Johnson Is Dead   Kirsten Johnson    Desconocido   \n",
       "1            Extraction  Steven C. Miller   Bruce Willis   \n",
       "1            Extraction  Steven C. Miller    Kellan Lutz   \n",
       "1            Extraction  Steven C. Miller    Gina Carano   \n",
       "1            Extraction  Steven C. Miller   D.B. Sweeney   \n",
       "\n",
       "                                 country date_added rating  duration  \\\n",
       "0                          United States 2021-09-25  PG-13      90.0   \n",
       "1  United States, United Kingdom, Canada 2021-09-01      R      82.0   \n",
       "1  United States, United Kingdom, Canada 2021-09-01      R      82.0   \n",
       "1  United States, United Kingdom, Canada 2021-09-01      R      82.0   \n",
       "1  United States, United Kingdom, Canada 2021-09-01      R      82.0   \n",
       "\n",
       "         genre   premiere  imdb_score language  \n",
       "0  Documentary 2020-10-02         7.5  English  \n",
       "1       Action 2020-04-24         6.7  English  \n",
       "1       Action 2020-04-24         6.7  English  \n",
       "1       Action 2020-04-24         6.7  English  \n",
       "1       Action 2020-04-24         6.7  English  "
      ]
     },
     "execution_count": 41,
     "metadata": {},
     "output_type": "execute_result"
    }
   ],
   "source": [
    "df_actor.head(5)"
   ]
  },
  {
   "cell_type": "code",
   "execution_count": 42,
   "metadata": {},
   "outputs": [
    {
     "data": {
      "text/html": [
       "<div>\n",
       "<style scoped>\n",
       "    .dataframe tbody tr th:only-of-type {\n",
       "        vertical-align: middle;\n",
       "    }\n",
       "\n",
       "    .dataframe tbody tr th {\n",
       "        vertical-align: top;\n",
       "    }\n",
       "\n",
       "    .dataframe thead th {\n",
       "        text-align: right;\n",
       "    }\n",
       "</style>\n",
       "<table border=\"1\" class=\"dataframe\">\n",
       "  <thead>\n",
       "    <tr style=\"text-align: right;\">\n",
       "      <th></th>\n",
       "      <th>title</th>\n",
       "      <th>cast</th>\n",
       "    </tr>\n",
       "  </thead>\n",
       "  <tbody>\n",
       "    <tr>\n",
       "      <th>0</th>\n",
       "      <td>Dick Johnson Is Dead</td>\n",
       "      <td>Desconocido</td>\n",
       "    </tr>\n",
       "    <tr>\n",
       "      <th>1</th>\n",
       "      <td>Extraction</td>\n",
       "      <td>Bruce Willis</td>\n",
       "    </tr>\n",
       "    <tr>\n",
       "      <th>1</th>\n",
       "      <td>Extraction</td>\n",
       "      <td>Kellan Lutz</td>\n",
       "    </tr>\n",
       "    <tr>\n",
       "      <th>1</th>\n",
       "      <td>Extraction</td>\n",
       "      <td>Gina Carano</td>\n",
       "    </tr>\n",
       "    <tr>\n",
       "      <th>1</th>\n",
       "      <td>Extraction</td>\n",
       "      <td>D.B. Sweeney</td>\n",
       "    </tr>\n",
       "  </tbody>\n",
       "</table>\n",
       "</div>"
      ],
      "text/plain": [
       "                  title           cast\n",
       "0  Dick Johnson Is Dead    Desconocido\n",
       "1            Extraction   Bruce Willis\n",
       "1            Extraction    Kellan Lutz\n",
       "1            Extraction    Gina Carano\n",
       "1            Extraction   D.B. Sweeney"
      ]
     },
     "execution_count": 42,
     "metadata": {},
     "output_type": "execute_result"
    }
   ],
   "source": [
    "df_actor = df_actor[['title', 'cast']] \n",
    "df_actor.head()"
   ]
  },
  {
   "cell_type": "code",
   "execution_count": 43,
   "metadata": {},
   "outputs": [
    {
     "data": {
      "text/plain": [
       "['Kirsten Johnson',\n",
       " 'Steven C. Miller',\n",
       " 'Jakub Piątek',\n",
       " 'Julio Quintana',\n",
       " 'Paween Purijitpanya',\n",
       " 'Letizia Lamartire',\n",
       " 'Daniel Vernon',\n",
       " 'Zack Snyder',\n",
       " 'Kaashvie Nair',\n",
       " 'Cecilia Verheyden']"
      ]
     },
     "execution_count": 43,
     "metadata": {},
     "output_type": "execute_result"
    }
   ],
   "source": [
    "df['director'].unique().tolist()[:10]"
   ]
  },
  {
   "cell_type": "code",
   "execution_count": 44,
   "metadata": {},
   "outputs": [
    {
     "data": {
      "text/html": [
       "<div>\n",
       "<style scoped>\n",
       "    .dataframe tbody tr th:only-of-type {\n",
       "        vertical-align: middle;\n",
       "    }\n",
       "\n",
       "    .dataframe tbody tr th {\n",
       "        vertical-align: top;\n",
       "    }\n",
       "\n",
       "    .dataframe thead th {\n",
       "        text-align: right;\n",
       "    }\n",
       "</style>\n",
       "<table border=\"1\" class=\"dataframe\">\n",
       "  <thead>\n",
       "    <tr style=\"text-align: right;\">\n",
       "      <th></th>\n",
       "      <th>title</th>\n",
       "      <th>director</th>\n",
       "    </tr>\n",
       "  </thead>\n",
       "  <tbody>\n",
       "    <tr>\n",
       "      <th>0</th>\n",
       "      <td>Dick Johnson Is Dead</td>\n",
       "      <td>Kirsten Johnson</td>\n",
       "    </tr>\n",
       "    <tr>\n",
       "      <th>1</th>\n",
       "      <td>Extraction</td>\n",
       "      <td>Steven C. Miller</td>\n",
       "    </tr>\n",
       "    <tr>\n",
       "      <th>2</th>\n",
       "      <td>Prime Time</td>\n",
       "      <td>Jakub Piątek</td>\n",
       "    </tr>\n",
       "    <tr>\n",
       "      <th>3</th>\n",
       "      <td>Blue Miracle</td>\n",
       "      <td>Julio Quintana</td>\n",
       "    </tr>\n",
       "    <tr>\n",
       "      <th>4</th>\n",
       "      <td>Ghost Lab</td>\n",
       "      <td>Paween Purijitpanya</td>\n",
       "    </tr>\n",
       "    <tr>\n",
       "      <th>5</th>\n",
       "      <td>Baggio: The Divine Ponytail</td>\n",
       "      <td>Letizia Lamartire</td>\n",
       "    </tr>\n",
       "    <tr>\n",
       "      <th>6</th>\n",
       "      <td>Nail Bomber: Manhunt</td>\n",
       "      <td>Daniel Vernon</td>\n",
       "    </tr>\n",
       "    <tr>\n",
       "      <th>7</th>\n",
       "      <td>Army of the Dead</td>\n",
       "      <td>Zack Snyder</td>\n",
       "    </tr>\n",
       "    <tr>\n",
       "      <th>8</th>\n",
       "      <td>Sardar Ka Grandson</td>\n",
       "      <td>Kaashvie Nair</td>\n",
       "    </tr>\n",
       "    <tr>\n",
       "      <th>9</th>\n",
       "      <td>Ferry</td>\n",
       "      <td>Cecilia Verheyden</td>\n",
       "    </tr>\n",
       "    <tr>\n",
       "      <th>10</th>\n",
       "      <td>I Am All Girls</td>\n",
       "      <td>Donovan Marsh</td>\n",
       "    </tr>\n",
       "    <tr>\n",
       "      <th>11</th>\n",
       "      <td>The Woman in the Window</td>\n",
       "      <td>Joe Wright</td>\n",
       "    </tr>\n",
       "    <tr>\n",
       "      <th>12</th>\n",
       "      <td>Oxygen</td>\n",
       "      <td>Alexandre Aja</td>\n",
       "    </tr>\n",
       "    <tr>\n",
       "      <th>13</th>\n",
       "      <td>Milestone</td>\n",
       "      <td>Ivan Ayr</td>\n",
       "    </tr>\n",
       "    <tr>\n",
       "      <th>14</th>\n",
       "      <td>Monster</td>\n",
       "      <td>Anthony Mandler</td>\n",
       "    </tr>\n",
       "    <tr>\n",
       "      <th>15</th>\n",
       "      <td>The Disciple</td>\n",
       "      <td>Chaitanya Tamhane</td>\n",
       "    </tr>\n",
       "    <tr>\n",
       "      <th>16</th>\n",
       "      <td>Things Heard &amp; Seen</td>\n",
       "      <td>Robert Pulcini</td>\n",
       "    </tr>\n",
       "    <tr>\n",
       "      <th>16</th>\n",
       "      <td>Things Heard &amp; Seen</td>\n",
       "      <td>Shari Springer Berman</td>\n",
       "    </tr>\n",
       "    <tr>\n",
       "      <th>17</th>\n",
       "      <td>Get the Grift</td>\n",
       "      <td>Pedro Antonio</td>\n",
       "    </tr>\n",
       "    <tr>\n",
       "      <th>18</th>\n",
       "      <td>Ajeeb Daastaans</td>\n",
       "      <td>Shashank Khaitan</td>\n",
       "    </tr>\n",
       "  </tbody>\n",
       "</table>\n",
       "</div>"
      ],
      "text/plain": [
       "                          title                director\n",
       "0          Dick Johnson Is Dead         Kirsten Johnson\n",
       "1                    Extraction        Steven C. Miller\n",
       "2                    Prime Time            Jakub Piątek\n",
       "3                  Blue Miracle          Julio Quintana\n",
       "4                     Ghost Lab     Paween Purijitpanya\n",
       "5   Baggio: The Divine Ponytail       Letizia Lamartire\n",
       "6          Nail Bomber: Manhunt           Daniel Vernon\n",
       "7              Army of the Dead             Zack Snyder\n",
       "8            Sardar Ka Grandson           Kaashvie Nair\n",
       "9                         Ferry       Cecilia Verheyden\n",
       "10               I Am All Girls           Donovan Marsh\n",
       "11      The Woman in the Window              Joe Wright\n",
       "12                       Oxygen           Alexandre Aja\n",
       "13                    Milestone                Ivan Ayr\n",
       "14                      Monster         Anthony Mandler\n",
       "15                 The Disciple       Chaitanya Tamhane\n",
       "16          Things Heard & Seen          Robert Pulcini\n",
       "16          Things Heard & Seen   Shari Springer Berman\n",
       "17                Get the Grift           Pedro Antonio\n",
       "18              Ajeeb Daastaans        Shashank Khaitan"
      ]
     },
     "execution_count": 44,
     "metadata": {},
     "output_type": "execute_result"
    }
   ],
   "source": [
    "df['director'] = df['director'].str.split(',')\n",
    "df_director = df.explode('director')\n",
    "df_director = df_director[['title', 'director']]\n",
    "df_director.head(20)"
   ]
  },
  {
   "attachments": {},
   "cell_type": "markdown",
   "metadata": {},
   "source": [
    "los 10 actores que más salen en películas de netflix"
   ]
  },
  {
   "cell_type": "code",
   "execution_count": 45,
   "metadata": {},
   "outputs": [
    {
     "data": {
      "text/html": [
       "<div>\n",
       "<style scoped>\n",
       "    .dataframe tbody tr th:only-of-type {\n",
       "        vertical-align: middle;\n",
       "    }\n",
       "\n",
       "    .dataframe tbody tr th {\n",
       "        vertical-align: top;\n",
       "    }\n",
       "\n",
       "    .dataframe thead th {\n",
       "        text-align: right;\n",
       "    }\n",
       "</style>\n",
       "<table border=\"1\" class=\"dataframe\">\n",
       "  <thead>\n",
       "    <tr style=\"text-align: right;\">\n",
       "      <th></th>\n",
       "      <th>title</th>\n",
       "    </tr>\n",
       "    <tr>\n",
       "      <th>cast</th>\n",
       "      <th></th>\n",
       "    </tr>\n",
       "  </thead>\n",
       "  <tbody>\n",
       "    <tr>\n",
       "      <th>Desconocido</th>\n",
       "      <td>91</td>\n",
       "    </tr>\n",
       "    <tr>\n",
       "      <th>Adam Sandler</th>\n",
       "      <td>7</td>\n",
       "    </tr>\n",
       "    <tr>\n",
       "      <th>Maya Rudolph</th>\n",
       "      <td>6</td>\n",
       "    </tr>\n",
       "    <tr>\n",
       "      <th>Andrew Bachelor</th>\n",
       "      <td>5</td>\n",
       "    </tr>\n",
       "    <tr>\n",
       "      <th>Keegan-Michael Key</th>\n",
       "      <td>4</td>\n",
       "    </tr>\n",
       "    <tr>\n",
       "      <th>Robbie Amell</th>\n",
       "      <td>4</td>\n",
       "    </tr>\n",
       "    <tr>\n",
       "      <th>Jacki Weaver</th>\n",
       "      <td>4</td>\n",
       "    </tr>\n",
       "    <tr>\n",
       "      <th>Rob Schneider</th>\n",
       "      <td>4</td>\n",
       "    </tr>\n",
       "    <tr>\n",
       "      <th>Nick Swardson</th>\n",
       "      <td>4</td>\n",
       "    </tr>\n",
       "    <tr>\n",
       "      <th>Lakeith Stanfield</th>\n",
       "      <td>4</td>\n",
       "    </tr>\n",
       "  </tbody>\n",
       "</table>\n",
       "</div>"
      ],
      "text/plain": [
       "                     title\n",
       "cast                      \n",
       "Desconocido             91\n",
       "Adam Sandler             7\n",
       " Maya Rudolph            6\n",
       " Andrew Bachelor         5\n",
       " Keegan-Michael Key      4\n",
       " Robbie Amell            4\n",
       " Jacki Weaver            4\n",
       " Rob Schneider           4\n",
       " Nick Swardson           4\n",
       " Lakeith Stanfield       4"
      ]
     },
     "execution_count": 45,
     "metadata": {},
     "output_type": "execute_result"
    }
   ],
   "source": [
    "df_groupby_actr = df_actor.groupby(['cast']).count().sort_values(by='title', ascending=False)\n",
    "df_groupby_actr.head(10)"
   ]
  },
  {
   "cell_type": "code",
   "execution_count": 46,
   "metadata": {},
   "outputs": [],
   "source": [
    "top_10_actor = df_groupby_actr.iloc[1:11, :]#.reset_index()\n",
    "top_10_actor = top_10_actor.index.tolist()"
   ]
  },
  {
   "cell_type": "code",
   "execution_count": 47,
   "metadata": {},
   "outputs": [
    {
     "data": {
      "text/plain": [
       "['Adam Sandler',\n",
       " 'Maya Rudolph',\n",
       " 'Andrew Bachelor',\n",
       " 'Keegan-Michael Key',\n",
       " 'Robbie Amell',\n",
       " 'Jacki Weaver',\n",
       " 'Rob Schneider',\n",
       " 'Nick Swardson',\n",
       " 'Lakeith Stanfield',\n",
       " 'Zachary Quinto']"
      ]
     },
     "execution_count": 47,
     "metadata": {},
     "output_type": "execute_result"
    }
   ],
   "source": [
    "top_10_actor = [actor.strip() for actor in top_10_actor]\n",
    "top_10_actor"
   ]
  },
  {
   "cell_type": "code",
   "execution_count": 48,
   "metadata": {},
   "outputs": [
    {
     "data": {
      "text/plain": [
       "Desconocido           91\n",
       "Adam Sandler           7\n",
       " Maya Rudolph          6\n",
       " Andrew Bachelor       5\n",
       " Lakeith Stanfield     4\n",
       "                      ..\n",
       " Cree Cicchino         1\n",
       " Lucas Jaye            1\n",
       " Karla Souza           1\n",
       " Enuka Okuma           1\n",
       "David Sampliner        1\n",
       "Name: cast, Length: 3005, dtype: int64"
      ]
     },
     "execution_count": 48,
     "metadata": {},
     "output_type": "execute_result"
    }
   ],
   "source": [
    "## otra forma de hacerlo\n",
    "df_actor['cast'].value_counts()"
   ]
  },
  {
   "attachments": {},
   "cell_type": "markdown",
   "metadata": {},
   "source": [
    "voy a guardar actores"
   ]
  },
  {
   "cell_type": "code",
   "execution_count": 49,
   "metadata": {},
   "outputs": [],
   "source": [
    "## crea el archivo en formato pickle, para que luego lo tengamos disponible para otras veces\n",
    "with open('data/top_ten_actor.pickle', 'wb') as actor:\n",
    "    pickle.dump(top_10_actor, actor)"
   ]
  },
  {
   "cell_type": "code",
   "execution_count": 50,
   "metadata": {},
   "outputs": [
    {
     "data": {
      "text/html": [
       "<div>\n",
       "<style scoped>\n",
       "    .dataframe tbody tr th:only-of-type {\n",
       "        vertical-align: middle;\n",
       "    }\n",
       "\n",
       "    .dataframe tbody tr th {\n",
       "        vertical-align: top;\n",
       "    }\n",
       "\n",
       "    .dataframe thead th {\n",
       "        text-align: right;\n",
       "    }\n",
       "</style>\n",
       "<table border=\"1\" class=\"dataframe\">\n",
       "  <thead>\n",
       "    <tr style=\"text-align: right;\">\n",
       "      <th></th>\n",
       "      <th>title</th>\n",
       "      <th>director</th>\n",
       "    </tr>\n",
       "  </thead>\n",
       "  <tbody>\n",
       "    <tr>\n",
       "      <th>0</th>\n",
       "      <td>Dick Johnson Is Dead</td>\n",
       "      <td>Kirsten Johnson</td>\n",
       "    </tr>\n",
       "    <tr>\n",
       "      <th>1</th>\n",
       "      <td>Extraction</td>\n",
       "      <td>Steven C. Miller</td>\n",
       "    </tr>\n",
       "    <tr>\n",
       "      <th>2</th>\n",
       "      <td>Prime Time</td>\n",
       "      <td>Jakub Piątek</td>\n",
       "    </tr>\n",
       "    <tr>\n",
       "      <th>3</th>\n",
       "      <td>Blue Miracle</td>\n",
       "      <td>Julio Quintana</td>\n",
       "    </tr>\n",
       "    <tr>\n",
       "      <th>4</th>\n",
       "      <td>Ghost Lab</td>\n",
       "      <td>Paween Purijitpanya</td>\n",
       "    </tr>\n",
       "  </tbody>\n",
       "</table>\n",
       "</div>"
      ],
      "text/plain": [
       "                  title             director\n",
       "0  Dick Johnson Is Dead      Kirsten Johnson\n",
       "1            Extraction     Steven C. Miller\n",
       "2            Prime Time         Jakub Piątek\n",
       "3          Blue Miracle       Julio Quintana\n",
       "4             Ghost Lab  Paween Purijitpanya"
      ]
     },
     "execution_count": 50,
     "metadata": {},
     "output_type": "execute_result"
    }
   ],
   "source": [
    "df_director.head()"
   ]
  },
  {
   "cell_type": "code",
   "execution_count": 51,
   "metadata": {},
   "outputs": [
    {
     "data": {
      "text/html": [
       "<div>\n",
       "<style scoped>\n",
       "    .dataframe tbody tr th:only-of-type {\n",
       "        vertical-align: middle;\n",
       "    }\n",
       "\n",
       "    .dataframe tbody tr th {\n",
       "        vertical-align: top;\n",
       "    }\n",
       "\n",
       "    .dataframe thead th {\n",
       "        text-align: right;\n",
       "    }\n",
       "</style>\n",
       "<table border=\"1\" class=\"dataframe\">\n",
       "  <thead>\n",
       "    <tr style=\"text-align: right;\">\n",
       "      <th></th>\n",
       "      <th>index</th>\n",
       "      <th>director</th>\n",
       "    </tr>\n",
       "  </thead>\n",
       "  <tbody>\n",
       "    <tr>\n",
       "      <th>1</th>\n",
       "      <td>McG</td>\n",
       "      <td>3</td>\n",
       "    </tr>\n",
       "    <tr>\n",
       "      <th>2</th>\n",
       "      <td>Blair Simmons</td>\n",
       "      <td>2</td>\n",
       "    </tr>\n",
       "    <tr>\n",
       "      <th>3</th>\n",
       "      <td>John Schultz</td>\n",
       "      <td>2</td>\n",
       "    </tr>\n",
       "    <tr>\n",
       "      <th>4</th>\n",
       "      <td>Noah Baumbach</td>\n",
       "      <td>2</td>\n",
       "    </tr>\n",
       "    <tr>\n",
       "      <th>5</th>\n",
       "      <td>Karan Johar</td>\n",
       "      <td>2</td>\n",
       "    </tr>\n",
       "    <tr>\n",
       "      <th>6</th>\n",
       "      <td>Dibakar Banerjee</td>\n",
       "      <td>2</td>\n",
       "    </tr>\n",
       "    <tr>\n",
       "      <th>7</th>\n",
       "      <td>Julien Leclercq</td>\n",
       "      <td>2</td>\n",
       "    </tr>\n",
       "    <tr>\n",
       "      <th>8</th>\n",
       "      <td>Amy Poehler</td>\n",
       "      <td>2</td>\n",
       "    </tr>\n",
       "    <tr>\n",
       "      <th>9</th>\n",
       "      <td>Kyle Newacheck</td>\n",
       "      <td>2</td>\n",
       "    </tr>\n",
       "    <tr>\n",
       "      <th>10</th>\n",
       "      <td>Peter Sullivan</td>\n",
       "      <td>2</td>\n",
       "    </tr>\n",
       "  </tbody>\n",
       "</table>\n",
       "</div>"
      ],
      "text/plain": [
       "                index  director\n",
       "1                 McG         3\n",
       "2       Blair Simmons         2\n",
       "3        John Schultz         2\n",
       "4       Noah Baumbach         2\n",
       "5         Karan Johar         2\n",
       "6    Dibakar Banerjee         2\n",
       "7     Julien Leclercq         2\n",
       "8         Amy Poehler         2\n",
       "9      Kyle Newacheck         2\n",
       "10     Peter Sullivan         2"
      ]
     },
     "execution_count": 51,
     "metadata": {},
     "output_type": "execute_result"
    }
   ],
   "source": [
    "df_director_top = df_director['director'].value_counts().reset_index().iloc[1:11]\n",
    "df_director_top"
   ]
  },
  {
   "cell_type": "code",
   "execution_count": 52,
   "metadata": {},
   "outputs": [
    {
     "data": {
      "text/plain": [
       "['McG',\n",
       " 'Blair Simmons',\n",
       " 'John Schultz',\n",
       " 'Noah Baumbach',\n",
       " 'Karan Johar',\n",
       " 'Dibakar Banerjee',\n",
       " 'Julien Leclercq',\n",
       " 'Amy Poehler',\n",
       " 'Kyle Newacheck',\n",
       " 'Peter Sullivan']"
      ]
     },
     "execution_count": 52,
     "metadata": {},
     "output_type": "execute_result"
    }
   ],
   "source": [
    "top_10_director = [dire.strip() for dire in df_director_top['index'].tolist()]\n",
    "top_10_director"
   ]
  },
  {
   "cell_type": "code",
   "execution_count": 53,
   "metadata": {},
   "outputs": [
    {
     "data": {
      "text/plain": [
       "array(['Documentary', 'Action', 'Thriller', 'Drama', 'Horror', 'Biopic',\n",
       "       'Zombie/Heist', 'Comedy', 'Crime drama', 'Psychological thriller'],\n",
       "      dtype=object)"
      ]
     },
     "execution_count": 53,
     "metadata": {},
     "output_type": "execute_result"
    }
   ],
   "source": [
    "df['genre'].unique()[:10]"
   ]
  },
  {
   "cell_type": "code",
   "execution_count": 54,
   "metadata": {},
   "outputs": [],
   "source": [
    "df['genre'] = df['genre'].str.lower()"
   ]
  },
  {
   "cell_type": "code",
   "execution_count": 55,
   "metadata": {},
   "outputs": [
    {
     "data": {
      "text/plain": [
       "array(['documentary', 'action', 'thriller', 'drama', 'horror', 'biopic',\n",
       "       'zombie/heist', 'comedy', 'crime drama', 'psychological thriller'],\n",
       "      dtype=object)"
      ]
     },
     "execution_count": 55,
     "metadata": {},
     "output_type": "execute_result"
    }
   ],
   "source": [
    "df['genre'].unique()[:10]"
   ]
  },
  {
   "cell_type": "code",
   "execution_count": 56,
   "metadata": {},
   "outputs": [],
   "source": [
    "df['genre2'] = df['genre'].str.split('/')"
   ]
  },
  {
   "cell_type": "code",
   "execution_count": 57,
   "metadata": {},
   "outputs": [
    {
     "data": {
      "text/html": [
       "<div>\n",
       "<style scoped>\n",
       "    .dataframe tbody tr th:only-of-type {\n",
       "        vertical-align: middle;\n",
       "    }\n",
       "\n",
       "    .dataframe tbody tr th {\n",
       "        vertical-align: top;\n",
       "    }\n",
       "\n",
       "    .dataframe thead th {\n",
       "        text-align: right;\n",
       "    }\n",
       "</style>\n",
       "<table border=\"1\" class=\"dataframe\">\n",
       "  <thead>\n",
       "    <tr style=\"text-align: right;\">\n",
       "      <th></th>\n",
       "      <th>title</th>\n",
       "      <th>director</th>\n",
       "      <th>cast</th>\n",
       "      <th>country</th>\n",
       "      <th>date_added</th>\n",
       "      <th>rating</th>\n",
       "      <th>duration</th>\n",
       "      <th>genre</th>\n",
       "      <th>premiere</th>\n",
       "      <th>imdb_score</th>\n",
       "      <th>language</th>\n",
       "      <th>genre2</th>\n",
       "    </tr>\n",
       "  </thead>\n",
       "  <tbody>\n",
       "    <tr>\n",
       "      <th>0</th>\n",
       "      <td>Dick Johnson Is Dead</td>\n",
       "      <td>[Kirsten Johnson]</td>\n",
       "      <td>[Desconocido]</td>\n",
       "      <td>United States</td>\n",
       "      <td>2021-09-25</td>\n",
       "      <td>PG-13</td>\n",
       "      <td>90.0</td>\n",
       "      <td>documentary</td>\n",
       "      <td>2020-10-02</td>\n",
       "      <td>7.5</td>\n",
       "      <td>English</td>\n",
       "      <td>[documentary]</td>\n",
       "    </tr>\n",
       "    <tr>\n",
       "      <th>1</th>\n",
       "      <td>Extraction</td>\n",
       "      <td>[Steven C. Miller]</td>\n",
       "      <td>[Bruce Willis,  Kellan Lutz,  Gina Carano,  D....</td>\n",
       "      <td>United States, United Kingdom, Canada</td>\n",
       "      <td>2021-09-01</td>\n",
       "      <td>R</td>\n",
       "      <td>82.0</td>\n",
       "      <td>action</td>\n",
       "      <td>2020-04-24</td>\n",
       "      <td>6.7</td>\n",
       "      <td>English</td>\n",
       "      <td>[action]</td>\n",
       "    </tr>\n",
       "    <tr>\n",
       "      <th>2</th>\n",
       "      <td>Prime Time</td>\n",
       "      <td>[Jakub Piątek]</td>\n",
       "      <td>[Bartosz Bielenia,  Magdalena Popławska,  Andr...</td>\n",
       "      <td>Desconocido</td>\n",
       "      <td>2021-06-30</td>\n",
       "      <td>TV-MA</td>\n",
       "      <td>101.0</td>\n",
       "      <td>thriller</td>\n",
       "      <td>2021-04-14</td>\n",
       "      <td>5.7</td>\n",
       "      <td>Polish</td>\n",
       "      <td>[thriller]</td>\n",
       "    </tr>\n",
       "    <tr>\n",
       "      <th>3</th>\n",
       "      <td>Blue Miracle</td>\n",
       "      <td>[Julio Quintana]</td>\n",
       "      <td>[Jimmy Gonzales,  Dennis Quaid,  Anthony Gonza...</td>\n",
       "      <td>United States</td>\n",
       "      <td>2021-05-27</td>\n",
       "      <td>TV-PG</td>\n",
       "      <td>101.0</td>\n",
       "      <td>drama</td>\n",
       "      <td>2021-05-27</td>\n",
       "      <td>6.7</td>\n",
       "      <td>English</td>\n",
       "      <td>[drama]</td>\n",
       "    </tr>\n",
       "    <tr>\n",
       "      <th>4</th>\n",
       "      <td>Ghost Lab</td>\n",
       "      <td>[Paween Purijitpanya]</td>\n",
       "      <td>[Thanapob Leeratanakachorn,  Paris Intarakomal...</td>\n",
       "      <td>Thailand</td>\n",
       "      <td>2021-05-27</td>\n",
       "      <td>TV-MA</td>\n",
       "      <td>118.0</td>\n",
       "      <td>horror</td>\n",
       "      <td>2021-05-26</td>\n",
       "      <td>5.2</td>\n",
       "      <td>Thai</td>\n",
       "      <td>[horror]</td>\n",
       "    </tr>\n",
       "  </tbody>\n",
       "</table>\n",
       "</div>"
      ],
      "text/plain": [
       "                  title               director  \\\n",
       "0  Dick Johnson Is Dead      [Kirsten Johnson]   \n",
       "1            Extraction     [Steven C. Miller]   \n",
       "2            Prime Time         [Jakub Piątek]   \n",
       "3          Blue Miracle       [Julio Quintana]   \n",
       "4             Ghost Lab  [Paween Purijitpanya]   \n",
       "\n",
       "                                                cast  \\\n",
       "0                                      [Desconocido]   \n",
       "1  [Bruce Willis,  Kellan Lutz,  Gina Carano,  D....   \n",
       "2  [Bartosz Bielenia,  Magdalena Popławska,  Andr...   \n",
       "3  [Jimmy Gonzales,  Dennis Quaid,  Anthony Gonza...   \n",
       "4  [Thanapob Leeratanakachorn,  Paris Intarakomal...   \n",
       "\n",
       "                                 country date_added rating  duration  \\\n",
       "0                          United States 2021-09-25  PG-13      90.0   \n",
       "1  United States, United Kingdom, Canada 2021-09-01      R      82.0   \n",
       "2                            Desconocido 2021-06-30  TV-MA     101.0   \n",
       "3                          United States 2021-05-27  TV-PG     101.0   \n",
       "4                               Thailand 2021-05-27  TV-MA     118.0   \n",
       "\n",
       "         genre   premiere  imdb_score language         genre2  \n",
       "0  documentary 2020-10-02         7.5  English  [documentary]  \n",
       "1       action 2020-04-24         6.7  English       [action]  \n",
       "2     thriller 2021-04-14         5.7   Polish     [thriller]  \n",
       "3        drama 2021-05-27         6.7  English        [drama]  \n",
       "4       horror 2021-05-26         5.2     Thai       [horror]  "
      ]
     },
     "execution_count": 57,
     "metadata": {},
     "output_type": "execute_result"
    }
   ],
   "source": [
    "df.head()"
   ]
  },
  {
   "cell_type": "code",
   "execution_count": 58,
   "metadata": {},
   "outputs": [
    {
     "data": {
      "text/plain": [
       "Counter({'documentary': 132,\n",
       "         'action': 11,\n",
       "         'thriller': 37,\n",
       "         'drama': 77,\n",
       "         'horror': 12,\n",
       "         'biopic': 8,\n",
       "         'zombie': 1,\n",
       "         'heist': 2,\n",
       "         'comedy': 53,\n",
       "         'crime drama': 11,\n",
       "         'psychological thriller': 3,\n",
       "         'science fiction thriller': 1,\n",
       "         'animated musical comedy': 1,\n",
       "         'psychological thriller drama': 1,\n",
       "         'superhero-comedy': 1,\n",
       "         'romantic comedy': 36,\n",
       "         'christian musical': 1,\n",
       "         'hidden-camera prank comedy': 1,\n",
       "         'comedy-drama': 15,\n",
       "         'romantic teen drama': 1,\n",
       "         'romantic drama': 5,\n",
       "         'science fiction': 15,\n",
       "         'animation': 15,\n",
       "         'short': 5,\n",
       "         'superhero': 4,\n",
       "         'aftershow': 4,\n",
       "         'interview': 4,\n",
       "         'musical': 6,\n",
       "         'concert film': 1,\n",
       "         'christmas comedy': 1,\n",
       "         'stop motion': 1,\n",
       "         'family': 4,\n",
       "         'christmas musical': 1,\n",
       "         'anthology': 1,\n",
       "         'dark comedy': 3,\n",
       "         'mystery': 3,\n",
       "         'holiday': 1,\n",
       "         'variety show': 2,\n",
       "         'adventure': 7,\n",
       "         'romantic thriller': 1,\n",
       "         'fantasy': 4,\n",
       "         'horror comedy': 1,\n",
       "         'action comedy': 5,\n",
       "         'dance comedy': 1,\n",
       "         'romantic teenage drama': 1,\n",
       "         'musical comedy': 1,\n",
       "         'romance': 4,\n",
       "         'anime': 3,\n",
       "         'war drama': 2,\n",
       "         'heist film': 1,\n",
       "         'satire': 2,\n",
       "         'sports film': 1,\n",
       "         'political thriller': 1,\n",
       "         'horror anthology': 1,\n",
       "         'family film': 2,\n",
       "         'christmas': 2,\n",
       "         'adventure-romance': 1,\n",
       "         'historical drama': 1,\n",
       "         'coming-of-age comedy-drama': 1,\n",
       "         'spy thriller': 2,\n",
       "         'comedy mystery': 1,\n",
       "         'science fiction adventure': 1,\n",
       "         'horror-thriller': 2,\n",
       "         'action-thriller': 3,\n",
       "         'drama-comedy': 1,\n",
       "         'romance drama': 1,\n",
       "         'sports-drama': 3,\n",
       "         'one-man show': 3,\n",
       "         'psychological horror': 1,\n",
       "         'western': 4,\n",
       "         'historical-epic': 1,\n",
       "         'mentalism special': 1,\n",
       "         'black comedy': 2,\n",
       "         'teen comedy-drama': 1,\n",
       "         'biographical': 1,\n",
       "         'horror thriller': 3,\n",
       "         'urban fantasy': 1,\n",
       "         'action thriller': 1,\n",
       "         'teen comedy horror': 1,\n",
       "         'comedy horror': 1,\n",
       "         'action-adventure': 1,\n",
       "         'crime thriller': 1,\n",
       "         'war-comedy': 1,\n",
       "         'war': 2,\n",
       "         'mockumentary': 1})"
      ]
     },
     "execution_count": 58,
     "metadata": {},
     "output_type": "execute_result"
    }
   ],
   "source": [
    "## pa ver cuantos géneros hay, lo vamos a hacer con counter\n",
    "## el counter necesita strings, por lo que tenemos que iterar por las listas que tengo\n",
    "cuenta_generos = Counter(elementos.strip() for generos in df['genre2'] for elementos in generos)\n",
    "cuenta_generos"
   ]
  },
  {
   "cell_type": "code",
   "execution_count": 59,
   "metadata": {},
   "outputs": [
    {
     "data": {
      "text/plain": [
       "[('documentary', 132),\n",
       " ('drama', 77),\n",
       " ('comedy', 53),\n",
       " ('thriller', 37),\n",
       " ('romantic comedy', 36),\n",
       " ('comedy-drama', 15),\n",
       " ('science fiction', 15),\n",
       " ('animation', 15),\n",
       " ('horror', 12),\n",
       " ('action', 11)]"
      ]
     },
     "execution_count": 59,
     "metadata": {},
     "output_type": "execute_result"
    }
   ],
   "source": [
    "cuenta_generos.most_common(10)"
   ]
  },
  {
   "attachments": {},
   "cell_type": "markdown",
   "metadata": {},
   "source": [
    "vamos a ver si hay cosas en común entre los strings de géneros"
   ]
  },
  {
   "cell_type": "code",
   "execution_count": 60,
   "metadata": {},
   "outputs": [
    {
     "data": {
      "text/plain": [
       "38"
      ]
     },
     "execution_count": 60,
     "metadata": {},
     "output_type": "execute_result"
    }
   ],
   "source": [
    "fuzz.ratio('documentary', 'romantic comedy')"
   ]
  },
  {
   "cell_type": "code",
   "execution_count": 61,
   "metadata": {},
   "outputs": [
    {
     "data": {
      "text/plain": [
       "24"
      ]
     },
     "execution_count": 61,
     "metadata": {},
     "output_type": "execute_result"
    }
   ],
   "source": [
    "# (most common, mis generos))\n",
    "fuzz.ratio('documentary', 'patata')"
   ]
  },
  {
   "cell_type": "code",
   "execution_count": 64,
   "metadata": {},
   "outputs": [
    {
     "data": {
      "text/plain": [
       "{'documentary': 132,\n",
       " 'drama': 77,\n",
       " 'comedy': 53,\n",
       " 'thriller': 37,\n",
       " 'romantic comedy': 36,\n",
       " 'comedy-drama': 15,\n",
       " 'science fiction': 15,\n",
       " 'animation': 15,\n",
       " 'horror': 12,\n",
       " 'action': 11}"
      ]
     },
     "execution_count": 64,
     "metadata": {},
     "output_type": "execute_result"
    }
   ],
   "source": [
    "dict_generos = dict(cuenta_generos.most_common(10))\n",
    "dict_generos"
   ]
  },
  {
   "cell_type": "code",
   "execution_count": 80,
   "metadata": {},
   "outputs": [],
   "source": [
    "def sacar_parecido(col, diccionario_generos):   \n",
    "    maximo = 0\n",
    "    for key in diccionario_generos.keys():\n",
    "    #print(key)\n",
    "        #print(genero)\n",
    "        comparo = fuzz.ratio(key, col)\n",
    "        if comparo > maximo:\n",
    "            maximo = comparo\n",
    "            resultado = key\n",
    "    if maximo > 60:\n",
    "        return resultado\n",
    "    else:\n",
    "        return 'otro'"
   ]
  },
  {
   "cell_type": "code",
   "execution_count": 81,
   "metadata": {},
   "outputs": [
    {
     "data": {
      "text/plain": [
       "documentary        133\n",
       "otro                79\n",
       "drama               75\n",
       "romantic comedy     57\n",
       "comedy              50\n",
       "thriller            47\n",
       "comedy-drama        28\n",
       "science fiction     17\n",
       "horror              10\n",
       "animation           10\n",
       "action               7\n",
       "Name: genero, dtype: int64"
      ]
     },
     "execution_count": 81,
     "metadata": {},
     "output_type": "execute_result"
    }
   ],
   "source": [
    "df['genero'] = df.apply(lambda x: sacar_parecido(x['genre'], dict_generos), axis=1)\n",
    "df['genero'].value_counts()"
   ]
  },
  {
   "cell_type": "code",
   "execution_count": null,
   "metadata": {},
   "outputs": [],
   "source": []
  },
  {
   "cell_type": "code",
   "execution_count": null,
   "metadata": {},
   "outputs": [],
   "source": []
  },
  {
   "cell_type": "code",
   "execution_count": null,
   "metadata": {},
   "outputs": [],
   "source": []
  },
  {
   "cell_type": "code",
   "execution_count": null,
   "metadata": {},
   "outputs": [],
   "source": []
  },
  {
   "cell_type": "code",
   "execution_count": null,
   "metadata": {},
   "outputs": [],
   "source": []
  },
  {
   "attachments": {},
   "cell_type": "markdown",
   "metadata": {},
   "source": [
    "# ORIGINAL\n",
    "## Juntamos los dos dataframes"
   ]
  },
  {
   "cell_type": "code",
   "execution_count": null,
   "metadata": {},
   "outputs": [],
   "source": [
    "# juntamos los dos dataframes\n",
    "df = df_titulos.merge(df_original, left_on= \"title\", right_on=\"Title\", how=\"inner\")\n",
    "df.head(2)"
   ]
  },
  {
   "cell_type": "code",
   "execution_count": null,
   "metadata": {},
   "outputs": [],
   "source": [
    "\n",
    "# Dropping the columns that are not needed for the analysis.\n",
    "df.drop(['release_year', 'Runtime', 'description','Title', \"show_id\"], axis = 1, inplace=True)\n",
    "df.head(2)"
   ]
  },
  {
   "cell_type": "markdown",
   "metadata": {},
   "source": [
    "Tenemos columnas en mayúsculas y otras en minúsculas, y con espacios. Vamos a intentar homogeneizarlo:"
   ]
  },
  {
   "cell_type": "code",
   "execution_count": null,
   "metadata": {},
   "outputs": [],
   "source": [
    "columnas_nuevas = {col : col.replace(\" \", \"_\").lower() for col in df.columns}\n",
    "print(columnas_nuevas)"
   ]
  },
  {
   "cell_type": "code",
   "execution_count": null,
   "metadata": {},
   "outputs": [],
   "source": [
    "df.rename(columns = columnas_nuevas, inplace = True)\n",
    "df.head(2)"
   ]
  },
  {
   "cell_type": "markdown",
   "metadata": {},
   "source": [
    "# Análisis exploratorio"
   ]
  },
  {
   "cell_type": "code",
   "execution_count": null,
   "metadata": {},
   "outputs": [],
   "source": [
    "# Número de filas  y columnas del dataframe\n",
    "df.shape"
   ]
  },
  {
   "cell_type": "code",
   "execution_count": null,
   "metadata": {},
   "outputs": [],
   "source": [
    "# Información básica de cada una de las columnas del df\n",
    "df.info()"
   ]
  },
  {
   "cell_type": "code",
   "execution_count": null,
   "metadata": {},
   "outputs": [],
   "source": [
    "# Contamos el número de filas duplicadas del dataframe\n",
    "df.duplicated().sum()"
   ]
  },
  {
   "cell_type": "code",
   "execution_count": null,
   "metadata": {},
   "outputs": [],
   "source": [
    "# Contamos el número de nulos del dataframe\n",
    "df.isnull().sum()"
   ]
  },
  {
   "cell_type": "code",
   "execution_count": null,
   "metadata": {},
   "outputs": [],
   "source": [
    "# Principales estadísticos de las columnas numéricas\n",
    "df.describe().T"
   ]
  },
  {
   "cell_type": "code",
   "execution_count": null,
   "metadata": {},
   "outputs": [],
   "source": [
    "# Principales estadísticos de las columnas categóricas\n",
    "df.describe(include = \"object\").T"
   ]
  },
  {
   "cell_type": "markdown",
   "metadata": {},
   "source": [
    "Vemos que para la columna de `type` solo tenemos un tipo, ¿merece la pena entonces mantener esta columna? La verdad es que no, así que vamos a eliminarla"
   ]
  },
  {
   "cell_type": "code",
   "execution_count": null,
   "metadata": {},
   "outputs": [],
   "source": [
    "df.drop([\"type\"], axis = 1, inplace = True)\n",
    "df.head(2)"
   ]
  },
  {
   "cell_type": "markdown",
   "metadata": {},
   "source": [
    "Dentro del análisis exploratorio es importante conocer todas las variables, con las categóricas es importante ver todas las categorías que tenemos para cada una de ellas y cuáles son sus frecuencias. "
   ]
  },
  {
   "cell_type": "code",
   "execution_count": null,
   "metadata": {},
   "outputs": [],
   "source": [
    "# creemos un dataframe solo con las variables categóricas\n",
    "\n",
    "df_cat = df.select_dtypes(include = \"object\")\n",
    "df_cat.head()"
   ]
  },
  {
   "cell_type": "markdown",
   "metadata": {},
   "source": [
    "Si bien es cierto que hemos sacado todas la categóricas, ¿tiene sentido explorarlas todas? Podríamos pensar que variables como los títulos de cada peli no nos interesa, porque tienen demasiadas categorías. En este caso podremos eliminarlas de nuestro df_cat"
   ]
  },
  {
   "cell_type": "code",
   "execution_count": null,
   "metadata": {},
   "outputs": [],
   "source": [
    "df_cat.drop([\"title\"], axis = 1, inplace = True)\n",
    "df_cat.head()"
   ]
  },
  {
   "cell_type": "code",
   "execution_count": null,
   "metadata": {
    "scrolled": false
   },
   "outputs": [],
   "source": [
    "for columna in df_cat.columns:\n",
    "    print(f\"la cantidad de valores únicos para la columna {columna.upper()} son {len(df_cat[columna].unique())} y estos valores son\")\n",
    "    (display(pd.DataFrame(df_cat[columna].value_counts())))\n",
    "    print(\"---------------------------------------------\")"
   ]
  },
  {
   "cell_type": "markdown",
   "metadata": {},
   "source": [
    "Al ver todos los valores únicos podemos ver que las columnas de `lister_in` y `genre` nos dan la misma información, así que procedemos a eliminar una de ellas: "
   ]
  },
  {
   "cell_type": "code",
   "execution_count": null,
   "metadata": {},
   "outputs": [],
   "source": [
    "df.drop([\"listed_in\"], axis = 1, inplace = True)\n",
    "df.head(2)"
   ]
  },
  {
   "cell_type": "markdown",
   "metadata": {},
   "source": [
    "## Limpieza `director`, `cast`, `country`\n",
    "\n",
    "Estas columnas eran las que tenían valores nulos"
   ]
  },
  {
   "cell_type": "code",
   "execution_count": null,
   "metadata": {},
   "outputs": [],
   "source": [
    "df.isnull().sum()[df.isnull().sum() > 0]"
   ]
  },
  {
   "cell_type": "code",
   "execution_count": null,
   "metadata": {},
   "outputs": [],
   "source": [
    "# eliminamos los valores nulos de las columnas \"director\", \"cast\", \"country\" por Unknown\n",
    "df[[\"director\", \"cast\", \"country\"]]= df[[\"director\", \"cast\", \"country\"]].fillna(\"Unknown\")"
   ]
  },
  {
   "cell_type": "code",
   "execution_count": null,
   "metadata": {},
   "outputs": [],
   "source": [
    "df.head(2)"
   ]
  },
  {
   "cell_type": "markdown",
   "metadata": {},
   "source": [
    "Imagineos que queremos cambiar el orden de las columnas, cambiemos el orden usando el método `reindex`. "
   ]
  },
  {
   "cell_type": "code",
   "execution_count": null,
   "metadata": {},
   "outputs": [],
   "source": [
    "# creamos una lista con el nuevo orden que queremos\n",
    "new_order = ['title', 'director', 'cast', 'country', 'language', 'rating', 'genre',\n",
    "       'premiere', 'date_added', 'duration', 'imdb_score' ]\n",
    "\n",
    "# aplicamos el método reindex\n",
    "df = df.reindex(columns=new_order)\n",
    "df.head(2)"
   ]
  },
  {
   "cell_type": "markdown",
   "metadata": {},
   "source": [
    "# Limpiamos la columna de `duration` "
   ]
  },
  {
   "cell_type": "code",
   "execution_count": null,
   "metadata": {},
   "outputs": [],
   "source": [
    "# lo primero que hacemos es ver los valores únicos\n",
    "\n",
    "df[\"duration\"].unique()"
   ]
  },
  {
   "cell_type": "code",
   "execution_count": null,
   "metadata": {},
   "outputs": [],
   "source": [
    "# como todos los valores tienen la misma estructura, lo único que tenemos que hacer es quitarle el min. \n",
    "\n",
    "df[\"duration\"] = df[\"duration\"].str.split(\" \", expand = True).get(0)\n",
    "df.head()"
   ]
  },
  {
   "cell_type": "code",
   "execution_count": null,
   "metadata": {},
   "outputs": [],
   "source": [
    "# esta columna era de tipo object, veamos ahora si es de tipo numérico\n",
    "df.dtypes"
   ]
  },
  {
   "cell_type": "code",
   "execution_count": null,
   "metadata": {},
   "outputs": [],
   "source": [
    "# la columna \"duration\" sigue siendo de tipo object, pero esto no tiene sentido, convirtamosla a numérica\n",
    "df['duration'] = pd.to_numeric(df['duration'], errors='coerce')"
   ]
  },
  {
   "cell_type": "code",
   "execution_count": null,
   "metadata": {},
   "outputs": [],
   "source": [
    "# confirmamos la conversion de los valores\n",
    "df.dtypes"
   ]
  },
  {
   "cell_type": "code",
   "execution_count": null,
   "metadata": {},
   "outputs": [],
   "source": [
    "# para los nulos de duración, los reemplazaremos por la mediana\n",
    "df[df[\"duration\"].isnull()].head()\n",
    "\n"
   ]
  },
  {
   "cell_type": "code",
   "execution_count": null,
   "metadata": {},
   "outputs": [],
   "source": [
    "# en este caso sólo tenemos valores nulos en \"Movies\", por lo que necesitamos calcular la duración mediana para este tipo de información\n",
    "median_movies = df[\"duration\"].median()\n",
    "\n",
    "# Sustituir los valores nulos de la columna \"duration\" por el valor medio de la columna \"duración\" para el tipo \"Movie\".\n",
    "df[\"duration\"] = df[\"duration\"].fillna(median_movies)\n",
    "\n"
   ]
  },
  {
   "cell_type": "code",
   "execution_count": null,
   "metadata": {},
   "outputs": [],
   "source": [
    "# check the null values again\n",
    "df.isnull().sum()"
   ]
  },
  {
   "cell_type": "markdown",
   "metadata": {},
   "source": [
    "# Limpiamos `date_added` y `premiere`"
   ]
  },
  {
   "cell_type": "code",
   "execution_count": null,
   "metadata": {},
   "outputs": [],
   "source": [
    "df.head(2)"
   ]
  },
  {
   "cell_type": "code",
   "execution_count": null,
   "metadata": {},
   "outputs": [],
   "source": [
    "# convertimos al fecha a datetime\n",
    "df[\"premiere\"] = pd.to_datetime(df[ \"premiere\"])\n",
    "df[\"date_added\"] = pd.to_datetime(df[\"date_added\"])"
   ]
  },
  {
   "cell_type": "code",
   "execution_count": null,
   "metadata": {},
   "outputs": [],
   "source": [
    "# confirmamos la transformación\n",
    "df.dtypes"
   ]
  },
  {
   "cell_type": "code",
   "execution_count": null,
   "metadata": {},
   "outputs": [],
   "source": [
    "df.head(2)"
   ]
  },
  {
   "cell_type": "markdown",
   "metadata": {},
   "source": [
    "## Clean `cast` y `director`\n"
   ]
  },
  {
   "cell_type": "code",
   "execution_count": null,
   "metadata": {},
   "outputs": [],
   "source": [
    "df_act_dire = df.copy()"
   ]
  },
  {
   "cell_type": "code",
   "execution_count": null,
   "metadata": {},
   "outputs": [],
   "source": [
    "df[\"cast\"].unique().tolist()[1]"
   ]
  },
  {
   "cell_type": "code",
   "execution_count": null,
   "metadata": {},
   "outputs": [],
   "source": [
    "# lo primero que tenemos que hacer es separar cada ector y actriz\n",
    "\n",
    "df_act_dire[\"cast\"] = df_act_dire[\"cast\"].str.split(\",\")\n",
    "df_act_dire.head(2)"
   ]
  },
  {
   "cell_type": "code",
   "execution_count": null,
   "metadata": {},
   "outputs": [],
   "source": [
    "# separamos cada actor en una fila nueva\n",
    "df_actores = df_act_dire.explode(\"cast\")\n",
    "df_actores.head()"
   ]
  },
  {
   "cell_type": "markdown",
   "metadata": {},
   "source": [
    "Aplicamos la misma lógica para la columna de directores"
   ]
  },
  {
   "cell_type": "code",
   "execution_count": null,
   "metadata": {},
   "outputs": [],
   "source": [
    "df[\"director\"].unique().tolist()[16]"
   ]
  },
  {
   "cell_type": "code",
   "execution_count": null,
   "metadata": {},
   "outputs": [],
   "source": [
    "df_act_dire[\"director\"] = df_act_dire[\"director\"].str.split(\",\")\n",
    "df_act_dire.head(2)"
   ]
  },
  {
   "cell_type": "code",
   "execution_count": null,
   "metadata": {},
   "outputs": [],
   "source": [
    "# separamos cada actor en una fila nueva\n",
    "df_directores = df_act_dire.explode(\"director\")\n",
    "df_directores.head(3)"
   ]
  },
  {
   "cell_type": "markdown",
   "metadata": {},
   "source": [
    "## Limpiamos `genre` \n"
   ]
  },
  {
   "cell_type": "code",
   "execution_count": null,
   "metadata": {},
   "outputs": [],
   "source": [
    "# vemos los valores únicos\n",
    "\n",
    "print(df[\"genre\"].unique().tolist())"
   ]
  },
  {
   "cell_type": "code",
   "execution_count": null,
   "metadata": {},
   "outputs": [],
   "source": [
    "# para facilitar la limpieza lo primero qye hacemos es poner todos los géneros en minúscula\n",
    "\n",
    "df[\"genre\"] = df[\"genre\"].str.lower()"
   ]
  },
  {
   "cell_type": "code",
   "execution_count": null,
   "metadata": {},
   "outputs": [],
   "source": [
    "# comprobamos que están en minúsculas\n",
    "\n",
    "print(df[\"genre\"].unique().tolist())"
   ]
  },
  {
   "cell_type": "code",
   "execution_count": null,
   "metadata": {},
   "outputs": [],
   "source": [
    "df['genre2'] = df['genre'].str.split(\"/\")\n",
    "df.head(2)\n"
   ]
  },
  {
   "cell_type": "code",
   "execution_count": null,
   "metadata": {},
   "outputs": [],
   "source": [
    "# usando la librería Counter, calculamos los géneros más comunes.\n",
    "cuenta_generos = Counter(genres for genres in df['genre'])\n",
    "print(f\"Hay {len(cuenta_generos)} generos diferentes.\")"
   ]
  },
  {
   "cell_type": "code",
   "execution_count": null,
   "metadata": {},
   "outputs": [],
   "source": [
    "comunes = dict(cuenta_generos.most_common(10))\n",
    "comunes"
   ]
  },
  {
   "cell_type": "code",
   "execution_count": null,
   "metadata": {},
   "outputs": [],
   "source": [
    "fuzz.ratio('romantic comedy', \"documentary\")"
   ]
  },
  {
   "cell_type": "code",
   "execution_count": null,
   "metadata": {},
   "outputs": [],
   "source": [
    "def generos_(col, generos_comunes):\n",
    "    maximo = 0\n",
    "    for key in generos_comunes.keys():\n",
    "        parecido = fuzz.ratio(col, key)\n",
    "        if parecido > maximo:\n",
    "            maximo = parecido\n",
    "            genero = key\n",
    "            \n",
    "    # nos aseguramos de que los géneros se parezcan en al menos un 90%        \n",
    "    if maximo > 50:\n",
    "        return genero\n",
    "    else:\n",
    "        return \"Other\"\n",
    "            "
   ]
  },
  {
   "cell_type": "code",
   "execution_count": null,
   "metadata": {},
   "outputs": [],
   "source": [
    "df[\"genre2\"] = df.apply(lambda x: generos_(x[\"genre\"], comunes), axis = 1)"
   ]
  },
  {
   "cell_type": "code",
   "execution_count": null,
   "metadata": {},
   "outputs": [],
   "source": [
    "df[\"genre2\"].value_counts()"
   ]
  },
  {
   "cell_type": "markdown",
   "metadata": {},
   "source": [
    "# Top 10 directores y actores"
   ]
  },
  {
   "cell_type": "code",
   "execution_count": null,
   "metadata": {},
   "outputs": [],
   "source": [
    "df_actores.head()"
   ]
  },
  {
   "cell_type": "code",
   "execution_count": null,
   "metadata": {},
   "outputs": [],
   "source": [
    "top_actores = df_actores[\"cast\"].value_counts().reset_index()\n",
    "top_actores.head()"
   ]
  },
  {
   "cell_type": "code",
   "execution_count": null,
   "metadata": {},
   "outputs": [],
   "source": [
    "lista_top_actores = top_actores.iloc[1:11,:][\"index\"].tolist()\n",
    "lista_top_actores = [actor.strip() for actor in lista_top_actores]\n",
    "print(lista_top_actores)"
   ]
  },
  {
   "cell_type": "code",
   "execution_count": null,
   "metadata": {},
   "outputs": [],
   "source": [
    "df_directores.head(2)"
   ]
  },
  {
   "cell_type": "code",
   "execution_count": null,
   "metadata": {},
   "outputs": [],
   "source": [
    "top_directores = df_directores[\"director\"].value_counts().reset_index()\n",
    "top_directores.head()"
   ]
  },
  {
   "cell_type": "code",
   "execution_count": null,
   "metadata": {},
   "outputs": [],
   "source": [
    "lista_top_directores = top_directores.iloc[1:11,:][\"index\"].tolist()\n",
    "lista_top_directores = [director.strip() for director in lista_top_directores]\n",
    "print(lista_top_directores)"
   ]
  },
  {
   "cell_type": "code",
   "execution_count": null,
   "metadata": {},
   "outputs": [],
   "source": [
    "# guardamos estos resultados para usarlos mañana\n",
    "with open ('../data/pickle/top10_directors.pickle', \"wb\") as dire:\n",
    "    pickle.dump(lista_top_directores, dire)\n",
    "    \n",
    "with open ('../data/pickle/top10_actors.pickle', \"wb\") as acto:\n",
    "    pickle.dump(lista_top_actores, acto)"
   ]
  },
  {
   "cell_type": "code",
   "execution_count": null,
   "metadata": {},
   "outputs": [],
   "source": []
  }
 ],
 "metadata": {
  "kernelspec": {
   "display_name": "iron",
   "language": "python",
   "name": "python3"
  },
  "language_info": {
   "codemirror_mode": {
    "name": "ipython",
    "version": 3
   },
   "file_extension": ".py",
   "mimetype": "text/x-python",
   "name": "python",
   "nbconvert_exporter": "python",
   "pygments_lexer": "ipython3",
   "version": "3.9.13"
  },
  "toc": {
   "base_numbering": 1,
   "nav_menu": {},
   "number_sections": true,
   "sideBar": true,
   "skip_h1_title": false,
   "title_cell": "Table of Contents",
   "title_sidebar": "Contents",
   "toc_cell": false,
   "toc_position": {},
   "toc_section_display": true,
   "toc_window_display": false
  },
  "vscode": {
   "interpreter": {
    "hash": "e59d0b279e6461be5b4ea7b62838527cd8f41f3cbc9a1147b1a83b32d75ab689"
   }
  }
 },
 "nbformat": 4,
 "nbformat_minor": 2
}
