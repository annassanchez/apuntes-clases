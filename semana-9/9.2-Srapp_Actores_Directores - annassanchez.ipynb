{
 "cells": [
  {
   "cell_type": "code",
   "execution_count": 1,
   "metadata": {},
   "outputs": [],
   "source": [
    "import pickle"
   ]
  },
  {
   "attachments": {},
   "cell_type": "markdown",
   "metadata": {},
   "source": [
    "Importo mis datos de directores y actores de los que quiero sacar información:"
   ]
  },
  {
   "cell_type": "code",
   "execution_count": 2,
   "metadata": {},
   "outputs": [],
   "source": [
    "with open('data/top_ten_actor.pickle', 'rb') as actor:\n",
    "    actors = pickle.load(actor)\n",
    "with open('data/top_ten_director.pickle', 'rb') as director:\n",
    "    director = pickle.load(director)"
   ]
  },
  {
   "attachments": {},
   "cell_type": "markdown",
   "metadata": {},
   "source": [
    "Configuro Selenium:"
   ]
  },
  {
   "cell_type": "code",
   "execution_count": 3,
   "metadata": {},
   "outputs": [],
   "source": [
    "import requests\n",
    "import pandas as pd\n",
    "from time import sleep\n",
    "import numpy as np\n",
    "from tqdm import tqdm\n",
    "\n",
    "from selenium import webdriver\n",
    "from webdriver_manager.chrome import ChromeDriverManager\n",
    "from selenium.webdriver.common.keys import Keys\n",
    "from selenium.webdriver.chrome.options import Options\n",
    "import numpy as np\n",
    "\n",
    "import warnings\n",
    "warnings.filterwarnings('ignore')"
   ]
  },
  {
   "cell_type": "code",
   "execution_count": 4,
   "metadata": {},
   "outputs": [],
   "source": [
    "## opciones selenium\n",
    "opciones= Options()\n",
    "opciones.add_experimental_option('excludeSwitches', ['enable-automation'])\n",
    "#para ocultarme como robot\n",
    "opciones.add_experimental_option('useAutomationExtension', False)\n",
    "opciones.add_argument('--start-maximized') #empezar maximizado\n",
    "opciones.add_argument('user.data-dir=selenium') #guarda las cookies\n",
    "opciones.add_argument('--incognito')#incognito window"
   ]
  },
  {
   "attachments": {},
   "cell_type": "markdown",
   "metadata": {},
   "source": [
    "Voy a probar que pueda abrir la pestaña de selenium:"
   ]
  },
  {
   "cell_type": "code",
   "execution_count": 5,
   "metadata": {},
   "outputs": [],
   "source": [
    "driver = webdriver.Chrome(ChromeDriverManager().install())\n",
    "driver.get('https://chromedriver.chromium.org/downloads')"
   ]
  },
  {
   "attachments": {},
   "cell_type": "markdown",
   "metadata": {},
   "source": [
    "Voy a probar que me funcione la búsqueda de un elemento"
   ]
  },
  {
   "cell_type": "code",
   "execution_count": 12,
   "metadata": {},
   "outputs": [],
   "source": [
    "## iniciamos el web driver\n",
    "opciones= Options()\n",
    "opciones.add_argument(\"--start-maximized\")\n",
    "driver = webdriver.Chrome(ChromeDriverManager().install())\n",
    "driver.get('https://www.imdb.com/')\n",
    "driver.maximize_window()\n",
    "driver.set_window_size(1920, 1080)\n",
    "## te metes dentro de la página y con inspeccionar, seleccionas el elemento de las cookies --> copy / selector\n",
    "##por si tu ordenador es un poco lento, le puedes poner un tiempo para que intente hacerlo\n",
    "driver.implicitly_wait(30)\n",
    "## si quieres tardar más, le pones un sleep\n",
    "## sleep(20)\n",
    "#driver.find_element('css selector', '#truste-consent-button').click()\n",
    "sleep(1)\n",
    "## busco el nombre del actor que quiero buscar\n",
    "driver.find_element('css selector', '#suggestion-search').send_keys('Adam Sandler', Keys.TAB)\n",
    "driver.find_element('css selector', '#suggestion-search-button').click()\n",
    "## me meto en la página concreta que quiero sacar\n",
    "sleep(2)\n",
    "driver.find_element(\"xpath\", '//*[@id=\"__next\"]/main/div[2]/div[3]/section/div/div[1]/section[2]/div[2]/ul/li[1]/div[2]/div[1]/a').click()\n",
    "que_hace = driver.find_element('css selector', '#__next > main > div > section.ipc-page-background.ipc-page-background--base.sc-9b716f3b-0.hWwhTB > section > div:nth-child(4) > section > section > div.sc-d3e8adc5-3.kIpvxT > div > ul').text\n",
    "sleep(1)\n",
    "conocido_por = driver.find_element('css selector', '#__next > main > div > section.ipc-page-background.ipc-page-background--base.sc-9b716f3b-0.hWwhTB > div > section > div > div.sc-4253d404-1.hwVyrY.ipc-page-grid__item.ipc-page-grid__item--span-2 > div.celwidget > section:nth-child(1)').text\n",
    "driver.implicitly_wait(30)\n",
    "creditos = driver.find_element('css selector', '#__next > main > div > section.ipc-page-background.ipc-page-background--base.sc-9b716f3b-0.hWwhTB > div > section > div > div.sc-4253d404-1.hwVyrY.ipc-page-grid__item.ipc-page-grid__item--span-2 > div.celwidget > section:nth-child(2) > div.ipc-chip-list--base.ipc-chip-list.ipc-chip-list--nowrap.sc-2919cd96-0.hNbCTu.nm_flmg_chips > div.ipc-chip-list__scroller').text\n",
    "driver.find_element('xpath', '//*[@id=\"__next\"]/main/div/section[1]/section/div[3]/section/section/div[1]/div/div[2]/ul/li[1]/a').click()\n",
    "\n",
    "biografia = driver.find_element('css selector', '#bio_content > div:nth-child(9)').text"
   ]
  },
  {
   "attachments": {},
   "cell_type": "markdown",
   "metadata": {},
   "source": [
    "Voy a iterar por la lista de actores para que me guarde la info en un diccionario:"
   ]
  },
  {
   "cell_type": "code",
   "execution_count": 15,
   "metadata": {},
   "outputs": [],
   "source": [
    "actores = {\n",
    "    'name': [],\n",
    "    'que_hace': [],\n",
    "    'conocido_por': [],\n",
    "    'creditos':[],\n",
    "    'biografia': []\n",
    "}"
   ]
  },
  {
   "cell_type": "code",
   "execution_count": 16,
   "metadata": {},
   "outputs": [],
   "source": [
    "for actor in actors:\n",
    "    ## iniciamos el web driver\n",
    "    opciones= Options()\n",
    "    opciones.add_argument(\"--start-maximized\")\n",
    "    driver = webdriver.Chrome(ChromeDriverManager().install())\n",
    "    driver.get('https://www.imdb.com/')\n",
    "    driver.maximize_window()\n",
    "    driver.set_window_size(1920, 1080)\n",
    "    ## te metes dentro de la página y con inspeccionar, seleccionas el elemento de las cookies --> copy / selector\n",
    "    ##por si tu ordenador es un poco lento, le puedes poner un tiempo para que intente hacerlo\n",
    "    driver.implicitly_wait(30)\n",
    "    ## si quieres tardar más, le pones un sleep\n",
    "    ## sleep(20)\n",
    "    #driver.find_element('css selector', '#truste-consent-button').click()\n",
    "    sleep(1)\n",
    "    ## busco el nombre del actor que quiero buscar\n",
    "    actores['name'].append(actor) \n",
    "    driver.find_element('css selector', '#suggestion-search').send_keys(actor, Keys.TAB)\n",
    "    driver.find_element('css selector', '#suggestion-search-button').click()\n",
    "    ## me meto en la página concreta que quiero sacar\n",
    "    sleep(2)\n",
    "    driver.find_element(\"xpath\", '//*[@id=\"__next\"]/main/div[2]/div[3]/section/div/div[1]/section[2]/div[2]/ul/li[1]/div[2]/div[1]/a').click()\n",
    "    que_hace = driver.find_element('css selector', '#__next > main > div > section.ipc-page-background.ipc-page-background--base.sc-9b716f3b-0.hWwhTB > section > div:nth-child(4) > section > section > div.sc-d3e8adc5-3.kIpvxT > div > ul').text\n",
    "    actores['que_hace'].append(que_hace) \n",
    "    sleep(1)\n",
    "    conocido_por = driver.find_element('css selector', '#__next > main > div > section.ipc-page-background.ipc-page-background--base.sc-9b716f3b-0.hWwhTB > div > section > div > div.sc-4253d404-1.hwVyrY.ipc-page-grid__item.ipc-page-grid__item--span-2 > div.celwidget > section:nth-child(1)').text\n",
    "    actores['conocido_por'].append(conocido_por) \n",
    "    creditos = driver.find_element('css selector', '#__next > main > div > section.ipc-page-background.ipc-page-background--base.sc-9b716f3b-0.hWwhTB > div > section > div > div.sc-4253d404-1.hwVyrY.ipc-page-grid__item.ipc-page-grid__item--span-2 > div.celwidget > section:nth-child(2) > div.ipc-chip-list--base.ipc-chip-list.ipc-chip-list--nowrap.sc-2919cd96-0.hNbCTu.nm_flmg_chips > div.ipc-chip-list__scroller').text\n",
    "    actores['creditos'].append(creditos) \n",
    "    driver.implicitly_wait(30)\n",
    "    driver.find_element('xpath', '//*[@id=\"__next\"]/main/div/section[1]/section/div[3]/section/section/div[1]/div/div[2]/ul/li[1]/a').click()\n",
    "    biografia = driver.find_element('css selector', '#bio_content > div:nth-child(9)').text\n",
    "    actores['biografia'].append(biografia)"
   ]
  },
  {
   "cell_type": "code",
   "execution_count": 19,
   "metadata": {},
   "outputs": [
    {
     "data": {
      "text/plain": [
       "['Reparto84\\nProducción62\\nGuion29\\nBanda sonora34\\nGuion y continuidad7\\nComposición3\\nsonido de archivo2\\nMúsica1\\nComo sí mismos256\\nAgradecimientos10\\nmetraje de archivo80\\nIMDbPro',\n",
       " 'Reparto112\\nProducción10\\nGuion2\\nBanda sonora29\\nMúsica1\\nComo sí mismos120\\nAgradecimientos7\\nmetraje de archivo35\\nIMDbPro',\n",
       " 'Reparto89\\nDirección7\\nGuion4\\nProducción7\\nMúsica1\\nBanda sonora1\\nComo sí mismos35\\nIMDbPro',\n",
       " 'Reparto125\\nGuion6\\nProducción7\\nBanda sonora9\\nComo sí mismos146\\nAgradecimientos1\\nmetraje de archivo9\\nIMDbPro',\n",
       " 'Reparto54\\nProducción4\\nComo sí mismos27\\nAgradecimientos1\\nmetraje de archivo2\\nIMDbPro',\n",
       " 'Reparto94\\nBanda sonora5\\nComo sí mismos55\\nAgradecimientos1\\nmetraje de archivo5\\nIMDbPro',\n",
       " 'Reparto96\\nGuion14\\nProducción9\\nDirección6\\nBanda sonora6\\nEquipos adicionales2\\nsonido de archivo1\\nComo sí mismos152\\nAgradecimientos3\\nmetraje de archivo27\\nIMDbPro',\n",
       " 'Reparto77\\nGuion15\\nProducción11\\nGuion y continuidad1\\nEquipos adicionales1\\nBanda sonora1\\nComo sí mismos70\\nAgradecimientos1\\nmetraje de archivo2\\nIMDbPro',\n",
       " 'Reparto48\\nProducción5\\nBanda sonora5\\nComo sí mismos30\\nAgradecimientos1\\nmetraje de archivo2\\nIMDbPro',\n",
       " 'Reparto74\\nProducción31\\nGuion1\\nBanda sonora1\\nComo sí mismos142\\nAgradecimientos9\\nmetraje de archivo9\\nIMDbPro']"
      ]
     },
     "execution_count": 19,
     "metadata": {},
     "output_type": "execute_result"
    }
   ],
   "source": [
    "#actores['name'].append('Pepe')\n",
    "actores['creditos']"
   ]
  },
  {
   "cell_type": "code",
   "execution_count": null,
   "metadata": {},
   "outputs": [],
   "source": [
    "actores['name'][:3]"
   ]
  },
  {
   "attachments": {},
   "cell_type": "markdown",
   "metadata": {},
   "source": [
    "A limpiar una columna que no tengo"
   ]
  },
  {
   "cell_type": "code",
   "execution_count": null,
   "metadata": {},
   "outputs": [],
   "source": [
    "df_actores = pd.read_csv('data/actores.csv')\n",
    "df_directores = pd.read_csv('data/directores.csv')"
   ]
  },
  {
   "cell_type": "code",
   "execution_count": null,
   "metadata": {},
   "outputs": [],
   "source": [
    "df_actores.head(1)"
   ]
  },
  {
   "cell_type": "code",
   "execution_count": null,
   "metadata": {},
   "outputs": [],
   "source": [
    "import re"
   ]
  },
  {
   "cell_type": "code",
   "execution_count": null,
   "metadata": {},
   "outputs": [],
   "source": [
    "re.findall(\"[^0-9]\", df_actores['creditos'][0])[:3]"
   ]
  },
  {
   "cell_type": "code",
   "execution_count": null,
   "metadata": {},
   "outputs": [],
   "source": [
    "df_actores['creditos2'] = df_actores['creditos'].str.split('\\n')"
   ]
  },
  {
   "cell_type": "code",
   "execution_count": null,
   "metadata": {},
   "outputs": [],
   "source": [
    "lista_columnas = []\n",
    "for indice, row in df_actores.iterrows():\n",
    "    for valores in row['creditos2']:\n",
    "        #print(valores)\n",
    "        #print('---')\n",
    "        nombre_col = re.findall(\"[^0-9]+\", valores)[0]\n",
    "        #print(nombre_col)\n",
    "        if nombre_col not in df_actores.columns:\n",
    "            df_actores[nombre_col] = np.nan\n",
    "        else:\n",
    "            pass\n",
    "        #lista_columnas.extend(nombre_col)\n",
    "        df_actores.loc[indice, nombre_col] = re.findall(\"[0-9]+\", valores)[0]"
   ]
  },
  {
   "cell_type": "code",
   "execution_count": null,
   "metadata": {},
   "outputs": [],
   "source": [
    "df_actores.head()"
   ]
  }
 ],
 "metadata": {
  "kernelspec": {
   "display_name": "iron",
   "language": "python",
   "name": "python3"
  },
  "language_info": {
   "codemirror_mode": {
    "name": "ipython",
    "version": 3
   },
   "file_extension": ".py",
   "mimetype": "text/x-python",
   "name": "python",
   "nbconvert_exporter": "python",
   "pygments_lexer": "ipython3",
   "version": "3.9.13 (main, Oct 13 2022, 21:23:06) [MSC v.1916 64 bit (AMD64)]"
  },
  "orig_nbformat": 4,
  "vscode": {
   "interpreter": {
    "hash": "e59d0b279e6461be5b4ea7b62838527cd8f41f3cbc9a1147b1a83b32d75ab689"
   }
  }
 },
 "nbformat": 4,
 "nbformat_minor": 2
}
